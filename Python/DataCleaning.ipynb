{
 "cells": [
  {
   "cell_type": "code",
   "execution_count": 7,
   "metadata": {},
   "outputs": [
    {
     "name": "stdout",
     "output_type": "stream",
     "text": [
      "WARNING:tensorflow:From c:\\Users\\minhv\\anaconda3\\envs\\pytorch-env\\lib\\site-packages\\tf_keras\\src\\losses.py:2976: The name tf.losses.sparse_softmax_cross_entropy is deprecated. Please use tf.compat.v1.losses.sparse_softmax_cross_entropy instead.\n",
      "\n"
     ]
    }
   ],
   "source": [
    "import json\n",
    "import pandas as pd\n",
    "import numpy as np\n",
    "import csv\n",
    "import random\n",
    "import matplotlib.pyplot as plt\n",
    "import seaborn as sns\n",
    "from joypy import joyplot\n",
    "from matplotlib.cm import viridis\n",
    "import plotly.express as px\n",
    "import torch\n",
    "from transformers import T5Tokenizer, T5ForConditionalGeneration, Trainer, TrainingArguments\n",
    "from datasets import Dataset"
   ]
  },
  {
   "cell_type": "code",
   "execution_count": 8,
   "metadata": {},
   "outputs": [],
   "source": [
    "# import kagglehub\n",
    "# path = kagglehub.dataset_download(\"meryentr/text-to-sql\")\n",
    "# print(\"Path to dataset files:\", path)"
   ]
  },
  {
   "cell_type": "code",
   "execution_count": 9,
   "metadata": {},
   "outputs": [],
   "source": [
    "# import kagglehub\n",
    "# path = kagglehub.dataset_download(\"mohammadnouralawad/spider-text-sql\")\n",
    "# print(\"Path to dataset files:\", path)"
   ]
  },
  {
   "cell_type": "code",
   "execution_count": 10,
   "metadata": {},
   "outputs": [],
   "source": [
    "with open(r\"E:\\Project_MachineLearning_NguyenMinhVu\\Source\\Basic-text-to-SQL-conversion\\ViText2SQL-master\\ViText2SQL-master\\data\\syllable-level\\dev.json\", \"r\", encoding=\"utf-8\") as f1:\n",
    "    data1 = json.load(f1)\n",
    "DF_s1 = pd.DataFrame(data1)\n",
    "with open(r\"E:\\Project_MachineLearning_NguyenMinhVu\\Source\\Basic-text-to-SQL-conversion\\ViText2SQL-master\\ViText2SQL-master\\data\\syllable-level\\tables.json\", \"r\", encoding=\"utf-8\") as f2:\n",
    "    data2 = json.load(f2)\n",
    "DF_s2 = pd.DataFrame(data2)\n",
    "with open(r\"E:\\Project_MachineLearning_NguyenMinhVu\\Source\\Basic-text-to-SQL-conversion\\ViText2SQL-master\\ViText2SQL-master\\data\\syllable-level\\test.json\", \"r\", encoding=\"utf-8\") as f3:\n",
    "    data3 = json.load(f3)\n",
    "DF_s3 = pd.DataFrame(data3)\n",
    "with open(r\"E:\\Project_MachineLearning_NguyenMinhVu\\Source\\Basic-text-to-SQL-conversion\\ViText2SQL-master\\ViText2SQL-master\\data\\syllable-level\\train.json\", \"r\", encoding=\"utf-8\") as f4:\n",
    "    data4 = json.load(f4)\n",
    "DF_s4 = pd.DataFrame(data4)\n",
    "with open(r\"E:\\Project_MachineLearning_NguyenMinhVu\\Source\\Basic-text-to-SQL-conversion\\ViText2SQL-master\\ViText2SQL-master\\data\\word-level\\dev.json\", \"r\", encoding=\"utf-8\") as f5:\n",
    "    data5 = json.load(f5)\n",
    "DF_w1 = pd.DataFrame(data5)\n",
    "with open(r\"E:\\Project_MachineLearning_NguyenMinhVu\\Source\\Basic-text-to-SQL-conversion\\ViText2SQL-master\\ViText2SQL-master\\data\\word-level\\tables.json\", \"r\", encoding=\"utf-8\") as f6:\n",
    "    data6 = json.load(f6)\n",
    "DF_w2 = pd.DataFrame(data6)\n",
    "with open(r\"E:\\Project_MachineLearning_NguyenMinhVu\\Source\\Basic-text-to-SQL-conversion\\ViText2SQL-master\\ViText2SQL-master\\data\\word-level\\test.json\", \"r\", encoding=\"utf-8\") as f7:\n",
    "    data7 = json.load(f7)\n",
    "DF_w3 = pd.DataFrame(data7)\n",
    "with open(r\"E:\\Project_MachineLearning_NguyenMinhVu\\Source\\Basic-text-to-SQL-conversion\\ViText2SQL-master\\ViText2SQL-master\\data\\word-level\\train.json\", \"r\", encoding=\"utf-8\") as f8:\n",
    "    data8 = json.load(f8)\n",
    "DF_w4 = pd.DataFrame(data8)\n"
   ]
  },
  {
   "cell_type": "code",
   "execution_count": 11,
   "metadata": {},
   "outputs": [
    {
     "data": {
      "application/vnd.microsoft.datawrangler.viewer.v0+json": {
       "columns": [
        {
         "name": "index",
         "rawType": "int64",
         "type": "integer"
        },
        {
         "name": "Unnamed: 0",
         "rawType": "int64",
         "type": "integer"
        },
        {
         "name": "question",
         "rawType": "object",
         "type": "string"
        },
        {
         "name": "query",
         "rawType": "object",
         "type": "string"
        },
        {
         "name": "schema",
         "rawType": "object",
         "type": "string"
        }
       ],
       "ref": "3fe7974a-6cc9-453b-bf09-d93670bf3655",
       "rows": [
        [
         "0",
         "0",
         "What is the total number of addresses for each country, grouped by state/province/county?",
         "SELECT country, state_province_county, COUNT(*) AS total_addresses FROM addresses GROUP BY country, state_province_county;",
         "\nCREATE TABLE addresses (\n\taddress_id INTEGER, \n\tline_1 TEXT, \n\tline_2 TEXT, \n\tline_3 TEXT, \n\tcity TEXT, \n\tzip_postcode TEXT, \n\tstate_province_county TEXT, \n\tcountry TEXT, \n\tother_address_details TEXT\n)"
        ],
        [
         "1",
         "1",
         "Find all addresses in the United States that do not have a state/province/county specified.",
         "SELECT * FROM addresses WHERE country = 'United States' AND state_province_county IS NULL;",
         "\nCREATE TABLE addresses (\n\taddress_id INTEGER, \n\tline_1 TEXT, \n\tline_2 TEXT, \n\tline_3 TEXT, \n\tcity TEXT, \n\tzip_postcode TEXT, \n\tstate_province_county TEXT, \n\tcountry TEXT, \n\tother_address_details TEXT\n)"
        ],
        [
         "2",
         "2",
         "What is the count of addresses in Europe by city, sorted by the count in descending order?",
         "SELECT city, COUNT(*) AS address_count FROM addresses WHERE country = 'Europe' GROUP BY city ORDER BY address_count DESC;",
         "\nCREATE TABLE addresses (\n\taddress_id INTEGER, \n\tline_1 TEXT, \n\tline_2 TEXT, \n\tline_3 TEXT, \n\tcity TEXT, \n\tzip_postcode TEXT, \n\tstate_province_county TEXT, \n\tcountry TEXT, \n\tother_address_details TEXT\n)"
        ],
        [
         "3",
         "3",
         "Get a list of all countries, along with the number of addresses in each country.",
         "SELECT country, COUNT(*) AS address_count FROM addresses GROUP BY country;",
         "\nCREATE TABLE addresses (\n\taddress_id INTEGER, \n\tline_1 TEXT, \n\tline_2 TEXT, \n\tline_3 TEXT, \n\tcity TEXT, \n\tzip_postcode TEXT, \n\tstate_province_county TEXT, \n\tcountry TEXT, \n\tother_address_details TEXT\n)"
        ],
        [
         "4",
         "4",
         "What is the total number of addresses for each city in Japan?",
         "SELECT city, COUNT(*) AS total_addresses FROM addresses WHERE country = 'Japan' GROUP BY city;",
         "\nCREATE TABLE addresses (\n\taddress_id INTEGER, \n\tline_1 TEXT, \n\tline_2 TEXT, \n\tline_3 TEXT, \n\tcity TEXT, \n\tzip_postcode TEXT, \n\tstate_province_county TEXT, \n\tcountry TEXT, \n\tother_address_details TEXT\n)"
        ],
        [
         "5",
         "5",
         "Get a list of all lines of addresses for an address with the address_id=10",
         "SELECT other_address_details FROM addresses WHERE address_id=10;",
         "\nCREATE TABLE addresses (\n\taddress_id INTEGER, \n\tline_1 TEXT, \n\tline_2 TEXT, \n\tline_3 TEXT, \n\tcity TEXT, \n\tzip_postcode TEXT, \n\tstate_province_county TEXT, \n\tcountry TEXT, \n\tother_address_details TEXT\n)"
        ],
        [
         "6",
         "6",
         "What is the total number of addresses for each line_2 attribute in the addresses table?",
         "SELECT line_2, COUNT(*) AS total_addresses FROM addresses GROUP BY line_2;",
         "\nCREATE TABLE addresses (\n\taddress_id INTEGER, \n\tline_1 TEXT, \n\tline_2 TEXT, \n\tline_3 TEXT, \n\tcity TEXT, \n\tzip_postcode TEXT, \n\tstate_province_county TEXT, \n\tcountry TEXT, \n\tother_address_details TEXT\n)"
        ],
        [
         "7",
         "7",
         "Find all addresses in Asia-Pacific countries that have a state/province/county, sorted by country and line_1.",
         "SELECT * FROM addresses WHERE country IN ('Australia', 'China', 'Japan', 'South Korea', 'Taiwan') AND state_province_county IS NOT NULL ORDER BY country, line_1;",
         "\nCREATE TABLE addresses (\n\taddress_id INTEGER, \n\tline_1 TEXT, \n\tline_2 TEXT, \n\tline_3 TEXT, \n\tcity TEXT, \n\tzip_postcode TEXT, \n\tstate_province_county TEXT, \n\tcountry TEXT, \n\tother_address_details TEXT\n)"
        ],
        [
         "8",
         "8",
         "Get a list of all cities in France.",
         "SELECT DISTINCT city FROM addresses WHERE country = 'France';",
         "\nCREATE TABLE addresses (\n\taddress_id INTEGER, \n\tline_1 TEXT, \n\tline_2 TEXT, \n\tline_3 TEXT, \n\tcity TEXT, \n\tzip_postcode TEXT, \n\tstate_province_county TEXT, \n\tcountry TEXT, \n\tother_address_details TEXT\n)"
        ],
        [
         "9",
         "9",
         "What is the total number of addresses in the United States for each city?",
         "SELECT city, COUNT(*) AS total_addresses FROM addresses WHERE country = 'United States' GROUP BY city;",
         "\nCREATE TABLE addresses (\n\taddress_id INTEGER, \n\tline_1 TEXT, \n\tline_2 TEXT, \n\tline_3 TEXT, \n\tcity TEXT, \n\tzip_postcode TEXT, \n\tstate_province_county TEXT, \n\tcountry TEXT, \n\tother_address_details TEXT\n)"
        ],
        [
         "10",
         "10",
         "Get a list of all unique countries, sorted by country name.",
         "SELECT DISTINCT country FROM addresses ORDER BY country;",
         "\nCREATE TABLE addresses (\n\taddress_id INTEGER, \n\tline_1 TEXT, \n\tline_2 TEXT, \n\tline_3 TEXT, \n\tcity TEXT, \n\tzip_postcode TEXT, \n\tstate_province_county TEXT, \n\tcountry TEXT, \n\tother_address_details TEXT\n)"
        ],
        [
         "11",
         "11",
         "Find all addresses in the Americas that have a state/province/county and do not have a city specified.",
         "SELECT * FROM addresses WHERE country IN ('Canada', 'United States', 'Mexico') AND state_province_county IS NOT NULL AND city IS NULL;",
         "\nCREATE TABLE addresses (\n\taddress_id INTEGER, \n\tline_1 TEXT, \n\tline_2 TEXT, \n\tline_3 TEXT, \n\tcity TEXT, \n\tzip_postcode TEXT, \n\tstate_province_county TEXT, \n\tcountry TEXT, \n\tother_address_details TEXT\n)"
        ],
        [
         "12",
         "12",
         "Get a list of all cities in Germany, sorted by city name.",
         "SELECT DISTINCT city FROM addresses WHERE country = 'Germany' ORDER BY city;",
         "\nCREATE TABLE addresses (\n\taddress_id INTEGER, \n\tline_1 TEXT, \n\tline_2 TEXT, \n\tline_3 TEXT, \n\tcity TEXT, \n\tzip_postcode TEXT, \n\tstate_province_county TEXT, \n\tcountry TEXT, \n\tother_address_details TEXT\n)"
        ],
        [
         "13",
         "13",
         "Find all addresses in Latin America that have a state/province/county and do not have a city specified.",
         "SELECT * FROM addresses WHERE country IN ('Argentina', 'Brazil', 'Chile', 'Colombia', 'Mexico') AND state_province_county IS NOT NULL AND city IS NULL;",
         "\nCREATE TABLE addresses (\n\taddress_id INTEGER, \n\tline_1 TEXT, \n\tline_2 TEXT, \n\tline_3 TEXT, \n\tcity TEXT, \n\tzip_postcode TEXT, \n\tstate_province_county TEXT, \n\tcountry TEXT, \n\tother_address_details TEXT\n)"
        ],
        [
         "14",
         "14",
         "Get a list of all unique cities in the United States, sorted by city name.",
         "SELECT DISTINCT city FROM addresses WHERE country = 'United States' ORDER BY city;",
         "\nCREATE TABLE addresses (\n\taddress_id INTEGER, \n\tline_1 TEXT, \n\tline_2 TEXT, \n\tline_3 TEXT, \n\tcity TEXT, \n\tzip_postcode TEXT, \n\tstate_province_county TEXT, \n\tcountry TEXT, \n\tother_address_details TEXT\n)"
        ],
        [
         "15",
         "15",
         "What is the total number of addresses in the Middle East for each city?",
         "SELECT city, COUNT(*) AS total_addresses FROM addresses WHERE country IN ('Israel', 'United Arab Emirates', 'Iran', 'Turkey', 'Egypt') GROUP BY city;",
         "\nCREATE TABLE addresses (\n\taddress_id INTEGER, \n\tline_1 TEXT, \n\tline_2 TEXT, \n\tline_3 TEXT, \n\tcity TEXT, \n\tzip_postcode TEXT, \n\tstate_province_county TEXT, \n\tcountry TEXT, \n\tother_address_details TEXT\n)"
        ],
        [
         "16",
         "16",
         "Find all addresses in Africa that do not have a state/province/county specified.",
         "SELECT * FROM addresses WHERE country IN ('Nigeria', 'South Africa', 'Egypt', 'Morocco', 'Algeria') AND state_province_county IS NULL;",
         "\nCREATE TABLE addresses (\n\taddress_id INTEGER, \n\tline_1 TEXT, \n\tline_2 TEXT, \n\tline_3 TEXT, \n\tcity TEXT, \n\tzip_postcode TEXT, \n\tstate_province_county TEXT, \n\tcountry TEXT, \n\tother_address_details TEXT\n)"
        ],
        [
         "17",
         "17",
         "Get a list of all lines of addresses for an address with the address_id=20",
         "SELECT other_address_details FROM addresses WHERE address_id=20;",
         "\nCREATE TABLE addresses (\n\taddress_id INTEGER, \n\tline_1 TEXT, \n\tline_2 TEXT, \n\tline_3 TEXT, \n\tcity TEXT, \n\tzip_postcode TEXT, \n\tstate_province_county TEXT, \n\tcountry TEXT, \n\tother_address_details TEXT\n)"
        ],
        [
         "18",
         "18",
         "What is the total number of addresses in the United States for each state/province/county?",
         "SELECT state_province_county, COUNT(*) AS total_addresses FROM addresses WHERE country = 'United States' GROUP BY state_province_county;",
         "\nCREATE TABLE addresses (\n\taddress_id INTEGER, \n\tline_1 TEXT, \n\tline_2 TEXT, \n\tline_3 TEXT, \n\tcity TEXT, \n\tzip_postcode TEXT, \n\tstate_province_county TEXT, \n\tcountry TEXT, \n\tother_address_details TEXT\n)"
        ],
        [
         "19",
         "19",
         "Find all addresses in Europe that have a state/province/county and do not have a city specified.",
         "SELECT * FROM addresses WHERE country IN ('United Kingdom', 'Spain', 'France', 'Germany', 'Italy') AND state_province_county IS NOT NULL AND city IS NULL;",
         "\nCREATE TABLE addresses (\n\taddress_id INTEGER, \n\tline_1 TEXT, \n\tline_2 TEXT, \n\tline_3 TEXT, \n\tcity TEXT, \n\tzip_postcode TEXT, \n\tstate_province_county TEXT, \n\tcountry TEXT, \n\tother_address_details TEXT\n)"
        ],
        [
         "20",
         "21",
         "What is the total number of addresses in Asia for each country?",
         "SELECT country, COUNT(*) AS total_addresses FROM addresses WHERE country IN ('China', 'Japan', 'South Korea', 'Taiwan', 'India', 'Pakistan', 'China', 'Japan', 'South Korea', 'Taiwan') GROUP BY country;",
         "\nCREATE TABLE addresses (\n\taddress_id INTEGER, \n\tline_1 TEXT, \n\tline_2 TEXT, \n\tline_3 TEXT, \n\tcity TEXT, \n\tzip_postcode TEXT, \n\tstate_province_county TEXT, \n\tcountry TEXT, \n\tother_address_details TEXT\n)"
        ],
        [
         "21",
         "22",
         "Get a list of all cities in Australia, sorted by city name.",
         "SELECT DISTINCT city FROM addresses WHERE country = 'Australia' ORDER BY city;",
         "\nCREATE TABLE addresses (\n\taddress_id INTEGER, \n\tline_1 TEXT, \n\tline_2 TEXT, \n\tline_3 TEXT, \n\tcity TEXT, \n\tzip_postcode TEXT, \n\tstate_province_county TEXT, \n\tcountry TEXT, \n\tother_address_details TEXT\n)"
        ],
        [
         "22",
         "23",
         "Get a list of all unique cities in the Middle East, sorted by city name.",
         "SELECT DISTINCT city FROM addresses WHERE country IN ('Israel', 'United Arab Emirates', 'Iran', 'Turkey', 'Egypt') ORDER BY city;",
         "\nCREATE TABLE addresses (\n\taddress_id INTEGER, \n\tline_1 TEXT, \n\tline_2 TEXT, \n\tline_3 TEXT, \n\tcity TEXT, \n\tzip_postcode TEXT, \n\tstate_province_county TEXT, \n\tcountry TEXT, \n\tother_address_details TEXT\n)"
        ],
        [
         "23",
         "24",
         "Find all addresses in Africa that have a city specified.",
         "SELECT * FROM addresses WHERE country IN ('Nigeria', 'South Africa', 'Egypt', 'Morocco', 'Algeria') AND city IS NOT NULL;",
         "\nCREATE TABLE addresses (\n\taddress_id INTEGER, \n\tline_1 TEXT, \n\tline_2 TEXT, \n\tline_3 TEXT, \n\tcity TEXT, \n\tzip_postcode TEXT, \n\tstate_province_county TEXT, \n\tcountry TEXT, \n\tother_address_details TEXT\n)"
        ],
        [
         "24",
         "25",
         "Get a list of all lines of addresses for an address with the address_id=30",
         "SELECT other_address_details FROM addresses WHERE address_id=30;",
         "\nCREATE TABLE addresses (\n\taddress_id INTEGER, \n\tline_1 TEXT, \n\tline_2 TEXT, \n\tline_3 TEXT, \n\tcity TEXT, \n\tzip_postcode TEXT, \n\tstate_province_county TEXT, \n\tcountry TEXT, \n\tother_address_details TEXT\n)"
        ],
        [
         "25",
         "26",
         "Find all addresses in Europe that do not have a state/province/county specified.",
         "SELECT * FROM addresses WHERE country IN ('United Kingdom', 'Spain', 'France', 'Germany', 'Italy') AND state_province_county IS NULL;",
         "\nCREATE TABLE addresses (\n\taddress_id INTEGER, \n\tline_1 TEXT, \n\tline_2 TEXT, \n\tline_3 TEXT, \n\tcity TEXT, \n\tzip_postcode TEXT, \n\tstate_province_county TEXT, \n\tcountry TEXT, \n\tother_address_details TEXT\n)"
        ],
        [
         "26",
         "27",
         "What is the total number of addresses in Africa for each state/province/county?",
         "SELECT state_province_county, COUNT(*) AS total_addresses FROM addresses WHERE country IN ('Nigeria', 'South Africa', 'Egypt', 'Morocco', 'Algeria') GROUP BY state_province_county;",
         "\nCREATE TABLE addresses (\n\taddress_id INTEGER, \n\tline_1 TEXT, \n\tline_2 TEXT, \n\tline_3 TEXT, \n\tcity TEXT, \n\tzip_postcode TEXT, \n\tstate_province_county TEXT, \n\tcountry TEXT, \n\tother_address_details TEXT\n)"
        ],
        [
         "27",
         "28",
         "Get a list of all cities in Japan, sorted by city name.",
         "SELECT DISTINCT city FROM addresses WHERE country = 'Japan' ORDER BY city;",
         "\nCREATE TABLE addresses (\n\taddress_id INTEGER, \n\tline_1 TEXT, \n\tline_2 TEXT, \n\tline_3 TEXT, \n\tcity TEXT, \n\tzip_postcode TEXT, \n\tstate_province_county TEXT, \n\tcountry TEXT, \n\tother_address_details TEXT\n)"
        ],
        [
         "28",
         "29",
         "Find all addresses in Asia-Pacific countries that have a city specified.",
         "SELECT * FROM addresses WHERE country IN ('Australia', 'China', 'Japan', 'South Korea', 'Taiwan') AND city IS NOT NULL;",
         "\nCREATE TABLE addresses (\n\taddress_id INTEGER, \n\tline_1 TEXT, \n\tline_2 TEXT, \n\tline_3 TEXT, \n\tcity TEXT, \n\tzip_postcode TEXT, \n\tstate_province_county TEXT, \n\tcountry TEXT, \n\tother_address_details TEXT\n)"
        ],
        [
         "29",
         "30",
         "What is the total number of addresses in the Middle East for each line_2 attribute?",
         "SELECT line_2, COUNT(*) AS total_addresses FROM addresses WHERE country IN ('Israel', 'United Arab Emirates', 'Iran', 'Turkey', 'Egypt') GROUP BY line_2;",
         "\nCREATE TABLE addresses (\n\taddress_id INTEGER, \n\tline_1 TEXT, \n\tline_2 TEXT, \n\tline_3 TEXT, \n\tcity TEXT, \n\tzip_postcode TEXT, \n\tstate_province_county TEXT, \n\tcountry TEXT, \n\tother_address_details TEXT\n)"
        ],
        [
         "30",
         "31",
         "Get a list of all unique countries in Latin America, sorted by country name.",
         "SELECT DISTINCT country FROM addresses WHERE country IN ('Argentina', 'Brazil', 'Chile', 'Colombia', 'Mexico') ORDER BY country;",
         "\nCREATE TABLE addresses (\n\taddress_id INTEGER, \n\tline_1 TEXT, \n\tline_2 TEXT, \n\tline_3 TEXT, \n\tcity TEXT, \n\tzip_postcode TEXT, \n\tstate_province_county TEXT, \n\tcountry TEXT, \n\tother_address_details TEXT\n)"
        ],
        [
         "31",
         "32",
         "Find all addresses in Europe that have a city specified.",
         "SELECT * FROM addresses WHERE country IN ('United Kingdom', 'Spain', 'France', 'Germany', 'Italy') AND city IS NOT NULL;",
         "\nCREATE TABLE addresses (\n\taddress_id INTEGER, \n\tline_1 TEXT, \n\tline_2 TEXT, \n\tline_3 TEXT, \n\tcity TEXT, \n\tzip_postcode TEXT, \n\tstate_province_county TEXT, \n\tcountry TEXT, \n\tother_address_details TEXT\n)"
        ],
        [
         "32",
         "33",
         "Get a list of all cities in China, sorted by city name.",
         "SELECT DISTINCT city FROM addresses WHERE country = 'China' ORDER BY city;",
         "\nCREATE TABLE addresses (\n\taddress_id INTEGER, \n\tline_1 TEXT, \n\tline_2 TEXT, \n\tline_3 TEXT, \n\tcity TEXT, \n\tzip_postcode TEXT, \n\tstate_province_county TEXT, \n\tcountry TEXT, \n\tother_address_details TEXT\n)"
        ],
        [
         "33",
         "35",
         "Find all addresses in Asia-Pacific countries that do not have a state/province/county specified.",
         "SELECT * FROM addresses WHERE country IN ('Australia', 'China', 'Japan', 'South Korea', 'Taiwan') AND state_province_county IS NULL;",
         "\nCREATE TABLE addresses (\n\taddress_id INTEGER, \n\tline_1 TEXT, \n\tline_2 TEXT, \n\tline_3 TEXT, \n\tcity TEXT, \n\tzip_postcode TEXT, \n\tstate_province_county TEXT, \n\tcountry TEXT, \n\tother_address_details TEXT\n)"
        ],
        [
         "34",
         "36",
         "Get a list of all lines of addresses for an address with the address_id=25",
         "SELECT other_address_details FROM addresses WHERE address_id=25;",
         "\nCREATE TABLE addresses (\n\taddress_id INTEGER, \n\tline_1 TEXT, \n\tline_2 TEXT, \n\tline_3 TEXT, \n\tcity TEXT, \n\tzip_postcode TEXT, \n\tstate_province_county TEXT, \n\tcountry TEXT, \n\tother_address_details TEXT\n)"
        ],
        [
         "35",
         "37",
         "What is the total number of addresses for each city in the Americas?",
         "SELECT city, COUNT(*) AS total_addresses FROM addresses WHERE country IN ('Canada', 'United States', 'Mexico') GROUP BY city;",
         "\nCREATE TABLE addresses (\n\taddress_id INTEGER, \n\tline_1 TEXT, \n\tline_2 TEXT, \n\tline_3 TEXT, \n\tcity TEXT, \n\tzip_postcode TEXT, \n\tstate_province_county TEXT, \n\tcountry TEXT, \n\tother_address_details TEXT\n)"
        ],
        [
         "36",
         "38",
         "Get a list of all cities in South Korea, sorted by city name.",
         "SELECT DISTINCT city FROM addresses WHERE country = 'South Korea' ORDER BY city;",
         "\nCREATE TABLE addresses (\n\taddress_id INTEGER, \n\tline_1 TEXT, \n\tline_2 TEXT, \n\tline_3 TEXT, \n\tcity TEXT, \n\tzip_postcode TEXT, \n\tstate_province_county TEXT, \n\tcountry TEXT, \n\tother_address_details TEXT\n)"
        ],
        [
         "37",
         "39",
         "Get a list of all unique states/provinces/counties in the United States, sorted by state/province/county name.",
         "SELECT DISTINCT state_province_county FROM addresses WHERE country = 'United States' ORDER BY state_province_county;",
         "\nCREATE TABLE addresses (\n\taddress_id INTEGER, \n\tline_1 TEXT, \n\tline_2 TEXT, \n\tline_3 TEXT, \n\tcity TEXT, \n\tzip_postcode TEXT, \n\tstate_province_county TEXT, \n\tcountry TEXT, \n\tother_address_details TEXT\n)"
        ],
        [
         "38",
         "40",
         "What is the total number of addresses in Asia-Pacific countries that have a city specified?",
         "SELECT city, COUNT(*) AS total_addresses FROM addresses WHERE country IN ('Australia', 'China', 'Japan', 'South Korea', 'Taiwan') AND city IS NOT NULL GROUP BY city;",
         "\nCREATE TABLE addresses (\n\taddress_id INTEGER, \n\tline_1 TEXT, \n\tline_2 TEXT, \n\tline_3 TEXT, \n\tcity TEXT, \n\tzip_postcode TEXT, \n\tstate_province_county TEXT, \n\tcountry TEXT, \n\tother_address_details TEXT\n)"
        ],
        [
         "39",
         "41",
         "What is the total number of addresses in the Americas for each line_2 attribute?",
         "SELECT line_2, COUNT(*) AS total_addresses FROM addresses WHERE country IN ('Canada', 'United States', 'Mexico') GROUP BY line_2;",
         "\nCREATE TABLE addresses (\n\taddress_id INTEGER, \n\tline_1 TEXT, \n\tline_2 TEXT, \n\tline_3 TEXT, \n\tcity TEXT, \n\tzip_postcode TEXT, \n\tstate_province_county TEXT, \n\tcountry TEXT, \n\tother_address_details TEXT\n)"
        ],
        [
         "40",
         "42",
         "Get a list of all unique cities in Asia-Pacific countries, sorted by city name.",
         "SELECT DISTINCT city FROM addresses WHERE country IN ('Australia', 'China', 'Japan', 'South Korea', 'Taiwan') ORDER BY city;",
         "\nCREATE TABLE addresses (\n\taddress_id INTEGER, \n\tline_1 TEXT, \n\tline_2 TEXT, \n\tline_3 TEXT, \n\tcity TEXT, \n\tzip_postcode TEXT, \n\tstate_province_county TEXT, \n\tcountry TEXT, \n\tother_address_details TEXT\n)"
        ],
        [
         "41",
         "43",
         "What is the total number of addresses for each state/province/county in the Americas?",
         "SELECT state_province_county, COUNT(*) AS total_addresses FROM addresses WHERE country IN ('Canada', 'United States', 'Mexico') GROUP BY state_province_county;",
         "\nCREATE TABLE addresses (\n\taddress_id INTEGER, \n\tline_1 TEXT, \n\tline_2 TEXT, \n\tline_3 TEXT, \n\tcity TEXT, \n\tzip_postcode TEXT, \n\tstate_province_county TEXT, \n\tcountry TEXT, \n\tother_address_details TEXT\n)"
        ],
        [
         "42",
         "44",
         "Give me all rows for an address with the address_id=10",
         "SELECT * FROM addresses WHERE address_id=10;",
         "\nCREATE TABLE addresses (\n\taddress_id INTEGER, \n\tline_1 TEXT, \n\tline_2 TEXT, \n\tline_3 TEXT, \n\tcity TEXT, \n\tzip_postcode TEXT, \n\tstate_province_county TEXT, \n\tcountry TEXT, \n\tother_address_details TEXT\n)"
        ],
        [
         "43",
         "45",
         "Find all addresses in Europe that do not have a city specified.",
         "SELECT * FROM addresses WHERE country IN ('United Kingdom', 'Spain', 'France', 'Germany', 'Italy') AND city IS NULL;",
         "\nCREATE TABLE addresses (\n\taddress_id INTEGER, \n\tline_1 TEXT, \n\tline_2 TEXT, \n\tline_3 TEXT, \n\tcity TEXT, \n\tzip_postcode TEXT, \n\tstate_province_county TEXT, \n\tcountry TEXT, \n\tother_address_details TEXT\n)"
        ],
        [
         "44",
         "46",
         "Get a list of all cities in India, sorted by city name.",
         "SELECT DISTINCT city FROM addresses WHERE country = 'India' ORDER BY city;",
         "\nCREATE TABLE addresses (\n\taddress_id INTEGER, \n\tline_1 TEXT, \n\tline_2 TEXT, \n\tline_3 TEXT, \n\tcity TEXT, \n\tzip_postcode TEXT, \n\tstate_province_county TEXT, \n\tcountry TEXT, \n\tother_address_details TEXT\n)"
        ],
        [
         "45",
         "47",
         "Get a list of all cities in Pakistan, sorted by city name.",
         "SELECT DISTINCT city FROM addresses WHERE country = 'Pakistan' ORDER BY city;",
         "\nCREATE TABLE addresses (\n\taddress_id INTEGER, \n\tline_1 TEXT, \n\tline_2 TEXT, \n\tline_3 TEXT, \n\tcity TEXT, \n\tzip_postcode TEXT, \n\tstate_province_county TEXT, \n\tcountry TEXT, \n\tother_address_details TEXT\n)"
        ],
        [
         "46",
         "48",
         "What is the total number of addresses in the Middle East for each city, sorted by the count in descending order?",
         "SELECT city, COUNT(*) AS total_addresses FROM addresses WHERE country IN ('Israel', 'United Arab Emirates', 'Iran', 'Turkey', 'Egypt') GROUP BY city ORDER BY total_addresses DESC;",
         "\nCREATE TABLE addresses (\n\taddress_id INTEGER, \n\tline_1 TEXT, \n\tline_2 TEXT, \n\tline_3 TEXT, \n\tcity TEXT, \n\tzip_postcode TEXT, \n\tstate_province_county TEXT, \n\tcountry TEXT, \n\tother_address_details TEXT\n)"
        ],
        [
         "47",
         "49",
         "Get a list of all unique lines of addresses for all addresses in the United States.",
         "SELECT DISTINCT other_address_details FROM addresses WHERE country = 'United States';",
         "\nCREATE TABLE addresses (\n\taddress_id INTEGER, \n\tline_1 TEXT, \n\tline_2 TEXT, \n\tline_3 TEXT, \n\tcity TEXT, \n\tzip_postcode TEXT, \n\tstate_province_county TEXT, \n\tcountry TEXT, \n\tother_address_details TEXT\n)"
        ],
        [
         "48",
         "50",
         "Get a list of all lines of addresses for an address with the address_id=40",
         "SELECT other_address_details FROM addresses WHERE address_id=40;",
         "\nCREATE TABLE addresses (\n\taddress_id INTEGER, \n\tline_1 TEXT, \n\tline_2 TEXT, \n\tline_3 TEXT, \n\tcity TEXT, \n\tzip_postcode TEXT, \n\tstate_province_county TEXT, \n\tcountry TEXT, \n\tother_address_details TEXT\n)"
        ],
        [
         "49",
         "51",
         "What is the total number of addresses for each city in Asia-Pacific countries?",
         "SELECT city, COUNT(*) AS total_addresses FROM addresses WHERE country IN ('Australia', 'China', 'Japan', 'South Korea', 'Taiwan') GROUP BY city;",
         "\nCREATE TABLE addresses (\n\taddress_id INTEGER, \n\tline_1 TEXT, \n\tline_2 TEXT, \n\tline_3 TEXT, \n\tcity TEXT, \n\tzip_postcode TEXT, \n\tstate_province_county TEXT, \n\tcountry TEXT, \n\tother_address_details TEXT\n)"
        ]
       ],
       "shape": {
        "columns": 4,
        "rows": 65354
       }
      },
      "text/html": [
       "<div>\n",
       "<style scoped>\n",
       "    .dataframe tbody tr th:only-of-type {\n",
       "        vertical-align: middle;\n",
       "    }\n",
       "\n",
       "    .dataframe tbody tr th {\n",
       "        vertical-align: top;\n",
       "    }\n",
       "\n",
       "    .dataframe thead th {\n",
       "        text-align: right;\n",
       "    }\n",
       "</style>\n",
       "<table border=\"1\" class=\"dataframe\">\n",
       "  <thead>\n",
       "    <tr style=\"text-align: right;\">\n",
       "      <th></th>\n",
       "      <th>Unnamed: 0</th>\n",
       "      <th>question</th>\n",
       "      <th>query</th>\n",
       "      <th>schema</th>\n",
       "    </tr>\n",
       "  </thead>\n",
       "  <tbody>\n",
       "    <tr>\n",
       "      <th>0</th>\n",
       "      <td>0</td>\n",
       "      <td>What is the total number of addresses for each...</td>\n",
       "      <td>SELECT country, state_province_county, COUNT(*...</td>\n",
       "      <td>\\nCREATE TABLE addresses (\\n\\taddress_id INTEG...</td>\n",
       "    </tr>\n",
       "    <tr>\n",
       "      <th>1</th>\n",
       "      <td>1</td>\n",
       "      <td>Find all addresses in the United States that d...</td>\n",
       "      <td>SELECT * FROM addresses WHERE country = 'Unite...</td>\n",
       "      <td>\\nCREATE TABLE addresses (\\n\\taddress_id INTEG...</td>\n",
       "    </tr>\n",
       "    <tr>\n",
       "      <th>2</th>\n",
       "      <td>2</td>\n",
       "      <td>What is the count of addresses in Europe by ci...</td>\n",
       "      <td>SELECT city, COUNT(*) AS address_count FROM ad...</td>\n",
       "      <td>\\nCREATE TABLE addresses (\\n\\taddress_id INTEG...</td>\n",
       "    </tr>\n",
       "    <tr>\n",
       "      <th>3</th>\n",
       "      <td>3</td>\n",
       "      <td>Get a list of all countries, along with the nu...</td>\n",
       "      <td>SELECT country, COUNT(*) AS address_count FROM...</td>\n",
       "      <td>\\nCREATE TABLE addresses (\\n\\taddress_id INTEG...</td>\n",
       "    </tr>\n",
       "    <tr>\n",
       "      <th>4</th>\n",
       "      <td>4</td>\n",
       "      <td>What is the total number of addresses for each...</td>\n",
       "      <td>SELECT city, COUNT(*) AS total_addresses FROM ...</td>\n",
       "      <td>\\nCREATE TABLE addresses (\\n\\taddress_id INTEG...</td>\n",
       "    </tr>\n",
       "    <tr>\n",
       "      <th>...</th>\n",
       "      <td>...</td>\n",
       "      <td>...</td>\n",
       "      <td>...</td>\n",
       "      <td>...</td>\n",
       "    </tr>\n",
       "    <tr>\n",
       "      <th>65349</th>\n",
       "      <td>79952</td>\n",
       "      <td>What are the languages spoken in the country o...</td>\n",
       "      <td>SELECT language FROM countrylanguage WHERE cou...</td>\n",
       "      <td>\\nCREATE TABLE city (\\n\\tcity_id INTEGER, \\n\\t...</td>\n",
       "    </tr>\n",
       "    <tr>\n",
       "      <th>65350</th>\n",
       "      <td>79953</td>\n",
       "      <td>What is the city with the highest GDP in the S...</td>\n",
       "      <td>SELECT city, gdp FROM city WHERE hanzi LIKE 'S...</td>\n",
       "      <td>\\nCREATE TABLE city (\\n\\tcity_id INTEGER, \\n\\t...</td>\n",
       "    </tr>\n",
       "    <tr>\n",
       "      <th>65351</th>\n",
       "      <td>79955</td>\n",
       "      <td>What is the average population of cities in th...</td>\n",
       "      <td>SELECT AVG(regional_population) FROM city WHER...</td>\n",
       "      <td>\\nCREATE TABLE city (\\n\\tcity_id INTEGER, \\n\\t...</td>\n",
       "    </tr>\n",
       "    <tr>\n",
       "      <th>65352</th>\n",
       "      <td>79956</td>\n",
       "      <td>Which country has the highest GDP among countr...</td>\n",
       "      <td>SELECT country_name, SUM(gdp) AS total_gdp FRO...</td>\n",
       "      <td>\\nCREATE TABLE city (\\n\\tcity_id INTEGER, \\n\\t...</td>\n",
       "    </tr>\n",
       "    <tr>\n",
       "      <th>65353</th>\n",
       "      <td>79957</td>\n",
       "      <td>What are the total number of matches played by...</td>\n",
       "      <td>SELECT p.first_name, p.last_name, COUNT(*) AS ...</td>\n",
       "      <td>\\nCREATE TABLE matches (\\n\\tbest_of INTEGER, \\...</td>\n",
       "    </tr>\n",
       "  </tbody>\n",
       "</table>\n",
       "<p>65354 rows × 4 columns</p>\n",
       "</div>"
      ],
      "text/plain": [
       "       Unnamed: 0                                           question  \\\n",
       "0               0  What is the total number of addresses for each...   \n",
       "1               1  Find all addresses in the United States that d...   \n",
       "2               2  What is the count of addresses in Europe by ci...   \n",
       "3               3  Get a list of all countries, along with the nu...   \n",
       "4               4  What is the total number of addresses for each...   \n",
       "...           ...                                                ...   \n",
       "65349       79952  What are the languages spoken in the country o...   \n",
       "65350       79953  What is the city with the highest GDP in the S...   \n",
       "65351       79955  What is the average population of cities in th...   \n",
       "65352       79956  Which country has the highest GDP among countr...   \n",
       "65353       79957  What are the total number of matches played by...   \n",
       "\n",
       "                                                   query  \\\n",
       "0      SELECT country, state_province_county, COUNT(*...   \n",
       "1      SELECT * FROM addresses WHERE country = 'Unite...   \n",
       "2      SELECT city, COUNT(*) AS address_count FROM ad...   \n",
       "3      SELECT country, COUNT(*) AS address_count FROM...   \n",
       "4      SELECT city, COUNT(*) AS total_addresses FROM ...   \n",
       "...                                                  ...   \n",
       "65349  SELECT language FROM countrylanguage WHERE cou...   \n",
       "65350  SELECT city, gdp FROM city WHERE hanzi LIKE 'S...   \n",
       "65351  SELECT AVG(regional_population) FROM city WHER...   \n",
       "65352  SELECT country_name, SUM(gdp) AS total_gdp FRO...   \n",
       "65353  SELECT p.first_name, p.last_name, COUNT(*) AS ...   \n",
       "\n",
       "                                                  schema  \n",
       "0      \\nCREATE TABLE addresses (\\n\\taddress_id INTEG...  \n",
       "1      \\nCREATE TABLE addresses (\\n\\taddress_id INTEG...  \n",
       "2      \\nCREATE TABLE addresses (\\n\\taddress_id INTEG...  \n",
       "3      \\nCREATE TABLE addresses (\\n\\taddress_id INTEG...  \n",
       "4      \\nCREATE TABLE addresses (\\n\\taddress_id INTEG...  \n",
       "...                                                  ...  \n",
       "65349  \\nCREATE TABLE city (\\n\\tcity_id INTEGER, \\n\\t...  \n",
       "65350  \\nCREATE TABLE city (\\n\\tcity_id INTEGER, \\n\\t...  \n",
       "65351  \\nCREATE TABLE city (\\n\\tcity_id INTEGER, \\n\\t...  \n",
       "65352  \\nCREATE TABLE city (\\n\\tcity_id INTEGER, \\n\\t...  \n",
       "65353  \\nCREATE TABLE matches (\\n\\tbest_of INTEGER, \\...  \n",
       "\n",
       "[65354 rows x 4 columns]"
      ]
     },
     "execution_count": 11,
     "metadata": {},
     "output_type": "execute_result"
    }
   ],
   "source": [
    "DFSQL2 = pd.read_csv(r\"E:\\Project_MachineLearning_NguyenMinhVu\\Source\\Basic-text-to-SQL-conversion\\T2SQL2\\spider_text_sql.csv\")\n",
    "DFSQL1 = pd.read_csv(r\"E:\\Project_MachineLearning_NguyenMinhVu\\Source\\Basic-text-to-SQL-conversion\\T2SQL1\\train.csv\")\n",
    "DFSQL1"
   ]
  },
  {
   "cell_type": "code",
   "execution_count": 12,
   "metadata": {},
   "outputs": [
    {
     "data": {
      "application/vnd.microsoft.datawrangler.viewer.v0+json": {
       "columns": [
        {
         "name": "index",
         "rawType": "int64",
         "type": "integer"
        },
        {
         "name": "db_id",
         "rawType": "object",
         "type": "string"
        },
        {
         "name": "query",
         "rawType": "object",
         "type": "string"
        },
        {
         "name": "query_toks",
         "rawType": "object",
         "type": "unknown"
        },
        {
         "name": "query_toks_no_value",
         "rawType": "object",
         "type": "unknown"
        },
        {
         "name": "question",
         "rawType": "object",
         "type": "string"
        },
        {
         "name": "question_toks",
         "rawType": "object",
         "type": "unknown"
        },
        {
         "name": "sql",
         "rawType": "object",
         "type": "unknown"
        }
       ],
       "ref": "8f7feeae-70b9-4ed7-8c4c-125d5c1135ea",
       "rows": [
        [
         "0",
         "architecture",
         "select count ( * ) from kiến trúc sư where giới tính = \"female\"",
         "['select', 'count', '(', '*', ')', 'from', 'kiến trúc sư', 'where', 'giới tính', '=', '\"female\"']",
         "['select', 'count', '(', '*', ')', 'from', 'kiến trúc sư', 'where', 'giới tính', '=', 'value']",
         "Có tất cả bao nhiêu kiến trúc sư nữ ?",
         "['Có', 'tất', 'cả', 'bao', 'nhiêu', 'kiến', 'trúc', 'sư', 'nữ', '?']",
         "{'except': None, 'from': {'conds': [], 'table_units': [['table_unit', 0]]}, 'groupBy': [], 'where': [[False, 2, [0, [0, 4, False], None], '\"female\"', None]], 'limit': None, 'union': None, 'intersect': None, 'having': [], 'select': [False, [[3, [0, [0, 0, False], None]]]], 'orderBy': []}"
        ],
        [
         "1",
         "architecture",
         "select tên , quốc tịch , id from kiến trúc sư where giới tính = \"male\" order by tên",
         "['select', 'tên', ',', 'quốc tịch', ',', 'id', 'from', 'kiến trúc sư', 'where', 'giới tính', '=', '\"male\"', 'order', 'by', 'tên']",
         "['select', 'tên', ',', 'quốc tịch', ',', 'id', 'from', 'kiến trúc sư', 'where', 'giới tính', '=', 'value', 'order', 'by', 'tên']",
         "Liệt kê tên , quốc tịch và id của tất cả các kiến trúc sư nam theo thứ tự tên .",
         "['Liệt', 'kê', 'tên', ',', 'quốc', 'tịch', 'và', 'id', 'của', 'tất', 'cả', 'các', 'kiến', 'trúc', 'sư', 'nam', 'theo', 'thứ', 'tự', 'tên', '.']",
         "{'except': None, 'from': {'conds': [], 'table_units': [['table_unit', 0]]}, 'groupBy': [], 'where': [[False, 2, [0, [0, 4, False], None], '\"male\"', None]], 'limit': None, 'union': None, 'intersect': None, 'having': [], 'select': [False, [[0, [0, [0, 2, False], None]], [0, [0, [0, 3, False], None]], [0, [0, [0, 1, False], None]]]], 'orderBy': ['asc', [[0, [0, 2, False], None]]]}"
        ],
        [
         "2",
         "architecture",
         "select max ( t1.chiều dài theo mét ) , t2.tên from cầu as t1 join kiến trúc sư as t2 on t1.id kiến trúc sư = t2.id",
         "['select', 'max', '(', 't1.chiều dài theo mét', ')', ',', 't2.tên', 'from', 'cầu', 'as', 't1', 'join', 'kiến trúc sư', 'as', 't2', 'on', 't1.id kiến trúc sư', '=', 't2.id']",
         "['select', 'max', '(', 't1', '.', 'chiều dài theo mét', ')', ',', 't2', '.', 'tên', 'from', 'cầu', 'as', 't1', 'join', 'kiến trúc sư', 'as', 't2', 'on', 't1', '.', 'id kiến trúc sư', '=', 't2', '.', 'id']",
         "Cho biết tên của người kiến trúc sư đã tạo ra cây cầu dài nhất cũng như là chiều dài tính bằng mét của cây cầu này .",
         "['Cho', 'biết', 'tên', 'của', 'người', 'kiến', 'trúc', 'sư', 'đã', 'tạo', 'ra', 'cây', 'cầu', 'dài', 'nhất', 'cũng', 'như', 'là', 'chiều', 'dài', 'tính', 'bằng', 'mét', 'của', 'cây', 'cầu', 'này', '.']",
         "{'except': None, 'from': {'conds': [[False, 2, [0, [0, 5, False], None], [0, 1, False], None]], 'table_units': [['table_unit', 1], ['table_unit', 0]]}, 'groupBy': [], 'where': [], 'limit': None, 'union': None, 'intersect': None, 'having': [], 'select': [False, [[1, [0, [0, 9, False], None]], [0, [0, [0, 2, False], None]]]], 'orderBy': []}"
        ],
        [
         "3",
         "architecture",
         "select avg ( chiều dài theo feet ) from cầu",
         "['select', 'avg', '(', 'chiều dài theo feet', ')', 'from', 'cầu']",
         "['select', 'avg', '(', 'chiều dài theo feet', ')', 'from', 'cầu']",
         "Cho biết chiều dài trung bình tính theo feet của tất cả các cây cầu .",
         "['Cho', 'biết', 'chiều', 'dài', 'trung', 'bình', 'tính', 'theo', 'feet', 'của', 'tất', 'cả', 'các', 'cây', 'cầu', '.']",
         "{'except': None, 'from': {'conds': [], 'table_units': [['table_unit', 1]]}, 'groupBy': [], 'where': [], 'limit': None, 'union': None, 'intersect': None, 'having': [], 'select': [False, [[5, [0, [0, 10, False], None]]]], 'orderBy': []}"
        ],
        [
         "4",
         "architecture",
         "select tên , năm xây dựng from nhà máy where loại = \"Grondzeiler\"",
         "['select', 'tên', ',', 'năm xây dựng', 'from', 'nhà máy', 'where', 'loại', '=', '\"Grondzeiler\"']",
         "['select', 'tên', ',', 'năm xây dựng', 'from', 'nhà máy', 'where', 'loại', '=', 'value']",
         "Cho biết tên và năm xây dựng của các nhà máy thuộc loại ' Grondzeiler ' ?",
         "['Cho', 'biết', 'tên', 'và', 'năm', 'xây', 'dựng', 'của', 'các', 'nhà', 'máy', 'thuộc', 'loại', \"'\", 'Grondzeiler', \"'\", '?']",
         "{'except': None, 'from': {'conds': [], 'table_units': [['table_unit', 2]]}, 'groupBy': [], 'where': [[False, 2, [0, [0, 15, False], None], '\"Grondzeiler\"', None]], 'limit': None, 'union': None, 'intersect': None, 'having': [], 'select': [False, [[0, [0, [0, 14, False], None]], [0, [0, [0, 16, False], None]]]], 'orderBy': []}"
        ],
        [
         "5",
         "architecture",
         "select distinct t1.tên , t1.quốc tịch from kiến trúc sư as t1 join nhà máy as t2 on t1.id = t2.id kiến trúc sư",
         "['select', 'distinct', 't1.tên', ',', 't1.quốc tịch', 'from', 'kiến trúc sư', 'as', 't1', 'join', 'nhà máy', 'as', 't2', 'on', 't1.id', '=', 't2.id kiến trúc sư']",
         "['select', 'distinct', 't1', '.', 'tên', ',', 't1', '.', 'quốc tịch', 'from', 'kiến trúc sư', 'as', 't1', 'join', 'nhà máy', 'as', 't2', 'on', 't1', '.', 'id', '=', 't2', '.', 'id kiến trúc sư']",
         "Cho biết tên và quốc tịch của những kiến trúc sư khác nhau đã từng xây dựng một nhà máy .",
         "['Cho', 'biết', 'tên', 'và', 'quốc', 'tịch', 'của', 'những', 'kiến', 'trúc', 'sư', 'khác', 'nhau', 'đã', 'từng', 'xây', 'dựng', 'một', 'nhà', 'máy', '.']",
         "{'except': None, 'from': {'conds': [[False, 2, [0, [0, 1, False], None], [0, 11, False], None]], 'table_units': [['table_unit', 0], ['table_unit', 2]]}, 'groupBy': [], 'where': [], 'limit': None, 'union': None, 'intersect': None, 'having': [], 'select': [True, [[0, [0, [0, 2, False], None]], [0, [0, [0, 3, False], None]]]], 'orderBy': []}"
        ],
        [
         "6",
         "architecture",
         "select tên from nhà máy where địa điểm != \"Donceel\"",
         "['select', 'tên', 'from', 'nhà máy', 'where', 'địa điểm', '!=', '\"Donceel\"']",
         "['select', 'tên', 'from', 'nhà máy', 'where', 'địa điểm', '!', '=', 'value']",
         "Cho biết tên của các nhà máy không được đặt tại ' Donceel ' .",
         "['Cho', 'biết', 'tên', 'của', 'các', 'nhà', 'máy', 'không', 'được', 'đặt', 'tại', \"'\", 'Donceel', \"'\", '.']",
         "{'except': None, 'from': {'conds': [], 'table_units': [['table_unit', 2]]}, 'groupBy': [], 'where': [[False, 7, [0, [0, 13, False], None], '\"Donceel\"', None]], 'limit': None, 'union': None, 'intersect': None, 'having': [], 'select': [False, [[0, [0, [0, 14, False], None]]]], 'orderBy': []}"
        ],
        [
         "7",
         "architecture",
         "select distinct t1.loại from nhà máy as t1 join kiến trúc sư as t2 on t1.id kiến trúc sư = t2.id where t2.quốc tịch = \"American\" or t2.quốc tịch = \"Canadian\"",
         "['select', 'distinct', 't1.loại', 'from', 'nhà máy', 'as', 't1', 'join', 'kiến trúc sư', 'as', 't2', 'on', 't1.id kiến trúc sư', '=', 't2.id', 'where', 't2.quốc tịch', '=', '\"American\"', 'or', 't2.quốc tịch', '=', '\"Canadian\"']",
         "['select', 'distinct', 't1', '.', 'loại', 'from', 'nhà máy', 'as', 't1', 'join', 'kiến trúc sư', 'as', 't2', 'on', 't1', '.', 'id kiến trúc sư', '=', 't2', '.', 'id', 'where', 't2', '.', 'quốc tịch', '=', 'value', 'or', 't2', '.', 'quốc tịch', '=', 'value']",
         "Cho biết các loại nhà máy khác nhau đã được xây dựng bởi các kiến trúc sư người Mỹ hoặc các kiến trúc sư người Canada .",
         "['Cho', 'biết', 'các', 'loại', 'nhà', 'máy', 'khác', 'nhau', 'đã', 'được', 'xây', 'dựng', 'bởi', 'các', 'kiến', 'trúc', 'sư', 'người', 'Mỹ', 'hoặc', 'các', 'kiến', 'trúc', 'sư', 'người', 'Canada', '.']",
         "{'except': None, 'from': {'conds': [[False, 2, [0, [0, 11, False], None], [0, 1, False], None]], 'table_units': [['table_unit', 2], ['table_unit', 0]]}, 'groupBy': [], 'where': [[False, 2, [0, [0, 3, False], None], '\"American\"', None], 'or', [False, 2, [0, [0, 3, False], None], '\"Canadian\"', None]], 'limit': None, 'union': None, 'intersect': None, 'having': [], 'select': [True, [[0, [0, [0, 15, False], None]]]], 'orderBy': []}"
        ],
        [
         "8",
         "architecture",
         "select t1.id , t1.tên from kiến trúc sư as t1 join cầu as t2 on t1.id = t2.id kiến trúc sư group by t1.id having count ( * ) >= 3",
         "['select', 't1.id', ',', 't1.tên', 'from', 'kiến trúc sư', 'as', 't1', 'join', 'cầu', 'as', 't2', 'on', 't1.id', '=', 't2.id kiến trúc sư', 'group', 'by', 't1.id', 'having', 'count', '(', '*', ')', '>=', '3']",
         "['select', 't1', '.', 'id', ',', 't1', '.', 'tên', 'from', 'kiến trúc sư', 'as', 't1', 'join', 'cầu', 'as', 't2', 'on', 't1', '.', 'id', '=', 't2', '.', 'id kiến trúc sư', 'group', 'by', 't1', '.', 'id', 'having', 'count', '(', '*', ')', '>', '=', 'value']",
         "Cho biết id và tên của các kiến trúc sư đã xây dựng ít nhất 3 cây cầu .",
         "['Cho', 'biết', 'id', 'và', 'tên', 'của', 'các', 'kiến', 'trúc', 'sư', 'đã', 'xây', 'dựng', 'ít', 'nhất', '3', 'cây', 'cầu', '.']",
         "{'except': None, 'from': {'conds': [[False, 2, [0, [0, 1, False], None], [0, 5, False], None]], 'table_units': [['table_unit', 0], ['table_unit', 1]]}, 'groupBy': [[0, 1, False]], 'where': [], 'limit': None, 'union': None, 'intersect': None, 'having': [[False, 5, [0, [3, 0, False], None], 3.0, None]], 'select': [False, [[0, [0, [0, 1, False], None]], [0, [0, [0, 2, False], None]]]], 'orderBy': []}"
        ],
        [
         "9",
         "architecture",
         "select t1.id , t1.tên , t1.quốc tịch from kiến trúc sư as t1 join nhà máy as t2 on t1.id = t2.id kiến trúc sư group by t1.id order by count ( * ) desc limit 1",
         "['select', 't1.id', ',', 't1.tên', ',', 't1.quốc tịch', 'from', 'kiến trúc sư', 'as', 't1', 'join', 'nhà máy', 'as', 't2', 'on', 't1.id', '=', 't2.id kiến trúc sư', 'group', 'by', 't1.id', 'order', 'by', 'count', '(', '*', ')', 'desc', 'limit', '1']",
         "['select', 't1', '.', 'id', ',', 't1', '.', 'tên', ',', 't1', '.', 'quốc tịch', 'from', 'kiến trúc sư', 'as', 't1', 'join', 'nhà máy', 'as', 't2', 'on', 't1', '.', 'id', '=', 't2', '.', 'id kiến trúc sư', 'group', 'by', 't1', '.', 'id', 'order', 'by', 'count', '(', '*', ')', 'desc', 'limit', 'value']",
         "Cho biết id , tên và quốc tịch của kiến trúc sư đã xây dựng nhiều nhà máy nhất .",
         "['Cho', 'biết', 'id', ',', 'tên', 'và', 'quốc', 'tịch', 'của', 'kiến', 'trúc', 'sư', 'đã', 'xây', 'dựng', 'nhiều', 'nhà', 'máy', 'nhất', '.']",
         "{'except': None, 'from': {'conds': [[False, 2, [0, [0, 1, False], None], [0, 11, False], None]], 'table_units': [['table_unit', 0], ['table_unit', 2]]}, 'groupBy': [[0, 1, False]], 'where': [], 'limit': 1, 'union': None, 'intersect': None, 'having': [], 'select': [False, [[0, [0, [0, 1, False], None]], [0, [0, [0, 2, False], None]], [0, [0, [0, 3, False], None]]]], 'orderBy': ['desc', [[0, [3, 0, False], None]]]}"
        ],
        [
         "10",
         "architecture",
         "select t1.id , t1.tên , t1.giới tính from kiến trúc sư as t1 join cầu as t2 on t1.id = t2.id kiến trúc sư group by t1.id having count ( * ) = 2 union select t1.id , t1.tên , t1.giới tính from kiến trúc sư as t1 join nhà máy as t2 on t1.id = t2.id kiến trúc sư group by t1.id having count ( * ) = 1",
         "['select', 't1.id', ',', 't1.tên', ',', 't1.giới tính', 'from', 'kiến trúc sư', 'as', 't1', 'join', 'cầu', 'as', 't2', 'on', 't1.id', '=', 't2.id kiến trúc sư', 'group', 'by', 't1.id', 'having', 'count', '(', '*', ')', '=', '2', 'union', 'select', 't1.id', ',', 't1.tên', ',', 't1.giới tính', 'from', 'kiến trúc sư', 'as', 't1', 'join', 'nhà máy', 'as', 't2', 'on', 't1.id', '=', 't2.id kiến trúc sư', 'group', 'by', 't1.id', 'having', 'count', '(', '*', ')', '=', '1']",
         "['select', 't1', '.', 'id', ',', 't1', '.', 'tên', ',', 't1', '.', 'giới tính', 'from', 'kiến trúc sư', 'as', 't1', 'join', 'cầu', 'as', 't2', 'on', 't1', '.', 'id', '=', 't2', '.', 'id kiến trúc sư', 'group', 'by', 't1', '.', 'id', 'having', 'count', '(', '*', ')', '=', 'value', 'union', 'select', 't1', '.', 'id', ',', 't1', '.', 'tên', ',', 't1', '.', 'giới tính', 'from', 'kiến trúc sư', 'as', 't1', 'join', 'nhà máy', 'as', 't2', 'on', 't1', '.', 'id', '=', 't2', '.', 'id kiến trúc sư', 'group', 'by', 't1', '.', 'id', 'having', 'count', '(', '*', ')', '=', 'value']",
         "Cho biết id , tên và giới tính của các kiến trúc sư đã xây dựng hai cây cầu hoặc một nhà máy .",
         "['Cho', 'biết', 'id', ',', 'tên', 'và', 'giới', 'tính', 'của', 'các', 'kiến', 'trúc', 'sư', 'đã', 'xây', 'dựng', 'hai', 'cây', 'cầu', 'hoặc', 'một', 'nhà', 'máy', '.']",
         "{'except': None, 'from': {'conds': [[False, 2, [0, [0, 1, False], None], [0, 11, False], None]], 'table_units': [['table_unit', 0], ['table_unit', 1]]}, 'groupBy': [[0, 1, False]], 'where': [], 'limit': None, 'union': {'except': None, 'from': {'conds': [[False, 2, [0, [0, 1, False], None], [0, 11, False], None]], 'table_units': [['table_unit', 0], ['table_unit', 2]]}, 'groupBy': [[0, 1, False]], 'where': [], 'limit': None, 'union': None, 'intersect': None, 'having': [[False, 2, [0, [3, 0, False], None], 1.0, None]], 'select': [False, [[0, [0, [0, 1, False], None]], [0, [0, [0, 2, False], None]], [0, [0, [0, 4, False], None]]]], 'orderBy': []}, 'intersect': None, 'having': [[False, 2, [0, [3, 0, False], None], 2.0, None]], 'select': [False, [[0, [0, [0, 1, False], None]], [0, [0, [0, 2, False], None]], [0, [0, [0, 4, False], None]]]], 'orderBy': []}"
        ],
        [
         "11",
         "architecture",
         "select địa điểm from cầu where tên = \"Kolob Arch\" or tên = \"Rainbow Bridge\"",
         "['select', 'địa điểm', 'from', 'cầu', 'where', 'tên', '=', '\"Kolob Arch\"', 'or', 'tên', '=', '\"Rainbow Bridge\"']",
         "['select', 'địa điểm', 'from', 'cầu', 'where', 'tên', '=', 'value', 'or', 'tên', '=', 'value']",
         "Cho biết địa điểm của cây cầu có tên là ' Cổng vòm Kolob ' hoặc cây cầu có tên là ' Cầu cầu vồng ' .",
         "['Cho', 'biết', 'địa', 'điểm', 'của', 'cây', 'cầu', 'có', 'tên', 'là', \"'\", 'Cổng', 'vòm', 'Kolob', \"'\", 'hoặc', 'cây', 'cầu', 'có', 'tên', 'là', \"'\", 'Cầu', 'cầu', 'vồng', \"'\", '.']",
         "{'except': None, 'from': {'conds': [], 'table_units': [['table_unit', 1]]}, 'groupBy': [], 'where': [[False, 2, [0, [0, 7, False], None], '\"Kolob Arch\"', None], 'or', [False, 2, [0, [0, 7, False], None], '\"Rainbow Bridge\"', None]], 'limit': None, 'union': None, 'intersect': None, 'having': [], 'select': [False, [[0, [0, [0, 8, False], None]]]], 'orderBy': []}"
        ],
        [
         "12",
         "architecture",
         "select tên from nhà máy where tên like \"%Moulin%\"",
         "['select', 'tên', 'from', 'nhà máy', 'where', 'tên', 'like', '\"%Moulin%\"']",
         "['select', 'tên', 'from', 'nhà máy', 'where', 'tên', 'like', 'value']",
         "Cho biết tên của nhà máy có chứa từ tiếng Pháp ' Moulin ' trong tên .",
         "['Cho', 'biết', 'tên', 'của', 'nhà', 'máy', 'có', 'chứa', 'từ', 'tiếng', 'Pháp', \"'\", 'Moulin', \"'\", 'trong', 'tên', '.']",
         "{'except': None, 'from': {'conds': [], 'table_units': [['table_unit', 2]]}, 'groupBy': [], 'where': [[False, 9, [0, [0, 14, False], None], '\"%Moulin%\"', None]], 'limit': None, 'union': None, 'intersect': None, 'having': [], 'select': [False, [[0, [0, [0, 14, False], None]]]], 'orderBy': []}"
        ],
        [
         "13",
         "architecture",
         "select distinct t1.tên from nhà máy as t1 join kiến trúc sư as t2 on t1.id kiến trúc sư = t2.id join cầu as t3 on t3.id kiến trúc sư = t2.id where t3.chiều dài theo mét > 80",
         "['select', 'distinct', 't1.tên', 'from', 'nhà máy', 'as', 't1', 'join', 'kiến trúc sư', 'as', 't2', 'on', 't1.id kiến trúc sư', '=', 't2.id', 'join', 'cầu', 'as', 't3', 'on', 't3.id kiến trúc sư', '=', 't2.id', 'where', 't3.chiều dài theo mét', '>', '80']",
         "['select', 'distinct', 't1', '.', 'tên', 'from', 'nhà máy', 'as', 't1', 'join', 'kiến trúc sư', 'as', 't2', 'on', 't1', '.', 'id kiến trúc sư', '=', 't2', '.', 'id', 'join', 'cầu', 'as', 't3', 'on', 't3', '.', 'id kiến trúc sư', '=', 't2', '.', 'id', 'where', 't3', '.', 'chiều dài theo mét', '>', 'value']",
         "Cho biết tên của các nhà máy khác nhau được xây dựng bởi các kiến trúc sư đã từng xây dựng một cây cầu dài hơn 80 mét .",
         "['Cho', 'biết', 'tên', 'của', 'các', 'nhà', 'máy', 'khác', 'nhau', 'được', 'xây', 'dựng', 'bởi', 'các', 'kiến', 'trúc', 'sư', 'đã', 'từng', 'xây', 'dựng', 'một', 'cây', 'cầu', 'dài', 'hơn', '80', 'mét', '.']",
         "{'except': None, 'from': {'conds': [[False, 2, [0, [0, 11, False], None], [0, 1, False], None]], 'table_units': [['table_unit', 2], ['table_unit', 0]]}, 'groupBy': [], 'where': [[False, 3, [0, [0, 9, False], None], 80.0, None]], 'limit': None, 'union': None, 'intersect': None, 'having': [], 'select': [True, [[0, [0, [0, 14, False], None]]]], 'orderBy': []}"
        ],
        [
         "14",
         "architecture",
         "select loại , count ( * ) from nhà máy group by loại order by count ( * ) desc limit 1",
         "['select', 'loại', ',', 'count', '(', '*', ')', 'from', 'nhà máy', 'group', 'by', 'loại', 'order', 'by', 'count', '(', '*', ')', 'desc', 'limit', '1']",
         "['select', 'loại', ',', 'count', '(', '*', ')', 'from', 'nhà máy', 'group', 'by', 'loại', 'order', 'by', 'count', '(', '*', ')', 'desc', 'limit', 'value']",
         "Cho biết loại nhà máy phổ biết nhất và có bao nhiêu nhà máy thuộc loại này ?",
         "['Cho', 'biết', 'loại', 'nhà', 'máy', 'phổ', 'biết', 'nhất', 'và', 'có', 'bao', 'nhiêu', 'nhà', 'máy', 'thuộc', 'loại', 'này', '?']",
         "{'except': None, 'from': {'conds': [], 'table_units': [['table_unit', 2]]}, 'groupBy': [[0, 15, False]], 'where': [], 'limit': 1, 'union': None, 'intersect': None, 'having': [], 'select': [False, [[0, [0, [0, 15, False], None]], [3, [0, [0, 0, False], None]]]], 'orderBy': ['desc', [[0, [3, 0, False], None]]]}"
        ],
        [
         "15",
         "architecture",
         "select count ( * ) from kiến trúc sư where id not in ( select id kiến trúc sư from nhà máy where năm xây dựng < 1850 )",
         "['select', 'count', '(', '*', ')', 'from', 'kiến trúc sư', 'where', 'id', 'not', 'in', '(', 'select', 'id kiến trúc sư', 'from', 'nhà máy', 'where', 'năm xây dựng', '<', '1850', ')']",
         "['select', 'count', '(', '*', ')', 'from', 'kiến trúc sư', 'where', 'id', 'not', 'in', '(', 'select', 'id kiến trúc sư', 'from', 'nhà máy', 'where', 'năm xây dựng', '<', 'value', ')']",
         "Có bao nhiêu kiến ​​trúc sư chưa từng xây dựng một nhà máy nào trước năm 1850 ?",
         "['Có', 'bao', 'nhiêu', 'kiến', '\\u200b\\u200btrúc', 'sư', 'chưa', 'từng', 'xây', 'dựng', 'một', 'nhà', 'máy', 'nào', 'trước', 'năm', '1850', '?']",
         "{'except': None, 'from': {'conds': [], 'table_units': [['table_unit', 0]]}, 'groupBy': [], 'where': [[True, 8, [0, [0, 1, False], None], {'except': None, 'from': {'conds': [], 'table_units': [['table_unit', 2]]}, 'groupBy': [], 'where': [[False, 4, [0, [0, 16, False], None], 1850.0, None]], 'limit': None, 'union': None, 'intersect': None, 'having': [], 'select': [False, [[0, [0, [0, 11, False], None]]]], 'orderBy': []}, None]], 'limit': None, 'union': None, 'intersect': None, 'having': [], 'select': [False, [[3, [0, [0, 0, False], None]]]], 'orderBy': []}"
        ],
        [
         "16",
         "architecture",
         "select t1.tên from cầu as t1 join kiến trúc sư as t2 on t1.id kiến trúc sư = t2.id where t2.quốc tịch = \"American\" order by t1.chiều dài theo feet",
         "['select', 't1.tên', 'from', 'cầu', 'as', 't1', 'join', 'kiến trúc sư', 'as', 't2', 'on', 't1.id kiến trúc sư', '=', 't2.id', 'where', 't2.quốc tịch', '=', '\"American\"', 'order', 'by', 't1.chiều dài theo feet']",
         "['select', 't1', '.', 'tên', 'from', 'cầu', 'as', 't1', 'join', 'kiến trúc sư', 'as', 't2', 'on', 't1', '.', 'id kiến trúc sư', '=', 't2', '.', 'id', 'where', 't2', '.', 'quốc tịch', '=', 'value', 'order', 'by', 't1', '.', 'chiều dài theo feet']",
         "Hiển thị tên của tất cả những cây cầu được thiết kế bởi các kiến ​​trúc sư người Mỹ và sắp xếp kết quả theo thứ tự chiều dài chân cầu .",
         "['Hiển', 'thị', 'tên', 'của', 'tất', 'cả', 'những', 'cây', 'cầu', 'được', 'thiết', 'kế', 'bởi', 'các', 'kiến', '\\u200b\\u200btrúc', 'sư', 'người', 'Mỹ', 'và', 'sắp', 'xếp', 'kết', 'quả', 'theo', 'thứ', 'tự', 'chiều', 'dài', 'chân', 'cầu', '.']",
         "{'except': None, 'from': {'conds': [[False, 2, [0, [0, 5, False], None], [0, 1, False], None]], 'table_units': [['table_unit', 1], ['table_unit', 0]]}, 'groupBy': [], 'where': [[False, 2, [0, [0, 3, False], None], '\"American\"', None]], 'limit': None, 'union': None, 'intersect': None, 'having': [], 'select': [False, [[0, [0, [0, 7, False], None]]]], 'orderBy': ['asc', [[0, [0, 10, False], None]]]}"
        ],
        [
         "17",
         "cinema",
         "select địa điểm from rạp chiếu phim except select địa điểm from rạp chiếu phim where sức chứa > 800",
         "['select', 'địa điểm', 'from', 'rạp chiếu phim', 'except', 'select', 'địa điểm', 'from', 'rạp chiếu phim', 'where', 'sức chứa', '>', '800']",
         "['select', 'địa điểm', 'from', 'rạp chiếu phim', 'except', 'select', 'địa điểm', 'from', 'rạp chiếu phim', 'where', 'sức chứa', '>', 'value']",
         "Hiển thị tất cả các địa điểm không có rạp chiếu phim với sức chứa trên 800 .",
         "['Hiển', 'thị', 'tất', 'cả', 'các', 'địa', 'điểm', 'không', 'có', 'rạp', 'chiếu', 'phim', 'với', 'sức', 'chứa', 'trên', '800', '.']",
         "{'except': {'except': None, 'from': {'conds': [], 'table_units': [['table_unit', 1]]}, 'groupBy': [], 'where': [[False, 3, [0, [0, 11, False], None], 800.0, None]], 'limit': None, 'union': None, 'intersect': None, 'having': [], 'select': [False, [[0, [0, [0, 12, False], None]]]], 'orderBy': []}, 'from': {'conds': [], 'table_units': [['table_unit', 1]]}, 'groupBy': [], 'where': [], 'limit': None, 'union': None, 'intersect': None, 'having': [], 'select': [False, [[0, [0, [0, 12, False], None]]]], 'orderBy': []}"
        ],
        [
         "18",
         "cinema",
         "select địa điểm from rạp chiếu phim where năm mở cửa = 2010 intersect select địa điểm from rạp chiếu phim where năm mở cửa = 2011",
         "['select', 'địa điểm', 'from', 'rạp chiếu phim', 'where', 'năm mở cửa', '=', '2010', 'intersect', 'select', 'địa điểm', 'from', 'rạp chiếu phim', 'where', 'năm mở cửa', '=', '2011']",
         "['select', 'địa điểm', 'from', 'rạp chiếu phim', 'where', 'năm mở cửa', '=', 'value', 'intersect', 'select', 'địa điểm', 'from', 'rạp chiếu phim', 'where', 'năm mở cửa', '=', 'value']",
         "Hiển thị tất cả các địa điểm nơi có một số rạp chiếu phim đã được mở vào năm 2010 và năm 2011 .",
         "['Hiển', 'thị', 'tất', 'cả', 'các', 'địa', 'điểm', 'nơi', 'có', 'một', 'số', 'rạp', 'chiếu', 'phim', 'đã', 'được', 'mở', 'vào', 'năm', '2010', 'và', 'năm', '2011', '.']",
         "{'except': None, 'from': {'conds': [], 'table_units': [['table_unit', 1]]}, 'groupBy': [], 'where': [[False, 2, [0, [0, 10, False], None], 2010.0, None]], 'limit': None, 'union': None, 'intersect': {'except': None, 'from': {'conds': [], 'table_units': [['table_unit', 1]]}, 'groupBy': [], 'where': [[False, 2, [0, [0, 10, False], None], 2011.0, None]], 'limit': None, 'union': None, 'intersect': None, 'having': [], 'select': [False, [[0, [0, [0, 12, False], None]]]], 'orderBy': []}, 'having': [], 'select': [False, [[0, [0, [0, 12, False], None]]]], 'orderBy': []}"
        ],
        [
         "19",
         "cinema",
         "select count ( * ) from rạp chiếu phim",
         "['select', 'count', '(', '*', ')', 'from', 'rạp chiếu phim']",
         "['select', 'count', '(', '*', ')', 'from', 'rạp chiếu phim']",
         "Có bao nhiêu rạp chiếu phim ?",
         "['Có', 'bao', 'nhiêu', 'rạp', 'chiếu', 'phim', '?']",
         "{'except': None, 'from': {'conds': [], 'table_units': [['table_unit', 1]]}, 'groupBy': [], 'where': [], 'limit': None, 'union': None, 'intersect': None, 'having': [], 'select': [False, [[3, [0, [0, 0, False], None]]]], 'orderBy': []}"
        ],
        [
         "20",
         "cinema",
         "select count ( * ) from rạp chiếu phim",
         "['select', 'count', '(', '*', ')', 'from', 'rạp chiếu phim']",
         "['select', 'count', '(', '*', ')', 'from', 'rạp chiếu phim']",
         "Đếm số lượng rạp chiếu phim .",
         "['Đếm', 'số', 'lượng', 'rạp', 'chiếu', 'phim', '.']",
         "{'except': None, 'from': {'conds': [], 'table_units': [['table_unit', 1]]}, 'groupBy': [], 'where': [], 'limit': None, 'union': None, 'intersect': None, 'having': [], 'select': [False, [[3, [0, [0, 0, False], None]]]], 'orderBy': []}"
        ],
        [
         "21",
         "cinema",
         "select tên , năm mở cửa , sức chứa from rạp chiếu phim",
         "['select', 'tên', ',', 'năm mở cửa', ',', 'sức chứa', 'from', 'rạp chiếu phim']",
         "['select', 'tên', ',', 'năm mở cửa', ',', 'sức chứa', 'from', 'rạp chiếu phim']",
         "Hiển thị tên , năm mở cửa , và sức chứa của từng rạp chiếu phim .",
         "['Hiển', 'thị', 'tên', ',', 'năm', 'mở', 'cửa', ',', 'và', 'sức', 'chứa', 'của', 'từng', 'rạp', 'chiếu', 'phim', '.']",
         "{'except': None, 'from': {'conds': [], 'table_units': [['table_unit', 1]]}, 'groupBy': [], 'where': [], 'limit': None, 'union': None, 'intersect': None, 'having': [], 'select': [False, [[0, [0, [0, 9, False], None]], [0, [0, [0, 10, False], None]], [0, [0, [0, 11, False], None]]]], 'orderBy': []}"
        ],
        [
         "22",
         "cinema",
         "select tên , địa điểm from rạp chiếu phim where sức chứa > ( select avg ( sức chứa ) from rạp chiếu phim )",
         "['select', 'tên', ',', 'địa điểm', 'from', 'rạp chiếu phim', 'where', 'sức chứa', '>', '(', 'select', 'avg', '(', 'sức chứa', ')', 'from', 'rạp chiếu phim', ')']",
         "['select', 'tên', ',', 'địa điểm', 'from', 'rạp chiếu phim', 'where', 'sức chứa', '>', '(', 'select', 'avg', '(', 'sức chứa', ')', 'from', 'rạp chiếu phim', ')']",
         "Hiển thị tên và địa điểm của các rạp chiếu phim có sức chứa trên mức trung bình .",
         "['Hiển', 'thị', 'tên', 'và', 'địa', 'điểm', 'của', 'các', 'rạp', 'chiếu', 'phim', 'có', 'sức', 'chứa', 'trên', 'mức', 'trung', 'bình', '.']",
         "{'except': None, 'from': {'conds': [], 'table_units': [['table_unit', 1]]}, 'groupBy': [], 'where': [[False, 3, [0, [0, 11, False], None], {'except': None, 'from': {'conds': [], 'table_units': [['table_unit', 1]]}, 'groupBy': [], 'where': [], 'limit': None, 'union': None, 'intersect': None, 'having': [], 'select': [False, [[5, [0, [0, 11, False], None]]]], 'orderBy': []}, None]], 'limit': None, 'union': None, 'intersect': None, 'having': [], 'select': [False, [[0, [0, [0, 9, False], None]], [0, [0, [0, 12, False], None]]]], 'orderBy': []}"
        ],
        [
         "23",
         "cinema",
         "select distinct địa điểm from rạp chiếu phim",
         "['select', 'distinct', 'địa điểm', 'from', 'rạp chiếu phim']",
         "['select', 'distinct', 'địa điểm', 'from', 'rạp chiếu phim']",
         "Những địa điểm có một vài rạp chiếu phim là những địa điểm nào ?",
         "['Những', 'địa', 'điểm', 'có', 'một', 'vài', 'rạp', 'chiếu', 'phim', 'là', 'những', 'địa', 'điểm', 'nào', '?']",
         "{'except': None, 'from': {'conds': [], 'table_units': [['table_unit', 1]]}, 'groupBy': [], 'where': [], 'limit': None, 'union': None, 'intersect': None, 'having': [], 'select': [True, [[0, [0, [0, 12, False], None]]]], 'orderBy': []}"
        ],
        [
         "24",
         "cinema",
         "select distinct địa điểm from rạp chiếu phim",
         "['select', 'distinct', 'địa điểm', 'from', 'rạp chiếu phim']",
         "['select', 'distinct', 'địa điểm', 'from', 'rạp chiếu phim']",
         "Tìm những địa điểm khác nhau nơi có một vài rạp chiếu phim .",
         "['Tìm', 'những', 'địa', 'điểm', 'khác', 'nhau', 'nơi', 'có', 'một', 'vài', 'rạp', 'chiếu', 'phim', '.']",
         "{'except': None, 'from': {'conds': [], 'table_units': [['table_unit', 1]]}, 'groupBy': [], 'where': [], 'limit': None, 'union': None, 'intersect': None, 'having': [], 'select': [True, [[0, [0, [0, 12, False], None]]]], 'orderBy': []}"
        ],
        [
         "25",
         "cinema",
         "select tên , năm mở cửa from rạp chiếu phim order by năm mở cửa desc",
         "['select', 'tên', ',', 'năm mở cửa', 'from', 'rạp chiếu phim', 'order', 'by', 'năm mở cửa', 'desc']",
         "['select', 'tên', ',', 'năm mở cửa', 'from', 'rạp chiếu phim', 'order', 'by', 'năm mở cửa', 'desc']",
         "Hiển thị tên của tất cả các rạp chiếu phim và năm mở cửa của từng rạp theo thứ tự giảm dần về năm mở cửa .",
         "['Hiển', 'thị', 'tên', 'của', 'tất', 'cả', 'các', 'rạp', 'chiếu', 'phim', 'và', 'năm', 'mở', 'cửa', 'của', 'từng', 'rạp', 'theo', 'thứ', 'tự', 'giảm', 'dần', 'về', 'năm', 'mở', 'cửa', '.']",
         "{'except': None, 'from': {'conds': [], 'table_units': [['table_unit', 1]]}, 'groupBy': [], 'where': [], 'limit': None, 'union': None, 'intersect': None, 'having': [], 'select': [False, [[0, [0, [0, 9, False], None]], [0, [0, [0, 10, False], None]]]], 'orderBy': ['desc', [[0, [0, 10, False], None]]]}"
        ],
        [
         "26",
         "cinema",
         "select tên , địa điểm from rạp chiếu phim order by sức chứa desc limit 1",
         "['select', 'tên', ',', 'địa điểm', 'from', 'rạp chiếu phim', 'order', 'by', 'sức chứa', 'desc', 'limit', '1']",
         "['select', 'tên', ',', 'địa điểm', 'from', 'rạp chiếu phim', 'order', 'by', 'sức chứa', 'desc', 'limit', 'value']",
         "Cho biết tên và địa điểm của rạp chiếu phim có sức chứa lớn nhất .",
         "['Cho', 'biết', 'tên', 'và', 'địa', 'điểm', 'của', 'rạp', 'chiếu', 'phim', 'có', 'sức', 'chứa', 'lớn', 'nhất', '.']",
         "{'except': None, 'from': {'conds': [], 'table_units': [['table_unit', 1]]}, 'groupBy': [], 'where': [], 'limit': 1, 'union': None, 'intersect': None, 'having': [], 'select': [False, [[0, [0, [0, 9, False], None]], [0, [0, [0, 12, False], None]]]], 'orderBy': ['desc', [[0, [0, 11, False], None]]]}"
        ],
        [
         "27",
         "cinema",
         "select avg ( sức chứa ) , min ( sức chứa ) , max ( sức chứa ) from rạp chiếu phim where năm mở cửa >= 2011",
         "['select', 'avg', '(', 'sức chứa', ')', ',', 'min', '(', 'sức chứa', ')', ',', 'max', '(', 'sức chứa', ')', 'from', 'rạp chiếu phim', 'where', 'năm mở cửa', '>=', '2011']",
         "['select', 'avg', '(', 'sức chứa', ')', ',', 'min', '(', 'sức chứa', ')', ',', 'max', '(', 'sức chứa', ')', 'from', 'rạp chiếu phim', 'where', 'năm mở cửa', '>', '=', 'value']",
         "Hiển thị sức chứa trung bình , sức chứa tối thiểu và sức chứa tối đa của tất cả các rạp chiếu phim được mở từ sau năm 2011 .",
         "['Hiển', 'thị', 'sức', 'chứa', 'trung', 'bình', ',', 'sức', 'chứa', 'tối', 'thiểu', 'và', 'sức', 'chứa', 'tối', 'đa', 'của', 'tất', 'cả', 'các', 'rạp', 'chiếu', 'phim', 'được', 'mở', 'từ', 'sau', 'năm', '2011', '.']",
         "{'except': None, 'from': {'conds': [], 'table_units': [['table_unit', 1]]}, 'groupBy': [], 'where': [[False, 5, [0, [0, 10, False], None], 2011.0, None]], 'limit': None, 'union': None, 'intersect': None, 'having': [], 'select': [False, [[5, [0, [0, 11, False], None]], [2, [0, [0, 11, False], None]], [1, [0, [0, 11, False], None]]]], 'orderBy': []}"
        ],
        [
         "28",
         "cinema",
         "select địa điểm , count ( * ) from rạp chiếu phim group by địa điểm",
         "['select', 'địa điểm', ',', 'count', '(', '*', ')', 'from', 'rạp chiếu phim', 'group', 'by', 'địa điểm']",
         "['select', 'địa điểm', ',', 'count', '(', '*', ')', 'from', 'rạp chiếu phim', 'group', 'by', 'địa điểm']",
         "Hiển thị tất cả các địa điểm và số lượng rạp chiếu phim ở mỗi địa điểm .",
         "['Hiển', 'thị', 'tất', 'cả', 'các', 'địa', 'điểm', 'và', 'số', 'lượng', 'rạp', 'chiếu', 'phim', 'ở', 'mỗi', 'địa', 'điểm', '.']",
         "{'except': None, 'from': {'conds': [], 'table_units': [['table_unit', 1]]}, 'groupBy': [[0, 12, False]], 'where': [], 'limit': None, 'union': None, 'intersect': None, 'having': [], 'select': [False, [[0, [0, [0, 12, False], None]], [3, [0, [0, 0, False], None]]]], 'orderBy': []}"
        ],
        [
         "29",
         "cinema",
         "select địa điểm from rạp chiếu phim where năm mở cửa >= 2010 group by địa điểm order by count ( * ) desc limit 1",
         "['select', 'địa điểm', 'from', 'rạp chiếu phim', 'where', 'năm mở cửa', '>=', '2010', 'group', 'by', 'địa điểm', 'order', 'by', 'count', '(', '*', ')', 'desc', 'limit', '1']",
         "['select', 'địa điểm', 'from', 'rạp chiếu phim', 'where', 'năm mở cửa', '>', '=', 'value', 'group', 'by', 'địa điểm', 'order', 'by', 'count', '(', '*', ')', 'desc', 'limit', 'value']",
         "Địa điểm có nhiều rạp chiếu phim nhất được mở trong năm 2010 hoặc sau đó nằm ở đâu ?",
         "['Địa', 'điểm', 'có', 'nhiều', 'rạp', 'chiếu', 'phim', 'nhất', 'được', 'mở', 'trong', 'năm', '2010', 'hoặc', 'sau', 'đó', 'nằm', 'ở', 'đâu', '?']",
         "{'except': None, 'from': {'conds': [], 'table_units': [['table_unit', 1]]}, 'groupBy': [[0, 12, False]], 'where': [[False, 5, [0, [0, 10, False], None], 2010.0, None]], 'limit': 1, 'union': None, 'intersect': None, 'having': [], 'select': [False, [[0, [0, [0, 12, False], None]]]], 'orderBy': ['desc', [[0, [3, 0, False], None]]]}"
        ],
        [
         "30",
         "cinema",
         "select địa điểm from rạp chiếu phim where sức chứa > 300 group by địa điểm having count ( * ) >= 2",
         "['select', 'địa điểm', 'from', 'rạp chiếu phim', 'where', 'sức chứa', '>', '300', 'group', 'by', 'địa điểm', 'having', 'count', '(', '*', ')', '>=', '2']",
         "['select', 'địa điểm', 'from', 'rạp chiếu phim', 'where', 'sức chứa', '>', 'value', 'group', 'by', 'địa điểm', 'having', 'count', '(', '*', ')', '>', '=', 'value']",
         "Hiển thị tất cả các địa điểm có ít nhất hai rạp chiếu phim với sức chứa trên 300 .",
         "['Hiển', 'thị', 'tất', 'cả', 'các', 'địa', 'điểm', 'có', 'ít', 'nhất', 'hai', 'rạp', 'chiếu', 'phim', 'với', 'sức', 'chứa', 'trên', '300', '.']",
         "{'except': None, 'from': {'conds': [], 'table_units': [['table_unit', 1]]}, 'groupBy': [[0, 12, False]], 'where': [[False, 3, [0, [0, 11, False], None], 300.0, None]], 'limit': None, 'union': None, 'intersect': None, 'having': [[False, 5, [0, [3, 0, False], None], 2.0, None]], 'select': [False, [[0, [0, [0, 12, False], None]]]], 'orderBy': []}"
        ],
        [
         "31",
         "cinema",
         "select địa điểm from rạp chiếu phim where sức chứa > 300 group by địa điểm having count ( * ) >= 2",
         "['select', 'địa điểm', 'from', 'rạp chiếu phim', 'where', 'sức chứa', '>', '300', 'group', 'by', 'địa điểm', 'having', 'count', '(', '*', ')', '>=', '2']",
         "['select', 'địa điểm', 'from', 'rạp chiếu phim', 'where', 'sức chứa', '>', 'value', 'group', 'by', 'địa điểm', 'having', 'count', '(', '*', ')', '>', '=', 'value']",
         "Những địa điểm nào có từ 2 rạp chiếu phim với sức chứa lớn hơn 300 ?",
         "['Những', 'địa', 'điểm', 'nào', 'có', 'từ', '2', 'rạp', 'chiếu', 'phim', 'với', 'sức', 'chứa', 'lớn', 'hơn', '300', '?']",
         "{'except': None, 'from': {'conds': [], 'table_units': [['table_unit', 1]]}, 'groupBy': [[0, 12, False]], 'where': [[False, 3, [0, [0, 11, False], None], 300.0, None]], 'limit': None, 'union': None, 'intersect': None, 'having': [[False, 5, [0, [3, 0, False], None], 2.0, None]], 'select': [False, [[0, [0, [0, 12, False], None]]]], 'orderBy': []}"
        ],
        [
         "32",
         "cinema",
         "select tiêu đề , được đạo diễn bởi from phim",
         "['select', 'tiêu đề', ',', 'được đạo diễn bởi', 'from', 'phim']",
         "['select', 'tiêu đề', ',', 'được đạo diễn bởi', 'from', 'phim']",
         "Hiển thị tiêu đề và đạo diễn của tất cả các bộ phim .",
         "['Hiển', 'thị', 'tiêu', 'đề', 'và', 'đạo', 'diễn', 'của', 'tất', 'cả', 'các', 'bộ', 'phim', '.']",
         "{'except': None, 'from': {'conds': [], 'table_units': [['table_unit', 0]]}, 'groupBy': [], 'where': [], 'limit': None, 'union': None, 'intersect': None, 'having': [], 'select': [False, [[0, [0, [0, 4, False], None]], [0, [0, [0, 5, False], None]]]], 'orderBy': []}"
        ],
        [
         "33",
         "cinema",
         "select tiêu đề , được đạo diễn bởi from phim",
         "['select', 'tiêu đề', ',', 'được đạo diễn bởi', 'from', 'phim']",
         "['select', 'tiêu đề', ',', 'được đạo diễn bởi', 'from', 'phim']",
         "Tiêu đề và đạo diễn của từng bộ phim ?",
         "['Tiêu', 'đề', 'và', 'đạo', 'diễn', 'của', 'từng', 'bộ', 'phim', '?']",
         "{'except': None, 'from': {'conds': [], 'table_units': [['table_unit', 0]]}, 'groupBy': [], 'where': [], 'limit': None, 'union': None, 'intersect': None, 'having': [], 'select': [False, [[0, [0, [0, 4, False], None]], [0, [0, [0, 5, False], None]]]], 'orderBy': []}"
        ],
        [
         "34",
         "cinema",
         "select distinct được đạo diễn bởi from phim",
         "['select', 'distinct', 'được đạo diễn bởi', 'from', 'phim']",
         "['select', 'distinct', 'được đạo diễn bởi', 'from', 'phim']",
         "Hiển thị tất cả các đạo diễn .",
         "['Hiển', 'thị', 'tất', 'cả', 'các', 'đạo', 'diễn', '.']",
         "{'except': None, 'from': {'conds': [], 'table_units': [['table_unit', 0]]}, 'groupBy': [], 'where': [], 'limit': None, 'union': None, 'intersect': None, 'having': [], 'select': [True, [[0, [0, [0, 5, False], None]]]], 'orderBy': []}"
        ],
        [
         "35",
         "cinema",
         "select distinct được đạo diễn bởi from phim",
         "['select', 'distinct', 'được đạo diễn bởi', 'from', 'phim']",
         "['select', 'distinct', 'được đạo diễn bởi', 'from', 'phim']",
         "Liệt kê tất cả các đạo diễn .",
         "['Liệt', 'kê', 'tất', 'cả', 'các', 'đạo', 'diễn', '.']",
         "{'except': None, 'from': {'conds': [], 'table_units': [['table_unit', 0]]}, 'groupBy': [], 'where': [], 'limit': None, 'union': None, 'intersect': None, 'having': [], 'select': [True, [[0, [0, [0, 5, False], None]]]], 'orderBy': []}"
        ],
        [
         "36",
         "cinema",
         "select được đạo diễn bởi , count ( * ) from phim group by được đạo diễn bởi",
         "['select', 'được đạo diễn bởi', ',', 'count', '(', '*', ')', 'from', 'phim', 'group', 'by', 'được đạo diễn bởi']",
         "['select', 'được đạo diễn bởi', ',', 'count', '(', '*', ')', 'from', 'phim', 'group', 'by', 'được đạo diễn bởi']",
         "Liệt kê tất cả các đạo diễn cùng với số lượng phim của từng người .",
         "['Liệt', 'kê', 'tất', 'cả', 'các', 'đạo', 'diễn', 'cùng', 'với', 'số', 'lượng', 'phim', 'của', 'từng', 'người', '.']",
         "{'except': None, 'from': {'conds': [], 'table_units': [['table_unit', 0]]}, 'groupBy': [[0, 5, False]], 'where': [], 'limit': None, 'union': None, 'intersect': None, 'having': [], 'select': [False, [[0, [0, [0, 5, False], None]], [3, [0, [0, 0, False], None]]]], 'orderBy': []}"
        ],
        [
         "37",
         "cinema",
         "select t2.tên , sum ( t1.số lượng suất chiếu mỗi ngày ) from lịch chiếu phim as t1 join rạp chiếu phim as t2 on t1.id rạp chiếu phim = t2.id rạp chiếu phim group by t1.id rạp chiếu phim",
         "['select', 't2.tên', ',', 'sum', '(', 't1.số lượng suất chiếu mỗi ngày', ')', 'from', 'lịch chiếu phim', 'as', 't1', 'join', 'rạp chiếu phim', 'as', 't2', 'on', 't1.id rạp chiếu phim', '=', 't2.id rạp chiếu phim', 'group', 'by', 't1.id rạp chiếu phim']",
         "['select', 't2', '.', 'tên', ',', 'sum', '(', 't1', '.', 'số lượng suất chiếu mỗi ngày', ')', 'from', 'lịch chiếu phim', 'as', 't1', 'join', 'rạp chiếu phim', 'as', 't2', 'on', 't1', '.', 'id rạp chiếu phim', '=', 't2', '.', 'id rạp chiếu phim', 'group', 'by', 't1', '.', 'id rạp chiếu phim']",
         "Cho biết tổng số suất chiếu mỗi ngày của từng rạp chiếu phim .",
         "['Cho', 'biết', 'tổng', 'số', 'suất', 'chiếu', 'mỗi', 'ngày', 'của', 'từng', 'rạp', 'chiếu', 'phim', '.']",
         "{'except': None, 'from': {'conds': [[False, 2, [0, [0, 13, False], None], [0, 8, False], None]], 'table_units': [['table_unit', 2], ['table_unit', 1]]}, 'groupBy': [[0, 13, False]], 'where': [], 'limit': None, 'union': None, 'intersect': None, 'having': [], 'select': [False, [[0, [0, [0, 9, False], None]], [4, [0, [0, 16, False], None]]]], 'orderBy': []}"
        ],
        [
         "38",
         "cinema",
         "select t2.tiêu đề , max ( t1.giá ) from lịch chiếu phim as t1 join phim as t2 on t1.id phim = t2.id phim group by t1.id phim",
         "['select', 't2.tiêu đề', ',', 'max', '(', 't1.giá', ')', 'from', 'lịch chiếu phim', 'as', 't1', 'join', 'phim', 'as', 't2', 'on', 't1.id phim', '=', 't2.id phim', 'group', 'by', 't1.id phim']",
         "['select', 't2', '.', 'tiêu đề', ',', 'max', '(', 't1', '.', 'giá', ')', 'from', 'lịch chiếu phim', 'as', 't1', 'join', 'phim', 'as', 't2', 'on', 't1', '.', 'id phim', '=', 't2', '.', 'id phim', 'group', 'by', 't1', '.', 'id phim']",
         "Cho biết tiêu đề và giá cao nhất của mỗi bộ phim .",
         "['Cho', 'biết', 'tiêu', 'đề', 'và', 'giá', 'cao', 'nhất', 'của', 'mỗi', 'bộ', 'phim', '.']",
         "{'except': None, 'from': {'conds': [[False, 2, [0, [0, 14, False], None], [0, 1, False], None]], 'table_units': [['table_unit', 2], ['table_unit', 0]]}, 'groupBy': [[0, 14, False]], 'where': [], 'limit': None, 'union': None, 'intersect': None, 'having': [], 'select': [False, [[0, [0, [0, 4, False], None]], [1, [0, [0, 17, False], None]]]], 'orderBy': []}"
        ],
        [
         "39",
         "cinema",
         "select t2.tiêu đề , max ( t1.giá ) from lịch chiếu phim as t1 join phim as t2 on t1.id phim = t2.id phim group by t1.id phim",
         "['select', 't2.tiêu đề', ',', 'max', '(', 't1.giá', ')', 'from', 'lịch chiếu phim', 'as', 't1', 'join', 'phim', 'as', 't2', 'on', 't1.id phim', '=', 't2.id phim', 'group', 'by', 't1.id phim']",
         "['select', 't2', '.', 'tiêu đề', ',', 'max', '(', 't1', '.', 'giá', ')', 'from', 'lịch chiếu phim', 'as', 't1', 'join', 'phim', 'as', 't2', 'on', 't1', '.', 'id phim', '=', 't2', '.', 'id phim', 'group', 'by', 't1', '.', 'id phim']",
         "Tiêu đề và giá cao nhất của từng bộ phim ?",
         "['Tiêu', 'đề', 'và', 'giá', 'cao', 'nhất', 'của', 'từng', 'bộ', 'phim', '?']",
         "{'except': None, 'from': {'conds': [[False, 2, [0, [0, 14, False], None], [0, 1, False], None]], 'table_units': [['table_unit', 2], ['table_unit', 0]]}, 'groupBy': [[0, 14, False]], 'where': [], 'limit': None, 'union': None, 'intersect': None, 'having': [], 'select': [False, [[0, [0, [0, 4, False], None]], [1, [0, [0, 17, False], None]]]], 'orderBy': []}"
        ],
        [
         "40",
         "cinema",
         "select t3.tên , t2.tiêu đề , t1.ngày , t1.giá from lịch chiếu phim as t1 join phim as t2 on t1.id phim = t2.id phim join rạp chiếu phim as t3 on t1.id rạp chiếu phim = t3.id rạp chiếu phim",
         "['select', 't3.tên', ',', 't2.tiêu đề', ',', 't1.ngày', ',', 't1.giá', 'from', 'lịch chiếu phim', 'as', 't1', 'join', 'phim', 'as', 't2', 'on', 't1.id phim', '=', 't2.id phim', 'join', 'rạp chiếu phim', 'as', 't3', 'on', 't1.id rạp chiếu phim', '=', 't3.id rạp chiếu phim']",
         "['select', 't3', '.', 'tên', ',', 't2', '.', 'tiêu đề', ',', 't1', '.', 'ngày', ',', 't1', '.', 'giá', 'from', 'lịch chiếu phim', 'as', 't1', 'join', 'phim', 'as', 't2', 'on', 't1', '.', 'id phim', '=', 't2', '.', 'id phim', 'join', 'rạp chiếu phim', 'as', 't3', 'on', 't1', '.', 'id rạp chiếu phim', '=', 't3', '.', 'id rạp chiếu phim']",
         "Hiển thị tên rạp chiếu phim , tiêu đề , ngày chiếu và giá của từng bộ phim có trong lịch chiếu .",
         "['Hiển', 'thị', 'tên', 'rạp', 'chiếu', 'phim', ',', 'tiêu', 'đề', ',', 'ngày', 'chiếu', 'và', 'giá', 'của', 'từng', 'bộ', 'phim', 'có', 'trong', 'lịch', 'chiếu', '.']",
         "{'except': None, 'from': {'conds': [[False, 2, [0, [0, 14, False], None], [0, 1, False], None]], 'table_units': [['table_unit', 2], ['table_unit', 0]]}, 'groupBy': [], 'where': [], 'limit': None, 'union': None, 'intersect': None, 'having': [], 'select': [False, [[0, [0, [0, 9, False], None]], [0, [0, [0, 4, False], None]], [0, [0, [0, 15, False], None]], [0, [0, [0, 17, False], None]]]], 'orderBy': []}"
        ],
        [
         "41",
         "cinema",
         "select tiêu đề , được đạo diễn bởi from phim where id phim not in ( select id phim from lịch chiếu phim )",
         "['select', 'tiêu đề', ',', 'được đạo diễn bởi', 'from', 'phim', 'where', 'id phim', 'not', 'in', '(', 'select', 'id phim', 'from', 'lịch chiếu phim', ')']",
         "['select', 'tiêu đề', ',', 'được đạo diễn bởi', 'from', 'phim', 'where', 'id phim', 'not', 'in', '(', 'select', 'id phim', 'from', 'lịch chiếu phim', ')']",
         "Cho biết tiêu đề và đạo diễn của những bộ phim không nằm trong lịch chiếu .",
         "['Cho', 'biết', 'tiêu', 'đề', 'và', 'đạo', 'diễn', 'của', 'những', 'bộ', 'phim', 'không', 'nằm', 'trong', 'lịch', 'chiếu', '.']",
         "{'except': None, 'from': {'conds': [], 'table_units': [['table_unit', 0]]}, 'groupBy': [], 'where': [[True, 8, [0, [0, 1, False], None], {'except': None, 'from': {'conds': [], 'table_units': [['table_unit', 2]]}, 'groupBy': [], 'where': [], 'limit': None, 'union': None, 'intersect': None, 'having': [], 'select': [False, [[0, [0, [0, 14, False], None]]]], 'orderBy': []}, None]], 'limit': None, 'union': None, 'intersect': None, 'having': [], 'select': [False, [[0, [0, [0, 4, False], None]], [0, [0, [0, 5, False], None]]]], 'orderBy': []}"
        ],
        [
         "42",
         "cinema",
         "select t2.được đạo diễn bởi from lịch chiếu phim as t1 join phim as t2 on t1.id phim = t2.id phim group by t2.được đạo diễn bởi order by sum ( t1.số lượng suất chiếu mỗi ngày ) desc limit 1",
         "['select', 't2.được đạo diễn bởi', 'from', 'lịch chiếu phim', 'as', 't1', 'join', 'phim', 'as', 't2', 'on', 't1.id phim', '=', 't2.id phim', 'group', 'by', 't2.được đạo diễn bởi', 'order', 'by', 'sum', '(', 't1.số lượng suất chiếu mỗi ngày', ')', 'desc', 'limit', '1']",
         "['select', 't2', '.', 'được đạo diễn bởi', 'from', 'lịch chiếu phim', 'as', 't1', 'join', 'phim', 'as', 't2', 'on', 't1', '.', 'id phim', '=', 't2', '.', 'id phim', 'group', 'by', 't2', '.', 'được đạo diễn bởi', 'order', 'by', 'sum', '(', 't1', '.', 'số lượng suất chiếu mỗi ngày', ')', 'desc', 'limit', 'value']",
         "Cho biết người đạo diễn có nhiều lần công chiếu nhất .",
         "['Cho', 'biết', 'người', 'đạo', 'diễn', 'có', 'nhiều', 'lần', 'công', 'chiếu', 'nhất', '.']",
         "{'except': None, 'from': {'conds': [[False, 2, [0, [0, 14, False], None], [0, 1, False], None]], 'table_units': [['table_unit', 2], ['table_unit', 0]]}, 'groupBy': [[0, 5, False]], 'where': [], 'limit': 1, 'union': None, 'intersect': None, 'having': [], 'select': [False, [[0, [0, [0, 5, False], None]]]], 'orderBy': ['desc', [[0, [4, 16, False], None]]]}"
        ],
        [
         "43",
         "cinema",
         "select địa điểm from rạp chiếu phim where sức chứa > 300 group by địa điểm having count ( * ) > 1",
         "['select', 'địa điểm', 'from', 'rạp chiếu phim', 'where', 'sức chứa', '>', '300', 'group', 'by', 'địa điểm', 'having', 'count', '(', '*', ')', '>', '1']",
         "['select', 'địa điểm', 'from', 'rạp chiếu phim', 'where', 'sức chứa', '>', 'value', 'group', 'by', 'địa điểm', 'having', 'count', '(', '*', ')', '>', 'value']",
         "Tìm các địa điểm có nhiều hơn một rạp chiếu phim với sức chứa trên 300 .",
         "['Tìm', 'các', 'địa', 'điểm', 'có', 'nhiều', 'hơn', 'một', 'rạp', 'chiếu', 'phim', 'với', 'sức', 'chứa', 'trên', '300', '.']",
         "{'except': None, 'from': {'conds': [], 'table_units': [['table_unit', 1]]}, 'groupBy': [[0, 12, False]], 'where': [[False, 3, [0, [0, 11, False], None], 300.0, None]], 'limit': None, 'union': None, 'intersect': None, 'having': [[False, 3, [0, [3, 0, False], None], 1.0, None]], 'select': [False, [[0, [0, [0, 12, False], None]]]], 'orderBy': []}"
        ],
        [
         "44",
         "cinema",
         "select địa điểm from rạp chiếu phim where sức chứa > 300 group by địa điểm having count ( * ) > 1",
         "['select', 'địa điểm', 'from', 'rạp chiếu phim', 'where', 'sức chứa', '>', '300', 'group', 'by', 'địa điểm', 'having', 'count', '(', '*', ')', '>', '1']",
         "['select', 'địa điểm', 'from', 'rạp chiếu phim', 'where', 'sức chứa', '>', 'value', 'group', 'by', 'địa điểm', 'having', 'count', '(', '*', ')', '>', 'value']",
         "Những địa điểm nào có nhiều hơn một rạp chiếu phim với sức chứa trên 300 ?",
         "['Những', 'địa', 'điểm', 'nào', 'có', 'nhiều', 'hơn', 'một', 'rạp', 'chiếu', 'phim', 'với', 'sức', 'chứa', 'trên', '300', '?']",
         "{'except': None, 'from': {'conds': [], 'table_units': [['table_unit', 1]]}, 'groupBy': [[0, 12, False]], 'where': [[False, 3, [0, [0, 11, False], None], 300.0, None]], 'limit': None, 'union': None, 'intersect': None, 'having': [[False, 3, [0, [3, 0, False], None], 1.0, None]], 'select': [False, [[0, [0, [0, 12, False], None]]]], 'orderBy': []}"
        ],
        [
         "45",
         "cinema",
         "select count ( * ) from phim where tiêu đề like \"%Dummy%\"",
         "['select', 'count', '(', '*', ')', 'from', 'phim', 'where', 'tiêu đề', 'like', '\"%Dummy%\"']",
         "['select', 'count', '(', '*', ')', 'from', 'phim', 'where', 'tiêu đề', 'like', 'value']",
         "Có bao nhiêu bộ phim có từ ' Dummy ' trong tựa đề ?",
         "['Có', 'bao', 'nhiêu', 'bộ', 'phim', 'có', 'từ', \"'\", 'Dummy', \"'\", 'trong', 'tựa', 'đề', '?']",
         "{'except': None, 'from': {'conds': [], 'table_units': [['table_unit', 0]]}, 'groupBy': [], 'where': [[False, 9, [0, [0, 4, False], None], '\"%Dummy%\"', None]], 'limit': None, 'union': None, 'intersect': None, 'having': [], 'select': [False, [[3, [0, [0, 0, False], None]]]], 'orderBy': []}"
        ],
        [
         "46",
         "cinema",
         "select count ( * ) from phim where tiêu đề like \"%Dummy%\"",
         "['select', 'count', '(', '*', ')', 'from', 'phim', 'where', 'tiêu đề', 'like', '\"%Dummy%\"']",
         "['select', 'count', '(', '*', ')', 'from', 'phim', 'where', 'tiêu đề', 'like', 'value']",
         "Đếm số lượng phim có tựa đề chứa từ ' Dummy ' .",
         "['Đếm', 'số', 'lượng', 'phim', 'có', 'tựa', 'đề', 'chứa', 'từ', \"'\", 'Dummy', \"'\", '.']",
         "{'except': None, 'from': {'conds': [], 'table_units': [['table_unit', 0]]}, 'groupBy': [], 'where': [[False, 9, [0, [0, 4, False], None], '\"%Dummy%\"', None]], 'limit': None, 'union': None, 'intersect': None, 'having': [], 'select': [False, [[3, [0, [0, 0, False], None]]]], 'orderBy': []}"
        ],
        [
         "47",
         "college_3",
         "select count ( * ) from khoá học",
         "['select', 'count', '(', '*', ')', 'from', 'khoá học']",
         "['select', 'count', '(', '*', ')', 'from', 'khoá học']",
         "Tổng cộng có bao nhiêu khoá học ?",
         "['Tổng', 'cộng', 'có', 'bao', 'nhiêu', 'khoá', 'học', '?']",
         "{'except': None, 'from': {'conds': [], 'table_units': [['table_unit', 4]]}, 'groupBy': [], 'where': [], 'limit': None, 'union': None, 'intersect': None, 'having': [], 'select': [False, [[3, [0, [0, 0, False], None]]]], 'orderBy': []}"
        ],
        [
         "48",
         "college_3",
         "select count ( * ) from khoá học",
         "['select', 'count', '(', '*', ')', 'from', 'khoá học']",
         "['select', 'count', '(', '*', ')', 'from', 'khoá học']",
         "Đếm số lượng các khoá học .",
         "['Đếm', 'số', 'lượng', 'các', 'khoá', 'học', '.']",
         "{'except': None, 'from': {'conds': [], 'table_units': [['table_unit', 4]]}, 'groupBy': [], 'where': [], 'limit': None, 'union': None, 'intersect': None, 'having': [], 'select': [False, [[3, [0, [0, 0, False], None]]]], 'orderBy': []}"
        ],
        [
         "49",
         "college_3",
         "select count ( * ) from khoá học where số lượng tín chỉ > 2",
         "['select', 'count', '(', '*', ')', 'from', 'khoá học', 'where', 'số lượng tín chỉ', '>', '2']",
         "['select', 'count', '(', '*', ')', 'from', 'khoá học', 'where', 'số lượng tín chỉ', '>', 'value']",
         "Có bao nhiêu khoá học cung cấp nhiều hơn 2 tín chỉ ?",
         "['Có', 'bao', 'nhiêu', 'khoá', 'học', 'cung', 'cấp', 'nhiều', 'hơn', '2', 'tín', 'chỉ', '?']",
         "{'except': None, 'from': {'conds': [], 'table_units': [['table_unit', 4]]}, 'groupBy': [], 'where': [[False, 3, [0, [0, 28, False], None], 2.0, None]], 'limit': None, 'union': None, 'intersect': None, 'having': [], 'select': [False, [[3, [0, [0, 0, False], None]]]], 'orderBy': []}"
        ]
       ],
       "shape": {
        "columns": 7,
        "rows": 19386
       }
      },
      "text/html": [
       "<div>\n",
       "<style scoped>\n",
       "    .dataframe tbody tr th:only-of-type {\n",
       "        vertical-align: middle;\n",
       "    }\n",
       "\n",
       "    .dataframe tbody tr th {\n",
       "        vertical-align: top;\n",
       "    }\n",
       "\n",
       "    .dataframe thead th {\n",
       "        text-align: right;\n",
       "    }\n",
       "</style>\n",
       "<table border=\"1\" class=\"dataframe\">\n",
       "  <thead>\n",
       "    <tr style=\"text-align: right;\">\n",
       "      <th></th>\n",
       "      <th>db_id</th>\n",
       "      <th>query</th>\n",
       "      <th>query_toks</th>\n",
       "      <th>query_toks_no_value</th>\n",
       "      <th>question</th>\n",
       "      <th>question_toks</th>\n",
       "      <th>sql</th>\n",
       "    </tr>\n",
       "  </thead>\n",
       "  <tbody>\n",
       "    <tr>\n",
       "      <th>0</th>\n",
       "      <td>architecture</td>\n",
       "      <td>select count ( * ) from kiến trúc sư where giớ...</td>\n",
       "      <td>[select, count, (, *, ), from, kiến trúc sư, w...</td>\n",
       "      <td>[select, count, (, *, ), from, kiến trúc sư, w...</td>\n",
       "      <td>Có tất cả bao nhiêu kiến trúc sư nữ ?</td>\n",
       "      <td>[Có, tất, cả, bao, nhiêu, kiến, trúc, sư, nữ, ?]</td>\n",
       "      <td>{'except': None, 'from': {'conds': [], 'table_...</td>\n",
       "    </tr>\n",
       "    <tr>\n",
       "      <th>1</th>\n",
       "      <td>architecture</td>\n",
       "      <td>select tên , quốc tịch , id from kiến trúc sư ...</td>\n",
       "      <td>[select, tên, ,, quốc tịch, ,, id, from, kiến ...</td>\n",
       "      <td>[select, tên, ,, quốc tịch, ,, id, from, kiến ...</td>\n",
       "      <td>Liệt kê tên , quốc tịch và id của tất cả các k...</td>\n",
       "      <td>[Liệt, kê, tên, ,, quốc, tịch, và, id, của, tấ...</td>\n",
       "      <td>{'except': None, 'from': {'conds': [], 'table_...</td>\n",
       "    </tr>\n",
       "    <tr>\n",
       "      <th>2</th>\n",
       "      <td>architecture</td>\n",
       "      <td>select max ( t1.chiều dài theo mét ) , t2.tên ...</td>\n",
       "      <td>[select, max, (, t1.chiều dài theo mét, ), ,, ...</td>\n",
       "      <td>[select, max, (, t1, ., chiều dài theo mét, ),...</td>\n",
       "      <td>Cho biết tên của người kiến trúc sư đã tạo ra ...</td>\n",
       "      <td>[Cho, biết, tên, của, người, kiến, trúc, sư, đ...</td>\n",
       "      <td>{'except': None, 'from': {'conds': [[False, 2,...</td>\n",
       "    </tr>\n",
       "    <tr>\n",
       "      <th>3</th>\n",
       "      <td>architecture</td>\n",
       "      <td>select avg ( chiều dài theo feet ) from cầu</td>\n",
       "      <td>[select, avg, (, chiều dài theo feet, ), from,...</td>\n",
       "      <td>[select, avg, (, chiều dài theo feet, ), from,...</td>\n",
       "      <td>Cho biết chiều dài trung bình tính theo feet c...</td>\n",
       "      <td>[Cho, biết, chiều, dài, trung, bình, tính, the...</td>\n",
       "      <td>{'except': None, 'from': {'conds': [], 'table_...</td>\n",
       "    </tr>\n",
       "    <tr>\n",
       "      <th>4</th>\n",
       "      <td>architecture</td>\n",
       "      <td>select tên , năm xây dựng from nhà máy where l...</td>\n",
       "      <td>[select, tên, ,, năm xây dựng, from, nhà máy, ...</td>\n",
       "      <td>[select, tên, ,, năm xây dựng, from, nhà máy, ...</td>\n",
       "      <td>Cho biết tên và năm xây dựng của các nhà máy t...</td>\n",
       "      <td>[Cho, biết, tên, và, năm, xây, dựng, của, các,...</td>\n",
       "      <td>{'except': None, 'from': {'conds': [], 'table_...</td>\n",
       "    </tr>\n",
       "    <tr>\n",
       "      <th>...</th>\n",
       "      <td>...</td>\n",
       "      <td>...</td>\n",
       "      <td>...</td>\n",
       "      <td>...</td>\n",
       "      <td>...</td>\n",
       "      <td>...</td>\n",
       "      <td>...</td>\n",
       "    </tr>\n",
       "    <tr>\n",
       "      <th>6826</th>\n",
       "      <td>wrestler</td>\n",
       "      <td>select đội from lần bị loại where bị loại bởi ...</td>\n",
       "      <td>[select, đội, from, lần bị loại, where, bị loạ...</td>\n",
       "      <td>[select, đội, from, lần bị loại, where, bị loạ...</td>\n",
       "      <td>Những đội có các đô_vật bị loại bởi ' Orton ' ...</td>\n",
       "      <td>[Những, đội, có, các, đô_vật, bị, loại, bởi, '...</td>\n",
       "      <td>{'except': None, 'from': {'conds': [], 'table_...</td>\n",
       "    </tr>\n",
       "    <tr>\n",
       "      <th>6827</th>\n",
       "      <td>wrestler</td>\n",
       "      <td>select count ( distinct đội ) from lần bị loại</td>\n",
       "      <td>[select, count, (, distinct, đội, ), from, lần...</td>\n",
       "      <td>[select, count, (, distinct, đội, ), from, lần...</td>\n",
       "      <td>Những đô_vật đã bị loại đại_diện cho tất_cả ba...</td>\n",
       "      <td>[Những, đô_vật, đã, bị, loại, đại_diện, cho, t...</td>\n",
       "      <td>{'except': None, 'from': {'conds': [], 'table_...</td>\n",
       "    </tr>\n",
       "    <tr>\n",
       "      <th>6828</th>\n",
       "      <td>wrestler</td>\n",
       "      <td>select count ( distinct đội ) from lần bị loại</td>\n",
       "      <td>[select, count, (, distinct, đội, ), from, lần...</td>\n",
       "      <td>[select, count, (, distinct, đội, ), from, lần...</td>\n",
       "      <td>Có bao_nhiêu đội khác nhau có thành_viên là cá...</td>\n",
       "      <td>[Có, bao_nhiêu, đội, khác, nhau, có, thành_viê...</td>\n",
       "      <td>{'except': None, 'from': {'conds': [], 'table_...</td>\n",
       "    </tr>\n",
       "    <tr>\n",
       "      <th>6829</th>\n",
       "      <td>wrestler</td>\n",
       "      <td>select thời_gian from lần bị loại where bị loạ...</td>\n",
       "      <td>[select, thời_gian, from, lần bị loại, where, ...</td>\n",
       "      <td>[select, thời_gian, from, lần bị loại, where, ...</td>\n",
       "      <td>Những đô_vật đã bị loại bởi ' Punk ' hoặc ' Or...</td>\n",
       "      <td>[Những, đô_vật, đã, bị, loại, bởi, ', Punk, ',...</td>\n",
       "      <td>{'except': None, 'from': {'conds': [], 'table_...</td>\n",
       "    </tr>\n",
       "    <tr>\n",
       "      <th>6830</th>\n",
       "      <td>wrestler</td>\n",
       "      <td>select thời_gian from lần bị loại where bị loạ...</td>\n",
       "      <td>[select, thời_gian, from, lần bị loại, where, ...</td>\n",
       "      <td>[select, thời_gian, from, lần bị loại, where, ...</td>\n",
       "      <td>Cho biết thời_gian bị loại của các đô_vật bị l...</td>\n",
       "      <td>[Cho, biết, thời_điểm, bị, loại, của, các, đô_...</td>\n",
       "      <td>{'except': None, 'from': {'conds': [], 'table_...</td>\n",
       "    </tr>\n",
       "  </tbody>\n",
       "</table>\n",
       "<p>19386 rows × 7 columns</p>\n",
       "</div>"
      ],
      "text/plain": [
       "             db_id                                              query  \\\n",
       "0     architecture  select count ( * ) from kiến trúc sư where giớ...   \n",
       "1     architecture  select tên , quốc tịch , id from kiến trúc sư ...   \n",
       "2     architecture  select max ( t1.chiều dài theo mét ) , t2.tên ...   \n",
       "3     architecture        select avg ( chiều dài theo feet ) from cầu   \n",
       "4     architecture  select tên , năm xây dựng from nhà máy where l...   \n",
       "...            ...                                                ...   \n",
       "6826      wrestler  select đội from lần bị loại where bị loại bởi ...   \n",
       "6827      wrestler     select count ( distinct đội ) from lần bị loại   \n",
       "6828      wrestler     select count ( distinct đội ) from lần bị loại   \n",
       "6829      wrestler  select thời_gian from lần bị loại where bị loạ...   \n",
       "6830      wrestler  select thời_gian from lần bị loại where bị loạ...   \n",
       "\n",
       "                                             query_toks  \\\n",
       "0     [select, count, (, *, ), from, kiến trúc sư, w...   \n",
       "1     [select, tên, ,, quốc tịch, ,, id, from, kiến ...   \n",
       "2     [select, max, (, t1.chiều dài theo mét, ), ,, ...   \n",
       "3     [select, avg, (, chiều dài theo feet, ), from,...   \n",
       "4     [select, tên, ,, năm xây dựng, from, nhà máy, ...   \n",
       "...                                                 ...   \n",
       "6826  [select, đội, from, lần bị loại, where, bị loạ...   \n",
       "6827  [select, count, (, distinct, đội, ), from, lần...   \n",
       "6828  [select, count, (, distinct, đội, ), from, lần...   \n",
       "6829  [select, thời_gian, from, lần bị loại, where, ...   \n",
       "6830  [select, thời_gian, from, lần bị loại, where, ...   \n",
       "\n",
       "                                    query_toks_no_value  \\\n",
       "0     [select, count, (, *, ), from, kiến trúc sư, w...   \n",
       "1     [select, tên, ,, quốc tịch, ,, id, from, kiến ...   \n",
       "2     [select, max, (, t1, ., chiều dài theo mét, ),...   \n",
       "3     [select, avg, (, chiều dài theo feet, ), from,...   \n",
       "4     [select, tên, ,, năm xây dựng, from, nhà máy, ...   \n",
       "...                                                 ...   \n",
       "6826  [select, đội, from, lần bị loại, where, bị loạ...   \n",
       "6827  [select, count, (, distinct, đội, ), from, lần...   \n",
       "6828  [select, count, (, distinct, đội, ), from, lần...   \n",
       "6829  [select, thời_gian, from, lần bị loại, where, ...   \n",
       "6830  [select, thời_gian, from, lần bị loại, where, ...   \n",
       "\n",
       "                                               question  \\\n",
       "0                 Có tất cả bao nhiêu kiến trúc sư nữ ?   \n",
       "1     Liệt kê tên , quốc tịch và id của tất cả các k...   \n",
       "2     Cho biết tên của người kiến trúc sư đã tạo ra ...   \n",
       "3     Cho biết chiều dài trung bình tính theo feet c...   \n",
       "4     Cho biết tên và năm xây dựng của các nhà máy t...   \n",
       "...                                                 ...   \n",
       "6826  Những đội có các đô_vật bị loại bởi ' Orton ' ...   \n",
       "6827  Những đô_vật đã bị loại đại_diện cho tất_cả ba...   \n",
       "6828  Có bao_nhiêu đội khác nhau có thành_viên là cá...   \n",
       "6829  Những đô_vật đã bị loại bởi ' Punk ' hoặc ' Or...   \n",
       "6830  Cho biết thời_gian bị loại của các đô_vật bị l...   \n",
       "\n",
       "                                          question_toks  \\\n",
       "0      [Có, tất, cả, bao, nhiêu, kiến, trúc, sư, nữ, ?]   \n",
       "1     [Liệt, kê, tên, ,, quốc, tịch, và, id, của, tấ...   \n",
       "2     [Cho, biết, tên, của, người, kiến, trúc, sư, đ...   \n",
       "3     [Cho, biết, chiều, dài, trung, bình, tính, the...   \n",
       "4     [Cho, biết, tên, và, năm, xây, dựng, của, các,...   \n",
       "...                                                 ...   \n",
       "6826  [Những, đội, có, các, đô_vật, bị, loại, bởi, '...   \n",
       "6827  [Những, đô_vật, đã, bị, loại, đại_diện, cho, t...   \n",
       "6828  [Có, bao_nhiêu, đội, khác, nhau, có, thành_viê...   \n",
       "6829  [Những, đô_vật, đã, bị, loại, bởi, ', Punk, ',...   \n",
       "6830  [Cho, biết, thời_điểm, bị, loại, của, các, đô_...   \n",
       "\n",
       "                                                    sql  \n",
       "0     {'except': None, 'from': {'conds': [], 'table_...  \n",
       "1     {'except': None, 'from': {'conds': [], 'table_...  \n",
       "2     {'except': None, 'from': {'conds': [[False, 2,...  \n",
       "3     {'except': None, 'from': {'conds': [], 'table_...  \n",
       "4     {'except': None, 'from': {'conds': [], 'table_...  \n",
       "...                                                 ...  \n",
       "6826  {'except': None, 'from': {'conds': [], 'table_...  \n",
       "6827  {'except': None, 'from': {'conds': [], 'table_...  \n",
       "6828  {'except': None, 'from': {'conds': [], 'table_...  \n",
       "6829  {'except': None, 'from': {'conds': [], 'table_...  \n",
       "6830  {'except': None, 'from': {'conds': [], 'table_...  \n",
       "\n",
       "[19386 rows x 7 columns]"
      ]
     },
     "execution_count": 12,
     "metadata": {},
     "output_type": "execute_result"
    }
   ],
   "source": [
    "DF1 = pd.concat([DF_s1, DF_s3, DF_s4, DF_w1, DF_w3, DF_w4], axis=0)\n",
    "DF1"
   ]
  },
  {
   "cell_type": "code",
   "execution_count": 13,
   "metadata": {},
   "outputs": [
    {
     "data": {
      "application/vnd.microsoft.datawrangler.viewer.v0+json": {
       "columns": [
        {
         "name": "index",
         "rawType": "int64",
         "type": "integer"
        },
        {
         "name": "index",
         "rawType": "int64",
         "type": "integer"
        },
        {
         "name": "db_id",
         "rawType": "object",
         "type": "string"
        },
        {
         "name": "query",
         "rawType": "object",
         "type": "string"
        },
        {
         "name": "query_toks",
         "rawType": "object",
         "type": "unknown"
        },
        {
         "name": "query_toks_no_value",
         "rawType": "object",
         "type": "unknown"
        },
        {
         "name": "question",
         "rawType": "object",
         "type": "string"
        },
        {
         "name": "question_toks",
         "rawType": "object",
         "type": "unknown"
        },
        {
         "name": "sql",
         "rawType": "object",
         "type": "unknown"
        }
       ],
       "ref": "fd2a7f3c-4ac3-4470-9c0c-2991444f9537",
       "rows": [
        [
         "0",
         "0",
         "architecture",
         "select count ( * ) from kiến trúc sư where giới tính = \"female\"",
         "['select', 'count', '(', '*', ')', 'from', 'kiến trúc sư', 'where', 'giới tính', '=', '\"female\"']",
         "['select', 'count', '(', '*', ')', 'from', 'kiến trúc sư', 'where', 'giới tính', '=', 'value']",
         "Có tất cả bao nhiêu kiến trúc sư nữ ?",
         "['Có', 'tất', 'cả', 'bao', 'nhiêu', 'kiến', 'trúc', 'sư', 'nữ', '?']",
         "{'except': None, 'from': {'conds': [], 'table_units': [['table_unit', 0]]}, 'groupBy': [], 'where': [[False, 2, [0, [0, 4, False], None], '\"female\"', None]], 'limit': None, 'union': None, 'intersect': None, 'having': [], 'select': [False, [[3, [0, [0, 0, False], None]]]], 'orderBy': []}"
        ],
        [
         "1",
         "1",
         "architecture",
         "select tên , quốc tịch , id from kiến trúc sư where giới tính = \"male\" order by tên",
         "['select', 'tên', ',', 'quốc tịch', ',', 'id', 'from', 'kiến trúc sư', 'where', 'giới tính', '=', '\"male\"', 'order', 'by', 'tên']",
         "['select', 'tên', ',', 'quốc tịch', ',', 'id', 'from', 'kiến trúc sư', 'where', 'giới tính', '=', 'value', 'order', 'by', 'tên']",
         "Liệt kê tên , quốc tịch và id của tất cả các kiến trúc sư nam theo thứ tự tên .",
         "['Liệt', 'kê', 'tên', ',', 'quốc', 'tịch', 'và', 'id', 'của', 'tất', 'cả', 'các', 'kiến', 'trúc', 'sư', 'nam', 'theo', 'thứ', 'tự', 'tên', '.']",
         "{'except': None, 'from': {'conds': [], 'table_units': [['table_unit', 0]]}, 'groupBy': [], 'where': [[False, 2, [0, [0, 4, False], None], '\"male\"', None]], 'limit': None, 'union': None, 'intersect': None, 'having': [], 'select': [False, [[0, [0, [0, 2, False], None]], [0, [0, [0, 3, False], None]], [0, [0, [0, 1, False], None]]]], 'orderBy': ['asc', [[0, [0, 2, False], None]]]}"
        ],
        [
         "2",
         "2",
         "architecture",
         "select max ( t1.chiều dài theo mét ) , t2.tên from cầu as t1 join kiến trúc sư as t2 on t1.id kiến trúc sư = t2.id",
         "['select', 'max', '(', 't1.chiều dài theo mét', ')', ',', 't2.tên', 'from', 'cầu', 'as', 't1', 'join', 'kiến trúc sư', 'as', 't2', 'on', 't1.id kiến trúc sư', '=', 't2.id']",
         "['select', 'max', '(', 't1', '.', 'chiều dài theo mét', ')', ',', 't2', '.', 'tên', 'from', 'cầu', 'as', 't1', 'join', 'kiến trúc sư', 'as', 't2', 'on', 't1', '.', 'id kiến trúc sư', '=', 't2', '.', 'id']",
         "Cho biết tên của người kiến trúc sư đã tạo ra cây cầu dài nhất cũng như là chiều dài tính bằng mét của cây cầu này .",
         "['Cho', 'biết', 'tên', 'của', 'người', 'kiến', 'trúc', 'sư', 'đã', 'tạo', 'ra', 'cây', 'cầu', 'dài', 'nhất', 'cũng', 'như', 'là', 'chiều', 'dài', 'tính', 'bằng', 'mét', 'của', 'cây', 'cầu', 'này', '.']",
         "{'except': None, 'from': {'conds': [[False, 2, [0, [0, 5, False], None], [0, 1, False], None]], 'table_units': [['table_unit', 1], ['table_unit', 0]]}, 'groupBy': [], 'where': [], 'limit': None, 'union': None, 'intersect': None, 'having': [], 'select': [False, [[1, [0, [0, 9, False], None]], [0, [0, [0, 2, False], None]]]], 'orderBy': []}"
        ],
        [
         "3",
         "3",
         "architecture",
         "select avg ( chiều dài theo feet ) from cầu",
         "['select', 'avg', '(', 'chiều dài theo feet', ')', 'from', 'cầu']",
         "['select', 'avg', '(', 'chiều dài theo feet', ')', 'from', 'cầu']",
         "Cho biết chiều dài trung bình tính theo feet của tất cả các cây cầu .",
         "['Cho', 'biết', 'chiều', 'dài', 'trung', 'bình', 'tính', 'theo', 'feet', 'của', 'tất', 'cả', 'các', 'cây', 'cầu', '.']",
         "{'except': None, 'from': {'conds': [], 'table_units': [['table_unit', 1]]}, 'groupBy': [], 'where': [], 'limit': None, 'union': None, 'intersect': None, 'having': [], 'select': [False, [[5, [0, [0, 10, False], None]]]], 'orderBy': []}"
        ],
        [
         "4",
         "4",
         "architecture",
         "select tên , năm xây dựng from nhà máy where loại = \"Grondzeiler\"",
         "['select', 'tên', ',', 'năm xây dựng', 'from', 'nhà máy', 'where', 'loại', '=', '\"Grondzeiler\"']",
         "['select', 'tên', ',', 'năm xây dựng', 'from', 'nhà máy', 'where', 'loại', '=', 'value']",
         "Cho biết tên và năm xây dựng của các nhà máy thuộc loại ' Grondzeiler ' ?",
         "['Cho', 'biết', 'tên', 'và', 'năm', 'xây', 'dựng', 'của', 'các', 'nhà', 'máy', 'thuộc', 'loại', \"'\", 'Grondzeiler', \"'\", '?']",
         "{'except': None, 'from': {'conds': [], 'table_units': [['table_unit', 2]]}, 'groupBy': [], 'where': [[False, 2, [0, [0, 15, False], None], '\"Grondzeiler\"', None]], 'limit': None, 'union': None, 'intersect': None, 'having': [], 'select': [False, [[0, [0, [0, 14, False], None]], [0, [0, [0, 16, False], None]]]], 'orderBy': []}"
        ],
        [
         "5",
         "5",
         "architecture",
         "select distinct t1.tên , t1.quốc tịch from kiến trúc sư as t1 join nhà máy as t2 on t1.id = t2.id kiến trúc sư",
         "['select', 'distinct', 't1.tên', ',', 't1.quốc tịch', 'from', 'kiến trúc sư', 'as', 't1', 'join', 'nhà máy', 'as', 't2', 'on', 't1.id', '=', 't2.id kiến trúc sư']",
         "['select', 'distinct', 't1', '.', 'tên', ',', 't1', '.', 'quốc tịch', 'from', 'kiến trúc sư', 'as', 't1', 'join', 'nhà máy', 'as', 't2', 'on', 't1', '.', 'id', '=', 't2', '.', 'id kiến trúc sư']",
         "Cho biết tên và quốc tịch của những kiến trúc sư khác nhau đã từng xây dựng một nhà máy .",
         "['Cho', 'biết', 'tên', 'và', 'quốc', 'tịch', 'của', 'những', 'kiến', 'trúc', 'sư', 'khác', 'nhau', 'đã', 'từng', 'xây', 'dựng', 'một', 'nhà', 'máy', '.']",
         "{'except': None, 'from': {'conds': [[False, 2, [0, [0, 1, False], None], [0, 11, False], None]], 'table_units': [['table_unit', 0], ['table_unit', 2]]}, 'groupBy': [], 'where': [], 'limit': None, 'union': None, 'intersect': None, 'having': [], 'select': [True, [[0, [0, [0, 2, False], None]], [0, [0, [0, 3, False], None]]]], 'orderBy': []}"
        ],
        [
         "6",
         "6",
         "architecture",
         "select tên from nhà máy where địa điểm != \"Donceel\"",
         "['select', 'tên', 'from', 'nhà máy', 'where', 'địa điểm', '!=', '\"Donceel\"']",
         "['select', 'tên', 'from', 'nhà máy', 'where', 'địa điểm', '!', '=', 'value']",
         "Cho biết tên của các nhà máy không được đặt tại ' Donceel ' .",
         "['Cho', 'biết', 'tên', 'của', 'các', 'nhà', 'máy', 'không', 'được', 'đặt', 'tại', \"'\", 'Donceel', \"'\", '.']",
         "{'except': None, 'from': {'conds': [], 'table_units': [['table_unit', 2]]}, 'groupBy': [], 'where': [[False, 7, [0, [0, 13, False], None], '\"Donceel\"', None]], 'limit': None, 'union': None, 'intersect': None, 'having': [], 'select': [False, [[0, [0, [0, 14, False], None]]]], 'orderBy': []}"
        ],
        [
         "7",
         "7",
         "architecture",
         "select distinct t1.loại from nhà máy as t1 join kiến trúc sư as t2 on t1.id kiến trúc sư = t2.id where t2.quốc tịch = \"American\" or t2.quốc tịch = \"Canadian\"",
         "['select', 'distinct', 't1.loại', 'from', 'nhà máy', 'as', 't1', 'join', 'kiến trúc sư', 'as', 't2', 'on', 't1.id kiến trúc sư', '=', 't2.id', 'where', 't2.quốc tịch', '=', '\"American\"', 'or', 't2.quốc tịch', '=', '\"Canadian\"']",
         "['select', 'distinct', 't1', '.', 'loại', 'from', 'nhà máy', 'as', 't1', 'join', 'kiến trúc sư', 'as', 't2', 'on', 't1', '.', 'id kiến trúc sư', '=', 't2', '.', 'id', 'where', 't2', '.', 'quốc tịch', '=', 'value', 'or', 't2', '.', 'quốc tịch', '=', 'value']",
         "Cho biết các loại nhà máy khác nhau đã được xây dựng bởi các kiến trúc sư người Mỹ hoặc các kiến trúc sư người Canada .",
         "['Cho', 'biết', 'các', 'loại', 'nhà', 'máy', 'khác', 'nhau', 'đã', 'được', 'xây', 'dựng', 'bởi', 'các', 'kiến', 'trúc', 'sư', 'người', 'Mỹ', 'hoặc', 'các', 'kiến', 'trúc', 'sư', 'người', 'Canada', '.']",
         "{'except': None, 'from': {'conds': [[False, 2, [0, [0, 11, False], None], [0, 1, False], None]], 'table_units': [['table_unit', 2], ['table_unit', 0]]}, 'groupBy': [], 'where': [[False, 2, [0, [0, 3, False], None], '\"American\"', None], 'or', [False, 2, [0, [0, 3, False], None], '\"Canadian\"', None]], 'limit': None, 'union': None, 'intersect': None, 'having': [], 'select': [True, [[0, [0, [0, 15, False], None]]]], 'orderBy': []}"
        ],
        [
         "8",
         "8",
         "architecture",
         "select t1.id , t1.tên from kiến trúc sư as t1 join cầu as t2 on t1.id = t2.id kiến trúc sư group by t1.id having count ( * ) >= 3",
         "['select', 't1.id', ',', 't1.tên', 'from', 'kiến trúc sư', 'as', 't1', 'join', 'cầu', 'as', 't2', 'on', 't1.id', '=', 't2.id kiến trúc sư', 'group', 'by', 't1.id', 'having', 'count', '(', '*', ')', '>=', '3']",
         "['select', 't1', '.', 'id', ',', 't1', '.', 'tên', 'from', 'kiến trúc sư', 'as', 't1', 'join', 'cầu', 'as', 't2', 'on', 't1', '.', 'id', '=', 't2', '.', 'id kiến trúc sư', 'group', 'by', 't1', '.', 'id', 'having', 'count', '(', '*', ')', '>', '=', 'value']",
         "Cho biết id và tên của các kiến trúc sư đã xây dựng ít nhất 3 cây cầu .",
         "['Cho', 'biết', 'id', 'và', 'tên', 'của', 'các', 'kiến', 'trúc', 'sư', 'đã', 'xây', 'dựng', 'ít', 'nhất', '3', 'cây', 'cầu', '.']",
         "{'except': None, 'from': {'conds': [[False, 2, [0, [0, 1, False], None], [0, 5, False], None]], 'table_units': [['table_unit', 0], ['table_unit', 1]]}, 'groupBy': [[0, 1, False]], 'where': [], 'limit': None, 'union': None, 'intersect': None, 'having': [[False, 5, [0, [3, 0, False], None], 3.0, None]], 'select': [False, [[0, [0, [0, 1, False], None]], [0, [0, [0, 2, False], None]]]], 'orderBy': []}"
        ],
        [
         "9",
         "9",
         "architecture",
         "select t1.id , t1.tên , t1.quốc tịch from kiến trúc sư as t1 join nhà máy as t2 on t1.id = t2.id kiến trúc sư group by t1.id order by count ( * ) desc limit 1",
         "['select', 't1.id', ',', 't1.tên', ',', 't1.quốc tịch', 'from', 'kiến trúc sư', 'as', 't1', 'join', 'nhà máy', 'as', 't2', 'on', 't1.id', '=', 't2.id kiến trúc sư', 'group', 'by', 't1.id', 'order', 'by', 'count', '(', '*', ')', 'desc', 'limit', '1']",
         "['select', 't1', '.', 'id', ',', 't1', '.', 'tên', ',', 't1', '.', 'quốc tịch', 'from', 'kiến trúc sư', 'as', 't1', 'join', 'nhà máy', 'as', 't2', 'on', 't1', '.', 'id', '=', 't2', '.', 'id kiến trúc sư', 'group', 'by', 't1', '.', 'id', 'order', 'by', 'count', '(', '*', ')', 'desc', 'limit', 'value']",
         "Cho biết id , tên và quốc tịch của kiến trúc sư đã xây dựng nhiều nhà máy nhất .",
         "['Cho', 'biết', 'id', ',', 'tên', 'và', 'quốc', 'tịch', 'của', 'kiến', 'trúc', 'sư', 'đã', 'xây', 'dựng', 'nhiều', 'nhà', 'máy', 'nhất', '.']",
         "{'except': None, 'from': {'conds': [[False, 2, [0, [0, 1, False], None], [0, 11, False], None]], 'table_units': [['table_unit', 0], ['table_unit', 2]]}, 'groupBy': [[0, 1, False]], 'where': [], 'limit': 1, 'union': None, 'intersect': None, 'having': [], 'select': [False, [[0, [0, [0, 1, False], None]], [0, [0, [0, 2, False], None]], [0, [0, [0, 3, False], None]]]], 'orderBy': ['desc', [[0, [3, 0, False], None]]]}"
        ],
        [
         "10",
         "10",
         "architecture",
         "select t1.id , t1.tên , t1.giới tính from kiến trúc sư as t1 join cầu as t2 on t1.id = t2.id kiến trúc sư group by t1.id having count ( * ) = 2 union select t1.id , t1.tên , t1.giới tính from kiến trúc sư as t1 join nhà máy as t2 on t1.id = t2.id kiến trúc sư group by t1.id having count ( * ) = 1",
         "['select', 't1.id', ',', 't1.tên', ',', 't1.giới tính', 'from', 'kiến trúc sư', 'as', 't1', 'join', 'cầu', 'as', 't2', 'on', 't1.id', '=', 't2.id kiến trúc sư', 'group', 'by', 't1.id', 'having', 'count', '(', '*', ')', '=', '2', 'union', 'select', 't1.id', ',', 't1.tên', ',', 't1.giới tính', 'from', 'kiến trúc sư', 'as', 't1', 'join', 'nhà máy', 'as', 't2', 'on', 't1.id', '=', 't2.id kiến trúc sư', 'group', 'by', 't1.id', 'having', 'count', '(', '*', ')', '=', '1']",
         "['select', 't1', '.', 'id', ',', 't1', '.', 'tên', ',', 't1', '.', 'giới tính', 'from', 'kiến trúc sư', 'as', 't1', 'join', 'cầu', 'as', 't2', 'on', 't1', '.', 'id', '=', 't2', '.', 'id kiến trúc sư', 'group', 'by', 't1', '.', 'id', 'having', 'count', '(', '*', ')', '=', 'value', 'union', 'select', 't1', '.', 'id', ',', 't1', '.', 'tên', ',', 't1', '.', 'giới tính', 'from', 'kiến trúc sư', 'as', 't1', 'join', 'nhà máy', 'as', 't2', 'on', 't1', '.', 'id', '=', 't2', '.', 'id kiến trúc sư', 'group', 'by', 't1', '.', 'id', 'having', 'count', '(', '*', ')', '=', 'value']",
         "Cho biết id , tên và giới tính của các kiến trúc sư đã xây dựng hai cây cầu hoặc một nhà máy .",
         "['Cho', 'biết', 'id', ',', 'tên', 'và', 'giới', 'tính', 'của', 'các', 'kiến', 'trúc', 'sư', 'đã', 'xây', 'dựng', 'hai', 'cây', 'cầu', 'hoặc', 'một', 'nhà', 'máy', '.']",
         "{'except': None, 'from': {'conds': [[False, 2, [0, [0, 1, False], None], [0, 11, False], None]], 'table_units': [['table_unit', 0], ['table_unit', 1]]}, 'groupBy': [[0, 1, False]], 'where': [], 'limit': None, 'union': {'except': None, 'from': {'conds': [[False, 2, [0, [0, 1, False], None], [0, 11, False], None]], 'table_units': [['table_unit', 0], ['table_unit', 2]]}, 'groupBy': [[0, 1, False]], 'where': [], 'limit': None, 'union': None, 'intersect': None, 'having': [[False, 2, [0, [3, 0, False], None], 1.0, None]], 'select': [False, [[0, [0, [0, 1, False], None]], [0, [0, [0, 2, False], None]], [0, [0, [0, 4, False], None]]]], 'orderBy': []}, 'intersect': None, 'having': [[False, 2, [0, [3, 0, False], None], 2.0, None]], 'select': [False, [[0, [0, [0, 1, False], None]], [0, [0, [0, 2, False], None]], [0, [0, [0, 4, False], None]]]], 'orderBy': []}"
        ],
        [
         "11",
         "11",
         "architecture",
         "select địa điểm from cầu where tên = \"Kolob Arch\" or tên = \"Rainbow Bridge\"",
         "['select', 'địa điểm', 'from', 'cầu', 'where', 'tên', '=', '\"Kolob Arch\"', 'or', 'tên', '=', '\"Rainbow Bridge\"']",
         "['select', 'địa điểm', 'from', 'cầu', 'where', 'tên', '=', 'value', 'or', 'tên', '=', 'value']",
         "Cho biết địa điểm của cây cầu có tên là ' Cổng vòm Kolob ' hoặc cây cầu có tên là ' Cầu cầu vồng ' .",
         "['Cho', 'biết', 'địa', 'điểm', 'của', 'cây', 'cầu', 'có', 'tên', 'là', \"'\", 'Cổng', 'vòm', 'Kolob', \"'\", 'hoặc', 'cây', 'cầu', 'có', 'tên', 'là', \"'\", 'Cầu', 'cầu', 'vồng', \"'\", '.']",
         "{'except': None, 'from': {'conds': [], 'table_units': [['table_unit', 1]]}, 'groupBy': [], 'where': [[False, 2, [0, [0, 7, False], None], '\"Kolob Arch\"', None], 'or', [False, 2, [0, [0, 7, False], None], '\"Rainbow Bridge\"', None]], 'limit': None, 'union': None, 'intersect': None, 'having': [], 'select': [False, [[0, [0, [0, 8, False], None]]]], 'orderBy': []}"
        ],
        [
         "12",
         "12",
         "architecture",
         "select tên from nhà máy where tên like \"%Moulin%\"",
         "['select', 'tên', 'from', 'nhà máy', 'where', 'tên', 'like', '\"%Moulin%\"']",
         "['select', 'tên', 'from', 'nhà máy', 'where', 'tên', 'like', 'value']",
         "Cho biết tên của nhà máy có chứa từ tiếng Pháp ' Moulin ' trong tên .",
         "['Cho', 'biết', 'tên', 'của', 'nhà', 'máy', 'có', 'chứa', 'từ', 'tiếng', 'Pháp', \"'\", 'Moulin', \"'\", 'trong', 'tên', '.']",
         "{'except': None, 'from': {'conds': [], 'table_units': [['table_unit', 2]]}, 'groupBy': [], 'where': [[False, 9, [0, [0, 14, False], None], '\"%Moulin%\"', None]], 'limit': None, 'union': None, 'intersect': None, 'having': [], 'select': [False, [[0, [0, [0, 14, False], None]]]], 'orderBy': []}"
        ],
        [
         "13",
         "13",
         "architecture",
         "select distinct t1.tên from nhà máy as t1 join kiến trúc sư as t2 on t1.id kiến trúc sư = t2.id join cầu as t3 on t3.id kiến trúc sư = t2.id where t3.chiều dài theo mét > 80",
         "['select', 'distinct', 't1.tên', 'from', 'nhà máy', 'as', 't1', 'join', 'kiến trúc sư', 'as', 't2', 'on', 't1.id kiến trúc sư', '=', 't2.id', 'join', 'cầu', 'as', 't3', 'on', 't3.id kiến trúc sư', '=', 't2.id', 'where', 't3.chiều dài theo mét', '>', '80']",
         "['select', 'distinct', 't1', '.', 'tên', 'from', 'nhà máy', 'as', 't1', 'join', 'kiến trúc sư', 'as', 't2', 'on', 't1', '.', 'id kiến trúc sư', '=', 't2', '.', 'id', 'join', 'cầu', 'as', 't3', 'on', 't3', '.', 'id kiến trúc sư', '=', 't2', '.', 'id', 'where', 't3', '.', 'chiều dài theo mét', '>', 'value']",
         "Cho biết tên của các nhà máy khác nhau được xây dựng bởi các kiến trúc sư đã từng xây dựng một cây cầu dài hơn 80 mét .",
         "['Cho', 'biết', 'tên', 'của', 'các', 'nhà', 'máy', 'khác', 'nhau', 'được', 'xây', 'dựng', 'bởi', 'các', 'kiến', 'trúc', 'sư', 'đã', 'từng', 'xây', 'dựng', 'một', 'cây', 'cầu', 'dài', 'hơn', '80', 'mét', '.']",
         "{'except': None, 'from': {'conds': [[False, 2, [0, [0, 11, False], None], [0, 1, False], None]], 'table_units': [['table_unit', 2], ['table_unit', 0]]}, 'groupBy': [], 'where': [[False, 3, [0, [0, 9, False], None], 80.0, None]], 'limit': None, 'union': None, 'intersect': None, 'having': [], 'select': [True, [[0, [0, [0, 14, False], None]]]], 'orderBy': []}"
        ],
        [
         "14",
         "14",
         "architecture",
         "select loại , count ( * ) from nhà máy group by loại order by count ( * ) desc limit 1",
         "['select', 'loại', ',', 'count', '(', '*', ')', 'from', 'nhà máy', 'group', 'by', 'loại', 'order', 'by', 'count', '(', '*', ')', 'desc', 'limit', '1']",
         "['select', 'loại', ',', 'count', '(', '*', ')', 'from', 'nhà máy', 'group', 'by', 'loại', 'order', 'by', 'count', '(', '*', ')', 'desc', 'limit', 'value']",
         "Cho biết loại nhà máy phổ biết nhất và có bao nhiêu nhà máy thuộc loại này ?",
         "['Cho', 'biết', 'loại', 'nhà', 'máy', 'phổ', 'biết', 'nhất', 'và', 'có', 'bao', 'nhiêu', 'nhà', 'máy', 'thuộc', 'loại', 'này', '?']",
         "{'except': None, 'from': {'conds': [], 'table_units': [['table_unit', 2]]}, 'groupBy': [[0, 15, False]], 'where': [], 'limit': 1, 'union': None, 'intersect': None, 'having': [], 'select': [False, [[0, [0, [0, 15, False], None]], [3, [0, [0, 0, False], None]]]], 'orderBy': ['desc', [[0, [3, 0, False], None]]]}"
        ],
        [
         "15",
         "15",
         "architecture",
         "select count ( * ) from kiến trúc sư where id not in ( select id kiến trúc sư from nhà máy where năm xây dựng < 1850 )",
         "['select', 'count', '(', '*', ')', 'from', 'kiến trúc sư', 'where', 'id', 'not', 'in', '(', 'select', 'id kiến trúc sư', 'from', 'nhà máy', 'where', 'năm xây dựng', '<', '1850', ')']",
         "['select', 'count', '(', '*', ')', 'from', 'kiến trúc sư', 'where', 'id', 'not', 'in', '(', 'select', 'id kiến trúc sư', 'from', 'nhà máy', 'where', 'năm xây dựng', '<', 'value', ')']",
         "Có bao nhiêu kiến ​​trúc sư chưa từng xây dựng một nhà máy nào trước năm 1850 ?",
         "['Có', 'bao', 'nhiêu', 'kiến', '\\u200b\\u200btrúc', 'sư', 'chưa', 'từng', 'xây', 'dựng', 'một', 'nhà', 'máy', 'nào', 'trước', 'năm', '1850', '?']",
         "{'except': None, 'from': {'conds': [], 'table_units': [['table_unit', 0]]}, 'groupBy': [], 'where': [[True, 8, [0, [0, 1, False], None], {'except': None, 'from': {'conds': [], 'table_units': [['table_unit', 2]]}, 'groupBy': [], 'where': [[False, 4, [0, [0, 16, False], None], 1850.0, None]], 'limit': None, 'union': None, 'intersect': None, 'having': [], 'select': [False, [[0, [0, [0, 11, False], None]]]], 'orderBy': []}, None]], 'limit': None, 'union': None, 'intersect': None, 'having': [], 'select': [False, [[3, [0, [0, 0, False], None]]]], 'orderBy': []}"
        ],
        [
         "16",
         "16",
         "architecture",
         "select t1.tên from cầu as t1 join kiến trúc sư as t2 on t1.id kiến trúc sư = t2.id where t2.quốc tịch = \"American\" order by t1.chiều dài theo feet",
         "['select', 't1.tên', 'from', 'cầu', 'as', 't1', 'join', 'kiến trúc sư', 'as', 't2', 'on', 't1.id kiến trúc sư', '=', 't2.id', 'where', 't2.quốc tịch', '=', '\"American\"', 'order', 'by', 't1.chiều dài theo feet']",
         "['select', 't1', '.', 'tên', 'from', 'cầu', 'as', 't1', 'join', 'kiến trúc sư', 'as', 't2', 'on', 't1', '.', 'id kiến trúc sư', '=', 't2', '.', 'id', 'where', 't2', '.', 'quốc tịch', '=', 'value', 'order', 'by', 't1', '.', 'chiều dài theo feet']",
         "Hiển thị tên của tất cả những cây cầu được thiết kế bởi các kiến ​​trúc sư người Mỹ và sắp xếp kết quả theo thứ tự chiều dài chân cầu .",
         "['Hiển', 'thị', 'tên', 'của', 'tất', 'cả', 'những', 'cây', 'cầu', 'được', 'thiết', 'kế', 'bởi', 'các', 'kiến', '\\u200b\\u200btrúc', 'sư', 'người', 'Mỹ', 'và', 'sắp', 'xếp', 'kết', 'quả', 'theo', 'thứ', 'tự', 'chiều', 'dài', 'chân', 'cầu', '.']",
         "{'except': None, 'from': {'conds': [[False, 2, [0, [0, 5, False], None], [0, 1, False], None]], 'table_units': [['table_unit', 1], ['table_unit', 0]]}, 'groupBy': [], 'where': [[False, 2, [0, [0, 3, False], None], '\"American\"', None]], 'limit': None, 'union': None, 'intersect': None, 'having': [], 'select': [False, [[0, [0, [0, 7, False], None]]]], 'orderBy': ['asc', [[0, [0, 10, False], None]]]}"
        ],
        [
         "17",
         "17",
         "cinema",
         "select địa điểm from rạp chiếu phim except select địa điểm from rạp chiếu phim where sức chứa > 800",
         "['select', 'địa điểm', 'from', 'rạp chiếu phim', 'except', 'select', 'địa điểm', 'from', 'rạp chiếu phim', 'where', 'sức chứa', '>', '800']",
         "['select', 'địa điểm', 'from', 'rạp chiếu phim', 'except', 'select', 'địa điểm', 'from', 'rạp chiếu phim', 'where', 'sức chứa', '>', 'value']",
         "Hiển thị tất cả các địa điểm không có rạp chiếu phim với sức chứa trên 800 .",
         "['Hiển', 'thị', 'tất', 'cả', 'các', 'địa', 'điểm', 'không', 'có', 'rạp', 'chiếu', 'phim', 'với', 'sức', 'chứa', 'trên', '800', '.']",
         "{'except': {'except': None, 'from': {'conds': [], 'table_units': [['table_unit', 1]]}, 'groupBy': [], 'where': [[False, 3, [0, [0, 11, False], None], 800.0, None]], 'limit': None, 'union': None, 'intersect': None, 'having': [], 'select': [False, [[0, [0, [0, 12, False], None]]]], 'orderBy': []}, 'from': {'conds': [], 'table_units': [['table_unit', 1]]}, 'groupBy': [], 'where': [], 'limit': None, 'union': None, 'intersect': None, 'having': [], 'select': [False, [[0, [0, [0, 12, False], None]]]], 'orderBy': []}"
        ],
        [
         "18",
         "18",
         "cinema",
         "select địa điểm from rạp chiếu phim where năm mở cửa = 2010 intersect select địa điểm from rạp chiếu phim where năm mở cửa = 2011",
         "['select', 'địa điểm', 'from', 'rạp chiếu phim', 'where', 'năm mở cửa', '=', '2010', 'intersect', 'select', 'địa điểm', 'from', 'rạp chiếu phim', 'where', 'năm mở cửa', '=', '2011']",
         "['select', 'địa điểm', 'from', 'rạp chiếu phim', 'where', 'năm mở cửa', '=', 'value', 'intersect', 'select', 'địa điểm', 'from', 'rạp chiếu phim', 'where', 'năm mở cửa', '=', 'value']",
         "Hiển thị tất cả các địa điểm nơi có một số rạp chiếu phim đã được mở vào năm 2010 và năm 2011 .",
         "['Hiển', 'thị', 'tất', 'cả', 'các', 'địa', 'điểm', 'nơi', 'có', 'một', 'số', 'rạp', 'chiếu', 'phim', 'đã', 'được', 'mở', 'vào', 'năm', '2010', 'và', 'năm', '2011', '.']",
         "{'except': None, 'from': {'conds': [], 'table_units': [['table_unit', 1]]}, 'groupBy': [], 'where': [[False, 2, [0, [0, 10, False], None], 2010.0, None]], 'limit': None, 'union': None, 'intersect': {'except': None, 'from': {'conds': [], 'table_units': [['table_unit', 1]]}, 'groupBy': [], 'where': [[False, 2, [0, [0, 10, False], None], 2011.0, None]], 'limit': None, 'union': None, 'intersect': None, 'having': [], 'select': [False, [[0, [0, [0, 12, False], None]]]], 'orderBy': []}, 'having': [], 'select': [False, [[0, [0, [0, 12, False], None]]]], 'orderBy': []}"
        ],
        [
         "19",
         "19",
         "cinema",
         "select count ( * ) from rạp chiếu phim",
         "['select', 'count', '(', '*', ')', 'from', 'rạp chiếu phim']",
         "['select', 'count', '(', '*', ')', 'from', 'rạp chiếu phim']",
         "Có bao nhiêu rạp chiếu phim ?",
         "['Có', 'bao', 'nhiêu', 'rạp', 'chiếu', 'phim', '?']",
         "{'except': None, 'from': {'conds': [], 'table_units': [['table_unit', 1]]}, 'groupBy': [], 'where': [], 'limit': None, 'union': None, 'intersect': None, 'having': [], 'select': [False, [[3, [0, [0, 0, False], None]]]], 'orderBy': []}"
        ],
        [
         "20",
         "20",
         "cinema",
         "select count ( * ) from rạp chiếu phim",
         "['select', 'count', '(', '*', ')', 'from', 'rạp chiếu phim']",
         "['select', 'count', '(', '*', ')', 'from', 'rạp chiếu phim']",
         "Đếm số lượng rạp chiếu phim .",
         "['Đếm', 'số', 'lượng', 'rạp', 'chiếu', 'phim', '.']",
         "{'except': None, 'from': {'conds': [], 'table_units': [['table_unit', 1]]}, 'groupBy': [], 'where': [], 'limit': None, 'union': None, 'intersect': None, 'having': [], 'select': [False, [[3, [0, [0, 0, False], None]]]], 'orderBy': []}"
        ],
        [
         "21",
         "21",
         "cinema",
         "select tên , năm mở cửa , sức chứa from rạp chiếu phim",
         "['select', 'tên', ',', 'năm mở cửa', ',', 'sức chứa', 'from', 'rạp chiếu phim']",
         "['select', 'tên', ',', 'năm mở cửa', ',', 'sức chứa', 'from', 'rạp chiếu phim']",
         "Hiển thị tên , năm mở cửa , và sức chứa của từng rạp chiếu phim .",
         "['Hiển', 'thị', 'tên', ',', 'năm', 'mở', 'cửa', ',', 'và', 'sức', 'chứa', 'của', 'từng', 'rạp', 'chiếu', 'phim', '.']",
         "{'except': None, 'from': {'conds': [], 'table_units': [['table_unit', 1]]}, 'groupBy': [], 'where': [], 'limit': None, 'union': None, 'intersect': None, 'having': [], 'select': [False, [[0, [0, [0, 9, False], None]], [0, [0, [0, 10, False], None]], [0, [0, [0, 11, False], None]]]], 'orderBy': []}"
        ],
        [
         "22",
         "22",
         "cinema",
         "select tên , địa điểm from rạp chiếu phim where sức chứa > ( select avg ( sức chứa ) from rạp chiếu phim )",
         "['select', 'tên', ',', 'địa điểm', 'from', 'rạp chiếu phim', 'where', 'sức chứa', '>', '(', 'select', 'avg', '(', 'sức chứa', ')', 'from', 'rạp chiếu phim', ')']",
         "['select', 'tên', ',', 'địa điểm', 'from', 'rạp chiếu phim', 'where', 'sức chứa', '>', '(', 'select', 'avg', '(', 'sức chứa', ')', 'from', 'rạp chiếu phim', ')']",
         "Hiển thị tên và địa điểm của các rạp chiếu phim có sức chứa trên mức trung bình .",
         "['Hiển', 'thị', 'tên', 'và', 'địa', 'điểm', 'của', 'các', 'rạp', 'chiếu', 'phim', 'có', 'sức', 'chứa', 'trên', 'mức', 'trung', 'bình', '.']",
         "{'except': None, 'from': {'conds': [], 'table_units': [['table_unit', 1]]}, 'groupBy': [], 'where': [[False, 3, [0, [0, 11, False], None], {'except': None, 'from': {'conds': [], 'table_units': [['table_unit', 1]]}, 'groupBy': [], 'where': [], 'limit': None, 'union': None, 'intersect': None, 'having': [], 'select': [False, [[5, [0, [0, 11, False], None]]]], 'orderBy': []}, None]], 'limit': None, 'union': None, 'intersect': None, 'having': [], 'select': [False, [[0, [0, [0, 9, False], None]], [0, [0, [0, 12, False], None]]]], 'orderBy': []}"
        ],
        [
         "23",
         "23",
         "cinema",
         "select distinct địa điểm from rạp chiếu phim",
         "['select', 'distinct', 'địa điểm', 'from', 'rạp chiếu phim']",
         "['select', 'distinct', 'địa điểm', 'from', 'rạp chiếu phim']",
         "Những địa điểm có một vài rạp chiếu phim là những địa điểm nào ?",
         "['Những', 'địa', 'điểm', 'có', 'một', 'vài', 'rạp', 'chiếu', 'phim', 'là', 'những', 'địa', 'điểm', 'nào', '?']",
         "{'except': None, 'from': {'conds': [], 'table_units': [['table_unit', 1]]}, 'groupBy': [], 'where': [], 'limit': None, 'union': None, 'intersect': None, 'having': [], 'select': [True, [[0, [0, [0, 12, False], None]]]], 'orderBy': []}"
        ],
        [
         "24",
         "24",
         "cinema",
         "select distinct địa điểm from rạp chiếu phim",
         "['select', 'distinct', 'địa điểm', 'from', 'rạp chiếu phim']",
         "['select', 'distinct', 'địa điểm', 'from', 'rạp chiếu phim']",
         "Tìm những địa điểm khác nhau nơi có một vài rạp chiếu phim .",
         "['Tìm', 'những', 'địa', 'điểm', 'khác', 'nhau', 'nơi', 'có', 'một', 'vài', 'rạp', 'chiếu', 'phim', '.']",
         "{'except': None, 'from': {'conds': [], 'table_units': [['table_unit', 1]]}, 'groupBy': [], 'where': [], 'limit': None, 'union': None, 'intersect': None, 'having': [], 'select': [True, [[0, [0, [0, 12, False], None]]]], 'orderBy': []}"
        ],
        [
         "25",
         "25",
         "cinema",
         "select tên , năm mở cửa from rạp chiếu phim order by năm mở cửa desc",
         "['select', 'tên', ',', 'năm mở cửa', 'from', 'rạp chiếu phim', 'order', 'by', 'năm mở cửa', 'desc']",
         "['select', 'tên', ',', 'năm mở cửa', 'from', 'rạp chiếu phim', 'order', 'by', 'năm mở cửa', 'desc']",
         "Hiển thị tên của tất cả các rạp chiếu phim và năm mở cửa của từng rạp theo thứ tự giảm dần về năm mở cửa .",
         "['Hiển', 'thị', 'tên', 'của', 'tất', 'cả', 'các', 'rạp', 'chiếu', 'phim', 'và', 'năm', 'mở', 'cửa', 'của', 'từng', 'rạp', 'theo', 'thứ', 'tự', 'giảm', 'dần', 'về', 'năm', 'mở', 'cửa', '.']",
         "{'except': None, 'from': {'conds': [], 'table_units': [['table_unit', 1]]}, 'groupBy': [], 'where': [], 'limit': None, 'union': None, 'intersect': None, 'having': [], 'select': [False, [[0, [0, [0, 9, False], None]], [0, [0, [0, 10, False], None]]]], 'orderBy': ['desc', [[0, [0, 10, False], None]]]}"
        ],
        [
         "26",
         "26",
         "cinema",
         "select tên , địa điểm from rạp chiếu phim order by sức chứa desc limit 1",
         "['select', 'tên', ',', 'địa điểm', 'from', 'rạp chiếu phim', 'order', 'by', 'sức chứa', 'desc', 'limit', '1']",
         "['select', 'tên', ',', 'địa điểm', 'from', 'rạp chiếu phim', 'order', 'by', 'sức chứa', 'desc', 'limit', 'value']",
         "Cho biết tên và địa điểm của rạp chiếu phim có sức chứa lớn nhất .",
         "['Cho', 'biết', 'tên', 'và', 'địa', 'điểm', 'của', 'rạp', 'chiếu', 'phim', 'có', 'sức', 'chứa', 'lớn', 'nhất', '.']",
         "{'except': None, 'from': {'conds': [], 'table_units': [['table_unit', 1]]}, 'groupBy': [], 'where': [], 'limit': 1, 'union': None, 'intersect': None, 'having': [], 'select': [False, [[0, [0, [0, 9, False], None]], [0, [0, [0, 12, False], None]]]], 'orderBy': ['desc', [[0, [0, 11, False], None]]]}"
        ],
        [
         "27",
         "27",
         "cinema",
         "select avg ( sức chứa ) , min ( sức chứa ) , max ( sức chứa ) from rạp chiếu phim where năm mở cửa >= 2011",
         "['select', 'avg', '(', 'sức chứa', ')', ',', 'min', '(', 'sức chứa', ')', ',', 'max', '(', 'sức chứa', ')', 'from', 'rạp chiếu phim', 'where', 'năm mở cửa', '>=', '2011']",
         "['select', 'avg', '(', 'sức chứa', ')', ',', 'min', '(', 'sức chứa', ')', ',', 'max', '(', 'sức chứa', ')', 'from', 'rạp chiếu phim', 'where', 'năm mở cửa', '>', '=', 'value']",
         "Hiển thị sức chứa trung bình , sức chứa tối thiểu và sức chứa tối đa của tất cả các rạp chiếu phim được mở từ sau năm 2011 .",
         "['Hiển', 'thị', 'sức', 'chứa', 'trung', 'bình', ',', 'sức', 'chứa', 'tối', 'thiểu', 'và', 'sức', 'chứa', 'tối', 'đa', 'của', 'tất', 'cả', 'các', 'rạp', 'chiếu', 'phim', 'được', 'mở', 'từ', 'sau', 'năm', '2011', '.']",
         "{'except': None, 'from': {'conds': [], 'table_units': [['table_unit', 1]]}, 'groupBy': [], 'where': [[False, 5, [0, [0, 10, False], None], 2011.0, None]], 'limit': None, 'union': None, 'intersect': None, 'having': [], 'select': [False, [[5, [0, [0, 11, False], None]], [2, [0, [0, 11, False], None]], [1, [0, [0, 11, False], None]]]], 'orderBy': []}"
        ],
        [
         "28",
         "28",
         "cinema",
         "select địa điểm , count ( * ) from rạp chiếu phim group by địa điểm",
         "['select', 'địa điểm', ',', 'count', '(', '*', ')', 'from', 'rạp chiếu phim', 'group', 'by', 'địa điểm']",
         "['select', 'địa điểm', ',', 'count', '(', '*', ')', 'from', 'rạp chiếu phim', 'group', 'by', 'địa điểm']",
         "Hiển thị tất cả các địa điểm và số lượng rạp chiếu phim ở mỗi địa điểm .",
         "['Hiển', 'thị', 'tất', 'cả', 'các', 'địa', 'điểm', 'và', 'số', 'lượng', 'rạp', 'chiếu', 'phim', 'ở', 'mỗi', 'địa', 'điểm', '.']",
         "{'except': None, 'from': {'conds': [], 'table_units': [['table_unit', 1]]}, 'groupBy': [[0, 12, False]], 'where': [], 'limit': None, 'union': None, 'intersect': None, 'having': [], 'select': [False, [[0, [0, [0, 12, False], None]], [3, [0, [0, 0, False], None]]]], 'orderBy': []}"
        ],
        [
         "29",
         "29",
         "cinema",
         "select địa điểm from rạp chiếu phim where năm mở cửa >= 2010 group by địa điểm order by count ( * ) desc limit 1",
         "['select', 'địa điểm', 'from', 'rạp chiếu phim', 'where', 'năm mở cửa', '>=', '2010', 'group', 'by', 'địa điểm', 'order', 'by', 'count', '(', '*', ')', 'desc', 'limit', '1']",
         "['select', 'địa điểm', 'from', 'rạp chiếu phim', 'where', 'năm mở cửa', '>', '=', 'value', 'group', 'by', 'địa điểm', 'order', 'by', 'count', '(', '*', ')', 'desc', 'limit', 'value']",
         "Địa điểm có nhiều rạp chiếu phim nhất được mở trong năm 2010 hoặc sau đó nằm ở đâu ?",
         "['Địa', 'điểm', 'có', 'nhiều', 'rạp', 'chiếu', 'phim', 'nhất', 'được', 'mở', 'trong', 'năm', '2010', 'hoặc', 'sau', 'đó', 'nằm', 'ở', 'đâu', '?']",
         "{'except': None, 'from': {'conds': [], 'table_units': [['table_unit', 1]]}, 'groupBy': [[0, 12, False]], 'where': [[False, 5, [0, [0, 10, False], None], 2010.0, None]], 'limit': 1, 'union': None, 'intersect': None, 'having': [], 'select': [False, [[0, [0, [0, 12, False], None]]]], 'orderBy': ['desc', [[0, [3, 0, False], None]]]}"
        ],
        [
         "30",
         "30",
         "cinema",
         "select địa điểm from rạp chiếu phim where sức chứa > 300 group by địa điểm having count ( * ) >= 2",
         "['select', 'địa điểm', 'from', 'rạp chiếu phim', 'where', 'sức chứa', '>', '300', 'group', 'by', 'địa điểm', 'having', 'count', '(', '*', ')', '>=', '2']",
         "['select', 'địa điểm', 'from', 'rạp chiếu phim', 'where', 'sức chứa', '>', 'value', 'group', 'by', 'địa điểm', 'having', 'count', '(', '*', ')', '>', '=', 'value']",
         "Hiển thị tất cả các địa điểm có ít nhất hai rạp chiếu phim với sức chứa trên 300 .",
         "['Hiển', 'thị', 'tất', 'cả', 'các', 'địa', 'điểm', 'có', 'ít', 'nhất', 'hai', 'rạp', 'chiếu', 'phim', 'với', 'sức', 'chứa', 'trên', '300', '.']",
         "{'except': None, 'from': {'conds': [], 'table_units': [['table_unit', 1]]}, 'groupBy': [[0, 12, False]], 'where': [[False, 3, [0, [0, 11, False], None], 300.0, None]], 'limit': None, 'union': None, 'intersect': None, 'having': [[False, 5, [0, [3, 0, False], None], 2.0, None]], 'select': [False, [[0, [0, [0, 12, False], None]]]], 'orderBy': []}"
        ],
        [
         "31",
         "31",
         "cinema",
         "select địa điểm from rạp chiếu phim where sức chứa > 300 group by địa điểm having count ( * ) >= 2",
         "['select', 'địa điểm', 'from', 'rạp chiếu phim', 'where', 'sức chứa', '>', '300', 'group', 'by', 'địa điểm', 'having', 'count', '(', '*', ')', '>=', '2']",
         "['select', 'địa điểm', 'from', 'rạp chiếu phim', 'where', 'sức chứa', '>', 'value', 'group', 'by', 'địa điểm', 'having', 'count', '(', '*', ')', '>', '=', 'value']",
         "Những địa điểm nào có từ 2 rạp chiếu phim với sức chứa lớn hơn 300 ?",
         "['Những', 'địa', 'điểm', 'nào', 'có', 'từ', '2', 'rạp', 'chiếu', 'phim', 'với', 'sức', 'chứa', 'lớn', 'hơn', '300', '?']",
         "{'except': None, 'from': {'conds': [], 'table_units': [['table_unit', 1]]}, 'groupBy': [[0, 12, False]], 'where': [[False, 3, [0, [0, 11, False], None], 300.0, None]], 'limit': None, 'union': None, 'intersect': None, 'having': [[False, 5, [0, [3, 0, False], None], 2.0, None]], 'select': [False, [[0, [0, [0, 12, False], None]]]], 'orderBy': []}"
        ],
        [
         "32",
         "32",
         "cinema",
         "select tiêu đề , được đạo diễn bởi from phim",
         "['select', 'tiêu đề', ',', 'được đạo diễn bởi', 'from', 'phim']",
         "['select', 'tiêu đề', ',', 'được đạo diễn bởi', 'from', 'phim']",
         "Hiển thị tiêu đề và đạo diễn của tất cả các bộ phim .",
         "['Hiển', 'thị', 'tiêu', 'đề', 'và', 'đạo', 'diễn', 'của', 'tất', 'cả', 'các', 'bộ', 'phim', '.']",
         "{'except': None, 'from': {'conds': [], 'table_units': [['table_unit', 0]]}, 'groupBy': [], 'where': [], 'limit': None, 'union': None, 'intersect': None, 'having': [], 'select': [False, [[0, [0, [0, 4, False], None]], [0, [0, [0, 5, False], None]]]], 'orderBy': []}"
        ],
        [
         "33",
         "33",
         "cinema",
         "select tiêu đề , được đạo diễn bởi from phim",
         "['select', 'tiêu đề', ',', 'được đạo diễn bởi', 'from', 'phim']",
         "['select', 'tiêu đề', ',', 'được đạo diễn bởi', 'from', 'phim']",
         "Tiêu đề và đạo diễn của từng bộ phim ?",
         "['Tiêu', 'đề', 'và', 'đạo', 'diễn', 'của', 'từng', 'bộ', 'phim', '?']",
         "{'except': None, 'from': {'conds': [], 'table_units': [['table_unit', 0]]}, 'groupBy': [], 'where': [], 'limit': None, 'union': None, 'intersect': None, 'having': [], 'select': [False, [[0, [0, [0, 4, False], None]], [0, [0, [0, 5, False], None]]]], 'orderBy': []}"
        ],
        [
         "34",
         "34",
         "cinema",
         "select distinct được đạo diễn bởi from phim",
         "['select', 'distinct', 'được đạo diễn bởi', 'from', 'phim']",
         "['select', 'distinct', 'được đạo diễn bởi', 'from', 'phim']",
         "Hiển thị tất cả các đạo diễn .",
         "['Hiển', 'thị', 'tất', 'cả', 'các', 'đạo', 'diễn', '.']",
         "{'except': None, 'from': {'conds': [], 'table_units': [['table_unit', 0]]}, 'groupBy': [], 'where': [], 'limit': None, 'union': None, 'intersect': None, 'having': [], 'select': [True, [[0, [0, [0, 5, False], None]]]], 'orderBy': []}"
        ],
        [
         "35",
         "35",
         "cinema",
         "select distinct được đạo diễn bởi from phim",
         "['select', 'distinct', 'được đạo diễn bởi', 'from', 'phim']",
         "['select', 'distinct', 'được đạo diễn bởi', 'from', 'phim']",
         "Liệt kê tất cả các đạo diễn .",
         "['Liệt', 'kê', 'tất', 'cả', 'các', 'đạo', 'diễn', '.']",
         "{'except': None, 'from': {'conds': [], 'table_units': [['table_unit', 0]]}, 'groupBy': [], 'where': [], 'limit': None, 'union': None, 'intersect': None, 'having': [], 'select': [True, [[0, [0, [0, 5, False], None]]]], 'orderBy': []}"
        ],
        [
         "36",
         "36",
         "cinema",
         "select được đạo diễn bởi , count ( * ) from phim group by được đạo diễn bởi",
         "['select', 'được đạo diễn bởi', ',', 'count', '(', '*', ')', 'from', 'phim', 'group', 'by', 'được đạo diễn bởi']",
         "['select', 'được đạo diễn bởi', ',', 'count', '(', '*', ')', 'from', 'phim', 'group', 'by', 'được đạo diễn bởi']",
         "Liệt kê tất cả các đạo diễn cùng với số lượng phim của từng người .",
         "['Liệt', 'kê', 'tất', 'cả', 'các', 'đạo', 'diễn', 'cùng', 'với', 'số', 'lượng', 'phim', 'của', 'từng', 'người', '.']",
         "{'except': None, 'from': {'conds': [], 'table_units': [['table_unit', 0]]}, 'groupBy': [[0, 5, False]], 'where': [], 'limit': None, 'union': None, 'intersect': None, 'having': [], 'select': [False, [[0, [0, [0, 5, False], None]], [3, [0, [0, 0, False], None]]]], 'orderBy': []}"
        ],
        [
         "37",
         "37",
         "cinema",
         "select t2.tên , sum ( t1.số lượng suất chiếu mỗi ngày ) from lịch chiếu phim as t1 join rạp chiếu phim as t2 on t1.id rạp chiếu phim = t2.id rạp chiếu phim group by t1.id rạp chiếu phim",
         "['select', 't2.tên', ',', 'sum', '(', 't1.số lượng suất chiếu mỗi ngày', ')', 'from', 'lịch chiếu phim', 'as', 't1', 'join', 'rạp chiếu phim', 'as', 't2', 'on', 't1.id rạp chiếu phim', '=', 't2.id rạp chiếu phim', 'group', 'by', 't1.id rạp chiếu phim']",
         "['select', 't2', '.', 'tên', ',', 'sum', '(', 't1', '.', 'số lượng suất chiếu mỗi ngày', ')', 'from', 'lịch chiếu phim', 'as', 't1', 'join', 'rạp chiếu phim', 'as', 't2', 'on', 't1', '.', 'id rạp chiếu phim', '=', 't2', '.', 'id rạp chiếu phim', 'group', 'by', 't1', '.', 'id rạp chiếu phim']",
         "Cho biết tổng số suất chiếu mỗi ngày của từng rạp chiếu phim .",
         "['Cho', 'biết', 'tổng', 'số', 'suất', 'chiếu', 'mỗi', 'ngày', 'của', 'từng', 'rạp', 'chiếu', 'phim', '.']",
         "{'except': None, 'from': {'conds': [[False, 2, [0, [0, 13, False], None], [0, 8, False], None]], 'table_units': [['table_unit', 2], ['table_unit', 1]]}, 'groupBy': [[0, 13, False]], 'where': [], 'limit': None, 'union': None, 'intersect': None, 'having': [], 'select': [False, [[0, [0, [0, 9, False], None]], [4, [0, [0, 16, False], None]]]], 'orderBy': []}"
        ],
        [
         "38",
         "38",
         "cinema",
         "select t2.tiêu đề , max ( t1.giá ) from lịch chiếu phim as t1 join phim as t2 on t1.id phim = t2.id phim group by t1.id phim",
         "['select', 't2.tiêu đề', ',', 'max', '(', 't1.giá', ')', 'from', 'lịch chiếu phim', 'as', 't1', 'join', 'phim', 'as', 't2', 'on', 't1.id phim', '=', 't2.id phim', 'group', 'by', 't1.id phim']",
         "['select', 't2', '.', 'tiêu đề', ',', 'max', '(', 't1', '.', 'giá', ')', 'from', 'lịch chiếu phim', 'as', 't1', 'join', 'phim', 'as', 't2', 'on', 't1', '.', 'id phim', '=', 't2', '.', 'id phim', 'group', 'by', 't1', '.', 'id phim']",
         "Cho biết tiêu đề và giá cao nhất của mỗi bộ phim .",
         "['Cho', 'biết', 'tiêu', 'đề', 'và', 'giá', 'cao', 'nhất', 'của', 'mỗi', 'bộ', 'phim', '.']",
         "{'except': None, 'from': {'conds': [[False, 2, [0, [0, 14, False], None], [0, 1, False], None]], 'table_units': [['table_unit', 2], ['table_unit', 0]]}, 'groupBy': [[0, 14, False]], 'where': [], 'limit': None, 'union': None, 'intersect': None, 'having': [], 'select': [False, [[0, [0, [0, 4, False], None]], [1, [0, [0, 17, False], None]]]], 'orderBy': []}"
        ],
        [
         "39",
         "39",
         "cinema",
         "select t2.tiêu đề , max ( t1.giá ) from lịch chiếu phim as t1 join phim as t2 on t1.id phim = t2.id phim group by t1.id phim",
         "['select', 't2.tiêu đề', ',', 'max', '(', 't1.giá', ')', 'from', 'lịch chiếu phim', 'as', 't1', 'join', 'phim', 'as', 't2', 'on', 't1.id phim', '=', 't2.id phim', 'group', 'by', 't1.id phim']",
         "['select', 't2', '.', 'tiêu đề', ',', 'max', '(', 't1', '.', 'giá', ')', 'from', 'lịch chiếu phim', 'as', 't1', 'join', 'phim', 'as', 't2', 'on', 't1', '.', 'id phim', '=', 't2', '.', 'id phim', 'group', 'by', 't1', '.', 'id phim']",
         "Tiêu đề và giá cao nhất của từng bộ phim ?",
         "['Tiêu', 'đề', 'và', 'giá', 'cao', 'nhất', 'của', 'từng', 'bộ', 'phim', '?']",
         "{'except': None, 'from': {'conds': [[False, 2, [0, [0, 14, False], None], [0, 1, False], None]], 'table_units': [['table_unit', 2], ['table_unit', 0]]}, 'groupBy': [[0, 14, False]], 'where': [], 'limit': None, 'union': None, 'intersect': None, 'having': [], 'select': [False, [[0, [0, [0, 4, False], None]], [1, [0, [0, 17, False], None]]]], 'orderBy': []}"
        ],
        [
         "40",
         "40",
         "cinema",
         "select t3.tên , t2.tiêu đề , t1.ngày , t1.giá from lịch chiếu phim as t1 join phim as t2 on t1.id phim = t2.id phim join rạp chiếu phim as t3 on t1.id rạp chiếu phim = t3.id rạp chiếu phim",
         "['select', 't3.tên', ',', 't2.tiêu đề', ',', 't1.ngày', ',', 't1.giá', 'from', 'lịch chiếu phim', 'as', 't1', 'join', 'phim', 'as', 't2', 'on', 't1.id phim', '=', 't2.id phim', 'join', 'rạp chiếu phim', 'as', 't3', 'on', 't1.id rạp chiếu phim', '=', 't3.id rạp chiếu phim']",
         "['select', 't3', '.', 'tên', ',', 't2', '.', 'tiêu đề', ',', 't1', '.', 'ngày', ',', 't1', '.', 'giá', 'from', 'lịch chiếu phim', 'as', 't1', 'join', 'phim', 'as', 't2', 'on', 't1', '.', 'id phim', '=', 't2', '.', 'id phim', 'join', 'rạp chiếu phim', 'as', 't3', 'on', 't1', '.', 'id rạp chiếu phim', '=', 't3', '.', 'id rạp chiếu phim']",
         "Hiển thị tên rạp chiếu phim , tiêu đề , ngày chiếu và giá của từng bộ phim có trong lịch chiếu .",
         "['Hiển', 'thị', 'tên', 'rạp', 'chiếu', 'phim', ',', 'tiêu', 'đề', ',', 'ngày', 'chiếu', 'và', 'giá', 'của', 'từng', 'bộ', 'phim', 'có', 'trong', 'lịch', 'chiếu', '.']",
         "{'except': None, 'from': {'conds': [[False, 2, [0, [0, 14, False], None], [0, 1, False], None]], 'table_units': [['table_unit', 2], ['table_unit', 0]]}, 'groupBy': [], 'where': [], 'limit': None, 'union': None, 'intersect': None, 'having': [], 'select': [False, [[0, [0, [0, 9, False], None]], [0, [0, [0, 4, False], None]], [0, [0, [0, 15, False], None]], [0, [0, [0, 17, False], None]]]], 'orderBy': []}"
        ],
        [
         "41",
         "41",
         "cinema",
         "select tiêu đề , được đạo diễn bởi from phim where id phim not in ( select id phim from lịch chiếu phim )",
         "['select', 'tiêu đề', ',', 'được đạo diễn bởi', 'from', 'phim', 'where', 'id phim', 'not', 'in', '(', 'select', 'id phim', 'from', 'lịch chiếu phim', ')']",
         "['select', 'tiêu đề', ',', 'được đạo diễn bởi', 'from', 'phim', 'where', 'id phim', 'not', 'in', '(', 'select', 'id phim', 'from', 'lịch chiếu phim', ')']",
         "Cho biết tiêu đề và đạo diễn của những bộ phim không nằm trong lịch chiếu .",
         "['Cho', 'biết', 'tiêu', 'đề', 'và', 'đạo', 'diễn', 'của', 'những', 'bộ', 'phim', 'không', 'nằm', 'trong', 'lịch', 'chiếu', '.']",
         "{'except': None, 'from': {'conds': [], 'table_units': [['table_unit', 0]]}, 'groupBy': [], 'where': [[True, 8, [0, [0, 1, False], None], {'except': None, 'from': {'conds': [], 'table_units': [['table_unit', 2]]}, 'groupBy': [], 'where': [], 'limit': None, 'union': None, 'intersect': None, 'having': [], 'select': [False, [[0, [0, [0, 14, False], None]]]], 'orderBy': []}, None]], 'limit': None, 'union': None, 'intersect': None, 'having': [], 'select': [False, [[0, [0, [0, 4, False], None]], [0, [0, [0, 5, False], None]]]], 'orderBy': []}"
        ],
        [
         "42",
         "42",
         "cinema",
         "select t2.được đạo diễn bởi from lịch chiếu phim as t1 join phim as t2 on t1.id phim = t2.id phim group by t2.được đạo diễn bởi order by sum ( t1.số lượng suất chiếu mỗi ngày ) desc limit 1",
         "['select', 't2.được đạo diễn bởi', 'from', 'lịch chiếu phim', 'as', 't1', 'join', 'phim', 'as', 't2', 'on', 't1.id phim', '=', 't2.id phim', 'group', 'by', 't2.được đạo diễn bởi', 'order', 'by', 'sum', '(', 't1.số lượng suất chiếu mỗi ngày', ')', 'desc', 'limit', '1']",
         "['select', 't2', '.', 'được đạo diễn bởi', 'from', 'lịch chiếu phim', 'as', 't1', 'join', 'phim', 'as', 't2', 'on', 't1', '.', 'id phim', '=', 't2', '.', 'id phim', 'group', 'by', 't2', '.', 'được đạo diễn bởi', 'order', 'by', 'sum', '(', 't1', '.', 'số lượng suất chiếu mỗi ngày', ')', 'desc', 'limit', 'value']",
         "Cho biết người đạo diễn có nhiều lần công chiếu nhất .",
         "['Cho', 'biết', 'người', 'đạo', 'diễn', 'có', 'nhiều', 'lần', 'công', 'chiếu', 'nhất', '.']",
         "{'except': None, 'from': {'conds': [[False, 2, [0, [0, 14, False], None], [0, 1, False], None]], 'table_units': [['table_unit', 2], ['table_unit', 0]]}, 'groupBy': [[0, 5, False]], 'where': [], 'limit': 1, 'union': None, 'intersect': None, 'having': [], 'select': [False, [[0, [0, [0, 5, False], None]]]], 'orderBy': ['desc', [[0, [4, 16, False], None]]]}"
        ],
        [
         "43",
         "43",
         "cinema",
         "select địa điểm from rạp chiếu phim where sức chứa > 300 group by địa điểm having count ( * ) > 1",
         "['select', 'địa điểm', 'from', 'rạp chiếu phim', 'where', 'sức chứa', '>', '300', 'group', 'by', 'địa điểm', 'having', 'count', '(', '*', ')', '>', '1']",
         "['select', 'địa điểm', 'from', 'rạp chiếu phim', 'where', 'sức chứa', '>', 'value', 'group', 'by', 'địa điểm', 'having', 'count', '(', '*', ')', '>', 'value']",
         "Tìm các địa điểm có nhiều hơn một rạp chiếu phim với sức chứa trên 300 .",
         "['Tìm', 'các', 'địa', 'điểm', 'có', 'nhiều', 'hơn', 'một', 'rạp', 'chiếu', 'phim', 'với', 'sức', 'chứa', 'trên', '300', '.']",
         "{'except': None, 'from': {'conds': [], 'table_units': [['table_unit', 1]]}, 'groupBy': [[0, 12, False]], 'where': [[False, 3, [0, [0, 11, False], None], 300.0, None]], 'limit': None, 'union': None, 'intersect': None, 'having': [[False, 3, [0, [3, 0, False], None], 1.0, None]], 'select': [False, [[0, [0, [0, 12, False], None]]]], 'orderBy': []}"
        ],
        [
         "44",
         "44",
         "cinema",
         "select địa điểm from rạp chiếu phim where sức chứa > 300 group by địa điểm having count ( * ) > 1",
         "['select', 'địa điểm', 'from', 'rạp chiếu phim', 'where', 'sức chứa', '>', '300', 'group', 'by', 'địa điểm', 'having', 'count', '(', '*', ')', '>', '1']",
         "['select', 'địa điểm', 'from', 'rạp chiếu phim', 'where', 'sức chứa', '>', 'value', 'group', 'by', 'địa điểm', 'having', 'count', '(', '*', ')', '>', 'value']",
         "Những địa điểm nào có nhiều hơn một rạp chiếu phim với sức chứa trên 300 ?",
         "['Những', 'địa', 'điểm', 'nào', 'có', 'nhiều', 'hơn', 'một', 'rạp', 'chiếu', 'phim', 'với', 'sức', 'chứa', 'trên', '300', '?']",
         "{'except': None, 'from': {'conds': [], 'table_units': [['table_unit', 1]]}, 'groupBy': [[0, 12, False]], 'where': [[False, 3, [0, [0, 11, False], None], 300.0, None]], 'limit': None, 'union': None, 'intersect': None, 'having': [[False, 3, [0, [3, 0, False], None], 1.0, None]], 'select': [False, [[0, [0, [0, 12, False], None]]]], 'orderBy': []}"
        ],
        [
         "45",
         "45",
         "cinema",
         "select count ( * ) from phim where tiêu đề like \"%Dummy%\"",
         "['select', 'count', '(', '*', ')', 'from', 'phim', 'where', 'tiêu đề', 'like', '\"%Dummy%\"']",
         "['select', 'count', '(', '*', ')', 'from', 'phim', 'where', 'tiêu đề', 'like', 'value']",
         "Có bao nhiêu bộ phim có từ ' Dummy ' trong tựa đề ?",
         "['Có', 'bao', 'nhiêu', 'bộ', 'phim', 'có', 'từ', \"'\", 'Dummy', \"'\", 'trong', 'tựa', 'đề', '?']",
         "{'except': None, 'from': {'conds': [], 'table_units': [['table_unit', 0]]}, 'groupBy': [], 'where': [[False, 9, [0, [0, 4, False], None], '\"%Dummy%\"', None]], 'limit': None, 'union': None, 'intersect': None, 'having': [], 'select': [False, [[3, [0, [0, 0, False], None]]]], 'orderBy': []}"
        ],
        [
         "46",
         "46",
         "cinema",
         "select count ( * ) from phim where tiêu đề like \"%Dummy%\"",
         "['select', 'count', '(', '*', ')', 'from', 'phim', 'where', 'tiêu đề', 'like', '\"%Dummy%\"']",
         "['select', 'count', '(', '*', ')', 'from', 'phim', 'where', 'tiêu đề', 'like', 'value']",
         "Đếm số lượng phim có tựa đề chứa từ ' Dummy ' .",
         "['Đếm', 'số', 'lượng', 'phim', 'có', 'tựa', 'đề', 'chứa', 'từ', \"'\", 'Dummy', \"'\", '.']",
         "{'except': None, 'from': {'conds': [], 'table_units': [['table_unit', 0]]}, 'groupBy': [], 'where': [[False, 9, [0, [0, 4, False], None], '\"%Dummy%\"', None]], 'limit': None, 'union': None, 'intersect': None, 'having': [], 'select': [False, [[3, [0, [0, 0, False], None]]]], 'orderBy': []}"
        ],
        [
         "47",
         "47",
         "college_3",
         "select count ( * ) from khoá học",
         "['select', 'count', '(', '*', ')', 'from', 'khoá học']",
         "['select', 'count', '(', '*', ')', 'from', 'khoá học']",
         "Tổng cộng có bao nhiêu khoá học ?",
         "['Tổng', 'cộng', 'có', 'bao', 'nhiêu', 'khoá', 'học', '?']",
         "{'except': None, 'from': {'conds': [], 'table_units': [['table_unit', 4]]}, 'groupBy': [], 'where': [], 'limit': None, 'union': None, 'intersect': None, 'having': [], 'select': [False, [[3, [0, [0, 0, False], None]]]], 'orderBy': []}"
        ],
        [
         "48",
         "48",
         "college_3",
         "select count ( * ) from khoá học",
         "['select', 'count', '(', '*', ')', 'from', 'khoá học']",
         "['select', 'count', '(', '*', ')', 'from', 'khoá học']",
         "Đếm số lượng các khoá học .",
         "['Đếm', 'số', 'lượng', 'các', 'khoá', 'học', '.']",
         "{'except': None, 'from': {'conds': [], 'table_units': [['table_unit', 4]]}, 'groupBy': [], 'where': [], 'limit': None, 'union': None, 'intersect': None, 'having': [], 'select': [False, [[3, [0, [0, 0, False], None]]]], 'orderBy': []}"
        ],
        [
         "49",
         "49",
         "college_3",
         "select count ( * ) from khoá học where số lượng tín chỉ > 2",
         "['select', 'count', '(', '*', ')', 'from', 'khoá học', 'where', 'số lượng tín chỉ', '>', '2']",
         "['select', 'count', '(', '*', ')', 'from', 'khoá học', 'where', 'số lượng tín chỉ', '>', 'value']",
         "Có bao nhiêu khoá học cung cấp nhiều hơn 2 tín chỉ ?",
         "['Có', 'bao', 'nhiêu', 'khoá', 'học', 'cung', 'cấp', 'nhiều', 'hơn', '2', 'tín', 'chỉ', '?']",
         "{'except': None, 'from': {'conds': [], 'table_units': [['table_unit', 4]]}, 'groupBy': [], 'where': [[False, 3, [0, [0, 28, False], None], 2.0, None]], 'limit': None, 'union': None, 'intersect': None, 'having': [], 'select': [False, [[3, [0, [0, 0, False], None]]]], 'orderBy': []}"
        ]
       ],
       "shape": {
        "columns": 8,
        "rows": 19386
       }
      },
      "text/html": [
       "<div>\n",
       "<style scoped>\n",
       "    .dataframe tbody tr th:only-of-type {\n",
       "        vertical-align: middle;\n",
       "    }\n",
       "\n",
       "    .dataframe tbody tr th {\n",
       "        vertical-align: top;\n",
       "    }\n",
       "\n",
       "    .dataframe thead th {\n",
       "        text-align: right;\n",
       "    }\n",
       "</style>\n",
       "<table border=\"1\" class=\"dataframe\">\n",
       "  <thead>\n",
       "    <tr style=\"text-align: right;\">\n",
       "      <th></th>\n",
       "      <th>index</th>\n",
       "      <th>db_id</th>\n",
       "      <th>query</th>\n",
       "      <th>query_toks</th>\n",
       "      <th>query_toks_no_value</th>\n",
       "      <th>question</th>\n",
       "      <th>question_toks</th>\n",
       "      <th>sql</th>\n",
       "    </tr>\n",
       "  </thead>\n",
       "  <tbody>\n",
       "    <tr>\n",
       "      <th>0</th>\n",
       "      <td>0</td>\n",
       "      <td>architecture</td>\n",
       "      <td>select count ( * ) from kiến trúc sư where giớ...</td>\n",
       "      <td>[select, count, (, *, ), from, kiến trúc sư, w...</td>\n",
       "      <td>[select, count, (, *, ), from, kiến trúc sư, w...</td>\n",
       "      <td>Có tất cả bao nhiêu kiến trúc sư nữ ?</td>\n",
       "      <td>[Có, tất, cả, bao, nhiêu, kiến, trúc, sư, nữ, ?]</td>\n",
       "      <td>{'except': None, 'from': {'conds': [], 'table_...</td>\n",
       "    </tr>\n",
       "    <tr>\n",
       "      <th>1</th>\n",
       "      <td>1</td>\n",
       "      <td>architecture</td>\n",
       "      <td>select tên , quốc tịch , id from kiến trúc sư ...</td>\n",
       "      <td>[select, tên, ,, quốc tịch, ,, id, from, kiến ...</td>\n",
       "      <td>[select, tên, ,, quốc tịch, ,, id, from, kiến ...</td>\n",
       "      <td>Liệt kê tên , quốc tịch và id của tất cả các k...</td>\n",
       "      <td>[Liệt, kê, tên, ,, quốc, tịch, và, id, của, tấ...</td>\n",
       "      <td>{'except': None, 'from': {'conds': [], 'table_...</td>\n",
       "    </tr>\n",
       "    <tr>\n",
       "      <th>2</th>\n",
       "      <td>2</td>\n",
       "      <td>architecture</td>\n",
       "      <td>select max ( t1.chiều dài theo mét ) , t2.tên ...</td>\n",
       "      <td>[select, max, (, t1.chiều dài theo mét, ), ,, ...</td>\n",
       "      <td>[select, max, (, t1, ., chiều dài theo mét, ),...</td>\n",
       "      <td>Cho biết tên của người kiến trúc sư đã tạo ra ...</td>\n",
       "      <td>[Cho, biết, tên, của, người, kiến, trúc, sư, đ...</td>\n",
       "      <td>{'except': None, 'from': {'conds': [[False, 2,...</td>\n",
       "    </tr>\n",
       "    <tr>\n",
       "      <th>3</th>\n",
       "      <td>3</td>\n",
       "      <td>architecture</td>\n",
       "      <td>select avg ( chiều dài theo feet ) from cầu</td>\n",
       "      <td>[select, avg, (, chiều dài theo feet, ), from,...</td>\n",
       "      <td>[select, avg, (, chiều dài theo feet, ), from,...</td>\n",
       "      <td>Cho biết chiều dài trung bình tính theo feet c...</td>\n",
       "      <td>[Cho, biết, chiều, dài, trung, bình, tính, the...</td>\n",
       "      <td>{'except': None, 'from': {'conds': [], 'table_...</td>\n",
       "    </tr>\n",
       "    <tr>\n",
       "      <th>4</th>\n",
       "      <td>4</td>\n",
       "      <td>architecture</td>\n",
       "      <td>select tên , năm xây dựng from nhà máy where l...</td>\n",
       "      <td>[select, tên, ,, năm xây dựng, from, nhà máy, ...</td>\n",
       "      <td>[select, tên, ,, năm xây dựng, from, nhà máy, ...</td>\n",
       "      <td>Cho biết tên và năm xây dựng của các nhà máy t...</td>\n",
       "      <td>[Cho, biết, tên, và, năm, xây, dựng, của, các,...</td>\n",
       "      <td>{'except': None, 'from': {'conds': [], 'table_...</td>\n",
       "    </tr>\n",
       "    <tr>\n",
       "      <th>...</th>\n",
       "      <td>...</td>\n",
       "      <td>...</td>\n",
       "      <td>...</td>\n",
       "      <td>...</td>\n",
       "      <td>...</td>\n",
       "      <td>...</td>\n",
       "      <td>...</td>\n",
       "      <td>...</td>\n",
       "    </tr>\n",
       "    <tr>\n",
       "      <th>19381</th>\n",
       "      <td>6826</td>\n",
       "      <td>wrestler</td>\n",
       "      <td>select đội from lần bị loại where bị loại bởi ...</td>\n",
       "      <td>[select, đội, from, lần bị loại, where, bị loạ...</td>\n",
       "      <td>[select, đội, from, lần bị loại, where, bị loạ...</td>\n",
       "      <td>Những đội có các đô_vật bị loại bởi ' Orton ' ...</td>\n",
       "      <td>[Những, đội, có, các, đô_vật, bị, loại, bởi, '...</td>\n",
       "      <td>{'except': None, 'from': {'conds': [], 'table_...</td>\n",
       "    </tr>\n",
       "    <tr>\n",
       "      <th>19382</th>\n",
       "      <td>6827</td>\n",
       "      <td>wrestler</td>\n",
       "      <td>select count ( distinct đội ) from lần bị loại</td>\n",
       "      <td>[select, count, (, distinct, đội, ), from, lần...</td>\n",
       "      <td>[select, count, (, distinct, đội, ), from, lần...</td>\n",
       "      <td>Những đô_vật đã bị loại đại_diện cho tất_cả ba...</td>\n",
       "      <td>[Những, đô_vật, đã, bị, loại, đại_diện, cho, t...</td>\n",
       "      <td>{'except': None, 'from': {'conds': [], 'table_...</td>\n",
       "    </tr>\n",
       "    <tr>\n",
       "      <th>19383</th>\n",
       "      <td>6828</td>\n",
       "      <td>wrestler</td>\n",
       "      <td>select count ( distinct đội ) from lần bị loại</td>\n",
       "      <td>[select, count, (, distinct, đội, ), from, lần...</td>\n",
       "      <td>[select, count, (, distinct, đội, ), from, lần...</td>\n",
       "      <td>Có bao_nhiêu đội khác nhau có thành_viên là cá...</td>\n",
       "      <td>[Có, bao_nhiêu, đội, khác, nhau, có, thành_viê...</td>\n",
       "      <td>{'except': None, 'from': {'conds': [], 'table_...</td>\n",
       "    </tr>\n",
       "    <tr>\n",
       "      <th>19384</th>\n",
       "      <td>6829</td>\n",
       "      <td>wrestler</td>\n",
       "      <td>select thời_gian from lần bị loại where bị loạ...</td>\n",
       "      <td>[select, thời_gian, from, lần bị loại, where, ...</td>\n",
       "      <td>[select, thời_gian, from, lần bị loại, where, ...</td>\n",
       "      <td>Những đô_vật đã bị loại bởi ' Punk ' hoặc ' Or...</td>\n",
       "      <td>[Những, đô_vật, đã, bị, loại, bởi, ', Punk, ',...</td>\n",
       "      <td>{'except': None, 'from': {'conds': [], 'table_...</td>\n",
       "    </tr>\n",
       "    <tr>\n",
       "      <th>19385</th>\n",
       "      <td>6830</td>\n",
       "      <td>wrestler</td>\n",
       "      <td>select thời_gian from lần bị loại where bị loạ...</td>\n",
       "      <td>[select, thời_gian, from, lần bị loại, where, ...</td>\n",
       "      <td>[select, thời_gian, from, lần bị loại, where, ...</td>\n",
       "      <td>Cho biết thời_gian bị loại của các đô_vật bị l...</td>\n",
       "      <td>[Cho, biết, thời_điểm, bị, loại, của, các, đô_...</td>\n",
       "      <td>{'except': None, 'from': {'conds': [], 'table_...</td>\n",
       "    </tr>\n",
       "  </tbody>\n",
       "</table>\n",
       "<p>19386 rows × 8 columns</p>\n",
       "</div>"
      ],
      "text/plain": [
       "       index         db_id                                              query  \\\n",
       "0          0  architecture  select count ( * ) from kiến trúc sư where giớ...   \n",
       "1          1  architecture  select tên , quốc tịch , id from kiến trúc sư ...   \n",
       "2          2  architecture  select max ( t1.chiều dài theo mét ) , t2.tên ...   \n",
       "3          3  architecture        select avg ( chiều dài theo feet ) from cầu   \n",
       "4          4  architecture  select tên , năm xây dựng from nhà máy where l...   \n",
       "...      ...           ...                                                ...   \n",
       "19381   6826      wrestler  select đội from lần bị loại where bị loại bởi ...   \n",
       "19382   6827      wrestler     select count ( distinct đội ) from lần bị loại   \n",
       "19383   6828      wrestler     select count ( distinct đội ) from lần bị loại   \n",
       "19384   6829      wrestler  select thời_gian from lần bị loại where bị loạ...   \n",
       "19385   6830      wrestler  select thời_gian from lần bị loại where bị loạ...   \n",
       "\n",
       "                                              query_toks  \\\n",
       "0      [select, count, (, *, ), from, kiến trúc sư, w...   \n",
       "1      [select, tên, ,, quốc tịch, ,, id, from, kiến ...   \n",
       "2      [select, max, (, t1.chiều dài theo mét, ), ,, ...   \n",
       "3      [select, avg, (, chiều dài theo feet, ), from,...   \n",
       "4      [select, tên, ,, năm xây dựng, from, nhà máy, ...   \n",
       "...                                                  ...   \n",
       "19381  [select, đội, from, lần bị loại, where, bị loạ...   \n",
       "19382  [select, count, (, distinct, đội, ), from, lần...   \n",
       "19383  [select, count, (, distinct, đội, ), from, lần...   \n",
       "19384  [select, thời_gian, from, lần bị loại, where, ...   \n",
       "19385  [select, thời_gian, from, lần bị loại, where, ...   \n",
       "\n",
       "                                     query_toks_no_value  \\\n",
       "0      [select, count, (, *, ), from, kiến trúc sư, w...   \n",
       "1      [select, tên, ,, quốc tịch, ,, id, from, kiến ...   \n",
       "2      [select, max, (, t1, ., chiều dài theo mét, ),...   \n",
       "3      [select, avg, (, chiều dài theo feet, ), from,...   \n",
       "4      [select, tên, ,, năm xây dựng, from, nhà máy, ...   \n",
       "...                                                  ...   \n",
       "19381  [select, đội, from, lần bị loại, where, bị loạ...   \n",
       "19382  [select, count, (, distinct, đội, ), from, lần...   \n",
       "19383  [select, count, (, distinct, đội, ), from, lần...   \n",
       "19384  [select, thời_gian, from, lần bị loại, where, ...   \n",
       "19385  [select, thời_gian, from, lần bị loại, where, ...   \n",
       "\n",
       "                                                question  \\\n",
       "0                  Có tất cả bao nhiêu kiến trúc sư nữ ?   \n",
       "1      Liệt kê tên , quốc tịch và id của tất cả các k...   \n",
       "2      Cho biết tên của người kiến trúc sư đã tạo ra ...   \n",
       "3      Cho biết chiều dài trung bình tính theo feet c...   \n",
       "4      Cho biết tên và năm xây dựng của các nhà máy t...   \n",
       "...                                                  ...   \n",
       "19381  Những đội có các đô_vật bị loại bởi ' Orton ' ...   \n",
       "19382  Những đô_vật đã bị loại đại_diện cho tất_cả ba...   \n",
       "19383  Có bao_nhiêu đội khác nhau có thành_viên là cá...   \n",
       "19384  Những đô_vật đã bị loại bởi ' Punk ' hoặc ' Or...   \n",
       "19385  Cho biết thời_gian bị loại của các đô_vật bị l...   \n",
       "\n",
       "                                           question_toks  \\\n",
       "0       [Có, tất, cả, bao, nhiêu, kiến, trúc, sư, nữ, ?]   \n",
       "1      [Liệt, kê, tên, ,, quốc, tịch, và, id, của, tấ...   \n",
       "2      [Cho, biết, tên, của, người, kiến, trúc, sư, đ...   \n",
       "3      [Cho, biết, chiều, dài, trung, bình, tính, the...   \n",
       "4      [Cho, biết, tên, và, năm, xây, dựng, của, các,...   \n",
       "...                                                  ...   \n",
       "19381  [Những, đội, có, các, đô_vật, bị, loại, bởi, '...   \n",
       "19382  [Những, đô_vật, đã, bị, loại, đại_diện, cho, t...   \n",
       "19383  [Có, bao_nhiêu, đội, khác, nhau, có, thành_viê...   \n",
       "19384  [Những, đô_vật, đã, bị, loại, bởi, ', Punk, ',...   \n",
       "19385  [Cho, biết, thời_điểm, bị, loại, của, các, đô_...   \n",
       "\n",
       "                                                     sql  \n",
       "0      {'except': None, 'from': {'conds': [], 'table_...  \n",
       "1      {'except': None, 'from': {'conds': [], 'table_...  \n",
       "2      {'except': None, 'from': {'conds': [[False, 2,...  \n",
       "3      {'except': None, 'from': {'conds': [], 'table_...  \n",
       "4      {'except': None, 'from': {'conds': [], 'table_...  \n",
       "...                                                  ...  \n",
       "19381  {'except': None, 'from': {'conds': [], 'table_...  \n",
       "19382  {'except': None, 'from': {'conds': [], 'table_...  \n",
       "19383  {'except': None, 'from': {'conds': [], 'table_...  \n",
       "19384  {'except': None, 'from': {'conds': [], 'table_...  \n",
       "19385  {'except': None, 'from': {'conds': [], 'table_...  \n",
       "\n",
       "[19386 rows x 8 columns]"
      ]
     },
     "execution_count": 13,
     "metadata": {},
     "output_type": "execute_result"
    }
   ],
   "source": [
    "DF1.reset_index(level=0, inplace=True)\n",
    "DF1"
   ]
  },
  {
   "cell_type": "code",
   "execution_count": 14,
   "metadata": {},
   "outputs": [
    {
     "data": {
      "application/vnd.microsoft.datawrangler.viewer.v0+json": {
       "columns": [
        {
         "name": "index",
         "rawType": "int64",
         "type": "integer"
        },
        {
         "name": "db_id",
         "rawType": "object",
         "type": "string"
        },
        {
         "name": "query",
         "rawType": "object",
         "type": "string"
        },
        {
         "name": "query_toks",
         "rawType": "object",
         "type": "unknown"
        },
        {
         "name": "query_toks_no_value",
         "rawType": "object",
         "type": "unknown"
        },
        {
         "name": "question",
         "rawType": "object",
         "type": "string"
        },
        {
         "name": "question_toks",
         "rawType": "object",
         "type": "unknown"
        },
        {
         "name": "sql",
         "rawType": "object",
         "type": "unknown"
        }
       ],
       "ref": "d120978c-ff3e-4219-a5ec-2d64f938b18c",
       "rows": [
        [
         "0",
         "architecture",
         "select count ( * ) from kiến trúc sư where giới tính = \"female\"",
         "['select', 'count', '(', '*', ')', 'from', 'kiến trúc sư', 'where', 'giới tính', '=', '\"female\"']",
         "['select', 'count', '(', '*', ')', 'from', 'kiến trúc sư', 'where', 'giới tính', '=', 'value']",
         "Có tất cả bao nhiêu kiến trúc sư nữ ?",
         "['Có', 'tất', 'cả', 'bao', 'nhiêu', 'kiến', 'trúc', 'sư', 'nữ', '?']",
         "{'except': None, 'from': {'conds': [], 'table_units': [['table_unit', 0]]}, 'groupBy': [], 'where': [[False, 2, [0, [0, 4, False], None], '\"female\"', None]], 'limit': None, 'union': None, 'intersect': None, 'having': [], 'select': [False, [[3, [0, [0, 0, False], None]]]], 'orderBy': []}"
        ],
        [
         "1",
         "architecture",
         "select tên , quốc tịch , id from kiến trúc sư where giới tính = \"male\" order by tên",
         "['select', 'tên', ',', 'quốc tịch', ',', 'id', 'from', 'kiến trúc sư', 'where', 'giới tính', '=', '\"male\"', 'order', 'by', 'tên']",
         "['select', 'tên', ',', 'quốc tịch', ',', 'id', 'from', 'kiến trúc sư', 'where', 'giới tính', '=', 'value', 'order', 'by', 'tên']",
         "Liệt kê tên , quốc tịch và id của tất cả các kiến trúc sư nam theo thứ tự tên .",
         "['Liệt', 'kê', 'tên', ',', 'quốc', 'tịch', 'và', 'id', 'của', 'tất', 'cả', 'các', 'kiến', 'trúc', 'sư', 'nam', 'theo', 'thứ', 'tự', 'tên', '.']",
         "{'except': None, 'from': {'conds': [], 'table_units': [['table_unit', 0]]}, 'groupBy': [], 'where': [[False, 2, [0, [0, 4, False], None], '\"male\"', None]], 'limit': None, 'union': None, 'intersect': None, 'having': [], 'select': [False, [[0, [0, [0, 2, False], None]], [0, [0, [0, 3, False], None]], [0, [0, [0, 1, False], None]]]], 'orderBy': ['asc', [[0, [0, 2, False], None]]]}"
        ],
        [
         "2",
         "architecture",
         "select max ( t1.chiều dài theo mét ) , t2.tên from cầu as t1 join kiến trúc sư as t2 on t1.id kiến trúc sư = t2.id",
         "['select', 'max', '(', 't1.chiều dài theo mét', ')', ',', 't2.tên', 'from', 'cầu', 'as', 't1', 'join', 'kiến trúc sư', 'as', 't2', 'on', 't1.id kiến trúc sư', '=', 't2.id']",
         "['select', 'max', '(', 't1', '.', 'chiều dài theo mét', ')', ',', 't2', '.', 'tên', 'from', 'cầu', 'as', 't1', 'join', 'kiến trúc sư', 'as', 't2', 'on', 't1', '.', 'id kiến trúc sư', '=', 't2', '.', 'id']",
         "Cho biết tên của người kiến trúc sư đã tạo ra cây cầu dài nhất cũng như là chiều dài tính bằng mét của cây cầu này .",
         "['Cho', 'biết', 'tên', 'của', 'người', 'kiến', 'trúc', 'sư', 'đã', 'tạo', 'ra', 'cây', 'cầu', 'dài', 'nhất', 'cũng', 'như', 'là', 'chiều', 'dài', 'tính', 'bằng', 'mét', 'của', 'cây', 'cầu', 'này', '.']",
         "{'except': None, 'from': {'conds': [[False, 2, [0, [0, 5, False], None], [0, 1, False], None]], 'table_units': [['table_unit', 1], ['table_unit', 0]]}, 'groupBy': [], 'where': [], 'limit': None, 'union': None, 'intersect': None, 'having': [], 'select': [False, [[1, [0, [0, 9, False], None]], [0, [0, [0, 2, False], None]]]], 'orderBy': []}"
        ],
        [
         "3",
         "architecture",
         "select avg ( chiều dài theo feet ) from cầu",
         "['select', 'avg', '(', 'chiều dài theo feet', ')', 'from', 'cầu']",
         "['select', 'avg', '(', 'chiều dài theo feet', ')', 'from', 'cầu']",
         "Cho biết chiều dài trung bình tính theo feet của tất cả các cây cầu .",
         "['Cho', 'biết', 'chiều', 'dài', 'trung', 'bình', 'tính', 'theo', 'feet', 'của', 'tất', 'cả', 'các', 'cây', 'cầu', '.']",
         "{'except': None, 'from': {'conds': [], 'table_units': [['table_unit', 1]]}, 'groupBy': [], 'where': [], 'limit': None, 'union': None, 'intersect': None, 'having': [], 'select': [False, [[5, [0, [0, 10, False], None]]]], 'orderBy': []}"
        ],
        [
         "4",
         "architecture",
         "select tên , năm xây dựng from nhà máy where loại = \"Grondzeiler\"",
         "['select', 'tên', ',', 'năm xây dựng', 'from', 'nhà máy', 'where', 'loại', '=', '\"Grondzeiler\"']",
         "['select', 'tên', ',', 'năm xây dựng', 'from', 'nhà máy', 'where', 'loại', '=', 'value']",
         "Cho biết tên và năm xây dựng của các nhà máy thuộc loại ' Grondzeiler ' ?",
         "['Cho', 'biết', 'tên', 'và', 'năm', 'xây', 'dựng', 'của', 'các', 'nhà', 'máy', 'thuộc', 'loại', \"'\", 'Grondzeiler', \"'\", '?']",
         "{'except': None, 'from': {'conds': [], 'table_units': [['table_unit', 2]]}, 'groupBy': [], 'where': [[False, 2, [0, [0, 15, False], None], '\"Grondzeiler\"', None]], 'limit': None, 'union': None, 'intersect': None, 'having': [], 'select': [False, [[0, [0, [0, 14, False], None]], [0, [0, [0, 16, False], None]]]], 'orderBy': []}"
        ],
        [
         "5",
         "architecture",
         "select distinct t1.tên , t1.quốc tịch from kiến trúc sư as t1 join nhà máy as t2 on t1.id = t2.id kiến trúc sư",
         "['select', 'distinct', 't1.tên', ',', 't1.quốc tịch', 'from', 'kiến trúc sư', 'as', 't1', 'join', 'nhà máy', 'as', 't2', 'on', 't1.id', '=', 't2.id kiến trúc sư']",
         "['select', 'distinct', 't1', '.', 'tên', ',', 't1', '.', 'quốc tịch', 'from', 'kiến trúc sư', 'as', 't1', 'join', 'nhà máy', 'as', 't2', 'on', 't1', '.', 'id', '=', 't2', '.', 'id kiến trúc sư']",
         "Cho biết tên và quốc tịch của những kiến trúc sư khác nhau đã từng xây dựng một nhà máy .",
         "['Cho', 'biết', 'tên', 'và', 'quốc', 'tịch', 'của', 'những', 'kiến', 'trúc', 'sư', 'khác', 'nhau', 'đã', 'từng', 'xây', 'dựng', 'một', 'nhà', 'máy', '.']",
         "{'except': None, 'from': {'conds': [[False, 2, [0, [0, 1, False], None], [0, 11, False], None]], 'table_units': [['table_unit', 0], ['table_unit', 2]]}, 'groupBy': [], 'where': [], 'limit': None, 'union': None, 'intersect': None, 'having': [], 'select': [True, [[0, [0, [0, 2, False], None]], [0, [0, [0, 3, False], None]]]], 'orderBy': []}"
        ],
        [
         "6",
         "architecture",
         "select tên from nhà máy where địa điểm != \"Donceel\"",
         "['select', 'tên', 'from', 'nhà máy', 'where', 'địa điểm', '!=', '\"Donceel\"']",
         "['select', 'tên', 'from', 'nhà máy', 'where', 'địa điểm', '!', '=', 'value']",
         "Cho biết tên của các nhà máy không được đặt tại ' Donceel ' .",
         "['Cho', 'biết', 'tên', 'của', 'các', 'nhà', 'máy', 'không', 'được', 'đặt', 'tại', \"'\", 'Donceel', \"'\", '.']",
         "{'except': None, 'from': {'conds': [], 'table_units': [['table_unit', 2]]}, 'groupBy': [], 'where': [[False, 7, [0, [0, 13, False], None], '\"Donceel\"', None]], 'limit': None, 'union': None, 'intersect': None, 'having': [], 'select': [False, [[0, [0, [0, 14, False], None]]]], 'orderBy': []}"
        ],
        [
         "7",
         "architecture",
         "select distinct t1.loại from nhà máy as t1 join kiến trúc sư as t2 on t1.id kiến trúc sư = t2.id where t2.quốc tịch = \"American\" or t2.quốc tịch = \"Canadian\"",
         "['select', 'distinct', 't1.loại', 'from', 'nhà máy', 'as', 't1', 'join', 'kiến trúc sư', 'as', 't2', 'on', 't1.id kiến trúc sư', '=', 't2.id', 'where', 't2.quốc tịch', '=', '\"American\"', 'or', 't2.quốc tịch', '=', '\"Canadian\"']",
         "['select', 'distinct', 't1', '.', 'loại', 'from', 'nhà máy', 'as', 't1', 'join', 'kiến trúc sư', 'as', 't2', 'on', 't1', '.', 'id kiến trúc sư', '=', 't2', '.', 'id', 'where', 't2', '.', 'quốc tịch', '=', 'value', 'or', 't2', '.', 'quốc tịch', '=', 'value']",
         "Cho biết các loại nhà máy khác nhau đã được xây dựng bởi các kiến trúc sư người Mỹ hoặc các kiến trúc sư người Canada .",
         "['Cho', 'biết', 'các', 'loại', 'nhà', 'máy', 'khác', 'nhau', 'đã', 'được', 'xây', 'dựng', 'bởi', 'các', 'kiến', 'trúc', 'sư', 'người', 'Mỹ', 'hoặc', 'các', 'kiến', 'trúc', 'sư', 'người', 'Canada', '.']",
         "{'except': None, 'from': {'conds': [[False, 2, [0, [0, 11, False], None], [0, 1, False], None]], 'table_units': [['table_unit', 2], ['table_unit', 0]]}, 'groupBy': [], 'where': [[False, 2, [0, [0, 3, False], None], '\"American\"', None], 'or', [False, 2, [0, [0, 3, False], None], '\"Canadian\"', None]], 'limit': None, 'union': None, 'intersect': None, 'having': [], 'select': [True, [[0, [0, [0, 15, False], None]]]], 'orderBy': []}"
        ],
        [
         "8",
         "architecture",
         "select t1.id , t1.tên from kiến trúc sư as t1 join cầu as t2 on t1.id = t2.id kiến trúc sư group by t1.id having count ( * ) >= 3",
         "['select', 't1.id', ',', 't1.tên', 'from', 'kiến trúc sư', 'as', 't1', 'join', 'cầu', 'as', 't2', 'on', 't1.id', '=', 't2.id kiến trúc sư', 'group', 'by', 't1.id', 'having', 'count', '(', '*', ')', '>=', '3']",
         "['select', 't1', '.', 'id', ',', 't1', '.', 'tên', 'from', 'kiến trúc sư', 'as', 't1', 'join', 'cầu', 'as', 't2', 'on', 't1', '.', 'id', '=', 't2', '.', 'id kiến trúc sư', 'group', 'by', 't1', '.', 'id', 'having', 'count', '(', '*', ')', '>', '=', 'value']",
         "Cho biết id và tên của các kiến trúc sư đã xây dựng ít nhất 3 cây cầu .",
         "['Cho', 'biết', 'id', 'và', 'tên', 'của', 'các', 'kiến', 'trúc', 'sư', 'đã', 'xây', 'dựng', 'ít', 'nhất', '3', 'cây', 'cầu', '.']",
         "{'except': None, 'from': {'conds': [[False, 2, [0, [0, 1, False], None], [0, 5, False], None]], 'table_units': [['table_unit', 0], ['table_unit', 1]]}, 'groupBy': [[0, 1, False]], 'where': [], 'limit': None, 'union': None, 'intersect': None, 'having': [[False, 5, [0, [3, 0, False], None], 3.0, None]], 'select': [False, [[0, [0, [0, 1, False], None]], [0, [0, [0, 2, False], None]]]], 'orderBy': []}"
        ],
        [
         "9",
         "architecture",
         "select t1.id , t1.tên , t1.quốc tịch from kiến trúc sư as t1 join nhà máy as t2 on t1.id = t2.id kiến trúc sư group by t1.id order by count ( * ) desc limit 1",
         "['select', 't1.id', ',', 't1.tên', ',', 't1.quốc tịch', 'from', 'kiến trúc sư', 'as', 't1', 'join', 'nhà máy', 'as', 't2', 'on', 't1.id', '=', 't2.id kiến trúc sư', 'group', 'by', 't1.id', 'order', 'by', 'count', '(', '*', ')', 'desc', 'limit', '1']",
         "['select', 't1', '.', 'id', ',', 't1', '.', 'tên', ',', 't1', '.', 'quốc tịch', 'from', 'kiến trúc sư', 'as', 't1', 'join', 'nhà máy', 'as', 't2', 'on', 't1', '.', 'id', '=', 't2', '.', 'id kiến trúc sư', 'group', 'by', 't1', '.', 'id', 'order', 'by', 'count', '(', '*', ')', 'desc', 'limit', 'value']",
         "Cho biết id , tên và quốc tịch của kiến trúc sư đã xây dựng nhiều nhà máy nhất .",
         "['Cho', 'biết', 'id', ',', 'tên', 'và', 'quốc', 'tịch', 'của', 'kiến', 'trúc', 'sư', 'đã', 'xây', 'dựng', 'nhiều', 'nhà', 'máy', 'nhất', '.']",
         "{'except': None, 'from': {'conds': [[False, 2, [0, [0, 1, False], None], [0, 11, False], None]], 'table_units': [['table_unit', 0], ['table_unit', 2]]}, 'groupBy': [[0, 1, False]], 'where': [], 'limit': 1, 'union': None, 'intersect': None, 'having': [], 'select': [False, [[0, [0, [0, 1, False], None]], [0, [0, [0, 2, False], None]], [0, [0, [0, 3, False], None]]]], 'orderBy': ['desc', [[0, [3, 0, False], None]]]}"
        ],
        [
         "10",
         "architecture",
         "select t1.id , t1.tên , t1.giới tính from kiến trúc sư as t1 join cầu as t2 on t1.id = t2.id kiến trúc sư group by t1.id having count ( * ) = 2 union select t1.id , t1.tên , t1.giới tính from kiến trúc sư as t1 join nhà máy as t2 on t1.id = t2.id kiến trúc sư group by t1.id having count ( * ) = 1",
         "['select', 't1.id', ',', 't1.tên', ',', 't1.giới tính', 'from', 'kiến trúc sư', 'as', 't1', 'join', 'cầu', 'as', 't2', 'on', 't1.id', '=', 't2.id kiến trúc sư', 'group', 'by', 't1.id', 'having', 'count', '(', '*', ')', '=', '2', 'union', 'select', 't1.id', ',', 't1.tên', ',', 't1.giới tính', 'from', 'kiến trúc sư', 'as', 't1', 'join', 'nhà máy', 'as', 't2', 'on', 't1.id', '=', 't2.id kiến trúc sư', 'group', 'by', 't1.id', 'having', 'count', '(', '*', ')', '=', '1']",
         "['select', 't1', '.', 'id', ',', 't1', '.', 'tên', ',', 't1', '.', 'giới tính', 'from', 'kiến trúc sư', 'as', 't1', 'join', 'cầu', 'as', 't2', 'on', 't1', '.', 'id', '=', 't2', '.', 'id kiến trúc sư', 'group', 'by', 't1', '.', 'id', 'having', 'count', '(', '*', ')', '=', 'value', 'union', 'select', 't1', '.', 'id', ',', 't1', '.', 'tên', ',', 't1', '.', 'giới tính', 'from', 'kiến trúc sư', 'as', 't1', 'join', 'nhà máy', 'as', 't2', 'on', 't1', '.', 'id', '=', 't2', '.', 'id kiến trúc sư', 'group', 'by', 't1', '.', 'id', 'having', 'count', '(', '*', ')', '=', 'value']",
         "Cho biết id , tên và giới tính của các kiến trúc sư đã xây dựng hai cây cầu hoặc một nhà máy .",
         "['Cho', 'biết', 'id', ',', 'tên', 'và', 'giới', 'tính', 'của', 'các', 'kiến', 'trúc', 'sư', 'đã', 'xây', 'dựng', 'hai', 'cây', 'cầu', 'hoặc', 'một', 'nhà', 'máy', '.']",
         "{'except': None, 'from': {'conds': [[False, 2, [0, [0, 1, False], None], [0, 11, False], None]], 'table_units': [['table_unit', 0], ['table_unit', 1]]}, 'groupBy': [[0, 1, False]], 'where': [], 'limit': None, 'union': {'except': None, 'from': {'conds': [[False, 2, [0, [0, 1, False], None], [0, 11, False], None]], 'table_units': [['table_unit', 0], ['table_unit', 2]]}, 'groupBy': [[0, 1, False]], 'where': [], 'limit': None, 'union': None, 'intersect': None, 'having': [[False, 2, [0, [3, 0, False], None], 1.0, None]], 'select': [False, [[0, [0, [0, 1, False], None]], [0, [0, [0, 2, False], None]], [0, [0, [0, 4, False], None]]]], 'orderBy': []}, 'intersect': None, 'having': [[False, 2, [0, [3, 0, False], None], 2.0, None]], 'select': [False, [[0, [0, [0, 1, False], None]], [0, [0, [0, 2, False], None]], [0, [0, [0, 4, False], None]]]], 'orderBy': []}"
        ],
        [
         "11",
         "architecture",
         "select địa điểm from cầu where tên = \"Kolob Arch\" or tên = \"Rainbow Bridge\"",
         "['select', 'địa điểm', 'from', 'cầu', 'where', 'tên', '=', '\"Kolob Arch\"', 'or', 'tên', '=', '\"Rainbow Bridge\"']",
         "['select', 'địa điểm', 'from', 'cầu', 'where', 'tên', '=', 'value', 'or', 'tên', '=', 'value']",
         "Cho biết địa điểm của cây cầu có tên là ' Cổng vòm Kolob ' hoặc cây cầu có tên là ' Cầu cầu vồng ' .",
         "['Cho', 'biết', 'địa', 'điểm', 'của', 'cây', 'cầu', 'có', 'tên', 'là', \"'\", 'Cổng', 'vòm', 'Kolob', \"'\", 'hoặc', 'cây', 'cầu', 'có', 'tên', 'là', \"'\", 'Cầu', 'cầu', 'vồng', \"'\", '.']",
         "{'except': None, 'from': {'conds': [], 'table_units': [['table_unit', 1]]}, 'groupBy': [], 'where': [[False, 2, [0, [0, 7, False], None], '\"Kolob Arch\"', None], 'or', [False, 2, [0, [0, 7, False], None], '\"Rainbow Bridge\"', None]], 'limit': None, 'union': None, 'intersect': None, 'having': [], 'select': [False, [[0, [0, [0, 8, False], None]]]], 'orderBy': []}"
        ],
        [
         "12",
         "architecture",
         "select tên from nhà máy where tên like \"%Moulin%\"",
         "['select', 'tên', 'from', 'nhà máy', 'where', 'tên', 'like', '\"%Moulin%\"']",
         "['select', 'tên', 'from', 'nhà máy', 'where', 'tên', 'like', 'value']",
         "Cho biết tên của nhà máy có chứa từ tiếng Pháp ' Moulin ' trong tên .",
         "['Cho', 'biết', 'tên', 'của', 'nhà', 'máy', 'có', 'chứa', 'từ', 'tiếng', 'Pháp', \"'\", 'Moulin', \"'\", 'trong', 'tên', '.']",
         "{'except': None, 'from': {'conds': [], 'table_units': [['table_unit', 2]]}, 'groupBy': [], 'where': [[False, 9, [0, [0, 14, False], None], '\"%Moulin%\"', None]], 'limit': None, 'union': None, 'intersect': None, 'having': [], 'select': [False, [[0, [0, [0, 14, False], None]]]], 'orderBy': []}"
        ],
        [
         "13",
         "architecture",
         "select distinct t1.tên from nhà máy as t1 join kiến trúc sư as t2 on t1.id kiến trúc sư = t2.id join cầu as t3 on t3.id kiến trúc sư = t2.id where t3.chiều dài theo mét > 80",
         "['select', 'distinct', 't1.tên', 'from', 'nhà máy', 'as', 't1', 'join', 'kiến trúc sư', 'as', 't2', 'on', 't1.id kiến trúc sư', '=', 't2.id', 'join', 'cầu', 'as', 't3', 'on', 't3.id kiến trúc sư', '=', 't2.id', 'where', 't3.chiều dài theo mét', '>', '80']",
         "['select', 'distinct', 't1', '.', 'tên', 'from', 'nhà máy', 'as', 't1', 'join', 'kiến trúc sư', 'as', 't2', 'on', 't1', '.', 'id kiến trúc sư', '=', 't2', '.', 'id', 'join', 'cầu', 'as', 't3', 'on', 't3', '.', 'id kiến trúc sư', '=', 't2', '.', 'id', 'where', 't3', '.', 'chiều dài theo mét', '>', 'value']",
         "Cho biết tên của các nhà máy khác nhau được xây dựng bởi các kiến trúc sư đã từng xây dựng một cây cầu dài hơn 80 mét .",
         "['Cho', 'biết', 'tên', 'của', 'các', 'nhà', 'máy', 'khác', 'nhau', 'được', 'xây', 'dựng', 'bởi', 'các', 'kiến', 'trúc', 'sư', 'đã', 'từng', 'xây', 'dựng', 'một', 'cây', 'cầu', 'dài', 'hơn', '80', 'mét', '.']",
         "{'except': None, 'from': {'conds': [[False, 2, [0, [0, 11, False], None], [0, 1, False], None]], 'table_units': [['table_unit', 2], ['table_unit', 0]]}, 'groupBy': [], 'where': [[False, 3, [0, [0, 9, False], None], 80.0, None]], 'limit': None, 'union': None, 'intersect': None, 'having': [], 'select': [True, [[0, [0, [0, 14, False], None]]]], 'orderBy': []}"
        ],
        [
         "14",
         "architecture",
         "select loại , count ( * ) from nhà máy group by loại order by count ( * ) desc limit 1",
         "['select', 'loại', ',', 'count', '(', '*', ')', 'from', 'nhà máy', 'group', 'by', 'loại', 'order', 'by', 'count', '(', '*', ')', 'desc', 'limit', '1']",
         "['select', 'loại', ',', 'count', '(', '*', ')', 'from', 'nhà máy', 'group', 'by', 'loại', 'order', 'by', 'count', '(', '*', ')', 'desc', 'limit', 'value']",
         "Cho biết loại nhà máy phổ biết nhất và có bao nhiêu nhà máy thuộc loại này ?",
         "['Cho', 'biết', 'loại', 'nhà', 'máy', 'phổ', 'biết', 'nhất', 'và', 'có', 'bao', 'nhiêu', 'nhà', 'máy', 'thuộc', 'loại', 'này', '?']",
         "{'except': None, 'from': {'conds': [], 'table_units': [['table_unit', 2]]}, 'groupBy': [[0, 15, False]], 'where': [], 'limit': 1, 'union': None, 'intersect': None, 'having': [], 'select': [False, [[0, [0, [0, 15, False], None]], [3, [0, [0, 0, False], None]]]], 'orderBy': ['desc', [[0, [3, 0, False], None]]]}"
        ],
        [
         "15",
         "architecture",
         "select count ( * ) from kiến trúc sư where id not in ( select id kiến trúc sư from nhà máy where năm xây dựng < 1850 )",
         "['select', 'count', '(', '*', ')', 'from', 'kiến trúc sư', 'where', 'id', 'not', 'in', '(', 'select', 'id kiến trúc sư', 'from', 'nhà máy', 'where', 'năm xây dựng', '<', '1850', ')']",
         "['select', 'count', '(', '*', ')', 'from', 'kiến trúc sư', 'where', 'id', 'not', 'in', '(', 'select', 'id kiến trúc sư', 'from', 'nhà máy', 'where', 'năm xây dựng', '<', 'value', ')']",
         "Có bao nhiêu kiến ​​trúc sư chưa từng xây dựng một nhà máy nào trước năm 1850 ?",
         "['Có', 'bao', 'nhiêu', 'kiến', '\\u200b\\u200btrúc', 'sư', 'chưa', 'từng', 'xây', 'dựng', 'một', 'nhà', 'máy', 'nào', 'trước', 'năm', '1850', '?']",
         "{'except': None, 'from': {'conds': [], 'table_units': [['table_unit', 0]]}, 'groupBy': [], 'where': [[True, 8, [0, [0, 1, False], None], {'except': None, 'from': {'conds': [], 'table_units': [['table_unit', 2]]}, 'groupBy': [], 'where': [[False, 4, [0, [0, 16, False], None], 1850.0, None]], 'limit': None, 'union': None, 'intersect': None, 'having': [], 'select': [False, [[0, [0, [0, 11, False], None]]]], 'orderBy': []}, None]], 'limit': None, 'union': None, 'intersect': None, 'having': [], 'select': [False, [[3, [0, [0, 0, False], None]]]], 'orderBy': []}"
        ],
        [
         "16",
         "architecture",
         "select t1.tên from cầu as t1 join kiến trúc sư as t2 on t1.id kiến trúc sư = t2.id where t2.quốc tịch = \"American\" order by t1.chiều dài theo feet",
         "['select', 't1.tên', 'from', 'cầu', 'as', 't1', 'join', 'kiến trúc sư', 'as', 't2', 'on', 't1.id kiến trúc sư', '=', 't2.id', 'where', 't2.quốc tịch', '=', '\"American\"', 'order', 'by', 't1.chiều dài theo feet']",
         "['select', 't1', '.', 'tên', 'from', 'cầu', 'as', 't1', 'join', 'kiến trúc sư', 'as', 't2', 'on', 't1', '.', 'id kiến trúc sư', '=', 't2', '.', 'id', 'where', 't2', '.', 'quốc tịch', '=', 'value', 'order', 'by', 't1', '.', 'chiều dài theo feet']",
         "Hiển thị tên của tất cả những cây cầu được thiết kế bởi các kiến ​​trúc sư người Mỹ và sắp xếp kết quả theo thứ tự chiều dài chân cầu .",
         "['Hiển', 'thị', 'tên', 'của', 'tất', 'cả', 'những', 'cây', 'cầu', 'được', 'thiết', 'kế', 'bởi', 'các', 'kiến', '\\u200b\\u200btrúc', 'sư', 'người', 'Mỹ', 'và', 'sắp', 'xếp', 'kết', 'quả', 'theo', 'thứ', 'tự', 'chiều', 'dài', 'chân', 'cầu', '.']",
         "{'except': None, 'from': {'conds': [[False, 2, [0, [0, 5, False], None], [0, 1, False], None]], 'table_units': [['table_unit', 1], ['table_unit', 0]]}, 'groupBy': [], 'where': [[False, 2, [0, [0, 3, False], None], '\"American\"', None]], 'limit': None, 'union': None, 'intersect': None, 'having': [], 'select': [False, [[0, [0, [0, 7, False], None]]]], 'orderBy': ['asc', [[0, [0, 10, False], None]]]}"
        ],
        [
         "17",
         "cinema",
         "select địa điểm from rạp chiếu phim except select địa điểm from rạp chiếu phim where sức chứa > 800",
         "['select', 'địa điểm', 'from', 'rạp chiếu phim', 'except', 'select', 'địa điểm', 'from', 'rạp chiếu phim', 'where', 'sức chứa', '>', '800']",
         "['select', 'địa điểm', 'from', 'rạp chiếu phim', 'except', 'select', 'địa điểm', 'from', 'rạp chiếu phim', 'where', 'sức chứa', '>', 'value']",
         "Hiển thị tất cả các địa điểm không có rạp chiếu phim với sức chứa trên 800 .",
         "['Hiển', 'thị', 'tất', 'cả', 'các', 'địa', 'điểm', 'không', 'có', 'rạp', 'chiếu', 'phim', 'với', 'sức', 'chứa', 'trên', '800', '.']",
         "{'except': {'except': None, 'from': {'conds': [], 'table_units': [['table_unit', 1]]}, 'groupBy': [], 'where': [[False, 3, [0, [0, 11, False], None], 800.0, None]], 'limit': None, 'union': None, 'intersect': None, 'having': [], 'select': [False, [[0, [0, [0, 12, False], None]]]], 'orderBy': []}, 'from': {'conds': [], 'table_units': [['table_unit', 1]]}, 'groupBy': [], 'where': [], 'limit': None, 'union': None, 'intersect': None, 'having': [], 'select': [False, [[0, [0, [0, 12, False], None]]]], 'orderBy': []}"
        ],
        [
         "18",
         "cinema",
         "select địa điểm from rạp chiếu phim where năm mở cửa = 2010 intersect select địa điểm from rạp chiếu phim where năm mở cửa = 2011",
         "['select', 'địa điểm', 'from', 'rạp chiếu phim', 'where', 'năm mở cửa', '=', '2010', 'intersect', 'select', 'địa điểm', 'from', 'rạp chiếu phim', 'where', 'năm mở cửa', '=', '2011']",
         "['select', 'địa điểm', 'from', 'rạp chiếu phim', 'where', 'năm mở cửa', '=', 'value', 'intersect', 'select', 'địa điểm', 'from', 'rạp chiếu phim', 'where', 'năm mở cửa', '=', 'value']",
         "Hiển thị tất cả các địa điểm nơi có một số rạp chiếu phim đã được mở vào năm 2010 và năm 2011 .",
         "['Hiển', 'thị', 'tất', 'cả', 'các', 'địa', 'điểm', 'nơi', 'có', 'một', 'số', 'rạp', 'chiếu', 'phim', 'đã', 'được', 'mở', 'vào', 'năm', '2010', 'và', 'năm', '2011', '.']",
         "{'except': None, 'from': {'conds': [], 'table_units': [['table_unit', 1]]}, 'groupBy': [], 'where': [[False, 2, [0, [0, 10, False], None], 2010.0, None]], 'limit': None, 'union': None, 'intersect': {'except': None, 'from': {'conds': [], 'table_units': [['table_unit', 1]]}, 'groupBy': [], 'where': [[False, 2, [0, [0, 10, False], None], 2011.0, None]], 'limit': None, 'union': None, 'intersect': None, 'having': [], 'select': [False, [[0, [0, [0, 12, False], None]]]], 'orderBy': []}, 'having': [], 'select': [False, [[0, [0, [0, 12, False], None]]]], 'orderBy': []}"
        ],
        [
         "19",
         "cinema",
         "select count ( * ) from rạp chiếu phim",
         "['select', 'count', '(', '*', ')', 'from', 'rạp chiếu phim']",
         "['select', 'count', '(', '*', ')', 'from', 'rạp chiếu phim']",
         "Có bao nhiêu rạp chiếu phim ?",
         "['Có', 'bao', 'nhiêu', 'rạp', 'chiếu', 'phim', '?']",
         "{'except': None, 'from': {'conds': [], 'table_units': [['table_unit', 1]]}, 'groupBy': [], 'where': [], 'limit': None, 'union': None, 'intersect': None, 'having': [], 'select': [False, [[3, [0, [0, 0, False], None]]]], 'orderBy': []}"
        ],
        [
         "20",
         "cinema",
         "select count ( * ) from rạp chiếu phim",
         "['select', 'count', '(', '*', ')', 'from', 'rạp chiếu phim']",
         "['select', 'count', '(', '*', ')', 'from', 'rạp chiếu phim']",
         "Đếm số lượng rạp chiếu phim .",
         "['Đếm', 'số', 'lượng', 'rạp', 'chiếu', 'phim', '.']",
         "{'except': None, 'from': {'conds': [], 'table_units': [['table_unit', 1]]}, 'groupBy': [], 'where': [], 'limit': None, 'union': None, 'intersect': None, 'having': [], 'select': [False, [[3, [0, [0, 0, False], None]]]], 'orderBy': []}"
        ],
        [
         "21",
         "cinema",
         "select tên , năm mở cửa , sức chứa from rạp chiếu phim",
         "['select', 'tên', ',', 'năm mở cửa', ',', 'sức chứa', 'from', 'rạp chiếu phim']",
         "['select', 'tên', ',', 'năm mở cửa', ',', 'sức chứa', 'from', 'rạp chiếu phim']",
         "Hiển thị tên , năm mở cửa , và sức chứa của từng rạp chiếu phim .",
         "['Hiển', 'thị', 'tên', ',', 'năm', 'mở', 'cửa', ',', 'và', 'sức', 'chứa', 'của', 'từng', 'rạp', 'chiếu', 'phim', '.']",
         "{'except': None, 'from': {'conds': [], 'table_units': [['table_unit', 1]]}, 'groupBy': [], 'where': [], 'limit': None, 'union': None, 'intersect': None, 'having': [], 'select': [False, [[0, [0, [0, 9, False], None]], [0, [0, [0, 10, False], None]], [0, [0, [0, 11, False], None]]]], 'orderBy': []}"
        ],
        [
         "22",
         "cinema",
         "select tên , địa điểm from rạp chiếu phim where sức chứa > ( select avg ( sức chứa ) from rạp chiếu phim )",
         "['select', 'tên', ',', 'địa điểm', 'from', 'rạp chiếu phim', 'where', 'sức chứa', '>', '(', 'select', 'avg', '(', 'sức chứa', ')', 'from', 'rạp chiếu phim', ')']",
         "['select', 'tên', ',', 'địa điểm', 'from', 'rạp chiếu phim', 'where', 'sức chứa', '>', '(', 'select', 'avg', '(', 'sức chứa', ')', 'from', 'rạp chiếu phim', ')']",
         "Hiển thị tên và địa điểm của các rạp chiếu phim có sức chứa trên mức trung bình .",
         "['Hiển', 'thị', 'tên', 'và', 'địa', 'điểm', 'của', 'các', 'rạp', 'chiếu', 'phim', 'có', 'sức', 'chứa', 'trên', 'mức', 'trung', 'bình', '.']",
         "{'except': None, 'from': {'conds': [], 'table_units': [['table_unit', 1]]}, 'groupBy': [], 'where': [[False, 3, [0, [0, 11, False], None], {'except': None, 'from': {'conds': [], 'table_units': [['table_unit', 1]]}, 'groupBy': [], 'where': [], 'limit': None, 'union': None, 'intersect': None, 'having': [], 'select': [False, [[5, [0, [0, 11, False], None]]]], 'orderBy': []}, None]], 'limit': None, 'union': None, 'intersect': None, 'having': [], 'select': [False, [[0, [0, [0, 9, False], None]], [0, [0, [0, 12, False], None]]]], 'orderBy': []}"
        ],
        [
         "23",
         "cinema",
         "select distinct địa điểm from rạp chiếu phim",
         "['select', 'distinct', 'địa điểm', 'from', 'rạp chiếu phim']",
         "['select', 'distinct', 'địa điểm', 'from', 'rạp chiếu phim']",
         "Những địa điểm có một vài rạp chiếu phim là những địa điểm nào ?",
         "['Những', 'địa', 'điểm', 'có', 'một', 'vài', 'rạp', 'chiếu', 'phim', 'là', 'những', 'địa', 'điểm', 'nào', '?']",
         "{'except': None, 'from': {'conds': [], 'table_units': [['table_unit', 1]]}, 'groupBy': [], 'where': [], 'limit': None, 'union': None, 'intersect': None, 'having': [], 'select': [True, [[0, [0, [0, 12, False], None]]]], 'orderBy': []}"
        ],
        [
         "24",
         "cinema",
         "select distinct địa điểm from rạp chiếu phim",
         "['select', 'distinct', 'địa điểm', 'from', 'rạp chiếu phim']",
         "['select', 'distinct', 'địa điểm', 'from', 'rạp chiếu phim']",
         "Tìm những địa điểm khác nhau nơi có một vài rạp chiếu phim .",
         "['Tìm', 'những', 'địa', 'điểm', 'khác', 'nhau', 'nơi', 'có', 'một', 'vài', 'rạp', 'chiếu', 'phim', '.']",
         "{'except': None, 'from': {'conds': [], 'table_units': [['table_unit', 1]]}, 'groupBy': [], 'where': [], 'limit': None, 'union': None, 'intersect': None, 'having': [], 'select': [True, [[0, [0, [0, 12, False], None]]]], 'orderBy': []}"
        ],
        [
         "25",
         "cinema",
         "select tên , năm mở cửa from rạp chiếu phim order by năm mở cửa desc",
         "['select', 'tên', ',', 'năm mở cửa', 'from', 'rạp chiếu phim', 'order', 'by', 'năm mở cửa', 'desc']",
         "['select', 'tên', ',', 'năm mở cửa', 'from', 'rạp chiếu phim', 'order', 'by', 'năm mở cửa', 'desc']",
         "Hiển thị tên của tất cả các rạp chiếu phim và năm mở cửa của từng rạp theo thứ tự giảm dần về năm mở cửa .",
         "['Hiển', 'thị', 'tên', 'của', 'tất', 'cả', 'các', 'rạp', 'chiếu', 'phim', 'và', 'năm', 'mở', 'cửa', 'của', 'từng', 'rạp', 'theo', 'thứ', 'tự', 'giảm', 'dần', 'về', 'năm', 'mở', 'cửa', '.']",
         "{'except': None, 'from': {'conds': [], 'table_units': [['table_unit', 1]]}, 'groupBy': [], 'where': [], 'limit': None, 'union': None, 'intersect': None, 'having': [], 'select': [False, [[0, [0, [0, 9, False], None]], [0, [0, [0, 10, False], None]]]], 'orderBy': ['desc', [[0, [0, 10, False], None]]]}"
        ],
        [
         "26",
         "cinema",
         "select tên , địa điểm from rạp chiếu phim order by sức chứa desc limit 1",
         "['select', 'tên', ',', 'địa điểm', 'from', 'rạp chiếu phim', 'order', 'by', 'sức chứa', 'desc', 'limit', '1']",
         "['select', 'tên', ',', 'địa điểm', 'from', 'rạp chiếu phim', 'order', 'by', 'sức chứa', 'desc', 'limit', 'value']",
         "Cho biết tên và địa điểm của rạp chiếu phim có sức chứa lớn nhất .",
         "['Cho', 'biết', 'tên', 'và', 'địa', 'điểm', 'của', 'rạp', 'chiếu', 'phim', 'có', 'sức', 'chứa', 'lớn', 'nhất', '.']",
         "{'except': None, 'from': {'conds': [], 'table_units': [['table_unit', 1]]}, 'groupBy': [], 'where': [], 'limit': 1, 'union': None, 'intersect': None, 'having': [], 'select': [False, [[0, [0, [0, 9, False], None]], [0, [0, [0, 12, False], None]]]], 'orderBy': ['desc', [[0, [0, 11, False], None]]]}"
        ],
        [
         "27",
         "cinema",
         "select avg ( sức chứa ) , min ( sức chứa ) , max ( sức chứa ) from rạp chiếu phim where năm mở cửa >= 2011",
         "['select', 'avg', '(', 'sức chứa', ')', ',', 'min', '(', 'sức chứa', ')', ',', 'max', '(', 'sức chứa', ')', 'from', 'rạp chiếu phim', 'where', 'năm mở cửa', '>=', '2011']",
         "['select', 'avg', '(', 'sức chứa', ')', ',', 'min', '(', 'sức chứa', ')', ',', 'max', '(', 'sức chứa', ')', 'from', 'rạp chiếu phim', 'where', 'năm mở cửa', '>', '=', 'value']",
         "Hiển thị sức chứa trung bình , sức chứa tối thiểu và sức chứa tối đa của tất cả các rạp chiếu phim được mở từ sau năm 2011 .",
         "['Hiển', 'thị', 'sức', 'chứa', 'trung', 'bình', ',', 'sức', 'chứa', 'tối', 'thiểu', 'và', 'sức', 'chứa', 'tối', 'đa', 'của', 'tất', 'cả', 'các', 'rạp', 'chiếu', 'phim', 'được', 'mở', 'từ', 'sau', 'năm', '2011', '.']",
         "{'except': None, 'from': {'conds': [], 'table_units': [['table_unit', 1]]}, 'groupBy': [], 'where': [[False, 5, [0, [0, 10, False], None], 2011.0, None]], 'limit': None, 'union': None, 'intersect': None, 'having': [], 'select': [False, [[5, [0, [0, 11, False], None]], [2, [0, [0, 11, False], None]], [1, [0, [0, 11, False], None]]]], 'orderBy': []}"
        ],
        [
         "28",
         "cinema",
         "select địa điểm , count ( * ) from rạp chiếu phim group by địa điểm",
         "['select', 'địa điểm', ',', 'count', '(', '*', ')', 'from', 'rạp chiếu phim', 'group', 'by', 'địa điểm']",
         "['select', 'địa điểm', ',', 'count', '(', '*', ')', 'from', 'rạp chiếu phim', 'group', 'by', 'địa điểm']",
         "Hiển thị tất cả các địa điểm và số lượng rạp chiếu phim ở mỗi địa điểm .",
         "['Hiển', 'thị', 'tất', 'cả', 'các', 'địa', 'điểm', 'và', 'số', 'lượng', 'rạp', 'chiếu', 'phim', 'ở', 'mỗi', 'địa', 'điểm', '.']",
         "{'except': None, 'from': {'conds': [], 'table_units': [['table_unit', 1]]}, 'groupBy': [[0, 12, False]], 'where': [], 'limit': None, 'union': None, 'intersect': None, 'having': [], 'select': [False, [[0, [0, [0, 12, False], None]], [3, [0, [0, 0, False], None]]]], 'orderBy': []}"
        ],
        [
         "29",
         "cinema",
         "select địa điểm from rạp chiếu phim where năm mở cửa >= 2010 group by địa điểm order by count ( * ) desc limit 1",
         "['select', 'địa điểm', 'from', 'rạp chiếu phim', 'where', 'năm mở cửa', '>=', '2010', 'group', 'by', 'địa điểm', 'order', 'by', 'count', '(', '*', ')', 'desc', 'limit', '1']",
         "['select', 'địa điểm', 'from', 'rạp chiếu phim', 'where', 'năm mở cửa', '>', '=', 'value', 'group', 'by', 'địa điểm', 'order', 'by', 'count', '(', '*', ')', 'desc', 'limit', 'value']",
         "Địa điểm có nhiều rạp chiếu phim nhất được mở trong năm 2010 hoặc sau đó nằm ở đâu ?",
         "['Địa', 'điểm', 'có', 'nhiều', 'rạp', 'chiếu', 'phim', 'nhất', 'được', 'mở', 'trong', 'năm', '2010', 'hoặc', 'sau', 'đó', 'nằm', 'ở', 'đâu', '?']",
         "{'except': None, 'from': {'conds': [], 'table_units': [['table_unit', 1]]}, 'groupBy': [[0, 12, False]], 'where': [[False, 5, [0, [0, 10, False], None], 2010.0, None]], 'limit': 1, 'union': None, 'intersect': None, 'having': [], 'select': [False, [[0, [0, [0, 12, False], None]]]], 'orderBy': ['desc', [[0, [3, 0, False], None]]]}"
        ],
        [
         "30",
         "cinema",
         "select địa điểm from rạp chiếu phim where sức chứa > 300 group by địa điểm having count ( * ) >= 2",
         "['select', 'địa điểm', 'from', 'rạp chiếu phim', 'where', 'sức chứa', '>', '300', 'group', 'by', 'địa điểm', 'having', 'count', '(', '*', ')', '>=', '2']",
         "['select', 'địa điểm', 'from', 'rạp chiếu phim', 'where', 'sức chứa', '>', 'value', 'group', 'by', 'địa điểm', 'having', 'count', '(', '*', ')', '>', '=', 'value']",
         "Hiển thị tất cả các địa điểm có ít nhất hai rạp chiếu phim với sức chứa trên 300 .",
         "['Hiển', 'thị', 'tất', 'cả', 'các', 'địa', 'điểm', 'có', 'ít', 'nhất', 'hai', 'rạp', 'chiếu', 'phim', 'với', 'sức', 'chứa', 'trên', '300', '.']",
         "{'except': None, 'from': {'conds': [], 'table_units': [['table_unit', 1]]}, 'groupBy': [[0, 12, False]], 'where': [[False, 3, [0, [0, 11, False], None], 300.0, None]], 'limit': None, 'union': None, 'intersect': None, 'having': [[False, 5, [0, [3, 0, False], None], 2.0, None]], 'select': [False, [[0, [0, [0, 12, False], None]]]], 'orderBy': []}"
        ],
        [
         "31",
         "cinema",
         "select địa điểm from rạp chiếu phim where sức chứa > 300 group by địa điểm having count ( * ) >= 2",
         "['select', 'địa điểm', 'from', 'rạp chiếu phim', 'where', 'sức chứa', '>', '300', 'group', 'by', 'địa điểm', 'having', 'count', '(', '*', ')', '>=', '2']",
         "['select', 'địa điểm', 'from', 'rạp chiếu phim', 'where', 'sức chứa', '>', 'value', 'group', 'by', 'địa điểm', 'having', 'count', '(', '*', ')', '>', '=', 'value']",
         "Những địa điểm nào có từ 2 rạp chiếu phim với sức chứa lớn hơn 300 ?",
         "['Những', 'địa', 'điểm', 'nào', 'có', 'từ', '2', 'rạp', 'chiếu', 'phim', 'với', 'sức', 'chứa', 'lớn', 'hơn', '300', '?']",
         "{'except': None, 'from': {'conds': [], 'table_units': [['table_unit', 1]]}, 'groupBy': [[0, 12, False]], 'where': [[False, 3, [0, [0, 11, False], None], 300.0, None]], 'limit': None, 'union': None, 'intersect': None, 'having': [[False, 5, [0, [3, 0, False], None], 2.0, None]], 'select': [False, [[0, [0, [0, 12, False], None]]]], 'orderBy': []}"
        ],
        [
         "32",
         "cinema",
         "select tiêu đề , được đạo diễn bởi from phim",
         "['select', 'tiêu đề', ',', 'được đạo diễn bởi', 'from', 'phim']",
         "['select', 'tiêu đề', ',', 'được đạo diễn bởi', 'from', 'phim']",
         "Hiển thị tiêu đề và đạo diễn của tất cả các bộ phim .",
         "['Hiển', 'thị', 'tiêu', 'đề', 'và', 'đạo', 'diễn', 'của', 'tất', 'cả', 'các', 'bộ', 'phim', '.']",
         "{'except': None, 'from': {'conds': [], 'table_units': [['table_unit', 0]]}, 'groupBy': [], 'where': [], 'limit': None, 'union': None, 'intersect': None, 'having': [], 'select': [False, [[0, [0, [0, 4, False], None]], [0, [0, [0, 5, False], None]]]], 'orderBy': []}"
        ],
        [
         "33",
         "cinema",
         "select tiêu đề , được đạo diễn bởi from phim",
         "['select', 'tiêu đề', ',', 'được đạo diễn bởi', 'from', 'phim']",
         "['select', 'tiêu đề', ',', 'được đạo diễn bởi', 'from', 'phim']",
         "Tiêu đề và đạo diễn của từng bộ phim ?",
         "['Tiêu', 'đề', 'và', 'đạo', 'diễn', 'của', 'từng', 'bộ', 'phim', '?']",
         "{'except': None, 'from': {'conds': [], 'table_units': [['table_unit', 0]]}, 'groupBy': [], 'where': [], 'limit': None, 'union': None, 'intersect': None, 'having': [], 'select': [False, [[0, [0, [0, 4, False], None]], [0, [0, [0, 5, False], None]]]], 'orderBy': []}"
        ],
        [
         "34",
         "cinema",
         "select distinct được đạo diễn bởi from phim",
         "['select', 'distinct', 'được đạo diễn bởi', 'from', 'phim']",
         "['select', 'distinct', 'được đạo diễn bởi', 'from', 'phim']",
         "Hiển thị tất cả các đạo diễn .",
         "['Hiển', 'thị', 'tất', 'cả', 'các', 'đạo', 'diễn', '.']",
         "{'except': None, 'from': {'conds': [], 'table_units': [['table_unit', 0]]}, 'groupBy': [], 'where': [], 'limit': None, 'union': None, 'intersect': None, 'having': [], 'select': [True, [[0, [0, [0, 5, False], None]]]], 'orderBy': []}"
        ],
        [
         "35",
         "cinema",
         "select distinct được đạo diễn bởi from phim",
         "['select', 'distinct', 'được đạo diễn bởi', 'from', 'phim']",
         "['select', 'distinct', 'được đạo diễn bởi', 'from', 'phim']",
         "Liệt kê tất cả các đạo diễn .",
         "['Liệt', 'kê', 'tất', 'cả', 'các', 'đạo', 'diễn', '.']",
         "{'except': None, 'from': {'conds': [], 'table_units': [['table_unit', 0]]}, 'groupBy': [], 'where': [], 'limit': None, 'union': None, 'intersect': None, 'having': [], 'select': [True, [[0, [0, [0, 5, False], None]]]], 'orderBy': []}"
        ],
        [
         "36",
         "cinema",
         "select được đạo diễn bởi , count ( * ) from phim group by được đạo diễn bởi",
         "['select', 'được đạo diễn bởi', ',', 'count', '(', '*', ')', 'from', 'phim', 'group', 'by', 'được đạo diễn bởi']",
         "['select', 'được đạo diễn bởi', ',', 'count', '(', '*', ')', 'from', 'phim', 'group', 'by', 'được đạo diễn bởi']",
         "Liệt kê tất cả các đạo diễn cùng với số lượng phim của từng người .",
         "['Liệt', 'kê', 'tất', 'cả', 'các', 'đạo', 'diễn', 'cùng', 'với', 'số', 'lượng', 'phim', 'của', 'từng', 'người', '.']",
         "{'except': None, 'from': {'conds': [], 'table_units': [['table_unit', 0]]}, 'groupBy': [[0, 5, False]], 'where': [], 'limit': None, 'union': None, 'intersect': None, 'having': [], 'select': [False, [[0, [0, [0, 5, False], None]], [3, [0, [0, 0, False], None]]]], 'orderBy': []}"
        ],
        [
         "37",
         "cinema",
         "select t2.tên , sum ( t1.số lượng suất chiếu mỗi ngày ) from lịch chiếu phim as t1 join rạp chiếu phim as t2 on t1.id rạp chiếu phim = t2.id rạp chiếu phim group by t1.id rạp chiếu phim",
         "['select', 't2.tên', ',', 'sum', '(', 't1.số lượng suất chiếu mỗi ngày', ')', 'from', 'lịch chiếu phim', 'as', 't1', 'join', 'rạp chiếu phim', 'as', 't2', 'on', 't1.id rạp chiếu phim', '=', 't2.id rạp chiếu phim', 'group', 'by', 't1.id rạp chiếu phim']",
         "['select', 't2', '.', 'tên', ',', 'sum', '(', 't1', '.', 'số lượng suất chiếu mỗi ngày', ')', 'from', 'lịch chiếu phim', 'as', 't1', 'join', 'rạp chiếu phim', 'as', 't2', 'on', 't1', '.', 'id rạp chiếu phim', '=', 't2', '.', 'id rạp chiếu phim', 'group', 'by', 't1', '.', 'id rạp chiếu phim']",
         "Cho biết tổng số suất chiếu mỗi ngày của từng rạp chiếu phim .",
         "['Cho', 'biết', 'tổng', 'số', 'suất', 'chiếu', 'mỗi', 'ngày', 'của', 'từng', 'rạp', 'chiếu', 'phim', '.']",
         "{'except': None, 'from': {'conds': [[False, 2, [0, [0, 13, False], None], [0, 8, False], None]], 'table_units': [['table_unit', 2], ['table_unit', 1]]}, 'groupBy': [[0, 13, False]], 'where': [], 'limit': None, 'union': None, 'intersect': None, 'having': [], 'select': [False, [[0, [0, [0, 9, False], None]], [4, [0, [0, 16, False], None]]]], 'orderBy': []}"
        ],
        [
         "38",
         "cinema",
         "select t2.tiêu đề , max ( t1.giá ) from lịch chiếu phim as t1 join phim as t2 on t1.id phim = t2.id phim group by t1.id phim",
         "['select', 't2.tiêu đề', ',', 'max', '(', 't1.giá', ')', 'from', 'lịch chiếu phim', 'as', 't1', 'join', 'phim', 'as', 't2', 'on', 't1.id phim', '=', 't2.id phim', 'group', 'by', 't1.id phim']",
         "['select', 't2', '.', 'tiêu đề', ',', 'max', '(', 't1', '.', 'giá', ')', 'from', 'lịch chiếu phim', 'as', 't1', 'join', 'phim', 'as', 't2', 'on', 't1', '.', 'id phim', '=', 't2', '.', 'id phim', 'group', 'by', 't1', '.', 'id phim']",
         "Cho biết tiêu đề và giá cao nhất của mỗi bộ phim .",
         "['Cho', 'biết', 'tiêu', 'đề', 'và', 'giá', 'cao', 'nhất', 'của', 'mỗi', 'bộ', 'phim', '.']",
         "{'except': None, 'from': {'conds': [[False, 2, [0, [0, 14, False], None], [0, 1, False], None]], 'table_units': [['table_unit', 2], ['table_unit', 0]]}, 'groupBy': [[0, 14, False]], 'where': [], 'limit': None, 'union': None, 'intersect': None, 'having': [], 'select': [False, [[0, [0, [0, 4, False], None]], [1, [0, [0, 17, False], None]]]], 'orderBy': []}"
        ],
        [
         "39",
         "cinema",
         "select t2.tiêu đề , max ( t1.giá ) from lịch chiếu phim as t1 join phim as t2 on t1.id phim = t2.id phim group by t1.id phim",
         "['select', 't2.tiêu đề', ',', 'max', '(', 't1.giá', ')', 'from', 'lịch chiếu phim', 'as', 't1', 'join', 'phim', 'as', 't2', 'on', 't1.id phim', '=', 't2.id phim', 'group', 'by', 't1.id phim']",
         "['select', 't2', '.', 'tiêu đề', ',', 'max', '(', 't1', '.', 'giá', ')', 'from', 'lịch chiếu phim', 'as', 't1', 'join', 'phim', 'as', 't2', 'on', 't1', '.', 'id phim', '=', 't2', '.', 'id phim', 'group', 'by', 't1', '.', 'id phim']",
         "Tiêu đề và giá cao nhất của từng bộ phim ?",
         "['Tiêu', 'đề', 'và', 'giá', 'cao', 'nhất', 'của', 'từng', 'bộ', 'phim', '?']",
         "{'except': None, 'from': {'conds': [[False, 2, [0, [0, 14, False], None], [0, 1, False], None]], 'table_units': [['table_unit', 2], ['table_unit', 0]]}, 'groupBy': [[0, 14, False]], 'where': [], 'limit': None, 'union': None, 'intersect': None, 'having': [], 'select': [False, [[0, [0, [0, 4, False], None]], [1, [0, [0, 17, False], None]]]], 'orderBy': []}"
        ],
        [
         "40",
         "cinema",
         "select t3.tên , t2.tiêu đề , t1.ngày , t1.giá from lịch chiếu phim as t1 join phim as t2 on t1.id phim = t2.id phim join rạp chiếu phim as t3 on t1.id rạp chiếu phim = t3.id rạp chiếu phim",
         "['select', 't3.tên', ',', 't2.tiêu đề', ',', 't1.ngày', ',', 't1.giá', 'from', 'lịch chiếu phim', 'as', 't1', 'join', 'phim', 'as', 't2', 'on', 't1.id phim', '=', 't2.id phim', 'join', 'rạp chiếu phim', 'as', 't3', 'on', 't1.id rạp chiếu phim', '=', 't3.id rạp chiếu phim']",
         "['select', 't3', '.', 'tên', ',', 't2', '.', 'tiêu đề', ',', 't1', '.', 'ngày', ',', 't1', '.', 'giá', 'from', 'lịch chiếu phim', 'as', 't1', 'join', 'phim', 'as', 't2', 'on', 't1', '.', 'id phim', '=', 't2', '.', 'id phim', 'join', 'rạp chiếu phim', 'as', 't3', 'on', 't1', '.', 'id rạp chiếu phim', '=', 't3', '.', 'id rạp chiếu phim']",
         "Hiển thị tên rạp chiếu phim , tiêu đề , ngày chiếu và giá của từng bộ phim có trong lịch chiếu .",
         "['Hiển', 'thị', 'tên', 'rạp', 'chiếu', 'phim', ',', 'tiêu', 'đề', ',', 'ngày', 'chiếu', 'và', 'giá', 'của', 'từng', 'bộ', 'phim', 'có', 'trong', 'lịch', 'chiếu', '.']",
         "{'except': None, 'from': {'conds': [[False, 2, [0, [0, 14, False], None], [0, 1, False], None]], 'table_units': [['table_unit', 2], ['table_unit', 0]]}, 'groupBy': [], 'where': [], 'limit': None, 'union': None, 'intersect': None, 'having': [], 'select': [False, [[0, [0, [0, 9, False], None]], [0, [0, [0, 4, False], None]], [0, [0, [0, 15, False], None]], [0, [0, [0, 17, False], None]]]], 'orderBy': []}"
        ],
        [
         "41",
         "cinema",
         "select tiêu đề , được đạo diễn bởi from phim where id phim not in ( select id phim from lịch chiếu phim )",
         "['select', 'tiêu đề', ',', 'được đạo diễn bởi', 'from', 'phim', 'where', 'id phim', 'not', 'in', '(', 'select', 'id phim', 'from', 'lịch chiếu phim', ')']",
         "['select', 'tiêu đề', ',', 'được đạo diễn bởi', 'from', 'phim', 'where', 'id phim', 'not', 'in', '(', 'select', 'id phim', 'from', 'lịch chiếu phim', ')']",
         "Cho biết tiêu đề và đạo diễn của những bộ phim không nằm trong lịch chiếu .",
         "['Cho', 'biết', 'tiêu', 'đề', 'và', 'đạo', 'diễn', 'của', 'những', 'bộ', 'phim', 'không', 'nằm', 'trong', 'lịch', 'chiếu', '.']",
         "{'except': None, 'from': {'conds': [], 'table_units': [['table_unit', 0]]}, 'groupBy': [], 'where': [[True, 8, [0, [0, 1, False], None], {'except': None, 'from': {'conds': [], 'table_units': [['table_unit', 2]]}, 'groupBy': [], 'where': [], 'limit': None, 'union': None, 'intersect': None, 'having': [], 'select': [False, [[0, [0, [0, 14, False], None]]]], 'orderBy': []}, None]], 'limit': None, 'union': None, 'intersect': None, 'having': [], 'select': [False, [[0, [0, [0, 4, False], None]], [0, [0, [0, 5, False], None]]]], 'orderBy': []}"
        ],
        [
         "42",
         "cinema",
         "select t2.được đạo diễn bởi from lịch chiếu phim as t1 join phim as t2 on t1.id phim = t2.id phim group by t2.được đạo diễn bởi order by sum ( t1.số lượng suất chiếu mỗi ngày ) desc limit 1",
         "['select', 't2.được đạo diễn bởi', 'from', 'lịch chiếu phim', 'as', 't1', 'join', 'phim', 'as', 't2', 'on', 't1.id phim', '=', 't2.id phim', 'group', 'by', 't2.được đạo diễn bởi', 'order', 'by', 'sum', '(', 't1.số lượng suất chiếu mỗi ngày', ')', 'desc', 'limit', '1']",
         "['select', 't2', '.', 'được đạo diễn bởi', 'from', 'lịch chiếu phim', 'as', 't1', 'join', 'phim', 'as', 't2', 'on', 't1', '.', 'id phim', '=', 't2', '.', 'id phim', 'group', 'by', 't2', '.', 'được đạo diễn bởi', 'order', 'by', 'sum', '(', 't1', '.', 'số lượng suất chiếu mỗi ngày', ')', 'desc', 'limit', 'value']",
         "Cho biết người đạo diễn có nhiều lần công chiếu nhất .",
         "['Cho', 'biết', 'người', 'đạo', 'diễn', 'có', 'nhiều', 'lần', 'công', 'chiếu', 'nhất', '.']",
         "{'except': None, 'from': {'conds': [[False, 2, [0, [0, 14, False], None], [0, 1, False], None]], 'table_units': [['table_unit', 2], ['table_unit', 0]]}, 'groupBy': [[0, 5, False]], 'where': [], 'limit': 1, 'union': None, 'intersect': None, 'having': [], 'select': [False, [[0, [0, [0, 5, False], None]]]], 'orderBy': ['desc', [[0, [4, 16, False], None]]]}"
        ],
        [
         "43",
         "cinema",
         "select địa điểm from rạp chiếu phim where sức chứa > 300 group by địa điểm having count ( * ) > 1",
         "['select', 'địa điểm', 'from', 'rạp chiếu phim', 'where', 'sức chứa', '>', '300', 'group', 'by', 'địa điểm', 'having', 'count', '(', '*', ')', '>', '1']",
         "['select', 'địa điểm', 'from', 'rạp chiếu phim', 'where', 'sức chứa', '>', 'value', 'group', 'by', 'địa điểm', 'having', 'count', '(', '*', ')', '>', 'value']",
         "Tìm các địa điểm có nhiều hơn một rạp chiếu phim với sức chứa trên 300 .",
         "['Tìm', 'các', 'địa', 'điểm', 'có', 'nhiều', 'hơn', 'một', 'rạp', 'chiếu', 'phim', 'với', 'sức', 'chứa', 'trên', '300', '.']",
         "{'except': None, 'from': {'conds': [], 'table_units': [['table_unit', 1]]}, 'groupBy': [[0, 12, False]], 'where': [[False, 3, [0, [0, 11, False], None], 300.0, None]], 'limit': None, 'union': None, 'intersect': None, 'having': [[False, 3, [0, [3, 0, False], None], 1.0, None]], 'select': [False, [[0, [0, [0, 12, False], None]]]], 'orderBy': []}"
        ],
        [
         "44",
         "cinema",
         "select địa điểm from rạp chiếu phim where sức chứa > 300 group by địa điểm having count ( * ) > 1",
         "['select', 'địa điểm', 'from', 'rạp chiếu phim', 'where', 'sức chứa', '>', '300', 'group', 'by', 'địa điểm', 'having', 'count', '(', '*', ')', '>', '1']",
         "['select', 'địa điểm', 'from', 'rạp chiếu phim', 'where', 'sức chứa', '>', 'value', 'group', 'by', 'địa điểm', 'having', 'count', '(', '*', ')', '>', 'value']",
         "Những địa điểm nào có nhiều hơn một rạp chiếu phim với sức chứa trên 300 ?",
         "['Những', 'địa', 'điểm', 'nào', 'có', 'nhiều', 'hơn', 'một', 'rạp', 'chiếu', 'phim', 'với', 'sức', 'chứa', 'trên', '300', '?']",
         "{'except': None, 'from': {'conds': [], 'table_units': [['table_unit', 1]]}, 'groupBy': [[0, 12, False]], 'where': [[False, 3, [0, [0, 11, False], None], 300.0, None]], 'limit': None, 'union': None, 'intersect': None, 'having': [[False, 3, [0, [3, 0, False], None], 1.0, None]], 'select': [False, [[0, [0, [0, 12, False], None]]]], 'orderBy': []}"
        ],
        [
         "45",
         "cinema",
         "select count ( * ) from phim where tiêu đề like \"%Dummy%\"",
         "['select', 'count', '(', '*', ')', 'from', 'phim', 'where', 'tiêu đề', 'like', '\"%Dummy%\"']",
         "['select', 'count', '(', '*', ')', 'from', 'phim', 'where', 'tiêu đề', 'like', 'value']",
         "Có bao nhiêu bộ phim có từ ' Dummy ' trong tựa đề ?",
         "['Có', 'bao', 'nhiêu', 'bộ', 'phim', 'có', 'từ', \"'\", 'Dummy', \"'\", 'trong', 'tựa', 'đề', '?']",
         "{'except': None, 'from': {'conds': [], 'table_units': [['table_unit', 0]]}, 'groupBy': [], 'where': [[False, 9, [0, [0, 4, False], None], '\"%Dummy%\"', None]], 'limit': None, 'union': None, 'intersect': None, 'having': [], 'select': [False, [[3, [0, [0, 0, False], None]]]], 'orderBy': []}"
        ],
        [
         "46",
         "cinema",
         "select count ( * ) from phim where tiêu đề like \"%Dummy%\"",
         "['select', 'count', '(', '*', ')', 'from', 'phim', 'where', 'tiêu đề', 'like', '\"%Dummy%\"']",
         "['select', 'count', '(', '*', ')', 'from', 'phim', 'where', 'tiêu đề', 'like', 'value']",
         "Đếm số lượng phim có tựa đề chứa từ ' Dummy ' .",
         "['Đếm', 'số', 'lượng', 'phim', 'có', 'tựa', 'đề', 'chứa', 'từ', \"'\", 'Dummy', \"'\", '.']",
         "{'except': None, 'from': {'conds': [], 'table_units': [['table_unit', 0]]}, 'groupBy': [], 'where': [[False, 9, [0, [0, 4, False], None], '\"%Dummy%\"', None]], 'limit': None, 'union': None, 'intersect': None, 'having': [], 'select': [False, [[3, [0, [0, 0, False], None]]]], 'orderBy': []}"
        ],
        [
         "47",
         "college_3",
         "select count ( * ) from khoá học",
         "['select', 'count', '(', '*', ')', 'from', 'khoá học']",
         "['select', 'count', '(', '*', ')', 'from', 'khoá học']",
         "Tổng cộng có bao nhiêu khoá học ?",
         "['Tổng', 'cộng', 'có', 'bao', 'nhiêu', 'khoá', 'học', '?']",
         "{'except': None, 'from': {'conds': [], 'table_units': [['table_unit', 4]]}, 'groupBy': [], 'where': [], 'limit': None, 'union': None, 'intersect': None, 'having': [], 'select': [False, [[3, [0, [0, 0, False], None]]]], 'orderBy': []}"
        ],
        [
         "48",
         "college_3",
         "select count ( * ) from khoá học",
         "['select', 'count', '(', '*', ')', 'from', 'khoá học']",
         "['select', 'count', '(', '*', ')', 'from', 'khoá học']",
         "Đếm số lượng các khoá học .",
         "['Đếm', 'số', 'lượng', 'các', 'khoá', 'học', '.']",
         "{'except': None, 'from': {'conds': [], 'table_units': [['table_unit', 4]]}, 'groupBy': [], 'where': [], 'limit': None, 'union': None, 'intersect': None, 'having': [], 'select': [False, [[3, [0, [0, 0, False], None]]]], 'orderBy': []}"
        ],
        [
         "49",
         "college_3",
         "select count ( * ) from khoá học where số lượng tín chỉ > 2",
         "['select', 'count', '(', '*', ')', 'from', 'khoá học', 'where', 'số lượng tín chỉ', '>', '2']",
         "['select', 'count', '(', '*', ')', 'from', 'khoá học', 'where', 'số lượng tín chỉ', '>', 'value']",
         "Có bao nhiêu khoá học cung cấp nhiều hơn 2 tín chỉ ?",
         "['Có', 'bao', 'nhiêu', 'khoá', 'học', 'cung', 'cấp', 'nhiều', 'hơn', '2', 'tín', 'chỉ', '?']",
         "{'except': None, 'from': {'conds': [], 'table_units': [['table_unit', 4]]}, 'groupBy': [], 'where': [[False, 3, [0, [0, 28, False], None], 2.0, None]], 'limit': None, 'union': None, 'intersect': None, 'having': [], 'select': [False, [[3, [0, [0, 0, False], None]]]], 'orderBy': []}"
        ]
       ],
       "shape": {
        "columns": 7,
        "rows": 19386
       }
      },
      "text/html": [
       "<div>\n",
       "<style scoped>\n",
       "    .dataframe tbody tr th:only-of-type {\n",
       "        vertical-align: middle;\n",
       "    }\n",
       "\n",
       "    .dataframe tbody tr th {\n",
       "        vertical-align: top;\n",
       "    }\n",
       "\n",
       "    .dataframe thead th {\n",
       "        text-align: right;\n",
       "    }\n",
       "</style>\n",
       "<table border=\"1\" class=\"dataframe\">\n",
       "  <thead>\n",
       "    <tr style=\"text-align: right;\">\n",
       "      <th></th>\n",
       "      <th>db_id</th>\n",
       "      <th>query</th>\n",
       "      <th>query_toks</th>\n",
       "      <th>query_toks_no_value</th>\n",
       "      <th>question</th>\n",
       "      <th>question_toks</th>\n",
       "      <th>sql</th>\n",
       "    </tr>\n",
       "  </thead>\n",
       "  <tbody>\n",
       "    <tr>\n",
       "      <th>0</th>\n",
       "      <td>architecture</td>\n",
       "      <td>select count ( * ) from kiến trúc sư where giớ...</td>\n",
       "      <td>[select, count, (, *, ), from, kiến trúc sư, w...</td>\n",
       "      <td>[select, count, (, *, ), from, kiến trúc sư, w...</td>\n",
       "      <td>Có tất cả bao nhiêu kiến trúc sư nữ ?</td>\n",
       "      <td>[Có, tất, cả, bao, nhiêu, kiến, trúc, sư, nữ, ?]</td>\n",
       "      <td>{'except': None, 'from': {'conds': [], 'table_...</td>\n",
       "    </tr>\n",
       "    <tr>\n",
       "      <th>1</th>\n",
       "      <td>architecture</td>\n",
       "      <td>select tên , quốc tịch , id from kiến trúc sư ...</td>\n",
       "      <td>[select, tên, ,, quốc tịch, ,, id, from, kiến ...</td>\n",
       "      <td>[select, tên, ,, quốc tịch, ,, id, from, kiến ...</td>\n",
       "      <td>Liệt kê tên , quốc tịch và id của tất cả các k...</td>\n",
       "      <td>[Liệt, kê, tên, ,, quốc, tịch, và, id, của, tấ...</td>\n",
       "      <td>{'except': None, 'from': {'conds': [], 'table_...</td>\n",
       "    </tr>\n",
       "    <tr>\n",
       "      <th>2</th>\n",
       "      <td>architecture</td>\n",
       "      <td>select max ( t1.chiều dài theo mét ) , t2.tên ...</td>\n",
       "      <td>[select, max, (, t1.chiều dài theo mét, ), ,, ...</td>\n",
       "      <td>[select, max, (, t1, ., chiều dài theo mét, ),...</td>\n",
       "      <td>Cho biết tên của người kiến trúc sư đã tạo ra ...</td>\n",
       "      <td>[Cho, biết, tên, của, người, kiến, trúc, sư, đ...</td>\n",
       "      <td>{'except': None, 'from': {'conds': [[False, 2,...</td>\n",
       "    </tr>\n",
       "    <tr>\n",
       "      <th>3</th>\n",
       "      <td>architecture</td>\n",
       "      <td>select avg ( chiều dài theo feet ) from cầu</td>\n",
       "      <td>[select, avg, (, chiều dài theo feet, ), from,...</td>\n",
       "      <td>[select, avg, (, chiều dài theo feet, ), from,...</td>\n",
       "      <td>Cho biết chiều dài trung bình tính theo feet c...</td>\n",
       "      <td>[Cho, biết, chiều, dài, trung, bình, tính, the...</td>\n",
       "      <td>{'except': None, 'from': {'conds': [], 'table_...</td>\n",
       "    </tr>\n",
       "    <tr>\n",
       "      <th>4</th>\n",
       "      <td>architecture</td>\n",
       "      <td>select tên , năm xây dựng from nhà máy where l...</td>\n",
       "      <td>[select, tên, ,, năm xây dựng, from, nhà máy, ...</td>\n",
       "      <td>[select, tên, ,, năm xây dựng, from, nhà máy, ...</td>\n",
       "      <td>Cho biết tên và năm xây dựng của các nhà máy t...</td>\n",
       "      <td>[Cho, biết, tên, và, năm, xây, dựng, của, các,...</td>\n",
       "      <td>{'except': None, 'from': {'conds': [], 'table_...</td>\n",
       "    </tr>\n",
       "    <tr>\n",
       "      <th>...</th>\n",
       "      <td>...</td>\n",
       "      <td>...</td>\n",
       "      <td>...</td>\n",
       "      <td>...</td>\n",
       "      <td>...</td>\n",
       "      <td>...</td>\n",
       "      <td>...</td>\n",
       "    </tr>\n",
       "    <tr>\n",
       "      <th>19381</th>\n",
       "      <td>wrestler</td>\n",
       "      <td>select đội from lần bị loại where bị loại bởi ...</td>\n",
       "      <td>[select, đội, from, lần bị loại, where, bị loạ...</td>\n",
       "      <td>[select, đội, from, lần bị loại, where, bị loạ...</td>\n",
       "      <td>Những đội có các đô_vật bị loại bởi ' Orton ' ...</td>\n",
       "      <td>[Những, đội, có, các, đô_vật, bị, loại, bởi, '...</td>\n",
       "      <td>{'except': None, 'from': {'conds': [], 'table_...</td>\n",
       "    </tr>\n",
       "    <tr>\n",
       "      <th>19382</th>\n",
       "      <td>wrestler</td>\n",
       "      <td>select count ( distinct đội ) from lần bị loại</td>\n",
       "      <td>[select, count, (, distinct, đội, ), from, lần...</td>\n",
       "      <td>[select, count, (, distinct, đội, ), from, lần...</td>\n",
       "      <td>Những đô_vật đã bị loại đại_diện cho tất_cả ba...</td>\n",
       "      <td>[Những, đô_vật, đã, bị, loại, đại_diện, cho, t...</td>\n",
       "      <td>{'except': None, 'from': {'conds': [], 'table_...</td>\n",
       "    </tr>\n",
       "    <tr>\n",
       "      <th>19383</th>\n",
       "      <td>wrestler</td>\n",
       "      <td>select count ( distinct đội ) from lần bị loại</td>\n",
       "      <td>[select, count, (, distinct, đội, ), from, lần...</td>\n",
       "      <td>[select, count, (, distinct, đội, ), from, lần...</td>\n",
       "      <td>Có bao_nhiêu đội khác nhau có thành_viên là cá...</td>\n",
       "      <td>[Có, bao_nhiêu, đội, khác, nhau, có, thành_viê...</td>\n",
       "      <td>{'except': None, 'from': {'conds': [], 'table_...</td>\n",
       "    </tr>\n",
       "    <tr>\n",
       "      <th>19384</th>\n",
       "      <td>wrestler</td>\n",
       "      <td>select thời_gian from lần bị loại where bị loạ...</td>\n",
       "      <td>[select, thời_gian, from, lần bị loại, where, ...</td>\n",
       "      <td>[select, thời_gian, from, lần bị loại, where, ...</td>\n",
       "      <td>Những đô_vật đã bị loại bởi ' Punk ' hoặc ' Or...</td>\n",
       "      <td>[Những, đô_vật, đã, bị, loại, bởi, ', Punk, ',...</td>\n",
       "      <td>{'except': None, 'from': {'conds': [], 'table_...</td>\n",
       "    </tr>\n",
       "    <tr>\n",
       "      <th>19385</th>\n",
       "      <td>wrestler</td>\n",
       "      <td>select thời_gian from lần bị loại where bị loạ...</td>\n",
       "      <td>[select, thời_gian, from, lần bị loại, where, ...</td>\n",
       "      <td>[select, thời_gian, from, lần bị loại, where, ...</td>\n",
       "      <td>Cho biết thời_gian bị loại của các đô_vật bị l...</td>\n",
       "      <td>[Cho, biết, thời_điểm, bị, loại, của, các, đô_...</td>\n",
       "      <td>{'except': None, 'from': {'conds': [], 'table_...</td>\n",
       "    </tr>\n",
       "  </tbody>\n",
       "</table>\n",
       "<p>19386 rows × 7 columns</p>\n",
       "</div>"
      ],
      "text/plain": [
       "              db_id                                              query  \\\n",
       "0      architecture  select count ( * ) from kiến trúc sư where giớ...   \n",
       "1      architecture  select tên , quốc tịch , id from kiến trúc sư ...   \n",
       "2      architecture  select max ( t1.chiều dài theo mét ) , t2.tên ...   \n",
       "3      architecture        select avg ( chiều dài theo feet ) from cầu   \n",
       "4      architecture  select tên , năm xây dựng from nhà máy where l...   \n",
       "...             ...                                                ...   \n",
       "19381      wrestler  select đội from lần bị loại where bị loại bởi ...   \n",
       "19382      wrestler     select count ( distinct đội ) from lần bị loại   \n",
       "19383      wrestler     select count ( distinct đội ) from lần bị loại   \n",
       "19384      wrestler  select thời_gian from lần bị loại where bị loạ...   \n",
       "19385      wrestler  select thời_gian from lần bị loại where bị loạ...   \n",
       "\n",
       "                                              query_toks  \\\n",
       "0      [select, count, (, *, ), from, kiến trúc sư, w...   \n",
       "1      [select, tên, ,, quốc tịch, ,, id, from, kiến ...   \n",
       "2      [select, max, (, t1.chiều dài theo mét, ), ,, ...   \n",
       "3      [select, avg, (, chiều dài theo feet, ), from,...   \n",
       "4      [select, tên, ,, năm xây dựng, from, nhà máy, ...   \n",
       "...                                                  ...   \n",
       "19381  [select, đội, from, lần bị loại, where, bị loạ...   \n",
       "19382  [select, count, (, distinct, đội, ), from, lần...   \n",
       "19383  [select, count, (, distinct, đội, ), from, lần...   \n",
       "19384  [select, thời_gian, from, lần bị loại, where, ...   \n",
       "19385  [select, thời_gian, from, lần bị loại, where, ...   \n",
       "\n",
       "                                     query_toks_no_value  \\\n",
       "0      [select, count, (, *, ), from, kiến trúc sư, w...   \n",
       "1      [select, tên, ,, quốc tịch, ,, id, from, kiến ...   \n",
       "2      [select, max, (, t1, ., chiều dài theo mét, ),...   \n",
       "3      [select, avg, (, chiều dài theo feet, ), from,...   \n",
       "4      [select, tên, ,, năm xây dựng, from, nhà máy, ...   \n",
       "...                                                  ...   \n",
       "19381  [select, đội, from, lần bị loại, where, bị loạ...   \n",
       "19382  [select, count, (, distinct, đội, ), from, lần...   \n",
       "19383  [select, count, (, distinct, đội, ), from, lần...   \n",
       "19384  [select, thời_gian, from, lần bị loại, where, ...   \n",
       "19385  [select, thời_gian, from, lần bị loại, where, ...   \n",
       "\n",
       "                                                question  \\\n",
       "0                  Có tất cả bao nhiêu kiến trúc sư nữ ?   \n",
       "1      Liệt kê tên , quốc tịch và id của tất cả các k...   \n",
       "2      Cho biết tên của người kiến trúc sư đã tạo ra ...   \n",
       "3      Cho biết chiều dài trung bình tính theo feet c...   \n",
       "4      Cho biết tên và năm xây dựng của các nhà máy t...   \n",
       "...                                                  ...   \n",
       "19381  Những đội có các đô_vật bị loại bởi ' Orton ' ...   \n",
       "19382  Những đô_vật đã bị loại đại_diện cho tất_cả ba...   \n",
       "19383  Có bao_nhiêu đội khác nhau có thành_viên là cá...   \n",
       "19384  Những đô_vật đã bị loại bởi ' Punk ' hoặc ' Or...   \n",
       "19385  Cho biết thời_gian bị loại của các đô_vật bị l...   \n",
       "\n",
       "                                           question_toks  \\\n",
       "0       [Có, tất, cả, bao, nhiêu, kiến, trúc, sư, nữ, ?]   \n",
       "1      [Liệt, kê, tên, ,, quốc, tịch, và, id, của, tấ...   \n",
       "2      [Cho, biết, tên, của, người, kiến, trúc, sư, đ...   \n",
       "3      [Cho, biết, chiều, dài, trung, bình, tính, the...   \n",
       "4      [Cho, biết, tên, và, năm, xây, dựng, của, các,...   \n",
       "...                                                  ...   \n",
       "19381  [Những, đội, có, các, đô_vật, bị, loại, bởi, '...   \n",
       "19382  [Những, đô_vật, đã, bị, loại, đại_diện, cho, t...   \n",
       "19383  [Có, bao_nhiêu, đội, khác, nhau, có, thành_viê...   \n",
       "19384  [Những, đô_vật, đã, bị, loại, bởi, ', Punk, ',...   \n",
       "19385  [Cho, biết, thời_điểm, bị, loại, của, các, đô_...   \n",
       "\n",
       "                                                     sql  \n",
       "0      {'except': None, 'from': {'conds': [], 'table_...  \n",
       "1      {'except': None, 'from': {'conds': [], 'table_...  \n",
       "2      {'except': None, 'from': {'conds': [[False, 2,...  \n",
       "3      {'except': None, 'from': {'conds': [], 'table_...  \n",
       "4      {'except': None, 'from': {'conds': [], 'table_...  \n",
       "...                                                  ...  \n",
       "19381  {'except': None, 'from': {'conds': [], 'table_...  \n",
       "19382  {'except': None, 'from': {'conds': [], 'table_...  \n",
       "19383  {'except': None, 'from': {'conds': [], 'table_...  \n",
       "19384  {'except': None, 'from': {'conds': [], 'table_...  \n",
       "19385  {'except': None, 'from': {'conds': [], 'table_...  \n",
       "\n",
       "[19386 rows x 7 columns]"
      ]
     },
     "execution_count": 14,
     "metadata": {},
     "output_type": "execute_result"
    }
   ],
   "source": [
    "DF1.drop(DF1.columns[0], axis=1, inplace=True)\n",
    "DF1\n"
   ]
  },
  {
   "cell_type": "code",
   "execution_count": 15,
   "metadata": {},
   "outputs": [
    {
     "data": {
      "application/vnd.microsoft.datawrangler.viewer.v0+json": {
       "columns": [
        {
         "name": "index",
         "rawType": "int64",
         "type": "integer"
        },
        {
         "name": "db_id",
         "rawType": "object",
         "type": "string"
        },
        {
         "name": "query",
         "rawType": "object",
         "type": "string"
        },
        {
         "name": "query_toks",
         "rawType": "object",
         "type": "string"
        },
        {
         "name": "query_toks_no_value",
         "rawType": "object",
         "type": "string"
        },
        {
         "name": "question",
         "rawType": "object",
         "type": "string"
        },
        {
         "name": "question_toks",
         "rawType": "object",
         "type": "string"
        },
        {
         "name": "sql",
         "rawType": "object",
         "type": "string"
        }
       ],
       "ref": "b171aa13-63ae-40b8-bfcb-a135ff4c4413",
       "rows": [],
       "shape": {
        "columns": 7,
        "rows": 0
       }
      },
      "text/html": [
       "<div>\n",
       "<style scoped>\n",
       "    .dataframe tbody tr th:only-of-type {\n",
       "        vertical-align: middle;\n",
       "    }\n",
       "\n",
       "    .dataframe tbody tr th {\n",
       "        vertical-align: top;\n",
       "    }\n",
       "\n",
       "    .dataframe thead th {\n",
       "        text-align: right;\n",
       "    }\n",
       "</style>\n",
       "<table border=\"1\" class=\"dataframe\">\n",
       "  <thead>\n",
       "    <tr style=\"text-align: right;\">\n",
       "      <th></th>\n",
       "      <th>db_id</th>\n",
       "      <th>query</th>\n",
       "      <th>query_toks</th>\n",
       "      <th>query_toks_no_value</th>\n",
       "      <th>question</th>\n",
       "      <th>question_toks</th>\n",
       "      <th>sql</th>\n",
       "    </tr>\n",
       "  </thead>\n",
       "  <tbody>\n",
       "  </tbody>\n",
       "</table>\n",
       "</div>"
      ],
      "text/plain": [
       "Empty DataFrame\n",
       "Columns: [db_id, query, query_toks, query_toks_no_value, question, question_toks, sql]\n",
       "Index: []"
      ]
     },
     "execution_count": 15,
     "metadata": {},
     "output_type": "execute_result"
    }
   ],
   "source": [
    "DF1[DF1['db_id'].isnull()]"
   ]
  },
  {
   "cell_type": "code",
   "execution_count": 16,
   "metadata": {},
   "outputs": [
    {
     "data": {
      "application/vnd.microsoft.datawrangler.viewer.v0+json": {
       "columns": [
        {
         "name": "index",
         "rawType": "int64",
         "type": "integer"
        },
        {
         "name": "db_id",
         "rawType": "object",
         "type": "string"
        },
        {
         "name": "query",
         "rawType": "object",
         "type": "string"
        },
        {
         "name": "query_toks",
         "rawType": "object",
         "type": "string"
        },
        {
         "name": "query_toks_no_value",
         "rawType": "object",
         "type": "string"
        },
        {
         "name": "question",
         "rawType": "object",
         "type": "string"
        },
        {
         "name": "question_toks",
         "rawType": "object",
         "type": "string"
        },
        {
         "name": "sql",
         "rawType": "object",
         "type": "string"
        }
       ],
       "ref": "b05aa3c8-66c4-4ba1-87a9-434780f44652",
       "rows": [],
       "shape": {
        "columns": 7,
        "rows": 0
       }
      },
      "text/html": [
       "<div>\n",
       "<style scoped>\n",
       "    .dataframe tbody tr th:only-of-type {\n",
       "        vertical-align: middle;\n",
       "    }\n",
       "\n",
       "    .dataframe tbody tr th {\n",
       "        vertical-align: top;\n",
       "    }\n",
       "\n",
       "    .dataframe thead th {\n",
       "        text-align: right;\n",
       "    }\n",
       "</style>\n",
       "<table border=\"1\" class=\"dataframe\">\n",
       "  <thead>\n",
       "    <tr style=\"text-align: right;\">\n",
       "      <th></th>\n",
       "      <th>db_id</th>\n",
       "      <th>query</th>\n",
       "      <th>query_toks</th>\n",
       "      <th>query_toks_no_value</th>\n",
       "      <th>question</th>\n",
       "      <th>question_toks</th>\n",
       "      <th>sql</th>\n",
       "    </tr>\n",
       "  </thead>\n",
       "  <tbody>\n",
       "  </tbody>\n",
       "</table>\n",
       "</div>"
      ],
      "text/plain": [
       "Empty DataFrame\n",
       "Columns: [db_id, query, query_toks, query_toks_no_value, question, question_toks, sql]\n",
       "Index: []"
      ]
     },
     "execution_count": 16,
     "metadata": {},
     "output_type": "execute_result"
    }
   ],
   "source": [
    "DF1[DF1['query'].isnull()]\n"
   ]
  },
  {
   "cell_type": "code",
   "execution_count": 17,
   "metadata": {},
   "outputs": [
    {
     "data": {
      "application/vnd.microsoft.datawrangler.viewer.v0+json": {
       "columns": [
        {
         "name": "index",
         "rawType": "int64",
         "type": "integer"
        },
        {
         "name": "db_id",
         "rawType": "object",
         "type": "string"
        },
        {
         "name": "query",
         "rawType": "object",
         "type": "string"
        },
        {
         "name": "query_toks",
         "rawType": "object",
         "type": "string"
        },
        {
         "name": "query_toks_no_value",
         "rawType": "object",
         "type": "string"
        },
        {
         "name": "question",
         "rawType": "object",
         "type": "string"
        },
        {
         "name": "question_toks",
         "rawType": "object",
         "type": "string"
        },
        {
         "name": "sql",
         "rawType": "object",
         "type": "string"
        }
       ],
       "ref": "f93986c9-c7e4-4f5e-adb6-bfd2a88ff5f8",
       "rows": [],
       "shape": {
        "columns": 7,
        "rows": 0
       }
      },
      "text/html": [
       "<div>\n",
       "<style scoped>\n",
       "    .dataframe tbody tr th:only-of-type {\n",
       "        vertical-align: middle;\n",
       "    }\n",
       "\n",
       "    .dataframe tbody tr th {\n",
       "        vertical-align: top;\n",
       "    }\n",
       "\n",
       "    .dataframe thead th {\n",
       "        text-align: right;\n",
       "    }\n",
       "</style>\n",
       "<table border=\"1\" class=\"dataframe\">\n",
       "  <thead>\n",
       "    <tr style=\"text-align: right;\">\n",
       "      <th></th>\n",
       "      <th>db_id</th>\n",
       "      <th>query</th>\n",
       "      <th>query_toks</th>\n",
       "      <th>query_toks_no_value</th>\n",
       "      <th>question</th>\n",
       "      <th>question_toks</th>\n",
       "      <th>sql</th>\n",
       "    </tr>\n",
       "  </thead>\n",
       "  <tbody>\n",
       "  </tbody>\n",
       "</table>\n",
       "</div>"
      ],
      "text/plain": [
       "Empty DataFrame\n",
       "Columns: [db_id, query, query_toks, query_toks_no_value, question, question_toks, sql]\n",
       "Index: []"
      ]
     },
     "execution_count": 17,
     "metadata": {},
     "output_type": "execute_result"
    }
   ],
   "source": [
    "DF1[DF1['query_toks'].isnull()]\n"
   ]
  },
  {
   "cell_type": "code",
   "execution_count": 18,
   "metadata": {},
   "outputs": [
    {
     "data": {
      "application/vnd.microsoft.datawrangler.viewer.v0+json": {
       "columns": [
        {
         "name": "index",
         "rawType": "int64",
         "type": "integer"
        },
        {
         "name": "db_id",
         "rawType": "object",
         "type": "string"
        },
        {
         "name": "query",
         "rawType": "object",
         "type": "string"
        },
        {
         "name": "query_toks",
         "rawType": "object",
         "type": "string"
        },
        {
         "name": "query_toks_no_value",
         "rawType": "object",
         "type": "string"
        },
        {
         "name": "question",
         "rawType": "object",
         "type": "string"
        },
        {
         "name": "question_toks",
         "rawType": "object",
         "type": "string"
        },
        {
         "name": "sql",
         "rawType": "object",
         "type": "string"
        }
       ],
       "ref": "07f26adb-cad6-488a-a8eb-ff0b6411cbeb",
       "rows": [],
       "shape": {
        "columns": 7,
        "rows": 0
       }
      },
      "text/html": [
       "<div>\n",
       "<style scoped>\n",
       "    .dataframe tbody tr th:only-of-type {\n",
       "        vertical-align: middle;\n",
       "    }\n",
       "\n",
       "    .dataframe tbody tr th {\n",
       "        vertical-align: top;\n",
       "    }\n",
       "\n",
       "    .dataframe thead th {\n",
       "        text-align: right;\n",
       "    }\n",
       "</style>\n",
       "<table border=\"1\" class=\"dataframe\">\n",
       "  <thead>\n",
       "    <tr style=\"text-align: right;\">\n",
       "      <th></th>\n",
       "      <th>db_id</th>\n",
       "      <th>query</th>\n",
       "      <th>query_toks</th>\n",
       "      <th>query_toks_no_value</th>\n",
       "      <th>question</th>\n",
       "      <th>question_toks</th>\n",
       "      <th>sql</th>\n",
       "    </tr>\n",
       "  </thead>\n",
       "  <tbody>\n",
       "  </tbody>\n",
       "</table>\n",
       "</div>"
      ],
      "text/plain": [
       "Empty DataFrame\n",
       "Columns: [db_id, query, query_toks, query_toks_no_value, question, question_toks, sql]\n",
       "Index: []"
      ]
     },
     "execution_count": 18,
     "metadata": {},
     "output_type": "execute_result"
    }
   ],
   "source": [
    "DF1[DF1['query_toks_no_value'].isnull()]\n"
   ]
  },
  {
   "cell_type": "code",
   "execution_count": 19,
   "metadata": {},
   "outputs": [
    {
     "data": {
      "application/vnd.microsoft.datawrangler.viewer.v0+json": {
       "columns": [
        {
         "name": "index",
         "rawType": "int64",
         "type": "integer"
        },
        {
         "name": "db_id",
         "rawType": "object",
         "type": "string"
        },
        {
         "name": "query",
         "rawType": "object",
         "type": "string"
        },
        {
         "name": "query_toks",
         "rawType": "object",
         "type": "string"
        },
        {
         "name": "query_toks_no_value",
         "rawType": "object",
         "type": "string"
        },
        {
         "name": "question",
         "rawType": "object",
         "type": "string"
        },
        {
         "name": "question_toks",
         "rawType": "object",
         "type": "string"
        },
        {
         "name": "sql",
         "rawType": "object",
         "type": "string"
        }
       ],
       "ref": "e5bacf8b-8610-4b5c-9fe3-62103af95c4b",
       "rows": [],
       "shape": {
        "columns": 7,
        "rows": 0
       }
      },
      "text/html": [
       "<div>\n",
       "<style scoped>\n",
       "    .dataframe tbody tr th:only-of-type {\n",
       "        vertical-align: middle;\n",
       "    }\n",
       "\n",
       "    .dataframe tbody tr th {\n",
       "        vertical-align: top;\n",
       "    }\n",
       "\n",
       "    .dataframe thead th {\n",
       "        text-align: right;\n",
       "    }\n",
       "</style>\n",
       "<table border=\"1\" class=\"dataframe\">\n",
       "  <thead>\n",
       "    <tr style=\"text-align: right;\">\n",
       "      <th></th>\n",
       "      <th>db_id</th>\n",
       "      <th>query</th>\n",
       "      <th>query_toks</th>\n",
       "      <th>query_toks_no_value</th>\n",
       "      <th>question</th>\n",
       "      <th>question_toks</th>\n",
       "      <th>sql</th>\n",
       "    </tr>\n",
       "  </thead>\n",
       "  <tbody>\n",
       "  </tbody>\n",
       "</table>\n",
       "</div>"
      ],
      "text/plain": [
       "Empty DataFrame\n",
       "Columns: [db_id, query, query_toks, query_toks_no_value, question, question_toks, sql]\n",
       "Index: []"
      ]
     },
     "execution_count": 19,
     "metadata": {},
     "output_type": "execute_result"
    }
   ],
   "source": [
    "DF1[DF1['question'].isnull()]\n"
   ]
  },
  {
   "cell_type": "code",
   "execution_count": 20,
   "metadata": {},
   "outputs": [
    {
     "data": {
      "application/vnd.microsoft.datawrangler.viewer.v0+json": {
       "columns": [
        {
         "name": "index",
         "rawType": "int64",
         "type": "integer"
        },
        {
         "name": "db_id",
         "rawType": "object",
         "type": "string"
        },
        {
         "name": "query",
         "rawType": "object",
         "type": "string"
        },
        {
         "name": "query_toks",
         "rawType": "object",
         "type": "string"
        },
        {
         "name": "query_toks_no_value",
         "rawType": "object",
         "type": "string"
        },
        {
         "name": "question",
         "rawType": "object",
         "type": "string"
        },
        {
         "name": "question_toks",
         "rawType": "object",
         "type": "string"
        },
        {
         "name": "sql",
         "rawType": "object",
         "type": "string"
        }
       ],
       "ref": "2bf0f1a1-d5d2-4b68-b42e-d9af5b36340c",
       "rows": [],
       "shape": {
        "columns": 7,
        "rows": 0
       }
      },
      "text/html": [
       "<div>\n",
       "<style scoped>\n",
       "    .dataframe tbody tr th:only-of-type {\n",
       "        vertical-align: middle;\n",
       "    }\n",
       "\n",
       "    .dataframe tbody tr th {\n",
       "        vertical-align: top;\n",
       "    }\n",
       "\n",
       "    .dataframe thead th {\n",
       "        text-align: right;\n",
       "    }\n",
       "</style>\n",
       "<table border=\"1\" class=\"dataframe\">\n",
       "  <thead>\n",
       "    <tr style=\"text-align: right;\">\n",
       "      <th></th>\n",
       "      <th>db_id</th>\n",
       "      <th>query</th>\n",
       "      <th>query_toks</th>\n",
       "      <th>query_toks_no_value</th>\n",
       "      <th>question</th>\n",
       "      <th>question_toks</th>\n",
       "      <th>sql</th>\n",
       "    </tr>\n",
       "  </thead>\n",
       "  <tbody>\n",
       "  </tbody>\n",
       "</table>\n",
       "</div>"
      ],
      "text/plain": [
       "Empty DataFrame\n",
       "Columns: [db_id, query, query_toks, query_toks_no_value, question, question_toks, sql]\n",
       "Index: []"
      ]
     },
     "execution_count": 20,
     "metadata": {},
     "output_type": "execute_result"
    }
   ],
   "source": [
    "DF1[DF1['question_toks'].isnull()]\n"
   ]
  },
  {
   "cell_type": "code",
   "execution_count": 21,
   "metadata": {},
   "outputs": [
    {
     "data": {
      "application/vnd.microsoft.datawrangler.viewer.v0+json": {
       "columns": [
        {
         "name": "index",
         "rawType": "int64",
         "type": "integer"
        },
        {
         "name": "db_id",
         "rawType": "object",
         "type": "string"
        },
        {
         "name": "query",
         "rawType": "object",
         "type": "string"
        },
        {
         "name": "query_toks",
         "rawType": "object",
         "type": "string"
        },
        {
         "name": "query_toks_no_value",
         "rawType": "object",
         "type": "string"
        },
        {
         "name": "question",
         "rawType": "object",
         "type": "string"
        },
        {
         "name": "question_toks",
         "rawType": "object",
         "type": "string"
        },
        {
         "name": "sql",
         "rawType": "object",
         "type": "string"
        }
       ],
       "ref": "1e3cd1cf-0bf4-45b4-89f9-d63b4c788d62",
       "rows": [],
       "shape": {
        "columns": 7,
        "rows": 0
       }
      },
      "text/html": [
       "<div>\n",
       "<style scoped>\n",
       "    .dataframe tbody tr th:only-of-type {\n",
       "        vertical-align: middle;\n",
       "    }\n",
       "\n",
       "    .dataframe tbody tr th {\n",
       "        vertical-align: top;\n",
       "    }\n",
       "\n",
       "    .dataframe thead th {\n",
       "        text-align: right;\n",
       "    }\n",
       "</style>\n",
       "<table border=\"1\" class=\"dataframe\">\n",
       "  <thead>\n",
       "    <tr style=\"text-align: right;\">\n",
       "      <th></th>\n",
       "      <th>db_id</th>\n",
       "      <th>query</th>\n",
       "      <th>query_toks</th>\n",
       "      <th>query_toks_no_value</th>\n",
       "      <th>question</th>\n",
       "      <th>question_toks</th>\n",
       "      <th>sql</th>\n",
       "    </tr>\n",
       "  </thead>\n",
       "  <tbody>\n",
       "  </tbody>\n",
       "</table>\n",
       "</div>"
      ],
      "text/plain": [
       "Empty DataFrame\n",
       "Columns: [db_id, query, query_toks, query_toks_no_value, question, question_toks, sql]\n",
       "Index: []"
      ]
     },
     "execution_count": 21,
     "metadata": {},
     "output_type": "execute_result"
    }
   ],
   "source": [
    "DF1[DF1['sql'].isnull()]\n"
   ]
  },
  {
   "cell_type": "code",
   "execution_count": 22,
   "metadata": {},
   "outputs": [
    {
     "data": {
      "application/vnd.microsoft.datawrangler.viewer.v0+json": {
       "columns": [
        {
         "name": "index",
         "rawType": "int64",
         "type": "integer"
        },
        {
         "name": "db_id",
         "rawType": "object",
         "type": "string"
        },
        {
         "name": "query",
         "rawType": "object",
         "type": "string"
        },
        {
         "name": "query_toks",
         "rawType": "object",
         "type": "unknown"
        },
        {
         "name": "query_toks_no_value",
         "rawType": "object",
         "type": "unknown"
        },
        {
         "name": "question",
         "rawType": "object",
         "type": "string"
        },
        {
         "name": "question_toks",
         "rawType": "object",
         "type": "unknown"
        },
        {
         "name": "sql",
         "rawType": "object",
         "type": "unknown"
        }
       ],
       "ref": "a4a0202f-d2b4-4dc3-95cd-f4ce216afbf1",
       "rows": [
        [
         "2891",
         "academic",
         "select t3.tiêu đề from viết as t2 join tác giả as t1 on t2.id tác giả = t1.id tác giả join bài báo as t3 on t2.id bài báo = t3.id bài báo where t1.tên = \"H. V. Jagadish\"",
         "['select', 't3.tiêu đề', 'from', 'viết', 'as', 't2', 'join', 'tác giả', 'as', 't1', 'on', 't2.id tác giả', '=', 't1.id tác giả', 'join', 'bài báo', 'as', 't3', 'on', 't2.id bài báo', '=', 't3.id bài báo', 'where', 't1.tên', '=', '\"H. V. Jagadish\"']",
         "['select', 't3', '.', 'tiêu đề', 'from', 'viết', 'as', 't2', 'join', 'tác giả', 'as', 't1', 'on', 't2', '.', 'id tác giả', '=', 't1', '.', 'id tác giả', 'join', 'bài báo', 'as', 't3', 'on', 't2', '.', 'id bài báo', '=', 't3', '.', 'id bài báo', 'where', 't1', '.', 'tên', '=', 'value']",
         "những bài báo nào đã được viết bởi H. V. Jagadish ?",
         "['những', 'bài', 'báo', 'nào', 'đã', 'được', 'viết', 'bởi', 'H.', 'V.', 'Jagadish', '?']",
         "{'except': None, 'from': {'conds': [[False, 2, [0, [0, 39, False], None], [0, 1, False], None]], 'table_units': [['table_unit', 13], ['table_unit', 0]]}, 'groupBy': [], 'having': [], 'intersect': None, 'limit': None, 'orderBy': [], 'select': [False, [[0, [0, [0, 29, False], None]]]], 'union': None, 'where': [[False, 2, [0, [0, 3, False], None], '\"H. V. Jagadish\"', None]]}"
        ],
        [
         "3039",
         "academic",
         "select t1.tên from bài báo as t4 join hội nghị as t2 on t4.id hội nghị = t2.id hội nghị join viết as t3 on t3.id bài báo = t4.id bài báo join tác giả as t1 on t3.id tác giả = t1.id tác giả where t2.tên = \"VLDB\" group by t1.tên having count ( distinct t4.tiêu đề ) > 10",
         "['select', 't1.tên', 'from', 'bài báo', 'as', 't4', 'join', 'hội nghị', 'as', 't2', 'on', 't4.id hội nghị', '=', 't2.id hội nghị', 'join', 'viết', 'as', 't3', 'on', 't3.id bài báo', '=', 't4.id bài báo', 'join', 'tác giả', 'as', 't1', 'on', 't3.id tác giả', '=', 't1.id tác giả', 'where', 't2.tên', '=', '\"VLDB\"', 'group', 'by', 't1.tên', 'having', 'count', '(', 'distinct', 't4.tiêu đề', ')', '>', '10']",
         "['select', 't1', '.', 'tên', 'from', 'bài báo', 'as', 't4', 'join', 'hội nghị', 'as', 't2', 'on', 't4', '.', 'id hội nghị', '=', 't2', '.', 'id hội nghị', 'join', 'viết', 'as', 't3', 'on', 't3', '.', 'id bài báo', '=', 't4', '.', 'id bài báo', 'join', 'tác giả', 'as', 't1', 'on', 't3', '.', 'id tác giả', '=', 't1', '.', 'id tác giả', 'where', 't2', '.', 'tên', '=', 'value', 'group', 'by', 't1', '.', 'tên', 'having', 'count', '(', 'distinct', 't4', '.', 'tiêu đề', ')', '>', 'value']",
         "liệt kê các tác giả có hơn 10 bài báo được đăng tại hội nghị VLDB .",
         "['liệt', 'kê', 'các', 'tác', 'giả', 'có', 'hơn', '10', 'bài', 'báo', 'được', 'đăng', 'tại', 'hội', 'nghị', 'VLDB', '.']",
         "{'except': None, 'from': {'conds': [[False, 2, [0, [0, 24, False], None], [0, 5, False], None]], 'table_units': [['table_unit', 9], ['table_unit', 1]]}, 'groupBy': [[0, 3, False]], 'having': [[False, 3, [0, [3, 29, True], None], 10.0, None]], 'intersect': None, 'limit': None, 'orderBy': [], 'select': [False, [[0, [0, [0, 3, False], None]]]], 'union': None, 'where': [[False, 2, [0, [0, 7, False], None], '\"VLDB\"', None]]}"
        ],
        [
         "3040",
         "academic",
         "select t1.tên from bài báo as t4 join hội nghị as t2 on t4.id hội nghị = t2.id hội nghị join viết as t3 on t3.id bài báo = t4.id bài báo join tác giả as t1 on t3.id tác giả = t1.id tác giả where t2.tên = \"VLDB\" group by t1.tên order by count ( distinct t4.tiêu đề ) desc limit 1",
         "['select', 't1.tên', 'from', 'bài báo', 'as', 't4', 'join', 'hội nghị', 'as', 't2', 'on', 't4.id hội nghị', '=', 't2.id hội nghị', 'join', 'viết', 'as', 't3', 'on', 't3.id bài báo', '=', 't4.id bài báo', 'join', 'tác giả', 'as', 't1', 'on', 't3.id tác giả', '=', 't1.id tác giả', 'where', 't2.tên', '=', '\"VLDB\"', 'group', 'by', 't1.tên', 'order', 'by', 'count', '(', 'distinct', 't4.tiêu đề', ')', 'desc', 'limit', '1']",
         "['select', 't1', '.', 'tên', 'from', 'bài báo', 'as', 't4', 'join', 'hội nghị', 'as', 't2', 'on', 't4', '.', 'id hội nghị', '=', 't2', '.', 'id hội nghị', 'join', 'viết', 'as', 't3', 'on', 't3', '.', 'id bài báo', '=', 't4', '.', 'id bài báo', 'join', 'tác giả', 'as', 't1', 'on', 't3', '.', 'id tác giả', '=', 't1', '.', 'id tác giả', 'where', 't2', '.', 'tên', '=', 'value', 'group', 'by', 't1', '.', 'tên', 'order', 'by', 'count', '(', 'distinct', 't4', '.', 'tiêu đề', ')', 'desc', 'limit', 'value']",
         "tác giả nào có nhiều bài báo tại hội nghị VLDB nhất ?",
         "['tác', 'giả', 'nào', 'có', 'nhiều', 'bài', 'báo', 'tại', 'hội', 'nghị', 'VLDB', 'nhất', '?']",
         "{'except': None, 'from': {'conds': [[False, 2, [0, [0, 24, False], None], [0, 5, False], None]], 'table_units': [['table_unit', 9], ['table_unit', 1]]}, 'groupBy': [[0, 3, False]], 'having': [], 'intersect': None, 'limit': 1, 'orderBy': ['desc', [[0, [3, 29, True], None]]], 'select': [False, [[0, [0, [0, 3, False], None]]]], 'union': None, 'where': [[False, 2, [0, [0, 7, False], None], '\"VLDB\"', None]]}"
        ],
        [
         "3041",
         "academic",
         "select t1.tên from tổ chức as t2 join tác giả as t1 on t2.id tổ chức = t1.id tổ chức join viết as t3 on t3.id tác giả = t1.id tác giả join bài báo as t4 on t3.id bài báo = t4.id bài báo where t2.tên = \"University of Michigan\" group by t1.tên having sum ( t4.số lượng trích dẫn ) > 5000",
         "['select', 't1.tên', 'from', 'tổ chức', 'as', 't2', 'join', 'tác giả', 'as', 't1', 'on', 't2.id tổ chức', '=', 't1.id tổ chức', 'join', 'viết', 'as', 't3', 'on', 't3.id tác giả', '=', 't1.id tác giả', 'join', 'bài báo', 'as', 't4', 'on', 't3.id bài báo', '=', 't4.id bài báo', 'where', 't2.tên', '=', '\"University of Michigan\"', 'group', 'by', 't1.tên', 'having', 'sum', '(', 't4.số lượng trích dẫn', ')', '>', '5000']",
         "['select', 't1', '.', 'tên', 'from', 'tổ chức', 'as', 't2', 'join', 'tác giả', 'as', 't1', 'on', 't2', '.', 'id tổ chức', '=', 't1', '.', 'id tổ chức', 'join', 'viết', 'as', 't3', 'on', 't3', '.', 'id tác giả', '=', 't1', '.', 'id tác giả', 'join', 'bài báo', 'as', 't4', 'on', 't3', '.', 'id bài báo', '=', 't4', '.', 'id bài báo', 'where', 't2', '.', 'tên', '=', 'value', 'group', 'by', 't1', '.', 'tên', 'having', 'sum', '(', 't4', '.', 'số lượng trích dẫn', ')', '>', 'value']",
         "những tác giả nào thuộc ' Đại học Michigan ' đã xuất bản một số bài báo với nhiều hơn 5000 trích dẫn ?",
         "['những', 'tác', 'giả', 'nào', 'thuộc', \"'\", 'Đại', 'học', 'Michigan', \"'\", 'đã', 'xuất', 'bản', 'một', 'số', 'bài', 'báo', 'với', 'nhiều', 'hơn', '5000', 'trích', 'dẫn', '?']",
         "{'except': None, 'from': {'conds': [[False, 2, [0, [0, 36, False], None], [0, 4, False], None]], 'table_units': [['table_unit', 11], ['table_unit', 0]]}, 'groupBy': [[0, 3, False]], 'having': [[False, 3, [0, [4, 25, False], None], 5000.0, None]], 'intersect': None, 'limit': None, 'orderBy': [], 'select': [False, [[0, [0, [0, 3, False], None]]]], 'union': None, 'where': [[False, 2, [0, [0, 35, False], None], '\"University of Michigan\"', None]]}"
        ],
        [
         "3042",
         "academic",
         "select t1.tên from lĩnh vực của tác giả as t6 join tác giả as t1 on t6.id tác giả = t1.id tác giả join lĩnh vực as t3 on t3.id lĩnh vực = t6.id lĩnh vực join tổ chức as t5 on t5.id tổ chức = t1.id tổ chức join viết as t2 on t2.id tác giả = t1.id tác giả join bài báo as t4 on t2.id bài báo = t4.id bài báo where t3.tên = \"Databases\" and t5.tên = \"University of Michigan\" group by t1.tên having sum ( t4.số lượng trích dẫn ) > 5000",
         "['select', 't1.tên', 'from', 'lĩnh vực của tác giả', 'as', 't6', 'join', 'tác giả', 'as', 't1', 'on', 't6.id tác giả', '=', 't1.id tác giả', 'join', 'lĩnh vực', 'as', 't3', 'on', 't3.id lĩnh vực', '=', 't6.id lĩnh vực', 'join', 'tổ chức', 'as', 't5', 'on', 't5.id tổ chức', '=', 't1.id tổ chức', 'join', 'viết', 'as', 't2', 'on', 't2.id tác giả', '=', 't1.id tác giả', 'join', 'bài báo', 'as', 't4', 'on', 't2.id bài báo', '=', 't4.id bài báo', 'where', 't3.tên', '=', '\"Databases\"', 'and', 't5.tên', '=', '\"University of Michigan\"', 'group', 'by', 't1.tên', 'having', 'sum', '(', 't4.số lượng trích dẫn', ')', '>', '5000']",
         "['select', 't1', '.', 'tên', 'from', 'lĩnh vực của tác giả', 'as', 't6', 'join', 'tác giả', 'as', 't1', 'on', 't6', '.', 'id tác giả', '=', 't1', '.', 'id tác giả', 'join', 'lĩnh vực', 'as', 't3', 'on', 't3', '.', 'id lĩnh vực', '=', 't6', '.', 'id lĩnh vực', 'join', 'tổ chức', 'as', 't5', 'on', 't5', '.', 'id tổ chức', '=', 't1', '.', 'id tổ chức', 'join', 'viết', 'as', 't2', 'on', 't2', '.', 'id tác giả', '=', 't1', '.', 'id tác giả', 'join', 'bài báo', 'as', 't4', 'on', 't2', '.', 'id bài báo', '=', 't4', '.', 'id bài báo', 'where', 't3', '.', 'tên', '=', 'value', 'and', 't5', '.', 'tên', '=', 'value', 'group', 'by', 't1', '.', 'tên', 'having', 'sum', '(', 't4', '.', 'số lượng trích dẫn', ')', '>', 'value']",
         "liệt kê các tác giả thuộc ' Đại học Michigan ' hiện đang nghiên cứu trong lĩnh vực ' Cơ sở dữ liệu ' và có một số bài báo nhận được nhiều hơn 5000 trích dẫn .",
         "['liệt', 'kê', 'các', 'tác', 'giả', 'thuộc', \"'\", 'Đại', 'học', 'Michigan', \"'\", 'hiện', 'đang', 'nghiên', 'cứu', 'trong', 'lĩnh', 'vực', \"'\", 'Cơ', 'sở', 'dữ', 'liệu', \"'\", 'và', 'có', 'một', 'số', 'bài', 'báo', 'nhận', 'được', 'nhiều', 'hơn', '5000', 'trích', 'dẫn', '.']",
         "{'except': None, 'from': {'conds': [[False, 2, [0, [0, 10, False], None], [0, 1, False], None]], 'table_units': [['table_unit', 3], ['table_unit', 0]]}, 'groupBy': [[0, 3, False]], 'having': [[False, 3, [0, [4, 25, False], None], 5000.0, None]], 'intersect': None, 'limit': None, 'orderBy': [], 'select': [False, [[0, [0, [0, 3, False], None]]]], 'union': None, 'where': [[False, 2, [0, [0, 9, False], None], '\"Databases\"', None], 'and', [False, 2, [0, [0, 35, False], None], '\"University of Michigan\"', None]]}"
        ],
        [
         "3005",
         "academic",
         "select count ( distinct t2.tên ) from bài báo as t7 join trích dẫn as t5 on t7.id bài báo = t5.trích dẫn join bài báo as t6 on t6.id bài báo = t5.được trích dẫn join viết as t3 on t3.id bài báo = t7.id bài báo join viết as t4 on t4.id bài báo = t6.id bài báo join tác giả as t2 on t3.id tác giả = t2.id tác giả join tác giả as t1 on t4.id tác giả = t1.id tác giả where t1.tên = \"H. V. Jagadish\"",
         "['select', 'count', '(', 'distinct', 't2.tên', ')', 'from', 'bài báo', 'as', 't7', 'join', 'trích dẫn', 'as', 't5', 'on', 't7.id bài báo', '=', 't5.trích dẫn', 'join', 'bài báo', 'as', 't6', 'on', 't6.id bài báo', '=', 't5.được trích dẫn', 'join', 'viết', 'as', 't3', 'on', 't3.id bài báo', '=', 't7.id bài báo', 'join', 'viết', 'as', 't4', 'on', 't4.id bài báo', '=', 't6.id bài báo', 'join', 'tác giả', 'as', 't2', 'on', 't3.id tác giả', '=', 't2.id tác giả', 'join', 'tác giả', 'as', 't1', 'on', 't4.id tác giả', '=', 't1.id tác giả', 'where', 't1.tên', '=', '\"H. V. Jagadish\"']",
         "['select', 'count', '(', 'distinct', 't2', '.', 'tên', ')', 'from', 'bài báo', 'as', 't7', 'join', 'trích dẫn', 'as', 't5', 'on', 't7', '.', 'id bài báo', '=', 't5', '.', 'trích dẫn', 'join', 'bài báo', 'as', 't6', 'on', 't6', '.', 'id bài báo', '=', 't5', '.', 'được trích dẫn', 'join', 'viết', 'as', 't3', 'on', 't3', '.', 'id bài báo', '=', 't7', '.', 'id bài báo', 'join', 'viết', 'as', 't4', 'on', 't4', '.', 'id bài báo', '=', 't6', '.', 'id bài báo', 'join', 'tác giả', 'as', 't2', 'on', 't3', '.', 'id tác giả', '=', 't2', '.', 'id tác giả', 'join', 'tác giả', 'as', 't1', 'on', 't4', '.', 'id tác giả', '=', 't1', '.', 'id tác giả', 'where', 't1', '.', 'tên', '=', 'value']",
         "số lượng các tác giả đã trích dẫn một số bài báo của ' H . V. Jagadish ' là bao nhiêu ?",
         "['số', 'lượng', 'các', 'tác', 'giả', 'đã', 'trích', 'dẫn', 'một', 'số', 'bài', 'báo', 'của', \"'\", 'H', '.', 'V.', 'Jagadish', \"'\", 'là', 'bao', 'nhiêu', '?']",
         "{'except': None, 'from': {'conds': [[False, 2, [0, [0, 27, False], None], [0, 42, False], None]], 'table_units': [['table_unit', 9], ['table_unit', 14]]}, 'groupBy': [], 'having': [], 'intersect': None, 'limit': None, 'orderBy': [], 'select': [False, [[3, [0, [0, 3, True], None]]]], 'union': None, 'where': [[False, 2, [0, [0, 3, False], None], '\"H. V. Jagadish\"', None]]}"
        ],
        [
         "12735",
         "academic",
         "select t1.tên from lĩnh_vực của tác_giả as t6 join tác_giả as t1 on t6.id tác_giả = t1.id tác_giả join lĩnh_vực as t3 on t3.id lĩnh_vực = t6.id lĩnh_vực join tổ_chức as t5 on t5.id tổ_chức = t1.id tổ_chức join viết as t2 on t2.id tác_giả = t1.id tác_giả join bài báo as t4 on t2.id bài báo = t4.id bài báo where t3.tên = \"Databases\" and t5.tên = \"University of Michigan\" group by t1.tên having sum ( t4.số_lượng trích_dẫn ) > 5000",
         "['select', 't1.tên', 'from', 'lĩnh_vực của tác_giả', 'as', 't6', 'join', 'tác_giả', 'as', 't1', 'on', 't6.id tác_giả', '=', 't1.id tác_giả', 'join', 'lĩnh_vực', 'as', 't3', 'on', 't3.id lĩnh_vực', '=', 't6.id lĩnh_vực', 'join', 'tổ_chức', 'as', 't5', 'on', 't5.id tổ_chức', '=', 't1.id tổ_chức', 'join', 'viết', 'as', 't2', 'on', 't2.id tác_giả', '=', 't1.id tác_giả', 'join', 'bài báo', 'as', 't4', 'on', 't2.id bài báo', '=', 't4.id bài báo', 'where', 't3.tên', '=', '\"Databases\"', 'and', 't5.tên', '=', '\"University of Michigan\"', 'group', 'by', 't1.tên', 'having', 'sum', '(', 't4.số_lượng trích_dẫn', ')', '>', '5000']",
         "['select', 't1', '.', 'tên', 'from', 'lĩnh_vực của tác_giả', 'as', 't6', 'join', 'tác_giả', 'as', 't1', 'on', 't6', '.', 'id tác_giả', '=', 't1', '.', 'id tác_giả', 'join', 'lĩnh_vực', 'as', 't3', 'on', 't3', '.', 'id lĩnh_vực', '=', 't6', '.', 'id lĩnh_vực', 'join', 'tổ_chức', 'as', 't5', 'on', 't5', '.', 'id tổ_chức', '=', 't1', '.', 'id tổ_chức', 'join', 'viết', 'as', 't2', 'on', 't2', '.', 'id tác_giả', '=', 't1', '.', 'id tác_giả', 'join', 'bài báo', 'as', 't4', 'on', 't2', '.', 'id bài báo', '=', 't4', '.', 'id bài báo', 'where', 't3', '.', 'tên', '=', 'value', 'and', 't5', '.', 'tên', '=', 'value', 'group', 'by', 't1', '.', 'tên', 'having', 'sum', '(', 't4', '.', 'số_lượng trích_dẫn', ')', '>', 'value']",
         "liệt_kê các tác_giả thuộc ' Đại_học Michigan ' hiện đang nghiên_cứu trong lĩnh_vực ' Cơ_sở_dữ_liệu ' và có một_số bài báo nhận được nhiều hơn 5000 trích_dẫn .",
         "['liệt_kê', 'các', 'tác_giả', 'thuộc', \"'\", 'Đại_học', 'Michigan', \"'\", 'hiện', 'đang', 'nghiên_cứu', 'trong', 'lĩnh_vực', \"'\", 'Cơ_sở_dữ_liệu', \"'\", 'và', 'có', 'một_số', 'bài', 'báo', 'nhận', 'được', 'nhiều', 'hơn', '5000', 'trích_dẫn', '.']",
         "{'except': None, 'from': {'conds': [[False, 2, [0, [0, 10, False], None], [0, 1, False], None]], 'table_units': [['table_unit', 3], ['table_unit', 0]]}, 'groupBy': [[0, 3, False]], 'having': [[False, 3, [0, [4, 25, False], None], 5000.0, None]], 'intersect': None, 'limit': None, 'orderBy': [], 'select': [False, [[0, [0, [0, 3, False], None]]]], 'union': None, 'where': [[False, 2, [0, [0, 9, False], None], '\"Databases\"', None], 'and', [False, 2, [0, [0, 35, False], None], '\"University of Michigan\"', None]]}"
        ],
        [
         "12734",
         "academic",
         "select t1.tên from tổ_chức as t2 join tác_giả as t1 on t2.id tổ_chức = t1.id tổ_chức join viết as t3 on t3.id tác_giả = t1.id tác_giả join bài báo as t4 on t3.id bài báo = t4.id bài báo where t2.tên = \"University of Michigan\" group by t1.tên having sum ( t4.số_lượng trích_dẫn ) > 5000",
         "['select', 't1.tên', 'from', 'tổ_chức', 'as', 't2', 'join', 'tác_giả', 'as', 't1', 'on', 't2.id tổ_chức', '=', 't1.id tổ_chức', 'join', 'viết', 'as', 't3', 'on', 't3.id tác_giả', '=', 't1.id tác_giả', 'join', 'bài báo', 'as', 't4', 'on', 't3.id bài báo', '=', 't4.id bài báo', 'where', 't2.tên', '=', '\"University of Michigan\"', 'group', 'by', 't1.tên', 'having', 'sum', '(', 't4.số_lượng trích_dẫn', ')', '>', '5000']",
         "['select', 't1', '.', 'tên', 'from', 'tổ_chức', 'as', 't2', 'join', 'tác_giả', 'as', 't1', 'on', 't2', '.', 'id tổ_chức', '=', 't1', '.', 'id tổ_chức', 'join', 'viết', 'as', 't3', 'on', 't3', '.', 'id tác_giả', '=', 't1', '.', 'id tác_giả', 'join', 'bài báo', 'as', 't4', 'on', 't3', '.', 'id bài báo', '=', 't4', '.', 'id bài báo', 'where', 't2', '.', 'tên', '=', 'value', 'group', 'by', 't1', '.', 'tên', 'having', 'sum', '(', 't4', '.', 'số_lượng trích_dẫn', ')', '>', 'value']",
         "những tác_giả nào thuộc ' Đại_học Michigan ' đã xuất_bản một_số bài báo với nhiều hơn 5000 trích_dẫn ?",
         "['những', 'tác_giả', 'nào', 'thuộc', \"'\", 'Đại_học', 'Michigan', \"'\", 'đã', 'xuất_bản', 'một_số', 'bài', 'báo', 'với', 'nhiều', 'hơn', '5000', 'trích_dẫn', '?']",
         "{'except': None, 'from': {'conds': [[False, 2, [0, [0, 36, False], None], [0, 4, False], None]], 'table_units': [['table_unit', 11], ['table_unit', 0]]}, 'groupBy': [[0, 3, False]], 'having': [[False, 3, [0, [4, 25, False], None], 5000.0, None]], 'intersect': None, 'limit': None, 'orderBy': [], 'select': [False, [[0, [0, [0, 3, False], None]]]], 'union': None, 'where': [[False, 2, [0, [0, 35, False], None], '\"University of Michigan\"', None]]}"
        ],
        [
         "12733",
         "academic",
         "select t1.tên from bài báo as t4 join hội_nghị as t2 on t4.id hội_nghị = t2.id hội_nghị join viết as t3 on t3.id bài báo = t4.id bài báo join tác_giả as t1 on t3.id tác_giả = t1.id tác_giả where t2.tên = \"VLDB\" group by t1.tên order by count ( distinct t4.tiêu_đề ) desc limit 1",
         "['select', 't1.tên', 'from', 'bài báo', 'as', 't4', 'join', 'hội_nghị', 'as', 't2', 'on', 't4.id hội_nghị', '=', 't2.id hội_nghị', 'join', 'viết', 'as', 't3', 'on', 't3.id bài báo', '=', 't4.id bài báo', 'join', 'tác_giả', 'as', 't1', 'on', 't3.id tác_giả', '=', 't1.id tác_giả', 'where', 't2.tên', '=', '\"VLDB\"', 'group', 'by', 't1.tên', 'order', 'by', 'count', '(', 'distinct', 't4.tiêu_đề', ')', 'desc', 'limit', '1']",
         "['select', 't1', '.', 'tên', 'from', 'bài báo', 'as', 't4', 'join', 'hội_nghị', 'as', 't2', 'on', 't4', '.', 'id hội_nghị', '=', 't2', '.', 'id hội_nghị', 'join', 'viết', 'as', 't3', 'on', 't3', '.', 'id bài báo', '=', 't4', '.', 'id bài báo', 'join', 'tác_giả', 'as', 't1', 'on', 't3', '.', 'id tác_giả', '=', 't1', '.', 'id tác_giả', 'where', 't2', '.', 'tên', '=', 'value', 'group', 'by', 't1', '.', 'tên', 'order', 'by', 'count', '(', 'distinct', 't4', '.', 'tiêu_đề', ')', 'desc', 'limit', 'value']",
         "tác_giả nào có nhiều bài báo tại hội_nghị VLDB nhất ?",
         "['tác_giả', 'nào', 'có', 'nhiều', 'bài', 'báo', 'tại', 'hội_nghị', 'VLDB', 'nhất', '?']",
         "{'except': None, 'from': {'conds': [[False, 2, [0, [0, 24, False], None], [0, 5, False], None]], 'table_units': [['table_unit', 9], ['table_unit', 1]]}, 'groupBy': [[0, 3, False]], 'having': [], 'intersect': None, 'limit': 1, 'orderBy': ['desc', [[0, [3, 29, True], None]]], 'select': [False, [[0, [0, [0, 3, False], None]]]], 'union': None, 'where': [[False, 2, [0, [0, 7, False], None], '\"VLDB\"', None]]}"
        ],
        [
         "12732",
         "academic",
         "select t1.tên from bài báo as t4 join hội_nghị as t2 on t4.id hội_nghị = t2.id hội_nghị join viết as t3 on t3.id bài báo = t4.id bài báo join tác_giả as t1 on t3.id tác_giả = t1.id tác_giả where t2.tên = \"VLDB\" group by t1.tên having count ( distinct t4.tiêu_đề ) > 10",
         "['select', 't1.tên', 'from', 'bài báo', 'as', 't4', 'join', 'hội_nghị', 'as', 't2', 'on', 't4.id hội_nghị', '=', 't2.id hội_nghị', 'join', 'viết', 'as', 't3', 'on', 't3.id bài báo', '=', 't4.id bài báo', 'join', 'tác_giả', 'as', 't1', 'on', 't3.id tác_giả', '=', 't1.id tác_giả', 'where', 't2.tên', '=', '\"VLDB\"', 'group', 'by', 't1.tên', 'having', 'count', '(', 'distinct', 't4.tiêu_đề', ')', '>', '10']",
         "['select', 't1', '.', 'tên', 'from', 'bài báo', 'as', 't4', 'join', 'hội_nghị', 'as', 't2', 'on', 't4', '.', 'id hội_nghị', '=', 't2', '.', 'id hội_nghị', 'join', 'viết', 'as', 't3', 'on', 't3', '.', 'id bài báo', '=', 't4', '.', 'id bài báo', 'join', 'tác_giả', 'as', 't1', 'on', 't3', '.', 'id tác_giả', '=', 't1', '.', 'id tác_giả', 'where', 't2', '.', 'tên', '=', 'value', 'group', 'by', 't1', '.', 'tên', 'having', 'count', '(', 'distinct', 't4', '.', 'tiêu_đề', ')', '>', 'value']",
         "liệt_kê các tác_giả có hơn 10 bài báo được đăng tại hội_nghị VLDB .",
         "['liệt_kê', 'các', 'tác_giả', 'có', 'hơn', '10', 'bài', 'báo', 'được', 'đăng', 'tại', 'hội_nghị', 'VLDB', '.']",
         "{'except': None, 'from': {'conds': [[False, 2, [0, [0, 24, False], None], [0, 5, False], None]], 'table_units': [['table_unit', 9], ['table_unit', 1]]}, 'groupBy': [[0, 3, False]], 'having': [[False, 3, [0, [3, 29, True], None], 10.0, None]], 'intersect': None, 'limit': None, 'orderBy': [], 'select': [False, [[0, [0, [0, 3, False], None]]]], 'union': None, 'where': [[False, 2, [0, [0, 7, False], None], '\"VLDB\"', None]]}"
        ],
        [
         "12731",
         "academic",
         "select t1.từ_khoá from từ_khoá của bài báo as t5 join từ_khoá as t1 on t5.id từ_khoá = t1.id từ_khoá join bài báo as t3 on t3.id bài báo = t5.id bài báo join viết as t4 on t4.id bài báo = t3.id bài báo join tác_giả as t2 on t4.id tác_giả = t2.id tác_giả where t2.tên = \"H. V. Jagadish\" group by t1.từ_khoá having count ( distinct t3.tiêu_đề ) > 10",
         "['select', 't1.từ_khoá', 'from', 'từ_khoá của bài báo', 'as', 't5', 'join', 'từ_khoá', 'as', 't1', 'on', 't5.id từ_khoá', '=', 't1.id từ_khoá', 'join', 'bài báo', 'as', 't3', 'on', 't3.id bài báo', '=', 't5.id bài báo', 'join', 'viết', 'as', 't4', 'on', 't4.id bài báo', '=', 't3.id bài báo', 'join', 'tác_giả', 'as', 't2', 'on', 't4.id tác_giả', '=', 't2.id tác_giả', 'where', 't2.tên', '=', '\"H. V. Jagadish\"', 'group', 'by', 't1.từ_khoá', 'having', 'count', '(', 'distinct', 't3.tiêu_đề', ')', '>', '10']",
         "['select', 't1', '.', 'từ_khoá', 'from', 'từ_khoá của bài báo', 'as', 't5', 'join', 'từ_khoá', 'as', 't1', 'on', 't5', '.', 'id từ_khoá', '=', 't1', '.', 'id từ_khoá', 'join', 'bài báo', 'as', 't3', 'on', 't3', '.', 'id bài báo', '=', 't5', '.', 'id bài báo', 'join', 'viết', 'as', 't4', 'on', 't4', '.', 'id bài báo', '=', 't3', '.', 'id bài báo', 'join', 'tác_giả', 'as', 't2', 'on', 't4', '.', 'id tác_giả', '=', 't2', '.', 'id tác_giả', 'where', 't2', '.', 'tên', '=', 'value', 'group', 'by', 't1', '.', 'từ_khoá', 'having', 'count', '(', 'distinct', 't3', '.', 'tiêu_đề', ')', '>', 'value']",
         "liệt_kê các từ_khoá được nhắc đến trong hơn 10 bài báo của ' H . V. Jagadish ' .",
         "['liệt_kê', 'các', 'từ_khoá', 'được', 'nhắc', 'đến', 'trong', 'hơn', '10', 'bài', 'báo', 'của', \"'\", 'H', '.', 'V.', 'Jagadish', \"'\", '.']",
         "{'except': None, 'from': {'conds': [[False, 2, [0, [0, 38, False], None], [0, 20, False], None]], 'table_units': [['table_unit', 12], ['table_unit', 7]]}, 'groupBy': [[0, 19, False]], 'having': [[False, 3, [0, [3, 29, True], None], 10.0, None]], 'intersect': None, 'limit': None, 'orderBy': [], 'select': [False, [[0, [0, [0, 19, False], None]]]], 'union': None, 'where': [[False, 2, [0, [0, 3, False], None], '\"H. V. Jagadish\"', None]]}"
        ],
        [
         "12730",
         "academic",
         "select t1.từ_khoá from từ_khoá của bài báo as t4 join từ_khoá as t1 on t4.id từ_khoá = t1.id từ_khoá join bài báo as t2 on t2.id bài báo = t4.id bài báo join tạp_chí as t3 on t2.id tạp_chí = t3.id tạp_chí where t3.tên = \"PVLDB\" group by t1.từ_khoá having count ( distinct t2.tiêu_đề ) > 100",
         "['select', 't1.từ_khoá', 'from', 'từ_khoá của bài báo', 'as', 't4', 'join', 'từ_khoá', 'as', 't1', 'on', 't4.id từ_khoá', '=', 't1.id từ_khoá', 'join', 'bài báo', 'as', 't2', 'on', 't2.id bài báo', '=', 't4.id bài báo', 'join', 'tạp_chí', 'as', 't3', 'on', 't2.id tạp_chí', '=', 't3.id tạp_chí', 'where', 't3.tên', '=', '\"PVLDB\"', 'group', 'by', 't1.từ_khoá', 'having', 'count', '(', 'distinct', 't2.tiêu_đề', ')', '>', '100']",
         "['select', 't1', '.', 'từ_khoá', 'from', 'từ_khoá của bài báo', 'as', 't4', 'join', 'từ_khoá', 'as', 't1', 'on', 't4', '.', 'id từ_khoá', '=', 't1', '.', 'id từ_khoá', 'join', 'bài báo', 'as', 't2', 'on', 't2', '.', 'id bài báo', '=', 't4', '.', 'id bài báo', 'join', 'tạp_chí', 'as', 't3', 'on', 't2', '.', 'id tạp_chí', '=', 't3', '.', 'id tạp_chí', 'where', 't3', '.', 'tên', '=', 'value', 'group', 'by', 't1', '.', 'từ_khoá', 'having', 'count', '(', 'distinct', 't2', '.', 'tiêu_đề', ')', '>', 'value']",
         "những từ_khoá nào đã được nhắc đến bởi nhiều hơn 100 bài báo tại hội_nghị PVLDB ?",
         "['những', 'từ_khoá', 'nào', 'đã', 'được', 'nhắc', 'đến', 'bởi', 'nhiều', 'hơn', '100', 'bài', 'báo', 'tại', 'hội_nghị', 'PVLDB', '?']",
         "{'except': None, 'from': {'conds': [[False, 2, [0, [0, 38, False], None], [0, 20, False], None]], 'table_units': [['table_unit', 12], ['table_unit', 7]]}, 'groupBy': [[0, 19, False]], 'having': [[False, 3, [0, [3, 29, True], None], 100.0, None]], 'intersect': None, 'limit': None, 'orderBy': [], 'select': [False, [[0, [0, [0, 19, False], None]]]], 'union': None, 'where': [[False, 2, [0, [0, 16, False], None], '\"PVLDB\"', None]]}"
        ],
        [
         "12729",
         "academic",
         "select t1.từ_khoá from từ_khoá của bài báo as t4 join từ_khoá as t1 on t4.id từ_khoá = t1.id từ_khoá join bài báo as t3 on t3.id bài báo = t4.id bài báo join hội_nghị as t2 on t3.id hội_nghị = t2.id hội_nghị where t2.tên = \"VLDB\" group by t1.từ_khoá having count ( distinct t3.tiêu_đề ) > 100",
         "['select', 't1.từ_khoá', 'from', 'từ_khoá của bài báo', 'as', 't4', 'join', 'từ_khoá', 'as', 't1', 'on', 't4.id từ_khoá', '=', 't1.id từ_khoá', 'join', 'bài báo', 'as', 't3', 'on', 't3.id bài báo', '=', 't4.id bài báo', 'join', 'hội_nghị', 'as', 't2', 'on', 't3.id hội_nghị', '=', 't2.id hội_nghị', 'where', 't2.tên', '=', '\"VLDB\"', 'group', 'by', 't1.từ_khoá', 'having', 'count', '(', 'distinct', 't3.tiêu_đề', ')', '>', '100']",
         "['select', 't1', '.', 'từ_khoá', 'from', 'từ_khoá của bài báo', 'as', 't4', 'join', 'từ_khoá', 'as', 't1', 'on', 't4', '.', 'id từ_khoá', '=', 't1', '.', 'id từ_khoá', 'join', 'bài báo', 'as', 't3', 'on', 't3', '.', 'id bài báo', '=', 't4', '.', 'id bài báo', 'join', 'hội_nghị', 'as', 't2', 'on', 't3', '.', 'id hội_nghị', '=', 't2', '.', 'id hội_nghị', 'where', 't2', '.', 'tên', '=', 'value', 'group', 'by', 't1', '.', 'từ_khoá', 'having', 'count', '(', 'distinct', 't3', '.', 'tiêu_đề', ')', '>', 'value']",
         "liệt_kê các từ_khoá được nhắc đến bởi nhiều hơn 100 bài báo tại hội_nghị VLDB .",
         "['liệt_kê', 'các', 'từ_khoá', 'được', 'nhắc', 'đến', 'bởi', 'nhiều', 'hơn', '100', 'bài', 'báo', 'tại', 'hội_nghị', 'VLDB', '.']",
         "{'except': None, 'from': {'conds': [[False, 2, [0, [0, 38, False], None], [0, 20, False], None]], 'table_units': [['table_unit', 12], ['table_unit', 7]]}, 'groupBy': [[0, 19, False]], 'having': [[False, 3, [0, [3, 29, True], None], 100.0, None]], 'intersect': None, 'limit': None, 'orderBy': [], 'select': [False, [[0, [0, [0, 19, False], None]]]], 'union': None, 'where': [[False, 2, [0, [0, 7, False], None], '\"VLDB\"', None]]}"
        ],
        [
         "12728",
         "academic",
         "select t3.tên from từ_khoá của bài báo as t4 join từ_khoá as t1 on t4.id từ_khoá = t1.id từ_khoá join bài báo as t2 on t2.id bài báo = t4.id bài báo join tạp_chí as t3 on t2.id tạp_chí = t3.id tạp_chí where t1.từ_khoá = \"Relational Database\" group by t3.tên having count ( distinct t2.tiêu_đề ) > 60",
         "['select', 't3.tên', 'from', 'từ_khoá của bài báo', 'as', 't4', 'join', 'từ_khoá', 'as', 't1', 'on', 't4.id từ_khoá', '=', 't1.id từ_khoá', 'join', 'bài báo', 'as', 't2', 'on', 't2.id bài báo', '=', 't4.id bài báo', 'join', 'tạp_chí', 'as', 't3', 'on', 't2.id tạp_chí', '=', 't3.id tạp_chí', 'where', 't1.từ_khoá', '=', '\"Relational Database\"', 'group', 'by', 't3.tên', 'having', 'count', '(', 'distinct', 't2.tiêu_đề', ')', '>', '60']",
         "['select', 't3', '.', 'tên', 'from', 'từ_khoá của bài báo', 'as', 't4', 'join', 'từ_khoá', 'as', 't1', 'on', 't4', '.', 'id từ_khoá', '=', 't1', '.', 'id từ_khoá', 'join', 'bài báo', 'as', 't2', 'on', 't2', '.', 'id bài báo', '=', 't4', '.', 'id bài báo', 'join', 'tạp_chí', 'as', 't3', 'on', 't2', '.', 'id tạp_chí', '=', 't3', '.', 'id tạp_chí', 'where', 't1', '.', 'từ_khoá', '=', 'value', 'group', 'by', 't3', '.', 'tên', 'having', 'count', '(', 'distinct', 't2', '.', 'tiêu_đề', ')', '>', 'value']",
         "liệt_kê các tạp_chí có nhiều hơn 60 bài báo với từ_khoá ' Cơ_sở_dữ_liệu quan_hệ ' .",
         "['liệt_kê', 'các', 'tạp_chí', 'có', 'nhiều', 'hơn', '60', 'bài', 'báo', 'với', 'từ_khoá', \"'\", 'Cơ_sở_dữ_liệu', 'quan_hệ', \"'\", '.']",
         "{'except': None, 'from': {'conds': [[False, 2, [0, [0, 38, False], None], [0, 20, False], None]], 'table_units': [['table_unit', 12], ['table_unit', 7]]}, 'groupBy': [[0, 16, False]], 'having': [[False, 3, [0, [3, 29, True], None], 60.0, None]], 'intersect': None, 'limit': None, 'orderBy': [], 'select': [False, [[0, [0, [0, 16, False], None]]]], 'union': None, 'where': [[False, 2, [0, [0, 19, False], None], '\"Relational Database\"', None]]}"
        ],
        [
         "12727",
         "academic",
         "select t2.tên from từ_khoá của bài báo as t4 join từ_khoá as t1 on t4.id từ_khoá = t1.id từ_khoá join bài báo as t3 on t3.id bài báo = t4.id bài báo join hội_nghị as t2 on t3.id hội_nghị = t2.id hội_nghị where t1.từ_khoá = \"Relational Database\" group by t2.tên having count ( distinct t3.tiêu_đề ) > 60",
         "['select', 't2.tên', 'from', 'từ_khoá của bài báo', 'as', 't4', 'join', 'từ_khoá', 'as', 't1', 'on', 't4.id từ_khoá', '=', 't1.id từ_khoá', 'join', 'bài báo', 'as', 't3', 'on', 't3.id bài báo', '=', 't4.id bài báo', 'join', 'hội_nghị', 'as', 't2', 'on', 't3.id hội_nghị', '=', 't2.id hội_nghị', 'where', 't1.từ_khoá', '=', '\"Relational Database\"', 'group', 'by', 't2.tên', 'having', 'count', '(', 'distinct', 't3.tiêu_đề', ')', '>', '60']",
         "['select', 't2', '.', 'tên', 'from', 'từ_khoá của bài báo', 'as', 't4', 'join', 'từ_khoá', 'as', 't1', 'on', 't4', '.', 'id từ_khoá', '=', 't1', '.', 'id từ_khoá', 'join', 'bài báo', 'as', 't3', 'on', 't3', '.', 'id bài báo', '=', 't4', '.', 'id bài báo', 'join', 'hội_nghị', 'as', 't2', 'on', 't3', '.', 'id hội_nghị', '=', 't2', '.', 'id hội_nghị', 'where', 't1', '.', 'từ_khoá', '=', 'value', 'group', 'by', 't2', '.', 'tên', 'having', 'count', '(', 'distinct', 't3', '.', 'tiêu_đề', ')', '>', 'value']",
         "liệt_kê các hội_nghị đã xuất_bản nhiều hơn 60 bài báo với từ_khoá ' Cơ_sở_dữ_liệu quan_hệ ' .",
         "['liệt_kê', 'các', 'hội_nghị', 'đã', 'xuất_bản', 'nhiều', 'hơn', '60', 'bài', 'báo', 'với', 'từ_khoá', \"'\", 'Cơ_sở_dữ_liệu', 'quan_hệ', \"'\", '.']",
         "{'except': None, 'from': {'conds': [[False, 2, [0, [0, 38, False], None], [0, 20, False], None]], 'table_units': [['table_unit', 12], ['table_unit', 7]]}, 'groupBy': [[0, 7, False]], 'having': [[False, 3, [0, [3, 29, True], None], 60.0, None]], 'intersect': None, 'limit': None, 'orderBy': [], 'select': [False, [[0, [0, [0, 7, False], None]]]], 'union': None, 'where': [[False, 2, [0, [0, 19, False], None], '\"Relational Database\"', None]]}"
        ],
        [
         "12726",
         "academic",
         "select t2.tên from từ_khoá của bài báo as t5 join từ_khoá as t1 on t5.id từ_khoá = t1.id từ_khoá join bài báo as t3 on t3.id bài báo = t5.id bài báo join viết as t4 on t4.id bài báo = t3.id bài báo join tác_giả as t2 on t4.id tác_giả = t2.id tác_giả where t1.từ_khoá = \"Relational Database\" group by t2.tên having count ( distinct t3.tiêu_đề ) > 10",
         "['select', 't2.tên', 'from', 'từ_khoá của bài báo', 'as', 't5', 'join', 'từ_khoá', 'as', 't1', 'on', 't5.id từ_khoá', '=', 't1.id từ_khoá', 'join', 'bài báo', 'as', 't3', 'on', 't3.id bài báo', '=', 't5.id bài báo', 'join', 'viết', 'as', 't4', 'on', 't4.id bài báo', '=', 't3.id bài báo', 'join', 'tác_giả', 'as', 't2', 'on', 't4.id tác_giả', '=', 't2.id tác_giả', 'where', 't1.từ_khoá', '=', '\"Relational Database\"', 'group', 'by', 't2.tên', 'having', 'count', '(', 'distinct', 't3.tiêu_đề', ')', '>', '10']",
         "['select', 't2', '.', 'tên', 'from', 'từ_khoá của bài báo', 'as', 't5', 'join', 'từ_khoá', 'as', 't1', 'on', 't5', '.', 'id từ_khoá', '=', 't1', '.', 'id từ_khoá', 'join', 'bài báo', 'as', 't3', 'on', 't3', '.', 'id bài báo', '=', 't5', '.', 'id bài báo', 'join', 'viết', 'as', 't4', 'on', 't4', '.', 'id bài báo', '=', 't3', '.', 'id bài báo', 'join', 'tác_giả', 'as', 't2', 'on', 't4', '.', 'id tác_giả', '=', 't2', '.', 'id tác_giả', 'where', 't1', '.', 'từ_khoá', '=', 'value', 'group', 'by', 't2', '.', 'tên', 'having', 'count', '(', 'distinct', 't3', '.', 'tiêu_đề', ')', '>', 'value']",
         "liệt_kê các tác_giả có nhiều hơn 10 bài báo với từ_khoá ' Cơ_sở_dữ_liệu quan_hệ ' .",
         "['liệt_kê', 'các', 'tác_giả', 'có', 'nhiều', 'hơn', '10', 'bài', 'báo', 'với', 'từ_khoá', \"'\", 'Cơ_sở_dữ_liệu', 'quan_hệ', \"'\", '.']",
         "{'except': None, 'from': {'conds': [[False, 2, [0, [0, 38, False], None], [0, 20, False], None]], 'table_units': [['table_unit', 12], ['table_unit', 7]]}, 'groupBy': [[0, 3, False]], 'having': [[False, 3, [0, [3, 29, True], None], 10.0, None]], 'intersect': None, 'limit': None, 'orderBy': [], 'select': [False, [[0, [0, [0, 3, False], None]]]], 'union': None, 'where': [[False, 2, [0, [0, 19, False], None], '\"Relational Database\"', None]]}"
        ],
        [
         "12725",
         "academic",
         "select t1.tên from bài báo as t4 join tạp_chí as t2 on t4.id tạp_chí = t2.id tạp_chí join viết as t3 on t3.id bài báo = t4.id bài báo join tác_giả as t1 on t3.id tác_giả = t1.id tác_giả where t2.tên = \"PVLDB\" group by t1.tên order by count ( distinct t4.tiêu_đề ) desc limit 1",
         "['select', 't1.tên', 'from', 'bài báo', 'as', 't4', 'join', 'tạp_chí', 'as', 't2', 'on', 't4.id tạp_chí', '=', 't2.id tạp_chí', 'join', 'viết', 'as', 't3', 'on', 't3.id bài báo', '=', 't4.id bài báo', 'join', 'tác_giả', 'as', 't1', 'on', 't3.id tác_giả', '=', 't1.id tác_giả', 'where', 't2.tên', '=', '\"PVLDB\"', 'group', 'by', 't1.tên', 'order', 'by', 'count', '(', 'distinct', 't4.tiêu_đề', ')', 'desc', 'limit', '1']",
         "['select', 't1', '.', 'tên', 'from', 'bài báo', 'as', 't4', 'join', 'tạp_chí', 'as', 't2', 'on', 't4', '.', 'id tạp_chí', '=', 't2', '.', 'id tạp_chí', 'join', 'viết', 'as', 't3', 'on', 't3', '.', 'id bài báo', '=', 't4', '.', 'id bài báo', 'join', 'tác_giả', 'as', 't1', 'on', 't3', '.', 'id tác_giả', '=', 't1', '.', 'id tác_giả', 'where', 't2', '.', 'tên', '=', 'value', 'group', 'by', 't1', '.', 'tên', 'order', 'by', 'count', '(', 'distinct', 't4', '.', 'tiêu_đề', ')', 'desc', 'limit', 'value']",
         "tác_giả nào đã xuất_bản nhiều bài báo nhất tại hội_nghị PVLDB ?",
         "['tác_giả', 'nào', 'đã', 'xuất_bản', 'nhiều', 'bài', 'báo', 'nhất', 'tại', 'hội_nghị', 'PVLDB', '?']",
         "{'except': None, 'from': {'conds': [[False, 2, [0, [0, 26, False], None], [0, 15, False], None]], 'table_units': [['table_unit', 9], ['table_unit', 5]]}, 'groupBy': [[0, 3, False]], 'having': [], 'intersect': None, 'limit': 1, 'orderBy': ['desc', [[0, [3, 29, True], None]]], 'select': [False, [[0, [0, [0, 3, False], None]]]], 'union': None, 'where': [[False, 2, [0, [0, 16, False], None], '\"PVLDB\"', None]]}"
        ],
        [
         "12724",
         "academic",
         "select t1.tên from bài báo as t4 join tạp_chí as t2 on t4.id tạp_chí = t2.id tạp_chí join viết as t3 on t3.id bài báo = t4.id bài báo join tác_giả as t1 on t3.id tác_giả = t1.id tác_giả where t2.tên = \"PVLDB\" group by t1.tên having count ( distinct t4.tiêu_đề ) > 10",
         "['select', 't1.tên', 'from', 'bài báo', 'as', 't4', 'join', 'tạp_chí', 'as', 't2', 'on', 't4.id tạp_chí', '=', 't2.id tạp_chí', 'join', 'viết', 'as', 't3', 'on', 't3.id bài báo', '=', 't4.id bài báo', 'join', 'tác_giả', 'as', 't1', 'on', 't3.id tác_giả', '=', 't1.id tác_giả', 'where', 't2.tên', '=', '\"PVLDB\"', 'group', 'by', 't1.tên', 'having', 'count', '(', 'distinct', 't4.tiêu_đề', ')', '>', '10']",
         "['select', 't1', '.', 'tên', 'from', 'bài báo', 'as', 't4', 'join', 'tạp_chí', 'as', 't2', 'on', 't4', '.', 'id tạp_chí', '=', 't2', '.', 'id tạp_chí', 'join', 'viết', 'as', 't3', 'on', 't3', '.', 'id bài báo', '=', 't4', '.', 'id bài báo', 'join', 'tác_giả', 'as', 't1', 'on', 't3', '.', 'id tác_giả', '=', 't1', '.', 'id tác_giả', 'where', 't2', '.', 'tên', '=', 'value', 'group', 'by', 't1', '.', 'tên', 'having', 'count', '(', 'distinct', 't4', '.', 'tiêu_đề', ')', '>', 'value']",
         "liệt_kê các tác_giả đã xuất_bản nhiều hơn 10 bài báo tại hội_nghị PVLDB .",
         "['liệt_kê', 'các', 'tác_giả', 'đã', 'xuất_bản', 'nhiều', 'hơn', '10', 'bài', 'báo', 'tại', 'hội_nghị', 'PVLDB', '.']",
         "{'except': None, 'from': {'conds': [[False, 2, [0, [0, 26, False], None], [0, 15, False], None]], 'table_units': [['table_unit', 9], ['table_unit', 5]]}, 'groupBy': [[0, 3, False]], 'having': [[False, 3, [0, [3, 29, True], None], 10.0, None]], 'intersect': None, 'limit': None, 'orderBy': [], 'select': [False, [[0, [0, [0, 3, False], None]]]], 'union': None, 'where': [[False, 2, [0, [0, 16, False], None], '\"PVLDB\"', None]]}"
        ],
        [
         "12723",
         "academic",
         "select t2.tiêu_đề from bài báo as t2 join hội_nghị as t1 on t2.id hội_nghị = t1.id hội_nghị where t1.tên = \"VLDB\" and t2.năm > 2000 order by t2.số_lượng trích_dẫn desc limit 1",
         "['select', 't2.tiêu_đề', 'from', 'bài báo', 'as', 't2', 'join', 'hội_nghị', 'as', 't1', 'on', 't2.id hội_nghị', '=', 't1.id hội_nghị', 'where', 't1.tên', '=', '\"VLDB\"', 'and', 't2.năm', '>', '2000', 'order', 'by', 't2.số_lượng trích_dẫn', 'desc', 'limit', '1']",
         "['select', 't2', '.', 'tiêu_đề', 'from', 'bài báo', 'as', 't2', 'join', 'hội_nghị', 'as', 't1', 'on', 't2', '.', 'id hội_nghị', '=', 't1', '.', 'id hội_nghị', 'where', 't1', '.', 'tên', '=', 'value', 'and', 't2', '.', 'năm', '>', 'value', 'order', 'by', 't2', '.', 'số_lượng trích_dẫn', 'desc', 'limit', 'value']",
         "bài báo có nhiều trích_dẫn nhất trong số các bài báo được xuất_bản sau năm 2000 tại hội_nghị VLDB là bài báo nào ?",
         "['bài', 'báo', 'có', 'nhiều', 'trích_dẫn', 'nhất', 'trong', 'số', 'các', 'bài', 'báo', 'được', 'xuất_bản', 'sau', 'năm', '2000', 'tại', 'hội_nghị', 'VLDB', 'là', 'bài', 'báo', 'nào', '?']",
         "{'except': None, 'from': {'conds': [[False, 2, [0, [0, 24, False], None], [0, 5, False], None]], 'table_units': [['table_unit', 9], ['table_unit', 1]]}, 'groupBy': [], 'having': [], 'intersect': None, 'limit': 1, 'orderBy': ['desc', [[0, [0, 25, False], None]]], 'select': [False, [[0, [0, [0, 29, False], None]]]], 'union': None, 'where': [[False, 2, [0, [0, 7, False], None], '\"VLDB\"', None], 'and', [False, 3, [0, [0, 30, False], None], 2000.0, None]]}"
        ],
        [
         "12722",
         "academic",
         "select t2.tiêu_đề from bài báo as t2 join tạp_chí as t1 on t2.id tạp_chí = t1.id tạp_chí where t1.tên = \"PVLDB\" and t2.năm > 2000 order by t2.số_lượng trích_dẫn desc limit 1",
         "['select', 't2.tiêu_đề', 'from', 'bài báo', 'as', 't2', 'join', 'tạp_chí', 'as', 't1', 'on', 't2.id tạp_chí', '=', 't1.id tạp_chí', 'where', 't1.tên', '=', '\"PVLDB\"', 'and', 't2.năm', '>', '2000', 'order', 'by', 't2.số_lượng trích_dẫn', 'desc', 'limit', '1']",
         "['select', 't2', '.', 'tiêu_đề', 'from', 'bài báo', 'as', 't2', 'join', 'tạp_chí', 'as', 't1', 'on', 't2', '.', 'id tạp_chí', '=', 't1', '.', 'id tạp_chí', 'where', 't1', '.', 'tên', '=', 'value', 'and', 't2', '.', 'năm', '>', 'value', 'order', 'by', 't2', '.', 'số_lượng trích_dẫn', 'desc', 'limit', 'value']",
         "bài báo có nhiều trích_dẫn nhất trong số các bài báo được xuất_bản sau năm 2000 tại PVLDB là bài báo nào ?",
         "['bài', 'báo', 'có', 'nhiều', 'trích_dẫn', 'nhất', 'trong', 'số', 'các', 'bài', 'báo', 'được', 'xuất_bản', 'sau', 'năm', '2000', 'tại', 'PVLDB', 'là', 'bài', 'báo', 'nào', '?']",
         "{'except': None, 'from': {'conds': [[False, 2, [0, [0, 26, False], None], [0, 15, False], None]], 'table_units': [['table_unit', 9], ['table_unit', 5]]}, 'groupBy': [], 'having': [], 'intersect': None, 'limit': 1, 'orderBy': ['desc', [[0, [0, 25, False], None]]], 'select': [False, [[0, [0, [0, 29, False], None]]]], 'union': None, 'where': [[False, 2, [0, [0, 16, False], None], '\"PVLDB\"', None], 'and', [False, 3, [0, [0, 30, False], None], 2000.0, None]]}"
        ],
        [
         "12721",
         "academic",
         "select t3.tiêu_đề from lĩnh_vực as t2 join lĩnh_vực của bài báo as t1 on t2.id lĩnh_vực = t1.id lĩnh_vực join bài báo as t3 on t3.id bài báo = t1.id bài báo where t2.tên = \"Databases\" and t3.năm > 2000 order by t3.số_lượng trích_dẫn desc limit 1",
         "['select', 't3.tiêu_đề', 'from', 'lĩnh_vực', 'as', 't2', 'join', 'lĩnh_vực của bài báo', 'as', 't1', 'on', 't2.id lĩnh_vực', '=', 't1.id lĩnh_vực', 'join', 'bài báo', 'as', 't3', 'on', 't3.id bài báo', '=', 't1.id bài báo', 'where', 't2.tên', '=', '\"Databases\"', 'and', 't3.năm', '>', '2000', 'order', 'by', 't3.số_lượng trích_dẫn', 'desc', 'limit', '1']",
         "['select', 't3', '.', 'tiêu_đề', 'from', 'lĩnh_vực', 'as', 't2', 'join', 'lĩnh_vực của bài báo', 'as', 't1', 'on', 't2', '.', 'id lĩnh_vực', '=', 't1', '.', 'id lĩnh_vực', 'join', 'bài báo', 'as', 't3', 'on', 't3', '.', 'id bài báo', '=', 't1', '.', 'id bài báo', 'where', 't2', '.', 'tên', '=', 'value', 'and', 't3', '.', 'năm', '>', 'value', 'order', 'by', 't3', '.', 'số_lượng trích_dẫn', 'desc', 'limit', 'value']",
         "bài báo có nhiều trích_dẫn nhất trong số các bài báo thuộc lĩnh_vực ' Cơ_sở_dữ_liệu ' được xuất_bản sau năm 2000 là bài báo nào ?",
         "['bài', 'báo', 'có', 'nhiều', 'trích_dẫn', 'nhất', 'trong', 'số', 'các', 'bài', 'báo', 'thuộc', 'lĩnh_vực', \"'\", 'Cơ_sở_dữ_liệu', \"'\", 'được', 'xuất_bản', 'sau', 'năm', '2000', 'là', 'bài', 'báo', 'nào', '?']",
         "{'except': None, 'from': {'conds': [[False, 2, [0, [0, 8, False], None], [0, 31, False], None]], 'table_units': [['table_unit', 2], ['table_unit', 10]]}, 'groupBy': [], 'having': [], 'intersect': None, 'limit': 1, 'orderBy': ['desc', [[0, [0, 25, False], None]]], 'select': [False, [[0, [0, [0, 29, False], None]]]], 'union': None, 'where': [[False, 2, [0, [0, 9, False], None], '\"Databases\"', None], 'and', [False, 3, [0, [0, 30, False], None], 2000.0, None]]}"
        ],
        [
         "12720",
         "academic",
         "select tiêu_đề from bài báo where năm > 2000 order by số_lượng trích_dẫn desc limit 1",
         "['select', 'tiêu_đề', 'from', 'bài báo', 'where', 'năm', '>', '2000', 'order', 'by', 'số_lượng trích_dẫn', 'desc', 'limit', '1']",
         "['select', 'tiêu_đề', 'from', 'bài báo', 'where', 'năm', '>', 'value', 'order', 'by', 'số_lượng trích_dẫn', 'desc', 'limit', 'value']",
         "bài báo nhận được nhiều trích_dẫn nhất trong số các bài báo được xuất_bản sau năm 2000 là bài báo nào ?",
         "['bài', 'báo', 'nhận', 'được', 'nhiều', 'trích_dẫn', 'nhất', 'trong', 'số', 'các', 'bài', 'báo', 'được', 'xuất_bản', 'sau', 'năm', '2000', 'là', 'bài', 'báo', 'nào', '?']",
         "{'except': None, 'from': {'conds': [], 'table_units': [['table_unit', 9]]}, 'groupBy': [], 'having': [], 'intersect': None, 'limit': 1, 'orderBy': ['desc', [[0, [0, 25, False], None]]], 'select': [False, [[0, [0, [0, 29, False], None]]]], 'union': None, 'where': [[False, 3, [0, [0, 30, False], None], 2000.0, None]]}"
        ],
        [
         "12719",
         "academic",
         "select t3.tiêu_đề from viết as t2 join tác_giả as t1 on t2.id tác_giả = t1.id tác_giả join bài báo as t3 on t2.id bài báo = t3.id bài báo where t1.tên = \"H. V. Jagadish\" order by t3.số_lượng trích_dẫn desc limit 1",
         "['select', 't3.tiêu_đề', 'from', 'viết', 'as', 't2', 'join', 'tác_giả', 'as', 't1', 'on', 't2.id tác_giả', '=', 't1.id tác_giả', 'join', 'bài báo', 'as', 't3', 'on', 't2.id bài báo', '=', 't3.id bài báo', 'where', 't1.tên', '=', '\"H. V. Jagadish\"', 'order', 'by', 't3.số_lượng trích_dẫn', 'desc', 'limit', '1']",
         "['select', 't3', '.', 'tiêu_đề', 'from', 'viết', 'as', 't2', 'join', 'tác_giả', 'as', 't1', 'on', 't2', '.', 'id tác_giả', '=', 't1', '.', 'id tác_giả', 'join', 'bài báo', 'as', 't3', 'on', 't2', '.', 'id bài báo', '=', 't3', '.', 'id bài báo', 'where', 't1', '.', 'tên', '=', 'value', 'order', 'by', 't3', '.', 'số_lượng trích_dẫn', 'desc', 'limit', 'value']",
         "bài báo của tác_giả ' H . V. Jagadish ' nhận được nhiều trích_dẫn nhất là bài báo nào ?",
         "['bài', 'báo', 'của', 'tác_giả', \"'\", 'H', '.', 'V.', 'Jagadish', \"'\", 'nhận', 'được', 'nhiều', 'trích_dẫn', 'nhất', 'là', 'bài', 'báo', 'nào', '?']",
         "{'except': None, 'from': {'conds': [[False, 2, [0, [0, 39, False], None], [0, 1, False], None]], 'table_units': [['table_unit', 13], ['table_unit', 0]]}, 'groupBy': [], 'having': [], 'intersect': None, 'limit': 1, 'orderBy': ['desc', [[0, [0, 25, False], None]]], 'select': [False, [[0, [0, [0, 29, False], None]]]], 'union': None, 'where': [[False, 2, [0, [0, 3, False], None], '\"H. V. Jagadish\"', None]]}"
        ],
        [
         "12718",
         "academic",
         "select t2.tiêu_đề from bài báo as t2 join hội_nghị as t1 on t2.id hội_nghị = t1.id hội_nghị where t1.tên = \"VLDB\" order by t2.số_lượng trích_dẫn desc limit 1",
         "['select', 't2.tiêu_đề', 'from', 'bài báo', 'as', 't2', 'join', 'hội_nghị', 'as', 't1', 'on', 't2.id hội_nghị', '=', 't1.id hội_nghị', 'where', 't1.tên', '=', '\"VLDB\"', 'order', 'by', 't2.số_lượng trích_dẫn', 'desc', 'limit', '1']",
         "['select', 't2', '.', 'tiêu_đề', 'from', 'bài báo', 'as', 't2', 'join', 'hội_nghị', 'as', 't1', 'on', 't2', '.', 'id hội_nghị', '=', 't1', '.', 'id hội_nghị', 'where', 't1', '.', 'tên', '=', 'value', 'order', 'by', 't2', '.', 'số_lượng trích_dẫn', 'desc', 'limit', 'value']",
         "bài báo nhận được nhiều trích_dẫn nhất và được xuất_bản tại hội_nghị VLDB là bài báo nào ?",
         "['bài', 'báo', 'nhận', 'được', 'nhiều', 'trích_dẫn', 'nhất', 'và', 'được', 'xuất_bản', 'tại', 'hội_nghị', 'VLDB', 'là', 'bài', 'báo', 'nào', '?']",
         "{'except': None, 'from': {'conds': [[False, 2, [0, [0, 24, False], None], [0, 5, False], None]], 'table_units': [['table_unit', 9], ['table_unit', 1]]}, 'groupBy': [], 'having': [], 'intersect': None, 'limit': 1, 'orderBy': ['desc', [[0, [0, 25, False], None]]], 'select': [False, [[0, [0, [0, 29, False], None]]]], 'union': None, 'where': [[False, 2, [0, [0, 7, False], None], '\"VLDB\"', None]]}"
        ],
        [
         "12717",
         "academic",
         "select t2.tiêu_đề from bài báo as t2 join tạp_chí as t1 on t2.id tạp_chí = t1.id tạp_chí where t1.tên = \"PVLDB\" order by t2.số_lượng trích_dẫn desc limit 1",
         "['select', 't2.tiêu_đề', 'from', 'bài báo', 'as', 't2', 'join', 'tạp_chí', 'as', 't1', 'on', 't2.id tạp_chí', '=', 't1.id tạp_chí', 'where', 't1.tên', '=', '\"PVLDB\"', 'order', 'by', 't2.số_lượng trích_dẫn', 'desc', 'limit', '1']",
         "['select', 't2', '.', 'tiêu_đề', 'from', 'bài báo', 'as', 't2', 'join', 'tạp_chí', 'as', 't1', 'on', 't2', '.', 'id tạp_chí', '=', 't1', '.', 'id tạp_chí', 'where', 't1', '.', 'tên', '=', 'value', 'order', 'by', 't2', '.', 'số_lượng trích_dẫn', 'desc', 'limit', 'value']",
         "bài báo nào nhận được nhiều trích_dẫn nhất và được công_bố tại hội_nghị PVLDB ?",
         "['bài', 'báo', 'nào', 'nhận', 'được', 'nhiều', 'trích_dẫn', 'nhất', 'và', 'được', 'công_bố', 'tại', 'hội_nghị', 'PVLDB', '?']",
         "{'except': None, 'from': {'conds': [[False, 2, [0, [0, 26, False], None], [0, 15, False], None]], 'table_units': [['table_unit', 9], ['table_unit', 5]]}, 'groupBy': [], 'having': [], 'intersect': None, 'limit': 1, 'orderBy': ['desc', [[0, [0, 25, False], None]]], 'select': [False, [[0, [0, [0, 29, False], None]]]], 'union': None, 'where': [[False, 2, [0, [0, 16, False], None], '\"PVLDB\"', None]]}"
        ],
        [
         "12716",
         "academic",
         "select t3.tiêu_đề from lĩnh_vực as t2 join lĩnh_vực của bài báo as t1 on t2.id lĩnh_vực = t1.id lĩnh_vực join bài báo as t3 on t3.id bài báo = t1.id bài báo where t2.tên = \"Databases\" order by t3.số_lượng trích_dẫn desc limit 1",
         "['select', 't3.tiêu_đề', 'from', 'lĩnh_vực', 'as', 't2', 'join', 'lĩnh_vực của bài báo', 'as', 't1', 'on', 't2.id lĩnh_vực', '=', 't1.id lĩnh_vực', 'join', 'bài báo', 'as', 't3', 'on', 't3.id bài báo', '=', 't1.id bài báo', 'where', 't2.tên', '=', '\"Databases\"', 'order', 'by', 't3.số_lượng trích_dẫn', 'desc', 'limit', '1']",
         "['select', 't3', '.', 'tiêu_đề', 'from', 'lĩnh_vực', 'as', 't2', 'join', 'lĩnh_vực của bài báo', 'as', 't1', 'on', 't2', '.', 'id lĩnh_vực', '=', 't1', '.', 'id lĩnh_vực', 'join', 'bài báo', 'as', 't3', 'on', 't3', '.', 'id bài báo', '=', 't1', '.', 'id bài báo', 'where', 't2', '.', 'tên', '=', 'value', 'order', 'by', 't3', '.', 'số_lượng trích_dẫn', 'desc', 'limit', 'value']",
         "cho biết bài báo có nhiều trích_dẫn nhất trong lĩnh_vực ' Cơ_sở_dữ_liệu ' .",
         "['cho', 'biết', 'bài', 'báo', 'có', 'nhiều', 'trích_dẫn', 'nhất', 'trong', 'lĩnh_vực', \"'\", 'Cơ_sở_dữ_liệu', \"'\", '.']",
         "{'except': None, 'from': {'conds': [[False, 2, [0, [0, 8, False], None], [0, 31, False], None]], 'table_units': [['table_unit', 2], ['table_unit', 10]]}, 'groupBy': [], 'having': [], 'intersect': None, 'limit': 1, 'orderBy': ['desc', [[0, [0, 25, False], None]]], 'select': [False, [[0, [0, [0, 29, False], None]]]], 'union': None, 'where': [[False, 2, [0, [0, 9, False], None], '\"Databases\"', None]]}"
        ],
        [
         "12715",
         "academic",
         "select tiêu_đề from bài báo order by số_lượng trích_dẫn desc limit 1",
         "['select', 'tiêu_đề', 'from', 'bài báo', 'order', 'by', 'số_lượng trích_dẫn', 'desc', 'limit', '1']",
         "['select', 'tiêu_đề', 'from', 'bài báo', 'order', 'by', 'số_lượng trích_dẫn', 'desc', 'limit', 'value']",
         "bài báo nào có nhiều trích_dẫn nhất ?",
         "['bài', 'báo', 'nào', 'có', 'nhiều', 'trích_dẫn', 'nhất', '?']",
         "{'except': None, 'from': {'conds': [], 'table_units': [['table_unit', 9]]}, 'groupBy': [], 'having': [], 'intersect': None, 'limit': 1, 'orderBy': ['desc', [[0, [0, 25, False], None]]], 'select': [False, [[0, [0, [0, 29, False], None]]]], 'union': None, 'where': []}"
        ],
        [
         "12714",
         "academic",
         "select t2.tên from bài báo as t4 join tạp_chí as t2 on t4.id tạp_chí = t2.id tạp_chí join viết as t3 on t3.id bài báo = t4.id bài báo join tác_giả as t1 on t3.id tác_giả = t1.id tác_giả where t1.tên = \"H. V. Jagadish\" group by t2.tên order by count ( distinct t4.tiêu_đề ) desc limit 1",
         "['select', 't2.tên', 'from', 'bài báo', 'as', 't4', 'join', 'tạp_chí', 'as', 't2', 'on', 't4.id tạp_chí', '=', 't2.id tạp_chí', 'join', 'viết', 'as', 't3', 'on', 't3.id bài báo', '=', 't4.id bài báo', 'join', 'tác_giả', 'as', 't1', 'on', 't3.id tác_giả', '=', 't1.id tác_giả', 'where', 't1.tên', '=', '\"H. V. Jagadish\"', 'group', 'by', 't2.tên', 'order', 'by', 'count', '(', 'distinct', 't4.tiêu_đề', ')', 'desc', 'limit', '1']",
         "['select', 't2', '.', 'tên', 'from', 'bài báo', 'as', 't4', 'join', 'tạp_chí', 'as', 't2', 'on', 't4', '.', 'id tạp_chí', '=', 't2', '.', 'id tạp_chí', 'join', 'viết', 'as', 't3', 'on', 't3', '.', 'id bài báo', '=', 't4', '.', 'id bài báo', 'join', 'tác_giả', 'as', 't1', 'on', 't3', '.', 'id tác_giả', '=', 't1', '.', 'id tác_giả', 'where', 't1', '.', 'tên', '=', 'value', 'group', 'by', 't2', '.', 'tên', 'order', 'by', 'count', '(', 'distinct', 't4', '.', 'tiêu_đề', ')', 'desc', 'limit', 'value']",
         "tạp_chí nào đã cho đăng nhiều bài báo của tác_giả ' H . V. Jagadish ' nhất ?",
         "['tạp_chí', 'nào', 'đã', 'cho', 'đăng', 'nhiều', 'bài', 'báo', 'của', 'tác_giả', \"'\", 'H', '.', 'V.', 'Jagadish', \"'\", 'nhất', '?']",
         "{'except': None, 'from': {'conds': [[False, 2, [0, [0, 26, False], None], [0, 15, False], None]], 'table_units': [['table_unit', 9], ['table_unit', 5]]}, 'groupBy': [[0, 16, False]], 'having': [], 'intersect': None, 'limit': 1, 'orderBy': ['desc', [[0, [3, 29, True], None]]], 'select': [False, [[0, [0, [0, 16, False], None]]]], 'union': None, 'where': [[False, 2, [0, [0, 3, False], None], '\"H. V. Jagadish\"', None]]}"
        ],
        [
         "3038",
         "academic",
         "select t1.từ khoá from từ khoá của bài báo as t5 join từ khoá as t1 on t5.id từ khoá = t1.id từ khoá join bài báo as t3 on t3.id bài báo = t5.id bài báo join viết as t4 on t4.id bài báo = t3.id bài báo join tác giả as t2 on t4.id tác giả = t2.id tác giả where t2.tên = \"H. V. Jagadish\" group by t1.từ khoá having count ( distinct t3.tiêu đề ) > 10",
         "['select', 't1.từ khoá', 'from', 'từ khoá của bài báo', 'as', 't5', 'join', 'từ khoá', 'as', 't1', 'on', 't5.id từ khoá', '=', 't1.id từ khoá', 'join', 'bài báo', 'as', 't3', 'on', 't3.id bài báo', '=', 't5.id bài báo', 'join', 'viết', 'as', 't4', 'on', 't4.id bài báo', '=', 't3.id bài báo', 'join', 'tác giả', 'as', 't2', 'on', 't4.id tác giả', '=', 't2.id tác giả', 'where', 't2.tên', '=', '\"H. V. Jagadish\"', 'group', 'by', 't1.từ khoá', 'having', 'count', '(', 'distinct', 't3.tiêu đề', ')', '>', '10']",
         "['select', 't1', '.', 'từ khoá', 'from', 'từ khoá của bài báo', 'as', 't5', 'join', 'từ khoá', 'as', 't1', 'on', 't5', '.', 'id từ khoá', '=', 't1', '.', 'id từ khoá', 'join', 'bài báo', 'as', 't3', 'on', 't3', '.', 'id bài báo', '=', 't5', '.', 'id bài báo', 'join', 'viết', 'as', 't4', 'on', 't4', '.', 'id bài báo', '=', 't3', '.', 'id bài báo', 'join', 'tác giả', 'as', 't2', 'on', 't4', '.', 'id tác giả', '=', 't2', '.', 'id tác giả', 'where', 't2', '.', 'tên', '=', 'value', 'group', 'by', 't1', '.', 'từ khoá', 'having', 'count', '(', 'distinct', 't3', '.', 'tiêu đề', ')', '>', 'value']",
         "liệt kê các từ khoá được nhắc đến trong hơn 10 bài báo của ' H . V. Jagadish ' .",
         "['liệt', 'kê', 'các', 'từ', 'khoá', 'được', 'nhắc', 'đến', 'trong', 'hơn', '10', 'bài', 'báo', 'của', \"'\", 'H', '.', 'V.', 'Jagadish', \"'\", '.']",
         "{'except': None, 'from': {'conds': [[False, 2, [0, [0, 38, False], None], [0, 20, False], None]], 'table_units': [['table_unit', 12], ['table_unit', 7]]}, 'groupBy': [[0, 19, False]], 'having': [[False, 3, [0, [3, 29, True], None], 10.0, None]], 'intersect': None, 'limit': None, 'orderBy': [], 'select': [False, [[0, [0, [0, 19, False], None]]]], 'union': None, 'where': [[False, 2, [0, [0, 3, False], None], '\"H. V. Jagadish\"', None]]}"
        ],
        [
         "12713",
         "academic",
         "select t2.tên from bài báo as t4 join tạp_chí as t2 on t4.id tạp_chí = t2.id tạp_chí join viết as t3 on t3.id bài báo = t4.id bài báo join tác_giả as t1 on t3.id tác_giả = t1.id tác_giả where t1.tên = \"H. V. Jagadish\" group by t2.tên having count ( distinct t4.tiêu_đề ) > 10",
         "['select', 't2.tên', 'from', 'bài báo', 'as', 't4', 'join', 'tạp_chí', 'as', 't2', 'on', 't4.id tạp_chí', '=', 't2.id tạp_chí', 'join', 'viết', 'as', 't3', 'on', 't3.id bài báo', '=', 't4.id bài báo', 'join', 'tác_giả', 'as', 't1', 'on', 't3.id tác_giả', '=', 't1.id tác_giả', 'where', 't1.tên', '=', '\"H. V. Jagadish\"', 'group', 'by', 't2.tên', 'having', 'count', '(', 'distinct', 't4.tiêu_đề', ')', '>', '10']",
         "['select', 't2', '.', 'tên', 'from', 'bài báo', 'as', 't4', 'join', 'tạp_chí', 'as', 't2', 'on', 't4', '.', 'id tạp_chí', '=', 't2', '.', 'id tạp_chí', 'join', 'viết', 'as', 't3', 'on', 't3', '.', 'id bài báo', '=', 't4', '.', 'id bài báo', 'join', 'tác_giả', 'as', 't1', 'on', 't3', '.', 'id tác_giả', '=', 't1', '.', 'id tác_giả', 'where', 't1', '.', 'tên', '=', 'value', 'group', 'by', 't2', '.', 'tên', 'having', 'count', '(', 'distinct', 't4', '.', 'tiêu_đề', ')', '>', 'value']",
         "liệt_kê các tạp_chí đã cho đăng nhiều hơn 10 bài báo của tác_giả ' H . V. Jagadish ' .",
         "['liệt_kê', 'các', 'tạp_chí', 'đã', 'cho', 'đăng', 'nhiều', 'hơn', '10', 'bài', 'báo', 'của', 'tác_giả', \"'\", 'H', '.', 'V.', 'Jagadish', \"'\", '.']",
         "{'except': None, 'from': {'conds': [[False, 2, [0, [0, 26, False], None], [0, 15, False], None]], 'table_units': [['table_unit', 9], ['table_unit', 5]]}, 'groupBy': [[0, 16, False]], 'having': [[False, 3, [0, [3, 29, True], None], 10.0, None]], 'intersect': None, 'limit': None, 'orderBy': [], 'select': [False, [[0, [0, [0, 16, False], None]]]], 'union': None, 'where': [[False, 2, [0, [0, 3, False], None], '\"H. V. Jagadish\"', None]]}"
        ],
        [
         "3037",
         "academic",
         "select t1.từ khoá from từ khoá của bài báo as t4 join từ khoá as t1 on t4.id từ khoá = t1.id từ khoá join bài báo as t2 on t2.id bài báo = t4.id bài báo join tạp chí as t3 on t2.id tạp chí = t3.id tạp chí where t3.tên = \"PVLDB\" group by t1.từ khoá having count ( distinct t2.tiêu đề ) > 100",
         "['select', 't1.từ khoá', 'from', 'từ khoá của bài báo', 'as', 't4', 'join', 'từ khoá', 'as', 't1', 'on', 't4.id từ khoá', '=', 't1.id từ khoá', 'join', 'bài báo', 'as', 't2', 'on', 't2.id bài báo', '=', 't4.id bài báo', 'join', 'tạp chí', 'as', 't3', 'on', 't2.id tạp chí', '=', 't3.id tạp chí', 'where', 't3.tên', '=', '\"PVLDB\"', 'group', 'by', 't1.từ khoá', 'having', 'count', '(', 'distinct', 't2.tiêu đề', ')', '>', '100']",
         "['select', 't1', '.', 'từ khoá', 'from', 'từ khoá của bài báo', 'as', 't4', 'join', 'từ khoá', 'as', 't1', 'on', 't4', '.', 'id từ khoá', '=', 't1', '.', 'id từ khoá', 'join', 'bài báo', 'as', 't2', 'on', 't2', '.', 'id bài báo', '=', 't4', '.', 'id bài báo', 'join', 'tạp chí', 'as', 't3', 'on', 't2', '.', 'id tạp chí', '=', 't3', '.', 'id tạp chí', 'where', 't3', '.', 'tên', '=', 'value', 'group', 'by', 't1', '.', 'từ khoá', 'having', 'count', '(', 'distinct', 't2', '.', 'tiêu đề', ')', '>', 'value']",
         "những từ khoá nào đã được nhắc đến bởi nhiều hơn 100 bài báo tại hội nghị PVLDB ?",
         "['những', 'từ', 'khoá', 'nào', 'đã', 'được', 'nhắc', 'đến', 'bởi', 'nhiều', 'hơn', '100', 'bài', 'báo', 'tại', 'hội', 'nghị', 'PVLDB', '?']",
         "{'except': None, 'from': {'conds': [[False, 2, [0, [0, 38, False], None], [0, 20, False], None]], 'table_units': [['table_unit', 12], ['table_unit', 7]]}, 'groupBy': [[0, 19, False]], 'having': [[False, 3, [0, [3, 29, True], None], 100.0, None]], 'intersect': None, 'limit': None, 'orderBy': [], 'select': [False, [[0, [0, [0, 19, False], None]]]], 'union': None, 'where': [[False, 2, [0, [0, 16, False], None], '\"PVLDB\"', None]]}"
        ],
        [
         "3035",
         "academic",
         "select t3.tên from từ khoá của bài báo as t4 join từ khoá as t1 on t4.id từ khoá = t1.id từ khoá join bài báo as t2 on t2.id bài báo = t4.id bài báo join tạp chí as t3 on t2.id tạp chí = t3.id tạp chí where t1.từ khoá = \"Relational Database\" group by t3.tên having count ( distinct t2.tiêu đề ) > 60",
         "['select', 't3.tên', 'from', 'từ khoá của bài báo', 'as', 't4', 'join', 'từ khoá', 'as', 't1', 'on', 't4.id từ khoá', '=', 't1.id từ khoá', 'join', 'bài báo', 'as', 't2', 'on', 't2.id bài báo', '=', 't4.id bài báo', 'join', 'tạp chí', 'as', 't3', 'on', 't2.id tạp chí', '=', 't3.id tạp chí', 'where', 't1.từ khoá', '=', '\"Relational Database\"', 'group', 'by', 't3.tên', 'having', 'count', '(', 'distinct', 't2.tiêu đề', ')', '>', '60']",
         "['select', 't3', '.', 'tên', 'from', 'từ khoá của bài báo', 'as', 't4', 'join', 'từ khoá', 'as', 't1', 'on', 't4', '.', 'id từ khoá', '=', 't1', '.', 'id từ khoá', 'join', 'bài báo', 'as', 't2', 'on', 't2', '.', 'id bài báo', '=', 't4', '.', 'id bài báo', 'join', 'tạp chí', 'as', 't3', 'on', 't2', '.', 'id tạp chí', '=', 't3', '.', 'id tạp chí', 'where', 't1', '.', 'từ khoá', '=', 'value', 'group', 'by', 't3', '.', 'tên', 'having', 'count', '(', 'distinct', 't2', '.', 'tiêu đề', ')', '>', 'value']",
         "liệt kê các tạp chí có nhiều hơn 60 bài báo với từ khoá ' Cơ sở dữ liệu quan hệ ' .",
         "['liệt', 'kê', 'các', 'tạp', 'chí', 'có', 'nhiều', 'hơn', '60', 'bài', 'báo', 'với', 'từ', 'khoá', \"'\", 'Cơ', 'sở', 'dữ', 'liệu', 'quan', 'hệ', \"'\", '.']",
         "{'except': None, 'from': {'conds': [[False, 2, [0, [0, 38, False], None], [0, 20, False], None]], 'table_units': [['table_unit', 12], ['table_unit', 7]]}, 'groupBy': [[0, 16, False]], 'having': [[False, 3, [0, [3, 29, True], None], 60.0, None]], 'intersect': None, 'limit': None, 'orderBy': [], 'select': [False, [[0, [0, [0, 16, False], None]]]], 'union': None, 'where': [[False, 2, [0, [0, 19, False], None], '\"Relational Database\"', None]]}"
        ],
        [
         "3008",
         "academic",
         "select t2.tên from từ khoá của bài báo as t4 join từ khoá as t1 on t4.id từ khoá = t1.id từ khoá join bài báo as t3 on t3.id bài báo = t4.id bài báo join hội nghị as t2 on t3.id hội nghị = t2.id hội nghị where t1.từ khoá = \"Relational Database\" group by t2.tên order by count ( distinct t3.tiêu đề ) desc limit 1",
         "['select', 't2.tên', 'from', 'từ khoá của bài báo', 'as', 't4', 'join', 'từ khoá', 'as', 't1', 'on', 't4.id từ khoá', '=', 't1.id từ khoá', 'join', 'bài báo', 'as', 't3', 'on', 't3.id bài báo', '=', 't4.id bài báo', 'join', 'hội nghị', 'as', 't2', 'on', 't3.id hội nghị', '=', 't2.id hội nghị', 'where', 't1.từ khoá', '=', '\"Relational Database\"', 'group', 'by', 't2.tên', 'order', 'by', 'count', '(', 'distinct', 't3.tiêu đề', ')', 'desc', 'limit', '1']",
         "['select', 't2', '.', 'tên', 'from', 'từ khoá của bài báo', 'as', 't4', 'join', 'từ khoá', 'as', 't1', 'on', 't4', '.', 'id từ khoá', '=', 't1', '.', 'id từ khoá', 'join', 'bài báo', 'as', 't3', 'on', 't3', '.', 'id bài báo', '=', 't4', '.', 'id bài báo', 'join', 'hội nghị', 'as', 't2', 'on', 't3', '.', 'id hội nghị', '=', 't2', '.', 'id hội nghị', 'where', 't1', '.', 'từ khoá', '=', 'value', 'group', 'by', 't2', '.', 'tên', 'order', 'by', 'count', '(', 'distinct', 't3', '.', 'tiêu đề', ')', 'desc', 'limit', 'value']",
         "hội nghị nào có nhiều bài báo với từ khoá ' Cơ sở dữ liệu quan hệ ' nhất ?",
         "['hội', 'nghị', 'nào', 'có', 'nhiều', 'bài', 'báo', 'với', 'từ', 'khoá', \"'\", 'Cơ', 'sở', 'dữ', 'liệu', 'quan', 'hệ', \"'\", 'nhất', '?']",
         "{'except': None, 'from': {'conds': [[False, 2, [0, [0, 38, False], None], [0, 20, False], None]], 'table_units': [['table_unit', 12], ['table_unit', 7]]}, 'groupBy': [[0, 7, False]], 'having': [], 'intersect': None, 'limit': 1, 'orderBy': ['desc', [[0, [3, 29, True], None]]], 'select': [False, [[0, [0, [0, 7, False], None]]]], 'union': None, 'where': [[False, 2, [0, [0, 19, False], None], '\"Relational Database\"', None]]}"
        ],
        [
         "3009",
         "academic",
         "select t2.tên from từ khoá của bài báo as t4 join từ khoá as t1 on t4.id từ khoá = t1.id từ khoá join bài báo as t3 on t3.id bài báo = t4.id bài báo join hội nghị as t2 on t3.id hội nghị = t2.id hội nghị where t1.từ khoá = \"Relational Database\" group by t2.tên order by count ( distinct t3.tiêu đề ) desc limit 1",
         "['select', 't2.tên', 'from', 'từ khoá của bài báo', 'as', 't4', 'join', 'từ khoá', 'as', 't1', 'on', 't4.id từ khoá', '=', 't1.id từ khoá', 'join', 'bài báo', 'as', 't3', 'on', 't3.id bài báo', '=', 't4.id bài báo', 'join', 'hội nghị', 'as', 't2', 'on', 't3.id hội nghị', '=', 't2.id hội nghị', 'where', 't1.từ khoá', '=', '\"Relational Database\"', 'group', 'by', 't2.tên', 'order', 'by', 'count', '(', 'distinct', 't3.tiêu đề', ')', 'desc', 'limit', '1']",
         "['select', 't2', '.', 'tên', 'from', 'từ khoá của bài báo', 'as', 't4', 'join', 'từ khoá', 'as', 't1', 'on', 't4', '.', 'id từ khoá', '=', 't1', '.', 'id từ khoá', 'join', 'bài báo', 'as', 't3', 'on', 't3', '.', 'id bài báo', '=', 't4', '.', 'id bài báo', 'join', 'hội nghị', 'as', 't2', 'on', 't3', '.', 'id hội nghị', '=', 't2', '.', 'id hội nghị', 'where', 't1', '.', 'từ khoá', '=', 'value', 'group', 'by', 't2', '.', 'tên', 'order', 'by', 'count', '(', 'distinct', 't3', '.', 'tiêu đề', ')', 'desc', 'limit', 'value']",
         "hội nghị có nhiều bài báo sử dụng từ khoá ' Cơ sở dữ liệu quan hệ ' nhất là hội nghị nào ?",
         "['hội', 'nghị', 'có', 'nhiều', 'bài', 'báo', 'sử', 'dụng', 'từ', 'khoá', \"'\", 'Cơ', 'sở', 'dữ', 'liệu', 'quan', 'hệ', \"'\", 'nhất', 'là', 'hội', 'nghị', 'nào', '?']",
         "{'except': None, 'from': {'conds': [[False, 2, [0, [0, 38, False], None], [0, 20, False], None]], 'table_units': [['table_unit', 12], ['table_unit', 7]]}, 'groupBy': [[0, 7, False]], 'having': [], 'intersect': None, 'limit': 1, 'orderBy': ['desc', [[0, [3, 29, True], None]]], 'select': [False, [[0, [0, [0, 7, False], None]]]], 'union': None, 'where': [[False, 2, [0, [0, 19, False], None], '\"Relational Database\"', None]]}"
        ],
        [
         "3010",
         "academic",
         "select t3.tên from từ khoá của bài báo as t4 join từ khoá as t1 on t4.id từ khoá = t1.id từ khoá join bài báo as t2 on t2.id bài báo = t4.id bài báo join tạp chí as t3 on t2.id tạp chí = t3.id tạp chí where t1.từ khoá = \"Relational Database\" group by t3.tên order by count ( distinct t2.tiêu đề ) desc limit 1",
         "['select', 't3.tên', 'from', 'từ khoá của bài báo', 'as', 't4', 'join', 'từ khoá', 'as', 't1', 'on', 't4.id từ khoá', '=', 't1.id từ khoá', 'join', 'bài báo', 'as', 't2', 'on', 't2.id bài báo', '=', 't4.id bài báo', 'join', 'tạp chí', 'as', 't3', 'on', 't2.id tạp chí', '=', 't3.id tạp chí', 'where', 't1.từ khoá', '=', '\"Relational Database\"', 'group', 'by', 't3.tên', 'order', 'by', 'count', '(', 'distinct', 't2.tiêu đề', ')', 'desc', 'limit', '1']",
         "['select', 't3', '.', 'tên', 'from', 'từ khoá của bài báo', 'as', 't4', 'join', 'từ khoá', 'as', 't1', 'on', 't4', '.', 'id từ khoá', '=', 't1', '.', 'id từ khoá', 'join', 'bài báo', 'as', 't2', 'on', 't2', '.', 'id bài báo', '=', 't4', '.', 'id bài báo', 'join', 'tạp chí', 'as', 't3', 'on', 't2', '.', 'id tạp chí', '=', 't3', '.', 'id tạp chí', 'where', 't1', '.', 'từ khoá', '=', 'value', 'group', 'by', 't3', '.', 'tên', 'order', 'by', 'count', '(', 'distinct', 't2', '.', 'tiêu đề', ')', 'desc', 'limit', 'value']",
         "cho biết tạp chí đã cho đăng nhiều bài báo với từ khoá ' Cơ sở dữ liệu quan hệ ' nhất .",
         "['cho', 'biết', 'tạp', 'chí', 'đã', 'cho', 'đăng', 'nhiều', 'bài', 'báo', 'với', 'từ', 'khoá', \"'\", 'Cơ', 'sở', 'dữ', 'liệu', 'quan', 'hệ', \"'\", 'nhất', '.']",
         "{'except': None, 'from': {'conds': [[False, 2, [0, [0, 38, False], None], [0, 20, False], None]], 'table_units': [['table_unit', 12], ['table_unit', 7]]}, 'groupBy': [[0, 16, False]], 'having': [], 'intersect': None, 'limit': 1, 'orderBy': ['desc', [[0, [3, 29, True], None]]], 'select': [False, [[0, [0, [0, 16, False], None]]]], 'union': None, 'where': [[False, 2, [0, [0, 19, False], None], '\"Relational Database\"', None]]}"
        ],
        [
         "3011",
         "academic",
         "select t3.tên from từ khoá của bài báo as t4 join từ khoá as t1 on t4.id từ khoá = t1.id từ khoá join bài báo as t2 on t2.id bài báo = t4.id bài báo join tạp chí as t3 on t2.id tạp chí = t3.id tạp chí where t1.từ khoá = \"Relational Database\" group by t3.tên order by count ( distinct t2.tiêu đề ) desc limit 1",
         "['select', 't3.tên', 'from', 'từ khoá của bài báo', 'as', 't4', 'join', 'từ khoá', 'as', 't1', 'on', 't4.id từ khoá', '=', 't1.id từ khoá', 'join', 'bài báo', 'as', 't2', 'on', 't2.id bài báo', '=', 't4.id bài báo', 'join', 'tạp chí', 'as', 't3', 'on', 't2.id tạp chí', '=', 't3.id tạp chí', 'where', 't1.từ khoá', '=', '\"Relational Database\"', 'group', 'by', 't3.tên', 'order', 'by', 'count', '(', 'distinct', 't2.tiêu đề', ')', 'desc', 'limit', '1']",
         "['select', 't3', '.', 'tên', 'from', 'từ khoá của bài báo', 'as', 't4', 'join', 'từ khoá', 'as', 't1', 'on', 't4', '.', 'id từ khoá', '=', 't1', '.', 'id từ khoá', 'join', 'bài báo', 'as', 't2', 'on', 't2', '.', 'id bài báo', '=', 't4', '.', 'id bài báo', 'join', 'tạp chí', 'as', 't3', 'on', 't2', '.', 'id tạp chí', '=', 't3', '.', 'id tạp chí', 'where', 't1', '.', 'từ khoá', '=', 'value', 'group', 'by', 't3', '.', 'tên', 'order', 'by', 'count', '(', 'distinct', 't2', '.', 'tiêu đề', ')', 'desc', 'limit', 'value']",
         "tạp chí nào có nhiều bài báo với từ khoá ' Cơ sở dữ liệu quan hệ ' nhất ?",
         "['tạp', 'chí', 'nào', 'có', 'nhiều', 'bài', 'báo', 'với', 'từ', 'khoá', \"'\", 'Cơ', 'sở', 'dữ', 'liệu', 'quan', 'hệ', \"'\", 'nhất', '?']",
         "{'except': None, 'from': {'conds': [[False, 2, [0, [0, 38, False], None], [0, 20, False], None]], 'table_units': [['table_unit', 12], ['table_unit', 7]]}, 'groupBy': [[0, 16, False]], 'having': [], 'intersect': None, 'limit': 1, 'orderBy': ['desc', [[0, [3, 29, True], None]]], 'select': [False, [[0, [0, [0, 16, False], None]]]], 'union': None, 'where': [[False, 2, [0, [0, 19, False], None], '\"Relational Database\"', None]]}"
        ],
        [
         "3012",
         "academic",
         "select t1.từ khoá from từ khoá của bài báo as t4 join từ khoá as t1 on t4.id từ khoá = t1.id từ khoá join bài báo as t3 on t3.id bài báo = t4.id bài báo join hội nghị as t2 on t3.id hội nghị = t2.id hội nghị where t2.tên = \"VLDB\" group by t1.từ khoá order by count ( distinct t3.tiêu đề ) desc limit 1",
         "['select', 't1.từ khoá', 'from', 'từ khoá của bài báo', 'as', 't4', 'join', 'từ khoá', 'as', 't1', 'on', 't4.id từ khoá', '=', 't1.id từ khoá', 'join', 'bài báo', 'as', 't3', 'on', 't3.id bài báo', '=', 't4.id bài báo', 'join', 'hội nghị', 'as', 't2', 'on', 't3.id hội nghị', '=', 't2.id hội nghị', 'where', 't2.tên', '=', '\"VLDB\"', 'group', 'by', 't1.từ khoá', 'order', 'by', 'count', '(', 'distinct', 't3.tiêu đề', ')', 'desc', 'limit', '1']",
         "['select', 't1', '.', 'từ khoá', 'from', 'từ khoá của bài báo', 'as', 't4', 'join', 'từ khoá', 'as', 't1', 'on', 't4', '.', 'id từ khoá', '=', 't1', '.', 'id từ khoá', 'join', 'bài báo', 'as', 't3', 'on', 't3', '.', 'id bài báo', '=', 't4', '.', 'id bài báo', 'join', 'hội nghị', 'as', 't2', 'on', 't3', '.', 'id hội nghị', '=', 't2', '.', 'id hội nghị', 'where', 't2', '.', 'tên', '=', 'value', 'group', 'by', 't1', '.', 'từ khoá', 'order', 'by', 'count', '(', 'distinct', 't3', '.', 'tiêu đề', ')', 'desc', 'limit', 'value']",
         "từ khoá nào được nhắc đến nhiều nhất trong các bài báo thuộc hội nghị VLDB ?",
         "['từ', 'khoá', 'nào', 'được', 'nhắc', 'đến', 'nhiều', 'nhất', 'trong', 'các', 'bài', 'báo', 'thuộc', 'hội', 'nghị', 'VLDB', '?']",
         "{'except': None, 'from': {'conds': [[False, 2, [0, [0, 38, False], None], [0, 20, False], None]], 'table_units': [['table_unit', 12], ['table_unit', 7]]}, 'groupBy': [[0, 19, False]], 'having': [], 'intersect': None, 'limit': 1, 'orderBy': ['desc', [[0, [3, 29, True], None]]], 'select': [False, [[0, [0, [0, 19, False], None]]]], 'union': None, 'where': [[False, 2, [0, [0, 7, False], None], '\"VLDB\"', None]]}"
        ],
        [
         "3013",
         "academic",
         "select t1.từ khoá from từ khoá của bài báo as t4 join từ khoá as t1 on t4.id từ khoá = t1.id từ khoá join bài báo as t2 on t2.id bài báo = t4.id bài báo join tạp chí as t3 on t2.id tạp chí = t3.id tạp chí where t3.tên = \"PVLDB\" group by t1.từ khoá order by count ( distinct t2.tiêu đề ) desc limit 1",
         "['select', 't1.từ khoá', 'from', 'từ khoá của bài báo', 'as', 't4', 'join', 'từ khoá', 'as', 't1', 'on', 't4.id từ khoá', '=', 't1.id từ khoá', 'join', 'bài báo', 'as', 't2', 'on', 't2.id bài báo', '=', 't4.id bài báo', 'join', 'tạp chí', 'as', 't3', 'on', 't2.id tạp chí', '=', 't3.id tạp chí', 'where', 't3.tên', '=', '\"PVLDB\"', 'group', 'by', 't1.từ khoá', 'order', 'by', 'count', '(', 'distinct', 't2.tiêu đề', ')', 'desc', 'limit', '1']",
         "['select', 't1', '.', 'từ khoá', 'from', 'từ khoá của bài báo', 'as', 't4', 'join', 'từ khoá', 'as', 't1', 'on', 't4', '.', 'id từ khoá', '=', 't1', '.', 'id từ khoá', 'join', 'bài báo', 'as', 't2', 'on', 't2', '.', 'id bài báo', '=', 't4', '.', 'id bài báo', 'join', 'tạp chí', 'as', 't3', 'on', 't2', '.', 'id tạp chí', '=', 't3', '.', 'id tạp chí', 'where', 't3', '.', 'tên', '=', 'value', 'group', 'by', 't1', '.', 'từ khoá', 'order', 'by', 'count', '(', 'distinct', 't2', '.', 'tiêu đề', ')', 'desc', 'limit', 'value']",
         "từ khoá nào được sử dụng nhiều nhất trong số các bài báo của hội nghị PVLDB ?",
         "['từ', 'khoá', 'nào', 'được', 'sử', 'dụng', 'nhiều', 'nhất', 'trong', 'số', 'các', 'bài', 'báo', 'của', 'hội', 'nghị', 'PVLDB', '?']",
         "{'except': None, 'from': {'conds': [[False, 2, [0, [0, 38, False], None], [0, 20, False], None]], 'table_units': [['table_unit', 12], ['table_unit', 7]]}, 'groupBy': [[0, 19, False]], 'having': [], 'intersect': None, 'limit': 1, 'orderBy': ['desc', [[0, [3, 29, True], None]]], 'select': [False, [[0, [0, [0, 19, False], None]]]], 'union': None, 'where': [[False, 2, [0, [0, 16, False], None], '\"PVLDB\"', None]]}"
        ],
        [
         "3014",
         "academic",
         "select t1.từ khoá from từ khoá của bài báo as t5 join từ khoá as t1 on t5.id từ khoá = t1.id từ khoá join bài báo as t3 on t3.id bài báo = t5.id bài báo join viết as t4 on t4.id bài báo = t3.id bài báo join tác giả as t2 on t4.id tác giả = t2.id tác giả where t2.tên = \"H. V. Jagadish\" group by t1.từ khoá order by count ( distinct t3.tiêu đề ) desc limit 1",
         "['select', 't1.từ khoá', 'from', 'từ khoá của bài báo', 'as', 't5', 'join', 'từ khoá', 'as', 't1', 'on', 't5.id từ khoá', '=', 't1.id từ khoá', 'join', 'bài báo', 'as', 't3', 'on', 't3.id bài báo', '=', 't5.id bài báo', 'join', 'viết', 'as', 't4', 'on', 't4.id bài báo', '=', 't3.id bài báo', 'join', 'tác giả', 'as', 't2', 'on', 't4.id tác giả', '=', 't2.id tác giả', 'where', 't2.tên', '=', '\"H. V. Jagadish\"', 'group', 'by', 't1.từ khoá', 'order', 'by', 'count', '(', 'distinct', 't3.tiêu đề', ')', 'desc', 'limit', '1']",
         "['select', 't1', '.', 'từ khoá', 'from', 'từ khoá của bài báo', 'as', 't5', 'join', 'từ khoá', 'as', 't1', 'on', 't5', '.', 'id từ khoá', '=', 't1', '.', 'id từ khoá', 'join', 'bài báo', 'as', 't3', 'on', 't3', '.', 'id bài báo', '=', 't5', '.', 'id bài báo', 'join', 'viết', 'as', 't4', 'on', 't4', '.', 'id bài báo', '=', 't3', '.', 'id bài báo', 'join', 'tác giả', 'as', 't2', 'on', 't4', '.', 'id tác giả', '=', 't2', '.', 'id tác giả', 'where', 't2', '.', 'tên', '=', 'value', 'group', 'by', 't1', '.', 'từ khoá', 'order', 'by', 'count', '(', 'distinct', 't3', '.', 'tiêu đề', ')', 'desc', 'limit', 'value']",
         "từ khoá nào được sử dụng trong nhiều bài báo của H. V. Jagadish nhất ?",
         "['từ', 'khoá', 'nào', 'được', 'sử', 'dụng', 'trong', 'nhiều', 'bài', 'báo', 'của', 'H.', 'V.', 'Jagadish', 'nhất', '?']",
         "{'except': None, 'from': {'conds': [[False, 2, [0, [0, 38, False], None], [0, 20, False], None]], 'table_units': [['table_unit', 12], ['table_unit', 7]]}, 'groupBy': [[0, 19, False]], 'having': [], 'intersect': None, 'limit': 1, 'orderBy': ['desc', [[0, [3, 29, True], None]]], 'select': [False, [[0, [0, [0, 19, False], None]]]], 'union': None, 'where': [[False, 2, [0, [0, 3, False], None], '\"H. V. Jagadish\"', None]]}"
        ],
        [
         "3015",
         "academic",
         "select t1.tên from tổ chức as t2 join tác giả as t1 on t2.id tổ chức = t1.id tổ chức join viết as t3 on t3.id tác giả = t1.id tác giả join bài báo as t4 on t3.id bài báo = t4.id bài báo where t2.tên = \"University of Michigan\" group by t1.tên order by sum ( t4.số lượng trích dẫn ) desc limit 1",
         "['select', 't1.tên', 'from', 'tổ chức', 'as', 't2', 'join', 'tác giả', 'as', 't1', 'on', 't2.id tổ chức', '=', 't1.id tổ chức', 'join', 'viết', 'as', 't3', 'on', 't3.id tác giả', '=', 't1.id tác giả', 'join', 'bài báo', 'as', 't4', 'on', 't3.id bài báo', '=', 't4.id bài báo', 'where', 't2.tên', '=', '\"University of Michigan\"', 'group', 'by', 't1.tên', 'order', 'by', 'sum', '(', 't4.số lượng trích dẫn', ')', 'desc', 'limit', '1']",
         "['select', 't1', '.', 'tên', 'from', 'tổ chức', 'as', 't2', 'join', 'tác giả', 'as', 't1', 'on', 't2', '.', 'id tổ chức', '=', 't1', '.', 'id tổ chức', 'join', 'viết', 'as', 't3', 'on', 't3', '.', 'id tác giả', '=', 't1', '.', 'id tác giả', 'join', 'bài báo', 'as', 't4', 'on', 't3', '.', 'id bài báo', '=', 't4', '.', 'id bài báo', 'where', 't2', '.', 'tên', '=', 'value', 'group', 'by', 't1', '.', 'tên', 'order', 'by', 'sum', '(', 't4', '.', 'số lượng trích dẫn', ')', 'desc', 'limit', 'value']",
         "tác giả nào thuộc ' Đại học Michigan ' đã xuất bản bài báo với nhiều trích dẫn nhất ?",
         "['tác', 'giả', 'nào', 'thuộc', \"'\", 'Đại', 'học', 'Michigan', \"'\", 'đã', 'xuất', 'bản', 'bài', 'báo', 'với', 'nhiều', 'trích', 'dẫn', 'nhất', '?']",
         "{'except': None, 'from': {'conds': [[False, 2, [0, [0, 36, False], None], [0, 4, False], None]], 'table_units': [['table_unit', 11], ['table_unit', 0]]}, 'groupBy': [[0, 3, False]], 'having': [], 'intersect': None, 'limit': 1, 'orderBy': ['desc', [[0, [4, 25, False], None]]], 'select': [False, [[0, [0, [0, 3, False], None]]]], 'union': None, 'where': [[False, 2, [0, [0, 35, False], None], '\"University of Michigan\"', None]]}"
        ],
        [
         "3016",
         "academic",
         "select t1.tên from lĩnh vực as t4 join lĩnh vực của bài báo as t2 on t4.id lĩnh vực = t2.id lĩnh vực join bài báo as t5 on t5.id bài báo = t2.id bài báo join viết as t3 on t3.id bài báo = t5.id bài báo join tác giả as t1 on t3.id tác giả = t1.id tác giả join tổ chức as t6 on t6.id tổ chức = t1.id tổ chức where t4.tên = \"Databases\" and t6.tên = \"University of Michigan\" group by t1.tên order by sum ( t5.số lượng trích dẫn ) desc limit 1",
         "['select', 't1.tên', 'from', 'lĩnh vực', 'as', 't4', 'join', 'lĩnh vực của bài báo', 'as', 't2', 'on', 't4.id lĩnh vực', '=', 't2.id lĩnh vực', 'join', 'bài báo', 'as', 't5', 'on', 't5.id bài báo', '=', 't2.id bài báo', 'join', 'viết', 'as', 't3', 'on', 't3.id bài báo', '=', 't5.id bài báo', 'join', 'tác giả', 'as', 't1', 'on', 't3.id tác giả', '=', 't1.id tác giả', 'join', 'tổ chức', 'as', 't6', 'on', 't6.id tổ chức', '=', 't1.id tổ chức', 'where', 't4.tên', '=', '\"Databases\"', 'and', 't6.tên', '=', '\"University of Michigan\"', 'group', 'by', 't1.tên', 'order', 'by', 'sum', '(', 't5.số lượng trích dẫn', ')', 'desc', 'limit', '1']",
         "['select', 't1', '.', 'tên', 'from', 'lĩnh vực', 'as', 't4', 'join', 'lĩnh vực của bài báo', 'as', 't2', 'on', 't4', '.', 'id lĩnh vực', '=', 't2', '.', 'id lĩnh vực', 'join', 'bài báo', 'as', 't5', 'on', 't5', '.', 'id bài báo', '=', 't2', '.', 'id bài báo', 'join', 'viết', 'as', 't3', 'on', 't3', '.', 'id bài báo', '=', 't5', '.', 'id bài báo', 'join', 'tác giả', 'as', 't1', 'on', 't3', '.', 'id tác giả', '=', 't1', '.', 'id tác giả', 'join', 'tổ chức', 'as', 't6', 'on', 't6', '.', 'id tổ chức', '=', 't1', '.', 'id tổ chức', 'where', 't4', '.', 'tên', '=', 'value', 'and', 't6', '.', 'tên', '=', 'value', 'group', 'by', 't1', '.', 'tên', 'order', 'by', 'sum', '(', 't5', '.', 'số lượng trích dẫn', ')', 'desc', 'limit', 'value']",
         "tác giả nào thuộc ' Đại học Michigan ' đã xuất bản bài báo nhận nhiều trích dẫn nhất trong lĩnh vực ' Cơ sở dữ liệu ' ?",
         "['tác', 'giả', 'nào', 'thuộc', \"'\", 'Đại', 'học', 'Michigan', \"'\", 'đã', 'xuất', 'bản', 'bài', 'báo', 'nhận', 'nhiều', 'trích', 'dẫn', 'nhất', 'trong', 'lĩnh', 'vực', \"'\", 'Cơ', 'sở', 'dữ', 'liệu', \"'\", '?']",
         "{'except': None, 'from': {'conds': [[False, 2, [0, [0, 8, False], None], [0, 31, False], None]], 'table_units': [['table_unit', 2], ['table_unit', 10]]}, 'groupBy': [[0, 3, False]], 'having': [], 'intersect': None, 'limit': 1, 'orderBy': ['desc', [[0, [4, 25, False], None]]], 'select': [False, [[0, [0, [0, 3, False], None]]]], 'union': None, 'where': [[False, 2, [0, [0, 9, False], None], '\"Databases\"', None], 'and', [False, 2, [0, [0, 35, False], None], '\"University of Michigan\"', None]]}"
        ],
        [
         "3017",
         "academic",
         "select t5.tiêu đề from viết as t3 join tác giả as t2 on t3.id tác giả = t2.id tác giả join bài báo as t5 on t3.id bài báo = t5.id bài báo join viết as t4 on t4.id bài báo = t5.id bài báo join tác giả as t1 on t4.id tác giả = t1.id tác giả where t2.tên = \"Divesh Srivastava\" and t1.tên = \"H. V. Jagadish\" order by t5.số lượng trích dẫn desc limit 1",
         "['select', 't5.tiêu đề', 'from', 'viết', 'as', 't3', 'join', 'tác giả', 'as', 't2', 'on', 't3.id tác giả', '=', 't2.id tác giả', 'join', 'bài báo', 'as', 't5', 'on', 't3.id bài báo', '=', 't5.id bài báo', 'join', 'viết', 'as', 't4', 'on', 't4.id bài báo', '=', 't5.id bài báo', 'join', 'tác giả', 'as', 't1', 'on', 't4.id tác giả', '=', 't1.id tác giả', 'where', 't2.tên', '=', '\"Divesh Srivastava\"', 'and', 't1.tên', '=', '\"H. V. Jagadish\"', 'order', 'by', 't5.số lượng trích dẫn', 'desc', 'limit', '1']",
         "['select', 't5', '.', 'tiêu đề', 'from', 'viết', 'as', 't3', 'join', 'tác giả', 'as', 't2', 'on', 't3', '.', 'id tác giả', '=', 't2', '.', 'id tác giả', 'join', 'bài báo', 'as', 't5', 'on', 't3', '.', 'id bài báo', '=', 't5', '.', 'id bài báo', 'join', 'viết', 'as', 't4', 'on', 't4', '.', 'id bài báo', '=', 't5', '.', 'id bài báo', 'join', 'tác giả', 'as', 't1', 'on', 't4', '.', 'id tác giả', '=', 't1', '.', 'id tác giả', 'where', 't2', '.', 'tên', '=', 'value', 'and', 't1', '.', 'tên', '=', 'value', 'order', 'by', 't5', '.', 'số lượng trích dẫn', 'desc', 'limit', 'value']",
         "bài báo có nhiều trích dẫn nhất được viết bởi ' H . V. Jagadish ' và ' Divesh Srivastava ' là bài báo nào ?",
         "['bài', 'báo', 'có', 'nhiều', 'trích', 'dẫn', 'nhất', 'được', 'viết', 'bởi', \"'\", 'H', '.', 'V.', 'Jagadish', \"'\", 'và', \"'\", 'Divesh', 'Srivastava', \"'\", 'là', 'bài', 'báo', 'nào', '?']",
         "{'except': None, 'from': {'conds': [[False, 2, [0, [0, 39, False], None], [0, 1, False], None]], 'table_units': [['table_unit', 13], ['table_unit', 0]]}, 'groupBy': [], 'having': [], 'intersect': None, 'limit': 1, 'orderBy': ['desc', [[0, [0, 25, False], None]]], 'select': [False, [[0, [0, [0, 29, False], None]]]], 'union': None, 'where': [[False, 2, [0, [0, 3, False], None], '\"Divesh Srivastava\"', None], 'and', [False, 2, [0, [0, 3, False], None], '\"H. V. Jagadish\"', None]]}"
        ],
        [
         "3018",
         "academic",
         "select t2.tên from bài báo as t4 join hội nghị as t2 on t4.id hội nghị = t2.id hội nghị join viết as t3 on t3.id bài báo = t4.id bài báo join tác giả as t1 on t3.id tác giả = t1.id tác giả where t1.tên = \"H. V. Jagadish\" group by t2.tên having count ( distinct t4.tiêu đề ) > 10",
         "['select', 't2.tên', 'from', 'bài báo', 'as', 't4', 'join', 'hội nghị', 'as', 't2', 'on', 't4.id hội nghị', '=', 't2.id hội nghị', 'join', 'viết', 'as', 't3', 'on', 't3.id bài báo', '=', 't4.id bài báo', 'join', 'tác giả', 'as', 't1', 'on', 't3.id tác giả', '=', 't1.id tác giả', 'where', 't1.tên', '=', '\"H. V. Jagadish\"', 'group', 'by', 't2.tên', 'having', 'count', '(', 'distinct', 't4.tiêu đề', ')', '>', '10']",
         "['select', 't2', '.', 'tên', 'from', 'bài báo', 'as', 't4', 'join', 'hội nghị', 'as', 't2', 'on', 't4', '.', 'id hội nghị', '=', 't2', '.', 'id hội nghị', 'join', 'viết', 'as', 't3', 'on', 't3', '.', 'id bài báo', '=', 't4', '.', 'id bài báo', 'join', 'tác giả', 'as', 't1', 'on', 't3', '.', 'id tác giả', '=', 't1', '.', 'id tác giả', 'where', 't1', '.', 'tên', '=', 'value', 'group', 'by', 't2', '.', 'tên', 'having', 'count', '(', 'distinct', 't4', '.', 'tiêu đề', ')', '>', 'value']",
         "liệt kê các hội nghị đã xuất bản nhiều hơn 10 bài báo của tác giả ' H . V. Jagadish ' .",
         "['liệt', 'kê', 'các', 'hội', 'nghị', 'đã', 'xuất', 'bản', 'nhiều', 'hơn', '10', 'bài', 'báo', 'của', 'tác', 'giả', \"'\", 'H', '.', 'V.', 'Jagadish', \"'\", '.']",
         "{'except': None, 'from': {'conds': [[False, 2, [0, [0, 24, False], None], [0, 5, False], None]], 'table_units': [['table_unit', 9], ['table_unit', 1]]}, 'groupBy': [[0, 7, False]], 'having': [[False, 3, [0, [3, 29, True], None], 10.0, None]], 'intersect': None, 'limit': None, 'orderBy': [], 'select': [False, [[0, [0, [0, 7, False], None]]]], 'union': None, 'where': [[False, 2, [0, [0, 3, False], None], '\"H. V. Jagadish\"', None]]}"
        ],
        [
         "3019",
         "academic",
         "select t2.tên from bài báo as t4 join hội nghị as t2 on t4.id hội nghị = t2.id hội nghị join viết as t3 on t3.id bài báo = t4.id bài báo join tác giả as t1 on t3.id tác giả = t1.id tác giả where t1.tên = \"H. V. Jagadish\" group by t2.tên order by count ( distinct t4.tiêu đề ) desc limit 1",
         "['select', 't2.tên', 'from', 'bài báo', 'as', 't4', 'join', 'hội nghị', 'as', 't2', 'on', 't4.id hội nghị', '=', 't2.id hội nghị', 'join', 'viết', 'as', 't3', 'on', 't3.id bài báo', '=', 't4.id bài báo', 'join', 'tác giả', 'as', 't1', 'on', 't3.id tác giả', '=', 't1.id tác giả', 'where', 't1.tên', '=', '\"H. V. Jagadish\"', 'group', 'by', 't2.tên', 'order', 'by', 'count', '(', 'distinct', 't4.tiêu đề', ')', 'desc', 'limit', '1']",
         "['select', 't2', '.', 'tên', 'from', 'bài báo', 'as', 't4', 'join', 'hội nghị', 'as', 't2', 'on', 't4', '.', 'id hội nghị', '=', 't2', '.', 'id hội nghị', 'join', 'viết', 'as', 't3', 'on', 't3', '.', 'id bài báo', '=', 't4', '.', 'id bài báo', 'join', 'tác giả', 'as', 't1', 'on', 't3', '.', 'id tác giả', '=', 't1', '.', 'id tác giả', 'where', 't1', '.', 'tên', '=', 'value', 'group', 'by', 't2', '.', 'tên', 'order', 'by', 'count', '(', 'distinct', 't4', '.', 'tiêu đề', ')', 'desc', 'limit', 'value']",
         "hội nghị nào đã xuất bản nhiều bài báo của tác giả ' H . V. Jagadish ' nhất ?",
         "['hội', 'nghị', 'nào', 'đã', 'xuất', 'bản', 'nhiều', 'bài', 'báo', 'của', 'tác', 'giả', \"'\", 'H', '.', 'V.', 'Jagadish', \"'\", 'nhất', '?']",
         "{'except': None, 'from': {'conds': [[False, 2, [0, [0, 24, False], None], [0, 5, False], None]], 'table_units': [['table_unit', 9], ['table_unit', 1]]}, 'groupBy': [[0, 7, False]], 'having': [], 'intersect': None, 'limit': 1, 'orderBy': ['desc', [[0, [3, 29, True], None]]], 'select': [False, [[0, [0, [0, 7, False], None]]]], 'union': None, 'where': [[False, 2, [0, [0, 3, False], None], '\"H. V. Jagadish\"', None]]}"
        ],
        [
         "3020",
         "academic",
         "select t2.tên from bài báo as t4 join tạp chí as t2 on t4.id tạp chí = t2.id tạp chí join viết as t3 on t3.id bài báo = t4.id bài báo join tác giả as t1 on t3.id tác giả = t1.id tác giả where t1.tên = \"H. V. Jagadish\" group by t2.tên having count ( distinct t4.tiêu đề ) > 10",
         "['select', 't2.tên', 'from', 'bài báo', 'as', 't4', 'join', 'tạp chí', 'as', 't2', 'on', 't4.id tạp chí', '=', 't2.id tạp chí', 'join', 'viết', 'as', 't3', 'on', 't3.id bài báo', '=', 't4.id bài báo', 'join', 'tác giả', 'as', 't1', 'on', 't3.id tác giả', '=', 't1.id tác giả', 'where', 't1.tên', '=', '\"H. V. Jagadish\"', 'group', 'by', 't2.tên', 'having', 'count', '(', 'distinct', 't4.tiêu đề', ')', '>', '10']",
         "['select', 't2', '.', 'tên', 'from', 'bài báo', 'as', 't4', 'join', 'tạp chí', 'as', 't2', 'on', 't4', '.', 'id tạp chí', '=', 't2', '.', 'id tạp chí', 'join', 'viết', 'as', 't3', 'on', 't3', '.', 'id bài báo', '=', 't4', '.', 'id bài báo', 'join', 'tác giả', 'as', 't1', 'on', 't3', '.', 'id tác giả', '=', 't1', '.', 'id tác giả', 'where', 't1', '.', 'tên', '=', 'value', 'group', 'by', 't2', '.', 'tên', 'having', 'count', '(', 'distinct', 't4', '.', 'tiêu đề', ')', '>', 'value']",
         "liệt kê các tạp chí đã cho đăng nhiều hơn 10 bài báo của tác giả ' H . V. Jagadish ' .",
         "['liệt', 'kê', 'các', 'tạp', 'chí', 'đã', 'cho', 'đăng', 'nhiều', 'hơn', '10', 'bài', 'báo', 'của', 'tác', 'giả', \"'\", 'H', '.', 'V.', 'Jagadish', \"'\", '.']",
         "{'except': None, 'from': {'conds': [[False, 2, [0, [0, 26, False], None], [0, 15, False], None]], 'table_units': [['table_unit', 9], ['table_unit', 5]]}, 'groupBy': [[0, 16, False]], 'having': [[False, 3, [0, [3, 29, True], None], 10.0, None]], 'intersect': None, 'limit': None, 'orderBy': [], 'select': [False, [[0, [0, [0, 16, False], None]]]], 'union': None, 'where': [[False, 2, [0, [0, 3, False], None], '\"H. V. Jagadish\"', None]]}"
        ],
        [
         "3021",
         "academic",
         "select t2.tên from bài báo as t4 join tạp chí as t2 on t4.id tạp chí = t2.id tạp chí join viết as t3 on t3.id bài báo = t4.id bài báo join tác giả as t1 on t3.id tác giả = t1.id tác giả where t1.tên = \"H. V. Jagadish\" group by t2.tên order by count ( distinct t4.tiêu đề ) desc limit 1",
         "['select', 't2.tên', 'from', 'bài báo', 'as', 't4', 'join', 'tạp chí', 'as', 't2', 'on', 't4.id tạp chí', '=', 't2.id tạp chí', 'join', 'viết', 'as', 't3', 'on', 't3.id bài báo', '=', 't4.id bài báo', 'join', 'tác giả', 'as', 't1', 'on', 't3.id tác giả', '=', 't1.id tác giả', 'where', 't1.tên', '=', '\"H. V. Jagadish\"', 'group', 'by', 't2.tên', 'order', 'by', 'count', '(', 'distinct', 't4.tiêu đề', ')', 'desc', 'limit', '1']",
         "['select', 't2', '.', 'tên', 'from', 'bài báo', 'as', 't4', 'join', 'tạp chí', 'as', 't2', 'on', 't4', '.', 'id tạp chí', '=', 't2', '.', 'id tạp chí', 'join', 'viết', 'as', 't3', 'on', 't3', '.', 'id bài báo', '=', 't4', '.', 'id bài báo', 'join', 'tác giả', 'as', 't1', 'on', 't3', '.', 'id tác giả', '=', 't1', '.', 'id tác giả', 'where', 't1', '.', 'tên', '=', 'value', 'group', 'by', 't2', '.', 'tên', 'order', 'by', 'count', '(', 'distinct', 't4', '.', 'tiêu đề', ')', 'desc', 'limit', 'value']",
         "tạp chí nào đã cho đăng nhiều bài báo của tác giả ' H . V. Jagadish ' nhất ?",
         "['tạp', 'chí', 'nào', 'đã', 'cho', 'đăng', 'nhiều', 'bài', 'báo', 'của', 'tác', 'giả', \"'\", 'H', '.', 'V.', 'Jagadish', \"'\", 'nhất', '?']",
         "{'except': None, 'from': {'conds': [[False, 2, [0, [0, 26, False], None], [0, 15, False], None]], 'table_units': [['table_unit', 9], ['table_unit', 5]]}, 'groupBy': [[0, 16, False]], 'having': [], 'intersect': None, 'limit': 1, 'orderBy': ['desc', [[0, [3, 29, True], None]]], 'select': [False, [[0, [0, [0, 16, False], None]]]], 'union': None, 'where': [[False, 2, [0, [0, 3, False], None], '\"H. V. Jagadish\"', None]]}"
        ],
        [
         "3022",
         "academic",
         "select tiêu đề from bài báo order by số lượng trích dẫn desc limit 1",
         "['select', 'tiêu đề', 'from', 'bài báo', 'order', 'by', 'số lượng trích dẫn', 'desc', 'limit', '1']",
         "['select', 'tiêu đề', 'from', 'bài báo', 'order', 'by', 'số lượng trích dẫn', 'desc', 'limit', 'value']",
         "bài báo nào có nhiều trích dẫn nhất ?",
         "['bài', 'báo', 'nào', 'có', 'nhiều', 'trích', 'dẫn', 'nhất', '?']",
         "{'except': None, 'from': {'conds': [], 'table_units': [['table_unit', 9]]}, 'groupBy': [], 'having': [], 'intersect': None, 'limit': 1, 'orderBy': ['desc', [[0, [0, 25, False], None]]], 'select': [False, [[0, [0, [0, 29, False], None]]]], 'union': None, 'where': []}"
        ],
        [
         "3023",
         "academic",
         "select t3.tiêu đề from lĩnh vực as t2 join lĩnh vực của bài báo as t1 on t2.id lĩnh vực = t1.id lĩnh vực join bài báo as t3 on t3.id bài báo = t1.id bài báo where t2.tên = \"Databases\" order by t3.số lượng trích dẫn desc limit 1",
         "['select', 't3.tiêu đề', 'from', 'lĩnh vực', 'as', 't2', 'join', 'lĩnh vực của bài báo', 'as', 't1', 'on', 't2.id lĩnh vực', '=', 't1.id lĩnh vực', 'join', 'bài báo', 'as', 't3', 'on', 't3.id bài báo', '=', 't1.id bài báo', 'where', 't2.tên', '=', '\"Databases\"', 'order', 'by', 't3.số lượng trích dẫn', 'desc', 'limit', '1']",
         "['select', 't3', '.', 'tiêu đề', 'from', 'lĩnh vực', 'as', 't2', 'join', 'lĩnh vực của bài báo', 'as', 't1', 'on', 't2', '.', 'id lĩnh vực', '=', 't1', '.', 'id lĩnh vực', 'join', 'bài báo', 'as', 't3', 'on', 't3', '.', 'id bài báo', '=', 't1', '.', 'id bài báo', 'where', 't2', '.', 'tên', '=', 'value', 'order', 'by', 't3', '.', 'số lượng trích dẫn', 'desc', 'limit', 'value']",
         "cho biết bài báo có nhiều trích dẫn nhất trong lĩnh vực ' Cơ sở dữ liệu ' .",
         "['cho', 'biết', 'bài', 'báo', 'có', 'nhiều', 'trích', 'dẫn', 'nhất', 'trong', 'lĩnh', 'vực', \"'\", 'Cơ', 'sở', 'dữ', 'liệu', \"'\", '.']",
         "{'except': None, 'from': {'conds': [[False, 2, [0, [0, 8, False], None], [0, 31, False], None]], 'table_units': [['table_unit', 2], ['table_unit', 10]]}, 'groupBy': [], 'having': [], 'intersect': None, 'limit': 1, 'orderBy': ['desc', [[0, [0, 25, False], None]]], 'select': [False, [[0, [0, [0, 29, False], None]]]], 'union': None, 'where': [[False, 2, [0, [0, 9, False], None], '\"Databases\"', None]]}"
        ],
        [
         "3024",
         "academic",
         "select t2.tiêu đề from bài báo as t2 join tạp chí as t1 on t2.id tạp chí = t1.id tạp chí where t1.tên = \"PVLDB\" order by t2.số lượng trích dẫn desc limit 1",
         "['select', 't2.tiêu đề', 'from', 'bài báo', 'as', 't2', 'join', 'tạp chí', 'as', 't1', 'on', 't2.id tạp chí', '=', 't1.id tạp chí', 'where', 't1.tên', '=', '\"PVLDB\"', 'order', 'by', 't2.số lượng trích dẫn', 'desc', 'limit', '1']",
         "['select', 't2', '.', 'tiêu đề', 'from', 'bài báo', 'as', 't2', 'join', 'tạp chí', 'as', 't1', 'on', 't2', '.', 'id tạp chí', '=', 't1', '.', 'id tạp chí', 'where', 't1', '.', 'tên', '=', 'value', 'order', 'by', 't2', '.', 'số lượng trích dẫn', 'desc', 'limit', 'value']",
         "bài báo nào nhận được nhiều trích dẫn nhất và được công bố tại hội nghị PVLDB ?",
         "['bài', 'báo', 'nào', 'nhận', 'được', 'nhiều', 'trích', 'dẫn', 'nhất', 'và', 'được', 'công', 'bố', 'tại', 'hội', 'nghị', 'PVLDB', '?']",
         "{'except': None, 'from': {'conds': [[False, 2, [0, [0, 26, False], None], [0, 15, False], None]], 'table_units': [['table_unit', 9], ['table_unit', 5]]}, 'groupBy': [], 'having': [], 'intersect': None, 'limit': 1, 'orderBy': ['desc', [[0, [0, 25, False], None]]], 'select': [False, [[0, [0, [0, 29, False], None]]]], 'union': None, 'where': [[False, 2, [0, [0, 16, False], None], '\"PVLDB\"', None]]}"
        ],
        [
         "3025",
         "academic",
         "select t2.tiêu đề from bài báo as t2 join hội nghị as t1 on t2.id hội nghị = t1.id hội nghị where t1.tên = \"VLDB\" order by t2.số lượng trích dẫn desc limit 1",
         "['select', 't2.tiêu đề', 'from', 'bài báo', 'as', 't2', 'join', 'hội nghị', 'as', 't1', 'on', 't2.id hội nghị', '=', 't1.id hội nghị', 'where', 't1.tên', '=', '\"VLDB\"', 'order', 'by', 't2.số lượng trích dẫn', 'desc', 'limit', '1']",
         "['select', 't2', '.', 'tiêu đề', 'from', 'bài báo', 'as', 't2', 'join', 'hội nghị', 'as', 't1', 'on', 't2', '.', 'id hội nghị', '=', 't1', '.', 'id hội nghị', 'where', 't1', '.', 'tên', '=', 'value', 'order', 'by', 't2', '.', 'số lượng trích dẫn', 'desc', 'limit', 'value']",
         "bài báo nhận được nhiều trích dẫn nhất và được xuất bản tại hội nghị VLDB là bài báo nào ?",
         "['bài', 'báo', 'nhận', 'được', 'nhiều', 'trích', 'dẫn', 'nhất', 'và', 'được', 'xuất', 'bản', 'tại', 'hội', 'nghị', 'VLDB', 'là', 'bài', 'báo', 'nào', '?']",
         "{'except': None, 'from': {'conds': [[False, 2, [0, [0, 24, False], None], [0, 5, False], None]], 'table_units': [['table_unit', 9], ['table_unit', 1]]}, 'groupBy': [], 'having': [], 'intersect': None, 'limit': 1, 'orderBy': ['desc', [[0, [0, 25, False], None]]], 'select': [False, [[0, [0, [0, 29, False], None]]]], 'union': None, 'where': [[False, 2, [0, [0, 7, False], None], '\"VLDB\"', None]]}"
        ]
       ],
       "shape": {
        "columns": 7,
        "rows": 19386
       }
      },
      "text/html": [
       "<div>\n",
       "<style scoped>\n",
       "    .dataframe tbody tr th:only-of-type {\n",
       "        vertical-align: middle;\n",
       "    }\n",
       "\n",
       "    .dataframe tbody tr th {\n",
       "        vertical-align: top;\n",
       "    }\n",
       "\n",
       "    .dataframe thead th {\n",
       "        text-align: right;\n",
       "    }\n",
       "</style>\n",
       "<table border=\"1\" class=\"dataframe\">\n",
       "  <thead>\n",
       "    <tr style=\"text-align: right;\">\n",
       "      <th></th>\n",
       "      <th>db_id</th>\n",
       "      <th>query</th>\n",
       "      <th>query_toks</th>\n",
       "      <th>query_toks_no_value</th>\n",
       "      <th>question</th>\n",
       "      <th>question_toks</th>\n",
       "      <th>sql</th>\n",
       "    </tr>\n",
       "  </thead>\n",
       "  <tbody>\n",
       "    <tr>\n",
       "      <th>2891</th>\n",
       "      <td>academic</td>\n",
       "      <td>select t3.tiêu đề from viết as t2 join tác giả...</td>\n",
       "      <td>[select, t3.tiêu đề, from, viết, as, t2, join,...</td>\n",
       "      <td>[select, t3, ., tiêu đề, from, viết, as, t2, j...</td>\n",
       "      <td>những bài báo nào đã được viết bởi H. V. Jagad...</td>\n",
       "      <td>[những, bài, báo, nào, đã, được, viết, bởi, H....</td>\n",
       "      <td>{'except': None, 'from': {'conds': [[False, 2,...</td>\n",
       "    </tr>\n",
       "    <tr>\n",
       "      <th>3039</th>\n",
       "      <td>academic</td>\n",
       "      <td>select t1.tên from bài báo as t4 join hội nghị...</td>\n",
       "      <td>[select, t1.tên, from, bài báo, as, t4, join, ...</td>\n",
       "      <td>[select, t1, ., tên, from, bài báo, as, t4, jo...</td>\n",
       "      <td>liệt kê các tác giả có hơn 10 bài báo được đăn...</td>\n",
       "      <td>[liệt, kê, các, tác, giả, có, hơn, 10, bài, bá...</td>\n",
       "      <td>{'except': None, 'from': {'conds': [[False, 2,...</td>\n",
       "    </tr>\n",
       "    <tr>\n",
       "      <th>3040</th>\n",
       "      <td>academic</td>\n",
       "      <td>select t1.tên from bài báo as t4 join hội nghị...</td>\n",
       "      <td>[select, t1.tên, from, bài báo, as, t4, join, ...</td>\n",
       "      <td>[select, t1, ., tên, from, bài báo, as, t4, jo...</td>\n",
       "      <td>tác giả nào có nhiều bài báo tại hội nghị VLDB...</td>\n",
       "      <td>[tác, giả, nào, có, nhiều, bài, báo, tại, hội,...</td>\n",
       "      <td>{'except': None, 'from': {'conds': [[False, 2,...</td>\n",
       "    </tr>\n",
       "    <tr>\n",
       "      <th>3041</th>\n",
       "      <td>academic</td>\n",
       "      <td>select t1.tên from tổ chức as t2 join tác giả ...</td>\n",
       "      <td>[select, t1.tên, from, tổ chức, as, t2, join, ...</td>\n",
       "      <td>[select, t1, ., tên, from, tổ chức, as, t2, jo...</td>\n",
       "      <td>những tác giả nào thuộc ' Đại học Michigan ' đ...</td>\n",
       "      <td>[những, tác, giả, nào, thuộc, ', Đại, học, Mic...</td>\n",
       "      <td>{'except': None, 'from': {'conds': [[False, 2,...</td>\n",
       "    </tr>\n",
       "    <tr>\n",
       "      <th>3042</th>\n",
       "      <td>academic</td>\n",
       "      <td>select t1.tên from lĩnh vực của tác giả as t6 ...</td>\n",
       "      <td>[select, t1.tên, from, lĩnh vực của tác giả, a...</td>\n",
       "      <td>[select, t1, ., tên, from, lĩnh vực của tác gi...</td>\n",
       "      <td>liệt kê các tác giả thuộc ' Đại học Michigan '...</td>\n",
       "      <td>[liệt, kê, các, tác, giả, thuộc, ', Đại, học, ...</td>\n",
       "      <td>{'except': None, 'from': {'conds': [[False, 2,...</td>\n",
       "    </tr>\n",
       "    <tr>\n",
       "      <th>...</th>\n",
       "      <td>...</td>\n",
       "      <td>...</td>\n",
       "      <td>...</td>\n",
       "      <td>...</td>\n",
       "      <td>...</td>\n",
       "      <td>...</td>\n",
       "      <td>...</td>\n",
       "    </tr>\n",
       "    <tr>\n",
       "      <th>12536</th>\n",
       "      <td>yelp</td>\n",
       "      <td>select count ( distinct t1.tên ) from loại_hìn...</td>\n",
       "      <td>[select, count, (, distinct, t1.tên, ), from, ...</td>\n",
       "      <td>[select, count, (, distinct, t1, ., tên, ), fr...</td>\n",
       "      <td>có bao_nhiêu doanh_nghiệp có loại_hình kinh_do...</td>\n",
       "      <td>[có, bao_nhiêu, doanh_nghiệp, có, loại_hình, k...</td>\n",
       "      <td>{'except': None, 'from': {'conds': [[False, 2,...</td>\n",
       "    </tr>\n",
       "    <tr>\n",
       "      <th>12535</th>\n",
       "      <td>yelp</td>\n",
       "      <td>select count ( distinct tên ) from người tiêu_...</td>\n",
       "      <td>[select, count, (, distinct, tên, ), from, ngư...</td>\n",
       "      <td>[select, count, (, distinct, tên, ), from, ngư...</td>\n",
       "      <td>cho biết số_lượng người dùng có tên là Michelle .</td>\n",
       "      <td>[cho, biết, số_lượng, người, dùng, có, tên, là...</td>\n",
       "      <td>{'except': None, 'from': {'conds': [], 'table_...</td>\n",
       "    </tr>\n",
       "    <tr>\n",
       "      <th>12554</th>\n",
       "      <td>yelp</td>\n",
       "      <td>select t1.tên from loại_hình as t2 join doanh_...</td>\n",
       "      <td>[select, t1.tên, from, loại_hình, as, t2, join...</td>\n",
       "      <td>[select, t1, ., tên, from, loại_hình, as, t2, ...</td>\n",
       "      <td>doanh_nghiệp nào đang theo nhiều loại_hình kin...</td>\n",
       "      <td>[doanh_nghiệp, nào, đang, theo, nhiều, loại_hì...</td>\n",
       "      <td>{'except': None, 'from': {'conds': [[False, 2,...</td>\n",
       "    </tr>\n",
       "    <tr>\n",
       "      <th>12540</th>\n",
       "      <td>yelp</td>\n",
       "      <td>select count ( distinct văn_bản ) from đánh_gi...</td>\n",
       "      <td>[select, count, (, distinct, văn_bản, ), from,...</td>\n",
       "      <td>[select, count, (, distinct, văn_bản, ), from,...</td>\n",
       "      <td>cho biết số_lượng đánh_giá được viết vào tháng...</td>\n",
       "      <td>[cho, biết, số_lượng, đánh_giá, được, viết, và...</td>\n",
       "      <td>{'except': None, 'from': {'conds': [], 'table_...</td>\n",
       "    </tr>\n",
       "    <tr>\n",
       "      <th>12553</th>\n",
       "      <td>yelp</td>\n",
       "      <td>select t1.tên from đánh_giá as t2 join doanh_n...</td>\n",
       "      <td>[select, t1.tên, from, đánh_giá, as, t2, join,...</td>\n",
       "      <td>[select, t1, ., tên, from, đánh_giá, as, t2, j...</td>\n",
       "      <td>doanh_nghiệp nào nhận được nhiều đánh_giá nhất...</td>\n",
       "      <td>[doanh_nghiệp, nào, nhận, được, nhiều, đánh_gi...</td>\n",
       "      <td>{'except': None, 'from': {'conds': [[False, 2,...</td>\n",
       "    </tr>\n",
       "  </tbody>\n",
       "</table>\n",
       "<p>19386 rows × 7 columns</p>\n",
       "</div>"
      ],
      "text/plain": [
       "          db_id                                              query  \\\n",
       "2891   academic  select t3.tiêu đề from viết as t2 join tác giả...   \n",
       "3039   academic  select t1.tên from bài báo as t4 join hội nghị...   \n",
       "3040   academic  select t1.tên from bài báo as t4 join hội nghị...   \n",
       "3041   academic  select t1.tên from tổ chức as t2 join tác giả ...   \n",
       "3042   academic  select t1.tên from lĩnh vực của tác giả as t6 ...   \n",
       "...         ...                                                ...   \n",
       "12536      yelp  select count ( distinct t1.tên ) from loại_hìn...   \n",
       "12535      yelp  select count ( distinct tên ) from người tiêu_...   \n",
       "12554      yelp  select t1.tên from loại_hình as t2 join doanh_...   \n",
       "12540      yelp  select count ( distinct văn_bản ) from đánh_gi...   \n",
       "12553      yelp  select t1.tên from đánh_giá as t2 join doanh_n...   \n",
       "\n",
       "                                              query_toks  \\\n",
       "2891   [select, t3.tiêu đề, from, viết, as, t2, join,...   \n",
       "3039   [select, t1.tên, from, bài báo, as, t4, join, ...   \n",
       "3040   [select, t1.tên, from, bài báo, as, t4, join, ...   \n",
       "3041   [select, t1.tên, from, tổ chức, as, t2, join, ...   \n",
       "3042   [select, t1.tên, from, lĩnh vực của tác giả, a...   \n",
       "...                                                  ...   \n",
       "12536  [select, count, (, distinct, t1.tên, ), from, ...   \n",
       "12535  [select, count, (, distinct, tên, ), from, ngư...   \n",
       "12554  [select, t1.tên, from, loại_hình, as, t2, join...   \n",
       "12540  [select, count, (, distinct, văn_bản, ), from,...   \n",
       "12553  [select, t1.tên, from, đánh_giá, as, t2, join,...   \n",
       "\n",
       "                                     query_toks_no_value  \\\n",
       "2891   [select, t3, ., tiêu đề, from, viết, as, t2, j...   \n",
       "3039   [select, t1, ., tên, from, bài báo, as, t4, jo...   \n",
       "3040   [select, t1, ., tên, from, bài báo, as, t4, jo...   \n",
       "3041   [select, t1, ., tên, from, tổ chức, as, t2, jo...   \n",
       "3042   [select, t1, ., tên, from, lĩnh vực của tác gi...   \n",
       "...                                                  ...   \n",
       "12536  [select, count, (, distinct, t1, ., tên, ), fr...   \n",
       "12535  [select, count, (, distinct, tên, ), from, ngư...   \n",
       "12554  [select, t1, ., tên, from, loại_hình, as, t2, ...   \n",
       "12540  [select, count, (, distinct, văn_bản, ), from,...   \n",
       "12553  [select, t1, ., tên, from, đánh_giá, as, t2, j...   \n",
       "\n",
       "                                                question  \\\n",
       "2891   những bài báo nào đã được viết bởi H. V. Jagad...   \n",
       "3039   liệt kê các tác giả có hơn 10 bài báo được đăn...   \n",
       "3040   tác giả nào có nhiều bài báo tại hội nghị VLDB...   \n",
       "3041   những tác giả nào thuộc ' Đại học Michigan ' đ...   \n",
       "3042   liệt kê các tác giả thuộc ' Đại học Michigan '...   \n",
       "...                                                  ...   \n",
       "12536  có bao_nhiêu doanh_nghiệp có loại_hình kinh_do...   \n",
       "12535  cho biết số_lượng người dùng có tên là Michelle .   \n",
       "12554  doanh_nghiệp nào đang theo nhiều loại_hình kin...   \n",
       "12540  cho biết số_lượng đánh_giá được viết vào tháng...   \n",
       "12553  doanh_nghiệp nào nhận được nhiều đánh_giá nhất...   \n",
       "\n",
       "                                           question_toks  \\\n",
       "2891   [những, bài, báo, nào, đã, được, viết, bởi, H....   \n",
       "3039   [liệt, kê, các, tác, giả, có, hơn, 10, bài, bá...   \n",
       "3040   [tác, giả, nào, có, nhiều, bài, báo, tại, hội,...   \n",
       "3041   [những, tác, giả, nào, thuộc, ', Đại, học, Mic...   \n",
       "3042   [liệt, kê, các, tác, giả, thuộc, ', Đại, học, ...   \n",
       "...                                                  ...   \n",
       "12536  [có, bao_nhiêu, doanh_nghiệp, có, loại_hình, k...   \n",
       "12535  [cho, biết, số_lượng, người, dùng, có, tên, là...   \n",
       "12554  [doanh_nghiệp, nào, đang, theo, nhiều, loại_hì...   \n",
       "12540  [cho, biết, số_lượng, đánh_giá, được, viết, và...   \n",
       "12553  [doanh_nghiệp, nào, nhận, được, nhiều, đánh_gi...   \n",
       "\n",
       "                                                     sql  \n",
       "2891   {'except': None, 'from': {'conds': [[False, 2,...  \n",
       "3039   {'except': None, 'from': {'conds': [[False, 2,...  \n",
       "3040   {'except': None, 'from': {'conds': [[False, 2,...  \n",
       "3041   {'except': None, 'from': {'conds': [[False, 2,...  \n",
       "3042   {'except': None, 'from': {'conds': [[False, 2,...  \n",
       "...                                                  ...  \n",
       "12536  {'except': None, 'from': {'conds': [[False, 2,...  \n",
       "12535  {'except': None, 'from': {'conds': [], 'table_...  \n",
       "12554  {'except': None, 'from': {'conds': [[False, 2,...  \n",
       "12540  {'except': None, 'from': {'conds': [], 'table_...  \n",
       "12553  {'except': None, 'from': {'conds': [[False, 2,...  \n",
       "\n",
       "[19386 rows x 7 columns]"
      ]
     },
     "execution_count": 22,
     "metadata": {},
     "output_type": "execute_result"
    }
   ],
   "source": [
    "DF1.sort_values(by='db_id', ascending=True)"
   ]
  },
  {
   "cell_type": "code",
   "execution_count": 23,
   "metadata": {},
   "outputs": [
    {
     "name": "stdout",
     "output_type": "stream",
     "text": [
      "['architecture', 'cinema', 'college_3', 'concert_singer', 'customers_campaigns_ecommerce', 'customers_card_transactions', 'document_management', 'e_learning', 'farm', 'flight_company', 'manufacturer', 'museum_visit', 'network_1', 'party_host', 'phone_market', 'product_catalog', 'scientist_1', 'ship_mission', 'singer', 'sports_competition', 'swimming', 'tracking_share_transactions', 'train_station', 'voter_1', 'wta_1', 'assets_maintenance', 'book_2', 'company_1', 'course_teach', 'decoration_competition', 'election_representative', 'match_season', 'perpetrator', 'station_weather', 'wedding', 'activity_1', 'body_builder', 'candidate_poll', 'city_record', 'college_1', 'cre_Doc_Control_Systems', 'cre_Drama_Workshop_Groups', 'customers_and_invoices', 'customers_and_products_contacts', 'department_management', 'driving_school', 'employee_hire_evaluation', 'flight_2', 'game_injury', 'imdb', 'insurance_and_eClaims', 'local_govt_in_alabama', 'machine_repair', 'mountain_photos', 'music_2', 'products_for_hire', 'restaurant_1', 'sakila_1', 'school_bus', 'school_player', 'soccer_1', 'store_product', 'storm_record', 'student_1', 'student_assessment', 'workshop_paper', 'yelp', 'academic', 'aircraft', 'allergy_1', 'apartment_rentals', 'baseball_1', 'battle_death', 'behavior_monitoring', 'bike_1', 'browser_web', 'car_1', 'chinook_1', 'climbing', 'club_1', 'coffee_shop', 'college_2', 'company_employee', 'company_office', 'county_public_safety', 'cre_Doc_Template_Mgt', 'cre_Doc_Tracking_DB', 'cre_Docs_and_Epenses', 'cre_Theme_park', 'csu_1', 'culture_company', 'customer_complaints', 'customer_deliveries', 'customers_and_addresses', 'debate', 'department_store', 'device', 'dog_kennels', 'dorm_1', 'e_government', 'election', 'entertainment_awards', 'entrepreneur', 'epinions_1', 'film_rank', 'flight_1', 'flight_4', 'formula_1', 'game_1', 'gas_company', 'geo', 'gymnast', 'hospital_1', 'hr_1', 'icfp_1', 'inn_1', 'insurance_fnol', 'insurance_policies', 'journal_committee', 'loan_1', 'local_govt_and_lot', 'local_govt_mdm', 'manufactory_1', 'medicine_enzyme_interaction', 'movie_1', 'music_1', 'music_4', 'musical', 'network_2', 'news_report', 'orchestra', 'party_people', 'performance_attendance', 'pets_1', 'phone_1', 'pilot_record', 'poker_player', 'products_gen_characteristics', 'program_share', 'protein_institute', 'race_track', 'railway', 'real_estate_properties', 'restaurants', 'riding_club', 'roller_coaster', 'scholar', 'school_finance', 'ship_1', 'shop_membership', 'small_bank_1', 'soccer_2', 'solvency_ii', 'store_1', 'student_transcripts_tracking', 'theme_gallery', 'tracking_grants_for_research', 'tracking_orders', 'tracking_software_problems', 'tvshow', 'twitter_1', 'university_basketball', 'voter_2', 'wine_1', 'world_1', 'wrestler']\n",
      "166\n"
     ]
    }
   ],
   "source": [
    "DF_db_id = DF1['db_id']\n",
    "list_db_id = list(DF_db_id.drop_duplicates())\n",
    "print(list_db_id)\n",
    "print(len(list_db_id))"
   ]
  },
  {
   "cell_type": "code",
   "execution_count": 24,
   "metadata": {},
   "outputs": [
    {
     "data": {
      "application/vnd.microsoft.datawrangler.viewer.v0+json": {
       "columns": [
        {
         "name": "index",
         "rawType": "int64",
         "type": "integer"
        },
        {
         "name": "0",
         "rawType": "object",
         "type": "string"
        }
       ],
       "ref": "9ed68da6-c8a0-4762-bd87-d90fcb4c4841",
       "rows": [
        [
         "0",
         "architecture"
        ],
        [
         "1",
         "cinema"
        ],
        [
         "2",
         "college_3"
        ],
        [
         "3",
         "concert_singer"
        ],
        [
         "4",
         "customers_campaigns_ecommerce"
        ],
        [
         "5",
         "customers_card_transactions"
        ],
        [
         "6",
         "document_management"
        ],
        [
         "7",
         "e_learning"
        ],
        [
         "8",
         "farm"
        ],
        [
         "9",
         "flight_company"
        ],
        [
         "10",
         "manufacturer"
        ],
        [
         "11",
         "museum_visit"
        ],
        [
         "12",
         "network_1"
        ],
        [
         "13",
         "party_host"
        ],
        [
         "14",
         "phone_market"
        ],
        [
         "15",
         "product_catalog"
        ],
        [
         "16",
         "scientist_1"
        ],
        [
         "17",
         "ship_mission"
        ],
        [
         "18",
         "singer"
        ],
        [
         "19",
         "sports_competition"
        ],
        [
         "20",
         "swimming"
        ],
        [
         "21",
         "tracking_share_transactions"
        ],
        [
         "22",
         "train_station"
        ],
        [
         "23",
         "voter_1"
        ],
        [
         "24",
         "wta_1"
        ],
        [
         "25",
         "assets_maintenance"
        ],
        [
         "26",
         "book_2"
        ],
        [
         "27",
         "company_1"
        ],
        [
         "28",
         "course_teach"
        ],
        [
         "29",
         "decoration_competition"
        ],
        [
         "30",
         "election_representative"
        ],
        [
         "31",
         "match_season"
        ],
        [
         "32",
         "perpetrator"
        ],
        [
         "33",
         "station_weather"
        ],
        [
         "34",
         "wedding"
        ],
        [
         "35",
         "activity_1"
        ],
        [
         "36",
         "body_builder"
        ],
        [
         "37",
         "candidate_poll"
        ],
        [
         "38",
         "city_record"
        ],
        [
         "39",
         "college_1"
        ],
        [
         "40",
         "cre_Doc_Control_Systems"
        ],
        [
         "41",
         "cre_Drama_Workshop_Groups"
        ],
        [
         "42",
         "customers_and_invoices"
        ],
        [
         "43",
         "customers_and_products_contacts"
        ],
        [
         "44",
         "department_management"
        ],
        [
         "45",
         "driving_school"
        ],
        [
         "46",
         "employee_hire_evaluation"
        ],
        [
         "47",
         "flight_2"
        ],
        [
         "48",
         "game_injury"
        ],
        [
         "49",
         "imdb"
        ]
       ],
       "shape": {
        "columns": 1,
        "rows": 166
       }
      },
      "text/html": [
       "<div>\n",
       "<style scoped>\n",
       "    .dataframe tbody tr th:only-of-type {\n",
       "        vertical-align: middle;\n",
       "    }\n",
       "\n",
       "    .dataframe tbody tr th {\n",
       "        vertical-align: top;\n",
       "    }\n",
       "\n",
       "    .dataframe thead th {\n",
       "        text-align: right;\n",
       "    }\n",
       "</style>\n",
       "<table border=\"1\" class=\"dataframe\">\n",
       "  <thead>\n",
       "    <tr style=\"text-align: right;\">\n",
       "      <th></th>\n",
       "      <th>0</th>\n",
       "    </tr>\n",
       "  </thead>\n",
       "  <tbody>\n",
       "    <tr>\n",
       "      <th>0</th>\n",
       "      <td>architecture</td>\n",
       "    </tr>\n",
       "    <tr>\n",
       "      <th>1</th>\n",
       "      <td>cinema</td>\n",
       "    </tr>\n",
       "    <tr>\n",
       "      <th>2</th>\n",
       "      <td>college_3</td>\n",
       "    </tr>\n",
       "    <tr>\n",
       "      <th>3</th>\n",
       "      <td>concert_singer</td>\n",
       "    </tr>\n",
       "    <tr>\n",
       "      <th>4</th>\n",
       "      <td>customers_campaigns_ecommerce</td>\n",
       "    </tr>\n",
       "    <tr>\n",
       "      <th>...</th>\n",
       "      <td>...</td>\n",
       "    </tr>\n",
       "    <tr>\n",
       "      <th>161</th>\n",
       "      <td>university_basketball</td>\n",
       "    </tr>\n",
       "    <tr>\n",
       "      <th>162</th>\n",
       "      <td>voter_2</td>\n",
       "    </tr>\n",
       "    <tr>\n",
       "      <th>163</th>\n",
       "      <td>wine_1</td>\n",
       "    </tr>\n",
       "    <tr>\n",
       "      <th>164</th>\n",
       "      <td>world_1</td>\n",
       "    </tr>\n",
       "    <tr>\n",
       "      <th>165</th>\n",
       "      <td>wrestler</td>\n",
       "    </tr>\n",
       "  </tbody>\n",
       "</table>\n",
       "<p>166 rows × 1 columns</p>\n",
       "</div>"
      ],
      "text/plain": [
       "                                 0\n",
       "0                     architecture\n",
       "1                           cinema\n",
       "2                        college_3\n",
       "3                   concert_singer\n",
       "4    customers_campaigns_ecommerce\n",
       "..                             ...\n",
       "161          university_basketball\n",
       "162                        voter_2\n",
       "163                         wine_1\n",
       "164                        world_1\n",
       "165                       wrestler\n",
       "\n",
       "[166 rows x 1 columns]"
      ]
     },
     "execution_count": 24,
     "metadata": {},
     "output_type": "execute_result"
    }
   ],
   "source": [
    "DF3 = pd.DataFrame(list_db_id)\n",
    "DF3"
   ]
  },
  {
   "cell_type": "code",
   "execution_count": 25,
   "metadata": {},
   "outputs": [
    {
     "data": {
      "application/vnd.microsoft.datawrangler.viewer.v0+json": {
       "columns": [
        {
         "name": "index",
         "rawType": "int64",
         "type": "integer"
        },
        {
         "name": "col1",
         "rawType": "object",
         "type": "string"
        },
        {
         "name": "col2",
         "rawType": "object",
         "type": "string"
        }
       ],
       "ref": "d487b9a0-5f4f-4f33-98d7-6e46c4e0c5a5",
       "rows": [
        [
         "0",
         "architecture",
         "Kiến trúc, Xây dựng, Công trình"
        ],
        [
         "1",
         "cinema",
         "Rạp chiếu phim, Điện ảnh, Phim trường"
        ],
        [
         "2",
         "college_3",
         "Trường cao đẳng 3, Đại học, Học viện"
        ],
        [
         "3",
         "concert_singer",
         "Ca sĩ biểu diễn, Nghệ sĩ, Nhạc công"
        ],
        [
         "4",
         "customers_campaigns_ecommerce",
         "Chiến dịch khách hàng thương mại điện tử, Tiếp thị trực tuyến, Kinh doanh số"
        ],
        [
         "5",
         "customers_card_transactions",
         "Giao dịch thẻ khách hàng, Thanh toán điện tử, Thẻ tín dụng"
        ],
        [
         "6",
         "document_management",
         "Quản lý tài liệu, Hồ sơ, Lưu trữ dữ liệu"
        ],
        [
         "7",
         "e_learning",
         "Học trực tuyến, Giáo dục trực tuyến, Khóa học online"
        ],
        [
         "8",
         "farm",
         "Nông trại, Trang trại, Canh tác"
        ],
        [
         "9",
         "flight_company",
         "Hãng hàng không, Công ty hàng không, Vận tải hàng không"
        ],
        [
         "10",
         "manufacturer",
         "Nhà sản xuất, Doanh nghiệp, Công ty chế tạo"
        ],
        [
         "11",
         "museum_visit",
         "Tham quan bảo tàng, Du lịch bảo tàng, Khám phá di sản"
        ],
        [
         "12",
         "network_1",
         "Mạng lưới 1, Hệ thống kết nối, Internet"
        ],
        [
         "13",
         "party_host",
         "Chủ trì tiệc, Người tổ chức sự kiện, Chủ tiệc"
        ],
        [
         "14",
         "phone_market",
         "Thị trường điện thoại, Kinh doanh di động, Buôn bán điện thoại"
        ],
        [
         "15",
         "product_catalog",
         "Danh mục sản phẩm, Bộ sưu tập sản phẩm, Hàng hóa"
        ],
        [
         "16",
         "scientist_1",
         "Nhà khoa học 1, Chuyên gia nghiên cứu, Học giả"
        ],
        [
         "17",
         "ship_mission",
         "Nhiệm vụ tàu thủy, Hành trình biển, Vận tải đường biển"
        ],
        [
         "18",
         "singer",
         "Ca sĩ, Nghệ sĩ hát, Nhạc sĩ"
        ],
        [
         "19",
         "sports_competition",
         "Cuộc thi thể thao, Giải đấu, Trận đấu"
        ],
        [
         "20",
         "swimming",
         "Bơi lội, Bơi lặn, Môn thể thao dưới nước"
        ],
        [
         "21",
         "tracking_share_transactions",
         "Theo dõi giao dịch cổ phiếu, Giám sát chứng khoán, Đầu tư"
        ],
        [
         "22",
         "train_station",
         "Ga tàu, Nhà ga, Trạm xe lửa"
        ],
        [
         "23",
         "voter_1",
         "Cử tri 1, Người đi bầu, Công dân bỏ phiếu"
        ],
        [
         "24",
         "wta_1",
         "Hiệp hội quần vợt nữ 1, Giải quần vợt nữ, Liên đoàn tennis nữ"
        ],
        [
         "25",
         "assets_maintenance",
         "Bảo trì tài sản, Sửa chữa tài sản, Quản lý tài nguyên"
        ],
        [
         "26",
         "book_2",
         "Sách 2, Tài liệu, Ấn phẩm"
        ],
        [
         "27",
         "company_1",
         "Công ty 1, Doanh nghiệp, Tập đoàn"
        ],
        [
         "28",
         "course_teach",
         "Khóa học giảng dạy, Lớp học, Đào tạo"
        ],
        [
         "29",
         "decoration_competition",
         "Cuộc thi trang trí, Thiết kế nội thất, Nghệ thuật trang trí"
        ],
        [
         "30",
         "election_representative",
         "Đại diện bầu cử, Ứng cử viên, Chính trị gia"
        ],
        [
         "31",
         "match_season",
         "Mùa giải đấu, Giải đấu, Mùa giải"
        ],
        [
         "32",
         "perpetrator",
         "Thủ phạm, Kẻ gây án, Tội phạm"
        ],
        [
         "33",
         "station_weather",
         "Trạm thời tiết, Trung tâm khí tượng, Dự báo thời tiết"
        ],
        [
         "34",
         "wedding",
         "Đám cưới, Hôn lễ, Tiệc cưới"
        ],
        [
         "35",
         "activity_1",
         "Hoạt động 1, Sự kiện, Chương trình"
        ],
        [
         "36",
         "body_builder",
         "Vận động viên thể hình, Người tập thể hình, Gymer"
        ],
        [
         "37",
         "candidate_poll",
         "Thăm dò ứng cử viên, Khảo sát bầu cử, Điều tra dư luận"
        ],
        [
         "38",
         "city_record",
         "Hồ sơ thành phố, Thông tin đô thị, Dữ liệu thành phố"
        ],
        [
         "39",
         "college_1",
         "Trường cao đẳng 1, Đại học, Viện giáo dục"
        ],
        [
         "40",
         "cre_Doc_Control_Systems",
         "Hệ thống kiểm soát tài liệu, Quản lý hồ sơ, Giám sát tài liệu"
        ],
        [
         "41",
         "cre_Drama_Workshop_Groups",
         "Nhóm hội thảo kịch, Lớp diễn xuất, Câu lạc bộ sân khấu"
        ],
        [
         "42",
         "customers_and_invoices",
         "Khách hàng và hóa đơn, Đơn hàng, Thanh toán"
        ],
        [
         "43",
         "customers_and_products_contacts",
         "Khách hàng và liên hệ sản phẩm, Mối quan hệ khách hàng, Hỗ trợ khách hàng"
        ],
        [
         "44",
         "department_management",
         "Quản lý phòng ban, Điều hành bộ phận, Tổ chức công việc"
        ],
        [
         "45",
         "driving_school",
         "Trường dạy lái xe, Trung tâm đào tạo lái xe, Học lái ô tô"
        ],
        [
         "46",
         "employee_hire_evaluation",
         "Đánh giá tuyển dụng nhân viên, Kiểm tra nhân sự, Tuyển chọn nhân viên"
        ],
        [
         "47",
         "flight_2",
         "Chuyến bay 2, Hành trình hàng không, Vé máy bay"
        ],
        [
         "48",
         "game_injury",
         "Chấn thương khi chơi game, Tổn thương thể thao, Tai nạn thi đấu"
        ],
        [
         "49",
         "imdb",
         "Cơ sở dữ liệu phim IMDb, Thông tin phim, Xếp hạng điện ảnh"
        ]
       ],
       "shape": {
        "columns": 2,
        "rows": 166
       }
      },
      "text/html": [
       "<div>\n",
       "<style scoped>\n",
       "    .dataframe tbody tr th:only-of-type {\n",
       "        vertical-align: middle;\n",
       "    }\n",
       "\n",
       "    .dataframe tbody tr th {\n",
       "        vertical-align: top;\n",
       "    }\n",
       "\n",
       "    .dataframe thead th {\n",
       "        text-align: right;\n",
       "    }\n",
       "</style>\n",
       "<table border=\"1\" class=\"dataframe\">\n",
       "  <thead>\n",
       "    <tr style=\"text-align: right;\">\n",
       "      <th></th>\n",
       "      <th>col1</th>\n",
       "      <th>col2</th>\n",
       "    </tr>\n",
       "  </thead>\n",
       "  <tbody>\n",
       "    <tr>\n",
       "      <th>0</th>\n",
       "      <td>architecture</td>\n",
       "      <td>Kiến trúc, Xây dựng, Công trình</td>\n",
       "    </tr>\n",
       "    <tr>\n",
       "      <th>1</th>\n",
       "      <td>cinema</td>\n",
       "      <td>Rạp chiếu phim, Điện ảnh, Phim trường</td>\n",
       "    </tr>\n",
       "    <tr>\n",
       "      <th>2</th>\n",
       "      <td>college_3</td>\n",
       "      <td>Trường cao đẳng 3, Đại học, Học viện</td>\n",
       "    </tr>\n",
       "    <tr>\n",
       "      <th>3</th>\n",
       "      <td>concert_singer</td>\n",
       "      <td>Ca sĩ biểu diễn, Nghệ sĩ, Nhạc công</td>\n",
       "    </tr>\n",
       "    <tr>\n",
       "      <th>4</th>\n",
       "      <td>customers_campaigns_ecommerce</td>\n",
       "      <td>Chiến dịch khách hàng thương mại điện tử, Tiếp...</td>\n",
       "    </tr>\n",
       "    <tr>\n",
       "      <th>...</th>\n",
       "      <td>...</td>\n",
       "      <td>...</td>\n",
       "    </tr>\n",
       "    <tr>\n",
       "      <th>161</th>\n",
       "      <td>university_basketball</td>\n",
       "      <td>Bóng rổ đại học, Giải đấu sinh viên, Trận đấu ...</td>\n",
       "    </tr>\n",
       "    <tr>\n",
       "      <th>162</th>\n",
       "      <td>voter_2</td>\n",
       "      <td>Cử tri 2, Người bỏ phiếu, Quyền bầu cử</td>\n",
       "    </tr>\n",
       "    <tr>\n",
       "      <th>163</th>\n",
       "      <td>wine_1</td>\n",
       "      <td>Rượu vang 1, Đồ uống có cồn, Nho ủ</td>\n",
       "    </tr>\n",
       "    <tr>\n",
       "      <th>164</th>\n",
       "      <td>world_1</td>\n",
       "      <td>Thế giới 1, Địa cầu, Toàn cầu hóa</td>\n",
       "    </tr>\n",
       "    <tr>\n",
       "      <th>165</th>\n",
       "      <td>wrestler</td>\n",
       "      <td>Đô vật, Vận động viên đấu vật, Thể thao đối kháng</td>\n",
       "    </tr>\n",
       "  </tbody>\n",
       "</table>\n",
       "<p>166 rows × 2 columns</p>\n",
       "</div>"
      ],
      "text/plain": [
       "                              col1  \\\n",
       "0                     architecture   \n",
       "1                           cinema   \n",
       "2                        college_3   \n",
       "3                   concert_singer   \n",
       "4    customers_campaigns_ecommerce   \n",
       "..                             ...   \n",
       "161          university_basketball   \n",
       "162                        voter_2   \n",
       "163                         wine_1   \n",
       "164                        world_1   \n",
       "165                       wrestler   \n",
       "\n",
       "                                                  col2  \n",
       "0                      Kiến trúc, Xây dựng, Công trình  \n",
       "1                Rạp chiếu phim, Điện ảnh, Phim trường  \n",
       "2                 Trường cao đẳng 3, Đại học, Học viện  \n",
       "3                  Ca sĩ biểu diễn, Nghệ sĩ, Nhạc công  \n",
       "4    Chiến dịch khách hàng thương mại điện tử, Tiếp...  \n",
       "..                                                 ...  \n",
       "161  Bóng rổ đại học, Giải đấu sinh viên, Trận đấu ...  \n",
       "162             Cử tri 2, Người bỏ phiếu, Quyền bầu cử  \n",
       "163                 Rượu vang 1, Đồ uống có cồn, Nho ủ  \n",
       "164                  Thế giới 1, Địa cầu, Toàn cầu hóa  \n",
       "165  Đô vật, Vận động viên đấu vật, Thể thao đối kháng  \n",
       "\n",
       "[166 rows x 2 columns]"
      ]
     },
     "execution_count": 25,
     "metadata": {},
     "output_type": "execute_result"
    }
   ],
   "source": [
    "EVNtitle = pd.read_csv(r\"E:\\Project_MachineLearning_NguyenMinhVu\\Source\\Basic-text-to-SQL-conversion\\E-VN title\\Chu de English - VNM.txt\")\n",
    "DF2 = pd.DataFrame(EVNtitle)\n",
    "DF2"
   ]
  },
  {
   "cell_type": "code",
   "execution_count": 26,
   "metadata": {},
   "outputs": [],
   "source": [
    "DF2.reset_index(level=0, inplace=True)"
   ]
  },
  {
   "cell_type": "code",
   "execution_count": 27,
   "metadata": {},
   "outputs": [
    {
     "data": {
      "application/vnd.microsoft.datawrangler.viewer.v0+json": {
       "columns": [
        {
         "name": "index",
         "rawType": "int64",
         "type": "integer"
        },
        {
         "name": "index",
         "rawType": "int64",
         "type": "integer"
        },
        {
         "name": "col1",
         "rawType": "object",
         "type": "string"
        },
        {
         "name": "col2",
         "rawType": "object",
         "type": "string"
        }
       ],
       "ref": "f99c7345-c7c2-491b-99e5-b48b615a59ba",
       "rows": [
        [
         "0",
         "0",
         "architecture",
         "Kiến trúc, Xây dựng, Công trình"
        ],
        [
         "1",
         "1",
         "cinema",
         "Rạp chiếu phim, Điện ảnh, Phim trường"
        ],
        [
         "2",
         "2",
         "college_3",
         "Trường cao đẳng 3, Đại học, Học viện"
        ],
        [
         "3",
         "3",
         "concert_singer",
         "Ca sĩ biểu diễn, Nghệ sĩ, Nhạc công"
        ],
        [
         "4",
         "4",
         "customers_campaigns_ecommerce",
         "Chiến dịch khách hàng thương mại điện tử, Tiếp thị trực tuyến, Kinh doanh số"
        ],
        [
         "5",
         "5",
         "customers_card_transactions",
         "Giao dịch thẻ khách hàng, Thanh toán điện tử, Thẻ tín dụng"
        ],
        [
         "6",
         "6",
         "document_management",
         "Quản lý tài liệu, Hồ sơ, Lưu trữ dữ liệu"
        ],
        [
         "7",
         "7",
         "e_learning",
         "Học trực tuyến, Giáo dục trực tuyến, Khóa học online"
        ],
        [
         "8",
         "8",
         "farm",
         "Nông trại, Trang trại, Canh tác"
        ],
        [
         "9",
         "9",
         "flight_company",
         "Hãng hàng không, Công ty hàng không, Vận tải hàng không"
        ],
        [
         "10",
         "10",
         "manufacturer",
         "Nhà sản xuất, Doanh nghiệp, Công ty chế tạo"
        ],
        [
         "11",
         "11",
         "museum_visit",
         "Tham quan bảo tàng, Du lịch bảo tàng, Khám phá di sản"
        ],
        [
         "12",
         "12",
         "network_1",
         "Mạng lưới 1, Hệ thống kết nối, Internet"
        ],
        [
         "13",
         "13",
         "party_host",
         "Chủ trì tiệc, Người tổ chức sự kiện, Chủ tiệc"
        ],
        [
         "14",
         "14",
         "phone_market",
         "Thị trường điện thoại, Kinh doanh di động, Buôn bán điện thoại"
        ],
        [
         "15",
         "15",
         "product_catalog",
         "Danh mục sản phẩm, Bộ sưu tập sản phẩm, Hàng hóa"
        ],
        [
         "16",
         "16",
         "scientist_1",
         "Nhà khoa học 1, Chuyên gia nghiên cứu, Học giả"
        ],
        [
         "17",
         "17",
         "ship_mission",
         "Nhiệm vụ tàu thủy, Hành trình biển, Vận tải đường biển"
        ],
        [
         "18",
         "18",
         "singer",
         "Ca sĩ, Nghệ sĩ hát, Nhạc sĩ"
        ],
        [
         "19",
         "19",
         "sports_competition",
         "Cuộc thi thể thao, Giải đấu, Trận đấu"
        ],
        [
         "20",
         "20",
         "swimming",
         "Bơi lội, Bơi lặn, Môn thể thao dưới nước"
        ],
        [
         "21",
         "21",
         "tracking_share_transactions",
         "Theo dõi giao dịch cổ phiếu, Giám sát chứng khoán, Đầu tư"
        ],
        [
         "22",
         "22",
         "train_station",
         "Ga tàu, Nhà ga, Trạm xe lửa"
        ],
        [
         "23",
         "23",
         "voter_1",
         "Cử tri 1, Người đi bầu, Công dân bỏ phiếu"
        ],
        [
         "24",
         "24",
         "wta_1",
         "Hiệp hội quần vợt nữ 1, Giải quần vợt nữ, Liên đoàn tennis nữ"
        ],
        [
         "25",
         "25",
         "assets_maintenance",
         "Bảo trì tài sản, Sửa chữa tài sản, Quản lý tài nguyên"
        ],
        [
         "26",
         "26",
         "book_2",
         "Sách 2, Tài liệu, Ấn phẩm"
        ],
        [
         "27",
         "27",
         "company_1",
         "Công ty 1, Doanh nghiệp, Tập đoàn"
        ],
        [
         "28",
         "28",
         "course_teach",
         "Khóa học giảng dạy, Lớp học, Đào tạo"
        ],
        [
         "29",
         "29",
         "decoration_competition",
         "Cuộc thi trang trí, Thiết kế nội thất, Nghệ thuật trang trí"
        ],
        [
         "30",
         "30",
         "election_representative",
         "Đại diện bầu cử, Ứng cử viên, Chính trị gia"
        ],
        [
         "31",
         "31",
         "match_season",
         "Mùa giải đấu, Giải đấu, Mùa giải"
        ],
        [
         "32",
         "32",
         "perpetrator",
         "Thủ phạm, Kẻ gây án, Tội phạm"
        ],
        [
         "33",
         "33",
         "station_weather",
         "Trạm thời tiết, Trung tâm khí tượng, Dự báo thời tiết"
        ],
        [
         "34",
         "34",
         "wedding",
         "Đám cưới, Hôn lễ, Tiệc cưới"
        ],
        [
         "35",
         "35",
         "activity_1",
         "Hoạt động 1, Sự kiện, Chương trình"
        ],
        [
         "36",
         "36",
         "body_builder",
         "Vận động viên thể hình, Người tập thể hình, Gymer"
        ],
        [
         "37",
         "37",
         "candidate_poll",
         "Thăm dò ứng cử viên, Khảo sát bầu cử, Điều tra dư luận"
        ],
        [
         "38",
         "38",
         "city_record",
         "Hồ sơ thành phố, Thông tin đô thị, Dữ liệu thành phố"
        ],
        [
         "39",
         "39",
         "college_1",
         "Trường cao đẳng 1, Đại học, Viện giáo dục"
        ],
        [
         "40",
         "40",
         "cre_Doc_Control_Systems",
         "Hệ thống kiểm soát tài liệu, Quản lý hồ sơ, Giám sát tài liệu"
        ],
        [
         "41",
         "41",
         "cre_Drama_Workshop_Groups",
         "Nhóm hội thảo kịch, Lớp diễn xuất, Câu lạc bộ sân khấu"
        ],
        [
         "42",
         "42",
         "customers_and_invoices",
         "Khách hàng và hóa đơn, Đơn hàng, Thanh toán"
        ],
        [
         "43",
         "43",
         "customers_and_products_contacts",
         "Khách hàng và liên hệ sản phẩm, Mối quan hệ khách hàng, Hỗ trợ khách hàng"
        ],
        [
         "44",
         "44",
         "department_management",
         "Quản lý phòng ban, Điều hành bộ phận, Tổ chức công việc"
        ],
        [
         "45",
         "45",
         "driving_school",
         "Trường dạy lái xe, Trung tâm đào tạo lái xe, Học lái ô tô"
        ],
        [
         "46",
         "46",
         "employee_hire_evaluation",
         "Đánh giá tuyển dụng nhân viên, Kiểm tra nhân sự, Tuyển chọn nhân viên"
        ],
        [
         "47",
         "47",
         "flight_2",
         "Chuyến bay 2, Hành trình hàng không, Vé máy bay"
        ],
        [
         "48",
         "48",
         "game_injury",
         "Chấn thương khi chơi game, Tổn thương thể thao, Tai nạn thi đấu"
        ],
        [
         "49",
         "49",
         "imdb",
         "Cơ sở dữ liệu phim IMDb, Thông tin phim, Xếp hạng điện ảnh"
        ]
       ],
       "shape": {
        "columns": 3,
        "rows": 166
       }
      },
      "text/html": [
       "<div>\n",
       "<style scoped>\n",
       "    .dataframe tbody tr th:only-of-type {\n",
       "        vertical-align: middle;\n",
       "    }\n",
       "\n",
       "    .dataframe tbody tr th {\n",
       "        vertical-align: top;\n",
       "    }\n",
       "\n",
       "    .dataframe thead th {\n",
       "        text-align: right;\n",
       "    }\n",
       "</style>\n",
       "<table border=\"1\" class=\"dataframe\">\n",
       "  <thead>\n",
       "    <tr style=\"text-align: right;\">\n",
       "      <th></th>\n",
       "      <th>index</th>\n",
       "      <th>col1</th>\n",
       "      <th>col2</th>\n",
       "    </tr>\n",
       "  </thead>\n",
       "  <tbody>\n",
       "    <tr>\n",
       "      <th>0</th>\n",
       "      <td>0</td>\n",
       "      <td>architecture</td>\n",
       "      <td>Kiến trúc, Xây dựng, Công trình</td>\n",
       "    </tr>\n",
       "    <tr>\n",
       "      <th>1</th>\n",
       "      <td>1</td>\n",
       "      <td>cinema</td>\n",
       "      <td>Rạp chiếu phim, Điện ảnh, Phim trường</td>\n",
       "    </tr>\n",
       "    <tr>\n",
       "      <th>2</th>\n",
       "      <td>2</td>\n",
       "      <td>college_3</td>\n",
       "      <td>Trường cao đẳng 3, Đại học, Học viện</td>\n",
       "    </tr>\n",
       "    <tr>\n",
       "      <th>3</th>\n",
       "      <td>3</td>\n",
       "      <td>concert_singer</td>\n",
       "      <td>Ca sĩ biểu diễn, Nghệ sĩ, Nhạc công</td>\n",
       "    </tr>\n",
       "    <tr>\n",
       "      <th>4</th>\n",
       "      <td>4</td>\n",
       "      <td>customers_campaigns_ecommerce</td>\n",
       "      <td>Chiến dịch khách hàng thương mại điện tử, Tiếp...</td>\n",
       "    </tr>\n",
       "    <tr>\n",
       "      <th>...</th>\n",
       "      <td>...</td>\n",
       "      <td>...</td>\n",
       "      <td>...</td>\n",
       "    </tr>\n",
       "    <tr>\n",
       "      <th>161</th>\n",
       "      <td>161</td>\n",
       "      <td>university_basketball</td>\n",
       "      <td>Bóng rổ đại học, Giải đấu sinh viên, Trận đấu ...</td>\n",
       "    </tr>\n",
       "    <tr>\n",
       "      <th>162</th>\n",
       "      <td>162</td>\n",
       "      <td>voter_2</td>\n",
       "      <td>Cử tri 2, Người bỏ phiếu, Quyền bầu cử</td>\n",
       "    </tr>\n",
       "    <tr>\n",
       "      <th>163</th>\n",
       "      <td>163</td>\n",
       "      <td>wine_1</td>\n",
       "      <td>Rượu vang 1, Đồ uống có cồn, Nho ủ</td>\n",
       "    </tr>\n",
       "    <tr>\n",
       "      <th>164</th>\n",
       "      <td>164</td>\n",
       "      <td>world_1</td>\n",
       "      <td>Thế giới 1, Địa cầu, Toàn cầu hóa</td>\n",
       "    </tr>\n",
       "    <tr>\n",
       "      <th>165</th>\n",
       "      <td>165</td>\n",
       "      <td>wrestler</td>\n",
       "      <td>Đô vật, Vận động viên đấu vật, Thể thao đối kháng</td>\n",
       "    </tr>\n",
       "  </tbody>\n",
       "</table>\n",
       "<p>166 rows × 3 columns</p>\n",
       "</div>"
      ],
      "text/plain": [
       "     index                           col1  \\\n",
       "0        0                   architecture   \n",
       "1        1                         cinema   \n",
       "2        2                      college_3   \n",
       "3        3                 concert_singer   \n",
       "4        4  customers_campaigns_ecommerce   \n",
       "..     ...                            ...   \n",
       "161    161          university_basketball   \n",
       "162    162                        voter_2   \n",
       "163    163                         wine_1   \n",
       "164    164                        world_1   \n",
       "165    165                       wrestler   \n",
       "\n",
       "                                                  col2  \n",
       "0                      Kiến trúc, Xây dựng, Công trình  \n",
       "1                Rạp chiếu phim, Điện ảnh, Phim trường  \n",
       "2                 Trường cao đẳng 3, Đại học, Học viện  \n",
       "3                  Ca sĩ biểu diễn, Nghệ sĩ, Nhạc công  \n",
       "4    Chiến dịch khách hàng thương mại điện tử, Tiếp...  \n",
       "..                                                 ...  \n",
       "161  Bóng rổ đại học, Giải đấu sinh viên, Trận đấu ...  \n",
       "162             Cử tri 2, Người bỏ phiếu, Quyền bầu cử  \n",
       "163                 Rượu vang 1, Đồ uống có cồn, Nho ủ  \n",
       "164                  Thế giới 1, Địa cầu, Toàn cầu hóa  \n",
       "165  Đô vật, Vận động viên đấu vật, Thể thao đối kháng  \n",
       "\n",
       "[166 rows x 3 columns]"
      ]
     },
     "execution_count": 27,
     "metadata": {},
     "output_type": "execute_result"
    }
   ],
   "source": [
    "DF2"
   ]
  },
  {
   "cell_type": "code",
   "execution_count": 28,
   "metadata": {},
   "outputs": [
    {
     "data": {
      "application/vnd.microsoft.datawrangler.viewer.v0+json": {
       "columns": [
        {
         "name": "index",
         "rawType": "int64",
         "type": "integer"
        },
        {
         "name": "index",
         "rawType": "int64",
         "type": "integer"
        },
        {
         "name": "col1",
         "rawType": "object",
         "type": "string"
        },
        {
         "name": "col2",
         "rawType": "object",
         "type": "string"
        }
       ],
       "ref": "ceec5bc1-617b-4aaf-8f51-fd8142c0d721",
       "rows": [
        [
         "0",
         "0",
         "architecture",
         "Kiến trúc, Xây dựng, Công trình"
        ],
        [
         "1",
         "1",
         "cinema",
         "Rạp chiếu phim, Điện ảnh, Phim trường"
        ],
        [
         "2",
         "2",
         "college_3",
         "Trường cao đẳng, Đại học, Học viện"
        ],
        [
         "3",
         "3",
         "concert_singer",
         "Ca sĩ biểu diễn, Nghệ sĩ, Nhạc công"
        ],
        [
         "4",
         "4",
         "customers_campaigns_ecommerce",
         "Chiến dịch khách hàng thương mại điện tử, Tiếp thị trực tuyến, Kinh doanh số"
        ],
        [
         "5",
         "5",
         "customers_card_transactions",
         "Giao dịch thẻ khách hàng, Thanh toán điện tử, Thẻ tín dụng"
        ],
        [
         "6",
         "6",
         "document_management",
         "Quản lý tài liệu, Hồ sơ, Lưu trữ dữ liệu"
        ],
        [
         "7",
         "7",
         "e_learning",
         "Học trực tuyến, Giáo dục trực tuyến, Khóa học online"
        ],
        [
         "8",
         "8",
         "farm",
         "Nông trại, Trang trại, Canh tác"
        ],
        [
         "9",
         "9",
         "flight_company",
         "Hãng hàng không, Công ty hàng không, Vận tải hàng không"
        ],
        [
         "10",
         "10",
         "manufacturer",
         "Nhà sản xuất, Doanh nghiệp, Công ty chế tạo"
        ],
        [
         "11",
         "11",
         "museum_visit",
         "Tham quan bảo tàng, Du lịch bảo tàng, Khám phá di sản"
        ],
        [
         "12",
         "12",
         "network_1",
         "Mạng lưới, Hệ thống kết nối, Internet"
        ],
        [
         "13",
         "13",
         "party_host",
         "Chủ trì tiệc, Người tổ chức sự kiện, Chủ tiệc"
        ],
        [
         "14",
         "14",
         "phone_market",
         "Thị trường điện thoại, Kinh doanh di động, Buôn bán điện thoại"
        ],
        [
         "15",
         "15",
         "product_catalog",
         "Danh mục sản phẩm, Bộ sưu tập sản phẩm, Hàng hóa"
        ],
        [
         "16",
         "16",
         "scientist_1",
         "Nhà khoa học, Chuyên gia nghiên cứu, Học giả"
        ],
        [
         "17",
         "17",
         "ship_mission",
         "Nhiệm vụ tàu thủy, Hành trình biển, Vận tải đường biển"
        ],
        [
         "18",
         "18",
         "singer",
         "Ca sĩ, Nghệ sĩ hát, Nhạc sĩ"
        ],
        [
         "19",
         "19",
         "sports_competition",
         "Cuộc thi thể thao, Giải đấu, Trận đấu"
        ],
        [
         "20",
         "20",
         "swimming",
         "Bơi lội, Bơi lặn, Môn thể thao dưới nước"
        ],
        [
         "21",
         "21",
         "tracking_share_transactions",
         "Theo dõi giao dịch cổ phiếu, Giám sát chứng khoán, Đầu tư"
        ],
        [
         "22",
         "22",
         "train_station",
         "Ga tàu, Nhà ga, Trạm xe lửa"
        ],
        [
         "23",
         "23",
         "voter_1",
         "Cử tri, Người đi bầu, Công dân bỏ phiếu"
        ],
        [
         "24",
         "24",
         "wta_1",
         "Hiệp hội quần vợt nữ, Giải quần vợt nữ, Liên đoàn tennis nữ"
        ],
        [
         "25",
         "25",
         "assets_maintenance",
         "Bảo trì tài sản, Sửa chữa tài sản, Quản lý tài nguyên"
        ],
        [
         "26",
         "26",
         "book_2",
         "Sách, Tài liệu, Ấn phẩm"
        ],
        [
         "27",
         "27",
         "company_1",
         "Công ty, Doanh nghiệp, Tập đoàn"
        ],
        [
         "28",
         "28",
         "course_teach",
         "Khóa học giảng dạy, Lớp học, Đào tạo"
        ],
        [
         "29",
         "29",
         "decoration_competition",
         "Cuộc thi trang trí, Thiết kế nội thất, Nghệ thuật trang trí"
        ],
        [
         "30",
         "30",
         "election_representative",
         "Đại diện bầu cử, Ứng cử viên, Chính trị gia"
        ],
        [
         "31",
         "31",
         "match_season",
         "Mùa giải đấu, Giải đấu, Mùa giải"
        ],
        [
         "32",
         "32",
         "perpetrator",
         "Thủ phạm, Kẻ gây án, Tội phạm"
        ],
        [
         "33",
         "33",
         "station_weather",
         "Trạm thời tiết, Trung tâm khí tượng, Dự báo thời tiết"
        ],
        [
         "34",
         "34",
         "wedding",
         "Đám cưới, Hôn lễ, Tiệc cưới"
        ],
        [
         "35",
         "35",
         "activity_1",
         "Hoạt động, Sự kiện, Chương trình"
        ],
        [
         "36",
         "36",
         "body_builder",
         "Vận động viên thể hình, Người tập thể hình, Gymer"
        ],
        [
         "37",
         "37",
         "candidate_poll",
         "Thăm dò ứng cử viên, Khảo sát bầu cử, Điều tra dư luận"
        ],
        [
         "38",
         "38",
         "city_record",
         "Hồ sơ thành phố, Thông tin đô thị, Dữ liệu thành phố"
        ],
        [
         "39",
         "39",
         "college_1",
         "Trường cao đẳng, Đại học, Viện giáo dục"
        ],
        [
         "40",
         "40",
         "cre_Doc_Control_Systems",
         "Hệ thống kiểm soát tài liệu, Quản lý hồ sơ, Giám sát tài liệu"
        ],
        [
         "41",
         "41",
         "cre_Drama_Workshop_Groups",
         "Nhóm hội thảo kịch, Lớp diễn xuất, Câu lạc bộ sân khấu"
        ],
        [
         "42",
         "42",
         "customers_and_invoices",
         "Khách hàng và hóa đơn, Đơn hàng, Thanh toán"
        ],
        [
         "43",
         "43",
         "customers_and_products_contacts",
         "Khách hàng và liên hệ sản phẩm, Mối quan hệ khách hàng, Hỗ trợ khách hàng"
        ],
        [
         "44",
         "44",
         "department_management",
         "Quản lý phòng ban, Điều hành bộ phận, Tổ chức công việc"
        ],
        [
         "45",
         "45",
         "driving_school",
         "Trường dạy lái xe, Trung tâm đào tạo lái xe, Học lái ô tô"
        ],
        [
         "46",
         "46",
         "employee_hire_evaluation",
         "Đánh giá tuyển dụng nhân viên, Kiểm tra nhân sự, Tuyển chọn nhân viên"
        ],
        [
         "47",
         "47",
         "flight_2",
         "Chuyến bay, Hành trình hàng không, Vé máy bay"
        ],
        [
         "48",
         "48",
         "game_injury",
         "Chấn thương khi chơi game, Tổn thương thể thao, Tai nạn thi đấu"
        ],
        [
         "49",
         "49",
         "imdb",
         "Cơ sở dữ liệu phim IMDb, Thông tin phim, Xếp hạng điện ảnh"
        ]
       ],
       "shape": {
        "columns": 3,
        "rows": 166
       }
      },
      "text/html": [
       "<div>\n",
       "<style scoped>\n",
       "    .dataframe tbody tr th:only-of-type {\n",
       "        vertical-align: middle;\n",
       "    }\n",
       "\n",
       "    .dataframe tbody tr th {\n",
       "        vertical-align: top;\n",
       "    }\n",
       "\n",
       "    .dataframe thead th {\n",
       "        text-align: right;\n",
       "    }\n",
       "</style>\n",
       "<table border=\"1\" class=\"dataframe\">\n",
       "  <thead>\n",
       "    <tr style=\"text-align: right;\">\n",
       "      <th></th>\n",
       "      <th>index</th>\n",
       "      <th>col1</th>\n",
       "      <th>col2</th>\n",
       "    </tr>\n",
       "  </thead>\n",
       "  <tbody>\n",
       "    <tr>\n",
       "      <th>0</th>\n",
       "      <td>0</td>\n",
       "      <td>architecture</td>\n",
       "      <td>Kiến trúc, Xây dựng, Công trình</td>\n",
       "    </tr>\n",
       "    <tr>\n",
       "      <th>1</th>\n",
       "      <td>1</td>\n",
       "      <td>cinema</td>\n",
       "      <td>Rạp chiếu phim, Điện ảnh, Phim trường</td>\n",
       "    </tr>\n",
       "    <tr>\n",
       "      <th>2</th>\n",
       "      <td>2</td>\n",
       "      <td>college_3</td>\n",
       "      <td>Trường cao đẳng, Đại học, Học viện</td>\n",
       "    </tr>\n",
       "    <tr>\n",
       "      <th>3</th>\n",
       "      <td>3</td>\n",
       "      <td>concert_singer</td>\n",
       "      <td>Ca sĩ biểu diễn, Nghệ sĩ, Nhạc công</td>\n",
       "    </tr>\n",
       "    <tr>\n",
       "      <th>4</th>\n",
       "      <td>4</td>\n",
       "      <td>customers_campaigns_ecommerce</td>\n",
       "      <td>Chiến dịch khách hàng thương mại điện tử, Tiếp...</td>\n",
       "    </tr>\n",
       "    <tr>\n",
       "      <th>...</th>\n",
       "      <td>...</td>\n",
       "      <td>...</td>\n",
       "      <td>...</td>\n",
       "    </tr>\n",
       "    <tr>\n",
       "      <th>161</th>\n",
       "      <td>161</td>\n",
       "      <td>university_basketball</td>\n",
       "      <td>Bóng rổ đại học, Giải đấu sinh viên, Trận đấu ...</td>\n",
       "    </tr>\n",
       "    <tr>\n",
       "      <th>162</th>\n",
       "      <td>162</td>\n",
       "      <td>voter_2</td>\n",
       "      <td>Cử tri, Người bỏ phiếu, Quyền bầu cử</td>\n",
       "    </tr>\n",
       "    <tr>\n",
       "      <th>163</th>\n",
       "      <td>163</td>\n",
       "      <td>wine_1</td>\n",
       "      <td>Rượu vang, Đồ uống có cồn, Nho ủ</td>\n",
       "    </tr>\n",
       "    <tr>\n",
       "      <th>164</th>\n",
       "      <td>164</td>\n",
       "      <td>world_1</td>\n",
       "      <td>Thế giới, Địa cầu, Toàn cầu hóa</td>\n",
       "    </tr>\n",
       "    <tr>\n",
       "      <th>165</th>\n",
       "      <td>165</td>\n",
       "      <td>wrestler</td>\n",
       "      <td>Đô vật, Vận động viên đấu vật, Thể thao đối kháng</td>\n",
       "    </tr>\n",
       "  </tbody>\n",
       "</table>\n",
       "<p>166 rows × 3 columns</p>\n",
       "</div>"
      ],
      "text/plain": [
       "     index                           col1  \\\n",
       "0        0                   architecture   \n",
       "1        1                         cinema   \n",
       "2        2                      college_3   \n",
       "3        3                 concert_singer   \n",
       "4        4  customers_campaigns_ecommerce   \n",
       "..     ...                            ...   \n",
       "161    161          university_basketball   \n",
       "162    162                        voter_2   \n",
       "163    163                         wine_1   \n",
       "164    164                        world_1   \n",
       "165    165                       wrestler   \n",
       "\n",
       "                                                  col2  \n",
       "0                      Kiến trúc, Xây dựng, Công trình  \n",
       "1                Rạp chiếu phim, Điện ảnh, Phim trường  \n",
       "2                   Trường cao đẳng, Đại học, Học viện  \n",
       "3                  Ca sĩ biểu diễn, Nghệ sĩ, Nhạc công  \n",
       "4    Chiến dịch khách hàng thương mại điện tử, Tiếp...  \n",
       "..                                                 ...  \n",
       "161  Bóng rổ đại học, Giải đấu sinh viên, Trận đấu ...  \n",
       "162               Cử tri, Người bỏ phiếu, Quyền bầu cử  \n",
       "163                   Rượu vang, Đồ uống có cồn, Nho ủ  \n",
       "164                    Thế giới, Địa cầu, Toàn cầu hóa  \n",
       "165  Đô vật, Vận động viên đấu vật, Thể thao đối kháng  \n",
       "\n",
       "[166 rows x 3 columns]"
      ]
     },
     "execution_count": 28,
     "metadata": {},
     "output_type": "execute_result"
    }
   ],
   "source": [
    "def remove_numeric(text):\n",
    "    parts = text.split(\",\")\n",
    "    cleaned_parts = []\n",
    "    for part in parts:\n",
    "        words = part.split()\n",
    "        words = [w for w in words if not w.isnumeric()]\n",
    "        cleaned_parts.append(\" \".join(words))\n",
    "    return \", \".join(cleaned_parts)\n",
    "DF2['col2'] = DF2['col2'].apply(remove_numeric)\n",
    "\n",
    "DF2"
   ]
  },
  {
   "cell_type": "code",
   "execution_count": 29,
   "metadata": {},
   "outputs": [],
   "source": [
    "DF1.insert(column= 'db_id_vn', loc= 1, value=np.nan)"
   ]
  },
  {
   "cell_type": "code",
   "execution_count": 30,
   "metadata": {},
   "outputs": [],
   "source": [
    "DF1['db_id_vn'] = DF1['db_id']"
   ]
  },
  {
   "cell_type": "code",
   "execution_count": 31,
   "metadata": {},
   "outputs": [
    {
     "data": {
      "text/plain": [
       "{'architecture': 'Kiến trúc, Xây dựng, Công trình',\n",
       " 'cinema': 'Rạp chiếu phim, Điện ảnh, Phim trường',\n",
       " 'college_3': 'Trường cao đẳng, Đại học, Học viện',\n",
       " 'concert_singer': 'Ca sĩ biểu diễn, Nghệ sĩ, Nhạc công',\n",
       " 'customers_campaigns_ecommerce': 'Chiến dịch khách hàng thương mại điện tử, Tiếp thị trực tuyến, Kinh doanh số',\n",
       " 'customers_card_transactions': 'Giao dịch thẻ khách hàng, Thanh toán điện tử, Thẻ tín dụng',\n",
       " 'document_management': 'Quản lý tài liệu, Hồ sơ, Lưu trữ dữ liệu',\n",
       " 'e_learning': 'Học trực tuyến, Giáo dục trực tuyến, Khóa học online',\n",
       " 'farm': 'Nông trại, Trang trại, Canh tác',\n",
       " 'flight_company': 'Hãng hàng không, Công ty hàng không, Vận tải hàng không',\n",
       " 'manufacturer': 'Nhà sản xuất, Doanh nghiệp, Công ty chế tạo',\n",
       " 'museum_visit': 'Tham quan bảo tàng, Du lịch bảo tàng, Khám phá di sản',\n",
       " 'network_1': 'Mạng lưới, Hệ thống kết nối, Internet',\n",
       " 'party_host': 'Chủ trì tiệc, Người tổ chức sự kiện, Chủ tiệc',\n",
       " 'phone_market': 'Thị trường điện thoại, Kinh doanh di động, Buôn bán điện thoại',\n",
       " 'product_catalog': 'Danh mục sản phẩm, Bộ sưu tập sản phẩm, Hàng hóa',\n",
       " 'scientist_1': 'Nhà khoa học, Chuyên gia nghiên cứu, Học giả',\n",
       " 'ship_mission': 'Nhiệm vụ tàu thủy, Hành trình biển, Vận tải đường biển',\n",
       " 'singer': 'Ca sĩ, Nghệ sĩ hát, Nhạc sĩ',\n",
       " 'sports_competition': 'Cuộc thi thể thao, Giải đấu, Trận đấu',\n",
       " 'swimming': 'Bơi lội, Bơi lặn, Môn thể thao dưới nước',\n",
       " 'tracking_share_transactions': 'Theo dõi giao dịch cổ phiếu, Giám sát chứng khoán, Đầu tư',\n",
       " 'train_station': 'Ga tàu, Nhà ga, Trạm xe lửa',\n",
       " 'voter_1': 'Cử tri, Người đi bầu, Công dân bỏ phiếu',\n",
       " 'wta_1': 'Hiệp hội quần vợt nữ, Giải quần vợt nữ, Liên đoàn tennis nữ',\n",
       " 'assets_maintenance': 'Bảo trì tài sản, Sửa chữa tài sản, Quản lý tài nguyên',\n",
       " 'book_2': 'Sách, Tài liệu, Ấn phẩm',\n",
       " 'company_1': 'Công ty, Doanh nghiệp, Tập đoàn',\n",
       " 'course_teach': 'Khóa học giảng dạy, Lớp học, Đào tạo',\n",
       " 'decoration_competition': 'Cuộc thi trang trí, Thiết kế nội thất, Nghệ thuật trang trí',\n",
       " 'election_representative': 'Đại diện bầu cử, Ứng cử viên, Chính trị gia',\n",
       " 'match_season': 'Mùa giải đấu, Giải đấu, Mùa giải',\n",
       " 'perpetrator': 'Thủ phạm, Kẻ gây án, Tội phạm',\n",
       " 'station_weather': 'Trạm thời tiết, Trung tâm khí tượng, Dự báo thời tiết',\n",
       " 'wedding': 'Đám cưới, Hôn lễ, Tiệc cưới',\n",
       " 'activity_1': 'Hoạt động, Sự kiện, Chương trình',\n",
       " 'body_builder': 'Vận động viên thể hình, Người tập thể hình, Gymer',\n",
       " 'candidate_poll': 'Thăm dò ứng cử viên, Khảo sát bầu cử, Điều tra dư luận',\n",
       " 'city_record': 'Hồ sơ thành phố, Thông tin đô thị, Dữ liệu thành phố',\n",
       " 'college_1': 'Trường cao đẳng, Đại học, Viện giáo dục',\n",
       " 'cre_Doc_Control_Systems': 'Hệ thống kiểm soát tài liệu, Quản lý hồ sơ, Giám sát tài liệu',\n",
       " 'cre_Drama_Workshop_Groups': 'Nhóm hội thảo kịch, Lớp diễn xuất, Câu lạc bộ sân khấu',\n",
       " 'customers_and_invoices': 'Khách hàng và hóa đơn, Đơn hàng, Thanh toán',\n",
       " 'customers_and_products_contacts': 'Khách hàng và liên hệ sản phẩm, Mối quan hệ khách hàng, Hỗ trợ khách hàng',\n",
       " 'department_management': 'Quản lý phòng ban, Điều hành bộ phận, Tổ chức công việc',\n",
       " 'driving_school': 'Trường dạy lái xe, Trung tâm đào tạo lái xe, Học lái ô tô',\n",
       " 'employee_hire_evaluation': 'Đánh giá tuyển dụng nhân viên, Kiểm tra nhân sự, Tuyển chọn nhân viên',\n",
       " 'flight_2': 'Chuyến bay, Hành trình hàng không, Vé máy bay',\n",
       " 'game_injury': 'Chấn thương khi chơi game, Tổn thương thể thao, Tai nạn thi đấu',\n",
       " 'imdb': 'Cơ sở dữ liệu phim IMDb, Thông tin phim, Xếp hạng điện ảnh',\n",
       " 'insurance_and_eClaims': 'Bảo hiểm và khiếu nại điện tử, Hợp đồng bảo hiểm, Yêu cầu bồi thường',\n",
       " 'local_govt_in_alabama': 'Chính quyền địa phương ở Alabama, Cơ quan nhà nước, Quản lý khu vực',\n",
       " 'machine_repair': 'Sửa chữa máy móc, Bảo trì thiết bị, Kỹ thuật cơ khí',\n",
       " 'mountain_photos': 'Ảnh núi, Nhiếp ảnh thiên nhiên, Phong cảnh núi non',\n",
       " 'music_2': 'Âm nhạc, Giai điệu, Nghệ thuật âm thanh',\n",
       " 'products_for_hire': 'Sản phẩm cho thuê, Dịch vụ cho thuê, Vật dụng thuê mướn',\n",
       " 'restaurant_1': 'Nhà hàng, Quán ăn, Dịch vụ ẩm thực',\n",
       " 'sakila_1': 'Cửa hàng, Bộ phim, Địa chỉ, Khách hàng, Thanh toán, Thành phố',\n",
       " 'school_bus': 'Xe buýt trường học, Phương tiện đưa đón học sinh, Giao thông học đường',\n",
       " 'school_player': 'Học sinh chơi thể thao, Vận động viên học đường, Đội tuyển trường',\n",
       " 'soccer_1': 'Bóng đá, Môn thể thao vua, Đội tuyển bóng đá',\n",
       " 'store_product': 'Sản phẩm cửa hàng, Hàng hóa, Mặt hàng kinh doanh',\n",
       " 'storm_record': 'Ghi chép bão, Lịch sử thiên tai, Thống kê thời tiết',\n",
       " 'student_1': 'Sinh viên, Học viên, Học sinh',\n",
       " 'student_assessment': 'Đánh giá học sinh, Kiểm tra năng lực, Xếp loại học tập',\n",
       " 'workshop_paper': 'Bài nghiên cứu hội thảo, Tài liệu học thuật, Thảo luận chuyên đề',\n",
       " 'yelp': 'Trang đánh giá Yelp, Nhận xét nhà hàng, Phản hồi khách hàng',\n",
       " 'academic': 'Học thuật, Giáo dục, Nghiên cứu',\n",
       " 'aircraft': 'Máy bay, Phi cơ, Hàng không',\n",
       " 'allergy_1': 'Dị ứng, Phản ứng miễn dịch, Bệnh dị ứng',\n",
       " 'apartment_rentals': 'Thuê căn hộ, Chung cư, Nhà cho thuê',\n",
       " 'baseball_1': 'Bóng chày, Trận đấu bóng chày, Môn thể thao',\n",
       " 'battle_death': 'Cái chết trong trận chiến, Tử trận, Hy sinh',\n",
       " 'behavior_monitoring': 'Giám sát hành vi, Theo dõi thói quen, Phân tích hành vi',\n",
       " 'bike_1': 'Xe đạp, Phương tiện hai bánh, Xe đạp thể thao',\n",
       " 'browser_web': 'Trình duyệt web, Công cụ tìm kiếm, Truy cập Internet',\n",
       " 'car_1': 'Xe hơi, Ô tô, Phương tiện giao thông',\n",
       " 'chinook_1': 'Album, Bài hát, Bản nhạc, Quốc gia, Khách hàng, Nhân viên, Âm nhạc, Nghệ sĩ',\n",
       " 'climbing': 'Leo núi, Trèo đèo, Môn thể thao mạo hiểm',\n",
       " 'club_1': 'Câu lạc bộ, Hội nhóm, Tổ chức xã hội',\n",
       " 'coffee_shop': 'Quán cà phê, Tiệm cà phê, Cửa hàng đồ uống',\n",
       " 'college_2': 'Trường cao đẳng, Học viện, Đại học',\n",
       " 'company_employee': 'Nhân viên công ty, Người lao động, Nhân sự',\n",
       " 'company_office': 'Văn phòng công ty, Trụ sở, Cơ quan',\n",
       " 'county_public_safety': 'An toàn công cộng quận, Dịch vụ khẩn cấp, Cảnh sát cứu hỏa',\n",
       " 'cre_Doc_Template_Mgt': 'Tài liệu, Mẫu, Đoạn văn, Văn bản',\n",
       " 'cre_Doc_Tracking_DB': 'Địa điểm, Tài liệu, Nhân viên, Vai trò',\n",
       " 'cre_Docs_and_Epenses': 'Tài liệu, Tài khoản, Báo cáo, Ngân sách, Dự án',\n",
       " 'cre_Theme_park': 'Công viên chủ đề, Khu vui chơi, Công viên giải trí',\n",
       " 'csu_1': 'Trường, Bằng cấp, Đại học, Học phí, Sinh viên, Giảng viên',\n",
       " 'culture_company': 'Công ty văn hóa, Doanh nghiệp nghệ thuật, Tổ chức sáng tạo',\n",
       " 'customer_complaints': 'Khiếu nại khách hàng, Phản hồi tiêu cực, Bảo hành sản phẩm',\n",
       " 'customer_deliveries': 'Giao hàng cho khách, Vận chuyển đơn hàng, Dịch vụ giao nhận',\n",
       " 'customers_and_addresses': 'Khách hàng và địa chỉ, Danh sách khách hàng, Thông tin liên hệ',\n",
       " 'debate': 'Tranh luận, Thảo luận, Đối thoại',\n",
       " 'department_store': 'Cửa hàng bách hóa, Trung tâm thương mại, Siêu thị',\n",
       " 'device': 'Thiết bị, Công cụ, Máy móc',\n",
       " 'dog_kennels': 'Trại chó, Chỗ nuôi chó, Dịch vụ chăm sóc thú cưng',\n",
       " 'dorm_1': 'Ký túc xá, Nhà ở sinh viên, Chỗ ở tập thể',\n",
       " 'e_government': 'Chính phủ điện tử, Quản lý số, Công nghệ hành chính',\n",
       " 'election': 'Bầu cử, Ứng cử, Tranh cử',\n",
       " 'entertainment_awards': 'Giải thưởng giải trí, Danh hiệu nghệ thuật, Vinh danh',\n",
       " 'entrepreneur': 'Doanh nhân, Nhà kinh doanh, Người khởi nghiệp',\n",
       " 'epinions_1': 'Nhận xét ePinions, Đánh giá sản phẩm, Phản hồi khách hàng',\n",
       " 'film_rank': 'Xếp hạng phim, Đánh giá điện ảnh, Bảng xếp hạng phim',\n",
       " 'flight_1': 'Chuyến bay, Hành trình hàng không, Vé máy bay',\n",
       " 'flight_4': 'Chuyến bay, Hành trình hàng không, Dịch vụ hàng không',\n",
       " 'formula_1': 'Đua xe Công thức, Giải đua F1, Môn thể thao tốc độ',\n",
       " 'game_1': 'Trò chơi, Trận đấu, Giải trí điện tử',\n",
       " 'gas_company': 'Công ty khí đốt, Nhà cung cấp năng lượng, Doanh nghiệp khí hóa',\n",
       " 'geo': 'Địa lý, Khoa học trái đất, Thông tin địa hình',\n",
       " 'gymnast': 'Vận động viên thể dục, Người tập gym, Thể dục dụng cụ',\n",
       " 'hospital_1': 'Bệnh viện, Cơ sở y tế, Trung tâm chăm sóc sức khỏe',\n",
       " 'hr_1': 'Nhân sự, Quản lý nguồn nhân lực, Tuyển dụng',\n",
       " 'icfp_1': 'Tác giả, Báo cáo, Nghiên cứu, Bài báo, Tiêu đề',\n",
       " 'inn_1': 'Nhà trọ, Khách sạn nhỏ, Chỗ ở qua đêm',\n",
       " 'insurance_fnol': 'Bảo hiểm báo cáo tổn thất đầu tiên, Khiếu nại bảo hiểm, Yêu cầu bồi thường',\n",
       " 'insurance_policies': 'Chính sách bảo hiểm, Gói bảo hiểm, Hợp đồng bảo hiểm',\n",
       " 'journal_committee': 'Ban biên tập tạp chí, Ủy ban học thuật, Hội đồng nghiên cứu',\n",
       " 'loan_1': 'Khoản vay, Tín dụng, Hỗ trợ tài chính',\n",
       " 'local_govt_and_lot': 'Chính quyền địa phương và quy hoạch, Quản lý đô thị, Hành chính công',\n",
       " 'local_govt_mdm': 'Mã hễ thống, Thuế, Tham chiếu',\n",
       " 'manufactory_1': 'Nhà máy sản xuất, Xưởng chế tạo, Cơ sở công nghiệp',\n",
       " 'medicine_enzyme_interaction': 'Tương tác enzyme thuốc, Nghiên cứu y dược, Công nghệ sinh học',\n",
       " 'movie_1': 'Phim, Tác phẩm điện ảnh, Bộ phim',\n",
       " 'music_1': 'Âm nhạc, Nghệ thuật âm thanh, Giai điệu',\n",
       " 'music_4': 'Âm nhạc, Tác phẩm âm nhạc, Nhạc cụ',\n",
       " 'musical': 'Nhạc kịch, Chương trình âm nhạc, Sân khấu ca nhạc',\n",
       " 'network_2': 'Mạng lưới, Hệ thống kết nối, Công nghệ truyền thông',\n",
       " 'news_report': 'Báo cáo tin tức, Bản tin, Truyền thông',\n",
       " 'orchestra': 'Dàn nhạc giao hưởng, Nhóm nhạc, Ban nhạc cổ điển',\n",
       " 'party_people': 'Người tham gia tiệc, Khách mời sự kiện, Hội nhóm vui chơi',\n",
       " 'performance_attendance': 'Tham dự buổi biểu diễn, Khán giả, Người xem',\n",
       " 'pets_1': 'Thú cưng, Động vật nuôi, Bạn đồng hành',\n",
       " 'phone_1': 'Điện thoại, Thiết bị di động, Liên lạc',\n",
       " 'pilot_record': 'Hồ sơ phi công, Lý lịch bay, Giấy phép hàng không',\n",
       " 'poker_player': 'Người chơi poker, Bài bạc, Đánh bài',\n",
       " 'products_gen_characteristics': 'Đặc điểm chung của sản phẩm, Tính năng, Chất lượng',\n",
       " 'program_share': 'Chia sẻ chương trình, Phân phối phần mềm, Công nghệ số',\n",
       " 'protein_institute': 'Viện nghiên cứu protein, Công nghệ sinh học, Dinh dưỡng',\n",
       " 'race_track': 'Đường đua, Trường đua, Cuộc thi tốc độ',\n",
       " 'railway': 'Đường sắt, Tuyến tàu hỏa, Giao thông đường sắt',\n",
       " 'real_estate_properties': 'Bất động sản, Nhà đất, Tài sản địa ốc',\n",
       " 'restaurants': 'Nhà hàng, Quán ăn, Ẩm thực',\n",
       " 'riding_club': 'Câu lạc bộ cưỡi ngựa, Hội đua ngựa, Trung tâm huấn luyện',\n",
       " 'roller_coaster': 'Tàu lượn siêu tốc, Trò chơi cảm giác mạnh, Công viên giải trí',\n",
       " 'scholar': 'Học giả, Nhà nghiên cứu, Người uyên bác',\n",
       " 'school_finance': 'Tài chính trường học, Ngân sách giáo dục, Quản lý tài chính',\n",
       " 'ship_1': 'Tàu, Phương tiện hàng hải, Vận tải biển',\n",
       " 'shop_membership': 'Thẻ thành viên cửa hàng, Hội viên, Khách hàng thân thiết',\n",
       " 'small_bank_1': 'Ngân hàng nhỏ, Dịch vụ tài chính, Tổ chức tín dụng',\n",
       " 'soccer_2': 'Bóng đá, Môn thể thao, Trận đấu',\n",
       " 'solvency_ii': 'Quy định Solvency II, Quản lý rủi ro tài chính, Kiểm soát bảo hiểm',\n",
       " 'store_1': 'Cửa hàng, Siêu thị, Nơi mua sắm',\n",
       " 'student_transcripts_tracking': 'Theo dõi bảng điểm sinh viên, Quản lý thành tích, Hồ sơ học tập',\n",
       " 'theme_gallery': 'Phòng trưng bày chủ đề, Triển lãm, Không gian nghệ thuật',\n",
       " 'tracking_grants_for_research': 'Theo dõi tài trợ nghiên cứu, Quản lý quỹ khoa học, Hỗ trợ nghiên cứu',\n",
       " 'tracking_orders': 'Theo dõi đơn hàng, Quản lý mua sắm, Đơn hàng trực tuyến',\n",
       " 'tracking_software_problems': 'Theo dõi lỗi phần mềm, Gỡ lỗi, Hệ thống kiểm tra',\n",
       " 'tvshow': 'Chương trình truyền hình, Phim bộ, Giải trí trên TV',\n",
       " 'twitter_1': 'Twitter, Mạng xã hội, Microblogging',\n",
       " 'university_basketball': 'Bóng rổ đại học, Giải đấu sinh viên, Trận đấu thể thao',\n",
       " 'voter_2': 'Cử tri, Người bỏ phiếu, Quyền bầu cử',\n",
       " 'wine_1': 'Rượu vang, Đồ uống có cồn, Nho ủ',\n",
       " 'world_1': 'Thế giới, Địa cầu, Toàn cầu hóa',\n",
       " 'wrestler': 'Đô vật, Vận động viên đấu vật, Thể thao đối kháng'}"
      ]
     },
     "execution_count": 31,
     "metadata": {},
     "output_type": "execute_result"
    }
   ],
   "source": [
    "result = DF2.set_index('col1')['col2'].to_dict()\n",
    "result"
   ]
  },
  {
   "cell_type": "code",
   "execution_count": 32,
   "metadata": {},
   "outputs": [],
   "source": [
    "DF1['db_id_vn'] = DF1['db_id_vn'].map(result)"
   ]
  },
  {
   "cell_type": "code",
   "execution_count": 33,
   "metadata": {},
   "outputs": [
    {
     "data": {
      "application/vnd.microsoft.datawrangler.viewer.v0+json": {
       "columns": [
        {
         "name": "index",
         "rawType": "int64",
         "type": "integer"
        },
        {
         "name": "db_id",
         "rawType": "object",
         "type": "string"
        },
        {
         "name": "db_id_vn",
         "rawType": "object",
         "type": "string"
        },
        {
         "name": "query",
         "rawType": "object",
         "type": "string"
        },
        {
         "name": "query_toks",
         "rawType": "object",
         "type": "unknown"
        },
        {
         "name": "query_toks_no_value",
         "rawType": "object",
         "type": "unknown"
        },
        {
         "name": "question",
         "rawType": "object",
         "type": "string"
        },
        {
         "name": "question_toks",
         "rawType": "object",
         "type": "unknown"
        },
        {
         "name": "sql",
         "rawType": "object",
         "type": "unknown"
        }
       ],
       "ref": "9311b95e-c590-4db7-9c2d-2f3435abb9ac",
       "rows": [
        [
         "2891",
         "academic",
         "Học thuật, Giáo dục, Nghiên cứu",
         "select t3.tiêu đề from viết as t2 join tác giả as t1 on t2.id tác giả = t1.id tác giả join bài báo as t3 on t2.id bài báo = t3.id bài báo where t1.tên = \"H. V. Jagadish\"",
         "['select', 't3.tiêu đề', 'from', 'viết', 'as', 't2', 'join', 'tác giả', 'as', 't1', 'on', 't2.id tác giả', '=', 't1.id tác giả', 'join', 'bài báo', 'as', 't3', 'on', 't2.id bài báo', '=', 't3.id bài báo', 'where', 't1.tên', '=', '\"H. V. Jagadish\"']",
         "['select', 't3', '.', 'tiêu đề', 'from', 'viết', 'as', 't2', 'join', 'tác giả', 'as', 't1', 'on', 't2', '.', 'id tác giả', '=', 't1', '.', 'id tác giả', 'join', 'bài báo', 'as', 't3', 'on', 't2', '.', 'id bài báo', '=', 't3', '.', 'id bài báo', 'where', 't1', '.', 'tên', '=', 'value']",
         "những bài báo nào đã được viết bởi H. V. Jagadish ?",
         "['những', 'bài', 'báo', 'nào', 'đã', 'được', 'viết', 'bởi', 'H.', 'V.', 'Jagadish', '?']",
         "{'except': None, 'from': {'conds': [[False, 2, [0, [0, 39, False], None], [0, 1, False], None]], 'table_units': [['table_unit', 13], ['table_unit', 0]]}, 'groupBy': [], 'having': [], 'intersect': None, 'limit': None, 'orderBy': [], 'select': [False, [[0, [0, [0, 29, False], None]]]], 'union': None, 'where': [[False, 2, [0, [0, 3, False], None], '\"H. V. Jagadish\"', None]]}"
        ],
        [
         "3039",
         "academic",
         "Học thuật, Giáo dục, Nghiên cứu",
         "select t1.tên from bài báo as t4 join hội nghị as t2 on t4.id hội nghị = t2.id hội nghị join viết as t3 on t3.id bài báo = t4.id bài báo join tác giả as t1 on t3.id tác giả = t1.id tác giả where t2.tên = \"VLDB\" group by t1.tên having count ( distinct t4.tiêu đề ) > 10",
         "['select', 't1.tên', 'from', 'bài báo', 'as', 't4', 'join', 'hội nghị', 'as', 't2', 'on', 't4.id hội nghị', '=', 't2.id hội nghị', 'join', 'viết', 'as', 't3', 'on', 't3.id bài báo', '=', 't4.id bài báo', 'join', 'tác giả', 'as', 't1', 'on', 't3.id tác giả', '=', 't1.id tác giả', 'where', 't2.tên', '=', '\"VLDB\"', 'group', 'by', 't1.tên', 'having', 'count', '(', 'distinct', 't4.tiêu đề', ')', '>', '10']",
         "['select', 't1', '.', 'tên', 'from', 'bài báo', 'as', 't4', 'join', 'hội nghị', 'as', 't2', 'on', 't4', '.', 'id hội nghị', '=', 't2', '.', 'id hội nghị', 'join', 'viết', 'as', 't3', 'on', 't3', '.', 'id bài báo', '=', 't4', '.', 'id bài báo', 'join', 'tác giả', 'as', 't1', 'on', 't3', '.', 'id tác giả', '=', 't1', '.', 'id tác giả', 'where', 't2', '.', 'tên', '=', 'value', 'group', 'by', 't1', '.', 'tên', 'having', 'count', '(', 'distinct', 't4', '.', 'tiêu đề', ')', '>', 'value']",
         "liệt kê các tác giả có hơn 10 bài báo được đăng tại hội nghị VLDB .",
         "['liệt', 'kê', 'các', 'tác', 'giả', 'có', 'hơn', '10', 'bài', 'báo', 'được', 'đăng', 'tại', 'hội', 'nghị', 'VLDB', '.']",
         "{'except': None, 'from': {'conds': [[False, 2, [0, [0, 24, False], None], [0, 5, False], None]], 'table_units': [['table_unit', 9], ['table_unit', 1]]}, 'groupBy': [[0, 3, False]], 'having': [[False, 3, [0, [3, 29, True], None], 10.0, None]], 'intersect': None, 'limit': None, 'orderBy': [], 'select': [False, [[0, [0, [0, 3, False], None]]]], 'union': None, 'where': [[False, 2, [0, [0, 7, False], None], '\"VLDB\"', None]]}"
        ],
        [
         "3040",
         "academic",
         "Học thuật, Giáo dục, Nghiên cứu",
         "select t1.tên from bài báo as t4 join hội nghị as t2 on t4.id hội nghị = t2.id hội nghị join viết as t3 on t3.id bài báo = t4.id bài báo join tác giả as t1 on t3.id tác giả = t1.id tác giả where t2.tên = \"VLDB\" group by t1.tên order by count ( distinct t4.tiêu đề ) desc limit 1",
         "['select', 't1.tên', 'from', 'bài báo', 'as', 't4', 'join', 'hội nghị', 'as', 't2', 'on', 't4.id hội nghị', '=', 't2.id hội nghị', 'join', 'viết', 'as', 't3', 'on', 't3.id bài báo', '=', 't4.id bài báo', 'join', 'tác giả', 'as', 't1', 'on', 't3.id tác giả', '=', 't1.id tác giả', 'where', 't2.tên', '=', '\"VLDB\"', 'group', 'by', 't1.tên', 'order', 'by', 'count', '(', 'distinct', 't4.tiêu đề', ')', 'desc', 'limit', '1']",
         "['select', 't1', '.', 'tên', 'from', 'bài báo', 'as', 't4', 'join', 'hội nghị', 'as', 't2', 'on', 't4', '.', 'id hội nghị', '=', 't2', '.', 'id hội nghị', 'join', 'viết', 'as', 't3', 'on', 't3', '.', 'id bài báo', '=', 't4', '.', 'id bài báo', 'join', 'tác giả', 'as', 't1', 'on', 't3', '.', 'id tác giả', '=', 't1', '.', 'id tác giả', 'where', 't2', '.', 'tên', '=', 'value', 'group', 'by', 't1', '.', 'tên', 'order', 'by', 'count', '(', 'distinct', 't4', '.', 'tiêu đề', ')', 'desc', 'limit', 'value']",
         "tác giả nào có nhiều bài báo tại hội nghị VLDB nhất ?",
         "['tác', 'giả', 'nào', 'có', 'nhiều', 'bài', 'báo', 'tại', 'hội', 'nghị', 'VLDB', 'nhất', '?']",
         "{'except': None, 'from': {'conds': [[False, 2, [0, [0, 24, False], None], [0, 5, False], None]], 'table_units': [['table_unit', 9], ['table_unit', 1]]}, 'groupBy': [[0, 3, False]], 'having': [], 'intersect': None, 'limit': 1, 'orderBy': ['desc', [[0, [3, 29, True], None]]], 'select': [False, [[0, [0, [0, 3, False], None]]]], 'union': None, 'where': [[False, 2, [0, [0, 7, False], None], '\"VLDB\"', None]]}"
        ],
        [
         "3041",
         "academic",
         "Học thuật, Giáo dục, Nghiên cứu",
         "select t1.tên from tổ chức as t2 join tác giả as t1 on t2.id tổ chức = t1.id tổ chức join viết as t3 on t3.id tác giả = t1.id tác giả join bài báo as t4 on t3.id bài báo = t4.id bài báo where t2.tên = \"University of Michigan\" group by t1.tên having sum ( t4.số lượng trích dẫn ) > 5000",
         "['select', 't1.tên', 'from', 'tổ chức', 'as', 't2', 'join', 'tác giả', 'as', 't1', 'on', 't2.id tổ chức', '=', 't1.id tổ chức', 'join', 'viết', 'as', 't3', 'on', 't3.id tác giả', '=', 't1.id tác giả', 'join', 'bài báo', 'as', 't4', 'on', 't3.id bài báo', '=', 't4.id bài báo', 'where', 't2.tên', '=', '\"University of Michigan\"', 'group', 'by', 't1.tên', 'having', 'sum', '(', 't4.số lượng trích dẫn', ')', '>', '5000']",
         "['select', 't1', '.', 'tên', 'from', 'tổ chức', 'as', 't2', 'join', 'tác giả', 'as', 't1', 'on', 't2', '.', 'id tổ chức', '=', 't1', '.', 'id tổ chức', 'join', 'viết', 'as', 't3', 'on', 't3', '.', 'id tác giả', '=', 't1', '.', 'id tác giả', 'join', 'bài báo', 'as', 't4', 'on', 't3', '.', 'id bài báo', '=', 't4', '.', 'id bài báo', 'where', 't2', '.', 'tên', '=', 'value', 'group', 'by', 't1', '.', 'tên', 'having', 'sum', '(', 't4', '.', 'số lượng trích dẫn', ')', '>', 'value']",
         "những tác giả nào thuộc ' Đại học Michigan ' đã xuất bản một số bài báo với nhiều hơn 5000 trích dẫn ?",
         "['những', 'tác', 'giả', 'nào', 'thuộc', \"'\", 'Đại', 'học', 'Michigan', \"'\", 'đã', 'xuất', 'bản', 'một', 'số', 'bài', 'báo', 'với', 'nhiều', 'hơn', '5000', 'trích', 'dẫn', '?']",
         "{'except': None, 'from': {'conds': [[False, 2, [0, [0, 36, False], None], [0, 4, False], None]], 'table_units': [['table_unit', 11], ['table_unit', 0]]}, 'groupBy': [[0, 3, False]], 'having': [[False, 3, [0, [4, 25, False], None], 5000.0, None]], 'intersect': None, 'limit': None, 'orderBy': [], 'select': [False, [[0, [0, [0, 3, False], None]]]], 'union': None, 'where': [[False, 2, [0, [0, 35, False], None], '\"University of Michigan\"', None]]}"
        ],
        [
         "3042",
         "academic",
         "Học thuật, Giáo dục, Nghiên cứu",
         "select t1.tên from lĩnh vực của tác giả as t6 join tác giả as t1 on t6.id tác giả = t1.id tác giả join lĩnh vực as t3 on t3.id lĩnh vực = t6.id lĩnh vực join tổ chức as t5 on t5.id tổ chức = t1.id tổ chức join viết as t2 on t2.id tác giả = t1.id tác giả join bài báo as t4 on t2.id bài báo = t4.id bài báo where t3.tên = \"Databases\" and t5.tên = \"University of Michigan\" group by t1.tên having sum ( t4.số lượng trích dẫn ) > 5000",
         "['select', 't1.tên', 'from', 'lĩnh vực của tác giả', 'as', 't6', 'join', 'tác giả', 'as', 't1', 'on', 't6.id tác giả', '=', 't1.id tác giả', 'join', 'lĩnh vực', 'as', 't3', 'on', 't3.id lĩnh vực', '=', 't6.id lĩnh vực', 'join', 'tổ chức', 'as', 't5', 'on', 't5.id tổ chức', '=', 't1.id tổ chức', 'join', 'viết', 'as', 't2', 'on', 't2.id tác giả', '=', 't1.id tác giả', 'join', 'bài báo', 'as', 't4', 'on', 't2.id bài báo', '=', 't4.id bài báo', 'where', 't3.tên', '=', '\"Databases\"', 'and', 't5.tên', '=', '\"University of Michigan\"', 'group', 'by', 't1.tên', 'having', 'sum', '(', 't4.số lượng trích dẫn', ')', '>', '5000']",
         "['select', 't1', '.', 'tên', 'from', 'lĩnh vực của tác giả', 'as', 't6', 'join', 'tác giả', 'as', 't1', 'on', 't6', '.', 'id tác giả', '=', 't1', '.', 'id tác giả', 'join', 'lĩnh vực', 'as', 't3', 'on', 't3', '.', 'id lĩnh vực', '=', 't6', '.', 'id lĩnh vực', 'join', 'tổ chức', 'as', 't5', 'on', 't5', '.', 'id tổ chức', '=', 't1', '.', 'id tổ chức', 'join', 'viết', 'as', 't2', 'on', 't2', '.', 'id tác giả', '=', 't1', '.', 'id tác giả', 'join', 'bài báo', 'as', 't4', 'on', 't2', '.', 'id bài báo', '=', 't4', '.', 'id bài báo', 'where', 't3', '.', 'tên', '=', 'value', 'and', 't5', '.', 'tên', '=', 'value', 'group', 'by', 't1', '.', 'tên', 'having', 'sum', '(', 't4', '.', 'số lượng trích dẫn', ')', '>', 'value']",
         "liệt kê các tác giả thuộc ' Đại học Michigan ' hiện đang nghiên cứu trong lĩnh vực ' Cơ sở dữ liệu ' và có một số bài báo nhận được nhiều hơn 5000 trích dẫn .",
         "['liệt', 'kê', 'các', 'tác', 'giả', 'thuộc', \"'\", 'Đại', 'học', 'Michigan', \"'\", 'hiện', 'đang', 'nghiên', 'cứu', 'trong', 'lĩnh', 'vực', \"'\", 'Cơ', 'sở', 'dữ', 'liệu', \"'\", 'và', 'có', 'một', 'số', 'bài', 'báo', 'nhận', 'được', 'nhiều', 'hơn', '5000', 'trích', 'dẫn', '.']",
         "{'except': None, 'from': {'conds': [[False, 2, [0, [0, 10, False], None], [0, 1, False], None]], 'table_units': [['table_unit', 3], ['table_unit', 0]]}, 'groupBy': [[0, 3, False]], 'having': [[False, 3, [0, [4, 25, False], None], 5000.0, None]], 'intersect': None, 'limit': None, 'orderBy': [], 'select': [False, [[0, [0, [0, 3, False], None]]]], 'union': None, 'where': [[False, 2, [0, [0, 9, False], None], '\"Databases\"', None], 'and', [False, 2, [0, [0, 35, False], None], '\"University of Michigan\"', None]]}"
        ],
        [
         "3005",
         "academic",
         "Học thuật, Giáo dục, Nghiên cứu",
         "select count ( distinct t2.tên ) from bài báo as t7 join trích dẫn as t5 on t7.id bài báo = t5.trích dẫn join bài báo as t6 on t6.id bài báo = t5.được trích dẫn join viết as t3 on t3.id bài báo = t7.id bài báo join viết as t4 on t4.id bài báo = t6.id bài báo join tác giả as t2 on t3.id tác giả = t2.id tác giả join tác giả as t1 on t4.id tác giả = t1.id tác giả where t1.tên = \"H. V. Jagadish\"",
         "['select', 'count', '(', 'distinct', 't2.tên', ')', 'from', 'bài báo', 'as', 't7', 'join', 'trích dẫn', 'as', 't5', 'on', 't7.id bài báo', '=', 't5.trích dẫn', 'join', 'bài báo', 'as', 't6', 'on', 't6.id bài báo', '=', 't5.được trích dẫn', 'join', 'viết', 'as', 't3', 'on', 't3.id bài báo', '=', 't7.id bài báo', 'join', 'viết', 'as', 't4', 'on', 't4.id bài báo', '=', 't6.id bài báo', 'join', 'tác giả', 'as', 't2', 'on', 't3.id tác giả', '=', 't2.id tác giả', 'join', 'tác giả', 'as', 't1', 'on', 't4.id tác giả', '=', 't1.id tác giả', 'where', 't1.tên', '=', '\"H. V. Jagadish\"']",
         "['select', 'count', '(', 'distinct', 't2', '.', 'tên', ')', 'from', 'bài báo', 'as', 't7', 'join', 'trích dẫn', 'as', 't5', 'on', 't7', '.', 'id bài báo', '=', 't5', '.', 'trích dẫn', 'join', 'bài báo', 'as', 't6', 'on', 't6', '.', 'id bài báo', '=', 't5', '.', 'được trích dẫn', 'join', 'viết', 'as', 't3', 'on', 't3', '.', 'id bài báo', '=', 't7', '.', 'id bài báo', 'join', 'viết', 'as', 't4', 'on', 't4', '.', 'id bài báo', '=', 't6', '.', 'id bài báo', 'join', 'tác giả', 'as', 't2', 'on', 't3', '.', 'id tác giả', '=', 't2', '.', 'id tác giả', 'join', 'tác giả', 'as', 't1', 'on', 't4', '.', 'id tác giả', '=', 't1', '.', 'id tác giả', 'where', 't1', '.', 'tên', '=', 'value']",
         "số lượng các tác giả đã trích dẫn một số bài báo của ' H . V. Jagadish ' là bao nhiêu ?",
         "['số', 'lượng', 'các', 'tác', 'giả', 'đã', 'trích', 'dẫn', 'một', 'số', 'bài', 'báo', 'của', \"'\", 'H', '.', 'V.', 'Jagadish', \"'\", 'là', 'bao', 'nhiêu', '?']",
         "{'except': None, 'from': {'conds': [[False, 2, [0, [0, 27, False], None], [0, 42, False], None]], 'table_units': [['table_unit', 9], ['table_unit', 14]]}, 'groupBy': [], 'having': [], 'intersect': None, 'limit': None, 'orderBy': [], 'select': [False, [[3, [0, [0, 3, True], None]]]], 'union': None, 'where': [[False, 2, [0, [0, 3, False], None], '\"H. V. Jagadish\"', None]]}"
        ],
        [
         "12735",
         "academic",
         "Học thuật, Giáo dục, Nghiên cứu",
         "select t1.tên from lĩnh_vực của tác_giả as t6 join tác_giả as t1 on t6.id tác_giả = t1.id tác_giả join lĩnh_vực as t3 on t3.id lĩnh_vực = t6.id lĩnh_vực join tổ_chức as t5 on t5.id tổ_chức = t1.id tổ_chức join viết as t2 on t2.id tác_giả = t1.id tác_giả join bài báo as t4 on t2.id bài báo = t4.id bài báo where t3.tên = \"Databases\" and t5.tên = \"University of Michigan\" group by t1.tên having sum ( t4.số_lượng trích_dẫn ) > 5000",
         "['select', 't1.tên', 'from', 'lĩnh_vực của tác_giả', 'as', 't6', 'join', 'tác_giả', 'as', 't1', 'on', 't6.id tác_giả', '=', 't1.id tác_giả', 'join', 'lĩnh_vực', 'as', 't3', 'on', 't3.id lĩnh_vực', '=', 't6.id lĩnh_vực', 'join', 'tổ_chức', 'as', 't5', 'on', 't5.id tổ_chức', '=', 't1.id tổ_chức', 'join', 'viết', 'as', 't2', 'on', 't2.id tác_giả', '=', 't1.id tác_giả', 'join', 'bài báo', 'as', 't4', 'on', 't2.id bài báo', '=', 't4.id bài báo', 'where', 't3.tên', '=', '\"Databases\"', 'and', 't5.tên', '=', '\"University of Michigan\"', 'group', 'by', 't1.tên', 'having', 'sum', '(', 't4.số_lượng trích_dẫn', ')', '>', '5000']",
         "['select', 't1', '.', 'tên', 'from', 'lĩnh_vực của tác_giả', 'as', 't6', 'join', 'tác_giả', 'as', 't1', 'on', 't6', '.', 'id tác_giả', '=', 't1', '.', 'id tác_giả', 'join', 'lĩnh_vực', 'as', 't3', 'on', 't3', '.', 'id lĩnh_vực', '=', 't6', '.', 'id lĩnh_vực', 'join', 'tổ_chức', 'as', 't5', 'on', 't5', '.', 'id tổ_chức', '=', 't1', '.', 'id tổ_chức', 'join', 'viết', 'as', 't2', 'on', 't2', '.', 'id tác_giả', '=', 't1', '.', 'id tác_giả', 'join', 'bài báo', 'as', 't4', 'on', 't2', '.', 'id bài báo', '=', 't4', '.', 'id bài báo', 'where', 't3', '.', 'tên', '=', 'value', 'and', 't5', '.', 'tên', '=', 'value', 'group', 'by', 't1', '.', 'tên', 'having', 'sum', '(', 't4', '.', 'số_lượng trích_dẫn', ')', '>', 'value']",
         "liệt_kê các tác_giả thuộc ' Đại_học Michigan ' hiện đang nghiên_cứu trong lĩnh_vực ' Cơ_sở_dữ_liệu ' và có một_số bài báo nhận được nhiều hơn 5000 trích_dẫn .",
         "['liệt_kê', 'các', 'tác_giả', 'thuộc', \"'\", 'Đại_học', 'Michigan', \"'\", 'hiện', 'đang', 'nghiên_cứu', 'trong', 'lĩnh_vực', \"'\", 'Cơ_sở_dữ_liệu', \"'\", 'và', 'có', 'một_số', 'bài', 'báo', 'nhận', 'được', 'nhiều', 'hơn', '5000', 'trích_dẫn', '.']",
         "{'except': None, 'from': {'conds': [[False, 2, [0, [0, 10, False], None], [0, 1, False], None]], 'table_units': [['table_unit', 3], ['table_unit', 0]]}, 'groupBy': [[0, 3, False]], 'having': [[False, 3, [0, [4, 25, False], None], 5000.0, None]], 'intersect': None, 'limit': None, 'orderBy': [], 'select': [False, [[0, [0, [0, 3, False], None]]]], 'union': None, 'where': [[False, 2, [0, [0, 9, False], None], '\"Databases\"', None], 'and', [False, 2, [0, [0, 35, False], None], '\"University of Michigan\"', None]]}"
        ],
        [
         "12734",
         "academic",
         "Học thuật, Giáo dục, Nghiên cứu",
         "select t1.tên from tổ_chức as t2 join tác_giả as t1 on t2.id tổ_chức = t1.id tổ_chức join viết as t3 on t3.id tác_giả = t1.id tác_giả join bài báo as t4 on t3.id bài báo = t4.id bài báo where t2.tên = \"University of Michigan\" group by t1.tên having sum ( t4.số_lượng trích_dẫn ) > 5000",
         "['select', 't1.tên', 'from', 'tổ_chức', 'as', 't2', 'join', 'tác_giả', 'as', 't1', 'on', 't2.id tổ_chức', '=', 't1.id tổ_chức', 'join', 'viết', 'as', 't3', 'on', 't3.id tác_giả', '=', 't1.id tác_giả', 'join', 'bài báo', 'as', 't4', 'on', 't3.id bài báo', '=', 't4.id bài báo', 'where', 't2.tên', '=', '\"University of Michigan\"', 'group', 'by', 't1.tên', 'having', 'sum', '(', 't4.số_lượng trích_dẫn', ')', '>', '5000']",
         "['select', 't1', '.', 'tên', 'from', 'tổ_chức', 'as', 't2', 'join', 'tác_giả', 'as', 't1', 'on', 't2', '.', 'id tổ_chức', '=', 't1', '.', 'id tổ_chức', 'join', 'viết', 'as', 't3', 'on', 't3', '.', 'id tác_giả', '=', 't1', '.', 'id tác_giả', 'join', 'bài báo', 'as', 't4', 'on', 't3', '.', 'id bài báo', '=', 't4', '.', 'id bài báo', 'where', 't2', '.', 'tên', '=', 'value', 'group', 'by', 't1', '.', 'tên', 'having', 'sum', '(', 't4', '.', 'số_lượng trích_dẫn', ')', '>', 'value']",
         "những tác_giả nào thuộc ' Đại_học Michigan ' đã xuất_bản một_số bài báo với nhiều hơn 5000 trích_dẫn ?",
         "['những', 'tác_giả', 'nào', 'thuộc', \"'\", 'Đại_học', 'Michigan', \"'\", 'đã', 'xuất_bản', 'một_số', 'bài', 'báo', 'với', 'nhiều', 'hơn', '5000', 'trích_dẫn', '?']",
         "{'except': None, 'from': {'conds': [[False, 2, [0, [0, 36, False], None], [0, 4, False], None]], 'table_units': [['table_unit', 11], ['table_unit', 0]]}, 'groupBy': [[0, 3, False]], 'having': [[False, 3, [0, [4, 25, False], None], 5000.0, None]], 'intersect': None, 'limit': None, 'orderBy': [], 'select': [False, [[0, [0, [0, 3, False], None]]]], 'union': None, 'where': [[False, 2, [0, [0, 35, False], None], '\"University of Michigan\"', None]]}"
        ],
        [
         "12733",
         "academic",
         "Học thuật, Giáo dục, Nghiên cứu",
         "select t1.tên from bài báo as t4 join hội_nghị as t2 on t4.id hội_nghị = t2.id hội_nghị join viết as t3 on t3.id bài báo = t4.id bài báo join tác_giả as t1 on t3.id tác_giả = t1.id tác_giả where t2.tên = \"VLDB\" group by t1.tên order by count ( distinct t4.tiêu_đề ) desc limit 1",
         "['select', 't1.tên', 'from', 'bài báo', 'as', 't4', 'join', 'hội_nghị', 'as', 't2', 'on', 't4.id hội_nghị', '=', 't2.id hội_nghị', 'join', 'viết', 'as', 't3', 'on', 't3.id bài báo', '=', 't4.id bài báo', 'join', 'tác_giả', 'as', 't1', 'on', 't3.id tác_giả', '=', 't1.id tác_giả', 'where', 't2.tên', '=', '\"VLDB\"', 'group', 'by', 't1.tên', 'order', 'by', 'count', '(', 'distinct', 't4.tiêu_đề', ')', 'desc', 'limit', '1']",
         "['select', 't1', '.', 'tên', 'from', 'bài báo', 'as', 't4', 'join', 'hội_nghị', 'as', 't2', 'on', 't4', '.', 'id hội_nghị', '=', 't2', '.', 'id hội_nghị', 'join', 'viết', 'as', 't3', 'on', 't3', '.', 'id bài báo', '=', 't4', '.', 'id bài báo', 'join', 'tác_giả', 'as', 't1', 'on', 't3', '.', 'id tác_giả', '=', 't1', '.', 'id tác_giả', 'where', 't2', '.', 'tên', '=', 'value', 'group', 'by', 't1', '.', 'tên', 'order', 'by', 'count', '(', 'distinct', 't4', '.', 'tiêu_đề', ')', 'desc', 'limit', 'value']",
         "tác_giả nào có nhiều bài báo tại hội_nghị VLDB nhất ?",
         "['tác_giả', 'nào', 'có', 'nhiều', 'bài', 'báo', 'tại', 'hội_nghị', 'VLDB', 'nhất', '?']",
         "{'except': None, 'from': {'conds': [[False, 2, [0, [0, 24, False], None], [0, 5, False], None]], 'table_units': [['table_unit', 9], ['table_unit', 1]]}, 'groupBy': [[0, 3, False]], 'having': [], 'intersect': None, 'limit': 1, 'orderBy': ['desc', [[0, [3, 29, True], None]]], 'select': [False, [[0, [0, [0, 3, False], None]]]], 'union': None, 'where': [[False, 2, [0, [0, 7, False], None], '\"VLDB\"', None]]}"
        ],
        [
         "12732",
         "academic",
         "Học thuật, Giáo dục, Nghiên cứu",
         "select t1.tên from bài báo as t4 join hội_nghị as t2 on t4.id hội_nghị = t2.id hội_nghị join viết as t3 on t3.id bài báo = t4.id bài báo join tác_giả as t1 on t3.id tác_giả = t1.id tác_giả where t2.tên = \"VLDB\" group by t1.tên having count ( distinct t4.tiêu_đề ) > 10",
         "['select', 't1.tên', 'from', 'bài báo', 'as', 't4', 'join', 'hội_nghị', 'as', 't2', 'on', 't4.id hội_nghị', '=', 't2.id hội_nghị', 'join', 'viết', 'as', 't3', 'on', 't3.id bài báo', '=', 't4.id bài báo', 'join', 'tác_giả', 'as', 't1', 'on', 't3.id tác_giả', '=', 't1.id tác_giả', 'where', 't2.tên', '=', '\"VLDB\"', 'group', 'by', 't1.tên', 'having', 'count', '(', 'distinct', 't4.tiêu_đề', ')', '>', '10']",
         "['select', 't1', '.', 'tên', 'from', 'bài báo', 'as', 't4', 'join', 'hội_nghị', 'as', 't2', 'on', 't4', '.', 'id hội_nghị', '=', 't2', '.', 'id hội_nghị', 'join', 'viết', 'as', 't3', 'on', 't3', '.', 'id bài báo', '=', 't4', '.', 'id bài báo', 'join', 'tác_giả', 'as', 't1', 'on', 't3', '.', 'id tác_giả', '=', 't1', '.', 'id tác_giả', 'where', 't2', '.', 'tên', '=', 'value', 'group', 'by', 't1', '.', 'tên', 'having', 'count', '(', 'distinct', 't4', '.', 'tiêu_đề', ')', '>', 'value']",
         "liệt_kê các tác_giả có hơn 10 bài báo được đăng tại hội_nghị VLDB .",
         "['liệt_kê', 'các', 'tác_giả', 'có', 'hơn', '10', 'bài', 'báo', 'được', 'đăng', 'tại', 'hội_nghị', 'VLDB', '.']",
         "{'except': None, 'from': {'conds': [[False, 2, [0, [0, 24, False], None], [0, 5, False], None]], 'table_units': [['table_unit', 9], ['table_unit', 1]]}, 'groupBy': [[0, 3, False]], 'having': [[False, 3, [0, [3, 29, True], None], 10.0, None]], 'intersect': None, 'limit': None, 'orderBy': [], 'select': [False, [[0, [0, [0, 3, False], None]]]], 'union': None, 'where': [[False, 2, [0, [0, 7, False], None], '\"VLDB\"', None]]}"
        ],
        [
         "12731",
         "academic",
         "Học thuật, Giáo dục, Nghiên cứu",
         "select t1.từ_khoá from từ_khoá của bài báo as t5 join từ_khoá as t1 on t5.id từ_khoá = t1.id từ_khoá join bài báo as t3 on t3.id bài báo = t5.id bài báo join viết as t4 on t4.id bài báo = t3.id bài báo join tác_giả as t2 on t4.id tác_giả = t2.id tác_giả where t2.tên = \"H. V. Jagadish\" group by t1.từ_khoá having count ( distinct t3.tiêu_đề ) > 10",
         "['select', 't1.từ_khoá', 'from', 'từ_khoá của bài báo', 'as', 't5', 'join', 'từ_khoá', 'as', 't1', 'on', 't5.id từ_khoá', '=', 't1.id từ_khoá', 'join', 'bài báo', 'as', 't3', 'on', 't3.id bài báo', '=', 't5.id bài báo', 'join', 'viết', 'as', 't4', 'on', 't4.id bài báo', '=', 't3.id bài báo', 'join', 'tác_giả', 'as', 't2', 'on', 't4.id tác_giả', '=', 't2.id tác_giả', 'where', 't2.tên', '=', '\"H. V. Jagadish\"', 'group', 'by', 't1.từ_khoá', 'having', 'count', '(', 'distinct', 't3.tiêu_đề', ')', '>', '10']",
         "['select', 't1', '.', 'từ_khoá', 'from', 'từ_khoá của bài báo', 'as', 't5', 'join', 'từ_khoá', 'as', 't1', 'on', 't5', '.', 'id từ_khoá', '=', 't1', '.', 'id từ_khoá', 'join', 'bài báo', 'as', 't3', 'on', 't3', '.', 'id bài báo', '=', 't5', '.', 'id bài báo', 'join', 'viết', 'as', 't4', 'on', 't4', '.', 'id bài báo', '=', 't3', '.', 'id bài báo', 'join', 'tác_giả', 'as', 't2', 'on', 't4', '.', 'id tác_giả', '=', 't2', '.', 'id tác_giả', 'where', 't2', '.', 'tên', '=', 'value', 'group', 'by', 't1', '.', 'từ_khoá', 'having', 'count', '(', 'distinct', 't3', '.', 'tiêu_đề', ')', '>', 'value']",
         "liệt_kê các từ_khoá được nhắc đến trong hơn 10 bài báo của ' H . V. Jagadish ' .",
         "['liệt_kê', 'các', 'từ_khoá', 'được', 'nhắc', 'đến', 'trong', 'hơn', '10', 'bài', 'báo', 'của', \"'\", 'H', '.', 'V.', 'Jagadish', \"'\", '.']",
         "{'except': None, 'from': {'conds': [[False, 2, [0, [0, 38, False], None], [0, 20, False], None]], 'table_units': [['table_unit', 12], ['table_unit', 7]]}, 'groupBy': [[0, 19, False]], 'having': [[False, 3, [0, [3, 29, True], None], 10.0, None]], 'intersect': None, 'limit': None, 'orderBy': [], 'select': [False, [[0, [0, [0, 19, False], None]]]], 'union': None, 'where': [[False, 2, [0, [0, 3, False], None], '\"H. V. Jagadish\"', None]]}"
        ],
        [
         "12730",
         "academic",
         "Học thuật, Giáo dục, Nghiên cứu",
         "select t1.từ_khoá from từ_khoá của bài báo as t4 join từ_khoá as t1 on t4.id từ_khoá = t1.id từ_khoá join bài báo as t2 on t2.id bài báo = t4.id bài báo join tạp_chí as t3 on t2.id tạp_chí = t3.id tạp_chí where t3.tên = \"PVLDB\" group by t1.từ_khoá having count ( distinct t2.tiêu_đề ) > 100",
         "['select', 't1.từ_khoá', 'from', 'từ_khoá của bài báo', 'as', 't4', 'join', 'từ_khoá', 'as', 't1', 'on', 't4.id từ_khoá', '=', 't1.id từ_khoá', 'join', 'bài báo', 'as', 't2', 'on', 't2.id bài báo', '=', 't4.id bài báo', 'join', 'tạp_chí', 'as', 't3', 'on', 't2.id tạp_chí', '=', 't3.id tạp_chí', 'where', 't3.tên', '=', '\"PVLDB\"', 'group', 'by', 't1.từ_khoá', 'having', 'count', '(', 'distinct', 't2.tiêu_đề', ')', '>', '100']",
         "['select', 't1', '.', 'từ_khoá', 'from', 'từ_khoá của bài báo', 'as', 't4', 'join', 'từ_khoá', 'as', 't1', 'on', 't4', '.', 'id từ_khoá', '=', 't1', '.', 'id từ_khoá', 'join', 'bài báo', 'as', 't2', 'on', 't2', '.', 'id bài báo', '=', 't4', '.', 'id bài báo', 'join', 'tạp_chí', 'as', 't3', 'on', 't2', '.', 'id tạp_chí', '=', 't3', '.', 'id tạp_chí', 'where', 't3', '.', 'tên', '=', 'value', 'group', 'by', 't1', '.', 'từ_khoá', 'having', 'count', '(', 'distinct', 't2', '.', 'tiêu_đề', ')', '>', 'value']",
         "những từ_khoá nào đã được nhắc đến bởi nhiều hơn 100 bài báo tại hội_nghị PVLDB ?",
         "['những', 'từ_khoá', 'nào', 'đã', 'được', 'nhắc', 'đến', 'bởi', 'nhiều', 'hơn', '100', 'bài', 'báo', 'tại', 'hội_nghị', 'PVLDB', '?']",
         "{'except': None, 'from': {'conds': [[False, 2, [0, [0, 38, False], None], [0, 20, False], None]], 'table_units': [['table_unit', 12], ['table_unit', 7]]}, 'groupBy': [[0, 19, False]], 'having': [[False, 3, [0, [3, 29, True], None], 100.0, None]], 'intersect': None, 'limit': None, 'orderBy': [], 'select': [False, [[0, [0, [0, 19, False], None]]]], 'union': None, 'where': [[False, 2, [0, [0, 16, False], None], '\"PVLDB\"', None]]}"
        ],
        [
         "12729",
         "academic",
         "Học thuật, Giáo dục, Nghiên cứu",
         "select t1.từ_khoá from từ_khoá của bài báo as t4 join từ_khoá as t1 on t4.id từ_khoá = t1.id từ_khoá join bài báo as t3 on t3.id bài báo = t4.id bài báo join hội_nghị as t2 on t3.id hội_nghị = t2.id hội_nghị where t2.tên = \"VLDB\" group by t1.từ_khoá having count ( distinct t3.tiêu_đề ) > 100",
         "['select', 't1.từ_khoá', 'from', 'từ_khoá của bài báo', 'as', 't4', 'join', 'từ_khoá', 'as', 't1', 'on', 't4.id từ_khoá', '=', 't1.id từ_khoá', 'join', 'bài báo', 'as', 't3', 'on', 't3.id bài báo', '=', 't4.id bài báo', 'join', 'hội_nghị', 'as', 't2', 'on', 't3.id hội_nghị', '=', 't2.id hội_nghị', 'where', 't2.tên', '=', '\"VLDB\"', 'group', 'by', 't1.từ_khoá', 'having', 'count', '(', 'distinct', 't3.tiêu_đề', ')', '>', '100']",
         "['select', 't1', '.', 'từ_khoá', 'from', 'từ_khoá của bài báo', 'as', 't4', 'join', 'từ_khoá', 'as', 't1', 'on', 't4', '.', 'id từ_khoá', '=', 't1', '.', 'id từ_khoá', 'join', 'bài báo', 'as', 't3', 'on', 't3', '.', 'id bài báo', '=', 't4', '.', 'id bài báo', 'join', 'hội_nghị', 'as', 't2', 'on', 't3', '.', 'id hội_nghị', '=', 't2', '.', 'id hội_nghị', 'where', 't2', '.', 'tên', '=', 'value', 'group', 'by', 't1', '.', 'từ_khoá', 'having', 'count', '(', 'distinct', 't3', '.', 'tiêu_đề', ')', '>', 'value']",
         "liệt_kê các từ_khoá được nhắc đến bởi nhiều hơn 100 bài báo tại hội_nghị VLDB .",
         "['liệt_kê', 'các', 'từ_khoá', 'được', 'nhắc', 'đến', 'bởi', 'nhiều', 'hơn', '100', 'bài', 'báo', 'tại', 'hội_nghị', 'VLDB', '.']",
         "{'except': None, 'from': {'conds': [[False, 2, [0, [0, 38, False], None], [0, 20, False], None]], 'table_units': [['table_unit', 12], ['table_unit', 7]]}, 'groupBy': [[0, 19, False]], 'having': [[False, 3, [0, [3, 29, True], None], 100.0, None]], 'intersect': None, 'limit': None, 'orderBy': [], 'select': [False, [[0, [0, [0, 19, False], None]]]], 'union': None, 'where': [[False, 2, [0, [0, 7, False], None], '\"VLDB\"', None]]}"
        ],
        [
         "12728",
         "academic",
         "Học thuật, Giáo dục, Nghiên cứu",
         "select t3.tên from từ_khoá của bài báo as t4 join từ_khoá as t1 on t4.id từ_khoá = t1.id từ_khoá join bài báo as t2 on t2.id bài báo = t4.id bài báo join tạp_chí as t3 on t2.id tạp_chí = t3.id tạp_chí where t1.từ_khoá = \"Relational Database\" group by t3.tên having count ( distinct t2.tiêu_đề ) > 60",
         "['select', 't3.tên', 'from', 'từ_khoá của bài báo', 'as', 't4', 'join', 'từ_khoá', 'as', 't1', 'on', 't4.id từ_khoá', '=', 't1.id từ_khoá', 'join', 'bài báo', 'as', 't2', 'on', 't2.id bài báo', '=', 't4.id bài báo', 'join', 'tạp_chí', 'as', 't3', 'on', 't2.id tạp_chí', '=', 't3.id tạp_chí', 'where', 't1.từ_khoá', '=', '\"Relational Database\"', 'group', 'by', 't3.tên', 'having', 'count', '(', 'distinct', 't2.tiêu_đề', ')', '>', '60']",
         "['select', 't3', '.', 'tên', 'from', 'từ_khoá của bài báo', 'as', 't4', 'join', 'từ_khoá', 'as', 't1', 'on', 't4', '.', 'id từ_khoá', '=', 't1', '.', 'id từ_khoá', 'join', 'bài báo', 'as', 't2', 'on', 't2', '.', 'id bài báo', '=', 't4', '.', 'id bài báo', 'join', 'tạp_chí', 'as', 't3', 'on', 't2', '.', 'id tạp_chí', '=', 't3', '.', 'id tạp_chí', 'where', 't1', '.', 'từ_khoá', '=', 'value', 'group', 'by', 't3', '.', 'tên', 'having', 'count', '(', 'distinct', 't2', '.', 'tiêu_đề', ')', '>', 'value']",
         "liệt_kê các tạp_chí có nhiều hơn 60 bài báo với từ_khoá ' Cơ_sở_dữ_liệu quan_hệ ' .",
         "['liệt_kê', 'các', 'tạp_chí', 'có', 'nhiều', 'hơn', '60', 'bài', 'báo', 'với', 'từ_khoá', \"'\", 'Cơ_sở_dữ_liệu', 'quan_hệ', \"'\", '.']",
         "{'except': None, 'from': {'conds': [[False, 2, [0, [0, 38, False], None], [0, 20, False], None]], 'table_units': [['table_unit', 12], ['table_unit', 7]]}, 'groupBy': [[0, 16, False]], 'having': [[False, 3, [0, [3, 29, True], None], 60.0, None]], 'intersect': None, 'limit': None, 'orderBy': [], 'select': [False, [[0, [0, [0, 16, False], None]]]], 'union': None, 'where': [[False, 2, [0, [0, 19, False], None], '\"Relational Database\"', None]]}"
        ],
        [
         "12727",
         "academic",
         "Học thuật, Giáo dục, Nghiên cứu",
         "select t2.tên from từ_khoá của bài báo as t4 join từ_khoá as t1 on t4.id từ_khoá = t1.id từ_khoá join bài báo as t3 on t3.id bài báo = t4.id bài báo join hội_nghị as t2 on t3.id hội_nghị = t2.id hội_nghị where t1.từ_khoá = \"Relational Database\" group by t2.tên having count ( distinct t3.tiêu_đề ) > 60",
         "['select', 't2.tên', 'from', 'từ_khoá của bài báo', 'as', 't4', 'join', 'từ_khoá', 'as', 't1', 'on', 't4.id từ_khoá', '=', 't1.id từ_khoá', 'join', 'bài báo', 'as', 't3', 'on', 't3.id bài báo', '=', 't4.id bài báo', 'join', 'hội_nghị', 'as', 't2', 'on', 't3.id hội_nghị', '=', 't2.id hội_nghị', 'where', 't1.từ_khoá', '=', '\"Relational Database\"', 'group', 'by', 't2.tên', 'having', 'count', '(', 'distinct', 't3.tiêu_đề', ')', '>', '60']",
         "['select', 't2', '.', 'tên', 'from', 'từ_khoá của bài báo', 'as', 't4', 'join', 'từ_khoá', 'as', 't1', 'on', 't4', '.', 'id từ_khoá', '=', 't1', '.', 'id từ_khoá', 'join', 'bài báo', 'as', 't3', 'on', 't3', '.', 'id bài báo', '=', 't4', '.', 'id bài báo', 'join', 'hội_nghị', 'as', 't2', 'on', 't3', '.', 'id hội_nghị', '=', 't2', '.', 'id hội_nghị', 'where', 't1', '.', 'từ_khoá', '=', 'value', 'group', 'by', 't2', '.', 'tên', 'having', 'count', '(', 'distinct', 't3', '.', 'tiêu_đề', ')', '>', 'value']",
         "liệt_kê các hội_nghị đã xuất_bản nhiều hơn 60 bài báo với từ_khoá ' Cơ_sở_dữ_liệu quan_hệ ' .",
         "['liệt_kê', 'các', 'hội_nghị', 'đã', 'xuất_bản', 'nhiều', 'hơn', '60', 'bài', 'báo', 'với', 'từ_khoá', \"'\", 'Cơ_sở_dữ_liệu', 'quan_hệ', \"'\", '.']",
         "{'except': None, 'from': {'conds': [[False, 2, [0, [0, 38, False], None], [0, 20, False], None]], 'table_units': [['table_unit', 12], ['table_unit', 7]]}, 'groupBy': [[0, 7, False]], 'having': [[False, 3, [0, [3, 29, True], None], 60.0, None]], 'intersect': None, 'limit': None, 'orderBy': [], 'select': [False, [[0, [0, [0, 7, False], None]]]], 'union': None, 'where': [[False, 2, [0, [0, 19, False], None], '\"Relational Database\"', None]]}"
        ],
        [
         "12726",
         "academic",
         "Học thuật, Giáo dục, Nghiên cứu",
         "select t2.tên from từ_khoá của bài báo as t5 join từ_khoá as t1 on t5.id từ_khoá = t1.id từ_khoá join bài báo as t3 on t3.id bài báo = t5.id bài báo join viết as t4 on t4.id bài báo = t3.id bài báo join tác_giả as t2 on t4.id tác_giả = t2.id tác_giả where t1.từ_khoá = \"Relational Database\" group by t2.tên having count ( distinct t3.tiêu_đề ) > 10",
         "['select', 't2.tên', 'from', 'từ_khoá của bài báo', 'as', 't5', 'join', 'từ_khoá', 'as', 't1', 'on', 't5.id từ_khoá', '=', 't1.id từ_khoá', 'join', 'bài báo', 'as', 't3', 'on', 't3.id bài báo', '=', 't5.id bài báo', 'join', 'viết', 'as', 't4', 'on', 't4.id bài báo', '=', 't3.id bài báo', 'join', 'tác_giả', 'as', 't2', 'on', 't4.id tác_giả', '=', 't2.id tác_giả', 'where', 't1.từ_khoá', '=', '\"Relational Database\"', 'group', 'by', 't2.tên', 'having', 'count', '(', 'distinct', 't3.tiêu_đề', ')', '>', '10']",
         "['select', 't2', '.', 'tên', 'from', 'từ_khoá của bài báo', 'as', 't5', 'join', 'từ_khoá', 'as', 't1', 'on', 't5', '.', 'id từ_khoá', '=', 't1', '.', 'id từ_khoá', 'join', 'bài báo', 'as', 't3', 'on', 't3', '.', 'id bài báo', '=', 't5', '.', 'id bài báo', 'join', 'viết', 'as', 't4', 'on', 't4', '.', 'id bài báo', '=', 't3', '.', 'id bài báo', 'join', 'tác_giả', 'as', 't2', 'on', 't4', '.', 'id tác_giả', '=', 't2', '.', 'id tác_giả', 'where', 't1', '.', 'từ_khoá', '=', 'value', 'group', 'by', 't2', '.', 'tên', 'having', 'count', '(', 'distinct', 't3', '.', 'tiêu_đề', ')', '>', 'value']",
         "liệt_kê các tác_giả có nhiều hơn 10 bài báo với từ_khoá ' Cơ_sở_dữ_liệu quan_hệ ' .",
         "['liệt_kê', 'các', 'tác_giả', 'có', 'nhiều', 'hơn', '10', 'bài', 'báo', 'với', 'từ_khoá', \"'\", 'Cơ_sở_dữ_liệu', 'quan_hệ', \"'\", '.']",
         "{'except': None, 'from': {'conds': [[False, 2, [0, [0, 38, False], None], [0, 20, False], None]], 'table_units': [['table_unit', 12], ['table_unit', 7]]}, 'groupBy': [[0, 3, False]], 'having': [[False, 3, [0, [3, 29, True], None], 10.0, None]], 'intersect': None, 'limit': None, 'orderBy': [], 'select': [False, [[0, [0, [0, 3, False], None]]]], 'union': None, 'where': [[False, 2, [0, [0, 19, False], None], '\"Relational Database\"', None]]}"
        ],
        [
         "12725",
         "academic",
         "Học thuật, Giáo dục, Nghiên cứu",
         "select t1.tên from bài báo as t4 join tạp_chí as t2 on t4.id tạp_chí = t2.id tạp_chí join viết as t3 on t3.id bài báo = t4.id bài báo join tác_giả as t1 on t3.id tác_giả = t1.id tác_giả where t2.tên = \"PVLDB\" group by t1.tên order by count ( distinct t4.tiêu_đề ) desc limit 1",
         "['select', 't1.tên', 'from', 'bài báo', 'as', 't4', 'join', 'tạp_chí', 'as', 't2', 'on', 't4.id tạp_chí', '=', 't2.id tạp_chí', 'join', 'viết', 'as', 't3', 'on', 't3.id bài báo', '=', 't4.id bài báo', 'join', 'tác_giả', 'as', 't1', 'on', 't3.id tác_giả', '=', 't1.id tác_giả', 'where', 't2.tên', '=', '\"PVLDB\"', 'group', 'by', 't1.tên', 'order', 'by', 'count', '(', 'distinct', 't4.tiêu_đề', ')', 'desc', 'limit', '1']",
         "['select', 't1', '.', 'tên', 'from', 'bài báo', 'as', 't4', 'join', 'tạp_chí', 'as', 't2', 'on', 't4', '.', 'id tạp_chí', '=', 't2', '.', 'id tạp_chí', 'join', 'viết', 'as', 't3', 'on', 't3', '.', 'id bài báo', '=', 't4', '.', 'id bài báo', 'join', 'tác_giả', 'as', 't1', 'on', 't3', '.', 'id tác_giả', '=', 't1', '.', 'id tác_giả', 'where', 't2', '.', 'tên', '=', 'value', 'group', 'by', 't1', '.', 'tên', 'order', 'by', 'count', '(', 'distinct', 't4', '.', 'tiêu_đề', ')', 'desc', 'limit', 'value']",
         "tác_giả nào đã xuất_bản nhiều bài báo nhất tại hội_nghị PVLDB ?",
         "['tác_giả', 'nào', 'đã', 'xuất_bản', 'nhiều', 'bài', 'báo', 'nhất', 'tại', 'hội_nghị', 'PVLDB', '?']",
         "{'except': None, 'from': {'conds': [[False, 2, [0, [0, 26, False], None], [0, 15, False], None]], 'table_units': [['table_unit', 9], ['table_unit', 5]]}, 'groupBy': [[0, 3, False]], 'having': [], 'intersect': None, 'limit': 1, 'orderBy': ['desc', [[0, [3, 29, True], None]]], 'select': [False, [[0, [0, [0, 3, False], None]]]], 'union': None, 'where': [[False, 2, [0, [0, 16, False], None], '\"PVLDB\"', None]]}"
        ],
        [
         "12724",
         "academic",
         "Học thuật, Giáo dục, Nghiên cứu",
         "select t1.tên from bài báo as t4 join tạp_chí as t2 on t4.id tạp_chí = t2.id tạp_chí join viết as t3 on t3.id bài báo = t4.id bài báo join tác_giả as t1 on t3.id tác_giả = t1.id tác_giả where t2.tên = \"PVLDB\" group by t1.tên having count ( distinct t4.tiêu_đề ) > 10",
         "['select', 't1.tên', 'from', 'bài báo', 'as', 't4', 'join', 'tạp_chí', 'as', 't2', 'on', 't4.id tạp_chí', '=', 't2.id tạp_chí', 'join', 'viết', 'as', 't3', 'on', 't3.id bài báo', '=', 't4.id bài báo', 'join', 'tác_giả', 'as', 't1', 'on', 't3.id tác_giả', '=', 't1.id tác_giả', 'where', 't2.tên', '=', '\"PVLDB\"', 'group', 'by', 't1.tên', 'having', 'count', '(', 'distinct', 't4.tiêu_đề', ')', '>', '10']",
         "['select', 't1', '.', 'tên', 'from', 'bài báo', 'as', 't4', 'join', 'tạp_chí', 'as', 't2', 'on', 't4', '.', 'id tạp_chí', '=', 't2', '.', 'id tạp_chí', 'join', 'viết', 'as', 't3', 'on', 't3', '.', 'id bài báo', '=', 't4', '.', 'id bài báo', 'join', 'tác_giả', 'as', 't1', 'on', 't3', '.', 'id tác_giả', '=', 't1', '.', 'id tác_giả', 'where', 't2', '.', 'tên', '=', 'value', 'group', 'by', 't1', '.', 'tên', 'having', 'count', '(', 'distinct', 't4', '.', 'tiêu_đề', ')', '>', 'value']",
         "liệt_kê các tác_giả đã xuất_bản nhiều hơn 10 bài báo tại hội_nghị PVLDB .",
         "['liệt_kê', 'các', 'tác_giả', 'đã', 'xuất_bản', 'nhiều', 'hơn', '10', 'bài', 'báo', 'tại', 'hội_nghị', 'PVLDB', '.']",
         "{'except': None, 'from': {'conds': [[False, 2, [0, [0, 26, False], None], [0, 15, False], None]], 'table_units': [['table_unit', 9], ['table_unit', 5]]}, 'groupBy': [[0, 3, False]], 'having': [[False, 3, [0, [3, 29, True], None], 10.0, None]], 'intersect': None, 'limit': None, 'orderBy': [], 'select': [False, [[0, [0, [0, 3, False], None]]]], 'union': None, 'where': [[False, 2, [0, [0, 16, False], None], '\"PVLDB\"', None]]}"
        ],
        [
         "12723",
         "academic",
         "Học thuật, Giáo dục, Nghiên cứu",
         "select t2.tiêu_đề from bài báo as t2 join hội_nghị as t1 on t2.id hội_nghị = t1.id hội_nghị where t1.tên = \"VLDB\" and t2.năm > 2000 order by t2.số_lượng trích_dẫn desc limit 1",
         "['select', 't2.tiêu_đề', 'from', 'bài báo', 'as', 't2', 'join', 'hội_nghị', 'as', 't1', 'on', 't2.id hội_nghị', '=', 't1.id hội_nghị', 'where', 't1.tên', '=', '\"VLDB\"', 'and', 't2.năm', '>', '2000', 'order', 'by', 't2.số_lượng trích_dẫn', 'desc', 'limit', '1']",
         "['select', 't2', '.', 'tiêu_đề', 'from', 'bài báo', 'as', 't2', 'join', 'hội_nghị', 'as', 't1', 'on', 't2', '.', 'id hội_nghị', '=', 't1', '.', 'id hội_nghị', 'where', 't1', '.', 'tên', '=', 'value', 'and', 't2', '.', 'năm', '>', 'value', 'order', 'by', 't2', '.', 'số_lượng trích_dẫn', 'desc', 'limit', 'value']",
         "bài báo có nhiều trích_dẫn nhất trong số các bài báo được xuất_bản sau năm 2000 tại hội_nghị VLDB là bài báo nào ?",
         "['bài', 'báo', 'có', 'nhiều', 'trích_dẫn', 'nhất', 'trong', 'số', 'các', 'bài', 'báo', 'được', 'xuất_bản', 'sau', 'năm', '2000', 'tại', 'hội_nghị', 'VLDB', 'là', 'bài', 'báo', 'nào', '?']",
         "{'except': None, 'from': {'conds': [[False, 2, [0, [0, 24, False], None], [0, 5, False], None]], 'table_units': [['table_unit', 9], ['table_unit', 1]]}, 'groupBy': [], 'having': [], 'intersect': None, 'limit': 1, 'orderBy': ['desc', [[0, [0, 25, False], None]]], 'select': [False, [[0, [0, [0, 29, False], None]]]], 'union': None, 'where': [[False, 2, [0, [0, 7, False], None], '\"VLDB\"', None], 'and', [False, 3, [0, [0, 30, False], None], 2000.0, None]]}"
        ],
        [
         "12722",
         "academic",
         "Học thuật, Giáo dục, Nghiên cứu",
         "select t2.tiêu_đề from bài báo as t2 join tạp_chí as t1 on t2.id tạp_chí = t1.id tạp_chí where t1.tên = \"PVLDB\" and t2.năm > 2000 order by t2.số_lượng trích_dẫn desc limit 1",
         "['select', 't2.tiêu_đề', 'from', 'bài báo', 'as', 't2', 'join', 'tạp_chí', 'as', 't1', 'on', 't2.id tạp_chí', '=', 't1.id tạp_chí', 'where', 't1.tên', '=', '\"PVLDB\"', 'and', 't2.năm', '>', '2000', 'order', 'by', 't2.số_lượng trích_dẫn', 'desc', 'limit', '1']",
         "['select', 't2', '.', 'tiêu_đề', 'from', 'bài báo', 'as', 't2', 'join', 'tạp_chí', 'as', 't1', 'on', 't2', '.', 'id tạp_chí', '=', 't1', '.', 'id tạp_chí', 'where', 't1', '.', 'tên', '=', 'value', 'and', 't2', '.', 'năm', '>', 'value', 'order', 'by', 't2', '.', 'số_lượng trích_dẫn', 'desc', 'limit', 'value']",
         "bài báo có nhiều trích_dẫn nhất trong số các bài báo được xuất_bản sau năm 2000 tại PVLDB là bài báo nào ?",
         "['bài', 'báo', 'có', 'nhiều', 'trích_dẫn', 'nhất', 'trong', 'số', 'các', 'bài', 'báo', 'được', 'xuất_bản', 'sau', 'năm', '2000', 'tại', 'PVLDB', 'là', 'bài', 'báo', 'nào', '?']",
         "{'except': None, 'from': {'conds': [[False, 2, [0, [0, 26, False], None], [0, 15, False], None]], 'table_units': [['table_unit', 9], ['table_unit', 5]]}, 'groupBy': [], 'having': [], 'intersect': None, 'limit': 1, 'orderBy': ['desc', [[0, [0, 25, False], None]]], 'select': [False, [[0, [0, [0, 29, False], None]]]], 'union': None, 'where': [[False, 2, [0, [0, 16, False], None], '\"PVLDB\"', None], 'and', [False, 3, [0, [0, 30, False], None], 2000.0, None]]}"
        ],
        [
         "12721",
         "academic",
         "Học thuật, Giáo dục, Nghiên cứu",
         "select t3.tiêu_đề from lĩnh_vực as t2 join lĩnh_vực của bài báo as t1 on t2.id lĩnh_vực = t1.id lĩnh_vực join bài báo as t3 on t3.id bài báo = t1.id bài báo where t2.tên = \"Databases\" and t3.năm > 2000 order by t3.số_lượng trích_dẫn desc limit 1",
         "['select', 't3.tiêu_đề', 'from', 'lĩnh_vực', 'as', 't2', 'join', 'lĩnh_vực của bài báo', 'as', 't1', 'on', 't2.id lĩnh_vực', '=', 't1.id lĩnh_vực', 'join', 'bài báo', 'as', 't3', 'on', 't3.id bài báo', '=', 't1.id bài báo', 'where', 't2.tên', '=', '\"Databases\"', 'and', 't3.năm', '>', '2000', 'order', 'by', 't3.số_lượng trích_dẫn', 'desc', 'limit', '1']",
         "['select', 't3', '.', 'tiêu_đề', 'from', 'lĩnh_vực', 'as', 't2', 'join', 'lĩnh_vực của bài báo', 'as', 't1', 'on', 't2', '.', 'id lĩnh_vực', '=', 't1', '.', 'id lĩnh_vực', 'join', 'bài báo', 'as', 't3', 'on', 't3', '.', 'id bài báo', '=', 't1', '.', 'id bài báo', 'where', 't2', '.', 'tên', '=', 'value', 'and', 't3', '.', 'năm', '>', 'value', 'order', 'by', 't3', '.', 'số_lượng trích_dẫn', 'desc', 'limit', 'value']",
         "bài báo có nhiều trích_dẫn nhất trong số các bài báo thuộc lĩnh_vực ' Cơ_sở_dữ_liệu ' được xuất_bản sau năm 2000 là bài báo nào ?",
         "['bài', 'báo', 'có', 'nhiều', 'trích_dẫn', 'nhất', 'trong', 'số', 'các', 'bài', 'báo', 'thuộc', 'lĩnh_vực', \"'\", 'Cơ_sở_dữ_liệu', \"'\", 'được', 'xuất_bản', 'sau', 'năm', '2000', 'là', 'bài', 'báo', 'nào', '?']",
         "{'except': None, 'from': {'conds': [[False, 2, [0, [0, 8, False], None], [0, 31, False], None]], 'table_units': [['table_unit', 2], ['table_unit', 10]]}, 'groupBy': [], 'having': [], 'intersect': None, 'limit': 1, 'orderBy': ['desc', [[0, [0, 25, False], None]]], 'select': [False, [[0, [0, [0, 29, False], None]]]], 'union': None, 'where': [[False, 2, [0, [0, 9, False], None], '\"Databases\"', None], 'and', [False, 3, [0, [0, 30, False], None], 2000.0, None]]}"
        ],
        [
         "12720",
         "academic",
         "Học thuật, Giáo dục, Nghiên cứu",
         "select tiêu_đề from bài báo where năm > 2000 order by số_lượng trích_dẫn desc limit 1",
         "['select', 'tiêu_đề', 'from', 'bài báo', 'where', 'năm', '>', '2000', 'order', 'by', 'số_lượng trích_dẫn', 'desc', 'limit', '1']",
         "['select', 'tiêu_đề', 'from', 'bài báo', 'where', 'năm', '>', 'value', 'order', 'by', 'số_lượng trích_dẫn', 'desc', 'limit', 'value']",
         "bài báo nhận được nhiều trích_dẫn nhất trong số các bài báo được xuất_bản sau năm 2000 là bài báo nào ?",
         "['bài', 'báo', 'nhận', 'được', 'nhiều', 'trích_dẫn', 'nhất', 'trong', 'số', 'các', 'bài', 'báo', 'được', 'xuất_bản', 'sau', 'năm', '2000', 'là', 'bài', 'báo', 'nào', '?']",
         "{'except': None, 'from': {'conds': [], 'table_units': [['table_unit', 9]]}, 'groupBy': [], 'having': [], 'intersect': None, 'limit': 1, 'orderBy': ['desc', [[0, [0, 25, False], None]]], 'select': [False, [[0, [0, [0, 29, False], None]]]], 'union': None, 'where': [[False, 3, [0, [0, 30, False], None], 2000.0, None]]}"
        ],
        [
         "12719",
         "academic",
         "Học thuật, Giáo dục, Nghiên cứu",
         "select t3.tiêu_đề from viết as t2 join tác_giả as t1 on t2.id tác_giả = t1.id tác_giả join bài báo as t3 on t2.id bài báo = t3.id bài báo where t1.tên = \"H. V. Jagadish\" order by t3.số_lượng trích_dẫn desc limit 1",
         "['select', 't3.tiêu_đề', 'from', 'viết', 'as', 't2', 'join', 'tác_giả', 'as', 't1', 'on', 't2.id tác_giả', '=', 't1.id tác_giả', 'join', 'bài báo', 'as', 't3', 'on', 't2.id bài báo', '=', 't3.id bài báo', 'where', 't1.tên', '=', '\"H. V. Jagadish\"', 'order', 'by', 't3.số_lượng trích_dẫn', 'desc', 'limit', '1']",
         "['select', 't3', '.', 'tiêu_đề', 'from', 'viết', 'as', 't2', 'join', 'tác_giả', 'as', 't1', 'on', 't2', '.', 'id tác_giả', '=', 't1', '.', 'id tác_giả', 'join', 'bài báo', 'as', 't3', 'on', 't2', '.', 'id bài báo', '=', 't3', '.', 'id bài báo', 'where', 't1', '.', 'tên', '=', 'value', 'order', 'by', 't3', '.', 'số_lượng trích_dẫn', 'desc', 'limit', 'value']",
         "bài báo của tác_giả ' H . V. Jagadish ' nhận được nhiều trích_dẫn nhất là bài báo nào ?",
         "['bài', 'báo', 'của', 'tác_giả', \"'\", 'H', '.', 'V.', 'Jagadish', \"'\", 'nhận', 'được', 'nhiều', 'trích_dẫn', 'nhất', 'là', 'bài', 'báo', 'nào', '?']",
         "{'except': None, 'from': {'conds': [[False, 2, [0, [0, 39, False], None], [0, 1, False], None]], 'table_units': [['table_unit', 13], ['table_unit', 0]]}, 'groupBy': [], 'having': [], 'intersect': None, 'limit': 1, 'orderBy': ['desc', [[0, [0, 25, False], None]]], 'select': [False, [[0, [0, [0, 29, False], None]]]], 'union': None, 'where': [[False, 2, [0, [0, 3, False], None], '\"H. V. Jagadish\"', None]]}"
        ],
        [
         "12718",
         "academic",
         "Học thuật, Giáo dục, Nghiên cứu",
         "select t2.tiêu_đề from bài báo as t2 join hội_nghị as t1 on t2.id hội_nghị = t1.id hội_nghị where t1.tên = \"VLDB\" order by t2.số_lượng trích_dẫn desc limit 1",
         "['select', 't2.tiêu_đề', 'from', 'bài báo', 'as', 't2', 'join', 'hội_nghị', 'as', 't1', 'on', 't2.id hội_nghị', '=', 't1.id hội_nghị', 'where', 't1.tên', '=', '\"VLDB\"', 'order', 'by', 't2.số_lượng trích_dẫn', 'desc', 'limit', '1']",
         "['select', 't2', '.', 'tiêu_đề', 'from', 'bài báo', 'as', 't2', 'join', 'hội_nghị', 'as', 't1', 'on', 't2', '.', 'id hội_nghị', '=', 't1', '.', 'id hội_nghị', 'where', 't1', '.', 'tên', '=', 'value', 'order', 'by', 't2', '.', 'số_lượng trích_dẫn', 'desc', 'limit', 'value']",
         "bài báo nhận được nhiều trích_dẫn nhất và được xuất_bản tại hội_nghị VLDB là bài báo nào ?",
         "['bài', 'báo', 'nhận', 'được', 'nhiều', 'trích_dẫn', 'nhất', 'và', 'được', 'xuất_bản', 'tại', 'hội_nghị', 'VLDB', 'là', 'bài', 'báo', 'nào', '?']",
         "{'except': None, 'from': {'conds': [[False, 2, [0, [0, 24, False], None], [0, 5, False], None]], 'table_units': [['table_unit', 9], ['table_unit', 1]]}, 'groupBy': [], 'having': [], 'intersect': None, 'limit': 1, 'orderBy': ['desc', [[0, [0, 25, False], None]]], 'select': [False, [[0, [0, [0, 29, False], None]]]], 'union': None, 'where': [[False, 2, [0, [0, 7, False], None], '\"VLDB\"', None]]}"
        ],
        [
         "12717",
         "academic",
         "Học thuật, Giáo dục, Nghiên cứu",
         "select t2.tiêu_đề from bài báo as t2 join tạp_chí as t1 on t2.id tạp_chí = t1.id tạp_chí where t1.tên = \"PVLDB\" order by t2.số_lượng trích_dẫn desc limit 1",
         "['select', 't2.tiêu_đề', 'from', 'bài báo', 'as', 't2', 'join', 'tạp_chí', 'as', 't1', 'on', 't2.id tạp_chí', '=', 't1.id tạp_chí', 'where', 't1.tên', '=', '\"PVLDB\"', 'order', 'by', 't2.số_lượng trích_dẫn', 'desc', 'limit', '1']",
         "['select', 't2', '.', 'tiêu_đề', 'from', 'bài báo', 'as', 't2', 'join', 'tạp_chí', 'as', 't1', 'on', 't2', '.', 'id tạp_chí', '=', 't1', '.', 'id tạp_chí', 'where', 't1', '.', 'tên', '=', 'value', 'order', 'by', 't2', '.', 'số_lượng trích_dẫn', 'desc', 'limit', 'value']",
         "bài báo nào nhận được nhiều trích_dẫn nhất và được công_bố tại hội_nghị PVLDB ?",
         "['bài', 'báo', 'nào', 'nhận', 'được', 'nhiều', 'trích_dẫn', 'nhất', 'và', 'được', 'công_bố', 'tại', 'hội_nghị', 'PVLDB', '?']",
         "{'except': None, 'from': {'conds': [[False, 2, [0, [0, 26, False], None], [0, 15, False], None]], 'table_units': [['table_unit', 9], ['table_unit', 5]]}, 'groupBy': [], 'having': [], 'intersect': None, 'limit': 1, 'orderBy': ['desc', [[0, [0, 25, False], None]]], 'select': [False, [[0, [0, [0, 29, False], None]]]], 'union': None, 'where': [[False, 2, [0, [0, 16, False], None], '\"PVLDB\"', None]]}"
        ],
        [
         "12716",
         "academic",
         "Học thuật, Giáo dục, Nghiên cứu",
         "select t3.tiêu_đề from lĩnh_vực as t2 join lĩnh_vực của bài báo as t1 on t2.id lĩnh_vực = t1.id lĩnh_vực join bài báo as t3 on t3.id bài báo = t1.id bài báo where t2.tên = \"Databases\" order by t3.số_lượng trích_dẫn desc limit 1",
         "['select', 't3.tiêu_đề', 'from', 'lĩnh_vực', 'as', 't2', 'join', 'lĩnh_vực của bài báo', 'as', 't1', 'on', 't2.id lĩnh_vực', '=', 't1.id lĩnh_vực', 'join', 'bài báo', 'as', 't3', 'on', 't3.id bài báo', '=', 't1.id bài báo', 'where', 't2.tên', '=', '\"Databases\"', 'order', 'by', 't3.số_lượng trích_dẫn', 'desc', 'limit', '1']",
         "['select', 't3', '.', 'tiêu_đề', 'from', 'lĩnh_vực', 'as', 't2', 'join', 'lĩnh_vực của bài báo', 'as', 't1', 'on', 't2', '.', 'id lĩnh_vực', '=', 't1', '.', 'id lĩnh_vực', 'join', 'bài báo', 'as', 't3', 'on', 't3', '.', 'id bài báo', '=', 't1', '.', 'id bài báo', 'where', 't2', '.', 'tên', '=', 'value', 'order', 'by', 't3', '.', 'số_lượng trích_dẫn', 'desc', 'limit', 'value']",
         "cho biết bài báo có nhiều trích_dẫn nhất trong lĩnh_vực ' Cơ_sở_dữ_liệu ' .",
         "['cho', 'biết', 'bài', 'báo', 'có', 'nhiều', 'trích_dẫn', 'nhất', 'trong', 'lĩnh_vực', \"'\", 'Cơ_sở_dữ_liệu', \"'\", '.']",
         "{'except': None, 'from': {'conds': [[False, 2, [0, [0, 8, False], None], [0, 31, False], None]], 'table_units': [['table_unit', 2], ['table_unit', 10]]}, 'groupBy': [], 'having': [], 'intersect': None, 'limit': 1, 'orderBy': ['desc', [[0, [0, 25, False], None]]], 'select': [False, [[0, [0, [0, 29, False], None]]]], 'union': None, 'where': [[False, 2, [0, [0, 9, False], None], '\"Databases\"', None]]}"
        ],
        [
         "12715",
         "academic",
         "Học thuật, Giáo dục, Nghiên cứu",
         "select tiêu_đề from bài báo order by số_lượng trích_dẫn desc limit 1",
         "['select', 'tiêu_đề', 'from', 'bài báo', 'order', 'by', 'số_lượng trích_dẫn', 'desc', 'limit', '1']",
         "['select', 'tiêu_đề', 'from', 'bài báo', 'order', 'by', 'số_lượng trích_dẫn', 'desc', 'limit', 'value']",
         "bài báo nào có nhiều trích_dẫn nhất ?",
         "['bài', 'báo', 'nào', 'có', 'nhiều', 'trích_dẫn', 'nhất', '?']",
         "{'except': None, 'from': {'conds': [], 'table_units': [['table_unit', 9]]}, 'groupBy': [], 'having': [], 'intersect': None, 'limit': 1, 'orderBy': ['desc', [[0, [0, 25, False], None]]], 'select': [False, [[0, [0, [0, 29, False], None]]]], 'union': None, 'where': []}"
        ],
        [
         "12714",
         "academic",
         "Học thuật, Giáo dục, Nghiên cứu",
         "select t2.tên from bài báo as t4 join tạp_chí as t2 on t4.id tạp_chí = t2.id tạp_chí join viết as t3 on t3.id bài báo = t4.id bài báo join tác_giả as t1 on t3.id tác_giả = t1.id tác_giả where t1.tên = \"H. V. Jagadish\" group by t2.tên order by count ( distinct t4.tiêu_đề ) desc limit 1",
         "['select', 't2.tên', 'from', 'bài báo', 'as', 't4', 'join', 'tạp_chí', 'as', 't2', 'on', 't4.id tạp_chí', '=', 't2.id tạp_chí', 'join', 'viết', 'as', 't3', 'on', 't3.id bài báo', '=', 't4.id bài báo', 'join', 'tác_giả', 'as', 't1', 'on', 't3.id tác_giả', '=', 't1.id tác_giả', 'where', 't1.tên', '=', '\"H. V. Jagadish\"', 'group', 'by', 't2.tên', 'order', 'by', 'count', '(', 'distinct', 't4.tiêu_đề', ')', 'desc', 'limit', '1']",
         "['select', 't2', '.', 'tên', 'from', 'bài báo', 'as', 't4', 'join', 'tạp_chí', 'as', 't2', 'on', 't4', '.', 'id tạp_chí', '=', 't2', '.', 'id tạp_chí', 'join', 'viết', 'as', 't3', 'on', 't3', '.', 'id bài báo', '=', 't4', '.', 'id bài báo', 'join', 'tác_giả', 'as', 't1', 'on', 't3', '.', 'id tác_giả', '=', 't1', '.', 'id tác_giả', 'where', 't1', '.', 'tên', '=', 'value', 'group', 'by', 't2', '.', 'tên', 'order', 'by', 'count', '(', 'distinct', 't4', '.', 'tiêu_đề', ')', 'desc', 'limit', 'value']",
         "tạp_chí nào đã cho đăng nhiều bài báo của tác_giả ' H . V. Jagadish ' nhất ?",
         "['tạp_chí', 'nào', 'đã', 'cho', 'đăng', 'nhiều', 'bài', 'báo', 'của', 'tác_giả', \"'\", 'H', '.', 'V.', 'Jagadish', \"'\", 'nhất', '?']",
         "{'except': None, 'from': {'conds': [[False, 2, [0, [0, 26, False], None], [0, 15, False], None]], 'table_units': [['table_unit', 9], ['table_unit', 5]]}, 'groupBy': [[0, 16, False]], 'having': [], 'intersect': None, 'limit': 1, 'orderBy': ['desc', [[0, [3, 29, True], None]]], 'select': [False, [[0, [0, [0, 16, False], None]]]], 'union': None, 'where': [[False, 2, [0, [0, 3, False], None], '\"H. V. Jagadish\"', None]]}"
        ],
        [
         "3038",
         "academic",
         "Học thuật, Giáo dục, Nghiên cứu",
         "select t1.từ khoá from từ khoá của bài báo as t5 join từ khoá as t1 on t5.id từ khoá = t1.id từ khoá join bài báo as t3 on t3.id bài báo = t5.id bài báo join viết as t4 on t4.id bài báo = t3.id bài báo join tác giả as t2 on t4.id tác giả = t2.id tác giả where t2.tên = \"H. V. Jagadish\" group by t1.từ khoá having count ( distinct t3.tiêu đề ) > 10",
         "['select', 't1.từ khoá', 'from', 'từ khoá của bài báo', 'as', 't5', 'join', 'từ khoá', 'as', 't1', 'on', 't5.id từ khoá', '=', 't1.id từ khoá', 'join', 'bài báo', 'as', 't3', 'on', 't3.id bài báo', '=', 't5.id bài báo', 'join', 'viết', 'as', 't4', 'on', 't4.id bài báo', '=', 't3.id bài báo', 'join', 'tác giả', 'as', 't2', 'on', 't4.id tác giả', '=', 't2.id tác giả', 'where', 't2.tên', '=', '\"H. V. Jagadish\"', 'group', 'by', 't1.từ khoá', 'having', 'count', '(', 'distinct', 't3.tiêu đề', ')', '>', '10']",
         "['select', 't1', '.', 'từ khoá', 'from', 'từ khoá của bài báo', 'as', 't5', 'join', 'từ khoá', 'as', 't1', 'on', 't5', '.', 'id từ khoá', '=', 't1', '.', 'id từ khoá', 'join', 'bài báo', 'as', 't3', 'on', 't3', '.', 'id bài báo', '=', 't5', '.', 'id bài báo', 'join', 'viết', 'as', 't4', 'on', 't4', '.', 'id bài báo', '=', 't3', '.', 'id bài báo', 'join', 'tác giả', 'as', 't2', 'on', 't4', '.', 'id tác giả', '=', 't2', '.', 'id tác giả', 'where', 't2', '.', 'tên', '=', 'value', 'group', 'by', 't1', '.', 'từ khoá', 'having', 'count', '(', 'distinct', 't3', '.', 'tiêu đề', ')', '>', 'value']",
         "liệt kê các từ khoá được nhắc đến trong hơn 10 bài báo của ' H . V. Jagadish ' .",
         "['liệt', 'kê', 'các', 'từ', 'khoá', 'được', 'nhắc', 'đến', 'trong', 'hơn', '10', 'bài', 'báo', 'của', \"'\", 'H', '.', 'V.', 'Jagadish', \"'\", '.']",
         "{'except': None, 'from': {'conds': [[False, 2, [0, [0, 38, False], None], [0, 20, False], None]], 'table_units': [['table_unit', 12], ['table_unit', 7]]}, 'groupBy': [[0, 19, False]], 'having': [[False, 3, [0, [3, 29, True], None], 10.0, None]], 'intersect': None, 'limit': None, 'orderBy': [], 'select': [False, [[0, [0, [0, 19, False], None]]]], 'union': None, 'where': [[False, 2, [0, [0, 3, False], None], '\"H. V. Jagadish\"', None]]}"
        ],
        [
         "12713",
         "academic",
         "Học thuật, Giáo dục, Nghiên cứu",
         "select t2.tên from bài báo as t4 join tạp_chí as t2 on t4.id tạp_chí = t2.id tạp_chí join viết as t3 on t3.id bài báo = t4.id bài báo join tác_giả as t1 on t3.id tác_giả = t1.id tác_giả where t1.tên = \"H. V. Jagadish\" group by t2.tên having count ( distinct t4.tiêu_đề ) > 10",
         "['select', 't2.tên', 'from', 'bài báo', 'as', 't4', 'join', 'tạp_chí', 'as', 't2', 'on', 't4.id tạp_chí', '=', 't2.id tạp_chí', 'join', 'viết', 'as', 't3', 'on', 't3.id bài báo', '=', 't4.id bài báo', 'join', 'tác_giả', 'as', 't1', 'on', 't3.id tác_giả', '=', 't1.id tác_giả', 'where', 't1.tên', '=', '\"H. V. Jagadish\"', 'group', 'by', 't2.tên', 'having', 'count', '(', 'distinct', 't4.tiêu_đề', ')', '>', '10']",
         "['select', 't2', '.', 'tên', 'from', 'bài báo', 'as', 't4', 'join', 'tạp_chí', 'as', 't2', 'on', 't4', '.', 'id tạp_chí', '=', 't2', '.', 'id tạp_chí', 'join', 'viết', 'as', 't3', 'on', 't3', '.', 'id bài báo', '=', 't4', '.', 'id bài báo', 'join', 'tác_giả', 'as', 't1', 'on', 't3', '.', 'id tác_giả', '=', 't1', '.', 'id tác_giả', 'where', 't1', '.', 'tên', '=', 'value', 'group', 'by', 't2', '.', 'tên', 'having', 'count', '(', 'distinct', 't4', '.', 'tiêu_đề', ')', '>', 'value']",
         "liệt_kê các tạp_chí đã cho đăng nhiều hơn 10 bài báo của tác_giả ' H . V. Jagadish ' .",
         "['liệt_kê', 'các', 'tạp_chí', 'đã', 'cho', 'đăng', 'nhiều', 'hơn', '10', 'bài', 'báo', 'của', 'tác_giả', \"'\", 'H', '.', 'V.', 'Jagadish', \"'\", '.']",
         "{'except': None, 'from': {'conds': [[False, 2, [0, [0, 26, False], None], [0, 15, False], None]], 'table_units': [['table_unit', 9], ['table_unit', 5]]}, 'groupBy': [[0, 16, False]], 'having': [[False, 3, [0, [3, 29, True], None], 10.0, None]], 'intersect': None, 'limit': None, 'orderBy': [], 'select': [False, [[0, [0, [0, 16, False], None]]]], 'union': None, 'where': [[False, 2, [0, [0, 3, False], None], '\"H. V. Jagadish\"', None]]}"
        ],
        [
         "3037",
         "academic",
         "Học thuật, Giáo dục, Nghiên cứu",
         "select t1.từ khoá from từ khoá của bài báo as t4 join từ khoá as t1 on t4.id từ khoá = t1.id từ khoá join bài báo as t2 on t2.id bài báo = t4.id bài báo join tạp chí as t3 on t2.id tạp chí = t3.id tạp chí where t3.tên = \"PVLDB\" group by t1.từ khoá having count ( distinct t2.tiêu đề ) > 100",
         "['select', 't1.từ khoá', 'from', 'từ khoá của bài báo', 'as', 't4', 'join', 'từ khoá', 'as', 't1', 'on', 't4.id từ khoá', '=', 't1.id từ khoá', 'join', 'bài báo', 'as', 't2', 'on', 't2.id bài báo', '=', 't4.id bài báo', 'join', 'tạp chí', 'as', 't3', 'on', 't2.id tạp chí', '=', 't3.id tạp chí', 'where', 't3.tên', '=', '\"PVLDB\"', 'group', 'by', 't1.từ khoá', 'having', 'count', '(', 'distinct', 't2.tiêu đề', ')', '>', '100']",
         "['select', 't1', '.', 'từ khoá', 'from', 'từ khoá của bài báo', 'as', 't4', 'join', 'từ khoá', 'as', 't1', 'on', 't4', '.', 'id từ khoá', '=', 't1', '.', 'id từ khoá', 'join', 'bài báo', 'as', 't2', 'on', 't2', '.', 'id bài báo', '=', 't4', '.', 'id bài báo', 'join', 'tạp chí', 'as', 't3', 'on', 't2', '.', 'id tạp chí', '=', 't3', '.', 'id tạp chí', 'where', 't3', '.', 'tên', '=', 'value', 'group', 'by', 't1', '.', 'từ khoá', 'having', 'count', '(', 'distinct', 't2', '.', 'tiêu đề', ')', '>', 'value']",
         "những từ khoá nào đã được nhắc đến bởi nhiều hơn 100 bài báo tại hội nghị PVLDB ?",
         "['những', 'từ', 'khoá', 'nào', 'đã', 'được', 'nhắc', 'đến', 'bởi', 'nhiều', 'hơn', '100', 'bài', 'báo', 'tại', 'hội', 'nghị', 'PVLDB', '?']",
         "{'except': None, 'from': {'conds': [[False, 2, [0, [0, 38, False], None], [0, 20, False], None]], 'table_units': [['table_unit', 12], ['table_unit', 7]]}, 'groupBy': [[0, 19, False]], 'having': [[False, 3, [0, [3, 29, True], None], 100.0, None]], 'intersect': None, 'limit': None, 'orderBy': [], 'select': [False, [[0, [0, [0, 19, False], None]]]], 'union': None, 'where': [[False, 2, [0, [0, 16, False], None], '\"PVLDB\"', None]]}"
        ],
        [
         "3035",
         "academic",
         "Học thuật, Giáo dục, Nghiên cứu",
         "select t3.tên from từ khoá của bài báo as t4 join từ khoá as t1 on t4.id từ khoá = t1.id từ khoá join bài báo as t2 on t2.id bài báo = t4.id bài báo join tạp chí as t3 on t2.id tạp chí = t3.id tạp chí where t1.từ khoá = \"Relational Database\" group by t3.tên having count ( distinct t2.tiêu đề ) > 60",
         "['select', 't3.tên', 'from', 'từ khoá của bài báo', 'as', 't4', 'join', 'từ khoá', 'as', 't1', 'on', 't4.id từ khoá', '=', 't1.id từ khoá', 'join', 'bài báo', 'as', 't2', 'on', 't2.id bài báo', '=', 't4.id bài báo', 'join', 'tạp chí', 'as', 't3', 'on', 't2.id tạp chí', '=', 't3.id tạp chí', 'where', 't1.từ khoá', '=', '\"Relational Database\"', 'group', 'by', 't3.tên', 'having', 'count', '(', 'distinct', 't2.tiêu đề', ')', '>', '60']",
         "['select', 't3', '.', 'tên', 'from', 'từ khoá của bài báo', 'as', 't4', 'join', 'từ khoá', 'as', 't1', 'on', 't4', '.', 'id từ khoá', '=', 't1', '.', 'id từ khoá', 'join', 'bài báo', 'as', 't2', 'on', 't2', '.', 'id bài báo', '=', 't4', '.', 'id bài báo', 'join', 'tạp chí', 'as', 't3', 'on', 't2', '.', 'id tạp chí', '=', 't3', '.', 'id tạp chí', 'where', 't1', '.', 'từ khoá', '=', 'value', 'group', 'by', 't3', '.', 'tên', 'having', 'count', '(', 'distinct', 't2', '.', 'tiêu đề', ')', '>', 'value']",
         "liệt kê các tạp chí có nhiều hơn 60 bài báo với từ khoá ' Cơ sở dữ liệu quan hệ ' .",
         "['liệt', 'kê', 'các', 'tạp', 'chí', 'có', 'nhiều', 'hơn', '60', 'bài', 'báo', 'với', 'từ', 'khoá', \"'\", 'Cơ', 'sở', 'dữ', 'liệu', 'quan', 'hệ', \"'\", '.']",
         "{'except': None, 'from': {'conds': [[False, 2, [0, [0, 38, False], None], [0, 20, False], None]], 'table_units': [['table_unit', 12], ['table_unit', 7]]}, 'groupBy': [[0, 16, False]], 'having': [[False, 3, [0, [3, 29, True], None], 60.0, None]], 'intersect': None, 'limit': None, 'orderBy': [], 'select': [False, [[0, [0, [0, 16, False], None]]]], 'union': None, 'where': [[False, 2, [0, [0, 19, False], None], '\"Relational Database\"', None]]}"
        ],
        [
         "3008",
         "academic",
         "Học thuật, Giáo dục, Nghiên cứu",
         "select t2.tên from từ khoá của bài báo as t4 join từ khoá as t1 on t4.id từ khoá = t1.id từ khoá join bài báo as t3 on t3.id bài báo = t4.id bài báo join hội nghị as t2 on t3.id hội nghị = t2.id hội nghị where t1.từ khoá = \"Relational Database\" group by t2.tên order by count ( distinct t3.tiêu đề ) desc limit 1",
         "['select', 't2.tên', 'from', 'từ khoá của bài báo', 'as', 't4', 'join', 'từ khoá', 'as', 't1', 'on', 't4.id từ khoá', '=', 't1.id từ khoá', 'join', 'bài báo', 'as', 't3', 'on', 't3.id bài báo', '=', 't4.id bài báo', 'join', 'hội nghị', 'as', 't2', 'on', 't3.id hội nghị', '=', 't2.id hội nghị', 'where', 't1.từ khoá', '=', '\"Relational Database\"', 'group', 'by', 't2.tên', 'order', 'by', 'count', '(', 'distinct', 't3.tiêu đề', ')', 'desc', 'limit', '1']",
         "['select', 't2', '.', 'tên', 'from', 'từ khoá của bài báo', 'as', 't4', 'join', 'từ khoá', 'as', 't1', 'on', 't4', '.', 'id từ khoá', '=', 't1', '.', 'id từ khoá', 'join', 'bài báo', 'as', 't3', 'on', 't3', '.', 'id bài báo', '=', 't4', '.', 'id bài báo', 'join', 'hội nghị', 'as', 't2', 'on', 't3', '.', 'id hội nghị', '=', 't2', '.', 'id hội nghị', 'where', 't1', '.', 'từ khoá', '=', 'value', 'group', 'by', 't2', '.', 'tên', 'order', 'by', 'count', '(', 'distinct', 't3', '.', 'tiêu đề', ')', 'desc', 'limit', 'value']",
         "hội nghị nào có nhiều bài báo với từ khoá ' Cơ sở dữ liệu quan hệ ' nhất ?",
         "['hội', 'nghị', 'nào', 'có', 'nhiều', 'bài', 'báo', 'với', 'từ', 'khoá', \"'\", 'Cơ', 'sở', 'dữ', 'liệu', 'quan', 'hệ', \"'\", 'nhất', '?']",
         "{'except': None, 'from': {'conds': [[False, 2, [0, [0, 38, False], None], [0, 20, False], None]], 'table_units': [['table_unit', 12], ['table_unit', 7]]}, 'groupBy': [[0, 7, False]], 'having': [], 'intersect': None, 'limit': 1, 'orderBy': ['desc', [[0, [3, 29, True], None]]], 'select': [False, [[0, [0, [0, 7, False], None]]]], 'union': None, 'where': [[False, 2, [0, [0, 19, False], None], '\"Relational Database\"', None]]}"
        ],
        [
         "3009",
         "academic",
         "Học thuật, Giáo dục, Nghiên cứu",
         "select t2.tên from từ khoá của bài báo as t4 join từ khoá as t1 on t4.id từ khoá = t1.id từ khoá join bài báo as t3 on t3.id bài báo = t4.id bài báo join hội nghị as t2 on t3.id hội nghị = t2.id hội nghị where t1.từ khoá = \"Relational Database\" group by t2.tên order by count ( distinct t3.tiêu đề ) desc limit 1",
         "['select', 't2.tên', 'from', 'từ khoá của bài báo', 'as', 't4', 'join', 'từ khoá', 'as', 't1', 'on', 't4.id từ khoá', '=', 't1.id từ khoá', 'join', 'bài báo', 'as', 't3', 'on', 't3.id bài báo', '=', 't4.id bài báo', 'join', 'hội nghị', 'as', 't2', 'on', 't3.id hội nghị', '=', 't2.id hội nghị', 'where', 't1.từ khoá', '=', '\"Relational Database\"', 'group', 'by', 't2.tên', 'order', 'by', 'count', '(', 'distinct', 't3.tiêu đề', ')', 'desc', 'limit', '1']",
         "['select', 't2', '.', 'tên', 'from', 'từ khoá của bài báo', 'as', 't4', 'join', 'từ khoá', 'as', 't1', 'on', 't4', '.', 'id từ khoá', '=', 't1', '.', 'id từ khoá', 'join', 'bài báo', 'as', 't3', 'on', 't3', '.', 'id bài báo', '=', 't4', '.', 'id bài báo', 'join', 'hội nghị', 'as', 't2', 'on', 't3', '.', 'id hội nghị', '=', 't2', '.', 'id hội nghị', 'where', 't1', '.', 'từ khoá', '=', 'value', 'group', 'by', 't2', '.', 'tên', 'order', 'by', 'count', '(', 'distinct', 't3', '.', 'tiêu đề', ')', 'desc', 'limit', 'value']",
         "hội nghị có nhiều bài báo sử dụng từ khoá ' Cơ sở dữ liệu quan hệ ' nhất là hội nghị nào ?",
         "['hội', 'nghị', 'có', 'nhiều', 'bài', 'báo', 'sử', 'dụng', 'từ', 'khoá', \"'\", 'Cơ', 'sở', 'dữ', 'liệu', 'quan', 'hệ', \"'\", 'nhất', 'là', 'hội', 'nghị', 'nào', '?']",
         "{'except': None, 'from': {'conds': [[False, 2, [0, [0, 38, False], None], [0, 20, False], None]], 'table_units': [['table_unit', 12], ['table_unit', 7]]}, 'groupBy': [[0, 7, False]], 'having': [], 'intersect': None, 'limit': 1, 'orderBy': ['desc', [[0, [3, 29, True], None]]], 'select': [False, [[0, [0, [0, 7, False], None]]]], 'union': None, 'where': [[False, 2, [0, [0, 19, False], None], '\"Relational Database\"', None]]}"
        ],
        [
         "3010",
         "academic",
         "Học thuật, Giáo dục, Nghiên cứu",
         "select t3.tên from từ khoá của bài báo as t4 join từ khoá as t1 on t4.id từ khoá = t1.id từ khoá join bài báo as t2 on t2.id bài báo = t4.id bài báo join tạp chí as t3 on t2.id tạp chí = t3.id tạp chí where t1.từ khoá = \"Relational Database\" group by t3.tên order by count ( distinct t2.tiêu đề ) desc limit 1",
         "['select', 't3.tên', 'from', 'từ khoá của bài báo', 'as', 't4', 'join', 'từ khoá', 'as', 't1', 'on', 't4.id từ khoá', '=', 't1.id từ khoá', 'join', 'bài báo', 'as', 't2', 'on', 't2.id bài báo', '=', 't4.id bài báo', 'join', 'tạp chí', 'as', 't3', 'on', 't2.id tạp chí', '=', 't3.id tạp chí', 'where', 't1.từ khoá', '=', '\"Relational Database\"', 'group', 'by', 't3.tên', 'order', 'by', 'count', '(', 'distinct', 't2.tiêu đề', ')', 'desc', 'limit', '1']",
         "['select', 't3', '.', 'tên', 'from', 'từ khoá của bài báo', 'as', 't4', 'join', 'từ khoá', 'as', 't1', 'on', 't4', '.', 'id từ khoá', '=', 't1', '.', 'id từ khoá', 'join', 'bài báo', 'as', 't2', 'on', 't2', '.', 'id bài báo', '=', 't4', '.', 'id bài báo', 'join', 'tạp chí', 'as', 't3', 'on', 't2', '.', 'id tạp chí', '=', 't3', '.', 'id tạp chí', 'where', 't1', '.', 'từ khoá', '=', 'value', 'group', 'by', 't3', '.', 'tên', 'order', 'by', 'count', '(', 'distinct', 't2', '.', 'tiêu đề', ')', 'desc', 'limit', 'value']",
         "cho biết tạp chí đã cho đăng nhiều bài báo với từ khoá ' Cơ sở dữ liệu quan hệ ' nhất .",
         "['cho', 'biết', 'tạp', 'chí', 'đã', 'cho', 'đăng', 'nhiều', 'bài', 'báo', 'với', 'từ', 'khoá', \"'\", 'Cơ', 'sở', 'dữ', 'liệu', 'quan', 'hệ', \"'\", 'nhất', '.']",
         "{'except': None, 'from': {'conds': [[False, 2, [0, [0, 38, False], None], [0, 20, False], None]], 'table_units': [['table_unit', 12], ['table_unit', 7]]}, 'groupBy': [[0, 16, False]], 'having': [], 'intersect': None, 'limit': 1, 'orderBy': ['desc', [[0, [3, 29, True], None]]], 'select': [False, [[0, [0, [0, 16, False], None]]]], 'union': None, 'where': [[False, 2, [0, [0, 19, False], None], '\"Relational Database\"', None]]}"
        ],
        [
         "3011",
         "academic",
         "Học thuật, Giáo dục, Nghiên cứu",
         "select t3.tên from từ khoá của bài báo as t4 join từ khoá as t1 on t4.id từ khoá = t1.id từ khoá join bài báo as t2 on t2.id bài báo = t4.id bài báo join tạp chí as t3 on t2.id tạp chí = t3.id tạp chí where t1.từ khoá = \"Relational Database\" group by t3.tên order by count ( distinct t2.tiêu đề ) desc limit 1",
         "['select', 't3.tên', 'from', 'từ khoá của bài báo', 'as', 't4', 'join', 'từ khoá', 'as', 't1', 'on', 't4.id từ khoá', '=', 't1.id từ khoá', 'join', 'bài báo', 'as', 't2', 'on', 't2.id bài báo', '=', 't4.id bài báo', 'join', 'tạp chí', 'as', 't3', 'on', 't2.id tạp chí', '=', 't3.id tạp chí', 'where', 't1.từ khoá', '=', '\"Relational Database\"', 'group', 'by', 't3.tên', 'order', 'by', 'count', '(', 'distinct', 't2.tiêu đề', ')', 'desc', 'limit', '1']",
         "['select', 't3', '.', 'tên', 'from', 'từ khoá của bài báo', 'as', 't4', 'join', 'từ khoá', 'as', 't1', 'on', 't4', '.', 'id từ khoá', '=', 't1', '.', 'id từ khoá', 'join', 'bài báo', 'as', 't2', 'on', 't2', '.', 'id bài báo', '=', 't4', '.', 'id bài báo', 'join', 'tạp chí', 'as', 't3', 'on', 't2', '.', 'id tạp chí', '=', 't3', '.', 'id tạp chí', 'where', 't1', '.', 'từ khoá', '=', 'value', 'group', 'by', 't3', '.', 'tên', 'order', 'by', 'count', '(', 'distinct', 't2', '.', 'tiêu đề', ')', 'desc', 'limit', 'value']",
         "tạp chí nào có nhiều bài báo với từ khoá ' Cơ sở dữ liệu quan hệ ' nhất ?",
         "['tạp', 'chí', 'nào', 'có', 'nhiều', 'bài', 'báo', 'với', 'từ', 'khoá', \"'\", 'Cơ', 'sở', 'dữ', 'liệu', 'quan', 'hệ', \"'\", 'nhất', '?']",
         "{'except': None, 'from': {'conds': [[False, 2, [0, [0, 38, False], None], [0, 20, False], None]], 'table_units': [['table_unit', 12], ['table_unit', 7]]}, 'groupBy': [[0, 16, False]], 'having': [], 'intersect': None, 'limit': 1, 'orderBy': ['desc', [[0, [3, 29, True], None]]], 'select': [False, [[0, [0, [0, 16, False], None]]]], 'union': None, 'where': [[False, 2, [0, [0, 19, False], None], '\"Relational Database\"', None]]}"
        ],
        [
         "3012",
         "academic",
         "Học thuật, Giáo dục, Nghiên cứu",
         "select t1.từ khoá from từ khoá của bài báo as t4 join từ khoá as t1 on t4.id từ khoá = t1.id từ khoá join bài báo as t3 on t3.id bài báo = t4.id bài báo join hội nghị as t2 on t3.id hội nghị = t2.id hội nghị where t2.tên = \"VLDB\" group by t1.từ khoá order by count ( distinct t3.tiêu đề ) desc limit 1",
         "['select', 't1.từ khoá', 'from', 'từ khoá của bài báo', 'as', 't4', 'join', 'từ khoá', 'as', 't1', 'on', 't4.id từ khoá', '=', 't1.id từ khoá', 'join', 'bài báo', 'as', 't3', 'on', 't3.id bài báo', '=', 't4.id bài báo', 'join', 'hội nghị', 'as', 't2', 'on', 't3.id hội nghị', '=', 't2.id hội nghị', 'where', 't2.tên', '=', '\"VLDB\"', 'group', 'by', 't1.từ khoá', 'order', 'by', 'count', '(', 'distinct', 't3.tiêu đề', ')', 'desc', 'limit', '1']",
         "['select', 't1', '.', 'từ khoá', 'from', 'từ khoá của bài báo', 'as', 't4', 'join', 'từ khoá', 'as', 't1', 'on', 't4', '.', 'id từ khoá', '=', 't1', '.', 'id từ khoá', 'join', 'bài báo', 'as', 't3', 'on', 't3', '.', 'id bài báo', '=', 't4', '.', 'id bài báo', 'join', 'hội nghị', 'as', 't2', 'on', 't3', '.', 'id hội nghị', '=', 't2', '.', 'id hội nghị', 'where', 't2', '.', 'tên', '=', 'value', 'group', 'by', 't1', '.', 'từ khoá', 'order', 'by', 'count', '(', 'distinct', 't3', '.', 'tiêu đề', ')', 'desc', 'limit', 'value']",
         "từ khoá nào được nhắc đến nhiều nhất trong các bài báo thuộc hội nghị VLDB ?",
         "['từ', 'khoá', 'nào', 'được', 'nhắc', 'đến', 'nhiều', 'nhất', 'trong', 'các', 'bài', 'báo', 'thuộc', 'hội', 'nghị', 'VLDB', '?']",
         "{'except': None, 'from': {'conds': [[False, 2, [0, [0, 38, False], None], [0, 20, False], None]], 'table_units': [['table_unit', 12], ['table_unit', 7]]}, 'groupBy': [[0, 19, False]], 'having': [], 'intersect': None, 'limit': 1, 'orderBy': ['desc', [[0, [3, 29, True], None]]], 'select': [False, [[0, [0, [0, 19, False], None]]]], 'union': None, 'where': [[False, 2, [0, [0, 7, False], None], '\"VLDB\"', None]]}"
        ],
        [
         "3013",
         "academic",
         "Học thuật, Giáo dục, Nghiên cứu",
         "select t1.từ khoá from từ khoá của bài báo as t4 join từ khoá as t1 on t4.id từ khoá = t1.id từ khoá join bài báo as t2 on t2.id bài báo = t4.id bài báo join tạp chí as t3 on t2.id tạp chí = t3.id tạp chí where t3.tên = \"PVLDB\" group by t1.từ khoá order by count ( distinct t2.tiêu đề ) desc limit 1",
         "['select', 't1.từ khoá', 'from', 'từ khoá của bài báo', 'as', 't4', 'join', 'từ khoá', 'as', 't1', 'on', 't4.id từ khoá', '=', 't1.id từ khoá', 'join', 'bài báo', 'as', 't2', 'on', 't2.id bài báo', '=', 't4.id bài báo', 'join', 'tạp chí', 'as', 't3', 'on', 't2.id tạp chí', '=', 't3.id tạp chí', 'where', 't3.tên', '=', '\"PVLDB\"', 'group', 'by', 't1.từ khoá', 'order', 'by', 'count', '(', 'distinct', 't2.tiêu đề', ')', 'desc', 'limit', '1']",
         "['select', 't1', '.', 'từ khoá', 'from', 'từ khoá của bài báo', 'as', 't4', 'join', 'từ khoá', 'as', 't1', 'on', 't4', '.', 'id từ khoá', '=', 't1', '.', 'id từ khoá', 'join', 'bài báo', 'as', 't2', 'on', 't2', '.', 'id bài báo', '=', 't4', '.', 'id bài báo', 'join', 'tạp chí', 'as', 't3', 'on', 't2', '.', 'id tạp chí', '=', 't3', '.', 'id tạp chí', 'where', 't3', '.', 'tên', '=', 'value', 'group', 'by', 't1', '.', 'từ khoá', 'order', 'by', 'count', '(', 'distinct', 't2', '.', 'tiêu đề', ')', 'desc', 'limit', 'value']",
         "từ khoá nào được sử dụng nhiều nhất trong số các bài báo của hội nghị PVLDB ?",
         "['từ', 'khoá', 'nào', 'được', 'sử', 'dụng', 'nhiều', 'nhất', 'trong', 'số', 'các', 'bài', 'báo', 'của', 'hội', 'nghị', 'PVLDB', '?']",
         "{'except': None, 'from': {'conds': [[False, 2, [0, [0, 38, False], None], [0, 20, False], None]], 'table_units': [['table_unit', 12], ['table_unit', 7]]}, 'groupBy': [[0, 19, False]], 'having': [], 'intersect': None, 'limit': 1, 'orderBy': ['desc', [[0, [3, 29, True], None]]], 'select': [False, [[0, [0, [0, 19, False], None]]]], 'union': None, 'where': [[False, 2, [0, [0, 16, False], None], '\"PVLDB\"', None]]}"
        ],
        [
         "3014",
         "academic",
         "Học thuật, Giáo dục, Nghiên cứu",
         "select t1.từ khoá from từ khoá của bài báo as t5 join từ khoá as t1 on t5.id từ khoá = t1.id từ khoá join bài báo as t3 on t3.id bài báo = t5.id bài báo join viết as t4 on t4.id bài báo = t3.id bài báo join tác giả as t2 on t4.id tác giả = t2.id tác giả where t2.tên = \"H. V. Jagadish\" group by t1.từ khoá order by count ( distinct t3.tiêu đề ) desc limit 1",
         "['select', 't1.từ khoá', 'from', 'từ khoá của bài báo', 'as', 't5', 'join', 'từ khoá', 'as', 't1', 'on', 't5.id từ khoá', '=', 't1.id từ khoá', 'join', 'bài báo', 'as', 't3', 'on', 't3.id bài báo', '=', 't5.id bài báo', 'join', 'viết', 'as', 't4', 'on', 't4.id bài báo', '=', 't3.id bài báo', 'join', 'tác giả', 'as', 't2', 'on', 't4.id tác giả', '=', 't2.id tác giả', 'where', 't2.tên', '=', '\"H. V. Jagadish\"', 'group', 'by', 't1.từ khoá', 'order', 'by', 'count', '(', 'distinct', 't3.tiêu đề', ')', 'desc', 'limit', '1']",
         "['select', 't1', '.', 'từ khoá', 'from', 'từ khoá của bài báo', 'as', 't5', 'join', 'từ khoá', 'as', 't1', 'on', 't5', '.', 'id từ khoá', '=', 't1', '.', 'id từ khoá', 'join', 'bài báo', 'as', 't3', 'on', 't3', '.', 'id bài báo', '=', 't5', '.', 'id bài báo', 'join', 'viết', 'as', 't4', 'on', 't4', '.', 'id bài báo', '=', 't3', '.', 'id bài báo', 'join', 'tác giả', 'as', 't2', 'on', 't4', '.', 'id tác giả', '=', 't2', '.', 'id tác giả', 'where', 't2', '.', 'tên', '=', 'value', 'group', 'by', 't1', '.', 'từ khoá', 'order', 'by', 'count', '(', 'distinct', 't3', '.', 'tiêu đề', ')', 'desc', 'limit', 'value']",
         "từ khoá nào được sử dụng trong nhiều bài báo của H. V. Jagadish nhất ?",
         "['từ', 'khoá', 'nào', 'được', 'sử', 'dụng', 'trong', 'nhiều', 'bài', 'báo', 'của', 'H.', 'V.', 'Jagadish', 'nhất', '?']",
         "{'except': None, 'from': {'conds': [[False, 2, [0, [0, 38, False], None], [0, 20, False], None]], 'table_units': [['table_unit', 12], ['table_unit', 7]]}, 'groupBy': [[0, 19, False]], 'having': [], 'intersect': None, 'limit': 1, 'orderBy': ['desc', [[0, [3, 29, True], None]]], 'select': [False, [[0, [0, [0, 19, False], None]]]], 'union': None, 'where': [[False, 2, [0, [0, 3, False], None], '\"H. V. Jagadish\"', None]]}"
        ],
        [
         "3015",
         "academic",
         "Học thuật, Giáo dục, Nghiên cứu",
         "select t1.tên from tổ chức as t2 join tác giả as t1 on t2.id tổ chức = t1.id tổ chức join viết as t3 on t3.id tác giả = t1.id tác giả join bài báo as t4 on t3.id bài báo = t4.id bài báo where t2.tên = \"University of Michigan\" group by t1.tên order by sum ( t4.số lượng trích dẫn ) desc limit 1",
         "['select', 't1.tên', 'from', 'tổ chức', 'as', 't2', 'join', 'tác giả', 'as', 't1', 'on', 't2.id tổ chức', '=', 't1.id tổ chức', 'join', 'viết', 'as', 't3', 'on', 't3.id tác giả', '=', 't1.id tác giả', 'join', 'bài báo', 'as', 't4', 'on', 't3.id bài báo', '=', 't4.id bài báo', 'where', 't2.tên', '=', '\"University of Michigan\"', 'group', 'by', 't1.tên', 'order', 'by', 'sum', '(', 't4.số lượng trích dẫn', ')', 'desc', 'limit', '1']",
         "['select', 't1', '.', 'tên', 'from', 'tổ chức', 'as', 't2', 'join', 'tác giả', 'as', 't1', 'on', 't2', '.', 'id tổ chức', '=', 't1', '.', 'id tổ chức', 'join', 'viết', 'as', 't3', 'on', 't3', '.', 'id tác giả', '=', 't1', '.', 'id tác giả', 'join', 'bài báo', 'as', 't4', 'on', 't3', '.', 'id bài báo', '=', 't4', '.', 'id bài báo', 'where', 't2', '.', 'tên', '=', 'value', 'group', 'by', 't1', '.', 'tên', 'order', 'by', 'sum', '(', 't4', '.', 'số lượng trích dẫn', ')', 'desc', 'limit', 'value']",
         "tác giả nào thuộc ' Đại học Michigan ' đã xuất bản bài báo với nhiều trích dẫn nhất ?",
         "['tác', 'giả', 'nào', 'thuộc', \"'\", 'Đại', 'học', 'Michigan', \"'\", 'đã', 'xuất', 'bản', 'bài', 'báo', 'với', 'nhiều', 'trích', 'dẫn', 'nhất', '?']",
         "{'except': None, 'from': {'conds': [[False, 2, [0, [0, 36, False], None], [0, 4, False], None]], 'table_units': [['table_unit', 11], ['table_unit', 0]]}, 'groupBy': [[0, 3, False]], 'having': [], 'intersect': None, 'limit': 1, 'orderBy': ['desc', [[0, [4, 25, False], None]]], 'select': [False, [[0, [0, [0, 3, False], None]]]], 'union': None, 'where': [[False, 2, [0, [0, 35, False], None], '\"University of Michigan\"', None]]}"
        ],
        [
         "3016",
         "academic",
         "Học thuật, Giáo dục, Nghiên cứu",
         "select t1.tên from lĩnh vực as t4 join lĩnh vực của bài báo as t2 on t4.id lĩnh vực = t2.id lĩnh vực join bài báo as t5 on t5.id bài báo = t2.id bài báo join viết as t3 on t3.id bài báo = t5.id bài báo join tác giả as t1 on t3.id tác giả = t1.id tác giả join tổ chức as t6 on t6.id tổ chức = t1.id tổ chức where t4.tên = \"Databases\" and t6.tên = \"University of Michigan\" group by t1.tên order by sum ( t5.số lượng trích dẫn ) desc limit 1",
         "['select', 't1.tên', 'from', 'lĩnh vực', 'as', 't4', 'join', 'lĩnh vực của bài báo', 'as', 't2', 'on', 't4.id lĩnh vực', '=', 't2.id lĩnh vực', 'join', 'bài báo', 'as', 't5', 'on', 't5.id bài báo', '=', 't2.id bài báo', 'join', 'viết', 'as', 't3', 'on', 't3.id bài báo', '=', 't5.id bài báo', 'join', 'tác giả', 'as', 't1', 'on', 't3.id tác giả', '=', 't1.id tác giả', 'join', 'tổ chức', 'as', 't6', 'on', 't6.id tổ chức', '=', 't1.id tổ chức', 'where', 't4.tên', '=', '\"Databases\"', 'and', 't6.tên', '=', '\"University of Michigan\"', 'group', 'by', 't1.tên', 'order', 'by', 'sum', '(', 't5.số lượng trích dẫn', ')', 'desc', 'limit', '1']",
         "['select', 't1', '.', 'tên', 'from', 'lĩnh vực', 'as', 't4', 'join', 'lĩnh vực của bài báo', 'as', 't2', 'on', 't4', '.', 'id lĩnh vực', '=', 't2', '.', 'id lĩnh vực', 'join', 'bài báo', 'as', 't5', 'on', 't5', '.', 'id bài báo', '=', 't2', '.', 'id bài báo', 'join', 'viết', 'as', 't3', 'on', 't3', '.', 'id bài báo', '=', 't5', '.', 'id bài báo', 'join', 'tác giả', 'as', 't1', 'on', 't3', '.', 'id tác giả', '=', 't1', '.', 'id tác giả', 'join', 'tổ chức', 'as', 't6', 'on', 't6', '.', 'id tổ chức', '=', 't1', '.', 'id tổ chức', 'where', 't4', '.', 'tên', '=', 'value', 'and', 't6', '.', 'tên', '=', 'value', 'group', 'by', 't1', '.', 'tên', 'order', 'by', 'sum', '(', 't5', '.', 'số lượng trích dẫn', ')', 'desc', 'limit', 'value']",
         "tác giả nào thuộc ' Đại học Michigan ' đã xuất bản bài báo nhận nhiều trích dẫn nhất trong lĩnh vực ' Cơ sở dữ liệu ' ?",
         "['tác', 'giả', 'nào', 'thuộc', \"'\", 'Đại', 'học', 'Michigan', \"'\", 'đã', 'xuất', 'bản', 'bài', 'báo', 'nhận', 'nhiều', 'trích', 'dẫn', 'nhất', 'trong', 'lĩnh', 'vực', \"'\", 'Cơ', 'sở', 'dữ', 'liệu', \"'\", '?']",
         "{'except': None, 'from': {'conds': [[False, 2, [0, [0, 8, False], None], [0, 31, False], None]], 'table_units': [['table_unit', 2], ['table_unit', 10]]}, 'groupBy': [[0, 3, False]], 'having': [], 'intersect': None, 'limit': 1, 'orderBy': ['desc', [[0, [4, 25, False], None]]], 'select': [False, [[0, [0, [0, 3, False], None]]]], 'union': None, 'where': [[False, 2, [0, [0, 9, False], None], '\"Databases\"', None], 'and', [False, 2, [0, [0, 35, False], None], '\"University of Michigan\"', None]]}"
        ],
        [
         "3017",
         "academic",
         "Học thuật, Giáo dục, Nghiên cứu",
         "select t5.tiêu đề from viết as t3 join tác giả as t2 on t3.id tác giả = t2.id tác giả join bài báo as t5 on t3.id bài báo = t5.id bài báo join viết as t4 on t4.id bài báo = t5.id bài báo join tác giả as t1 on t4.id tác giả = t1.id tác giả where t2.tên = \"Divesh Srivastava\" and t1.tên = \"H. V. Jagadish\" order by t5.số lượng trích dẫn desc limit 1",
         "['select', 't5.tiêu đề', 'from', 'viết', 'as', 't3', 'join', 'tác giả', 'as', 't2', 'on', 't3.id tác giả', '=', 't2.id tác giả', 'join', 'bài báo', 'as', 't5', 'on', 't3.id bài báo', '=', 't5.id bài báo', 'join', 'viết', 'as', 't4', 'on', 't4.id bài báo', '=', 't5.id bài báo', 'join', 'tác giả', 'as', 't1', 'on', 't4.id tác giả', '=', 't1.id tác giả', 'where', 't2.tên', '=', '\"Divesh Srivastava\"', 'and', 't1.tên', '=', '\"H. V. Jagadish\"', 'order', 'by', 't5.số lượng trích dẫn', 'desc', 'limit', '1']",
         "['select', 't5', '.', 'tiêu đề', 'from', 'viết', 'as', 't3', 'join', 'tác giả', 'as', 't2', 'on', 't3', '.', 'id tác giả', '=', 't2', '.', 'id tác giả', 'join', 'bài báo', 'as', 't5', 'on', 't3', '.', 'id bài báo', '=', 't5', '.', 'id bài báo', 'join', 'viết', 'as', 't4', 'on', 't4', '.', 'id bài báo', '=', 't5', '.', 'id bài báo', 'join', 'tác giả', 'as', 't1', 'on', 't4', '.', 'id tác giả', '=', 't1', '.', 'id tác giả', 'where', 't2', '.', 'tên', '=', 'value', 'and', 't1', '.', 'tên', '=', 'value', 'order', 'by', 't5', '.', 'số lượng trích dẫn', 'desc', 'limit', 'value']",
         "bài báo có nhiều trích dẫn nhất được viết bởi ' H . V. Jagadish ' và ' Divesh Srivastava ' là bài báo nào ?",
         "['bài', 'báo', 'có', 'nhiều', 'trích', 'dẫn', 'nhất', 'được', 'viết', 'bởi', \"'\", 'H', '.', 'V.', 'Jagadish', \"'\", 'và', \"'\", 'Divesh', 'Srivastava', \"'\", 'là', 'bài', 'báo', 'nào', '?']",
         "{'except': None, 'from': {'conds': [[False, 2, [0, [0, 39, False], None], [0, 1, False], None]], 'table_units': [['table_unit', 13], ['table_unit', 0]]}, 'groupBy': [], 'having': [], 'intersect': None, 'limit': 1, 'orderBy': ['desc', [[0, [0, 25, False], None]]], 'select': [False, [[0, [0, [0, 29, False], None]]]], 'union': None, 'where': [[False, 2, [0, [0, 3, False], None], '\"Divesh Srivastava\"', None], 'and', [False, 2, [0, [0, 3, False], None], '\"H. V. Jagadish\"', None]]}"
        ],
        [
         "3018",
         "academic",
         "Học thuật, Giáo dục, Nghiên cứu",
         "select t2.tên from bài báo as t4 join hội nghị as t2 on t4.id hội nghị = t2.id hội nghị join viết as t3 on t3.id bài báo = t4.id bài báo join tác giả as t1 on t3.id tác giả = t1.id tác giả where t1.tên = \"H. V. Jagadish\" group by t2.tên having count ( distinct t4.tiêu đề ) > 10",
         "['select', 't2.tên', 'from', 'bài báo', 'as', 't4', 'join', 'hội nghị', 'as', 't2', 'on', 't4.id hội nghị', '=', 't2.id hội nghị', 'join', 'viết', 'as', 't3', 'on', 't3.id bài báo', '=', 't4.id bài báo', 'join', 'tác giả', 'as', 't1', 'on', 't3.id tác giả', '=', 't1.id tác giả', 'where', 't1.tên', '=', '\"H. V. Jagadish\"', 'group', 'by', 't2.tên', 'having', 'count', '(', 'distinct', 't4.tiêu đề', ')', '>', '10']",
         "['select', 't2', '.', 'tên', 'from', 'bài báo', 'as', 't4', 'join', 'hội nghị', 'as', 't2', 'on', 't4', '.', 'id hội nghị', '=', 't2', '.', 'id hội nghị', 'join', 'viết', 'as', 't3', 'on', 't3', '.', 'id bài báo', '=', 't4', '.', 'id bài báo', 'join', 'tác giả', 'as', 't1', 'on', 't3', '.', 'id tác giả', '=', 't1', '.', 'id tác giả', 'where', 't1', '.', 'tên', '=', 'value', 'group', 'by', 't2', '.', 'tên', 'having', 'count', '(', 'distinct', 't4', '.', 'tiêu đề', ')', '>', 'value']",
         "liệt kê các hội nghị đã xuất bản nhiều hơn 10 bài báo của tác giả ' H . V. Jagadish ' .",
         "['liệt', 'kê', 'các', 'hội', 'nghị', 'đã', 'xuất', 'bản', 'nhiều', 'hơn', '10', 'bài', 'báo', 'của', 'tác', 'giả', \"'\", 'H', '.', 'V.', 'Jagadish', \"'\", '.']",
         "{'except': None, 'from': {'conds': [[False, 2, [0, [0, 24, False], None], [0, 5, False], None]], 'table_units': [['table_unit', 9], ['table_unit', 1]]}, 'groupBy': [[0, 7, False]], 'having': [[False, 3, [0, [3, 29, True], None], 10.0, None]], 'intersect': None, 'limit': None, 'orderBy': [], 'select': [False, [[0, [0, [0, 7, False], None]]]], 'union': None, 'where': [[False, 2, [0, [0, 3, False], None], '\"H. V. Jagadish\"', None]]}"
        ],
        [
         "3019",
         "academic",
         "Học thuật, Giáo dục, Nghiên cứu",
         "select t2.tên from bài báo as t4 join hội nghị as t2 on t4.id hội nghị = t2.id hội nghị join viết as t3 on t3.id bài báo = t4.id bài báo join tác giả as t1 on t3.id tác giả = t1.id tác giả where t1.tên = \"H. V. Jagadish\" group by t2.tên order by count ( distinct t4.tiêu đề ) desc limit 1",
         "['select', 't2.tên', 'from', 'bài báo', 'as', 't4', 'join', 'hội nghị', 'as', 't2', 'on', 't4.id hội nghị', '=', 't2.id hội nghị', 'join', 'viết', 'as', 't3', 'on', 't3.id bài báo', '=', 't4.id bài báo', 'join', 'tác giả', 'as', 't1', 'on', 't3.id tác giả', '=', 't1.id tác giả', 'where', 't1.tên', '=', '\"H. V. Jagadish\"', 'group', 'by', 't2.tên', 'order', 'by', 'count', '(', 'distinct', 't4.tiêu đề', ')', 'desc', 'limit', '1']",
         "['select', 't2', '.', 'tên', 'from', 'bài báo', 'as', 't4', 'join', 'hội nghị', 'as', 't2', 'on', 't4', '.', 'id hội nghị', '=', 't2', '.', 'id hội nghị', 'join', 'viết', 'as', 't3', 'on', 't3', '.', 'id bài báo', '=', 't4', '.', 'id bài báo', 'join', 'tác giả', 'as', 't1', 'on', 't3', '.', 'id tác giả', '=', 't1', '.', 'id tác giả', 'where', 't1', '.', 'tên', '=', 'value', 'group', 'by', 't2', '.', 'tên', 'order', 'by', 'count', '(', 'distinct', 't4', '.', 'tiêu đề', ')', 'desc', 'limit', 'value']",
         "hội nghị nào đã xuất bản nhiều bài báo của tác giả ' H . V. Jagadish ' nhất ?",
         "['hội', 'nghị', 'nào', 'đã', 'xuất', 'bản', 'nhiều', 'bài', 'báo', 'của', 'tác', 'giả', \"'\", 'H', '.', 'V.', 'Jagadish', \"'\", 'nhất', '?']",
         "{'except': None, 'from': {'conds': [[False, 2, [0, [0, 24, False], None], [0, 5, False], None]], 'table_units': [['table_unit', 9], ['table_unit', 1]]}, 'groupBy': [[0, 7, False]], 'having': [], 'intersect': None, 'limit': 1, 'orderBy': ['desc', [[0, [3, 29, True], None]]], 'select': [False, [[0, [0, [0, 7, False], None]]]], 'union': None, 'where': [[False, 2, [0, [0, 3, False], None], '\"H. V. Jagadish\"', None]]}"
        ],
        [
         "3020",
         "academic",
         "Học thuật, Giáo dục, Nghiên cứu",
         "select t2.tên from bài báo as t4 join tạp chí as t2 on t4.id tạp chí = t2.id tạp chí join viết as t3 on t3.id bài báo = t4.id bài báo join tác giả as t1 on t3.id tác giả = t1.id tác giả where t1.tên = \"H. V. Jagadish\" group by t2.tên having count ( distinct t4.tiêu đề ) > 10",
         "['select', 't2.tên', 'from', 'bài báo', 'as', 't4', 'join', 'tạp chí', 'as', 't2', 'on', 't4.id tạp chí', '=', 't2.id tạp chí', 'join', 'viết', 'as', 't3', 'on', 't3.id bài báo', '=', 't4.id bài báo', 'join', 'tác giả', 'as', 't1', 'on', 't3.id tác giả', '=', 't1.id tác giả', 'where', 't1.tên', '=', '\"H. V. Jagadish\"', 'group', 'by', 't2.tên', 'having', 'count', '(', 'distinct', 't4.tiêu đề', ')', '>', '10']",
         "['select', 't2', '.', 'tên', 'from', 'bài báo', 'as', 't4', 'join', 'tạp chí', 'as', 't2', 'on', 't4', '.', 'id tạp chí', '=', 't2', '.', 'id tạp chí', 'join', 'viết', 'as', 't3', 'on', 't3', '.', 'id bài báo', '=', 't4', '.', 'id bài báo', 'join', 'tác giả', 'as', 't1', 'on', 't3', '.', 'id tác giả', '=', 't1', '.', 'id tác giả', 'where', 't1', '.', 'tên', '=', 'value', 'group', 'by', 't2', '.', 'tên', 'having', 'count', '(', 'distinct', 't4', '.', 'tiêu đề', ')', '>', 'value']",
         "liệt kê các tạp chí đã cho đăng nhiều hơn 10 bài báo của tác giả ' H . V. Jagadish ' .",
         "['liệt', 'kê', 'các', 'tạp', 'chí', 'đã', 'cho', 'đăng', 'nhiều', 'hơn', '10', 'bài', 'báo', 'của', 'tác', 'giả', \"'\", 'H', '.', 'V.', 'Jagadish', \"'\", '.']",
         "{'except': None, 'from': {'conds': [[False, 2, [0, [0, 26, False], None], [0, 15, False], None]], 'table_units': [['table_unit', 9], ['table_unit', 5]]}, 'groupBy': [[0, 16, False]], 'having': [[False, 3, [0, [3, 29, True], None], 10.0, None]], 'intersect': None, 'limit': None, 'orderBy': [], 'select': [False, [[0, [0, [0, 16, False], None]]]], 'union': None, 'where': [[False, 2, [0, [0, 3, False], None], '\"H. V. Jagadish\"', None]]}"
        ],
        [
         "3021",
         "academic",
         "Học thuật, Giáo dục, Nghiên cứu",
         "select t2.tên from bài báo as t4 join tạp chí as t2 on t4.id tạp chí = t2.id tạp chí join viết as t3 on t3.id bài báo = t4.id bài báo join tác giả as t1 on t3.id tác giả = t1.id tác giả where t1.tên = \"H. V. Jagadish\" group by t2.tên order by count ( distinct t4.tiêu đề ) desc limit 1",
         "['select', 't2.tên', 'from', 'bài báo', 'as', 't4', 'join', 'tạp chí', 'as', 't2', 'on', 't4.id tạp chí', '=', 't2.id tạp chí', 'join', 'viết', 'as', 't3', 'on', 't3.id bài báo', '=', 't4.id bài báo', 'join', 'tác giả', 'as', 't1', 'on', 't3.id tác giả', '=', 't1.id tác giả', 'where', 't1.tên', '=', '\"H. V. Jagadish\"', 'group', 'by', 't2.tên', 'order', 'by', 'count', '(', 'distinct', 't4.tiêu đề', ')', 'desc', 'limit', '1']",
         "['select', 't2', '.', 'tên', 'from', 'bài báo', 'as', 't4', 'join', 'tạp chí', 'as', 't2', 'on', 't4', '.', 'id tạp chí', '=', 't2', '.', 'id tạp chí', 'join', 'viết', 'as', 't3', 'on', 't3', '.', 'id bài báo', '=', 't4', '.', 'id bài báo', 'join', 'tác giả', 'as', 't1', 'on', 't3', '.', 'id tác giả', '=', 't1', '.', 'id tác giả', 'where', 't1', '.', 'tên', '=', 'value', 'group', 'by', 't2', '.', 'tên', 'order', 'by', 'count', '(', 'distinct', 't4', '.', 'tiêu đề', ')', 'desc', 'limit', 'value']",
         "tạp chí nào đã cho đăng nhiều bài báo của tác giả ' H . V. Jagadish ' nhất ?",
         "['tạp', 'chí', 'nào', 'đã', 'cho', 'đăng', 'nhiều', 'bài', 'báo', 'của', 'tác', 'giả', \"'\", 'H', '.', 'V.', 'Jagadish', \"'\", 'nhất', '?']",
         "{'except': None, 'from': {'conds': [[False, 2, [0, [0, 26, False], None], [0, 15, False], None]], 'table_units': [['table_unit', 9], ['table_unit', 5]]}, 'groupBy': [[0, 16, False]], 'having': [], 'intersect': None, 'limit': 1, 'orderBy': ['desc', [[0, [3, 29, True], None]]], 'select': [False, [[0, [0, [0, 16, False], None]]]], 'union': None, 'where': [[False, 2, [0, [0, 3, False], None], '\"H. V. Jagadish\"', None]]}"
        ],
        [
         "3022",
         "academic",
         "Học thuật, Giáo dục, Nghiên cứu",
         "select tiêu đề from bài báo order by số lượng trích dẫn desc limit 1",
         "['select', 'tiêu đề', 'from', 'bài báo', 'order', 'by', 'số lượng trích dẫn', 'desc', 'limit', '1']",
         "['select', 'tiêu đề', 'from', 'bài báo', 'order', 'by', 'số lượng trích dẫn', 'desc', 'limit', 'value']",
         "bài báo nào có nhiều trích dẫn nhất ?",
         "['bài', 'báo', 'nào', 'có', 'nhiều', 'trích', 'dẫn', 'nhất', '?']",
         "{'except': None, 'from': {'conds': [], 'table_units': [['table_unit', 9]]}, 'groupBy': [], 'having': [], 'intersect': None, 'limit': 1, 'orderBy': ['desc', [[0, [0, 25, False], None]]], 'select': [False, [[0, [0, [0, 29, False], None]]]], 'union': None, 'where': []}"
        ],
        [
         "3023",
         "academic",
         "Học thuật, Giáo dục, Nghiên cứu",
         "select t3.tiêu đề from lĩnh vực as t2 join lĩnh vực của bài báo as t1 on t2.id lĩnh vực = t1.id lĩnh vực join bài báo as t3 on t3.id bài báo = t1.id bài báo where t2.tên = \"Databases\" order by t3.số lượng trích dẫn desc limit 1",
         "['select', 't3.tiêu đề', 'from', 'lĩnh vực', 'as', 't2', 'join', 'lĩnh vực của bài báo', 'as', 't1', 'on', 't2.id lĩnh vực', '=', 't1.id lĩnh vực', 'join', 'bài báo', 'as', 't3', 'on', 't3.id bài báo', '=', 't1.id bài báo', 'where', 't2.tên', '=', '\"Databases\"', 'order', 'by', 't3.số lượng trích dẫn', 'desc', 'limit', '1']",
         "['select', 't3', '.', 'tiêu đề', 'from', 'lĩnh vực', 'as', 't2', 'join', 'lĩnh vực của bài báo', 'as', 't1', 'on', 't2', '.', 'id lĩnh vực', '=', 't1', '.', 'id lĩnh vực', 'join', 'bài báo', 'as', 't3', 'on', 't3', '.', 'id bài báo', '=', 't1', '.', 'id bài báo', 'where', 't2', '.', 'tên', '=', 'value', 'order', 'by', 't3', '.', 'số lượng trích dẫn', 'desc', 'limit', 'value']",
         "cho biết bài báo có nhiều trích dẫn nhất trong lĩnh vực ' Cơ sở dữ liệu ' .",
         "['cho', 'biết', 'bài', 'báo', 'có', 'nhiều', 'trích', 'dẫn', 'nhất', 'trong', 'lĩnh', 'vực', \"'\", 'Cơ', 'sở', 'dữ', 'liệu', \"'\", '.']",
         "{'except': None, 'from': {'conds': [[False, 2, [0, [0, 8, False], None], [0, 31, False], None]], 'table_units': [['table_unit', 2], ['table_unit', 10]]}, 'groupBy': [], 'having': [], 'intersect': None, 'limit': 1, 'orderBy': ['desc', [[0, [0, 25, False], None]]], 'select': [False, [[0, [0, [0, 29, False], None]]]], 'union': None, 'where': [[False, 2, [0, [0, 9, False], None], '\"Databases\"', None]]}"
        ],
        [
         "3024",
         "academic",
         "Học thuật, Giáo dục, Nghiên cứu",
         "select t2.tiêu đề from bài báo as t2 join tạp chí as t1 on t2.id tạp chí = t1.id tạp chí where t1.tên = \"PVLDB\" order by t2.số lượng trích dẫn desc limit 1",
         "['select', 't2.tiêu đề', 'from', 'bài báo', 'as', 't2', 'join', 'tạp chí', 'as', 't1', 'on', 't2.id tạp chí', '=', 't1.id tạp chí', 'where', 't1.tên', '=', '\"PVLDB\"', 'order', 'by', 't2.số lượng trích dẫn', 'desc', 'limit', '1']",
         "['select', 't2', '.', 'tiêu đề', 'from', 'bài báo', 'as', 't2', 'join', 'tạp chí', 'as', 't1', 'on', 't2', '.', 'id tạp chí', '=', 't1', '.', 'id tạp chí', 'where', 't1', '.', 'tên', '=', 'value', 'order', 'by', 't2', '.', 'số lượng trích dẫn', 'desc', 'limit', 'value']",
         "bài báo nào nhận được nhiều trích dẫn nhất và được công bố tại hội nghị PVLDB ?",
         "['bài', 'báo', 'nào', 'nhận', 'được', 'nhiều', 'trích', 'dẫn', 'nhất', 'và', 'được', 'công', 'bố', 'tại', 'hội', 'nghị', 'PVLDB', '?']",
         "{'except': None, 'from': {'conds': [[False, 2, [0, [0, 26, False], None], [0, 15, False], None]], 'table_units': [['table_unit', 9], ['table_unit', 5]]}, 'groupBy': [], 'having': [], 'intersect': None, 'limit': 1, 'orderBy': ['desc', [[0, [0, 25, False], None]]], 'select': [False, [[0, [0, [0, 29, False], None]]]], 'union': None, 'where': [[False, 2, [0, [0, 16, False], None], '\"PVLDB\"', None]]}"
        ],
        [
         "3025",
         "academic",
         "Học thuật, Giáo dục, Nghiên cứu",
         "select t2.tiêu đề from bài báo as t2 join hội nghị as t1 on t2.id hội nghị = t1.id hội nghị where t1.tên = \"VLDB\" order by t2.số lượng trích dẫn desc limit 1",
         "['select', 't2.tiêu đề', 'from', 'bài báo', 'as', 't2', 'join', 'hội nghị', 'as', 't1', 'on', 't2.id hội nghị', '=', 't1.id hội nghị', 'where', 't1.tên', '=', '\"VLDB\"', 'order', 'by', 't2.số lượng trích dẫn', 'desc', 'limit', '1']",
         "['select', 't2', '.', 'tiêu đề', 'from', 'bài báo', 'as', 't2', 'join', 'hội nghị', 'as', 't1', 'on', 't2', '.', 'id hội nghị', '=', 't1', '.', 'id hội nghị', 'where', 't1', '.', 'tên', '=', 'value', 'order', 'by', 't2', '.', 'số lượng trích dẫn', 'desc', 'limit', 'value']",
         "bài báo nhận được nhiều trích dẫn nhất và được xuất bản tại hội nghị VLDB là bài báo nào ?",
         "['bài', 'báo', 'nhận', 'được', 'nhiều', 'trích', 'dẫn', 'nhất', 'và', 'được', 'xuất', 'bản', 'tại', 'hội', 'nghị', 'VLDB', 'là', 'bài', 'báo', 'nào', '?']",
         "{'except': None, 'from': {'conds': [[False, 2, [0, [0, 24, False], None], [0, 5, False], None]], 'table_units': [['table_unit', 9], ['table_unit', 1]]}, 'groupBy': [], 'having': [], 'intersect': None, 'limit': 1, 'orderBy': ['desc', [[0, [0, 25, False], None]]], 'select': [False, [[0, [0, [0, 29, False], None]]]], 'union': None, 'where': [[False, 2, [0, [0, 7, False], None], '\"VLDB\"', None]]}"
        ]
       ],
       "shape": {
        "columns": 8,
        "rows": 19386
       }
      },
      "text/html": [
       "<div>\n",
       "<style scoped>\n",
       "    .dataframe tbody tr th:only-of-type {\n",
       "        vertical-align: middle;\n",
       "    }\n",
       "\n",
       "    .dataframe tbody tr th {\n",
       "        vertical-align: top;\n",
       "    }\n",
       "\n",
       "    .dataframe thead th {\n",
       "        text-align: right;\n",
       "    }\n",
       "</style>\n",
       "<table border=\"1\" class=\"dataframe\">\n",
       "  <thead>\n",
       "    <tr style=\"text-align: right;\">\n",
       "      <th></th>\n",
       "      <th>db_id</th>\n",
       "      <th>db_id_vn</th>\n",
       "      <th>query</th>\n",
       "      <th>query_toks</th>\n",
       "      <th>query_toks_no_value</th>\n",
       "      <th>question</th>\n",
       "      <th>question_toks</th>\n",
       "      <th>sql</th>\n",
       "    </tr>\n",
       "  </thead>\n",
       "  <tbody>\n",
       "    <tr>\n",
       "      <th>2891</th>\n",
       "      <td>academic</td>\n",
       "      <td>Học thuật, Giáo dục, Nghiên cứu</td>\n",
       "      <td>select t3.tiêu đề from viết as t2 join tác giả...</td>\n",
       "      <td>[select, t3.tiêu đề, from, viết, as, t2, join,...</td>\n",
       "      <td>[select, t3, ., tiêu đề, from, viết, as, t2, j...</td>\n",
       "      <td>những bài báo nào đã được viết bởi H. V. Jagad...</td>\n",
       "      <td>[những, bài, báo, nào, đã, được, viết, bởi, H....</td>\n",
       "      <td>{'except': None, 'from': {'conds': [[False, 2,...</td>\n",
       "    </tr>\n",
       "    <tr>\n",
       "      <th>3039</th>\n",
       "      <td>academic</td>\n",
       "      <td>Học thuật, Giáo dục, Nghiên cứu</td>\n",
       "      <td>select t1.tên from bài báo as t4 join hội nghị...</td>\n",
       "      <td>[select, t1.tên, from, bài báo, as, t4, join, ...</td>\n",
       "      <td>[select, t1, ., tên, from, bài báo, as, t4, jo...</td>\n",
       "      <td>liệt kê các tác giả có hơn 10 bài báo được đăn...</td>\n",
       "      <td>[liệt, kê, các, tác, giả, có, hơn, 10, bài, bá...</td>\n",
       "      <td>{'except': None, 'from': {'conds': [[False, 2,...</td>\n",
       "    </tr>\n",
       "    <tr>\n",
       "      <th>3040</th>\n",
       "      <td>academic</td>\n",
       "      <td>Học thuật, Giáo dục, Nghiên cứu</td>\n",
       "      <td>select t1.tên from bài báo as t4 join hội nghị...</td>\n",
       "      <td>[select, t1.tên, from, bài báo, as, t4, join, ...</td>\n",
       "      <td>[select, t1, ., tên, from, bài báo, as, t4, jo...</td>\n",
       "      <td>tác giả nào có nhiều bài báo tại hội nghị VLDB...</td>\n",
       "      <td>[tác, giả, nào, có, nhiều, bài, báo, tại, hội,...</td>\n",
       "      <td>{'except': None, 'from': {'conds': [[False, 2,...</td>\n",
       "    </tr>\n",
       "    <tr>\n",
       "      <th>3041</th>\n",
       "      <td>academic</td>\n",
       "      <td>Học thuật, Giáo dục, Nghiên cứu</td>\n",
       "      <td>select t1.tên from tổ chức as t2 join tác giả ...</td>\n",
       "      <td>[select, t1.tên, from, tổ chức, as, t2, join, ...</td>\n",
       "      <td>[select, t1, ., tên, from, tổ chức, as, t2, jo...</td>\n",
       "      <td>những tác giả nào thuộc ' Đại học Michigan ' đ...</td>\n",
       "      <td>[những, tác, giả, nào, thuộc, ', Đại, học, Mic...</td>\n",
       "      <td>{'except': None, 'from': {'conds': [[False, 2,...</td>\n",
       "    </tr>\n",
       "    <tr>\n",
       "      <th>3042</th>\n",
       "      <td>academic</td>\n",
       "      <td>Học thuật, Giáo dục, Nghiên cứu</td>\n",
       "      <td>select t1.tên from lĩnh vực của tác giả as t6 ...</td>\n",
       "      <td>[select, t1.tên, from, lĩnh vực của tác giả, a...</td>\n",
       "      <td>[select, t1, ., tên, from, lĩnh vực của tác gi...</td>\n",
       "      <td>liệt kê các tác giả thuộc ' Đại học Michigan '...</td>\n",
       "      <td>[liệt, kê, các, tác, giả, thuộc, ', Đại, học, ...</td>\n",
       "      <td>{'except': None, 'from': {'conds': [[False, 2,...</td>\n",
       "    </tr>\n",
       "    <tr>\n",
       "      <th>...</th>\n",
       "      <td>...</td>\n",
       "      <td>...</td>\n",
       "      <td>...</td>\n",
       "      <td>...</td>\n",
       "      <td>...</td>\n",
       "      <td>...</td>\n",
       "      <td>...</td>\n",
       "      <td>...</td>\n",
       "    </tr>\n",
       "    <tr>\n",
       "      <th>12536</th>\n",
       "      <td>yelp</td>\n",
       "      <td>Trang đánh giá Yelp, Nhận xét nhà hàng, Phản h...</td>\n",
       "      <td>select count ( distinct t1.tên ) from loại_hìn...</td>\n",
       "      <td>[select, count, (, distinct, t1.tên, ), from, ...</td>\n",
       "      <td>[select, count, (, distinct, t1, ., tên, ), fr...</td>\n",
       "      <td>có bao_nhiêu doanh_nghiệp có loại_hình kinh_do...</td>\n",
       "      <td>[có, bao_nhiêu, doanh_nghiệp, có, loại_hình, k...</td>\n",
       "      <td>{'except': None, 'from': {'conds': [[False, 2,...</td>\n",
       "    </tr>\n",
       "    <tr>\n",
       "      <th>12535</th>\n",
       "      <td>yelp</td>\n",
       "      <td>Trang đánh giá Yelp, Nhận xét nhà hàng, Phản h...</td>\n",
       "      <td>select count ( distinct tên ) from người tiêu_...</td>\n",
       "      <td>[select, count, (, distinct, tên, ), from, ngư...</td>\n",
       "      <td>[select, count, (, distinct, tên, ), from, ngư...</td>\n",
       "      <td>cho biết số_lượng người dùng có tên là Michelle .</td>\n",
       "      <td>[cho, biết, số_lượng, người, dùng, có, tên, là...</td>\n",
       "      <td>{'except': None, 'from': {'conds': [], 'table_...</td>\n",
       "    </tr>\n",
       "    <tr>\n",
       "      <th>12554</th>\n",
       "      <td>yelp</td>\n",
       "      <td>Trang đánh giá Yelp, Nhận xét nhà hàng, Phản h...</td>\n",
       "      <td>select t1.tên from loại_hình as t2 join doanh_...</td>\n",
       "      <td>[select, t1.tên, from, loại_hình, as, t2, join...</td>\n",
       "      <td>[select, t1, ., tên, from, loại_hình, as, t2, ...</td>\n",
       "      <td>doanh_nghiệp nào đang theo nhiều loại_hình kin...</td>\n",
       "      <td>[doanh_nghiệp, nào, đang, theo, nhiều, loại_hì...</td>\n",
       "      <td>{'except': None, 'from': {'conds': [[False, 2,...</td>\n",
       "    </tr>\n",
       "    <tr>\n",
       "      <th>12540</th>\n",
       "      <td>yelp</td>\n",
       "      <td>Trang đánh giá Yelp, Nhận xét nhà hàng, Phản h...</td>\n",
       "      <td>select count ( distinct văn_bản ) from đánh_gi...</td>\n",
       "      <td>[select, count, (, distinct, văn_bản, ), from,...</td>\n",
       "      <td>[select, count, (, distinct, văn_bản, ), from,...</td>\n",
       "      <td>cho biết số_lượng đánh_giá được viết vào tháng...</td>\n",
       "      <td>[cho, biết, số_lượng, đánh_giá, được, viết, và...</td>\n",
       "      <td>{'except': None, 'from': {'conds': [], 'table_...</td>\n",
       "    </tr>\n",
       "    <tr>\n",
       "      <th>12553</th>\n",
       "      <td>yelp</td>\n",
       "      <td>Trang đánh giá Yelp, Nhận xét nhà hàng, Phản h...</td>\n",
       "      <td>select t1.tên from đánh_giá as t2 join doanh_n...</td>\n",
       "      <td>[select, t1.tên, from, đánh_giá, as, t2, join,...</td>\n",
       "      <td>[select, t1, ., tên, from, đánh_giá, as, t2, j...</td>\n",
       "      <td>doanh_nghiệp nào nhận được nhiều đánh_giá nhất...</td>\n",
       "      <td>[doanh_nghiệp, nào, nhận, được, nhiều, đánh_gi...</td>\n",
       "      <td>{'except': None, 'from': {'conds': [[False, 2,...</td>\n",
       "    </tr>\n",
       "  </tbody>\n",
       "</table>\n",
       "<p>19386 rows × 8 columns</p>\n",
       "</div>"
      ],
      "text/plain": [
       "          db_id                                           db_id_vn  \\\n",
       "2891   academic                    Học thuật, Giáo dục, Nghiên cứu   \n",
       "3039   academic                    Học thuật, Giáo dục, Nghiên cứu   \n",
       "3040   academic                    Học thuật, Giáo dục, Nghiên cứu   \n",
       "3041   academic                    Học thuật, Giáo dục, Nghiên cứu   \n",
       "3042   academic                    Học thuật, Giáo dục, Nghiên cứu   \n",
       "...         ...                                                ...   \n",
       "12536      yelp  Trang đánh giá Yelp, Nhận xét nhà hàng, Phản h...   \n",
       "12535      yelp  Trang đánh giá Yelp, Nhận xét nhà hàng, Phản h...   \n",
       "12554      yelp  Trang đánh giá Yelp, Nhận xét nhà hàng, Phản h...   \n",
       "12540      yelp  Trang đánh giá Yelp, Nhận xét nhà hàng, Phản h...   \n",
       "12553      yelp  Trang đánh giá Yelp, Nhận xét nhà hàng, Phản h...   \n",
       "\n",
       "                                                   query  \\\n",
       "2891   select t3.tiêu đề from viết as t2 join tác giả...   \n",
       "3039   select t1.tên from bài báo as t4 join hội nghị...   \n",
       "3040   select t1.tên from bài báo as t4 join hội nghị...   \n",
       "3041   select t1.tên from tổ chức as t2 join tác giả ...   \n",
       "3042   select t1.tên from lĩnh vực của tác giả as t6 ...   \n",
       "...                                                  ...   \n",
       "12536  select count ( distinct t1.tên ) from loại_hìn...   \n",
       "12535  select count ( distinct tên ) from người tiêu_...   \n",
       "12554  select t1.tên from loại_hình as t2 join doanh_...   \n",
       "12540  select count ( distinct văn_bản ) from đánh_gi...   \n",
       "12553  select t1.tên from đánh_giá as t2 join doanh_n...   \n",
       "\n",
       "                                              query_toks  \\\n",
       "2891   [select, t3.tiêu đề, from, viết, as, t2, join,...   \n",
       "3039   [select, t1.tên, from, bài báo, as, t4, join, ...   \n",
       "3040   [select, t1.tên, from, bài báo, as, t4, join, ...   \n",
       "3041   [select, t1.tên, from, tổ chức, as, t2, join, ...   \n",
       "3042   [select, t1.tên, from, lĩnh vực của tác giả, a...   \n",
       "...                                                  ...   \n",
       "12536  [select, count, (, distinct, t1.tên, ), from, ...   \n",
       "12535  [select, count, (, distinct, tên, ), from, ngư...   \n",
       "12554  [select, t1.tên, from, loại_hình, as, t2, join...   \n",
       "12540  [select, count, (, distinct, văn_bản, ), from,...   \n",
       "12553  [select, t1.tên, from, đánh_giá, as, t2, join,...   \n",
       "\n",
       "                                     query_toks_no_value  \\\n",
       "2891   [select, t3, ., tiêu đề, from, viết, as, t2, j...   \n",
       "3039   [select, t1, ., tên, from, bài báo, as, t4, jo...   \n",
       "3040   [select, t1, ., tên, from, bài báo, as, t4, jo...   \n",
       "3041   [select, t1, ., tên, from, tổ chức, as, t2, jo...   \n",
       "3042   [select, t1, ., tên, from, lĩnh vực của tác gi...   \n",
       "...                                                  ...   \n",
       "12536  [select, count, (, distinct, t1, ., tên, ), fr...   \n",
       "12535  [select, count, (, distinct, tên, ), from, ngư...   \n",
       "12554  [select, t1, ., tên, from, loại_hình, as, t2, ...   \n",
       "12540  [select, count, (, distinct, văn_bản, ), from,...   \n",
       "12553  [select, t1, ., tên, from, đánh_giá, as, t2, j...   \n",
       "\n",
       "                                                question  \\\n",
       "2891   những bài báo nào đã được viết bởi H. V. Jagad...   \n",
       "3039   liệt kê các tác giả có hơn 10 bài báo được đăn...   \n",
       "3040   tác giả nào có nhiều bài báo tại hội nghị VLDB...   \n",
       "3041   những tác giả nào thuộc ' Đại học Michigan ' đ...   \n",
       "3042   liệt kê các tác giả thuộc ' Đại học Michigan '...   \n",
       "...                                                  ...   \n",
       "12536  có bao_nhiêu doanh_nghiệp có loại_hình kinh_do...   \n",
       "12535  cho biết số_lượng người dùng có tên là Michelle .   \n",
       "12554  doanh_nghiệp nào đang theo nhiều loại_hình kin...   \n",
       "12540  cho biết số_lượng đánh_giá được viết vào tháng...   \n",
       "12553  doanh_nghiệp nào nhận được nhiều đánh_giá nhất...   \n",
       "\n",
       "                                           question_toks  \\\n",
       "2891   [những, bài, báo, nào, đã, được, viết, bởi, H....   \n",
       "3039   [liệt, kê, các, tác, giả, có, hơn, 10, bài, bá...   \n",
       "3040   [tác, giả, nào, có, nhiều, bài, báo, tại, hội,...   \n",
       "3041   [những, tác, giả, nào, thuộc, ', Đại, học, Mic...   \n",
       "3042   [liệt, kê, các, tác, giả, thuộc, ', Đại, học, ...   \n",
       "...                                                  ...   \n",
       "12536  [có, bao_nhiêu, doanh_nghiệp, có, loại_hình, k...   \n",
       "12535  [cho, biết, số_lượng, người, dùng, có, tên, là...   \n",
       "12554  [doanh_nghiệp, nào, đang, theo, nhiều, loại_hì...   \n",
       "12540  [cho, biết, số_lượng, đánh_giá, được, viết, và...   \n",
       "12553  [doanh_nghiệp, nào, nhận, được, nhiều, đánh_gi...   \n",
       "\n",
       "                                                     sql  \n",
       "2891   {'except': None, 'from': {'conds': [[False, 2,...  \n",
       "3039   {'except': None, 'from': {'conds': [[False, 2,...  \n",
       "3040   {'except': None, 'from': {'conds': [[False, 2,...  \n",
       "3041   {'except': None, 'from': {'conds': [[False, 2,...  \n",
       "3042   {'except': None, 'from': {'conds': [[False, 2,...  \n",
       "...                                                  ...  \n",
       "12536  {'except': None, 'from': {'conds': [[False, 2,...  \n",
       "12535  {'except': None, 'from': {'conds': [], 'table_...  \n",
       "12554  {'except': None, 'from': {'conds': [[False, 2,...  \n",
       "12540  {'except': None, 'from': {'conds': [], 'table_...  \n",
       "12553  {'except': None, 'from': {'conds': [[False, 2,...  \n",
       "\n",
       "[19386 rows x 8 columns]"
      ]
     },
     "execution_count": 33,
     "metadata": {},
     "output_type": "execute_result"
    }
   ],
   "source": [
    "DF1.sort_values(by='db_id', ascending=True)"
   ]
  },
  {
   "cell_type": "code",
   "execution_count": 34,
   "metadata": {},
   "outputs": [],
   "source": [
    "import re\n",
    "DF1['question'] = DF1['question'].apply(lambda x: re.sub(r'_', ' ', x))\n",
    "# DF1['question'] = DF1['question'].apply(lambda x: re.sub(r\" ,\", \",\", x))\n",
    "# DF1['question'] = DF1['question'].apply(lambda x: re.sub(r\" \\.\", \".\", x))\n",
    "# DF1['question'] = DF1['question'].apply(lambda x: re.sub(r\"\\s*'\\s*(.*?)\\s*'\\s*\", r\" '\\1' \", x).strip())\n",
    "# DF1['question'] = DF1['question'].apply(lambda x: re.sub(r\"\\s+\\.\", \".\", x))\n",
    "# DF1\n"
   ]
  },
  {
   "cell_type": "code",
   "execution_count": 35,
   "metadata": {},
   "outputs": [],
   "source": [
    "DF_db_id = DF_db_id.drop_duplicates().sort_values(ascending=True)"
   ]
  },
  {
   "cell_type": "code",
   "execution_count": 36,
   "metadata": {},
   "outputs": [
    {
     "data": {
      "application/vnd.microsoft.datawrangler.viewer.v0+json": {
       "columns": [
        {
         "name": "index",
         "rawType": "int64",
         "type": "integer"
        },
        {
         "name": "db_id",
         "rawType": "object",
         "type": "string"
        },
        {
         "name": "ID",
         "rawType": "int64",
         "type": "integer"
        }
       ],
       "ref": "bac7a99a-4047-42a2-85d2-01e0316de631",
       "rows": [
        [
         "2862",
         "academic",
         "0"
        ],
        [
         "1193",
         "activity_1",
         "1"
        ],
        [
         "3043",
         "aircraft",
         "2"
        ],
        [
         "3089",
         "allergy_1",
         "3"
        ],
        [
         "3187",
         "apartment_rentals",
         "4"
        ],
        [
         "0",
         "architecture",
         "5"
        ],
        [
         "954",
         "assets_maintenance",
         "6"
        ],
        [
         "3267",
         "baseball_1",
         "7"
        ],
        [
         "3349",
         "battle_death",
         "8"
        ],
        [
         "3365",
         "behavior_monitoring",
         "9"
        ],
        [
         "3405",
         "bike_1",
         "10"
        ],
        [
         "1281",
         "body_builder",
         "11"
        ],
        [
         "985",
         "book_2",
         "12"
        ],
        [
         "3509",
         "browser_web",
         "13"
        ],
        [
         "1305",
         "candidate_poll",
         "14"
        ],
        [
         "3527",
         "car_1",
         "15"
        ],
        [
         "3619",
         "chinook_1",
         "16"
        ],
        [
         "17",
         "cinema",
         "17"
        ],
        [
         "1345",
         "city_record",
         "18"
        ],
        [
         "3703",
         "climbing",
         "19"
        ],
        [
         "3743",
         "club_1",
         "20"
        ],
        [
         "3813",
         "coffee_shop",
         "21"
        ],
        [
         "1385",
         "college_1",
         "22"
        ],
        [
         "3831",
         "college_2",
         "23"
        ],
        [
         "47",
         "college_3",
         "24"
        ],
        [
         "1006",
         "company_1",
         "25"
        ],
        [
         "4001",
         "company_employee",
         "26"
        ],
        [
         "4017",
         "company_office",
         "27"
        ],
        [
         "121",
         "concert_singer",
         "28"
        ],
        [
         "4057",
         "county_public_safety",
         "29"
        ],
        [
         "1013",
         "course_teach",
         "30"
        ],
        [
         "1549",
         "cre_Doc_Control_Systems",
         "31"
        ],
        [
         "4097",
         "cre_Doc_Template_Mgt",
         "32"
        ],
        [
         "4181",
         "cre_Doc_Tracking_DB",
         "33"
        ],
        [
         "4271",
         "cre_Docs_and_Epenses",
         "34"
        ],
        [
         "1582",
         "cre_Drama_Workshop_Groups",
         "35"
        ],
        [
         "4355",
         "cre_Theme_park",
         "36"
        ],
        [
         "4439",
         "csu_1",
         "37"
        ],
        [
         "4509",
         "culture_company",
         "38"
        ],
        [
         "4547",
         "customer_complaints",
         "39"
        ],
        [
         "4593",
         "customer_deliveries",
         "40"
        ],
        [
         "4609",
         "customers_and_addresses",
         "41"
        ],
        [
         "1664",
         "customers_and_invoices",
         "42"
        ],
        [
         "1746",
         "customers_and_products_contacts",
         "43"
        ],
        [
         "166",
         "customers_campaigns_ecommerce",
         "44"
        ],
        [
         "181",
         "customers_card_transactions",
         "45"
        ],
        [
         "4697",
         "debate",
         "46"
        ],
        [
         "1043",
         "decoration_competition",
         "47"
        ],
        [
         "1761",
         "department_management",
         "48"
        ],
        [
         "4712",
         "department_store",
         "49"
        ]
       ],
       "shape": {
        "columns": 2,
        "rows": 166
       }
      },
      "text/html": [
       "<div>\n",
       "<style scoped>\n",
       "    .dataframe tbody tr th:only-of-type {\n",
       "        vertical-align: middle;\n",
       "    }\n",
       "\n",
       "    .dataframe tbody tr th {\n",
       "        vertical-align: top;\n",
       "    }\n",
       "\n",
       "    .dataframe thead th {\n",
       "        text-align: right;\n",
       "    }\n",
       "</style>\n",
       "<table border=\"1\" class=\"dataframe\">\n",
       "  <thead>\n",
       "    <tr style=\"text-align: right;\">\n",
       "      <th></th>\n",
       "      <th>db_id</th>\n",
       "      <th>ID</th>\n",
       "    </tr>\n",
       "  </thead>\n",
       "  <tbody>\n",
       "    <tr>\n",
       "      <th>2862</th>\n",
       "      <td>academic</td>\n",
       "      <td>0</td>\n",
       "    </tr>\n",
       "    <tr>\n",
       "      <th>1193</th>\n",
       "      <td>activity_1</td>\n",
       "      <td>1</td>\n",
       "    </tr>\n",
       "    <tr>\n",
       "      <th>3043</th>\n",
       "      <td>aircraft</td>\n",
       "      <td>2</td>\n",
       "    </tr>\n",
       "    <tr>\n",
       "      <th>3089</th>\n",
       "      <td>allergy_1</td>\n",
       "      <td>3</td>\n",
       "    </tr>\n",
       "    <tr>\n",
       "      <th>3187</th>\n",
       "      <td>apartment_rentals</td>\n",
       "      <td>4</td>\n",
       "    </tr>\n",
       "    <tr>\n",
       "      <th>...</th>\n",
       "      <td>...</td>\n",
       "      <td>...</td>\n",
       "    </tr>\n",
       "    <tr>\n",
       "      <th>2721</th>\n",
       "      <td>workshop_paper</td>\n",
       "      <td>161</td>\n",
       "    </tr>\n",
       "    <tr>\n",
       "      <th>9533</th>\n",
       "      <td>world_1</td>\n",
       "      <td>162</td>\n",
       "    </tr>\n",
       "    <tr>\n",
       "      <th>9653</th>\n",
       "      <td>wrestler</td>\n",
       "      <td>163</td>\n",
       "    </tr>\n",
       "    <tr>\n",
       "      <th>892</th>\n",
       "      <td>wta_1</td>\n",
       "      <td>164</td>\n",
       "    </tr>\n",
       "    <tr>\n",
       "      <th>2751</th>\n",
       "      <td>yelp</td>\n",
       "      <td>165</td>\n",
       "    </tr>\n",
       "  </tbody>\n",
       "</table>\n",
       "<p>166 rows × 2 columns</p>\n",
       "</div>"
      ],
      "text/plain": [
       "                  db_id   ID\n",
       "2862           academic    0\n",
       "1193         activity_1    1\n",
       "3043           aircraft    2\n",
       "3089          allergy_1    3\n",
       "3187  apartment_rentals    4\n",
       "...                 ...  ...\n",
       "2721     workshop_paper  161\n",
       "9533            world_1  162\n",
       "9653           wrestler  163\n",
       "892               wta_1  164\n",
       "2751               yelp  165\n",
       "\n",
       "[166 rows x 2 columns]"
      ]
     },
     "execution_count": 36,
     "metadata": {},
     "output_type": "execute_result"
    }
   ],
   "source": [
    "DF_db_id = pd.DataFrame(DF_db_id)\n",
    "DFid = DF_db_id\n",
    "DFid.insert(column= 'ID', loc= len(DFid.columns), value=range(len(DFid)))\n",
    "DFid\n"
   ]
  },
  {
   "cell_type": "code",
   "execution_count": 37,
   "metadata": {},
   "outputs": [
    {
     "data": {
      "text/plain": [
       "{'academic': 0,\n",
       " 'activity_1': 1,\n",
       " 'aircraft': 2,\n",
       " 'allergy_1': 3,\n",
       " 'apartment_rentals': 4,\n",
       " 'architecture': 5,\n",
       " 'assets_maintenance': 6,\n",
       " 'baseball_1': 7,\n",
       " 'battle_death': 8,\n",
       " 'behavior_monitoring': 9,\n",
       " 'bike_1': 10,\n",
       " 'body_builder': 11,\n",
       " 'book_2': 12,\n",
       " 'browser_web': 13,\n",
       " 'candidate_poll': 14,\n",
       " 'car_1': 15,\n",
       " 'chinook_1': 16,\n",
       " 'cinema': 17,\n",
       " 'city_record': 18,\n",
       " 'climbing': 19,\n",
       " 'club_1': 20,\n",
       " 'coffee_shop': 21,\n",
       " 'college_1': 22,\n",
       " 'college_2': 23,\n",
       " 'college_3': 24,\n",
       " 'company_1': 25,\n",
       " 'company_employee': 26,\n",
       " 'company_office': 27,\n",
       " 'concert_singer': 28,\n",
       " 'county_public_safety': 29,\n",
       " 'course_teach': 30,\n",
       " 'cre_Doc_Control_Systems': 31,\n",
       " 'cre_Doc_Template_Mgt': 32,\n",
       " 'cre_Doc_Tracking_DB': 33,\n",
       " 'cre_Docs_and_Epenses': 34,\n",
       " 'cre_Drama_Workshop_Groups': 35,\n",
       " 'cre_Theme_park': 36,\n",
       " 'csu_1': 37,\n",
       " 'culture_company': 38,\n",
       " 'customer_complaints': 39,\n",
       " 'customer_deliveries': 40,\n",
       " 'customers_and_addresses': 41,\n",
       " 'customers_and_invoices': 42,\n",
       " 'customers_and_products_contacts': 43,\n",
       " 'customers_campaigns_ecommerce': 44,\n",
       " 'customers_card_transactions': 45,\n",
       " 'debate': 46,\n",
       " 'decoration_competition': 47,\n",
       " 'department_management': 48,\n",
       " 'department_store': 49,\n",
       " 'device': 50,\n",
       " 'document_management': 51,\n",
       " 'dog_kennels': 52,\n",
       " 'dorm_1': 53,\n",
       " 'driving_school': 54,\n",
       " 'e_government': 55,\n",
       " 'e_learning': 56,\n",
       " 'election': 57,\n",
       " 'election_representative': 58,\n",
       " 'employee_hire_evaluation': 59,\n",
       " 'entertainment_awards': 60,\n",
       " 'entrepreneur': 61,\n",
       " 'epinions_1': 62,\n",
       " 'farm': 63,\n",
       " 'film_rank': 64,\n",
       " 'flight_1': 65,\n",
       " 'flight_2': 66,\n",
       " 'flight_4': 67,\n",
       " 'flight_company': 68,\n",
       " 'formula_1': 69,\n",
       " 'game_1': 70,\n",
       " 'game_injury': 71,\n",
       " 'gas_company': 72,\n",
       " 'geo': 73,\n",
       " 'gymnast': 74,\n",
       " 'hospital_1': 75,\n",
       " 'hr_1': 76,\n",
       " 'icfp_1': 77,\n",
       " 'imdb': 78,\n",
       " 'inn_1': 79,\n",
       " 'insurance_and_eClaims': 80,\n",
       " 'insurance_fnol': 81,\n",
       " 'insurance_policies': 82,\n",
       " 'journal_committee': 83,\n",
       " 'loan_1': 84,\n",
       " 'local_govt_and_lot': 85,\n",
       " 'local_govt_in_alabama': 86,\n",
       " 'local_govt_mdm': 87,\n",
       " 'machine_repair': 88,\n",
       " 'manufactory_1': 89,\n",
       " 'manufacturer': 90,\n",
       " 'match_season': 91,\n",
       " 'medicine_enzyme_interaction': 92,\n",
       " 'mountain_photos': 93,\n",
       " 'movie_1': 94,\n",
       " 'museum_visit': 95,\n",
       " 'music_1': 96,\n",
       " 'music_2': 97,\n",
       " 'music_4': 98,\n",
       " 'musical': 99,\n",
       " 'network_1': 100,\n",
       " 'network_2': 101,\n",
       " 'news_report': 102,\n",
       " 'orchestra': 103,\n",
       " 'party_host': 104,\n",
       " 'party_people': 105,\n",
       " 'performance_attendance': 106,\n",
       " 'perpetrator': 107,\n",
       " 'pets_1': 108,\n",
       " 'phone_1': 109,\n",
       " 'phone_market': 110,\n",
       " 'pilot_record': 111,\n",
       " 'poker_player': 112,\n",
       " 'product_catalog': 113,\n",
       " 'products_for_hire': 114,\n",
       " 'products_gen_characteristics': 115,\n",
       " 'program_share': 116,\n",
       " 'protein_institute': 117,\n",
       " 'race_track': 118,\n",
       " 'railway': 119,\n",
       " 'real_estate_properties': 120,\n",
       " 'restaurant_1': 121,\n",
       " 'restaurants': 122,\n",
       " 'riding_club': 123,\n",
       " 'roller_coaster': 124,\n",
       " 'sakila_1': 125,\n",
       " 'scholar': 126,\n",
       " 'school_bus': 127,\n",
       " 'school_finance': 128,\n",
       " 'school_player': 129,\n",
       " 'scientist_1': 130,\n",
       " 'ship_1': 131,\n",
       " 'ship_mission': 132,\n",
       " 'shop_membership': 133,\n",
       " 'singer': 134,\n",
       " 'small_bank_1': 135,\n",
       " 'soccer_1': 136,\n",
       " 'soccer_2': 137,\n",
       " 'solvency_ii': 138,\n",
       " 'sports_competition': 139,\n",
       " 'station_weather': 140,\n",
       " 'store_1': 141,\n",
       " 'store_product': 142,\n",
       " 'storm_record': 143,\n",
       " 'student_1': 144,\n",
       " 'student_assessment': 145,\n",
       " 'student_transcripts_tracking': 146,\n",
       " 'swimming': 147,\n",
       " 'theme_gallery': 148,\n",
       " 'tracking_grants_for_research': 149,\n",
       " 'tracking_orders': 150,\n",
       " 'tracking_share_transactions': 151,\n",
       " 'tracking_software_problems': 152,\n",
       " 'train_station': 153,\n",
       " 'tvshow': 154,\n",
       " 'twitter_1': 155,\n",
       " 'university_basketball': 156,\n",
       " 'voter_1': 157,\n",
       " 'voter_2': 158,\n",
       " 'wedding': 159,\n",
       " 'wine_1': 160,\n",
       " 'workshop_paper': 161,\n",
       " 'world_1': 162,\n",
       " 'wrestler': 163,\n",
       " 'wta_1': 164,\n",
       " 'yelp': 165}"
      ]
     },
     "execution_count": 37,
     "metadata": {},
     "output_type": "execute_result"
    }
   ],
   "source": [
    "mapID = DFid.set_index('db_id')['ID'].to_dict()\n",
    "mapID"
   ]
  },
  {
   "cell_type": "code",
   "execution_count": 38,
   "metadata": {},
   "outputs": [
    {
     "data": {
      "application/vnd.microsoft.datawrangler.viewer.v0+json": {
       "columns": [
        {
         "name": "index",
         "rawType": "int64",
         "type": "integer"
        },
        {
         "name": "db_id",
         "rawType": "int64",
         "type": "integer"
        },
        {
         "name": "db_id_vn",
         "rawType": "object",
         "type": "string"
        },
        {
         "name": "query",
         "rawType": "object",
         "type": "string"
        },
        {
         "name": "query_toks",
         "rawType": "object",
         "type": "unknown"
        },
        {
         "name": "query_toks_no_value",
         "rawType": "object",
         "type": "unknown"
        },
        {
         "name": "question",
         "rawType": "object",
         "type": "string"
        },
        {
         "name": "question_toks",
         "rawType": "object",
         "type": "unknown"
        },
        {
         "name": "sql",
         "rawType": "object",
         "type": "unknown"
        }
       ],
       "ref": "6b194eff-efea-410b-b3eb-b1c2472b3ad1",
       "rows": [
        [
         "0",
         "5",
         "Kiến trúc, Xây dựng, Công trình",
         "select count ( * ) from kiến trúc sư where giới tính = \"female\"",
         "['select', 'count', '(', '*', ')', 'from', 'kiến trúc sư', 'where', 'giới tính', '=', '\"female\"']",
         "['select', 'count', '(', '*', ')', 'from', 'kiến trúc sư', 'where', 'giới tính', '=', 'value']",
         "Có tất cả bao nhiêu kiến trúc sư nữ ?",
         "['Có', 'tất', 'cả', 'bao', 'nhiêu', 'kiến', 'trúc', 'sư', 'nữ', '?']",
         "{'except': None, 'from': {'conds': [], 'table_units': [['table_unit', 0]]}, 'groupBy': [], 'where': [[False, 2, [0, [0, 4, False], None], '\"female\"', None]], 'limit': None, 'union': None, 'intersect': None, 'having': [], 'select': [False, [[3, [0, [0, 0, False], None]]]], 'orderBy': []}"
        ],
        [
         "1",
         "5",
         "Kiến trúc, Xây dựng, Công trình",
         "select tên , quốc tịch , id from kiến trúc sư where giới tính = \"male\" order by tên",
         "['select', 'tên', ',', 'quốc tịch', ',', 'id', 'from', 'kiến trúc sư', 'where', 'giới tính', '=', '\"male\"', 'order', 'by', 'tên']",
         "['select', 'tên', ',', 'quốc tịch', ',', 'id', 'from', 'kiến trúc sư', 'where', 'giới tính', '=', 'value', 'order', 'by', 'tên']",
         "Liệt kê tên , quốc tịch và id của tất cả các kiến trúc sư nam theo thứ tự tên .",
         "['Liệt', 'kê', 'tên', ',', 'quốc', 'tịch', 'và', 'id', 'của', 'tất', 'cả', 'các', 'kiến', 'trúc', 'sư', 'nam', 'theo', 'thứ', 'tự', 'tên', '.']",
         "{'except': None, 'from': {'conds': [], 'table_units': [['table_unit', 0]]}, 'groupBy': [], 'where': [[False, 2, [0, [0, 4, False], None], '\"male\"', None]], 'limit': None, 'union': None, 'intersect': None, 'having': [], 'select': [False, [[0, [0, [0, 2, False], None]], [0, [0, [0, 3, False], None]], [0, [0, [0, 1, False], None]]]], 'orderBy': ['asc', [[0, [0, 2, False], None]]]}"
        ],
        [
         "2",
         "5",
         "Kiến trúc, Xây dựng, Công trình",
         "select max ( t1.chiều dài theo mét ) , t2.tên from cầu as t1 join kiến trúc sư as t2 on t1.id kiến trúc sư = t2.id",
         "['select', 'max', '(', 't1.chiều dài theo mét', ')', ',', 't2.tên', 'from', 'cầu', 'as', 't1', 'join', 'kiến trúc sư', 'as', 't2', 'on', 't1.id kiến trúc sư', '=', 't2.id']",
         "['select', 'max', '(', 't1', '.', 'chiều dài theo mét', ')', ',', 't2', '.', 'tên', 'from', 'cầu', 'as', 't1', 'join', 'kiến trúc sư', 'as', 't2', 'on', 't1', '.', 'id kiến trúc sư', '=', 't2', '.', 'id']",
         "Cho biết tên của người kiến trúc sư đã tạo ra cây cầu dài nhất cũng như là chiều dài tính bằng mét của cây cầu này .",
         "['Cho', 'biết', 'tên', 'của', 'người', 'kiến', 'trúc', 'sư', 'đã', 'tạo', 'ra', 'cây', 'cầu', 'dài', 'nhất', 'cũng', 'như', 'là', 'chiều', 'dài', 'tính', 'bằng', 'mét', 'của', 'cây', 'cầu', 'này', '.']",
         "{'except': None, 'from': {'conds': [[False, 2, [0, [0, 5, False], None], [0, 1, False], None]], 'table_units': [['table_unit', 1], ['table_unit', 0]]}, 'groupBy': [], 'where': [], 'limit': None, 'union': None, 'intersect': None, 'having': [], 'select': [False, [[1, [0, [0, 9, False], None]], [0, [0, [0, 2, False], None]]]], 'orderBy': []}"
        ],
        [
         "3",
         "5",
         "Kiến trúc, Xây dựng, Công trình",
         "select avg ( chiều dài theo feet ) from cầu",
         "['select', 'avg', '(', 'chiều dài theo feet', ')', 'from', 'cầu']",
         "['select', 'avg', '(', 'chiều dài theo feet', ')', 'from', 'cầu']",
         "Cho biết chiều dài trung bình tính theo feet của tất cả các cây cầu .",
         "['Cho', 'biết', 'chiều', 'dài', 'trung', 'bình', 'tính', 'theo', 'feet', 'của', 'tất', 'cả', 'các', 'cây', 'cầu', '.']",
         "{'except': None, 'from': {'conds': [], 'table_units': [['table_unit', 1]]}, 'groupBy': [], 'where': [], 'limit': None, 'union': None, 'intersect': None, 'having': [], 'select': [False, [[5, [0, [0, 10, False], None]]]], 'orderBy': []}"
        ],
        [
         "4",
         "5",
         "Kiến trúc, Xây dựng, Công trình",
         "select tên , năm xây dựng from nhà máy where loại = \"Grondzeiler\"",
         "['select', 'tên', ',', 'năm xây dựng', 'from', 'nhà máy', 'where', 'loại', '=', '\"Grondzeiler\"']",
         "['select', 'tên', ',', 'năm xây dựng', 'from', 'nhà máy', 'where', 'loại', '=', 'value']",
         "Cho biết tên và năm xây dựng của các nhà máy thuộc loại ' Grondzeiler ' ?",
         "['Cho', 'biết', 'tên', 'và', 'năm', 'xây', 'dựng', 'của', 'các', 'nhà', 'máy', 'thuộc', 'loại', \"'\", 'Grondzeiler', \"'\", '?']",
         "{'except': None, 'from': {'conds': [], 'table_units': [['table_unit', 2]]}, 'groupBy': [], 'where': [[False, 2, [0, [0, 15, False], None], '\"Grondzeiler\"', None]], 'limit': None, 'union': None, 'intersect': None, 'having': [], 'select': [False, [[0, [0, [0, 14, False], None]], [0, [0, [0, 16, False], None]]]], 'orderBy': []}"
        ],
        [
         "5",
         "5",
         "Kiến trúc, Xây dựng, Công trình",
         "select distinct t1.tên , t1.quốc tịch from kiến trúc sư as t1 join nhà máy as t2 on t1.id = t2.id kiến trúc sư",
         "['select', 'distinct', 't1.tên', ',', 't1.quốc tịch', 'from', 'kiến trúc sư', 'as', 't1', 'join', 'nhà máy', 'as', 't2', 'on', 't1.id', '=', 't2.id kiến trúc sư']",
         "['select', 'distinct', 't1', '.', 'tên', ',', 't1', '.', 'quốc tịch', 'from', 'kiến trúc sư', 'as', 't1', 'join', 'nhà máy', 'as', 't2', 'on', 't1', '.', 'id', '=', 't2', '.', 'id kiến trúc sư']",
         "Cho biết tên và quốc tịch của những kiến trúc sư khác nhau đã từng xây dựng một nhà máy .",
         "['Cho', 'biết', 'tên', 'và', 'quốc', 'tịch', 'của', 'những', 'kiến', 'trúc', 'sư', 'khác', 'nhau', 'đã', 'từng', 'xây', 'dựng', 'một', 'nhà', 'máy', '.']",
         "{'except': None, 'from': {'conds': [[False, 2, [0, [0, 1, False], None], [0, 11, False], None]], 'table_units': [['table_unit', 0], ['table_unit', 2]]}, 'groupBy': [], 'where': [], 'limit': None, 'union': None, 'intersect': None, 'having': [], 'select': [True, [[0, [0, [0, 2, False], None]], [0, [0, [0, 3, False], None]]]], 'orderBy': []}"
        ],
        [
         "6",
         "5",
         "Kiến trúc, Xây dựng, Công trình",
         "select tên from nhà máy where địa điểm != \"Donceel\"",
         "['select', 'tên', 'from', 'nhà máy', 'where', 'địa điểm', '!=', '\"Donceel\"']",
         "['select', 'tên', 'from', 'nhà máy', 'where', 'địa điểm', '!', '=', 'value']",
         "Cho biết tên của các nhà máy không được đặt tại ' Donceel ' .",
         "['Cho', 'biết', 'tên', 'của', 'các', 'nhà', 'máy', 'không', 'được', 'đặt', 'tại', \"'\", 'Donceel', \"'\", '.']",
         "{'except': None, 'from': {'conds': [], 'table_units': [['table_unit', 2]]}, 'groupBy': [], 'where': [[False, 7, [0, [0, 13, False], None], '\"Donceel\"', None]], 'limit': None, 'union': None, 'intersect': None, 'having': [], 'select': [False, [[0, [0, [0, 14, False], None]]]], 'orderBy': []}"
        ],
        [
         "7",
         "5",
         "Kiến trúc, Xây dựng, Công trình",
         "select distinct t1.loại from nhà máy as t1 join kiến trúc sư as t2 on t1.id kiến trúc sư = t2.id where t2.quốc tịch = \"American\" or t2.quốc tịch = \"Canadian\"",
         "['select', 'distinct', 't1.loại', 'from', 'nhà máy', 'as', 't1', 'join', 'kiến trúc sư', 'as', 't2', 'on', 't1.id kiến trúc sư', '=', 't2.id', 'where', 't2.quốc tịch', '=', '\"American\"', 'or', 't2.quốc tịch', '=', '\"Canadian\"']",
         "['select', 'distinct', 't1', '.', 'loại', 'from', 'nhà máy', 'as', 't1', 'join', 'kiến trúc sư', 'as', 't2', 'on', 't1', '.', 'id kiến trúc sư', '=', 't2', '.', 'id', 'where', 't2', '.', 'quốc tịch', '=', 'value', 'or', 't2', '.', 'quốc tịch', '=', 'value']",
         "Cho biết các loại nhà máy khác nhau đã được xây dựng bởi các kiến trúc sư người Mỹ hoặc các kiến trúc sư người Canada .",
         "['Cho', 'biết', 'các', 'loại', 'nhà', 'máy', 'khác', 'nhau', 'đã', 'được', 'xây', 'dựng', 'bởi', 'các', 'kiến', 'trúc', 'sư', 'người', 'Mỹ', 'hoặc', 'các', 'kiến', 'trúc', 'sư', 'người', 'Canada', '.']",
         "{'except': None, 'from': {'conds': [[False, 2, [0, [0, 11, False], None], [0, 1, False], None]], 'table_units': [['table_unit', 2], ['table_unit', 0]]}, 'groupBy': [], 'where': [[False, 2, [0, [0, 3, False], None], '\"American\"', None], 'or', [False, 2, [0, [0, 3, False], None], '\"Canadian\"', None]], 'limit': None, 'union': None, 'intersect': None, 'having': [], 'select': [True, [[0, [0, [0, 15, False], None]]]], 'orderBy': []}"
        ],
        [
         "8",
         "5",
         "Kiến trúc, Xây dựng, Công trình",
         "select t1.id , t1.tên from kiến trúc sư as t1 join cầu as t2 on t1.id = t2.id kiến trúc sư group by t1.id having count ( * ) >= 3",
         "['select', 't1.id', ',', 't1.tên', 'from', 'kiến trúc sư', 'as', 't1', 'join', 'cầu', 'as', 't2', 'on', 't1.id', '=', 't2.id kiến trúc sư', 'group', 'by', 't1.id', 'having', 'count', '(', '*', ')', '>=', '3']",
         "['select', 't1', '.', 'id', ',', 't1', '.', 'tên', 'from', 'kiến trúc sư', 'as', 't1', 'join', 'cầu', 'as', 't2', 'on', 't1', '.', 'id', '=', 't2', '.', 'id kiến trúc sư', 'group', 'by', 't1', '.', 'id', 'having', 'count', '(', '*', ')', '>', '=', 'value']",
         "Cho biết id và tên của các kiến trúc sư đã xây dựng ít nhất 3 cây cầu .",
         "['Cho', 'biết', 'id', 'và', 'tên', 'của', 'các', 'kiến', 'trúc', 'sư', 'đã', 'xây', 'dựng', 'ít', 'nhất', '3', 'cây', 'cầu', '.']",
         "{'except': None, 'from': {'conds': [[False, 2, [0, [0, 1, False], None], [0, 5, False], None]], 'table_units': [['table_unit', 0], ['table_unit', 1]]}, 'groupBy': [[0, 1, False]], 'where': [], 'limit': None, 'union': None, 'intersect': None, 'having': [[False, 5, [0, [3, 0, False], None], 3.0, None]], 'select': [False, [[0, [0, [0, 1, False], None]], [0, [0, [0, 2, False], None]]]], 'orderBy': []}"
        ],
        [
         "9",
         "5",
         "Kiến trúc, Xây dựng, Công trình",
         "select t1.id , t1.tên , t1.quốc tịch from kiến trúc sư as t1 join nhà máy as t2 on t1.id = t2.id kiến trúc sư group by t1.id order by count ( * ) desc limit 1",
         "['select', 't1.id', ',', 't1.tên', ',', 't1.quốc tịch', 'from', 'kiến trúc sư', 'as', 't1', 'join', 'nhà máy', 'as', 't2', 'on', 't1.id', '=', 't2.id kiến trúc sư', 'group', 'by', 't1.id', 'order', 'by', 'count', '(', '*', ')', 'desc', 'limit', '1']",
         "['select', 't1', '.', 'id', ',', 't1', '.', 'tên', ',', 't1', '.', 'quốc tịch', 'from', 'kiến trúc sư', 'as', 't1', 'join', 'nhà máy', 'as', 't2', 'on', 't1', '.', 'id', '=', 't2', '.', 'id kiến trúc sư', 'group', 'by', 't1', '.', 'id', 'order', 'by', 'count', '(', '*', ')', 'desc', 'limit', 'value']",
         "Cho biết id , tên và quốc tịch của kiến trúc sư đã xây dựng nhiều nhà máy nhất .",
         "['Cho', 'biết', 'id', ',', 'tên', 'và', 'quốc', 'tịch', 'của', 'kiến', 'trúc', 'sư', 'đã', 'xây', 'dựng', 'nhiều', 'nhà', 'máy', 'nhất', '.']",
         "{'except': None, 'from': {'conds': [[False, 2, [0, [0, 1, False], None], [0, 11, False], None]], 'table_units': [['table_unit', 0], ['table_unit', 2]]}, 'groupBy': [[0, 1, False]], 'where': [], 'limit': 1, 'union': None, 'intersect': None, 'having': [], 'select': [False, [[0, [0, [0, 1, False], None]], [0, [0, [0, 2, False], None]], [0, [0, [0, 3, False], None]]]], 'orderBy': ['desc', [[0, [3, 0, False], None]]]}"
        ],
        [
         "10",
         "5",
         "Kiến trúc, Xây dựng, Công trình",
         "select t1.id , t1.tên , t1.giới tính from kiến trúc sư as t1 join cầu as t2 on t1.id = t2.id kiến trúc sư group by t1.id having count ( * ) = 2 union select t1.id , t1.tên , t1.giới tính from kiến trúc sư as t1 join nhà máy as t2 on t1.id = t2.id kiến trúc sư group by t1.id having count ( * ) = 1",
         "['select', 't1.id', ',', 't1.tên', ',', 't1.giới tính', 'from', 'kiến trúc sư', 'as', 't1', 'join', 'cầu', 'as', 't2', 'on', 't1.id', '=', 't2.id kiến trúc sư', 'group', 'by', 't1.id', 'having', 'count', '(', '*', ')', '=', '2', 'union', 'select', 't1.id', ',', 't1.tên', ',', 't1.giới tính', 'from', 'kiến trúc sư', 'as', 't1', 'join', 'nhà máy', 'as', 't2', 'on', 't1.id', '=', 't2.id kiến trúc sư', 'group', 'by', 't1.id', 'having', 'count', '(', '*', ')', '=', '1']",
         "['select', 't1', '.', 'id', ',', 't1', '.', 'tên', ',', 't1', '.', 'giới tính', 'from', 'kiến trúc sư', 'as', 't1', 'join', 'cầu', 'as', 't2', 'on', 't1', '.', 'id', '=', 't2', '.', 'id kiến trúc sư', 'group', 'by', 't1', '.', 'id', 'having', 'count', '(', '*', ')', '=', 'value', 'union', 'select', 't1', '.', 'id', ',', 't1', '.', 'tên', ',', 't1', '.', 'giới tính', 'from', 'kiến trúc sư', 'as', 't1', 'join', 'nhà máy', 'as', 't2', 'on', 't1', '.', 'id', '=', 't2', '.', 'id kiến trúc sư', 'group', 'by', 't1', '.', 'id', 'having', 'count', '(', '*', ')', '=', 'value']",
         "Cho biết id , tên và giới tính của các kiến trúc sư đã xây dựng hai cây cầu hoặc một nhà máy .",
         "['Cho', 'biết', 'id', ',', 'tên', 'và', 'giới', 'tính', 'của', 'các', 'kiến', 'trúc', 'sư', 'đã', 'xây', 'dựng', 'hai', 'cây', 'cầu', 'hoặc', 'một', 'nhà', 'máy', '.']",
         "{'except': None, 'from': {'conds': [[False, 2, [0, [0, 1, False], None], [0, 11, False], None]], 'table_units': [['table_unit', 0], ['table_unit', 1]]}, 'groupBy': [[0, 1, False]], 'where': [], 'limit': None, 'union': {'except': None, 'from': {'conds': [[False, 2, [0, [0, 1, False], None], [0, 11, False], None]], 'table_units': [['table_unit', 0], ['table_unit', 2]]}, 'groupBy': [[0, 1, False]], 'where': [], 'limit': None, 'union': None, 'intersect': None, 'having': [[False, 2, [0, [3, 0, False], None], 1.0, None]], 'select': [False, [[0, [0, [0, 1, False], None]], [0, [0, [0, 2, False], None]], [0, [0, [0, 4, False], None]]]], 'orderBy': []}, 'intersect': None, 'having': [[False, 2, [0, [3, 0, False], None], 2.0, None]], 'select': [False, [[0, [0, [0, 1, False], None]], [0, [0, [0, 2, False], None]], [0, [0, [0, 4, False], None]]]], 'orderBy': []}"
        ],
        [
         "11",
         "5",
         "Kiến trúc, Xây dựng, Công trình",
         "select địa điểm from cầu where tên = \"Kolob Arch\" or tên = \"Rainbow Bridge\"",
         "['select', 'địa điểm', 'from', 'cầu', 'where', 'tên', '=', '\"Kolob Arch\"', 'or', 'tên', '=', '\"Rainbow Bridge\"']",
         "['select', 'địa điểm', 'from', 'cầu', 'where', 'tên', '=', 'value', 'or', 'tên', '=', 'value']",
         "Cho biết địa điểm của cây cầu có tên là ' Cổng vòm Kolob ' hoặc cây cầu có tên là ' Cầu cầu vồng ' .",
         "['Cho', 'biết', 'địa', 'điểm', 'của', 'cây', 'cầu', 'có', 'tên', 'là', \"'\", 'Cổng', 'vòm', 'Kolob', \"'\", 'hoặc', 'cây', 'cầu', 'có', 'tên', 'là', \"'\", 'Cầu', 'cầu', 'vồng', \"'\", '.']",
         "{'except': None, 'from': {'conds': [], 'table_units': [['table_unit', 1]]}, 'groupBy': [], 'where': [[False, 2, [0, [0, 7, False], None], '\"Kolob Arch\"', None], 'or', [False, 2, [0, [0, 7, False], None], '\"Rainbow Bridge\"', None]], 'limit': None, 'union': None, 'intersect': None, 'having': [], 'select': [False, [[0, [0, [0, 8, False], None]]]], 'orderBy': []}"
        ],
        [
         "12",
         "5",
         "Kiến trúc, Xây dựng, Công trình",
         "select tên from nhà máy where tên like \"%Moulin%\"",
         "['select', 'tên', 'from', 'nhà máy', 'where', 'tên', 'like', '\"%Moulin%\"']",
         "['select', 'tên', 'from', 'nhà máy', 'where', 'tên', 'like', 'value']",
         "Cho biết tên của nhà máy có chứa từ tiếng Pháp ' Moulin ' trong tên .",
         "['Cho', 'biết', 'tên', 'của', 'nhà', 'máy', 'có', 'chứa', 'từ', 'tiếng', 'Pháp', \"'\", 'Moulin', \"'\", 'trong', 'tên', '.']",
         "{'except': None, 'from': {'conds': [], 'table_units': [['table_unit', 2]]}, 'groupBy': [], 'where': [[False, 9, [0, [0, 14, False], None], '\"%Moulin%\"', None]], 'limit': None, 'union': None, 'intersect': None, 'having': [], 'select': [False, [[0, [0, [0, 14, False], None]]]], 'orderBy': []}"
        ],
        [
         "13",
         "5",
         "Kiến trúc, Xây dựng, Công trình",
         "select distinct t1.tên from nhà máy as t1 join kiến trúc sư as t2 on t1.id kiến trúc sư = t2.id join cầu as t3 on t3.id kiến trúc sư = t2.id where t3.chiều dài theo mét > 80",
         "['select', 'distinct', 't1.tên', 'from', 'nhà máy', 'as', 't1', 'join', 'kiến trúc sư', 'as', 't2', 'on', 't1.id kiến trúc sư', '=', 't2.id', 'join', 'cầu', 'as', 't3', 'on', 't3.id kiến trúc sư', '=', 't2.id', 'where', 't3.chiều dài theo mét', '>', '80']",
         "['select', 'distinct', 't1', '.', 'tên', 'from', 'nhà máy', 'as', 't1', 'join', 'kiến trúc sư', 'as', 't2', 'on', 't1', '.', 'id kiến trúc sư', '=', 't2', '.', 'id', 'join', 'cầu', 'as', 't3', 'on', 't3', '.', 'id kiến trúc sư', '=', 't2', '.', 'id', 'where', 't3', '.', 'chiều dài theo mét', '>', 'value']",
         "Cho biết tên của các nhà máy khác nhau được xây dựng bởi các kiến trúc sư đã từng xây dựng một cây cầu dài hơn 80 mét .",
         "['Cho', 'biết', 'tên', 'của', 'các', 'nhà', 'máy', 'khác', 'nhau', 'được', 'xây', 'dựng', 'bởi', 'các', 'kiến', 'trúc', 'sư', 'đã', 'từng', 'xây', 'dựng', 'một', 'cây', 'cầu', 'dài', 'hơn', '80', 'mét', '.']",
         "{'except': None, 'from': {'conds': [[False, 2, [0, [0, 11, False], None], [0, 1, False], None]], 'table_units': [['table_unit', 2], ['table_unit', 0]]}, 'groupBy': [], 'where': [[False, 3, [0, [0, 9, False], None], 80.0, None]], 'limit': None, 'union': None, 'intersect': None, 'having': [], 'select': [True, [[0, [0, [0, 14, False], None]]]], 'orderBy': []}"
        ],
        [
         "14",
         "5",
         "Kiến trúc, Xây dựng, Công trình",
         "select loại , count ( * ) from nhà máy group by loại order by count ( * ) desc limit 1",
         "['select', 'loại', ',', 'count', '(', '*', ')', 'from', 'nhà máy', 'group', 'by', 'loại', 'order', 'by', 'count', '(', '*', ')', 'desc', 'limit', '1']",
         "['select', 'loại', ',', 'count', '(', '*', ')', 'from', 'nhà máy', 'group', 'by', 'loại', 'order', 'by', 'count', '(', '*', ')', 'desc', 'limit', 'value']",
         "Cho biết loại nhà máy phổ biết nhất và có bao nhiêu nhà máy thuộc loại này ?",
         "['Cho', 'biết', 'loại', 'nhà', 'máy', 'phổ', 'biết', 'nhất', 'và', 'có', 'bao', 'nhiêu', 'nhà', 'máy', 'thuộc', 'loại', 'này', '?']",
         "{'except': None, 'from': {'conds': [], 'table_units': [['table_unit', 2]]}, 'groupBy': [[0, 15, False]], 'where': [], 'limit': 1, 'union': None, 'intersect': None, 'having': [], 'select': [False, [[0, [0, [0, 15, False], None]], [3, [0, [0, 0, False], None]]]], 'orderBy': ['desc', [[0, [3, 0, False], None]]]}"
        ],
        [
         "15",
         "5",
         "Kiến trúc, Xây dựng, Công trình",
         "select count ( * ) from kiến trúc sư where id not in ( select id kiến trúc sư from nhà máy where năm xây dựng < 1850 )",
         "['select', 'count', '(', '*', ')', 'from', 'kiến trúc sư', 'where', 'id', 'not', 'in', '(', 'select', 'id kiến trúc sư', 'from', 'nhà máy', 'where', 'năm xây dựng', '<', '1850', ')']",
         "['select', 'count', '(', '*', ')', 'from', 'kiến trúc sư', 'where', 'id', 'not', 'in', '(', 'select', 'id kiến trúc sư', 'from', 'nhà máy', 'where', 'năm xây dựng', '<', 'value', ')']",
         "Có bao nhiêu kiến ​​trúc sư chưa từng xây dựng một nhà máy nào trước năm 1850 ?",
         "['Có', 'bao', 'nhiêu', 'kiến', '\\u200b\\u200btrúc', 'sư', 'chưa', 'từng', 'xây', 'dựng', 'một', 'nhà', 'máy', 'nào', 'trước', 'năm', '1850', '?']",
         "{'except': None, 'from': {'conds': [], 'table_units': [['table_unit', 0]]}, 'groupBy': [], 'where': [[True, 8, [0, [0, 1, False], None], {'except': None, 'from': {'conds': [], 'table_units': [['table_unit', 2]]}, 'groupBy': [], 'where': [[False, 4, [0, [0, 16, False], None], 1850.0, None]], 'limit': None, 'union': None, 'intersect': None, 'having': [], 'select': [False, [[0, [0, [0, 11, False], None]]]], 'orderBy': []}, None]], 'limit': None, 'union': None, 'intersect': None, 'having': [], 'select': [False, [[3, [0, [0, 0, False], None]]]], 'orderBy': []}"
        ],
        [
         "16",
         "5",
         "Kiến trúc, Xây dựng, Công trình",
         "select t1.tên from cầu as t1 join kiến trúc sư as t2 on t1.id kiến trúc sư = t2.id where t2.quốc tịch = \"American\" order by t1.chiều dài theo feet",
         "['select', 't1.tên', 'from', 'cầu', 'as', 't1', 'join', 'kiến trúc sư', 'as', 't2', 'on', 't1.id kiến trúc sư', '=', 't2.id', 'where', 't2.quốc tịch', '=', '\"American\"', 'order', 'by', 't1.chiều dài theo feet']",
         "['select', 't1', '.', 'tên', 'from', 'cầu', 'as', 't1', 'join', 'kiến trúc sư', 'as', 't2', 'on', 't1', '.', 'id kiến trúc sư', '=', 't2', '.', 'id', 'where', 't2', '.', 'quốc tịch', '=', 'value', 'order', 'by', 't1', '.', 'chiều dài theo feet']",
         "Hiển thị tên của tất cả những cây cầu được thiết kế bởi các kiến ​​trúc sư người Mỹ và sắp xếp kết quả theo thứ tự chiều dài chân cầu .",
         "['Hiển', 'thị', 'tên', 'của', 'tất', 'cả', 'những', 'cây', 'cầu', 'được', 'thiết', 'kế', 'bởi', 'các', 'kiến', '\\u200b\\u200btrúc', 'sư', 'người', 'Mỹ', 'và', 'sắp', 'xếp', 'kết', 'quả', 'theo', 'thứ', 'tự', 'chiều', 'dài', 'chân', 'cầu', '.']",
         "{'except': None, 'from': {'conds': [[False, 2, [0, [0, 5, False], None], [0, 1, False], None]], 'table_units': [['table_unit', 1], ['table_unit', 0]]}, 'groupBy': [], 'where': [[False, 2, [0, [0, 3, False], None], '\"American\"', None]], 'limit': None, 'union': None, 'intersect': None, 'having': [], 'select': [False, [[0, [0, [0, 7, False], None]]]], 'orderBy': ['asc', [[0, [0, 10, False], None]]]}"
        ],
        [
         "17",
         "17",
         "Rạp chiếu phim, Điện ảnh, Phim trường",
         "select địa điểm from rạp chiếu phim except select địa điểm from rạp chiếu phim where sức chứa > 800",
         "['select', 'địa điểm', 'from', 'rạp chiếu phim', 'except', 'select', 'địa điểm', 'from', 'rạp chiếu phim', 'where', 'sức chứa', '>', '800']",
         "['select', 'địa điểm', 'from', 'rạp chiếu phim', 'except', 'select', 'địa điểm', 'from', 'rạp chiếu phim', 'where', 'sức chứa', '>', 'value']",
         "Hiển thị tất cả các địa điểm không có rạp chiếu phim với sức chứa trên 800 .",
         "['Hiển', 'thị', 'tất', 'cả', 'các', 'địa', 'điểm', 'không', 'có', 'rạp', 'chiếu', 'phim', 'với', 'sức', 'chứa', 'trên', '800', '.']",
         "{'except': {'except': None, 'from': {'conds': [], 'table_units': [['table_unit', 1]]}, 'groupBy': [], 'where': [[False, 3, [0, [0, 11, False], None], 800.0, None]], 'limit': None, 'union': None, 'intersect': None, 'having': [], 'select': [False, [[0, [0, [0, 12, False], None]]]], 'orderBy': []}, 'from': {'conds': [], 'table_units': [['table_unit', 1]]}, 'groupBy': [], 'where': [], 'limit': None, 'union': None, 'intersect': None, 'having': [], 'select': [False, [[0, [0, [0, 12, False], None]]]], 'orderBy': []}"
        ],
        [
         "18",
         "17",
         "Rạp chiếu phim, Điện ảnh, Phim trường",
         "select địa điểm from rạp chiếu phim where năm mở cửa = 2010 intersect select địa điểm from rạp chiếu phim where năm mở cửa = 2011",
         "['select', 'địa điểm', 'from', 'rạp chiếu phim', 'where', 'năm mở cửa', '=', '2010', 'intersect', 'select', 'địa điểm', 'from', 'rạp chiếu phim', 'where', 'năm mở cửa', '=', '2011']",
         "['select', 'địa điểm', 'from', 'rạp chiếu phim', 'where', 'năm mở cửa', '=', 'value', 'intersect', 'select', 'địa điểm', 'from', 'rạp chiếu phim', 'where', 'năm mở cửa', '=', 'value']",
         "Hiển thị tất cả các địa điểm nơi có một số rạp chiếu phim đã được mở vào năm 2010 và năm 2011 .",
         "['Hiển', 'thị', 'tất', 'cả', 'các', 'địa', 'điểm', 'nơi', 'có', 'một', 'số', 'rạp', 'chiếu', 'phim', 'đã', 'được', 'mở', 'vào', 'năm', '2010', 'và', 'năm', '2011', '.']",
         "{'except': None, 'from': {'conds': [], 'table_units': [['table_unit', 1]]}, 'groupBy': [], 'where': [[False, 2, [0, [0, 10, False], None], 2010.0, None]], 'limit': None, 'union': None, 'intersect': {'except': None, 'from': {'conds': [], 'table_units': [['table_unit', 1]]}, 'groupBy': [], 'where': [[False, 2, [0, [0, 10, False], None], 2011.0, None]], 'limit': None, 'union': None, 'intersect': None, 'having': [], 'select': [False, [[0, [0, [0, 12, False], None]]]], 'orderBy': []}, 'having': [], 'select': [False, [[0, [0, [0, 12, False], None]]]], 'orderBy': []}"
        ],
        [
         "19",
         "17",
         "Rạp chiếu phim, Điện ảnh, Phim trường",
         "select count ( * ) from rạp chiếu phim",
         "['select', 'count', '(', '*', ')', 'from', 'rạp chiếu phim']",
         "['select', 'count', '(', '*', ')', 'from', 'rạp chiếu phim']",
         "Có bao nhiêu rạp chiếu phim ?",
         "['Có', 'bao', 'nhiêu', 'rạp', 'chiếu', 'phim', '?']",
         "{'except': None, 'from': {'conds': [], 'table_units': [['table_unit', 1]]}, 'groupBy': [], 'where': [], 'limit': None, 'union': None, 'intersect': None, 'having': [], 'select': [False, [[3, [0, [0, 0, False], None]]]], 'orderBy': []}"
        ],
        [
         "20",
         "17",
         "Rạp chiếu phim, Điện ảnh, Phim trường",
         "select count ( * ) from rạp chiếu phim",
         "['select', 'count', '(', '*', ')', 'from', 'rạp chiếu phim']",
         "['select', 'count', '(', '*', ')', 'from', 'rạp chiếu phim']",
         "Đếm số lượng rạp chiếu phim .",
         "['Đếm', 'số', 'lượng', 'rạp', 'chiếu', 'phim', '.']",
         "{'except': None, 'from': {'conds': [], 'table_units': [['table_unit', 1]]}, 'groupBy': [], 'where': [], 'limit': None, 'union': None, 'intersect': None, 'having': [], 'select': [False, [[3, [0, [0, 0, False], None]]]], 'orderBy': []}"
        ],
        [
         "21",
         "17",
         "Rạp chiếu phim, Điện ảnh, Phim trường",
         "select tên , năm mở cửa , sức chứa from rạp chiếu phim",
         "['select', 'tên', ',', 'năm mở cửa', ',', 'sức chứa', 'from', 'rạp chiếu phim']",
         "['select', 'tên', ',', 'năm mở cửa', ',', 'sức chứa', 'from', 'rạp chiếu phim']",
         "Hiển thị tên , năm mở cửa , và sức chứa của từng rạp chiếu phim .",
         "['Hiển', 'thị', 'tên', ',', 'năm', 'mở', 'cửa', ',', 'và', 'sức', 'chứa', 'của', 'từng', 'rạp', 'chiếu', 'phim', '.']",
         "{'except': None, 'from': {'conds': [], 'table_units': [['table_unit', 1]]}, 'groupBy': [], 'where': [], 'limit': None, 'union': None, 'intersect': None, 'having': [], 'select': [False, [[0, [0, [0, 9, False], None]], [0, [0, [0, 10, False], None]], [0, [0, [0, 11, False], None]]]], 'orderBy': []}"
        ],
        [
         "22",
         "17",
         "Rạp chiếu phim, Điện ảnh, Phim trường",
         "select tên , địa điểm from rạp chiếu phim where sức chứa > ( select avg ( sức chứa ) from rạp chiếu phim )",
         "['select', 'tên', ',', 'địa điểm', 'from', 'rạp chiếu phim', 'where', 'sức chứa', '>', '(', 'select', 'avg', '(', 'sức chứa', ')', 'from', 'rạp chiếu phim', ')']",
         "['select', 'tên', ',', 'địa điểm', 'from', 'rạp chiếu phim', 'where', 'sức chứa', '>', '(', 'select', 'avg', '(', 'sức chứa', ')', 'from', 'rạp chiếu phim', ')']",
         "Hiển thị tên và địa điểm của các rạp chiếu phim có sức chứa trên mức trung bình .",
         "['Hiển', 'thị', 'tên', 'và', 'địa', 'điểm', 'của', 'các', 'rạp', 'chiếu', 'phim', 'có', 'sức', 'chứa', 'trên', 'mức', 'trung', 'bình', '.']",
         "{'except': None, 'from': {'conds': [], 'table_units': [['table_unit', 1]]}, 'groupBy': [], 'where': [[False, 3, [0, [0, 11, False], None], {'except': None, 'from': {'conds': [], 'table_units': [['table_unit', 1]]}, 'groupBy': [], 'where': [], 'limit': None, 'union': None, 'intersect': None, 'having': [], 'select': [False, [[5, [0, [0, 11, False], None]]]], 'orderBy': []}, None]], 'limit': None, 'union': None, 'intersect': None, 'having': [], 'select': [False, [[0, [0, [0, 9, False], None]], [0, [0, [0, 12, False], None]]]], 'orderBy': []}"
        ],
        [
         "23",
         "17",
         "Rạp chiếu phim, Điện ảnh, Phim trường",
         "select distinct địa điểm from rạp chiếu phim",
         "['select', 'distinct', 'địa điểm', 'from', 'rạp chiếu phim']",
         "['select', 'distinct', 'địa điểm', 'from', 'rạp chiếu phim']",
         "Những địa điểm có một vài rạp chiếu phim là những địa điểm nào ?",
         "['Những', 'địa', 'điểm', 'có', 'một', 'vài', 'rạp', 'chiếu', 'phim', 'là', 'những', 'địa', 'điểm', 'nào', '?']",
         "{'except': None, 'from': {'conds': [], 'table_units': [['table_unit', 1]]}, 'groupBy': [], 'where': [], 'limit': None, 'union': None, 'intersect': None, 'having': [], 'select': [True, [[0, [0, [0, 12, False], None]]]], 'orderBy': []}"
        ],
        [
         "24",
         "17",
         "Rạp chiếu phim, Điện ảnh, Phim trường",
         "select distinct địa điểm from rạp chiếu phim",
         "['select', 'distinct', 'địa điểm', 'from', 'rạp chiếu phim']",
         "['select', 'distinct', 'địa điểm', 'from', 'rạp chiếu phim']",
         "Tìm những địa điểm khác nhau nơi có một vài rạp chiếu phim .",
         "['Tìm', 'những', 'địa', 'điểm', 'khác', 'nhau', 'nơi', 'có', 'một', 'vài', 'rạp', 'chiếu', 'phim', '.']",
         "{'except': None, 'from': {'conds': [], 'table_units': [['table_unit', 1]]}, 'groupBy': [], 'where': [], 'limit': None, 'union': None, 'intersect': None, 'having': [], 'select': [True, [[0, [0, [0, 12, False], None]]]], 'orderBy': []}"
        ],
        [
         "25",
         "17",
         "Rạp chiếu phim, Điện ảnh, Phim trường",
         "select tên , năm mở cửa from rạp chiếu phim order by năm mở cửa desc",
         "['select', 'tên', ',', 'năm mở cửa', 'from', 'rạp chiếu phim', 'order', 'by', 'năm mở cửa', 'desc']",
         "['select', 'tên', ',', 'năm mở cửa', 'from', 'rạp chiếu phim', 'order', 'by', 'năm mở cửa', 'desc']",
         "Hiển thị tên của tất cả các rạp chiếu phim và năm mở cửa của từng rạp theo thứ tự giảm dần về năm mở cửa .",
         "['Hiển', 'thị', 'tên', 'của', 'tất', 'cả', 'các', 'rạp', 'chiếu', 'phim', 'và', 'năm', 'mở', 'cửa', 'của', 'từng', 'rạp', 'theo', 'thứ', 'tự', 'giảm', 'dần', 'về', 'năm', 'mở', 'cửa', '.']",
         "{'except': None, 'from': {'conds': [], 'table_units': [['table_unit', 1]]}, 'groupBy': [], 'where': [], 'limit': None, 'union': None, 'intersect': None, 'having': [], 'select': [False, [[0, [0, [0, 9, False], None]], [0, [0, [0, 10, False], None]]]], 'orderBy': ['desc', [[0, [0, 10, False], None]]]}"
        ],
        [
         "26",
         "17",
         "Rạp chiếu phim, Điện ảnh, Phim trường",
         "select tên , địa điểm from rạp chiếu phim order by sức chứa desc limit 1",
         "['select', 'tên', ',', 'địa điểm', 'from', 'rạp chiếu phim', 'order', 'by', 'sức chứa', 'desc', 'limit', '1']",
         "['select', 'tên', ',', 'địa điểm', 'from', 'rạp chiếu phim', 'order', 'by', 'sức chứa', 'desc', 'limit', 'value']",
         "Cho biết tên và địa điểm của rạp chiếu phim có sức chứa lớn nhất .",
         "['Cho', 'biết', 'tên', 'và', 'địa', 'điểm', 'của', 'rạp', 'chiếu', 'phim', 'có', 'sức', 'chứa', 'lớn', 'nhất', '.']",
         "{'except': None, 'from': {'conds': [], 'table_units': [['table_unit', 1]]}, 'groupBy': [], 'where': [], 'limit': 1, 'union': None, 'intersect': None, 'having': [], 'select': [False, [[0, [0, [0, 9, False], None]], [0, [0, [0, 12, False], None]]]], 'orderBy': ['desc', [[0, [0, 11, False], None]]]}"
        ],
        [
         "27",
         "17",
         "Rạp chiếu phim, Điện ảnh, Phim trường",
         "select avg ( sức chứa ) , min ( sức chứa ) , max ( sức chứa ) from rạp chiếu phim where năm mở cửa >= 2011",
         "['select', 'avg', '(', 'sức chứa', ')', ',', 'min', '(', 'sức chứa', ')', ',', 'max', '(', 'sức chứa', ')', 'from', 'rạp chiếu phim', 'where', 'năm mở cửa', '>=', '2011']",
         "['select', 'avg', '(', 'sức chứa', ')', ',', 'min', '(', 'sức chứa', ')', ',', 'max', '(', 'sức chứa', ')', 'from', 'rạp chiếu phim', 'where', 'năm mở cửa', '>', '=', 'value']",
         "Hiển thị sức chứa trung bình , sức chứa tối thiểu và sức chứa tối đa của tất cả các rạp chiếu phim được mở từ sau năm 2011 .",
         "['Hiển', 'thị', 'sức', 'chứa', 'trung', 'bình', ',', 'sức', 'chứa', 'tối', 'thiểu', 'và', 'sức', 'chứa', 'tối', 'đa', 'của', 'tất', 'cả', 'các', 'rạp', 'chiếu', 'phim', 'được', 'mở', 'từ', 'sau', 'năm', '2011', '.']",
         "{'except': None, 'from': {'conds': [], 'table_units': [['table_unit', 1]]}, 'groupBy': [], 'where': [[False, 5, [0, [0, 10, False], None], 2011.0, None]], 'limit': None, 'union': None, 'intersect': None, 'having': [], 'select': [False, [[5, [0, [0, 11, False], None]], [2, [0, [0, 11, False], None]], [1, [0, [0, 11, False], None]]]], 'orderBy': []}"
        ],
        [
         "28",
         "17",
         "Rạp chiếu phim, Điện ảnh, Phim trường",
         "select địa điểm , count ( * ) from rạp chiếu phim group by địa điểm",
         "['select', 'địa điểm', ',', 'count', '(', '*', ')', 'from', 'rạp chiếu phim', 'group', 'by', 'địa điểm']",
         "['select', 'địa điểm', ',', 'count', '(', '*', ')', 'from', 'rạp chiếu phim', 'group', 'by', 'địa điểm']",
         "Hiển thị tất cả các địa điểm và số lượng rạp chiếu phim ở mỗi địa điểm .",
         "['Hiển', 'thị', 'tất', 'cả', 'các', 'địa', 'điểm', 'và', 'số', 'lượng', 'rạp', 'chiếu', 'phim', 'ở', 'mỗi', 'địa', 'điểm', '.']",
         "{'except': None, 'from': {'conds': [], 'table_units': [['table_unit', 1]]}, 'groupBy': [[0, 12, False]], 'where': [], 'limit': None, 'union': None, 'intersect': None, 'having': [], 'select': [False, [[0, [0, [0, 12, False], None]], [3, [0, [0, 0, False], None]]]], 'orderBy': []}"
        ],
        [
         "29",
         "17",
         "Rạp chiếu phim, Điện ảnh, Phim trường",
         "select địa điểm from rạp chiếu phim where năm mở cửa >= 2010 group by địa điểm order by count ( * ) desc limit 1",
         "['select', 'địa điểm', 'from', 'rạp chiếu phim', 'where', 'năm mở cửa', '>=', '2010', 'group', 'by', 'địa điểm', 'order', 'by', 'count', '(', '*', ')', 'desc', 'limit', '1']",
         "['select', 'địa điểm', 'from', 'rạp chiếu phim', 'where', 'năm mở cửa', '>', '=', 'value', 'group', 'by', 'địa điểm', 'order', 'by', 'count', '(', '*', ')', 'desc', 'limit', 'value']",
         "Địa điểm có nhiều rạp chiếu phim nhất được mở trong năm 2010 hoặc sau đó nằm ở đâu ?",
         "['Địa', 'điểm', 'có', 'nhiều', 'rạp', 'chiếu', 'phim', 'nhất', 'được', 'mở', 'trong', 'năm', '2010', 'hoặc', 'sau', 'đó', 'nằm', 'ở', 'đâu', '?']",
         "{'except': None, 'from': {'conds': [], 'table_units': [['table_unit', 1]]}, 'groupBy': [[0, 12, False]], 'where': [[False, 5, [0, [0, 10, False], None], 2010.0, None]], 'limit': 1, 'union': None, 'intersect': None, 'having': [], 'select': [False, [[0, [0, [0, 12, False], None]]]], 'orderBy': ['desc', [[0, [3, 0, False], None]]]}"
        ],
        [
         "30",
         "17",
         "Rạp chiếu phim, Điện ảnh, Phim trường",
         "select địa điểm from rạp chiếu phim where sức chứa > 300 group by địa điểm having count ( * ) >= 2",
         "['select', 'địa điểm', 'from', 'rạp chiếu phim', 'where', 'sức chứa', '>', '300', 'group', 'by', 'địa điểm', 'having', 'count', '(', '*', ')', '>=', '2']",
         "['select', 'địa điểm', 'from', 'rạp chiếu phim', 'where', 'sức chứa', '>', 'value', 'group', 'by', 'địa điểm', 'having', 'count', '(', '*', ')', '>', '=', 'value']",
         "Hiển thị tất cả các địa điểm có ít nhất hai rạp chiếu phim với sức chứa trên 300 .",
         "['Hiển', 'thị', 'tất', 'cả', 'các', 'địa', 'điểm', 'có', 'ít', 'nhất', 'hai', 'rạp', 'chiếu', 'phim', 'với', 'sức', 'chứa', 'trên', '300', '.']",
         "{'except': None, 'from': {'conds': [], 'table_units': [['table_unit', 1]]}, 'groupBy': [[0, 12, False]], 'where': [[False, 3, [0, [0, 11, False], None], 300.0, None]], 'limit': None, 'union': None, 'intersect': None, 'having': [[False, 5, [0, [3, 0, False], None], 2.0, None]], 'select': [False, [[0, [0, [0, 12, False], None]]]], 'orderBy': []}"
        ],
        [
         "31",
         "17",
         "Rạp chiếu phim, Điện ảnh, Phim trường",
         "select địa điểm from rạp chiếu phim where sức chứa > 300 group by địa điểm having count ( * ) >= 2",
         "['select', 'địa điểm', 'from', 'rạp chiếu phim', 'where', 'sức chứa', '>', '300', 'group', 'by', 'địa điểm', 'having', 'count', '(', '*', ')', '>=', '2']",
         "['select', 'địa điểm', 'from', 'rạp chiếu phim', 'where', 'sức chứa', '>', 'value', 'group', 'by', 'địa điểm', 'having', 'count', '(', '*', ')', '>', '=', 'value']",
         "Những địa điểm nào có từ 2 rạp chiếu phim với sức chứa lớn hơn 300 ?",
         "['Những', 'địa', 'điểm', 'nào', 'có', 'từ', '2', 'rạp', 'chiếu', 'phim', 'với', 'sức', 'chứa', 'lớn', 'hơn', '300', '?']",
         "{'except': None, 'from': {'conds': [], 'table_units': [['table_unit', 1]]}, 'groupBy': [[0, 12, False]], 'where': [[False, 3, [0, [0, 11, False], None], 300.0, None]], 'limit': None, 'union': None, 'intersect': None, 'having': [[False, 5, [0, [3, 0, False], None], 2.0, None]], 'select': [False, [[0, [0, [0, 12, False], None]]]], 'orderBy': []}"
        ],
        [
         "32",
         "17",
         "Rạp chiếu phim, Điện ảnh, Phim trường",
         "select tiêu đề , được đạo diễn bởi from phim",
         "['select', 'tiêu đề', ',', 'được đạo diễn bởi', 'from', 'phim']",
         "['select', 'tiêu đề', ',', 'được đạo diễn bởi', 'from', 'phim']",
         "Hiển thị tiêu đề và đạo diễn của tất cả các bộ phim .",
         "['Hiển', 'thị', 'tiêu', 'đề', 'và', 'đạo', 'diễn', 'của', 'tất', 'cả', 'các', 'bộ', 'phim', '.']",
         "{'except': None, 'from': {'conds': [], 'table_units': [['table_unit', 0]]}, 'groupBy': [], 'where': [], 'limit': None, 'union': None, 'intersect': None, 'having': [], 'select': [False, [[0, [0, [0, 4, False], None]], [0, [0, [0, 5, False], None]]]], 'orderBy': []}"
        ],
        [
         "33",
         "17",
         "Rạp chiếu phim, Điện ảnh, Phim trường",
         "select tiêu đề , được đạo diễn bởi from phim",
         "['select', 'tiêu đề', ',', 'được đạo diễn bởi', 'from', 'phim']",
         "['select', 'tiêu đề', ',', 'được đạo diễn bởi', 'from', 'phim']",
         "Tiêu đề và đạo diễn của từng bộ phim ?",
         "['Tiêu', 'đề', 'và', 'đạo', 'diễn', 'của', 'từng', 'bộ', 'phim', '?']",
         "{'except': None, 'from': {'conds': [], 'table_units': [['table_unit', 0]]}, 'groupBy': [], 'where': [], 'limit': None, 'union': None, 'intersect': None, 'having': [], 'select': [False, [[0, [0, [0, 4, False], None]], [0, [0, [0, 5, False], None]]]], 'orderBy': []}"
        ],
        [
         "34",
         "17",
         "Rạp chiếu phim, Điện ảnh, Phim trường",
         "select distinct được đạo diễn bởi from phim",
         "['select', 'distinct', 'được đạo diễn bởi', 'from', 'phim']",
         "['select', 'distinct', 'được đạo diễn bởi', 'from', 'phim']",
         "Hiển thị tất cả các đạo diễn .",
         "['Hiển', 'thị', 'tất', 'cả', 'các', 'đạo', 'diễn', '.']",
         "{'except': None, 'from': {'conds': [], 'table_units': [['table_unit', 0]]}, 'groupBy': [], 'where': [], 'limit': None, 'union': None, 'intersect': None, 'having': [], 'select': [True, [[0, [0, [0, 5, False], None]]]], 'orderBy': []}"
        ],
        [
         "35",
         "17",
         "Rạp chiếu phim, Điện ảnh, Phim trường",
         "select distinct được đạo diễn bởi from phim",
         "['select', 'distinct', 'được đạo diễn bởi', 'from', 'phim']",
         "['select', 'distinct', 'được đạo diễn bởi', 'from', 'phim']",
         "Liệt kê tất cả các đạo diễn .",
         "['Liệt', 'kê', 'tất', 'cả', 'các', 'đạo', 'diễn', '.']",
         "{'except': None, 'from': {'conds': [], 'table_units': [['table_unit', 0]]}, 'groupBy': [], 'where': [], 'limit': None, 'union': None, 'intersect': None, 'having': [], 'select': [True, [[0, [0, [0, 5, False], None]]]], 'orderBy': []}"
        ],
        [
         "36",
         "17",
         "Rạp chiếu phim, Điện ảnh, Phim trường",
         "select được đạo diễn bởi , count ( * ) from phim group by được đạo diễn bởi",
         "['select', 'được đạo diễn bởi', ',', 'count', '(', '*', ')', 'from', 'phim', 'group', 'by', 'được đạo diễn bởi']",
         "['select', 'được đạo diễn bởi', ',', 'count', '(', '*', ')', 'from', 'phim', 'group', 'by', 'được đạo diễn bởi']",
         "Liệt kê tất cả các đạo diễn cùng với số lượng phim của từng người .",
         "['Liệt', 'kê', 'tất', 'cả', 'các', 'đạo', 'diễn', 'cùng', 'với', 'số', 'lượng', 'phim', 'của', 'từng', 'người', '.']",
         "{'except': None, 'from': {'conds': [], 'table_units': [['table_unit', 0]]}, 'groupBy': [[0, 5, False]], 'where': [], 'limit': None, 'union': None, 'intersect': None, 'having': [], 'select': [False, [[0, [0, [0, 5, False], None]], [3, [0, [0, 0, False], None]]]], 'orderBy': []}"
        ],
        [
         "37",
         "17",
         "Rạp chiếu phim, Điện ảnh, Phim trường",
         "select t2.tên , sum ( t1.số lượng suất chiếu mỗi ngày ) from lịch chiếu phim as t1 join rạp chiếu phim as t2 on t1.id rạp chiếu phim = t2.id rạp chiếu phim group by t1.id rạp chiếu phim",
         "['select', 't2.tên', ',', 'sum', '(', 't1.số lượng suất chiếu mỗi ngày', ')', 'from', 'lịch chiếu phim', 'as', 't1', 'join', 'rạp chiếu phim', 'as', 't2', 'on', 't1.id rạp chiếu phim', '=', 't2.id rạp chiếu phim', 'group', 'by', 't1.id rạp chiếu phim']",
         "['select', 't2', '.', 'tên', ',', 'sum', '(', 't1', '.', 'số lượng suất chiếu mỗi ngày', ')', 'from', 'lịch chiếu phim', 'as', 't1', 'join', 'rạp chiếu phim', 'as', 't2', 'on', 't1', '.', 'id rạp chiếu phim', '=', 't2', '.', 'id rạp chiếu phim', 'group', 'by', 't1', '.', 'id rạp chiếu phim']",
         "Cho biết tổng số suất chiếu mỗi ngày của từng rạp chiếu phim .",
         "['Cho', 'biết', 'tổng', 'số', 'suất', 'chiếu', 'mỗi', 'ngày', 'của', 'từng', 'rạp', 'chiếu', 'phim', '.']",
         "{'except': None, 'from': {'conds': [[False, 2, [0, [0, 13, False], None], [0, 8, False], None]], 'table_units': [['table_unit', 2], ['table_unit', 1]]}, 'groupBy': [[0, 13, False]], 'where': [], 'limit': None, 'union': None, 'intersect': None, 'having': [], 'select': [False, [[0, [0, [0, 9, False], None]], [4, [0, [0, 16, False], None]]]], 'orderBy': []}"
        ],
        [
         "38",
         "17",
         "Rạp chiếu phim, Điện ảnh, Phim trường",
         "select t2.tiêu đề , max ( t1.giá ) from lịch chiếu phim as t1 join phim as t2 on t1.id phim = t2.id phim group by t1.id phim",
         "['select', 't2.tiêu đề', ',', 'max', '(', 't1.giá', ')', 'from', 'lịch chiếu phim', 'as', 't1', 'join', 'phim', 'as', 't2', 'on', 't1.id phim', '=', 't2.id phim', 'group', 'by', 't1.id phim']",
         "['select', 't2', '.', 'tiêu đề', ',', 'max', '(', 't1', '.', 'giá', ')', 'from', 'lịch chiếu phim', 'as', 't1', 'join', 'phim', 'as', 't2', 'on', 't1', '.', 'id phim', '=', 't2', '.', 'id phim', 'group', 'by', 't1', '.', 'id phim']",
         "Cho biết tiêu đề và giá cao nhất của mỗi bộ phim .",
         "['Cho', 'biết', 'tiêu', 'đề', 'và', 'giá', 'cao', 'nhất', 'của', 'mỗi', 'bộ', 'phim', '.']",
         "{'except': None, 'from': {'conds': [[False, 2, [0, [0, 14, False], None], [0, 1, False], None]], 'table_units': [['table_unit', 2], ['table_unit', 0]]}, 'groupBy': [[0, 14, False]], 'where': [], 'limit': None, 'union': None, 'intersect': None, 'having': [], 'select': [False, [[0, [0, [0, 4, False], None]], [1, [0, [0, 17, False], None]]]], 'orderBy': []}"
        ],
        [
         "39",
         "17",
         "Rạp chiếu phim, Điện ảnh, Phim trường",
         "select t2.tiêu đề , max ( t1.giá ) from lịch chiếu phim as t1 join phim as t2 on t1.id phim = t2.id phim group by t1.id phim",
         "['select', 't2.tiêu đề', ',', 'max', '(', 't1.giá', ')', 'from', 'lịch chiếu phim', 'as', 't1', 'join', 'phim', 'as', 't2', 'on', 't1.id phim', '=', 't2.id phim', 'group', 'by', 't1.id phim']",
         "['select', 't2', '.', 'tiêu đề', ',', 'max', '(', 't1', '.', 'giá', ')', 'from', 'lịch chiếu phim', 'as', 't1', 'join', 'phim', 'as', 't2', 'on', 't1', '.', 'id phim', '=', 't2', '.', 'id phim', 'group', 'by', 't1', '.', 'id phim']",
         "Tiêu đề và giá cao nhất của từng bộ phim ?",
         "['Tiêu', 'đề', 'và', 'giá', 'cao', 'nhất', 'của', 'từng', 'bộ', 'phim', '?']",
         "{'except': None, 'from': {'conds': [[False, 2, [0, [0, 14, False], None], [0, 1, False], None]], 'table_units': [['table_unit', 2], ['table_unit', 0]]}, 'groupBy': [[0, 14, False]], 'where': [], 'limit': None, 'union': None, 'intersect': None, 'having': [], 'select': [False, [[0, [0, [0, 4, False], None]], [1, [0, [0, 17, False], None]]]], 'orderBy': []}"
        ],
        [
         "40",
         "17",
         "Rạp chiếu phim, Điện ảnh, Phim trường",
         "select t3.tên , t2.tiêu đề , t1.ngày , t1.giá from lịch chiếu phim as t1 join phim as t2 on t1.id phim = t2.id phim join rạp chiếu phim as t3 on t1.id rạp chiếu phim = t3.id rạp chiếu phim",
         "['select', 't3.tên', ',', 't2.tiêu đề', ',', 't1.ngày', ',', 't1.giá', 'from', 'lịch chiếu phim', 'as', 't1', 'join', 'phim', 'as', 't2', 'on', 't1.id phim', '=', 't2.id phim', 'join', 'rạp chiếu phim', 'as', 't3', 'on', 't1.id rạp chiếu phim', '=', 't3.id rạp chiếu phim']",
         "['select', 't3', '.', 'tên', ',', 't2', '.', 'tiêu đề', ',', 't1', '.', 'ngày', ',', 't1', '.', 'giá', 'from', 'lịch chiếu phim', 'as', 't1', 'join', 'phim', 'as', 't2', 'on', 't1', '.', 'id phim', '=', 't2', '.', 'id phim', 'join', 'rạp chiếu phim', 'as', 't3', 'on', 't1', '.', 'id rạp chiếu phim', '=', 't3', '.', 'id rạp chiếu phim']",
         "Hiển thị tên rạp chiếu phim , tiêu đề , ngày chiếu và giá của từng bộ phim có trong lịch chiếu .",
         "['Hiển', 'thị', 'tên', 'rạp', 'chiếu', 'phim', ',', 'tiêu', 'đề', ',', 'ngày', 'chiếu', 'và', 'giá', 'của', 'từng', 'bộ', 'phim', 'có', 'trong', 'lịch', 'chiếu', '.']",
         "{'except': None, 'from': {'conds': [[False, 2, [0, [0, 14, False], None], [0, 1, False], None]], 'table_units': [['table_unit', 2], ['table_unit', 0]]}, 'groupBy': [], 'where': [], 'limit': None, 'union': None, 'intersect': None, 'having': [], 'select': [False, [[0, [0, [0, 9, False], None]], [0, [0, [0, 4, False], None]], [0, [0, [0, 15, False], None]], [0, [0, [0, 17, False], None]]]], 'orderBy': []}"
        ],
        [
         "41",
         "17",
         "Rạp chiếu phim, Điện ảnh, Phim trường",
         "select tiêu đề , được đạo diễn bởi from phim where id phim not in ( select id phim from lịch chiếu phim )",
         "['select', 'tiêu đề', ',', 'được đạo diễn bởi', 'from', 'phim', 'where', 'id phim', 'not', 'in', '(', 'select', 'id phim', 'from', 'lịch chiếu phim', ')']",
         "['select', 'tiêu đề', ',', 'được đạo diễn bởi', 'from', 'phim', 'where', 'id phim', 'not', 'in', '(', 'select', 'id phim', 'from', 'lịch chiếu phim', ')']",
         "Cho biết tiêu đề và đạo diễn của những bộ phim không nằm trong lịch chiếu .",
         "['Cho', 'biết', 'tiêu', 'đề', 'và', 'đạo', 'diễn', 'của', 'những', 'bộ', 'phim', 'không', 'nằm', 'trong', 'lịch', 'chiếu', '.']",
         "{'except': None, 'from': {'conds': [], 'table_units': [['table_unit', 0]]}, 'groupBy': [], 'where': [[True, 8, [0, [0, 1, False], None], {'except': None, 'from': {'conds': [], 'table_units': [['table_unit', 2]]}, 'groupBy': [], 'where': [], 'limit': None, 'union': None, 'intersect': None, 'having': [], 'select': [False, [[0, [0, [0, 14, False], None]]]], 'orderBy': []}, None]], 'limit': None, 'union': None, 'intersect': None, 'having': [], 'select': [False, [[0, [0, [0, 4, False], None]], [0, [0, [0, 5, False], None]]]], 'orderBy': []}"
        ],
        [
         "42",
         "17",
         "Rạp chiếu phim, Điện ảnh, Phim trường",
         "select t2.được đạo diễn bởi from lịch chiếu phim as t1 join phim as t2 on t1.id phim = t2.id phim group by t2.được đạo diễn bởi order by sum ( t1.số lượng suất chiếu mỗi ngày ) desc limit 1",
         "['select', 't2.được đạo diễn bởi', 'from', 'lịch chiếu phim', 'as', 't1', 'join', 'phim', 'as', 't2', 'on', 't1.id phim', '=', 't2.id phim', 'group', 'by', 't2.được đạo diễn bởi', 'order', 'by', 'sum', '(', 't1.số lượng suất chiếu mỗi ngày', ')', 'desc', 'limit', '1']",
         "['select', 't2', '.', 'được đạo diễn bởi', 'from', 'lịch chiếu phim', 'as', 't1', 'join', 'phim', 'as', 't2', 'on', 't1', '.', 'id phim', '=', 't2', '.', 'id phim', 'group', 'by', 't2', '.', 'được đạo diễn bởi', 'order', 'by', 'sum', '(', 't1', '.', 'số lượng suất chiếu mỗi ngày', ')', 'desc', 'limit', 'value']",
         "Cho biết người đạo diễn có nhiều lần công chiếu nhất .",
         "['Cho', 'biết', 'người', 'đạo', 'diễn', 'có', 'nhiều', 'lần', 'công', 'chiếu', 'nhất', '.']",
         "{'except': None, 'from': {'conds': [[False, 2, [0, [0, 14, False], None], [0, 1, False], None]], 'table_units': [['table_unit', 2], ['table_unit', 0]]}, 'groupBy': [[0, 5, False]], 'where': [], 'limit': 1, 'union': None, 'intersect': None, 'having': [], 'select': [False, [[0, [0, [0, 5, False], None]]]], 'orderBy': ['desc', [[0, [4, 16, False], None]]]}"
        ],
        [
         "43",
         "17",
         "Rạp chiếu phim, Điện ảnh, Phim trường",
         "select địa điểm from rạp chiếu phim where sức chứa > 300 group by địa điểm having count ( * ) > 1",
         "['select', 'địa điểm', 'from', 'rạp chiếu phim', 'where', 'sức chứa', '>', '300', 'group', 'by', 'địa điểm', 'having', 'count', '(', '*', ')', '>', '1']",
         "['select', 'địa điểm', 'from', 'rạp chiếu phim', 'where', 'sức chứa', '>', 'value', 'group', 'by', 'địa điểm', 'having', 'count', '(', '*', ')', '>', 'value']",
         "Tìm các địa điểm có nhiều hơn một rạp chiếu phim với sức chứa trên 300 .",
         "['Tìm', 'các', 'địa', 'điểm', 'có', 'nhiều', 'hơn', 'một', 'rạp', 'chiếu', 'phim', 'với', 'sức', 'chứa', 'trên', '300', '.']",
         "{'except': None, 'from': {'conds': [], 'table_units': [['table_unit', 1]]}, 'groupBy': [[0, 12, False]], 'where': [[False, 3, [0, [0, 11, False], None], 300.0, None]], 'limit': None, 'union': None, 'intersect': None, 'having': [[False, 3, [0, [3, 0, False], None], 1.0, None]], 'select': [False, [[0, [0, [0, 12, False], None]]]], 'orderBy': []}"
        ],
        [
         "44",
         "17",
         "Rạp chiếu phim, Điện ảnh, Phim trường",
         "select địa điểm from rạp chiếu phim where sức chứa > 300 group by địa điểm having count ( * ) > 1",
         "['select', 'địa điểm', 'from', 'rạp chiếu phim', 'where', 'sức chứa', '>', '300', 'group', 'by', 'địa điểm', 'having', 'count', '(', '*', ')', '>', '1']",
         "['select', 'địa điểm', 'from', 'rạp chiếu phim', 'where', 'sức chứa', '>', 'value', 'group', 'by', 'địa điểm', 'having', 'count', '(', '*', ')', '>', 'value']",
         "Những địa điểm nào có nhiều hơn một rạp chiếu phim với sức chứa trên 300 ?",
         "['Những', 'địa', 'điểm', 'nào', 'có', 'nhiều', 'hơn', 'một', 'rạp', 'chiếu', 'phim', 'với', 'sức', 'chứa', 'trên', '300', '?']",
         "{'except': None, 'from': {'conds': [], 'table_units': [['table_unit', 1]]}, 'groupBy': [[0, 12, False]], 'where': [[False, 3, [0, [0, 11, False], None], 300.0, None]], 'limit': None, 'union': None, 'intersect': None, 'having': [[False, 3, [0, [3, 0, False], None], 1.0, None]], 'select': [False, [[0, [0, [0, 12, False], None]]]], 'orderBy': []}"
        ],
        [
         "45",
         "17",
         "Rạp chiếu phim, Điện ảnh, Phim trường",
         "select count ( * ) from phim where tiêu đề like \"%Dummy%\"",
         "['select', 'count', '(', '*', ')', 'from', 'phim', 'where', 'tiêu đề', 'like', '\"%Dummy%\"']",
         "['select', 'count', '(', '*', ')', 'from', 'phim', 'where', 'tiêu đề', 'like', 'value']",
         "Có bao nhiêu bộ phim có từ ' Dummy ' trong tựa đề ?",
         "['Có', 'bao', 'nhiêu', 'bộ', 'phim', 'có', 'từ', \"'\", 'Dummy', \"'\", 'trong', 'tựa', 'đề', '?']",
         "{'except': None, 'from': {'conds': [], 'table_units': [['table_unit', 0]]}, 'groupBy': [], 'where': [[False, 9, [0, [0, 4, False], None], '\"%Dummy%\"', None]], 'limit': None, 'union': None, 'intersect': None, 'having': [], 'select': [False, [[3, [0, [0, 0, False], None]]]], 'orderBy': []}"
        ],
        [
         "46",
         "17",
         "Rạp chiếu phim, Điện ảnh, Phim trường",
         "select count ( * ) from phim where tiêu đề like \"%Dummy%\"",
         "['select', 'count', '(', '*', ')', 'from', 'phim', 'where', 'tiêu đề', 'like', '\"%Dummy%\"']",
         "['select', 'count', '(', '*', ')', 'from', 'phim', 'where', 'tiêu đề', 'like', 'value']",
         "Đếm số lượng phim có tựa đề chứa từ ' Dummy ' .",
         "['Đếm', 'số', 'lượng', 'phim', 'có', 'tựa', 'đề', 'chứa', 'từ', \"'\", 'Dummy', \"'\", '.']",
         "{'except': None, 'from': {'conds': [], 'table_units': [['table_unit', 0]]}, 'groupBy': [], 'where': [[False, 9, [0, [0, 4, False], None], '\"%Dummy%\"', None]], 'limit': None, 'union': None, 'intersect': None, 'having': [], 'select': [False, [[3, [0, [0, 0, False], None]]]], 'orderBy': []}"
        ],
        [
         "47",
         "24",
         "Trường cao đẳng, Đại học, Học viện",
         "select count ( * ) from khoá học",
         "['select', 'count', '(', '*', ')', 'from', 'khoá học']",
         "['select', 'count', '(', '*', ')', 'from', 'khoá học']",
         "Tổng cộng có bao nhiêu khoá học ?",
         "['Tổng', 'cộng', 'có', 'bao', 'nhiêu', 'khoá', 'học', '?']",
         "{'except': None, 'from': {'conds': [], 'table_units': [['table_unit', 4]]}, 'groupBy': [], 'where': [], 'limit': None, 'union': None, 'intersect': None, 'having': [], 'select': [False, [[3, [0, [0, 0, False], None]]]], 'orderBy': []}"
        ],
        [
         "48",
         "24",
         "Trường cao đẳng, Đại học, Học viện",
         "select count ( * ) from khoá học",
         "['select', 'count', '(', '*', ')', 'from', 'khoá học']",
         "['select', 'count', '(', '*', ')', 'from', 'khoá học']",
         "Đếm số lượng các khoá học .",
         "['Đếm', 'số', 'lượng', 'các', 'khoá', 'học', '.']",
         "{'except': None, 'from': {'conds': [], 'table_units': [['table_unit', 4]]}, 'groupBy': [], 'where': [], 'limit': None, 'union': None, 'intersect': None, 'having': [], 'select': [False, [[3, [0, [0, 0, False], None]]]], 'orderBy': []}"
        ],
        [
         "49",
         "24",
         "Trường cao đẳng, Đại học, Học viện",
         "select count ( * ) from khoá học where số lượng tín chỉ > 2",
         "['select', 'count', '(', '*', ')', 'from', 'khoá học', 'where', 'số lượng tín chỉ', '>', '2']",
         "['select', 'count', '(', '*', ')', 'from', 'khoá học', 'where', 'số lượng tín chỉ', '>', 'value']",
         "Có bao nhiêu khoá học cung cấp nhiều hơn 2 tín chỉ ?",
         "['Có', 'bao', 'nhiêu', 'khoá', 'học', 'cung', 'cấp', 'nhiều', 'hơn', '2', 'tín', 'chỉ', '?']",
         "{'except': None, 'from': {'conds': [], 'table_units': [['table_unit', 4]]}, 'groupBy': [], 'where': [[False, 3, [0, [0, 28, False], None], 2.0, None]], 'limit': None, 'union': None, 'intersect': None, 'having': [], 'select': [False, [[3, [0, [0, 0, False], None]]]], 'orderBy': []}"
        ]
       ],
       "shape": {
        "columns": 8,
        "rows": 19386
       }
      },
      "text/html": [
       "<div>\n",
       "<style scoped>\n",
       "    .dataframe tbody tr th:only-of-type {\n",
       "        vertical-align: middle;\n",
       "    }\n",
       "\n",
       "    .dataframe tbody tr th {\n",
       "        vertical-align: top;\n",
       "    }\n",
       "\n",
       "    .dataframe thead th {\n",
       "        text-align: right;\n",
       "    }\n",
       "</style>\n",
       "<table border=\"1\" class=\"dataframe\">\n",
       "  <thead>\n",
       "    <tr style=\"text-align: right;\">\n",
       "      <th></th>\n",
       "      <th>db_id</th>\n",
       "      <th>db_id_vn</th>\n",
       "      <th>query</th>\n",
       "      <th>query_toks</th>\n",
       "      <th>query_toks_no_value</th>\n",
       "      <th>question</th>\n",
       "      <th>question_toks</th>\n",
       "      <th>sql</th>\n",
       "    </tr>\n",
       "  </thead>\n",
       "  <tbody>\n",
       "    <tr>\n",
       "      <th>0</th>\n",
       "      <td>5</td>\n",
       "      <td>Kiến trúc, Xây dựng, Công trình</td>\n",
       "      <td>select count ( * ) from kiến trúc sư where giớ...</td>\n",
       "      <td>[select, count, (, *, ), from, kiến trúc sư, w...</td>\n",
       "      <td>[select, count, (, *, ), from, kiến trúc sư, w...</td>\n",
       "      <td>Có tất cả bao nhiêu kiến trúc sư nữ ?</td>\n",
       "      <td>[Có, tất, cả, bao, nhiêu, kiến, trúc, sư, nữ, ?]</td>\n",
       "      <td>{'except': None, 'from': {'conds': [], 'table_...</td>\n",
       "    </tr>\n",
       "    <tr>\n",
       "      <th>1</th>\n",
       "      <td>5</td>\n",
       "      <td>Kiến trúc, Xây dựng, Công trình</td>\n",
       "      <td>select tên , quốc tịch , id from kiến trúc sư ...</td>\n",
       "      <td>[select, tên, ,, quốc tịch, ,, id, from, kiến ...</td>\n",
       "      <td>[select, tên, ,, quốc tịch, ,, id, from, kiến ...</td>\n",
       "      <td>Liệt kê tên , quốc tịch và id của tất cả các k...</td>\n",
       "      <td>[Liệt, kê, tên, ,, quốc, tịch, và, id, của, tấ...</td>\n",
       "      <td>{'except': None, 'from': {'conds': [], 'table_...</td>\n",
       "    </tr>\n",
       "    <tr>\n",
       "      <th>2</th>\n",
       "      <td>5</td>\n",
       "      <td>Kiến trúc, Xây dựng, Công trình</td>\n",
       "      <td>select max ( t1.chiều dài theo mét ) , t2.tên ...</td>\n",
       "      <td>[select, max, (, t1.chiều dài theo mét, ), ,, ...</td>\n",
       "      <td>[select, max, (, t1, ., chiều dài theo mét, ),...</td>\n",
       "      <td>Cho biết tên của người kiến trúc sư đã tạo ra ...</td>\n",
       "      <td>[Cho, biết, tên, của, người, kiến, trúc, sư, đ...</td>\n",
       "      <td>{'except': None, 'from': {'conds': [[False, 2,...</td>\n",
       "    </tr>\n",
       "    <tr>\n",
       "      <th>3</th>\n",
       "      <td>5</td>\n",
       "      <td>Kiến trúc, Xây dựng, Công trình</td>\n",
       "      <td>select avg ( chiều dài theo feet ) from cầu</td>\n",
       "      <td>[select, avg, (, chiều dài theo feet, ), from,...</td>\n",
       "      <td>[select, avg, (, chiều dài theo feet, ), from,...</td>\n",
       "      <td>Cho biết chiều dài trung bình tính theo feet c...</td>\n",
       "      <td>[Cho, biết, chiều, dài, trung, bình, tính, the...</td>\n",
       "      <td>{'except': None, 'from': {'conds': [], 'table_...</td>\n",
       "    </tr>\n",
       "    <tr>\n",
       "      <th>4</th>\n",
       "      <td>5</td>\n",
       "      <td>Kiến trúc, Xây dựng, Công trình</td>\n",
       "      <td>select tên , năm xây dựng from nhà máy where l...</td>\n",
       "      <td>[select, tên, ,, năm xây dựng, from, nhà máy, ...</td>\n",
       "      <td>[select, tên, ,, năm xây dựng, from, nhà máy, ...</td>\n",
       "      <td>Cho biết tên và năm xây dựng của các nhà máy t...</td>\n",
       "      <td>[Cho, biết, tên, và, năm, xây, dựng, của, các,...</td>\n",
       "      <td>{'except': None, 'from': {'conds': [], 'table_...</td>\n",
       "    </tr>\n",
       "    <tr>\n",
       "      <th>...</th>\n",
       "      <td>...</td>\n",
       "      <td>...</td>\n",
       "      <td>...</td>\n",
       "      <td>...</td>\n",
       "      <td>...</td>\n",
       "      <td>...</td>\n",
       "      <td>...</td>\n",
       "      <td>...</td>\n",
       "    </tr>\n",
       "    <tr>\n",
       "      <th>19381</th>\n",
       "      <td>163</td>\n",
       "      <td>Đô vật, Vận động viên đấu vật, Thể thao đối kháng</td>\n",
       "      <td>select đội from lần bị loại where bị loại bởi ...</td>\n",
       "      <td>[select, đội, from, lần bị loại, where, bị loạ...</td>\n",
       "      <td>[select, đội, from, lần bị loại, where, bị loạ...</td>\n",
       "      <td>Những đội có các đô vật bị loại bởi ' Orton ' ...</td>\n",
       "      <td>[Những, đội, có, các, đô_vật, bị, loại, bởi, '...</td>\n",
       "      <td>{'except': None, 'from': {'conds': [], 'table_...</td>\n",
       "    </tr>\n",
       "    <tr>\n",
       "      <th>19382</th>\n",
       "      <td>163</td>\n",
       "      <td>Đô vật, Vận động viên đấu vật, Thể thao đối kháng</td>\n",
       "      <td>select count ( distinct đội ) from lần bị loại</td>\n",
       "      <td>[select, count, (, distinct, đội, ), from, lần...</td>\n",
       "      <td>[select, count, (, distinct, đội, ), from, lần...</td>\n",
       "      <td>Những đô vật đã bị loại đại diện cho tất cả ba...</td>\n",
       "      <td>[Những, đô_vật, đã, bị, loại, đại_diện, cho, t...</td>\n",
       "      <td>{'except': None, 'from': {'conds': [], 'table_...</td>\n",
       "    </tr>\n",
       "    <tr>\n",
       "      <th>19383</th>\n",
       "      <td>163</td>\n",
       "      <td>Đô vật, Vận động viên đấu vật, Thể thao đối kháng</td>\n",
       "      <td>select count ( distinct đội ) from lần bị loại</td>\n",
       "      <td>[select, count, (, distinct, đội, ), from, lần...</td>\n",
       "      <td>[select, count, (, distinct, đội, ), from, lần...</td>\n",
       "      <td>Có bao nhiêu đội khác nhau có thành viên là cá...</td>\n",
       "      <td>[Có, bao_nhiêu, đội, khác, nhau, có, thành_viê...</td>\n",
       "      <td>{'except': None, 'from': {'conds': [], 'table_...</td>\n",
       "    </tr>\n",
       "    <tr>\n",
       "      <th>19384</th>\n",
       "      <td>163</td>\n",
       "      <td>Đô vật, Vận động viên đấu vật, Thể thao đối kháng</td>\n",
       "      <td>select thời_gian from lần bị loại where bị loạ...</td>\n",
       "      <td>[select, thời_gian, from, lần bị loại, where, ...</td>\n",
       "      <td>[select, thời_gian, from, lần bị loại, where, ...</td>\n",
       "      <td>Những đô vật đã bị loại bởi ' Punk ' hoặc ' Or...</td>\n",
       "      <td>[Những, đô_vật, đã, bị, loại, bởi, ', Punk, ',...</td>\n",
       "      <td>{'except': None, 'from': {'conds': [], 'table_...</td>\n",
       "    </tr>\n",
       "    <tr>\n",
       "      <th>19385</th>\n",
       "      <td>163</td>\n",
       "      <td>Đô vật, Vận động viên đấu vật, Thể thao đối kháng</td>\n",
       "      <td>select thời_gian from lần bị loại where bị loạ...</td>\n",
       "      <td>[select, thời_gian, from, lần bị loại, where, ...</td>\n",
       "      <td>[select, thời_gian, from, lần bị loại, where, ...</td>\n",
       "      <td>Cho biết thời gian bị loại của các đô vật bị l...</td>\n",
       "      <td>[Cho, biết, thời_điểm, bị, loại, của, các, đô_...</td>\n",
       "      <td>{'except': None, 'from': {'conds': [], 'table_...</td>\n",
       "    </tr>\n",
       "  </tbody>\n",
       "</table>\n",
       "<p>19386 rows × 8 columns</p>\n",
       "</div>"
      ],
      "text/plain": [
       "       db_id                                           db_id_vn  \\\n",
       "0          5                    Kiến trúc, Xây dựng, Công trình   \n",
       "1          5                    Kiến trúc, Xây dựng, Công trình   \n",
       "2          5                    Kiến trúc, Xây dựng, Công trình   \n",
       "3          5                    Kiến trúc, Xây dựng, Công trình   \n",
       "4          5                    Kiến trúc, Xây dựng, Công trình   \n",
       "...      ...                                                ...   \n",
       "19381    163  Đô vật, Vận động viên đấu vật, Thể thao đối kháng   \n",
       "19382    163  Đô vật, Vận động viên đấu vật, Thể thao đối kháng   \n",
       "19383    163  Đô vật, Vận động viên đấu vật, Thể thao đối kháng   \n",
       "19384    163  Đô vật, Vận động viên đấu vật, Thể thao đối kháng   \n",
       "19385    163  Đô vật, Vận động viên đấu vật, Thể thao đối kháng   \n",
       "\n",
       "                                                   query  \\\n",
       "0      select count ( * ) from kiến trúc sư where giớ...   \n",
       "1      select tên , quốc tịch , id from kiến trúc sư ...   \n",
       "2      select max ( t1.chiều dài theo mét ) , t2.tên ...   \n",
       "3            select avg ( chiều dài theo feet ) from cầu   \n",
       "4      select tên , năm xây dựng from nhà máy where l...   \n",
       "...                                                  ...   \n",
       "19381  select đội from lần bị loại where bị loại bởi ...   \n",
       "19382     select count ( distinct đội ) from lần bị loại   \n",
       "19383     select count ( distinct đội ) from lần bị loại   \n",
       "19384  select thời_gian from lần bị loại where bị loạ...   \n",
       "19385  select thời_gian from lần bị loại where bị loạ...   \n",
       "\n",
       "                                              query_toks  \\\n",
       "0      [select, count, (, *, ), from, kiến trúc sư, w...   \n",
       "1      [select, tên, ,, quốc tịch, ,, id, from, kiến ...   \n",
       "2      [select, max, (, t1.chiều dài theo mét, ), ,, ...   \n",
       "3      [select, avg, (, chiều dài theo feet, ), from,...   \n",
       "4      [select, tên, ,, năm xây dựng, from, nhà máy, ...   \n",
       "...                                                  ...   \n",
       "19381  [select, đội, from, lần bị loại, where, bị loạ...   \n",
       "19382  [select, count, (, distinct, đội, ), from, lần...   \n",
       "19383  [select, count, (, distinct, đội, ), from, lần...   \n",
       "19384  [select, thời_gian, from, lần bị loại, where, ...   \n",
       "19385  [select, thời_gian, from, lần bị loại, where, ...   \n",
       "\n",
       "                                     query_toks_no_value  \\\n",
       "0      [select, count, (, *, ), from, kiến trúc sư, w...   \n",
       "1      [select, tên, ,, quốc tịch, ,, id, from, kiến ...   \n",
       "2      [select, max, (, t1, ., chiều dài theo mét, ),...   \n",
       "3      [select, avg, (, chiều dài theo feet, ), from,...   \n",
       "4      [select, tên, ,, năm xây dựng, from, nhà máy, ...   \n",
       "...                                                  ...   \n",
       "19381  [select, đội, from, lần bị loại, where, bị loạ...   \n",
       "19382  [select, count, (, distinct, đội, ), from, lần...   \n",
       "19383  [select, count, (, distinct, đội, ), from, lần...   \n",
       "19384  [select, thời_gian, from, lần bị loại, where, ...   \n",
       "19385  [select, thời_gian, from, lần bị loại, where, ...   \n",
       "\n",
       "                                                question  \\\n",
       "0                  Có tất cả bao nhiêu kiến trúc sư nữ ?   \n",
       "1      Liệt kê tên , quốc tịch và id của tất cả các k...   \n",
       "2      Cho biết tên của người kiến trúc sư đã tạo ra ...   \n",
       "3      Cho biết chiều dài trung bình tính theo feet c...   \n",
       "4      Cho biết tên và năm xây dựng của các nhà máy t...   \n",
       "...                                                  ...   \n",
       "19381  Những đội có các đô vật bị loại bởi ' Orton ' ...   \n",
       "19382  Những đô vật đã bị loại đại diện cho tất cả ba...   \n",
       "19383  Có bao nhiêu đội khác nhau có thành viên là cá...   \n",
       "19384  Những đô vật đã bị loại bởi ' Punk ' hoặc ' Or...   \n",
       "19385  Cho biết thời gian bị loại của các đô vật bị l...   \n",
       "\n",
       "                                           question_toks  \\\n",
       "0       [Có, tất, cả, bao, nhiêu, kiến, trúc, sư, nữ, ?]   \n",
       "1      [Liệt, kê, tên, ,, quốc, tịch, và, id, của, tấ...   \n",
       "2      [Cho, biết, tên, của, người, kiến, trúc, sư, đ...   \n",
       "3      [Cho, biết, chiều, dài, trung, bình, tính, the...   \n",
       "4      [Cho, biết, tên, và, năm, xây, dựng, của, các,...   \n",
       "...                                                  ...   \n",
       "19381  [Những, đội, có, các, đô_vật, bị, loại, bởi, '...   \n",
       "19382  [Những, đô_vật, đã, bị, loại, đại_diện, cho, t...   \n",
       "19383  [Có, bao_nhiêu, đội, khác, nhau, có, thành_viê...   \n",
       "19384  [Những, đô_vật, đã, bị, loại, bởi, ', Punk, ',...   \n",
       "19385  [Cho, biết, thời_điểm, bị, loại, của, các, đô_...   \n",
       "\n",
       "                                                     sql  \n",
       "0      {'except': None, 'from': {'conds': [], 'table_...  \n",
       "1      {'except': None, 'from': {'conds': [], 'table_...  \n",
       "2      {'except': None, 'from': {'conds': [[False, 2,...  \n",
       "3      {'except': None, 'from': {'conds': [], 'table_...  \n",
       "4      {'except': None, 'from': {'conds': [], 'table_...  \n",
       "...                                                  ...  \n",
       "19381  {'except': None, 'from': {'conds': [], 'table_...  \n",
       "19382  {'except': None, 'from': {'conds': [], 'table_...  \n",
       "19383  {'except': None, 'from': {'conds': [], 'table_...  \n",
       "19384  {'except': None, 'from': {'conds': [], 'table_...  \n",
       "19385  {'except': None, 'from': {'conds': [], 'table_...  \n",
       "\n",
       "[19386 rows x 8 columns]"
      ]
     },
     "execution_count": 38,
     "metadata": {},
     "output_type": "execute_result"
    }
   ],
   "source": [
    "DF1['db_id'] = DF1['db_id'].map(mapID)\n",
    "DF1"
   ]
  },
  {
   "cell_type": "code",
   "execution_count": 39,
   "metadata": {},
   "outputs": [
    {
     "name": "stdout",
     "output_type": "stream",
     "text": [
      "['Album', 'An toàn công cộng quận', 'Ban biên tập tạp chí', 'Ban nhạc cổ điển', 'Buôn bán điện thoại', 'Bài báo', 'Bài bạc', 'Bài hát', 'Bài nghiên cứu hội thảo', 'Báo cáo', 'Báo cáo', 'Báo cáo tin tức', 'Bóng chày', 'Bóng rổ đại học', 'Bóng đá', 'Bóng đá', 'Bơi lặn', 'Bơi lội', 'Bạn đồng hành', 'Bản nhạc', 'Bản tin', 'Bảng xếp hạng phim', 'Bảo hiểm báo cáo tổn thất đầu tiên', 'Bảo hiểm và khiếu nại điện tử', 'Bảo hành sản phẩm', 'Bảo trì thiết bị', 'Bảo trì tài sản', 'Bất động sản', 'Bầu cử', 'Bằng cấp', 'Bệnh dị ứng', 'Bệnh viện', 'Bộ phim', 'Bộ phim', 'Bộ sưu tập sản phẩm', 'Ca sĩ', 'Ca sĩ biểu diễn', 'Canh tác', 'Chia sẻ chương trình', 'Chiến dịch khách hàng thương mại điện tử', 'Chung cư', 'Chuyên gia nghiên cứu', 'Chuyến bay', 'Chuyến bay', 'Chính phủ điện tử', 'Chính quyền địa phương và quy hoạch', 'Chính quyền địa phương ở Alabama', 'Chính sách bảo hiểm', 'Chính trị gia', 'Chương trình', 'Chương trình truyền hình', 'Chương trình âm nhạc', 'Chấn thương khi chơi game', 'Chất lượng', 'Chỗ nuôi chó', 'Chỗ ở qua đêm', 'Chỗ ở tập thể', 'Chủ tiệc', 'Chủ trì tiệc', 'Cuộc thi thể thao', 'Cuộc thi trang trí', 'Cuộc thi tốc độ', 'Cái chết trong trận chiến', 'Câu lạc bộ', 'Câu lạc bộ cưỡi ngựa', 'Câu lạc bộ sân khấu', 'Công cụ', 'Công cụ tìm kiếm', 'Công dân bỏ phiếu', 'Công nghệ hành chính', 'Công nghệ sinh học', 'Công nghệ sinh học', 'Công nghệ số', 'Công nghệ truyền thông', 'Công trình', 'Công ty', 'Công ty chế tạo', 'Công ty hàng không', 'Công ty khí đốt', 'Công ty văn hóa', 'Công viên chủ đề', 'Công viên giải trí', 'Công viên giải trí', 'Cơ quan', 'Cơ quan nhà nước', 'Cơ sở công nghiệp', 'Cơ sở dữ liệu phim IMDb', 'Cơ sở y tế', 'Cảnh sát cứu hỏa', 'Cử tri', 'Cử tri', 'Cửa hàng', 'Cửa hàng', 'Cửa hàng bách hóa', 'Cửa hàng đồ uống', 'Danh hiệu nghệ thuật', 'Danh mục sản phẩm', 'Danh sách khách hàng', 'Dinh dưỡng', 'Doanh nghiệp', 'Doanh nghiệp', 'Doanh nghiệp khí hóa', 'Doanh nghiệp nghệ thuật', 'Doanh nhân', 'Du lịch bảo tàng', 'Dàn nhạc giao hưởng', 'Dị ứng', 'Dịch vụ cho thuê', 'Dịch vụ chăm sóc thú cưng', 'Dịch vụ giao nhận', 'Dịch vụ hàng không', 'Dịch vụ khẩn cấp', 'Dịch vụ tài chính', 'Dịch vụ ẩm thực', 'Dữ liệu thành phố', 'Dự báo thời tiết', 'Dự án', 'Ga tàu', 'Ghi chép bão', 'Giai điệu', 'Giai điệu', 'Giao dịch thẻ khách hàng', 'Giao hàng cho khách', 'Giao thông học đường', 'Giao thông đường sắt', 'Giám sát chứng khoán', 'Giám sát hành vi', 'Giám sát tài liệu', 'Giáo dục', 'Giáo dục trực tuyến', 'Giải quần vợt nữ', 'Giải thưởng giải trí', 'Giải trí trên TV', 'Giải trí điện tử', 'Giải đua F1', 'Giải đấu', 'Giải đấu', 'Giải đấu sinh viên', 'Giảng viên', 'Giấy phép hàng không', 'Gymer', 'Gói bảo hiểm', 'Gỡ lỗi', 'Hiệp hội quần vợt nữ', 'Hoạt động', 'Hy sinh', 'Hàng hóa', 'Hàng hóa', 'Hàng không', 'Hành chính công', 'Hành trình biển', 'Hành trình hàng không', 'Hành trình hàng không', 'Hãng hàng không', 'Hôn lễ', 'Hệ thống kiểm soát tài liệu', 'Hệ thống kiểm tra', 'Hệ thống kết nối', 'Hệ thống kết nối', 'Học giả', 'Học giả', 'Học lái ô tô', 'Học phí', 'Học sinh', 'Học sinh chơi thể thao', 'Học thuật', 'Học trực tuyến', 'Học viên', 'Học viện', 'Học viện', 'Hồ sơ', 'Hồ sơ học tập', 'Hồ sơ phi công', 'Hồ sơ thành phố', 'Hỗ trợ khách hàng', 'Hỗ trợ nghiên cứu', 'Hỗ trợ tài chính', 'Hội nhóm', 'Hội nhóm vui chơi', 'Hội viên', 'Hội đua ngựa', 'Hội đồng nghiên cứu', 'Hợp đồng bảo hiểm', 'Hợp đồng bảo hiểm', 'Internet', 'Khiếu nại bảo hiểm', 'Khiếu nại khách hàng', 'Khoa học trái đất', 'Khoản vay', 'Khu vui chơi', 'Khách hàng', 'Khách hàng', 'Khách hàng thân thiết', 'Khách hàng và hóa đơn', 'Khách hàng và liên hệ sản phẩm', 'Khách hàng và địa chỉ', 'Khách mời sự kiện', 'Khách sạn nhỏ', 'Khám phá di sản', 'Khán giả', 'Khóa học giảng dạy', 'Khóa học online', 'Không gian nghệ thuật', 'Khảo sát bầu cử', 'Kinh doanh di động', 'Kinh doanh số', 'Kiến trúc', 'Kiểm soát bảo hiểm', 'Kiểm tra nhân sự', 'Kiểm tra năng lực', 'Ký túc xá', 'Kẻ gây án', 'Kỹ thuật cơ khí', 'Leo núi', 'Liên lạc', 'Liên đoàn tennis nữ', 'Lý lịch bay', 'Lưu trữ dữ liệu', 'Lịch sử thiên tai', 'Lớp diễn xuất', 'Lớp học', 'Microblogging', 'Máy bay', 'Máy móc', 'Mã hễ thống', 'Môn thể thao', 'Môn thể thao', 'Môn thể thao dưới nước', 'Môn thể thao mạo hiểm', 'Môn thể thao tốc độ', 'Môn thể thao vua', 'Mùa giải', 'Mùa giải đấu', 'Mạng lưới', 'Mạng lưới', 'Mạng xã hội', 'Mẫu', 'Mặt hàng kinh doanh', 'Mối quan hệ khách hàng', 'Nghiên cứu', 'Nghiên cứu', 'Nghiên cứu y dược', 'Nghệ sĩ', 'Nghệ sĩ', 'Nghệ sĩ hát', 'Nghệ thuật trang trí', 'Nghệ thuật âm thanh', 'Nghệ thuật âm thanh', 'Ngân hàng nhỏ', 'Ngân sách', 'Ngân sách giáo dục', 'Người bỏ phiếu', 'Người chơi poker', 'Người khởi nghiệp', 'Người lao động', 'Người tham gia tiệc', 'Người tập gym', 'Người tập thể hình', 'Người tổ chức sự kiện', 'Người uyên bác', 'Người xem', 'Người đi bầu', 'Nhiếp ảnh thiên nhiên', 'Nhiệm vụ tàu thủy', 'Nho ủ', 'Nhà cho thuê', 'Nhà cung cấp năng lượng', 'Nhà ga', 'Nhà hàng', 'Nhà hàng', 'Nhà khoa học', 'Nhà kinh doanh', 'Nhà máy sản xuất', 'Nhà nghiên cứu', 'Nhà sản xuất', 'Nhà trọ', 'Nhà đất', 'Nhà ở sinh viên', 'Nhân sự', 'Nhân sự', 'Nhân viên', 'Nhân viên', 'Nhân viên công ty', 'Nhóm hội thảo kịch', 'Nhóm nhạc', 'Nhạc công', 'Nhạc cụ', 'Nhạc kịch', 'Nhạc sĩ', 'Nhận xét ePinions', 'Nhận xét nhà hàng', 'Nông trại', 'Nơi mua sắm', 'Phi cơ', 'Phim', 'Phim bộ', 'Phim trường', 'Phong cảnh núi non', 'Phân phối phần mềm', 'Phân tích hành vi', 'Phòng trưng bày chủ đề', 'Phương tiện giao thông', 'Phương tiện hai bánh', 'Phương tiện hàng hải', 'Phương tiện đưa đón học sinh', 'Phản hồi khách hàng', 'Phản hồi khách hàng', 'Phản hồi tiêu cực', 'Phản ứng miễn dịch', 'Quy định Solvency II', 'Quyền bầu cử', 'Quán cà phê', 'Quán ăn', 'Quán ăn', 'Quản lý hồ sơ', 'Quản lý khu vực', 'Quản lý mua sắm', 'Quản lý nguồn nhân lực', 'Quản lý phòng ban', 'Quản lý quỹ khoa học', 'Quản lý rủi ro tài chính', 'Quản lý số', 'Quản lý thành tích', 'Quản lý tài chính', 'Quản lý tài liệu', 'Quản lý tài nguyên', 'Quản lý đô thị', 'Quốc gia', 'Rượu vang', 'Rạp chiếu phim', 'Sinh viên', 'Sinh viên', 'Siêu thị', 'Siêu thị', 'Sách', 'Sân khấu ca nhạc', 'Sản phẩm cho thuê', 'Sản phẩm cửa hàng', 'Sửa chữa máy móc', 'Sửa chữa tài sản', 'Sự kiện', 'Tai nạn thi đấu', 'Tham chiếu', 'Tham dự buổi biểu diễn', 'Tham quan bảo tàng', 'Thanh toán', 'Thanh toán', 'Thanh toán điện tử', 'Theo dõi bảng điểm sinh viên', 'Theo dõi giao dịch cổ phiếu', 'Theo dõi lỗi phần mềm', 'Theo dõi thói quen', 'Theo dõi tài trợ nghiên cứu', 'Theo dõi đơn hàng', 'Thiết bị', 'Thiết bị di động', 'Thiết kế nội thất', 'Thuê căn hộ', 'Thuế', 'Thành phố', 'Thông tin liên hệ', 'Thông tin phim', 'Thông tin đô thị', 'Thông tin địa hình', 'Thú cưng', 'Thăm dò ứng cử viên', 'Thảo luận', 'Thảo luận chuyên đề', 'Thẻ thành viên cửa hàng', 'Thẻ tín dụng', 'Thế giới', 'Thể dục dụng cụ', 'Thể thao đối kháng', 'Thị trường điện thoại', 'Thống kê thời tiết', 'Thủ phạm', 'Tiêu đề', 'Tiếp thị trực tuyến', 'Tiệc cưới', 'Tiệm cà phê', 'Toàn cầu hóa', 'Trang trại', 'Trang đánh giá Yelp', 'Tranh cử', 'Tranh luận', 'Triển lãm', 'Trung tâm chăm sóc sức khỏe', 'Trung tâm huấn luyện', 'Trung tâm khí tượng', 'Trung tâm thương mại', 'Trung tâm đào tạo lái xe', 'Truy cập Internet', 'Truyền thông', 'Trèo đèo', 'Trình duyệt web', 'Trò chơi', 'Trò chơi cảm giác mạnh', 'Trường', 'Trường cao đẳng', 'Trường cao đẳng', 'Trường cao đẳng', 'Trường dạy lái xe', 'Trường đua', 'Trại chó', 'Trạm thời tiết', 'Trạm xe lửa', 'Trận đấu', 'Trận đấu', 'Trận đấu', 'Trận đấu bóng chày', 'Trận đấu thể thao', 'Trụ sở', 'Tuyến tàu hỏa', 'Tuyển chọn nhân viên', 'Tuyển dụng', 'Twitter', 'Tài chính trường học', 'Tài khoản', 'Tài liệu', 'Tài liệu', 'Tài liệu', 'Tài liệu', 'Tài liệu học thuật', 'Tài sản địa ốc', 'Tàu', 'Tàu lượn siêu tốc', 'Tác giả', 'Tác phẩm âm nhạc', 'Tác phẩm điện ảnh', 'Tín dụng', 'Tính năng', 'Tương tác enzyme thuốc', 'Tập đoàn', 'Tổ chức công việc', 'Tổ chức sáng tạo', 'Tổ chức tín dụng', 'Tổ chức xã hội', 'Tổn thương thể thao', 'Tội phạm', 'Tử trận', 'Vai trò', 'Vinh danh', 'Viện giáo dục', 'Viện nghiên cứu protein', 'Vé máy bay', 'Văn bản', 'Văn phòng công ty', 'Vận chuyển đơn hàng', 'Vận tải biển', 'Vận tải hàng không', 'Vận tải đường biển', 'Vận động viên học đường', 'Vận động viên thể dục', 'Vận động viên thể hình', 'Vận động viên đấu vật', 'Vật dụng thuê mướn', 'Xe buýt trường học', 'Xe hơi', 'Xe đạp', 'Xe đạp thể thao', 'Xây dựng', 'Xưởng chế tạo', 'Xếp hạng phim', 'Xếp hạng điện ảnh', 'Xếp loại học tập', 'Yêu cầu bồi thường', 'Yêu cầu bồi thường', 'Âm nhạc', 'Âm nhạc', 'Âm nhạc', 'Âm nhạc', 'Ô tô', 'Điều hành bộ phận', 'Điều tra dư luận', 'Điện thoại', 'Điện ảnh', 'Đoạn văn', 'Đua xe Công thức', 'Đào tạo', 'Đám cưới', 'Đánh bài', 'Đánh giá học sinh', 'Đánh giá sản phẩm', 'Đánh giá tuyển dụng nhân viên', 'Đánh giá điện ảnh', 'Đô vật', 'Đơn hàng', 'Đơn hàng trực tuyến', 'Đường sắt', 'Đường đua', 'Đại diện bầu cử', 'Đại học', 'Đại học', 'Đại học', 'Đại học', 'Đầu tư', 'Đặc điểm chung của sản phẩm', 'Địa chỉ', 'Địa cầu', 'Địa lý', 'Địa điểm', 'Đối thoại', 'Đồ uống có cồn', 'Đội tuyển bóng đá', 'Đội tuyển trường', 'Động vật nuôi', 'Ảnh núi', 'Ấn phẩm', 'Ẩm thực', 'Ủy ban học thuật', 'Ứng cử', 'Ứng cử viên']\n",
      "{'Album': 0, 'An toàn công cộng quận': 1, 'Ban biên tập tạp chí': 2, 'Ban nhạc cổ điển': 3, 'Buôn bán điện thoại': 4, 'Bài báo': 5, 'Bài bạc': 6, 'Bài hát': 7, 'Bài nghiên cứu hội thảo': 8, 'Báo cáo': 10, 'Báo cáo tin tức': 11, 'Bóng chày': 12, 'Bóng rổ đại học': 13, 'Bóng đá': 15, 'Bơi lặn': 16, 'Bơi lội': 17, 'Bạn đồng hành': 18, 'Bản nhạc': 19, 'Bản tin': 20, 'Bảng xếp hạng phim': 21, 'Bảo hiểm báo cáo tổn thất đầu tiên': 22, 'Bảo hiểm và khiếu nại điện tử': 23, 'Bảo hành sản phẩm': 24, 'Bảo trì thiết bị': 25, 'Bảo trì tài sản': 26, 'Bất động sản': 27, 'Bầu cử': 28, 'Bằng cấp': 29, 'Bệnh dị ứng': 30, 'Bệnh viện': 31, 'Bộ phim': 33, 'Bộ sưu tập sản phẩm': 34, 'Ca sĩ': 35, 'Ca sĩ biểu diễn': 36, 'Canh tác': 37, 'Chia sẻ chương trình': 38, 'Chiến dịch khách hàng thương mại điện tử': 39, 'Chung cư': 40, 'Chuyên gia nghiên cứu': 41, 'Chuyến bay': 43, 'Chính phủ điện tử': 44, 'Chính quyền địa phương và quy hoạch': 45, 'Chính quyền địa phương ở Alabama': 46, 'Chính sách bảo hiểm': 47, 'Chính trị gia': 48, 'Chương trình': 49, 'Chương trình truyền hình': 50, 'Chương trình âm nhạc': 51, 'Chấn thương khi chơi game': 52, 'Chất lượng': 53, 'Chỗ nuôi chó': 54, 'Chỗ ở qua đêm': 55, 'Chỗ ở tập thể': 56, 'Chủ tiệc': 57, 'Chủ trì tiệc': 58, 'Cuộc thi thể thao': 59, 'Cuộc thi trang trí': 60, 'Cuộc thi tốc độ': 61, 'Cái chết trong trận chiến': 62, 'Câu lạc bộ': 63, 'Câu lạc bộ cưỡi ngựa': 64, 'Câu lạc bộ sân khấu': 65, 'Công cụ': 66, 'Công cụ tìm kiếm': 67, 'Công dân bỏ phiếu': 68, 'Công nghệ hành chính': 69, 'Công nghệ sinh học': 71, 'Công nghệ số': 72, 'Công nghệ truyền thông': 73, 'Công trình': 74, 'Công ty': 75, 'Công ty chế tạo': 76, 'Công ty hàng không': 77, 'Công ty khí đốt': 78, 'Công ty văn hóa': 79, 'Công viên chủ đề': 80, 'Công viên giải trí': 82, 'Cơ quan': 83, 'Cơ quan nhà nước': 84, 'Cơ sở công nghiệp': 85, 'Cơ sở dữ liệu phim IMDb': 86, 'Cơ sở y tế': 87, 'Cảnh sát cứu hỏa': 88, 'Cử tri': 90, 'Cửa hàng': 92, 'Cửa hàng bách hóa': 93, 'Cửa hàng đồ uống': 94, 'Danh hiệu nghệ thuật': 95, 'Danh mục sản phẩm': 96, 'Danh sách khách hàng': 97, 'Dinh dưỡng': 98, 'Doanh nghiệp': 100, 'Doanh nghiệp khí hóa': 101, 'Doanh nghiệp nghệ thuật': 102, 'Doanh nhân': 103, 'Du lịch bảo tàng': 104, 'Dàn nhạc giao hưởng': 105, 'Dị ứng': 106, 'Dịch vụ cho thuê': 107, 'Dịch vụ chăm sóc thú cưng': 108, 'Dịch vụ giao nhận': 109, 'Dịch vụ hàng không': 110, 'Dịch vụ khẩn cấp': 111, 'Dịch vụ tài chính': 112, 'Dịch vụ ẩm thực': 113, 'Dữ liệu thành phố': 114, 'Dự báo thời tiết': 115, 'Dự án': 116, 'Ga tàu': 117, 'Ghi chép bão': 118, 'Giai điệu': 120, 'Giao dịch thẻ khách hàng': 121, 'Giao hàng cho khách': 122, 'Giao thông học đường': 123, 'Giao thông đường sắt': 124, 'Giám sát chứng khoán': 125, 'Giám sát hành vi': 126, 'Giám sát tài liệu': 127, 'Giáo dục': 128, 'Giáo dục trực tuyến': 129, 'Giải quần vợt nữ': 130, 'Giải thưởng giải trí': 131, 'Giải trí trên TV': 132, 'Giải trí điện tử': 133, 'Giải đua F1': 134, 'Giải đấu': 136, 'Giải đấu sinh viên': 137, 'Giảng viên': 138, 'Giấy phép hàng không': 139, 'Gymer': 140, 'Gói bảo hiểm': 141, 'Gỡ lỗi': 142, 'Hiệp hội quần vợt nữ': 143, 'Hoạt động': 144, 'Hy sinh': 145, 'Hàng hóa': 147, 'Hàng không': 148, 'Hành chính công': 149, 'Hành trình biển': 150, 'Hành trình hàng không': 152, 'Hãng hàng không': 153, 'Hôn lễ': 154, 'Hệ thống kiểm soát tài liệu': 155, 'Hệ thống kiểm tra': 156, 'Hệ thống kết nối': 158, 'Học giả': 160, 'Học lái ô tô': 161, 'Học phí': 162, 'Học sinh': 163, 'Học sinh chơi thể thao': 164, 'Học thuật': 165, 'Học trực tuyến': 166, 'Học viên': 167, 'Học viện': 169, 'Hồ sơ': 170, 'Hồ sơ học tập': 171, 'Hồ sơ phi công': 172, 'Hồ sơ thành phố': 173, 'Hỗ trợ khách hàng': 174, 'Hỗ trợ nghiên cứu': 175, 'Hỗ trợ tài chính': 176, 'Hội nhóm': 177, 'Hội nhóm vui chơi': 178, 'Hội viên': 179, 'Hội đua ngựa': 180, 'Hội đồng nghiên cứu': 181, 'Hợp đồng bảo hiểm': 183, 'Internet': 184, 'Khiếu nại bảo hiểm': 185, 'Khiếu nại khách hàng': 186, 'Khoa học trái đất': 187, 'Khoản vay': 188, 'Khu vui chơi': 189, 'Khách hàng': 191, 'Khách hàng thân thiết': 192, 'Khách hàng và hóa đơn': 193, 'Khách hàng và liên hệ sản phẩm': 194, 'Khách hàng và địa chỉ': 195, 'Khách mời sự kiện': 196, 'Khách sạn nhỏ': 197, 'Khám phá di sản': 198, 'Khán giả': 199, 'Khóa học giảng dạy': 200, 'Khóa học online': 201, 'Không gian nghệ thuật': 202, 'Khảo sát bầu cử': 203, 'Kinh doanh di động': 204, 'Kinh doanh số': 205, 'Kiến trúc': 206, 'Kiểm soát bảo hiểm': 207, 'Kiểm tra nhân sự': 208, 'Kiểm tra năng lực': 209, 'Ký túc xá': 210, 'Kẻ gây án': 211, 'Kỹ thuật cơ khí': 212, 'Leo núi': 213, 'Liên lạc': 214, 'Liên đoàn tennis nữ': 215, 'Lý lịch bay': 216, 'Lưu trữ dữ liệu': 217, 'Lịch sử thiên tai': 218, 'Lớp diễn xuất': 219, 'Lớp học': 220, 'Microblogging': 221, 'Máy bay': 222, 'Máy móc': 223, 'Mã hễ thống': 224, 'Môn thể thao': 226, 'Môn thể thao dưới nước': 227, 'Môn thể thao mạo hiểm': 228, 'Môn thể thao tốc độ': 229, 'Môn thể thao vua': 230, 'Mùa giải': 231, 'Mùa giải đấu': 232, 'Mạng lưới': 234, 'Mạng xã hội': 235, 'Mẫu': 236, 'Mặt hàng kinh doanh': 237, 'Mối quan hệ khách hàng': 238, 'Nghiên cứu': 240, 'Nghiên cứu y dược': 241, 'Nghệ sĩ': 243, 'Nghệ sĩ hát': 244, 'Nghệ thuật trang trí': 245, 'Nghệ thuật âm thanh': 247, 'Ngân hàng nhỏ': 248, 'Ngân sách': 249, 'Ngân sách giáo dục': 250, 'Người bỏ phiếu': 251, 'Người chơi poker': 252, 'Người khởi nghiệp': 253, 'Người lao động': 254, 'Người tham gia tiệc': 255, 'Người tập gym': 256, 'Người tập thể hình': 257, 'Người tổ chức sự kiện': 258, 'Người uyên bác': 259, 'Người xem': 260, 'Người đi bầu': 261, 'Nhiếp ảnh thiên nhiên': 262, 'Nhiệm vụ tàu thủy': 263, 'Nho ủ': 264, 'Nhà cho thuê': 265, 'Nhà cung cấp năng lượng': 266, 'Nhà ga': 267, 'Nhà hàng': 269, 'Nhà khoa học': 270, 'Nhà kinh doanh': 271, 'Nhà máy sản xuất': 272, 'Nhà nghiên cứu': 273, 'Nhà sản xuất': 274, 'Nhà trọ': 275, 'Nhà đất': 276, 'Nhà ở sinh viên': 277, 'Nhân sự': 279, 'Nhân viên': 281, 'Nhân viên công ty': 282, 'Nhóm hội thảo kịch': 283, 'Nhóm nhạc': 284, 'Nhạc công': 285, 'Nhạc cụ': 286, 'Nhạc kịch': 287, 'Nhạc sĩ': 288, 'Nhận xét ePinions': 289, 'Nhận xét nhà hàng': 290, 'Nông trại': 291, 'Nơi mua sắm': 292, 'Phi cơ': 293, 'Phim': 294, 'Phim bộ': 295, 'Phim trường': 296, 'Phong cảnh núi non': 297, 'Phân phối phần mềm': 298, 'Phân tích hành vi': 299, 'Phòng trưng bày chủ đề': 300, 'Phương tiện giao thông': 301, 'Phương tiện hai bánh': 302, 'Phương tiện hàng hải': 303, 'Phương tiện đưa đón học sinh': 304, 'Phản hồi khách hàng': 306, 'Phản hồi tiêu cực': 307, 'Phản ứng miễn dịch': 308, 'Quy định Solvency II': 309, 'Quyền bầu cử': 310, 'Quán cà phê': 311, 'Quán ăn': 313, 'Quản lý hồ sơ': 314, 'Quản lý khu vực': 315, 'Quản lý mua sắm': 316, 'Quản lý nguồn nhân lực': 317, 'Quản lý phòng ban': 318, 'Quản lý quỹ khoa học': 319, 'Quản lý rủi ro tài chính': 320, 'Quản lý số': 321, 'Quản lý thành tích': 322, 'Quản lý tài chính': 323, 'Quản lý tài liệu': 324, 'Quản lý tài nguyên': 325, 'Quản lý đô thị': 326, 'Quốc gia': 327, 'Rượu vang': 328, 'Rạp chiếu phim': 329, 'Sinh viên': 331, 'Siêu thị': 333, 'Sách': 334, 'Sân khấu ca nhạc': 335, 'Sản phẩm cho thuê': 336, 'Sản phẩm cửa hàng': 337, 'Sửa chữa máy móc': 338, 'Sửa chữa tài sản': 339, 'Sự kiện': 340, 'Tai nạn thi đấu': 341, 'Tham chiếu': 342, 'Tham dự buổi biểu diễn': 343, 'Tham quan bảo tàng': 344, 'Thanh toán': 346, 'Thanh toán điện tử': 347, 'Theo dõi bảng điểm sinh viên': 348, 'Theo dõi giao dịch cổ phiếu': 349, 'Theo dõi lỗi phần mềm': 350, 'Theo dõi thói quen': 351, 'Theo dõi tài trợ nghiên cứu': 352, 'Theo dõi đơn hàng': 353, 'Thiết bị': 354, 'Thiết bị di động': 355, 'Thiết kế nội thất': 356, 'Thuê căn hộ': 357, 'Thuế': 358, 'Thành phố': 359, 'Thông tin liên hệ': 360, 'Thông tin phim': 361, 'Thông tin đô thị': 362, 'Thông tin địa hình': 363, 'Thú cưng': 364, 'Thăm dò ứng cử viên': 365, 'Thảo luận': 366, 'Thảo luận chuyên đề': 367, 'Thẻ thành viên cửa hàng': 368, 'Thẻ tín dụng': 369, 'Thế giới': 370, 'Thể dục dụng cụ': 371, 'Thể thao đối kháng': 372, 'Thị trường điện thoại': 373, 'Thống kê thời tiết': 374, 'Thủ phạm': 375, 'Tiêu đề': 376, 'Tiếp thị trực tuyến': 377, 'Tiệc cưới': 378, 'Tiệm cà phê': 379, 'Toàn cầu hóa': 380, 'Trang trại': 381, 'Trang đánh giá Yelp': 382, 'Tranh cử': 383, 'Tranh luận': 384, 'Triển lãm': 385, 'Trung tâm chăm sóc sức khỏe': 386, 'Trung tâm huấn luyện': 387, 'Trung tâm khí tượng': 388, 'Trung tâm thương mại': 389, 'Trung tâm đào tạo lái xe': 390, 'Truy cập Internet': 391, 'Truyền thông': 392, 'Trèo đèo': 393, 'Trình duyệt web': 394, 'Trò chơi': 395, 'Trò chơi cảm giác mạnh': 396, 'Trường': 397, 'Trường cao đẳng': 400, 'Trường dạy lái xe': 401, 'Trường đua': 402, 'Trại chó': 403, 'Trạm thời tiết': 404, 'Trạm xe lửa': 405, 'Trận đấu': 408, 'Trận đấu bóng chày': 409, 'Trận đấu thể thao': 410, 'Trụ sở': 411, 'Tuyến tàu hỏa': 412, 'Tuyển chọn nhân viên': 413, 'Tuyển dụng': 414, 'Twitter': 415, 'Tài chính trường học': 416, 'Tài khoản': 417, 'Tài liệu': 421, 'Tài liệu học thuật': 422, 'Tài sản địa ốc': 423, 'Tàu': 424, 'Tàu lượn siêu tốc': 425, 'Tác giả': 426, 'Tác phẩm âm nhạc': 427, 'Tác phẩm điện ảnh': 428, 'Tín dụng': 429, 'Tính năng': 430, 'Tương tác enzyme thuốc': 431, 'Tập đoàn': 432, 'Tổ chức công việc': 433, 'Tổ chức sáng tạo': 434, 'Tổ chức tín dụng': 435, 'Tổ chức xã hội': 436, 'Tổn thương thể thao': 437, 'Tội phạm': 438, 'Tử trận': 439, 'Vai trò': 440, 'Vinh danh': 441, 'Viện giáo dục': 442, 'Viện nghiên cứu protein': 443, 'Vé máy bay': 444, 'Văn bản': 445, 'Văn phòng công ty': 446, 'Vận chuyển đơn hàng': 447, 'Vận tải biển': 448, 'Vận tải hàng không': 449, 'Vận tải đường biển': 450, 'Vận động viên học đường': 451, 'Vận động viên thể dục': 452, 'Vận động viên thể hình': 453, 'Vận động viên đấu vật': 454, 'Vật dụng thuê mướn': 455, 'Xe buýt trường học': 456, 'Xe hơi': 457, 'Xe đạp': 458, 'Xe đạp thể thao': 459, 'Xây dựng': 460, 'Xưởng chế tạo': 461, 'Xếp hạng phim': 462, 'Xếp hạng điện ảnh': 463, 'Xếp loại học tập': 464, 'Yêu cầu bồi thường': 466, 'Âm nhạc': 470, 'Ô tô': 471, 'Điều hành bộ phận': 472, 'Điều tra dư luận': 473, 'Điện thoại': 474, 'Điện ảnh': 475, 'Đoạn văn': 476, 'Đua xe Công thức': 477, 'Đào tạo': 478, 'Đám cưới': 479, 'Đánh bài': 480, 'Đánh giá học sinh': 481, 'Đánh giá sản phẩm': 482, 'Đánh giá tuyển dụng nhân viên': 483, 'Đánh giá điện ảnh': 484, 'Đô vật': 485, 'Đơn hàng': 486, 'Đơn hàng trực tuyến': 487, 'Đường sắt': 488, 'Đường đua': 489, 'Đại diện bầu cử': 490, 'Đại học': 494, 'Đầu tư': 495, 'Đặc điểm chung của sản phẩm': 496, 'Địa chỉ': 497, 'Địa cầu': 498, 'Địa lý': 499, 'Địa điểm': 500, 'Đối thoại': 501, 'Đồ uống có cồn': 502, 'Đội tuyển bóng đá': 503, 'Đội tuyển trường': 504, 'Động vật nuôi': 505, 'Ảnh núi': 506, 'Ấn phẩm': 507, 'Ẩm thực': 508, 'Ủy ban học thuật': 509, 'Ứng cử': 510, 'Ứng cử viên': 511}\n"
     ]
    }
   ],
   "source": [
    "DF_id_vn = DF1['db_id_vn'].drop_duplicates()\n",
    "\n",
    "lstt = []\n",
    "for i in DF_id_vn:\n",
    "    S = i.split(\", \")\n",
    "    for j in S:\n",
    "        lstt.append(j)\n",
    "    \n",
    "lstt = sorted(lstt)\n",
    "print(lstt)\n",
    "\n",
    "mydict = {lstt[i]: i for i in range(0, len(lstt))}\n",
    "print(mydict)"
   ]
  },
  {
   "cell_type": "code",
   "execution_count": 40,
   "metadata": {},
   "outputs": [],
   "source": [
    "# DF1['db_id_vn'] = DF1['db_id_vn'].apply(lambda x: \", \".join(str(mydict.get(item.strip(), -1)) for item in x.split(\", \")))\n",
    "# DF1"
   ]
  },
  {
   "cell_type": "code",
   "execution_count": 41,
   "metadata": {},
   "outputs": [
    {
     "data": {
      "application/vnd.microsoft.datawrangler.viewer.v0+json": {
       "columns": [
        {
         "name": "index",
         "rawType": "int64",
         "type": "integer"
        },
        {
         "name": "db_id",
         "rawType": "int64",
         "type": "integer"
        },
        {
         "name": "db_id_vn",
         "rawType": "object",
         "type": "string"
        },
        {
         "name": "query",
         "rawType": "object",
         "type": "string"
        },
        {
         "name": "query_toks",
         "rawType": "object",
         "type": "unknown"
        },
        {
         "name": "query_toks_no_value",
         "rawType": "object",
         "type": "unknown"
        },
        {
         "name": "question",
         "rawType": "object",
         "type": "string"
        },
        {
         "name": "question_toks",
         "rawType": "object",
         "type": "unknown"
        },
        {
         "name": "sql",
         "rawType": "object",
         "type": "unknown"
        }
       ],
       "ref": "add22de8-99ee-4fac-bb78-e1339bda7df1",
       "rows": [
        [
         "0",
         "5",
         "Kiến trúc, Xây dựng, Công trình",
         "select count ( * ) from kiến trúc sư where giới tính = \"female\"",
         "['select', 'count', '(', '*', ')', 'from', 'kiến trúc sư', 'where', 'giới tính', '=', '\"female\"']",
         "['select', 'count', '(', '*', ')', 'from', 'kiến trúc sư', 'where', 'giới tính', '=', 'value']",
         "Có tất cả bao nhiêu kiến trúc sư nữ ?",
         "['Có', 'tất', 'cả', 'bao', 'nhiêu', 'kiến', 'trúc', 'sư', 'nữ', '?']",
         "{'except': None, 'from': {'conds': [], 'table_units': [['table_unit', 0]]}, 'groupBy': [], 'where': [[False, 2, [0, [0, 4, False], None], '\"female\"', None]], 'limit': None, 'union': None, 'intersect': None, 'having': [], 'select': [False, [[3, [0, [0, 0, False], None]]]], 'orderBy': []}"
        ],
        [
         "1",
         "5",
         "Kiến trúc, Xây dựng, Công trình",
         "select tên , quốc tịch , id from kiến trúc sư where giới tính = \"male\" order by tên",
         "['select', 'tên', ',', 'quốc tịch', ',', 'id', 'from', 'kiến trúc sư', 'where', 'giới tính', '=', '\"male\"', 'order', 'by', 'tên']",
         "['select', 'tên', ',', 'quốc tịch', ',', 'id', 'from', 'kiến trúc sư', 'where', 'giới tính', '=', 'value', 'order', 'by', 'tên']",
         "Liệt kê tên , quốc tịch và id của tất cả các kiến trúc sư nam theo thứ tự tên .",
         "['Liệt', 'kê', 'tên', ',', 'quốc', 'tịch', 'và', 'id', 'của', 'tất', 'cả', 'các', 'kiến', 'trúc', 'sư', 'nam', 'theo', 'thứ', 'tự', 'tên', '.']",
         "{'except': None, 'from': {'conds': [], 'table_units': [['table_unit', 0]]}, 'groupBy': [], 'where': [[False, 2, [0, [0, 4, False], None], '\"male\"', None]], 'limit': None, 'union': None, 'intersect': None, 'having': [], 'select': [False, [[0, [0, [0, 2, False], None]], [0, [0, [0, 3, False], None]], [0, [0, [0, 1, False], None]]]], 'orderBy': ['asc', [[0, [0, 2, False], None]]]}"
        ],
        [
         "2",
         "5",
         "Kiến trúc, Xây dựng, Công trình",
         "select max ( t1.chiều dài theo mét ) , t2.tên from cầu as t1 join kiến trúc sư as t2 on t1.id kiến trúc sư = t2.id",
         "['select', 'max', '(', 't1.chiều dài theo mét', ')', ',', 't2.tên', 'from', 'cầu', 'as', 't1', 'join', 'kiến trúc sư', 'as', 't2', 'on', 't1.id kiến trúc sư', '=', 't2.id']",
         "['select', 'max', '(', 't1', '.', 'chiều dài theo mét', ')', ',', 't2', '.', 'tên', 'from', 'cầu', 'as', 't1', 'join', 'kiến trúc sư', 'as', 't2', 'on', 't1', '.', 'id kiến trúc sư', '=', 't2', '.', 'id']",
         "Cho biết tên của người kiến trúc sư đã tạo ra cây cầu dài nhất cũng như là chiều dài tính bằng mét của cây cầu này .",
         "['Cho', 'biết', 'tên', 'của', 'người', 'kiến', 'trúc', 'sư', 'đã', 'tạo', 'ra', 'cây', 'cầu', 'dài', 'nhất', 'cũng', 'như', 'là', 'chiều', 'dài', 'tính', 'bằng', 'mét', 'của', 'cây', 'cầu', 'này', '.']",
         "{'except': None, 'from': {'conds': [[False, 2, [0, [0, 5, False], None], [0, 1, False], None]], 'table_units': [['table_unit', 1], ['table_unit', 0]]}, 'groupBy': [], 'where': [], 'limit': None, 'union': None, 'intersect': None, 'having': [], 'select': [False, [[1, [0, [0, 9, False], None]], [0, [0, [0, 2, False], None]]]], 'orderBy': []}"
        ],
        [
         "3",
         "5",
         "Kiến trúc, Xây dựng, Công trình",
         "select avg ( chiều dài theo feet ) from cầu",
         "['select', 'avg', '(', 'chiều dài theo feet', ')', 'from', 'cầu']",
         "['select', 'avg', '(', 'chiều dài theo feet', ')', 'from', 'cầu']",
         "Cho biết chiều dài trung bình tính theo feet của tất cả các cây cầu .",
         "['Cho', 'biết', 'chiều', 'dài', 'trung', 'bình', 'tính', 'theo', 'feet', 'của', 'tất', 'cả', 'các', 'cây', 'cầu', '.']",
         "{'except': None, 'from': {'conds': [], 'table_units': [['table_unit', 1]]}, 'groupBy': [], 'where': [], 'limit': None, 'union': None, 'intersect': None, 'having': [], 'select': [False, [[5, [0, [0, 10, False], None]]]], 'orderBy': []}"
        ],
        [
         "4",
         "5",
         "Kiến trúc, Xây dựng, Công trình",
         "select tên , năm xây dựng from nhà máy where loại = \"Grondzeiler\"",
         "['select', 'tên', ',', 'năm xây dựng', 'from', 'nhà máy', 'where', 'loại', '=', '\"Grondzeiler\"']",
         "['select', 'tên', ',', 'năm xây dựng', 'from', 'nhà máy', 'where', 'loại', '=', 'value']",
         "Cho biết tên và năm xây dựng của các nhà máy thuộc loại ' Grondzeiler ' ?",
         "['Cho', 'biết', 'tên', 'và', 'năm', 'xây', 'dựng', 'của', 'các', 'nhà', 'máy', 'thuộc', 'loại', \"'\", 'Grondzeiler', \"'\", '?']",
         "{'except': None, 'from': {'conds': [], 'table_units': [['table_unit', 2]]}, 'groupBy': [], 'where': [[False, 2, [0, [0, 15, False], None], '\"Grondzeiler\"', None]], 'limit': None, 'union': None, 'intersect': None, 'having': [], 'select': [False, [[0, [0, [0, 14, False], None]], [0, [0, [0, 16, False], None]]]], 'orderBy': []}"
        ],
        [
         "5",
         "5",
         "Kiến trúc, Xây dựng, Công trình",
         "select distinct t1.tên , t1.quốc tịch from kiến trúc sư as t1 join nhà máy as t2 on t1.id = t2.id kiến trúc sư",
         "['select', 'distinct', 't1.tên', ',', 't1.quốc tịch', 'from', 'kiến trúc sư', 'as', 't1', 'join', 'nhà máy', 'as', 't2', 'on', 't1.id', '=', 't2.id kiến trúc sư']",
         "['select', 'distinct', 't1', '.', 'tên', ',', 't1', '.', 'quốc tịch', 'from', 'kiến trúc sư', 'as', 't1', 'join', 'nhà máy', 'as', 't2', 'on', 't1', '.', 'id', '=', 't2', '.', 'id kiến trúc sư']",
         "Cho biết tên và quốc tịch của những kiến trúc sư khác nhau đã từng xây dựng một nhà máy .",
         "['Cho', 'biết', 'tên', 'và', 'quốc', 'tịch', 'của', 'những', 'kiến', 'trúc', 'sư', 'khác', 'nhau', 'đã', 'từng', 'xây', 'dựng', 'một', 'nhà', 'máy', '.']",
         "{'except': None, 'from': {'conds': [[False, 2, [0, [0, 1, False], None], [0, 11, False], None]], 'table_units': [['table_unit', 0], ['table_unit', 2]]}, 'groupBy': [], 'where': [], 'limit': None, 'union': None, 'intersect': None, 'having': [], 'select': [True, [[0, [0, [0, 2, False], None]], [0, [0, [0, 3, False], None]]]], 'orderBy': []}"
        ],
        [
         "6",
         "5",
         "Kiến trúc, Xây dựng, Công trình",
         "select tên from nhà máy where địa điểm != \"Donceel\"",
         "['select', 'tên', 'from', 'nhà máy', 'where', 'địa điểm', '!=', '\"Donceel\"']",
         "['select', 'tên', 'from', 'nhà máy', 'where', 'địa điểm', '!', '=', 'value']",
         "Cho biết tên của các nhà máy không được đặt tại ' Donceel ' .",
         "['Cho', 'biết', 'tên', 'của', 'các', 'nhà', 'máy', 'không', 'được', 'đặt', 'tại', \"'\", 'Donceel', \"'\", '.']",
         "{'except': None, 'from': {'conds': [], 'table_units': [['table_unit', 2]]}, 'groupBy': [], 'where': [[False, 7, [0, [0, 13, False], None], '\"Donceel\"', None]], 'limit': None, 'union': None, 'intersect': None, 'having': [], 'select': [False, [[0, [0, [0, 14, False], None]]]], 'orderBy': []}"
        ],
        [
         "7",
         "5",
         "Kiến trúc, Xây dựng, Công trình",
         "select distinct t1.loại from nhà máy as t1 join kiến trúc sư as t2 on t1.id kiến trúc sư = t2.id where t2.quốc tịch = \"American\" or t2.quốc tịch = \"Canadian\"",
         "['select', 'distinct', 't1.loại', 'from', 'nhà máy', 'as', 't1', 'join', 'kiến trúc sư', 'as', 't2', 'on', 't1.id kiến trúc sư', '=', 't2.id', 'where', 't2.quốc tịch', '=', '\"American\"', 'or', 't2.quốc tịch', '=', '\"Canadian\"']",
         "['select', 'distinct', 't1', '.', 'loại', 'from', 'nhà máy', 'as', 't1', 'join', 'kiến trúc sư', 'as', 't2', 'on', 't1', '.', 'id kiến trúc sư', '=', 't2', '.', 'id', 'where', 't2', '.', 'quốc tịch', '=', 'value', 'or', 't2', '.', 'quốc tịch', '=', 'value']",
         "Cho biết các loại nhà máy khác nhau đã được xây dựng bởi các kiến trúc sư người Mỹ hoặc các kiến trúc sư người Canada .",
         "['Cho', 'biết', 'các', 'loại', 'nhà', 'máy', 'khác', 'nhau', 'đã', 'được', 'xây', 'dựng', 'bởi', 'các', 'kiến', 'trúc', 'sư', 'người', 'Mỹ', 'hoặc', 'các', 'kiến', 'trúc', 'sư', 'người', 'Canada', '.']",
         "{'except': None, 'from': {'conds': [[False, 2, [0, [0, 11, False], None], [0, 1, False], None]], 'table_units': [['table_unit', 2], ['table_unit', 0]]}, 'groupBy': [], 'where': [[False, 2, [0, [0, 3, False], None], '\"American\"', None], 'or', [False, 2, [0, [0, 3, False], None], '\"Canadian\"', None]], 'limit': None, 'union': None, 'intersect': None, 'having': [], 'select': [True, [[0, [0, [0, 15, False], None]]]], 'orderBy': []}"
        ],
        [
         "8",
         "5",
         "Kiến trúc, Xây dựng, Công trình",
         "select t1.id , t1.tên from kiến trúc sư as t1 join cầu as t2 on t1.id = t2.id kiến trúc sư group by t1.id having count ( * ) >= 3",
         "['select', 't1.id', ',', 't1.tên', 'from', 'kiến trúc sư', 'as', 't1', 'join', 'cầu', 'as', 't2', 'on', 't1.id', '=', 't2.id kiến trúc sư', 'group', 'by', 't1.id', 'having', 'count', '(', '*', ')', '>=', '3']",
         "['select', 't1', '.', 'id', ',', 't1', '.', 'tên', 'from', 'kiến trúc sư', 'as', 't1', 'join', 'cầu', 'as', 't2', 'on', 't1', '.', 'id', '=', 't2', '.', 'id kiến trúc sư', 'group', 'by', 't1', '.', 'id', 'having', 'count', '(', '*', ')', '>', '=', 'value']",
         "Cho biết id và tên của các kiến trúc sư đã xây dựng ít nhất 3 cây cầu .",
         "['Cho', 'biết', 'id', 'và', 'tên', 'của', 'các', 'kiến', 'trúc', 'sư', 'đã', 'xây', 'dựng', 'ít', 'nhất', '3', 'cây', 'cầu', '.']",
         "{'except': None, 'from': {'conds': [[False, 2, [0, [0, 1, False], None], [0, 5, False], None]], 'table_units': [['table_unit', 0], ['table_unit', 1]]}, 'groupBy': [[0, 1, False]], 'where': [], 'limit': None, 'union': None, 'intersect': None, 'having': [[False, 5, [0, [3, 0, False], None], 3.0, None]], 'select': [False, [[0, [0, [0, 1, False], None]], [0, [0, [0, 2, False], None]]]], 'orderBy': []}"
        ],
        [
         "9",
         "5",
         "Kiến trúc, Xây dựng, Công trình",
         "select t1.id , t1.tên , t1.quốc tịch from kiến trúc sư as t1 join nhà máy as t2 on t1.id = t2.id kiến trúc sư group by t1.id order by count ( * ) desc limit 1",
         "['select', 't1.id', ',', 't1.tên', ',', 't1.quốc tịch', 'from', 'kiến trúc sư', 'as', 't1', 'join', 'nhà máy', 'as', 't2', 'on', 't1.id', '=', 't2.id kiến trúc sư', 'group', 'by', 't1.id', 'order', 'by', 'count', '(', '*', ')', 'desc', 'limit', '1']",
         "['select', 't1', '.', 'id', ',', 't1', '.', 'tên', ',', 't1', '.', 'quốc tịch', 'from', 'kiến trúc sư', 'as', 't1', 'join', 'nhà máy', 'as', 't2', 'on', 't1', '.', 'id', '=', 't2', '.', 'id kiến trúc sư', 'group', 'by', 't1', '.', 'id', 'order', 'by', 'count', '(', '*', ')', 'desc', 'limit', 'value']",
         "Cho biết id , tên và quốc tịch của kiến trúc sư đã xây dựng nhiều nhà máy nhất .",
         "['Cho', 'biết', 'id', ',', 'tên', 'và', 'quốc', 'tịch', 'của', 'kiến', 'trúc', 'sư', 'đã', 'xây', 'dựng', 'nhiều', 'nhà', 'máy', 'nhất', '.']",
         "{'except': None, 'from': {'conds': [[False, 2, [0, [0, 1, False], None], [0, 11, False], None]], 'table_units': [['table_unit', 0], ['table_unit', 2]]}, 'groupBy': [[0, 1, False]], 'where': [], 'limit': 1, 'union': None, 'intersect': None, 'having': [], 'select': [False, [[0, [0, [0, 1, False], None]], [0, [0, [0, 2, False], None]], [0, [0, [0, 3, False], None]]]], 'orderBy': ['desc', [[0, [3, 0, False], None]]]}"
        ],
        [
         "10",
         "5",
         "Kiến trúc, Xây dựng, Công trình",
         "select t1.id , t1.tên , t1.giới tính from kiến trúc sư as t1 join cầu as t2 on t1.id = t2.id kiến trúc sư group by t1.id having count ( * ) = 2 union select t1.id , t1.tên , t1.giới tính from kiến trúc sư as t1 join nhà máy as t2 on t1.id = t2.id kiến trúc sư group by t1.id having count ( * ) = 1",
         "['select', 't1.id', ',', 't1.tên', ',', 't1.giới tính', 'from', 'kiến trúc sư', 'as', 't1', 'join', 'cầu', 'as', 't2', 'on', 't1.id', '=', 't2.id kiến trúc sư', 'group', 'by', 't1.id', 'having', 'count', '(', '*', ')', '=', '2', 'union', 'select', 't1.id', ',', 't1.tên', ',', 't1.giới tính', 'from', 'kiến trúc sư', 'as', 't1', 'join', 'nhà máy', 'as', 't2', 'on', 't1.id', '=', 't2.id kiến trúc sư', 'group', 'by', 't1.id', 'having', 'count', '(', '*', ')', '=', '1']",
         "['select', 't1', '.', 'id', ',', 't1', '.', 'tên', ',', 't1', '.', 'giới tính', 'from', 'kiến trúc sư', 'as', 't1', 'join', 'cầu', 'as', 't2', 'on', 't1', '.', 'id', '=', 't2', '.', 'id kiến trúc sư', 'group', 'by', 't1', '.', 'id', 'having', 'count', '(', '*', ')', '=', 'value', 'union', 'select', 't1', '.', 'id', ',', 't1', '.', 'tên', ',', 't1', '.', 'giới tính', 'from', 'kiến trúc sư', 'as', 't1', 'join', 'nhà máy', 'as', 't2', 'on', 't1', '.', 'id', '=', 't2', '.', 'id kiến trúc sư', 'group', 'by', 't1', '.', 'id', 'having', 'count', '(', '*', ')', '=', 'value']",
         "Cho biết id , tên và giới tính của các kiến trúc sư đã xây dựng hai cây cầu hoặc một nhà máy .",
         "['Cho', 'biết', 'id', ',', 'tên', 'và', 'giới', 'tính', 'của', 'các', 'kiến', 'trúc', 'sư', 'đã', 'xây', 'dựng', 'hai', 'cây', 'cầu', 'hoặc', 'một', 'nhà', 'máy', '.']",
         "{'except': None, 'from': {'conds': [[False, 2, [0, [0, 1, False], None], [0, 11, False], None]], 'table_units': [['table_unit', 0], ['table_unit', 1]]}, 'groupBy': [[0, 1, False]], 'where': [], 'limit': None, 'union': {'except': None, 'from': {'conds': [[False, 2, [0, [0, 1, False], None], [0, 11, False], None]], 'table_units': [['table_unit', 0], ['table_unit', 2]]}, 'groupBy': [[0, 1, False]], 'where': [], 'limit': None, 'union': None, 'intersect': None, 'having': [[False, 2, [0, [3, 0, False], None], 1.0, None]], 'select': [False, [[0, [0, [0, 1, False], None]], [0, [0, [0, 2, False], None]], [0, [0, [0, 4, False], None]]]], 'orderBy': []}, 'intersect': None, 'having': [[False, 2, [0, [3, 0, False], None], 2.0, None]], 'select': [False, [[0, [0, [0, 1, False], None]], [0, [0, [0, 2, False], None]], [0, [0, [0, 4, False], None]]]], 'orderBy': []}"
        ],
        [
         "11",
         "5",
         "Kiến trúc, Xây dựng, Công trình",
         "select địa điểm from cầu where tên = \"Kolob Arch\" or tên = \"Rainbow Bridge\"",
         "['select', 'địa điểm', 'from', 'cầu', 'where', 'tên', '=', '\"Kolob Arch\"', 'or', 'tên', '=', '\"Rainbow Bridge\"']",
         "['select', 'địa điểm', 'from', 'cầu', 'where', 'tên', '=', 'value', 'or', 'tên', '=', 'value']",
         "Cho biết địa điểm của cây cầu có tên là ' Cổng vòm Kolob ' hoặc cây cầu có tên là ' Cầu cầu vồng ' .",
         "['Cho', 'biết', 'địa', 'điểm', 'của', 'cây', 'cầu', 'có', 'tên', 'là', \"'\", 'Cổng', 'vòm', 'Kolob', \"'\", 'hoặc', 'cây', 'cầu', 'có', 'tên', 'là', \"'\", 'Cầu', 'cầu', 'vồng', \"'\", '.']",
         "{'except': None, 'from': {'conds': [], 'table_units': [['table_unit', 1]]}, 'groupBy': [], 'where': [[False, 2, [0, [0, 7, False], None], '\"Kolob Arch\"', None], 'or', [False, 2, [0, [0, 7, False], None], '\"Rainbow Bridge\"', None]], 'limit': None, 'union': None, 'intersect': None, 'having': [], 'select': [False, [[0, [0, [0, 8, False], None]]]], 'orderBy': []}"
        ],
        [
         "12",
         "5",
         "Kiến trúc, Xây dựng, Công trình",
         "select tên from nhà máy where tên like \"%Moulin%\"",
         "['select', 'tên', 'from', 'nhà máy', 'where', 'tên', 'like', '\"%Moulin%\"']",
         "['select', 'tên', 'from', 'nhà máy', 'where', 'tên', 'like', 'value']",
         "Cho biết tên của nhà máy có chứa từ tiếng Pháp ' Moulin ' trong tên .",
         "['Cho', 'biết', 'tên', 'của', 'nhà', 'máy', 'có', 'chứa', 'từ', 'tiếng', 'Pháp', \"'\", 'Moulin', \"'\", 'trong', 'tên', '.']",
         "{'except': None, 'from': {'conds': [], 'table_units': [['table_unit', 2]]}, 'groupBy': [], 'where': [[False, 9, [0, [0, 14, False], None], '\"%Moulin%\"', None]], 'limit': None, 'union': None, 'intersect': None, 'having': [], 'select': [False, [[0, [0, [0, 14, False], None]]]], 'orderBy': []}"
        ],
        [
         "13",
         "5",
         "Kiến trúc, Xây dựng, Công trình",
         "select distinct t1.tên from nhà máy as t1 join kiến trúc sư as t2 on t1.id kiến trúc sư = t2.id join cầu as t3 on t3.id kiến trúc sư = t2.id where t3.chiều dài theo mét > 80",
         "['select', 'distinct', 't1.tên', 'from', 'nhà máy', 'as', 't1', 'join', 'kiến trúc sư', 'as', 't2', 'on', 't1.id kiến trúc sư', '=', 't2.id', 'join', 'cầu', 'as', 't3', 'on', 't3.id kiến trúc sư', '=', 't2.id', 'where', 't3.chiều dài theo mét', '>', '80']",
         "['select', 'distinct', 't1', '.', 'tên', 'from', 'nhà máy', 'as', 't1', 'join', 'kiến trúc sư', 'as', 't2', 'on', 't1', '.', 'id kiến trúc sư', '=', 't2', '.', 'id', 'join', 'cầu', 'as', 't3', 'on', 't3', '.', 'id kiến trúc sư', '=', 't2', '.', 'id', 'where', 't3', '.', 'chiều dài theo mét', '>', 'value']",
         "Cho biết tên của các nhà máy khác nhau được xây dựng bởi các kiến trúc sư đã từng xây dựng một cây cầu dài hơn 80 mét .",
         "['Cho', 'biết', 'tên', 'của', 'các', 'nhà', 'máy', 'khác', 'nhau', 'được', 'xây', 'dựng', 'bởi', 'các', 'kiến', 'trúc', 'sư', 'đã', 'từng', 'xây', 'dựng', 'một', 'cây', 'cầu', 'dài', 'hơn', '80', 'mét', '.']",
         "{'except': None, 'from': {'conds': [[False, 2, [0, [0, 11, False], None], [0, 1, False], None]], 'table_units': [['table_unit', 2], ['table_unit', 0]]}, 'groupBy': [], 'where': [[False, 3, [0, [0, 9, False], None], 80.0, None]], 'limit': None, 'union': None, 'intersect': None, 'having': [], 'select': [True, [[0, [0, [0, 14, False], None]]]], 'orderBy': []}"
        ],
        [
         "14",
         "5",
         "Kiến trúc, Xây dựng, Công trình",
         "select loại , count ( * ) from nhà máy group by loại order by count ( * ) desc limit 1",
         "['select', 'loại', ',', 'count', '(', '*', ')', 'from', 'nhà máy', 'group', 'by', 'loại', 'order', 'by', 'count', '(', '*', ')', 'desc', 'limit', '1']",
         "['select', 'loại', ',', 'count', '(', '*', ')', 'from', 'nhà máy', 'group', 'by', 'loại', 'order', 'by', 'count', '(', '*', ')', 'desc', 'limit', 'value']",
         "Cho biết loại nhà máy phổ biết nhất và có bao nhiêu nhà máy thuộc loại này ?",
         "['Cho', 'biết', 'loại', 'nhà', 'máy', 'phổ', 'biết', 'nhất', 'và', 'có', 'bao', 'nhiêu', 'nhà', 'máy', 'thuộc', 'loại', 'này', '?']",
         "{'except': None, 'from': {'conds': [], 'table_units': [['table_unit', 2]]}, 'groupBy': [[0, 15, False]], 'where': [], 'limit': 1, 'union': None, 'intersect': None, 'having': [], 'select': [False, [[0, [0, [0, 15, False], None]], [3, [0, [0, 0, False], None]]]], 'orderBy': ['desc', [[0, [3, 0, False], None]]]}"
        ],
        [
         "15",
         "5",
         "Kiến trúc, Xây dựng, Công trình",
         "select count ( * ) from kiến trúc sư where id not in ( select id kiến trúc sư from nhà máy where năm xây dựng < 1850 )",
         "['select', 'count', '(', '*', ')', 'from', 'kiến trúc sư', 'where', 'id', 'not', 'in', '(', 'select', 'id kiến trúc sư', 'from', 'nhà máy', 'where', 'năm xây dựng', '<', '1850', ')']",
         "['select', 'count', '(', '*', ')', 'from', 'kiến trúc sư', 'where', 'id', 'not', 'in', '(', 'select', 'id kiến trúc sư', 'from', 'nhà máy', 'where', 'năm xây dựng', '<', 'value', ')']",
         "Có bao nhiêu kiến ​​trúc sư chưa từng xây dựng một nhà máy nào trước năm 1850 ?",
         "['Có', 'bao', 'nhiêu', 'kiến', '\\u200b\\u200btrúc', 'sư', 'chưa', 'từng', 'xây', 'dựng', 'một', 'nhà', 'máy', 'nào', 'trước', 'năm', '1850', '?']",
         "{'except': None, 'from': {'conds': [], 'table_units': [['table_unit', 0]]}, 'groupBy': [], 'where': [[True, 8, [0, [0, 1, False], None], {'except': None, 'from': {'conds': [], 'table_units': [['table_unit', 2]]}, 'groupBy': [], 'where': [[False, 4, [0, [0, 16, False], None], 1850.0, None]], 'limit': None, 'union': None, 'intersect': None, 'having': [], 'select': [False, [[0, [0, [0, 11, False], None]]]], 'orderBy': []}, None]], 'limit': None, 'union': None, 'intersect': None, 'having': [], 'select': [False, [[3, [0, [0, 0, False], None]]]], 'orderBy': []}"
        ],
        [
         "16",
         "5",
         "Kiến trúc, Xây dựng, Công trình",
         "select t1.tên from cầu as t1 join kiến trúc sư as t2 on t1.id kiến trúc sư = t2.id where t2.quốc tịch = \"American\" order by t1.chiều dài theo feet",
         "['select', 't1.tên', 'from', 'cầu', 'as', 't1', 'join', 'kiến trúc sư', 'as', 't2', 'on', 't1.id kiến trúc sư', '=', 't2.id', 'where', 't2.quốc tịch', '=', '\"American\"', 'order', 'by', 't1.chiều dài theo feet']",
         "['select', 't1', '.', 'tên', 'from', 'cầu', 'as', 't1', 'join', 'kiến trúc sư', 'as', 't2', 'on', 't1', '.', 'id kiến trúc sư', '=', 't2', '.', 'id', 'where', 't2', '.', 'quốc tịch', '=', 'value', 'order', 'by', 't1', '.', 'chiều dài theo feet']",
         "Hiển thị tên của tất cả những cây cầu được thiết kế bởi các kiến ​​trúc sư người Mỹ và sắp xếp kết quả theo thứ tự chiều dài chân cầu .",
         "['Hiển', 'thị', 'tên', 'của', 'tất', 'cả', 'những', 'cây', 'cầu', 'được', 'thiết', 'kế', 'bởi', 'các', 'kiến', '\\u200b\\u200btrúc', 'sư', 'người', 'Mỹ', 'và', 'sắp', 'xếp', 'kết', 'quả', 'theo', 'thứ', 'tự', 'chiều', 'dài', 'chân', 'cầu', '.']",
         "{'except': None, 'from': {'conds': [[False, 2, [0, [0, 5, False], None], [0, 1, False], None]], 'table_units': [['table_unit', 1], ['table_unit', 0]]}, 'groupBy': [], 'where': [[False, 2, [0, [0, 3, False], None], '\"American\"', None]], 'limit': None, 'union': None, 'intersect': None, 'having': [], 'select': [False, [[0, [0, [0, 7, False], None]]]], 'orderBy': ['asc', [[0, [0, 10, False], None]]]}"
        ],
        [
         "17",
         "17",
         "Rạp chiếu phim, Điện ảnh, Phim trường",
         "select địa điểm from rạp chiếu phim except select địa điểm from rạp chiếu phim where sức chứa > 800",
         "['select', 'địa điểm', 'from', 'rạp chiếu phim', 'except', 'select', 'địa điểm', 'from', 'rạp chiếu phim', 'where', 'sức chứa', '>', '800']",
         "['select', 'địa điểm', 'from', 'rạp chiếu phim', 'except', 'select', 'địa điểm', 'from', 'rạp chiếu phim', 'where', 'sức chứa', '>', 'value']",
         "Hiển thị tất cả các địa điểm không có rạp chiếu phim với sức chứa trên 800 .",
         "['Hiển', 'thị', 'tất', 'cả', 'các', 'địa', 'điểm', 'không', 'có', 'rạp', 'chiếu', 'phim', 'với', 'sức', 'chứa', 'trên', '800', '.']",
         "{'except': {'except': None, 'from': {'conds': [], 'table_units': [['table_unit', 1]]}, 'groupBy': [], 'where': [[False, 3, [0, [0, 11, False], None], 800.0, None]], 'limit': None, 'union': None, 'intersect': None, 'having': [], 'select': [False, [[0, [0, [0, 12, False], None]]]], 'orderBy': []}, 'from': {'conds': [], 'table_units': [['table_unit', 1]]}, 'groupBy': [], 'where': [], 'limit': None, 'union': None, 'intersect': None, 'having': [], 'select': [False, [[0, [0, [0, 12, False], None]]]], 'orderBy': []}"
        ],
        [
         "18",
         "17",
         "Rạp chiếu phim, Điện ảnh, Phim trường",
         "select địa điểm from rạp chiếu phim where năm mở cửa = 2010 intersect select địa điểm from rạp chiếu phim where năm mở cửa = 2011",
         "['select', 'địa điểm', 'from', 'rạp chiếu phim', 'where', 'năm mở cửa', '=', '2010', 'intersect', 'select', 'địa điểm', 'from', 'rạp chiếu phim', 'where', 'năm mở cửa', '=', '2011']",
         "['select', 'địa điểm', 'from', 'rạp chiếu phim', 'where', 'năm mở cửa', '=', 'value', 'intersect', 'select', 'địa điểm', 'from', 'rạp chiếu phim', 'where', 'năm mở cửa', '=', 'value']",
         "Hiển thị tất cả các địa điểm nơi có một số rạp chiếu phim đã được mở vào năm 2010 và năm 2011 .",
         "['Hiển', 'thị', 'tất', 'cả', 'các', 'địa', 'điểm', 'nơi', 'có', 'một', 'số', 'rạp', 'chiếu', 'phim', 'đã', 'được', 'mở', 'vào', 'năm', '2010', 'và', 'năm', '2011', '.']",
         "{'except': None, 'from': {'conds': [], 'table_units': [['table_unit', 1]]}, 'groupBy': [], 'where': [[False, 2, [0, [0, 10, False], None], 2010.0, None]], 'limit': None, 'union': None, 'intersect': {'except': None, 'from': {'conds': [], 'table_units': [['table_unit', 1]]}, 'groupBy': [], 'where': [[False, 2, [0, [0, 10, False], None], 2011.0, None]], 'limit': None, 'union': None, 'intersect': None, 'having': [], 'select': [False, [[0, [0, [0, 12, False], None]]]], 'orderBy': []}, 'having': [], 'select': [False, [[0, [0, [0, 12, False], None]]]], 'orderBy': []}"
        ],
        [
         "19",
         "17",
         "Rạp chiếu phim, Điện ảnh, Phim trường",
         "select count ( * ) from rạp chiếu phim",
         "['select', 'count', '(', '*', ')', 'from', 'rạp chiếu phim']",
         "['select', 'count', '(', '*', ')', 'from', 'rạp chiếu phim']",
         "Có bao nhiêu rạp chiếu phim ?",
         "['Có', 'bao', 'nhiêu', 'rạp', 'chiếu', 'phim', '?']",
         "{'except': None, 'from': {'conds': [], 'table_units': [['table_unit', 1]]}, 'groupBy': [], 'where': [], 'limit': None, 'union': None, 'intersect': None, 'having': [], 'select': [False, [[3, [0, [0, 0, False], None]]]], 'orderBy': []}"
        ],
        [
         "20",
         "17",
         "Rạp chiếu phim, Điện ảnh, Phim trường",
         "select count ( * ) from rạp chiếu phim",
         "['select', 'count', '(', '*', ')', 'from', 'rạp chiếu phim']",
         "['select', 'count', '(', '*', ')', 'from', 'rạp chiếu phim']",
         "Đếm số lượng rạp chiếu phim .",
         "['Đếm', 'số', 'lượng', 'rạp', 'chiếu', 'phim', '.']",
         "{'except': None, 'from': {'conds': [], 'table_units': [['table_unit', 1]]}, 'groupBy': [], 'where': [], 'limit': None, 'union': None, 'intersect': None, 'having': [], 'select': [False, [[3, [0, [0, 0, False], None]]]], 'orderBy': []}"
        ],
        [
         "21",
         "17",
         "Rạp chiếu phim, Điện ảnh, Phim trường",
         "select tên , năm mở cửa , sức chứa from rạp chiếu phim",
         "['select', 'tên', ',', 'năm mở cửa', ',', 'sức chứa', 'from', 'rạp chiếu phim']",
         "['select', 'tên', ',', 'năm mở cửa', ',', 'sức chứa', 'from', 'rạp chiếu phim']",
         "Hiển thị tên , năm mở cửa , và sức chứa của từng rạp chiếu phim .",
         "['Hiển', 'thị', 'tên', ',', 'năm', 'mở', 'cửa', ',', 'và', 'sức', 'chứa', 'của', 'từng', 'rạp', 'chiếu', 'phim', '.']",
         "{'except': None, 'from': {'conds': [], 'table_units': [['table_unit', 1]]}, 'groupBy': [], 'where': [], 'limit': None, 'union': None, 'intersect': None, 'having': [], 'select': [False, [[0, [0, [0, 9, False], None]], [0, [0, [0, 10, False], None]], [0, [0, [0, 11, False], None]]]], 'orderBy': []}"
        ],
        [
         "22",
         "17",
         "Rạp chiếu phim, Điện ảnh, Phim trường",
         "select tên , địa điểm from rạp chiếu phim where sức chứa > ( select avg ( sức chứa ) from rạp chiếu phim )",
         "['select', 'tên', ',', 'địa điểm', 'from', 'rạp chiếu phim', 'where', 'sức chứa', '>', '(', 'select', 'avg', '(', 'sức chứa', ')', 'from', 'rạp chiếu phim', ')']",
         "['select', 'tên', ',', 'địa điểm', 'from', 'rạp chiếu phim', 'where', 'sức chứa', '>', '(', 'select', 'avg', '(', 'sức chứa', ')', 'from', 'rạp chiếu phim', ')']",
         "Hiển thị tên và địa điểm của các rạp chiếu phim có sức chứa trên mức trung bình .",
         "['Hiển', 'thị', 'tên', 'và', 'địa', 'điểm', 'của', 'các', 'rạp', 'chiếu', 'phim', 'có', 'sức', 'chứa', 'trên', 'mức', 'trung', 'bình', '.']",
         "{'except': None, 'from': {'conds': [], 'table_units': [['table_unit', 1]]}, 'groupBy': [], 'where': [[False, 3, [0, [0, 11, False], None], {'except': None, 'from': {'conds': [], 'table_units': [['table_unit', 1]]}, 'groupBy': [], 'where': [], 'limit': None, 'union': None, 'intersect': None, 'having': [], 'select': [False, [[5, [0, [0, 11, False], None]]]], 'orderBy': []}, None]], 'limit': None, 'union': None, 'intersect': None, 'having': [], 'select': [False, [[0, [0, [0, 9, False], None]], [0, [0, [0, 12, False], None]]]], 'orderBy': []}"
        ],
        [
         "23",
         "17",
         "Rạp chiếu phim, Điện ảnh, Phim trường",
         "select distinct địa điểm from rạp chiếu phim",
         "['select', 'distinct', 'địa điểm', 'from', 'rạp chiếu phim']",
         "['select', 'distinct', 'địa điểm', 'from', 'rạp chiếu phim']",
         "Những địa điểm có một vài rạp chiếu phim là những địa điểm nào ?",
         "['Những', 'địa', 'điểm', 'có', 'một', 'vài', 'rạp', 'chiếu', 'phim', 'là', 'những', 'địa', 'điểm', 'nào', '?']",
         "{'except': None, 'from': {'conds': [], 'table_units': [['table_unit', 1]]}, 'groupBy': [], 'where': [], 'limit': None, 'union': None, 'intersect': None, 'having': [], 'select': [True, [[0, [0, [0, 12, False], None]]]], 'orderBy': []}"
        ],
        [
         "24",
         "17",
         "Rạp chiếu phim, Điện ảnh, Phim trường",
         "select distinct địa điểm from rạp chiếu phim",
         "['select', 'distinct', 'địa điểm', 'from', 'rạp chiếu phim']",
         "['select', 'distinct', 'địa điểm', 'from', 'rạp chiếu phim']",
         "Tìm những địa điểm khác nhau nơi có một vài rạp chiếu phim .",
         "['Tìm', 'những', 'địa', 'điểm', 'khác', 'nhau', 'nơi', 'có', 'một', 'vài', 'rạp', 'chiếu', 'phim', '.']",
         "{'except': None, 'from': {'conds': [], 'table_units': [['table_unit', 1]]}, 'groupBy': [], 'where': [], 'limit': None, 'union': None, 'intersect': None, 'having': [], 'select': [True, [[0, [0, [0, 12, False], None]]]], 'orderBy': []}"
        ],
        [
         "25",
         "17",
         "Rạp chiếu phim, Điện ảnh, Phim trường",
         "select tên , năm mở cửa from rạp chiếu phim order by năm mở cửa desc",
         "['select', 'tên', ',', 'năm mở cửa', 'from', 'rạp chiếu phim', 'order', 'by', 'năm mở cửa', 'desc']",
         "['select', 'tên', ',', 'năm mở cửa', 'from', 'rạp chiếu phim', 'order', 'by', 'năm mở cửa', 'desc']",
         "Hiển thị tên của tất cả các rạp chiếu phim và năm mở cửa của từng rạp theo thứ tự giảm dần về năm mở cửa .",
         "['Hiển', 'thị', 'tên', 'của', 'tất', 'cả', 'các', 'rạp', 'chiếu', 'phim', 'và', 'năm', 'mở', 'cửa', 'của', 'từng', 'rạp', 'theo', 'thứ', 'tự', 'giảm', 'dần', 'về', 'năm', 'mở', 'cửa', '.']",
         "{'except': None, 'from': {'conds': [], 'table_units': [['table_unit', 1]]}, 'groupBy': [], 'where': [], 'limit': None, 'union': None, 'intersect': None, 'having': [], 'select': [False, [[0, [0, [0, 9, False], None]], [0, [0, [0, 10, False], None]]]], 'orderBy': ['desc', [[0, [0, 10, False], None]]]}"
        ],
        [
         "26",
         "17",
         "Rạp chiếu phim, Điện ảnh, Phim trường",
         "select tên , địa điểm from rạp chiếu phim order by sức chứa desc limit 1",
         "['select', 'tên', ',', 'địa điểm', 'from', 'rạp chiếu phim', 'order', 'by', 'sức chứa', 'desc', 'limit', '1']",
         "['select', 'tên', ',', 'địa điểm', 'from', 'rạp chiếu phim', 'order', 'by', 'sức chứa', 'desc', 'limit', 'value']",
         "Cho biết tên và địa điểm của rạp chiếu phim có sức chứa lớn nhất .",
         "['Cho', 'biết', 'tên', 'và', 'địa', 'điểm', 'của', 'rạp', 'chiếu', 'phim', 'có', 'sức', 'chứa', 'lớn', 'nhất', '.']",
         "{'except': None, 'from': {'conds': [], 'table_units': [['table_unit', 1]]}, 'groupBy': [], 'where': [], 'limit': 1, 'union': None, 'intersect': None, 'having': [], 'select': [False, [[0, [0, [0, 9, False], None]], [0, [0, [0, 12, False], None]]]], 'orderBy': ['desc', [[0, [0, 11, False], None]]]}"
        ],
        [
         "27",
         "17",
         "Rạp chiếu phim, Điện ảnh, Phim trường",
         "select avg ( sức chứa ) , min ( sức chứa ) , max ( sức chứa ) from rạp chiếu phim where năm mở cửa >= 2011",
         "['select', 'avg', '(', 'sức chứa', ')', ',', 'min', '(', 'sức chứa', ')', ',', 'max', '(', 'sức chứa', ')', 'from', 'rạp chiếu phim', 'where', 'năm mở cửa', '>=', '2011']",
         "['select', 'avg', '(', 'sức chứa', ')', ',', 'min', '(', 'sức chứa', ')', ',', 'max', '(', 'sức chứa', ')', 'from', 'rạp chiếu phim', 'where', 'năm mở cửa', '>', '=', 'value']",
         "Hiển thị sức chứa trung bình , sức chứa tối thiểu và sức chứa tối đa của tất cả các rạp chiếu phim được mở từ sau năm 2011 .",
         "['Hiển', 'thị', 'sức', 'chứa', 'trung', 'bình', ',', 'sức', 'chứa', 'tối', 'thiểu', 'và', 'sức', 'chứa', 'tối', 'đa', 'của', 'tất', 'cả', 'các', 'rạp', 'chiếu', 'phim', 'được', 'mở', 'từ', 'sau', 'năm', '2011', '.']",
         "{'except': None, 'from': {'conds': [], 'table_units': [['table_unit', 1]]}, 'groupBy': [], 'where': [[False, 5, [0, [0, 10, False], None], 2011.0, None]], 'limit': None, 'union': None, 'intersect': None, 'having': [], 'select': [False, [[5, [0, [0, 11, False], None]], [2, [0, [0, 11, False], None]], [1, [0, [0, 11, False], None]]]], 'orderBy': []}"
        ],
        [
         "28",
         "17",
         "Rạp chiếu phim, Điện ảnh, Phim trường",
         "select địa điểm , count ( * ) from rạp chiếu phim group by địa điểm",
         "['select', 'địa điểm', ',', 'count', '(', '*', ')', 'from', 'rạp chiếu phim', 'group', 'by', 'địa điểm']",
         "['select', 'địa điểm', ',', 'count', '(', '*', ')', 'from', 'rạp chiếu phim', 'group', 'by', 'địa điểm']",
         "Hiển thị tất cả các địa điểm và số lượng rạp chiếu phim ở mỗi địa điểm .",
         "['Hiển', 'thị', 'tất', 'cả', 'các', 'địa', 'điểm', 'và', 'số', 'lượng', 'rạp', 'chiếu', 'phim', 'ở', 'mỗi', 'địa', 'điểm', '.']",
         "{'except': None, 'from': {'conds': [], 'table_units': [['table_unit', 1]]}, 'groupBy': [[0, 12, False]], 'where': [], 'limit': None, 'union': None, 'intersect': None, 'having': [], 'select': [False, [[0, [0, [0, 12, False], None]], [3, [0, [0, 0, False], None]]]], 'orderBy': []}"
        ],
        [
         "29",
         "17",
         "Rạp chiếu phim, Điện ảnh, Phim trường",
         "select địa điểm from rạp chiếu phim where năm mở cửa >= 2010 group by địa điểm order by count ( * ) desc limit 1",
         "['select', 'địa điểm', 'from', 'rạp chiếu phim', 'where', 'năm mở cửa', '>=', '2010', 'group', 'by', 'địa điểm', 'order', 'by', 'count', '(', '*', ')', 'desc', 'limit', '1']",
         "['select', 'địa điểm', 'from', 'rạp chiếu phim', 'where', 'năm mở cửa', '>', '=', 'value', 'group', 'by', 'địa điểm', 'order', 'by', 'count', '(', '*', ')', 'desc', 'limit', 'value']",
         "Địa điểm có nhiều rạp chiếu phim nhất được mở trong năm 2010 hoặc sau đó nằm ở đâu ?",
         "['Địa', 'điểm', 'có', 'nhiều', 'rạp', 'chiếu', 'phim', 'nhất', 'được', 'mở', 'trong', 'năm', '2010', 'hoặc', 'sau', 'đó', 'nằm', 'ở', 'đâu', '?']",
         "{'except': None, 'from': {'conds': [], 'table_units': [['table_unit', 1]]}, 'groupBy': [[0, 12, False]], 'where': [[False, 5, [0, [0, 10, False], None], 2010.0, None]], 'limit': 1, 'union': None, 'intersect': None, 'having': [], 'select': [False, [[0, [0, [0, 12, False], None]]]], 'orderBy': ['desc', [[0, [3, 0, False], None]]]}"
        ],
        [
         "30",
         "17",
         "Rạp chiếu phim, Điện ảnh, Phim trường",
         "select địa điểm from rạp chiếu phim where sức chứa > 300 group by địa điểm having count ( * ) >= 2",
         "['select', 'địa điểm', 'from', 'rạp chiếu phim', 'where', 'sức chứa', '>', '300', 'group', 'by', 'địa điểm', 'having', 'count', '(', '*', ')', '>=', '2']",
         "['select', 'địa điểm', 'from', 'rạp chiếu phim', 'where', 'sức chứa', '>', 'value', 'group', 'by', 'địa điểm', 'having', 'count', '(', '*', ')', '>', '=', 'value']",
         "Hiển thị tất cả các địa điểm có ít nhất hai rạp chiếu phim với sức chứa trên 300 .",
         "['Hiển', 'thị', 'tất', 'cả', 'các', 'địa', 'điểm', 'có', 'ít', 'nhất', 'hai', 'rạp', 'chiếu', 'phim', 'với', 'sức', 'chứa', 'trên', '300', '.']",
         "{'except': None, 'from': {'conds': [], 'table_units': [['table_unit', 1]]}, 'groupBy': [[0, 12, False]], 'where': [[False, 3, [0, [0, 11, False], None], 300.0, None]], 'limit': None, 'union': None, 'intersect': None, 'having': [[False, 5, [0, [3, 0, False], None], 2.0, None]], 'select': [False, [[0, [0, [0, 12, False], None]]]], 'orderBy': []}"
        ],
        [
         "31",
         "17",
         "Rạp chiếu phim, Điện ảnh, Phim trường",
         "select địa điểm from rạp chiếu phim where sức chứa > 300 group by địa điểm having count ( * ) >= 2",
         "['select', 'địa điểm', 'from', 'rạp chiếu phim', 'where', 'sức chứa', '>', '300', 'group', 'by', 'địa điểm', 'having', 'count', '(', '*', ')', '>=', '2']",
         "['select', 'địa điểm', 'from', 'rạp chiếu phim', 'where', 'sức chứa', '>', 'value', 'group', 'by', 'địa điểm', 'having', 'count', '(', '*', ')', '>', '=', 'value']",
         "Những địa điểm nào có từ 2 rạp chiếu phim với sức chứa lớn hơn 300 ?",
         "['Những', 'địa', 'điểm', 'nào', 'có', 'từ', '2', 'rạp', 'chiếu', 'phim', 'với', 'sức', 'chứa', 'lớn', 'hơn', '300', '?']",
         "{'except': None, 'from': {'conds': [], 'table_units': [['table_unit', 1]]}, 'groupBy': [[0, 12, False]], 'where': [[False, 3, [0, [0, 11, False], None], 300.0, None]], 'limit': None, 'union': None, 'intersect': None, 'having': [[False, 5, [0, [3, 0, False], None], 2.0, None]], 'select': [False, [[0, [0, [0, 12, False], None]]]], 'orderBy': []}"
        ],
        [
         "32",
         "17",
         "Rạp chiếu phim, Điện ảnh, Phim trường",
         "select tiêu đề , được đạo diễn bởi from phim",
         "['select', 'tiêu đề', ',', 'được đạo diễn bởi', 'from', 'phim']",
         "['select', 'tiêu đề', ',', 'được đạo diễn bởi', 'from', 'phim']",
         "Hiển thị tiêu đề và đạo diễn của tất cả các bộ phim .",
         "['Hiển', 'thị', 'tiêu', 'đề', 'và', 'đạo', 'diễn', 'của', 'tất', 'cả', 'các', 'bộ', 'phim', '.']",
         "{'except': None, 'from': {'conds': [], 'table_units': [['table_unit', 0]]}, 'groupBy': [], 'where': [], 'limit': None, 'union': None, 'intersect': None, 'having': [], 'select': [False, [[0, [0, [0, 4, False], None]], [0, [0, [0, 5, False], None]]]], 'orderBy': []}"
        ],
        [
         "33",
         "17",
         "Rạp chiếu phim, Điện ảnh, Phim trường",
         "select tiêu đề , được đạo diễn bởi from phim",
         "['select', 'tiêu đề', ',', 'được đạo diễn bởi', 'from', 'phim']",
         "['select', 'tiêu đề', ',', 'được đạo diễn bởi', 'from', 'phim']",
         "Tiêu đề và đạo diễn của từng bộ phim ?",
         "['Tiêu', 'đề', 'và', 'đạo', 'diễn', 'của', 'từng', 'bộ', 'phim', '?']",
         "{'except': None, 'from': {'conds': [], 'table_units': [['table_unit', 0]]}, 'groupBy': [], 'where': [], 'limit': None, 'union': None, 'intersect': None, 'having': [], 'select': [False, [[0, [0, [0, 4, False], None]], [0, [0, [0, 5, False], None]]]], 'orderBy': []}"
        ],
        [
         "34",
         "17",
         "Rạp chiếu phim, Điện ảnh, Phim trường",
         "select distinct được đạo diễn bởi from phim",
         "['select', 'distinct', 'được đạo diễn bởi', 'from', 'phim']",
         "['select', 'distinct', 'được đạo diễn bởi', 'from', 'phim']",
         "Hiển thị tất cả các đạo diễn .",
         "['Hiển', 'thị', 'tất', 'cả', 'các', 'đạo', 'diễn', '.']",
         "{'except': None, 'from': {'conds': [], 'table_units': [['table_unit', 0]]}, 'groupBy': [], 'where': [], 'limit': None, 'union': None, 'intersect': None, 'having': [], 'select': [True, [[0, [0, [0, 5, False], None]]]], 'orderBy': []}"
        ],
        [
         "35",
         "17",
         "Rạp chiếu phim, Điện ảnh, Phim trường",
         "select distinct được đạo diễn bởi from phim",
         "['select', 'distinct', 'được đạo diễn bởi', 'from', 'phim']",
         "['select', 'distinct', 'được đạo diễn bởi', 'from', 'phim']",
         "Liệt kê tất cả các đạo diễn .",
         "['Liệt', 'kê', 'tất', 'cả', 'các', 'đạo', 'diễn', '.']",
         "{'except': None, 'from': {'conds': [], 'table_units': [['table_unit', 0]]}, 'groupBy': [], 'where': [], 'limit': None, 'union': None, 'intersect': None, 'having': [], 'select': [True, [[0, [0, [0, 5, False], None]]]], 'orderBy': []}"
        ],
        [
         "36",
         "17",
         "Rạp chiếu phim, Điện ảnh, Phim trường",
         "select được đạo diễn bởi , count ( * ) from phim group by được đạo diễn bởi",
         "['select', 'được đạo diễn bởi', ',', 'count', '(', '*', ')', 'from', 'phim', 'group', 'by', 'được đạo diễn bởi']",
         "['select', 'được đạo diễn bởi', ',', 'count', '(', '*', ')', 'from', 'phim', 'group', 'by', 'được đạo diễn bởi']",
         "Liệt kê tất cả các đạo diễn cùng với số lượng phim của từng người .",
         "['Liệt', 'kê', 'tất', 'cả', 'các', 'đạo', 'diễn', 'cùng', 'với', 'số', 'lượng', 'phim', 'của', 'từng', 'người', '.']",
         "{'except': None, 'from': {'conds': [], 'table_units': [['table_unit', 0]]}, 'groupBy': [[0, 5, False]], 'where': [], 'limit': None, 'union': None, 'intersect': None, 'having': [], 'select': [False, [[0, [0, [0, 5, False], None]], [3, [0, [0, 0, False], None]]]], 'orderBy': []}"
        ],
        [
         "37",
         "17",
         "Rạp chiếu phim, Điện ảnh, Phim trường",
         "select t2.tên , sum ( t1.số lượng suất chiếu mỗi ngày ) from lịch chiếu phim as t1 join rạp chiếu phim as t2 on t1.id rạp chiếu phim = t2.id rạp chiếu phim group by t1.id rạp chiếu phim",
         "['select', 't2.tên', ',', 'sum', '(', 't1.số lượng suất chiếu mỗi ngày', ')', 'from', 'lịch chiếu phim', 'as', 't1', 'join', 'rạp chiếu phim', 'as', 't2', 'on', 't1.id rạp chiếu phim', '=', 't2.id rạp chiếu phim', 'group', 'by', 't1.id rạp chiếu phim']",
         "['select', 't2', '.', 'tên', ',', 'sum', '(', 't1', '.', 'số lượng suất chiếu mỗi ngày', ')', 'from', 'lịch chiếu phim', 'as', 't1', 'join', 'rạp chiếu phim', 'as', 't2', 'on', 't1', '.', 'id rạp chiếu phim', '=', 't2', '.', 'id rạp chiếu phim', 'group', 'by', 't1', '.', 'id rạp chiếu phim']",
         "Cho biết tổng số suất chiếu mỗi ngày của từng rạp chiếu phim .",
         "['Cho', 'biết', 'tổng', 'số', 'suất', 'chiếu', 'mỗi', 'ngày', 'của', 'từng', 'rạp', 'chiếu', 'phim', '.']",
         "{'except': None, 'from': {'conds': [[False, 2, [0, [0, 13, False], None], [0, 8, False], None]], 'table_units': [['table_unit', 2], ['table_unit', 1]]}, 'groupBy': [[0, 13, False]], 'where': [], 'limit': None, 'union': None, 'intersect': None, 'having': [], 'select': [False, [[0, [0, [0, 9, False], None]], [4, [0, [0, 16, False], None]]]], 'orderBy': []}"
        ],
        [
         "38",
         "17",
         "Rạp chiếu phim, Điện ảnh, Phim trường",
         "select t2.tiêu đề , max ( t1.giá ) from lịch chiếu phim as t1 join phim as t2 on t1.id phim = t2.id phim group by t1.id phim",
         "['select', 't2.tiêu đề', ',', 'max', '(', 't1.giá', ')', 'from', 'lịch chiếu phim', 'as', 't1', 'join', 'phim', 'as', 't2', 'on', 't1.id phim', '=', 't2.id phim', 'group', 'by', 't1.id phim']",
         "['select', 't2', '.', 'tiêu đề', ',', 'max', '(', 't1', '.', 'giá', ')', 'from', 'lịch chiếu phim', 'as', 't1', 'join', 'phim', 'as', 't2', 'on', 't1', '.', 'id phim', '=', 't2', '.', 'id phim', 'group', 'by', 't1', '.', 'id phim']",
         "Cho biết tiêu đề và giá cao nhất của mỗi bộ phim .",
         "['Cho', 'biết', 'tiêu', 'đề', 'và', 'giá', 'cao', 'nhất', 'của', 'mỗi', 'bộ', 'phim', '.']",
         "{'except': None, 'from': {'conds': [[False, 2, [0, [0, 14, False], None], [0, 1, False], None]], 'table_units': [['table_unit', 2], ['table_unit', 0]]}, 'groupBy': [[0, 14, False]], 'where': [], 'limit': None, 'union': None, 'intersect': None, 'having': [], 'select': [False, [[0, [0, [0, 4, False], None]], [1, [0, [0, 17, False], None]]]], 'orderBy': []}"
        ],
        [
         "39",
         "17",
         "Rạp chiếu phim, Điện ảnh, Phim trường",
         "select t2.tiêu đề , max ( t1.giá ) from lịch chiếu phim as t1 join phim as t2 on t1.id phim = t2.id phim group by t1.id phim",
         "['select', 't2.tiêu đề', ',', 'max', '(', 't1.giá', ')', 'from', 'lịch chiếu phim', 'as', 't1', 'join', 'phim', 'as', 't2', 'on', 't1.id phim', '=', 't2.id phim', 'group', 'by', 't1.id phim']",
         "['select', 't2', '.', 'tiêu đề', ',', 'max', '(', 't1', '.', 'giá', ')', 'from', 'lịch chiếu phim', 'as', 't1', 'join', 'phim', 'as', 't2', 'on', 't1', '.', 'id phim', '=', 't2', '.', 'id phim', 'group', 'by', 't1', '.', 'id phim']",
         "Tiêu đề và giá cao nhất của từng bộ phim ?",
         "['Tiêu', 'đề', 'và', 'giá', 'cao', 'nhất', 'của', 'từng', 'bộ', 'phim', '?']",
         "{'except': None, 'from': {'conds': [[False, 2, [0, [0, 14, False], None], [0, 1, False], None]], 'table_units': [['table_unit', 2], ['table_unit', 0]]}, 'groupBy': [[0, 14, False]], 'where': [], 'limit': None, 'union': None, 'intersect': None, 'having': [], 'select': [False, [[0, [0, [0, 4, False], None]], [1, [0, [0, 17, False], None]]]], 'orderBy': []}"
        ],
        [
         "40",
         "17",
         "Rạp chiếu phim, Điện ảnh, Phim trường",
         "select t3.tên , t2.tiêu đề , t1.ngày , t1.giá from lịch chiếu phim as t1 join phim as t2 on t1.id phim = t2.id phim join rạp chiếu phim as t3 on t1.id rạp chiếu phim = t3.id rạp chiếu phim",
         "['select', 't3.tên', ',', 't2.tiêu đề', ',', 't1.ngày', ',', 't1.giá', 'from', 'lịch chiếu phim', 'as', 't1', 'join', 'phim', 'as', 't2', 'on', 't1.id phim', '=', 't2.id phim', 'join', 'rạp chiếu phim', 'as', 't3', 'on', 't1.id rạp chiếu phim', '=', 't3.id rạp chiếu phim']",
         "['select', 't3', '.', 'tên', ',', 't2', '.', 'tiêu đề', ',', 't1', '.', 'ngày', ',', 't1', '.', 'giá', 'from', 'lịch chiếu phim', 'as', 't1', 'join', 'phim', 'as', 't2', 'on', 't1', '.', 'id phim', '=', 't2', '.', 'id phim', 'join', 'rạp chiếu phim', 'as', 't3', 'on', 't1', '.', 'id rạp chiếu phim', '=', 't3', '.', 'id rạp chiếu phim']",
         "Hiển thị tên rạp chiếu phim , tiêu đề , ngày chiếu và giá của từng bộ phim có trong lịch chiếu .",
         "['Hiển', 'thị', 'tên', 'rạp', 'chiếu', 'phim', ',', 'tiêu', 'đề', ',', 'ngày', 'chiếu', 'và', 'giá', 'của', 'từng', 'bộ', 'phim', 'có', 'trong', 'lịch', 'chiếu', '.']",
         "{'except': None, 'from': {'conds': [[False, 2, [0, [0, 14, False], None], [0, 1, False], None]], 'table_units': [['table_unit', 2], ['table_unit', 0]]}, 'groupBy': [], 'where': [], 'limit': None, 'union': None, 'intersect': None, 'having': [], 'select': [False, [[0, [0, [0, 9, False], None]], [0, [0, [0, 4, False], None]], [0, [0, [0, 15, False], None]], [0, [0, [0, 17, False], None]]]], 'orderBy': []}"
        ],
        [
         "41",
         "17",
         "Rạp chiếu phim, Điện ảnh, Phim trường",
         "select tiêu đề , được đạo diễn bởi from phim where id phim not in ( select id phim from lịch chiếu phim )",
         "['select', 'tiêu đề', ',', 'được đạo diễn bởi', 'from', 'phim', 'where', 'id phim', 'not', 'in', '(', 'select', 'id phim', 'from', 'lịch chiếu phim', ')']",
         "['select', 'tiêu đề', ',', 'được đạo diễn bởi', 'from', 'phim', 'where', 'id phim', 'not', 'in', '(', 'select', 'id phim', 'from', 'lịch chiếu phim', ')']",
         "Cho biết tiêu đề và đạo diễn của những bộ phim không nằm trong lịch chiếu .",
         "['Cho', 'biết', 'tiêu', 'đề', 'và', 'đạo', 'diễn', 'của', 'những', 'bộ', 'phim', 'không', 'nằm', 'trong', 'lịch', 'chiếu', '.']",
         "{'except': None, 'from': {'conds': [], 'table_units': [['table_unit', 0]]}, 'groupBy': [], 'where': [[True, 8, [0, [0, 1, False], None], {'except': None, 'from': {'conds': [], 'table_units': [['table_unit', 2]]}, 'groupBy': [], 'where': [], 'limit': None, 'union': None, 'intersect': None, 'having': [], 'select': [False, [[0, [0, [0, 14, False], None]]]], 'orderBy': []}, None]], 'limit': None, 'union': None, 'intersect': None, 'having': [], 'select': [False, [[0, [0, [0, 4, False], None]], [0, [0, [0, 5, False], None]]]], 'orderBy': []}"
        ],
        [
         "42",
         "17",
         "Rạp chiếu phim, Điện ảnh, Phim trường",
         "select t2.được đạo diễn bởi from lịch chiếu phim as t1 join phim as t2 on t1.id phim = t2.id phim group by t2.được đạo diễn bởi order by sum ( t1.số lượng suất chiếu mỗi ngày ) desc limit 1",
         "['select', 't2.được đạo diễn bởi', 'from', 'lịch chiếu phim', 'as', 't1', 'join', 'phim', 'as', 't2', 'on', 't1.id phim', '=', 't2.id phim', 'group', 'by', 't2.được đạo diễn bởi', 'order', 'by', 'sum', '(', 't1.số lượng suất chiếu mỗi ngày', ')', 'desc', 'limit', '1']",
         "['select', 't2', '.', 'được đạo diễn bởi', 'from', 'lịch chiếu phim', 'as', 't1', 'join', 'phim', 'as', 't2', 'on', 't1', '.', 'id phim', '=', 't2', '.', 'id phim', 'group', 'by', 't2', '.', 'được đạo diễn bởi', 'order', 'by', 'sum', '(', 't1', '.', 'số lượng suất chiếu mỗi ngày', ')', 'desc', 'limit', 'value']",
         "Cho biết người đạo diễn có nhiều lần công chiếu nhất .",
         "['Cho', 'biết', 'người', 'đạo', 'diễn', 'có', 'nhiều', 'lần', 'công', 'chiếu', 'nhất', '.']",
         "{'except': None, 'from': {'conds': [[False, 2, [0, [0, 14, False], None], [0, 1, False], None]], 'table_units': [['table_unit', 2], ['table_unit', 0]]}, 'groupBy': [[0, 5, False]], 'where': [], 'limit': 1, 'union': None, 'intersect': None, 'having': [], 'select': [False, [[0, [0, [0, 5, False], None]]]], 'orderBy': ['desc', [[0, [4, 16, False], None]]]}"
        ],
        [
         "43",
         "17",
         "Rạp chiếu phim, Điện ảnh, Phim trường",
         "select địa điểm from rạp chiếu phim where sức chứa > 300 group by địa điểm having count ( * ) > 1",
         "['select', 'địa điểm', 'from', 'rạp chiếu phim', 'where', 'sức chứa', '>', '300', 'group', 'by', 'địa điểm', 'having', 'count', '(', '*', ')', '>', '1']",
         "['select', 'địa điểm', 'from', 'rạp chiếu phim', 'where', 'sức chứa', '>', 'value', 'group', 'by', 'địa điểm', 'having', 'count', '(', '*', ')', '>', 'value']",
         "Tìm các địa điểm có nhiều hơn một rạp chiếu phim với sức chứa trên 300 .",
         "['Tìm', 'các', 'địa', 'điểm', 'có', 'nhiều', 'hơn', 'một', 'rạp', 'chiếu', 'phim', 'với', 'sức', 'chứa', 'trên', '300', '.']",
         "{'except': None, 'from': {'conds': [], 'table_units': [['table_unit', 1]]}, 'groupBy': [[0, 12, False]], 'where': [[False, 3, [0, [0, 11, False], None], 300.0, None]], 'limit': None, 'union': None, 'intersect': None, 'having': [[False, 3, [0, [3, 0, False], None], 1.0, None]], 'select': [False, [[0, [0, [0, 12, False], None]]]], 'orderBy': []}"
        ],
        [
         "44",
         "17",
         "Rạp chiếu phim, Điện ảnh, Phim trường",
         "select địa điểm from rạp chiếu phim where sức chứa > 300 group by địa điểm having count ( * ) > 1",
         "['select', 'địa điểm', 'from', 'rạp chiếu phim', 'where', 'sức chứa', '>', '300', 'group', 'by', 'địa điểm', 'having', 'count', '(', '*', ')', '>', '1']",
         "['select', 'địa điểm', 'from', 'rạp chiếu phim', 'where', 'sức chứa', '>', 'value', 'group', 'by', 'địa điểm', 'having', 'count', '(', '*', ')', '>', 'value']",
         "Những địa điểm nào có nhiều hơn một rạp chiếu phim với sức chứa trên 300 ?",
         "['Những', 'địa', 'điểm', 'nào', 'có', 'nhiều', 'hơn', 'một', 'rạp', 'chiếu', 'phim', 'với', 'sức', 'chứa', 'trên', '300', '?']",
         "{'except': None, 'from': {'conds': [], 'table_units': [['table_unit', 1]]}, 'groupBy': [[0, 12, False]], 'where': [[False, 3, [0, [0, 11, False], None], 300.0, None]], 'limit': None, 'union': None, 'intersect': None, 'having': [[False, 3, [0, [3, 0, False], None], 1.0, None]], 'select': [False, [[0, [0, [0, 12, False], None]]]], 'orderBy': []}"
        ],
        [
         "45",
         "17",
         "Rạp chiếu phim, Điện ảnh, Phim trường",
         "select count ( * ) from phim where tiêu đề like \"%Dummy%\"",
         "['select', 'count', '(', '*', ')', 'from', 'phim', 'where', 'tiêu đề', 'like', '\"%Dummy%\"']",
         "['select', 'count', '(', '*', ')', 'from', 'phim', 'where', 'tiêu đề', 'like', 'value']",
         "Có bao nhiêu bộ phim có từ ' Dummy ' trong tựa đề ?",
         "['Có', 'bao', 'nhiêu', 'bộ', 'phim', 'có', 'từ', \"'\", 'Dummy', \"'\", 'trong', 'tựa', 'đề', '?']",
         "{'except': None, 'from': {'conds': [], 'table_units': [['table_unit', 0]]}, 'groupBy': [], 'where': [[False, 9, [0, [0, 4, False], None], '\"%Dummy%\"', None]], 'limit': None, 'union': None, 'intersect': None, 'having': [], 'select': [False, [[3, [0, [0, 0, False], None]]]], 'orderBy': []}"
        ],
        [
         "46",
         "17",
         "Rạp chiếu phim, Điện ảnh, Phim trường",
         "select count ( * ) from phim where tiêu đề like \"%Dummy%\"",
         "['select', 'count', '(', '*', ')', 'from', 'phim', 'where', 'tiêu đề', 'like', '\"%Dummy%\"']",
         "['select', 'count', '(', '*', ')', 'from', 'phim', 'where', 'tiêu đề', 'like', 'value']",
         "Đếm số lượng phim có tựa đề chứa từ ' Dummy ' .",
         "['Đếm', 'số', 'lượng', 'phim', 'có', 'tựa', 'đề', 'chứa', 'từ', \"'\", 'Dummy', \"'\", '.']",
         "{'except': None, 'from': {'conds': [], 'table_units': [['table_unit', 0]]}, 'groupBy': [], 'where': [[False, 9, [0, [0, 4, False], None], '\"%Dummy%\"', None]], 'limit': None, 'union': None, 'intersect': None, 'having': [], 'select': [False, [[3, [0, [0, 0, False], None]]]], 'orderBy': []}"
        ],
        [
         "47",
         "24",
         "Trường cao đẳng, Đại học, Học viện",
         "select count ( * ) from khoá học",
         "['select', 'count', '(', '*', ')', 'from', 'khoá học']",
         "['select', 'count', '(', '*', ')', 'from', 'khoá học']",
         "Tổng cộng có bao nhiêu khoá học ?",
         "['Tổng', 'cộng', 'có', 'bao', 'nhiêu', 'khoá', 'học', '?']",
         "{'except': None, 'from': {'conds': [], 'table_units': [['table_unit', 4]]}, 'groupBy': [], 'where': [], 'limit': None, 'union': None, 'intersect': None, 'having': [], 'select': [False, [[3, [0, [0, 0, False], None]]]], 'orderBy': []}"
        ],
        [
         "48",
         "24",
         "Trường cao đẳng, Đại học, Học viện",
         "select count ( * ) from khoá học",
         "['select', 'count', '(', '*', ')', 'from', 'khoá học']",
         "['select', 'count', '(', '*', ')', 'from', 'khoá học']",
         "Đếm số lượng các khoá học .",
         "['Đếm', 'số', 'lượng', 'các', 'khoá', 'học', '.']",
         "{'except': None, 'from': {'conds': [], 'table_units': [['table_unit', 4]]}, 'groupBy': [], 'where': [], 'limit': None, 'union': None, 'intersect': None, 'having': [], 'select': [False, [[3, [0, [0, 0, False], None]]]], 'orderBy': []}"
        ],
        [
         "49",
         "24",
         "Trường cao đẳng, Đại học, Học viện",
         "select count ( * ) from khoá học where số lượng tín chỉ > 2",
         "['select', 'count', '(', '*', ')', 'from', 'khoá học', 'where', 'số lượng tín chỉ', '>', '2']",
         "['select', 'count', '(', '*', ')', 'from', 'khoá học', 'where', 'số lượng tín chỉ', '>', 'value']",
         "Có bao nhiêu khoá học cung cấp nhiều hơn 2 tín chỉ ?",
         "['Có', 'bao', 'nhiêu', 'khoá', 'học', 'cung', 'cấp', 'nhiều', 'hơn', '2', 'tín', 'chỉ', '?']",
         "{'except': None, 'from': {'conds': [], 'table_units': [['table_unit', 4]]}, 'groupBy': [], 'where': [[False, 3, [0, [0, 28, False], None], 2.0, None]], 'limit': None, 'union': None, 'intersect': None, 'having': [], 'select': [False, [[3, [0, [0, 0, False], None]]]], 'orderBy': []}"
        ]
       ],
       "shape": {
        "columns": 8,
        "rows": 9626
       }
      },
      "text/html": [
       "<div>\n",
       "<style scoped>\n",
       "    .dataframe tbody tr th:only-of-type {\n",
       "        vertical-align: middle;\n",
       "    }\n",
       "\n",
       "    .dataframe tbody tr th {\n",
       "        vertical-align: top;\n",
       "    }\n",
       "\n",
       "    .dataframe thead th {\n",
       "        text-align: right;\n",
       "    }\n",
       "</style>\n",
       "<table border=\"1\" class=\"dataframe\">\n",
       "  <thead>\n",
       "    <tr style=\"text-align: right;\">\n",
       "      <th></th>\n",
       "      <th>db_id</th>\n",
       "      <th>db_id_vn</th>\n",
       "      <th>query</th>\n",
       "      <th>query_toks</th>\n",
       "      <th>query_toks_no_value</th>\n",
       "      <th>question</th>\n",
       "      <th>question_toks</th>\n",
       "      <th>sql</th>\n",
       "    </tr>\n",
       "  </thead>\n",
       "  <tbody>\n",
       "    <tr>\n",
       "      <th>0</th>\n",
       "      <td>5</td>\n",
       "      <td>Kiến trúc, Xây dựng, Công trình</td>\n",
       "      <td>select count ( * ) from kiến trúc sư where giớ...</td>\n",
       "      <td>[select, count, (, *, ), from, kiến trúc sư, w...</td>\n",
       "      <td>[select, count, (, *, ), from, kiến trúc sư, w...</td>\n",
       "      <td>Có tất cả bao nhiêu kiến trúc sư nữ ?</td>\n",
       "      <td>[Có, tất, cả, bao, nhiêu, kiến, trúc, sư, nữ, ?]</td>\n",
       "      <td>{'except': None, 'from': {'conds': [], 'table_...</td>\n",
       "    </tr>\n",
       "    <tr>\n",
       "      <th>1</th>\n",
       "      <td>5</td>\n",
       "      <td>Kiến trúc, Xây dựng, Công trình</td>\n",
       "      <td>select tên , quốc tịch , id from kiến trúc sư ...</td>\n",
       "      <td>[select, tên, ,, quốc tịch, ,, id, from, kiến ...</td>\n",
       "      <td>[select, tên, ,, quốc tịch, ,, id, from, kiến ...</td>\n",
       "      <td>Liệt kê tên , quốc tịch và id của tất cả các k...</td>\n",
       "      <td>[Liệt, kê, tên, ,, quốc, tịch, và, id, của, tấ...</td>\n",
       "      <td>{'except': None, 'from': {'conds': [], 'table_...</td>\n",
       "    </tr>\n",
       "    <tr>\n",
       "      <th>2</th>\n",
       "      <td>5</td>\n",
       "      <td>Kiến trúc, Xây dựng, Công trình</td>\n",
       "      <td>select max ( t1.chiều dài theo mét ) , t2.tên ...</td>\n",
       "      <td>[select, max, (, t1.chiều dài theo mét, ), ,, ...</td>\n",
       "      <td>[select, max, (, t1, ., chiều dài theo mét, ),...</td>\n",
       "      <td>Cho biết tên của người kiến trúc sư đã tạo ra ...</td>\n",
       "      <td>[Cho, biết, tên, của, người, kiến, trúc, sư, đ...</td>\n",
       "      <td>{'except': None, 'from': {'conds': [[False, 2,...</td>\n",
       "    </tr>\n",
       "    <tr>\n",
       "      <th>3</th>\n",
       "      <td>5</td>\n",
       "      <td>Kiến trúc, Xây dựng, Công trình</td>\n",
       "      <td>select avg ( chiều dài theo feet ) from cầu</td>\n",
       "      <td>[select, avg, (, chiều dài theo feet, ), from,...</td>\n",
       "      <td>[select, avg, (, chiều dài theo feet, ), from,...</td>\n",
       "      <td>Cho biết chiều dài trung bình tính theo feet c...</td>\n",
       "      <td>[Cho, biết, chiều, dài, trung, bình, tính, the...</td>\n",
       "      <td>{'except': None, 'from': {'conds': [], 'table_...</td>\n",
       "    </tr>\n",
       "    <tr>\n",
       "      <th>4</th>\n",
       "      <td>5</td>\n",
       "      <td>Kiến trúc, Xây dựng, Công trình</td>\n",
       "      <td>select tên , năm xây dựng from nhà máy where l...</td>\n",
       "      <td>[select, tên, ,, năm xây dựng, from, nhà máy, ...</td>\n",
       "      <td>[select, tên, ,, năm xây dựng, from, nhà máy, ...</td>\n",
       "      <td>Cho biết tên và năm xây dựng của các nhà máy t...</td>\n",
       "      <td>[Cho, biết, tên, và, năm, xây, dựng, của, các,...</td>\n",
       "      <td>{'except': None, 'from': {'conds': [], 'table_...</td>\n",
       "    </tr>\n",
       "    <tr>\n",
       "      <th>...</th>\n",
       "      <td>...</td>\n",
       "      <td>...</td>\n",
       "      <td>...</td>\n",
       "      <td>...</td>\n",
       "      <td>...</td>\n",
       "      <td>...</td>\n",
       "      <td>...</td>\n",
       "      <td>...</td>\n",
       "    </tr>\n",
       "    <tr>\n",
       "      <th>9688</th>\n",
       "      <td>163</td>\n",
       "      <td>Đô vật, Vận động viên đấu vật, Thể thao đối kháng</td>\n",
       "      <td>select đội from lần bị loại where bị loại bởi ...</td>\n",
       "      <td>[select, đội, from, lần bị loại, where, bị loạ...</td>\n",
       "      <td>[select, đội, from, lần bị loại, where, bị loạ...</td>\n",
       "      <td>Những đội có các đô vật bị loại bởi ' Orton ' ...</td>\n",
       "      <td>[Những, đội, có, các, đô, vật, bị, loại, bởi, ...</td>\n",
       "      <td>{'except': None, 'from': {'conds': [], 'table_...</td>\n",
       "    </tr>\n",
       "    <tr>\n",
       "      <th>9689</th>\n",
       "      <td>163</td>\n",
       "      <td>Đô vật, Vận động viên đấu vật, Thể thao đối kháng</td>\n",
       "      <td>select count ( distinct đội ) from lần bị loại</td>\n",
       "      <td>[select, count, (, distinct, đội, ), from, lần...</td>\n",
       "      <td>[select, count, (, distinct, đội, ), from, lần...</td>\n",
       "      <td>Những đô vật đã bị loại đại diện cho tất cả ba...</td>\n",
       "      <td>[Những, đô, vật, đã, bị, loại, đại, diện, cho,...</td>\n",
       "      <td>{'except': None, 'from': {'conds': [], 'table_...</td>\n",
       "    </tr>\n",
       "    <tr>\n",
       "      <th>9690</th>\n",
       "      <td>163</td>\n",
       "      <td>Đô vật, Vận động viên đấu vật, Thể thao đối kháng</td>\n",
       "      <td>select count ( distinct đội ) from lần bị loại</td>\n",
       "      <td>[select, count, (, distinct, đội, ), from, lần...</td>\n",
       "      <td>[select, count, (, distinct, đội, ), from, lần...</td>\n",
       "      <td>Có bao nhiêu đội khác nhau có thành viên là cá...</td>\n",
       "      <td>[Có, bao, nhiêu, đội, khác, nhau, có, thành, v...</td>\n",
       "      <td>{'except': None, 'from': {'conds': [], 'table_...</td>\n",
       "    </tr>\n",
       "    <tr>\n",
       "      <th>9691</th>\n",
       "      <td>163</td>\n",
       "      <td>Đô vật, Vận động viên đấu vật, Thể thao đối kháng</td>\n",
       "      <td>select thời gian from lần bị loại where bị loạ...</td>\n",
       "      <td>[select, thời gian, from, lần bị loại, where, ...</td>\n",
       "      <td>[select, thời gian, from, lần bị loại, where, ...</td>\n",
       "      <td>Những đô vật đã bị loại bởi ' Punk ' hoặc ' Or...</td>\n",
       "      <td>[Những, đô, vật, đã, bị, loại, bởi, ', Punk, '...</td>\n",
       "      <td>{'except': None, 'from': {'conds': [], 'table_...</td>\n",
       "    </tr>\n",
       "    <tr>\n",
       "      <th>9692</th>\n",
       "      <td>163</td>\n",
       "      <td>Đô vật, Vận động viên đấu vật, Thể thao đối kháng</td>\n",
       "      <td>select thời gian from lần bị loại where bị loạ...</td>\n",
       "      <td>[select, thời gian, from, lần bị loại, where, ...</td>\n",
       "      <td>[select, thời gian, from, lần bị loại, where, ...</td>\n",
       "      <td>Cho biết thời gian bị loại của các đô vật bị l...</td>\n",
       "      <td>[Cho, biết, thời, điểm, bị, loại, của, các, đô...</td>\n",
       "      <td>{'except': None, 'from': {'conds': [], 'table_...</td>\n",
       "    </tr>\n",
       "  </tbody>\n",
       "</table>\n",
       "<p>9626 rows × 8 columns</p>\n",
       "</div>"
      ],
      "text/plain": [
       "      db_id                                           db_id_vn  \\\n",
       "0         5                    Kiến trúc, Xây dựng, Công trình   \n",
       "1         5                    Kiến trúc, Xây dựng, Công trình   \n",
       "2         5                    Kiến trúc, Xây dựng, Công trình   \n",
       "3         5                    Kiến trúc, Xây dựng, Công trình   \n",
       "4         5                    Kiến trúc, Xây dựng, Công trình   \n",
       "...     ...                                                ...   \n",
       "9688    163  Đô vật, Vận động viên đấu vật, Thể thao đối kháng   \n",
       "9689    163  Đô vật, Vận động viên đấu vật, Thể thao đối kháng   \n",
       "9690    163  Đô vật, Vận động viên đấu vật, Thể thao đối kháng   \n",
       "9691    163  Đô vật, Vận động viên đấu vật, Thể thao đối kháng   \n",
       "9692    163  Đô vật, Vận động viên đấu vật, Thể thao đối kháng   \n",
       "\n",
       "                                                  query  \\\n",
       "0     select count ( * ) from kiến trúc sư where giớ...   \n",
       "1     select tên , quốc tịch , id from kiến trúc sư ...   \n",
       "2     select max ( t1.chiều dài theo mét ) , t2.tên ...   \n",
       "3           select avg ( chiều dài theo feet ) from cầu   \n",
       "4     select tên , năm xây dựng from nhà máy where l...   \n",
       "...                                                 ...   \n",
       "9688  select đội from lần bị loại where bị loại bởi ...   \n",
       "9689     select count ( distinct đội ) from lần bị loại   \n",
       "9690     select count ( distinct đội ) from lần bị loại   \n",
       "9691  select thời gian from lần bị loại where bị loạ...   \n",
       "9692  select thời gian from lần bị loại where bị loạ...   \n",
       "\n",
       "                                             query_toks  \\\n",
       "0     [select, count, (, *, ), from, kiến trúc sư, w...   \n",
       "1     [select, tên, ,, quốc tịch, ,, id, from, kiến ...   \n",
       "2     [select, max, (, t1.chiều dài theo mét, ), ,, ...   \n",
       "3     [select, avg, (, chiều dài theo feet, ), from,...   \n",
       "4     [select, tên, ,, năm xây dựng, from, nhà máy, ...   \n",
       "...                                                 ...   \n",
       "9688  [select, đội, from, lần bị loại, where, bị loạ...   \n",
       "9689  [select, count, (, distinct, đội, ), from, lần...   \n",
       "9690  [select, count, (, distinct, đội, ), from, lần...   \n",
       "9691  [select, thời gian, from, lần bị loại, where, ...   \n",
       "9692  [select, thời gian, from, lần bị loại, where, ...   \n",
       "\n",
       "                                    query_toks_no_value  \\\n",
       "0     [select, count, (, *, ), from, kiến trúc sư, w...   \n",
       "1     [select, tên, ,, quốc tịch, ,, id, from, kiến ...   \n",
       "2     [select, max, (, t1, ., chiều dài theo mét, ),...   \n",
       "3     [select, avg, (, chiều dài theo feet, ), from,...   \n",
       "4     [select, tên, ,, năm xây dựng, from, nhà máy, ...   \n",
       "...                                                 ...   \n",
       "9688  [select, đội, from, lần bị loại, where, bị loạ...   \n",
       "9689  [select, count, (, distinct, đội, ), from, lần...   \n",
       "9690  [select, count, (, distinct, đội, ), from, lần...   \n",
       "9691  [select, thời gian, from, lần bị loại, where, ...   \n",
       "9692  [select, thời gian, from, lần bị loại, where, ...   \n",
       "\n",
       "                                               question  \\\n",
       "0                 Có tất cả bao nhiêu kiến trúc sư nữ ?   \n",
       "1     Liệt kê tên , quốc tịch và id của tất cả các k...   \n",
       "2     Cho biết tên của người kiến trúc sư đã tạo ra ...   \n",
       "3     Cho biết chiều dài trung bình tính theo feet c...   \n",
       "4     Cho biết tên và năm xây dựng của các nhà máy t...   \n",
       "...                                                 ...   \n",
       "9688  Những đội có các đô vật bị loại bởi ' Orton ' ...   \n",
       "9689  Những đô vật đã bị loại đại diện cho tất cả ba...   \n",
       "9690  Có bao nhiêu đội khác nhau có thành viên là cá...   \n",
       "9691  Những đô vật đã bị loại bởi ' Punk ' hoặc ' Or...   \n",
       "9692  Cho biết thời gian bị loại của các đô vật bị l...   \n",
       "\n",
       "                                          question_toks  \\\n",
       "0      [Có, tất, cả, bao, nhiêu, kiến, trúc, sư, nữ, ?]   \n",
       "1     [Liệt, kê, tên, ,, quốc, tịch, và, id, của, tấ...   \n",
       "2     [Cho, biết, tên, của, người, kiến, trúc, sư, đ...   \n",
       "3     [Cho, biết, chiều, dài, trung, bình, tính, the...   \n",
       "4     [Cho, biết, tên, và, năm, xây, dựng, của, các,...   \n",
       "...                                                 ...   \n",
       "9688  [Những, đội, có, các, đô, vật, bị, loại, bởi, ...   \n",
       "9689  [Những, đô, vật, đã, bị, loại, đại, diện, cho,...   \n",
       "9690  [Có, bao, nhiêu, đội, khác, nhau, có, thành, v...   \n",
       "9691  [Những, đô, vật, đã, bị, loại, bởi, ', Punk, '...   \n",
       "9692  [Cho, biết, thời, điểm, bị, loại, của, các, đô...   \n",
       "\n",
       "                                                    sql  \n",
       "0     {'except': None, 'from': {'conds': [], 'table_...  \n",
       "1     {'except': None, 'from': {'conds': [], 'table_...  \n",
       "2     {'except': None, 'from': {'conds': [[False, 2,...  \n",
       "3     {'except': None, 'from': {'conds': [], 'table_...  \n",
       "4     {'except': None, 'from': {'conds': [], 'table_...  \n",
       "...                                                 ...  \n",
       "9688  {'except': None, 'from': {'conds': [], 'table_...  \n",
       "9689  {'except': None, 'from': {'conds': [], 'table_...  \n",
       "9690  {'except': None, 'from': {'conds': [], 'table_...  \n",
       "9691  {'except': None, 'from': {'conds': [], 'table_...  \n",
       "9692  {'except': None, 'from': {'conds': [], 'table_...  \n",
       "\n",
       "[9626 rows x 8 columns]"
      ]
     },
     "execution_count": 41,
     "metadata": {},
     "output_type": "execute_result"
    }
   ],
   "source": [
    "DF1 = DF1.drop_duplicates(subset=['question'], keep='first')\n",
    "DF1"
   ]
  },
  {
   "cell_type": "code",
   "execution_count": 42,
   "metadata": {},
   "outputs": [
    {
     "name": "stdout",
     "output_type": "stream",
     "text": [
      "2.6.0+cu118\n",
      "11.8\n",
      "True\n"
     ]
    }
   ],
   "source": [
    "import torch\n",
    "print(torch.__version__)\n",
    "print(torch.version.cuda)  \n",
    "print(torch.backends.cudnn.enabled) "
   ]
  },
  {
   "cell_type": "markdown",
   "metadata": {},
   "source": []
  },
  {
   "cell_type": "code",
   "execution_count": 43,
   "metadata": {},
   "outputs": [
    {
     "data": {
      "application/vnd.microsoft.datawrangler.viewer.v0+json": {
       "columns": [
        {
         "name": "index",
         "rawType": "int64",
         "type": "integer"
        },
        {
         "name": "db_id",
         "rawType": "int64",
         "type": "integer"
        },
        {
         "name": "db_id_vn",
         "rawType": "object",
         "type": "string"
        },
        {
         "name": "query",
         "rawType": "object",
         "type": "string"
        },
        {
         "name": "query_toks",
         "rawType": "object",
         "type": "unknown"
        },
        {
         "name": "query_toks_no_value",
         "rawType": "object",
         "type": "unknown"
        },
        {
         "name": "question",
         "rawType": "object",
         "type": "string"
        },
        {
         "name": "question_toks",
         "rawType": "object",
         "type": "unknown"
        },
        {
         "name": "sql",
         "rawType": "object",
         "type": "unknown"
        }
       ],
       "ref": "79ca9205-ea0e-4575-99bf-37af21079acf",
       "rows": [
        [
         "0",
         "5",
         "Kiến trúc, Xây dựng, Công trình",
         "select count ( * ) from kiến trúc sư where giới tính = \"female\"",
         "['select', 'count', '(', '*', ')', 'from', 'kiến trúc sư', 'where', 'giới tính', '=', '\"female\"']",
         "['select', 'count', '(', '*', ')', 'from', 'kiến trúc sư', 'where', 'giới tính', '=', 'value']",
         "Có tất cả bao nhiêu kiến trúc sư nữ ?",
         "['Có', 'tất', 'cả', 'bao', 'nhiêu', 'kiến', 'trúc', 'sư', 'nữ', '?']",
         "{'except': None, 'from': {'conds': [], 'table_units': [['table_unit', 0]]}, 'groupBy': [], 'where': [[False, 2, [0, [0, 4, False], None], '\"female\"', None]], 'limit': None, 'union': None, 'intersect': None, 'having': [], 'select': [False, [[3, [0, [0, 0, False], None]]]], 'orderBy': []}"
        ],
        [
         "1",
         "5",
         "Kiến trúc, Xây dựng, Công trình",
         "select tên , quốc tịch , id from kiến trúc sư where giới tính = \"male\" order by tên",
         "['select', 'tên', ',', 'quốc tịch', ',', 'id', 'from', 'kiến trúc sư', 'where', 'giới tính', '=', '\"male\"', 'order', 'by', 'tên']",
         "['select', 'tên', ',', 'quốc tịch', ',', 'id', 'from', 'kiến trúc sư', 'where', 'giới tính', '=', 'value', 'order', 'by', 'tên']",
         "Liệt kê tên , quốc tịch và id của tất cả các kiến trúc sư nam theo thứ tự tên .",
         "['Liệt', 'kê', 'tên', ',', 'quốc', 'tịch', 'và', 'id', 'của', 'tất', 'cả', 'các', 'kiến', 'trúc', 'sư', 'nam', 'theo', 'thứ', 'tự', 'tên', '.']",
         "{'except': None, 'from': {'conds': [], 'table_units': [['table_unit', 0]]}, 'groupBy': [], 'where': [[False, 2, [0, [0, 4, False], None], '\"male\"', None]], 'limit': None, 'union': None, 'intersect': None, 'having': [], 'select': [False, [[0, [0, [0, 2, False], None]], [0, [0, [0, 3, False], None]], [0, [0, [0, 1, False], None]]]], 'orderBy': ['asc', [[0, [0, 2, False], None]]]}"
        ],
        [
         "2",
         "5",
         "Kiến trúc, Xây dựng, Công trình",
         "select max ( t1.chiều dài theo mét ) , t2.tên from cầu as t1 join kiến trúc sư as t2 on t1.id kiến trúc sư = t2.id",
         "['select', 'max', '(', 't1.chiều dài theo mét', ')', ',', 't2.tên', 'from', 'cầu', 'as', 't1', 'join', 'kiến trúc sư', 'as', 't2', 'on', 't1.id kiến trúc sư', '=', 't2.id']",
         "['select', 'max', '(', 't1', '.', 'chiều dài theo mét', ')', ',', 't2', '.', 'tên', 'from', 'cầu', 'as', 't1', 'join', 'kiến trúc sư', 'as', 't2', 'on', 't1', '.', 'id kiến trúc sư', '=', 't2', '.', 'id']",
         "Cho biết tên của người kiến trúc sư đã tạo ra cây cầu dài nhất cũng như là chiều dài tính bằng mét của cây cầu này .",
         "['Cho', 'biết', 'tên', 'của', 'người', 'kiến', 'trúc', 'sư', 'đã', 'tạo', 'ra', 'cây', 'cầu', 'dài', 'nhất', 'cũng', 'như', 'là', 'chiều', 'dài', 'tính', 'bằng', 'mét', 'của', 'cây', 'cầu', 'này', '.']",
         "{'except': None, 'from': {'conds': [[False, 2, [0, [0, 5, False], None], [0, 1, False], None]], 'table_units': [['table_unit', 1], ['table_unit', 0]]}, 'groupBy': [], 'where': [], 'limit': None, 'union': None, 'intersect': None, 'having': [], 'select': [False, [[1, [0, [0, 9, False], None]], [0, [0, [0, 2, False], None]]]], 'orderBy': []}"
        ],
        [
         "3",
         "5",
         "Kiến trúc, Xây dựng, Công trình",
         "select avg ( chiều dài theo feet ) from cầu",
         "['select', 'avg', '(', 'chiều dài theo feet', ')', 'from', 'cầu']",
         "['select', 'avg', '(', 'chiều dài theo feet', ')', 'from', 'cầu']",
         "Cho biết chiều dài trung bình tính theo feet của tất cả các cây cầu .",
         "['Cho', 'biết', 'chiều', 'dài', 'trung', 'bình', 'tính', 'theo', 'feet', 'của', 'tất', 'cả', 'các', 'cây', 'cầu', '.']",
         "{'except': None, 'from': {'conds': [], 'table_units': [['table_unit', 1]]}, 'groupBy': [], 'where': [], 'limit': None, 'union': None, 'intersect': None, 'having': [], 'select': [False, [[5, [0, [0, 10, False], None]]]], 'orderBy': []}"
        ],
        [
         "4",
         "5",
         "Kiến trúc, Xây dựng, Công trình",
         "select tên , năm xây dựng from nhà máy where loại = \"Grondzeiler\"",
         "['select', 'tên', ',', 'năm xây dựng', 'from', 'nhà máy', 'where', 'loại', '=', '\"Grondzeiler\"']",
         "['select', 'tên', ',', 'năm xây dựng', 'from', 'nhà máy', 'where', 'loại', '=', 'value']",
         "Cho biết tên và năm xây dựng của các nhà máy thuộc loại ' Grondzeiler ' ?",
         "['Cho', 'biết', 'tên', 'và', 'năm', 'xây', 'dựng', 'của', 'các', 'nhà', 'máy', 'thuộc', 'loại', \"'\", 'Grondzeiler', \"'\", '?']",
         "{'except': None, 'from': {'conds': [], 'table_units': [['table_unit', 2]]}, 'groupBy': [], 'where': [[False, 2, [0, [0, 15, False], None], '\"Grondzeiler\"', None]], 'limit': None, 'union': None, 'intersect': None, 'having': [], 'select': [False, [[0, [0, [0, 14, False], None]], [0, [0, [0, 16, False], None]]]], 'orderBy': []}"
        ],
        [
         "5",
         "5",
         "Kiến trúc, Xây dựng, Công trình",
         "select distinct t1.tên , t1.quốc tịch from kiến trúc sư as t1 join nhà máy as t2 on t1.id = t2.id kiến trúc sư",
         "['select', 'distinct', 't1.tên', ',', 't1.quốc tịch', 'from', 'kiến trúc sư', 'as', 't1', 'join', 'nhà máy', 'as', 't2', 'on', 't1.id', '=', 't2.id kiến trúc sư']",
         "['select', 'distinct', 't1', '.', 'tên', ',', 't1', '.', 'quốc tịch', 'from', 'kiến trúc sư', 'as', 't1', 'join', 'nhà máy', 'as', 't2', 'on', 't1', '.', 'id', '=', 't2', '.', 'id kiến trúc sư']",
         "Cho biết tên và quốc tịch của những kiến trúc sư khác nhau đã từng xây dựng một nhà máy .",
         "['Cho', 'biết', 'tên', 'và', 'quốc', 'tịch', 'của', 'những', 'kiến', 'trúc', 'sư', 'khác', 'nhau', 'đã', 'từng', 'xây', 'dựng', 'một', 'nhà', 'máy', '.']",
         "{'except': None, 'from': {'conds': [[False, 2, [0, [0, 1, False], None], [0, 11, False], None]], 'table_units': [['table_unit', 0], ['table_unit', 2]]}, 'groupBy': [], 'where': [], 'limit': None, 'union': None, 'intersect': None, 'having': [], 'select': [True, [[0, [0, [0, 2, False], None]], [0, [0, [0, 3, False], None]]]], 'orderBy': []}"
        ],
        [
         "6",
         "5",
         "Kiến trúc, Xây dựng, Công trình",
         "select tên from nhà máy where địa điểm != \"Donceel\"",
         "['select', 'tên', 'from', 'nhà máy', 'where', 'địa điểm', '!=', '\"Donceel\"']",
         "['select', 'tên', 'from', 'nhà máy', 'where', 'địa điểm', '!', '=', 'value']",
         "Cho biết tên của các nhà máy không được đặt tại ' Donceel ' .",
         "['Cho', 'biết', 'tên', 'của', 'các', 'nhà', 'máy', 'không', 'được', 'đặt', 'tại', \"'\", 'Donceel', \"'\", '.']",
         "{'except': None, 'from': {'conds': [], 'table_units': [['table_unit', 2]]}, 'groupBy': [], 'where': [[False, 7, [0, [0, 13, False], None], '\"Donceel\"', None]], 'limit': None, 'union': None, 'intersect': None, 'having': [], 'select': [False, [[0, [0, [0, 14, False], None]]]], 'orderBy': []}"
        ],
        [
         "7",
         "5",
         "Kiến trúc, Xây dựng, Công trình",
         "select distinct t1.loại from nhà máy as t1 join kiến trúc sư as t2 on t1.id kiến trúc sư = t2.id where t2.quốc tịch = \"American\" or t2.quốc tịch = \"Canadian\"",
         "['select', 'distinct', 't1.loại', 'from', 'nhà máy', 'as', 't1', 'join', 'kiến trúc sư', 'as', 't2', 'on', 't1.id kiến trúc sư', '=', 't2.id', 'where', 't2.quốc tịch', '=', '\"American\"', 'or', 't2.quốc tịch', '=', '\"Canadian\"']",
         "['select', 'distinct', 't1', '.', 'loại', 'from', 'nhà máy', 'as', 't1', 'join', 'kiến trúc sư', 'as', 't2', 'on', 't1', '.', 'id kiến trúc sư', '=', 't2', '.', 'id', 'where', 't2', '.', 'quốc tịch', '=', 'value', 'or', 't2', '.', 'quốc tịch', '=', 'value']",
         "Cho biết các loại nhà máy khác nhau đã được xây dựng bởi các kiến trúc sư người Mỹ hoặc các kiến trúc sư người Canada .",
         "['Cho', 'biết', 'các', 'loại', 'nhà', 'máy', 'khác', 'nhau', 'đã', 'được', 'xây', 'dựng', 'bởi', 'các', 'kiến', 'trúc', 'sư', 'người', 'Mỹ', 'hoặc', 'các', 'kiến', 'trúc', 'sư', 'người', 'Canada', '.']",
         "{'except': None, 'from': {'conds': [[False, 2, [0, [0, 11, False], None], [0, 1, False], None]], 'table_units': [['table_unit', 2], ['table_unit', 0]]}, 'groupBy': [], 'where': [[False, 2, [0, [0, 3, False], None], '\"American\"', None], 'or', [False, 2, [0, [0, 3, False], None], '\"Canadian\"', None]], 'limit': None, 'union': None, 'intersect': None, 'having': [], 'select': [True, [[0, [0, [0, 15, False], None]]]], 'orderBy': []}"
        ],
        [
         "8",
         "5",
         "Kiến trúc, Xây dựng, Công trình",
         "select t1.id , t1.tên from kiến trúc sư as t1 join cầu as t2 on t1.id = t2.id kiến trúc sư group by t1.id having count ( * ) >= 3",
         "['select', 't1.id', ',', 't1.tên', 'from', 'kiến trúc sư', 'as', 't1', 'join', 'cầu', 'as', 't2', 'on', 't1.id', '=', 't2.id kiến trúc sư', 'group', 'by', 't1.id', 'having', 'count', '(', '*', ')', '>=', '3']",
         "['select', 't1', '.', 'id', ',', 't1', '.', 'tên', 'from', 'kiến trúc sư', 'as', 't1', 'join', 'cầu', 'as', 't2', 'on', 't1', '.', 'id', '=', 't2', '.', 'id kiến trúc sư', 'group', 'by', 't1', '.', 'id', 'having', 'count', '(', '*', ')', '>', '=', 'value']",
         "Cho biết id và tên của các kiến trúc sư đã xây dựng ít nhất 3 cây cầu .",
         "['Cho', 'biết', 'id', 'và', 'tên', 'của', 'các', 'kiến', 'trúc', 'sư', 'đã', 'xây', 'dựng', 'ít', 'nhất', '3', 'cây', 'cầu', '.']",
         "{'except': None, 'from': {'conds': [[False, 2, [0, [0, 1, False], None], [0, 5, False], None]], 'table_units': [['table_unit', 0], ['table_unit', 1]]}, 'groupBy': [[0, 1, False]], 'where': [], 'limit': None, 'union': None, 'intersect': None, 'having': [[False, 5, [0, [3, 0, False], None], 3.0, None]], 'select': [False, [[0, [0, [0, 1, False], None]], [0, [0, [0, 2, False], None]]]], 'orderBy': []}"
        ],
        [
         "9",
         "5",
         "Kiến trúc, Xây dựng, Công trình",
         "select t1.id , t1.tên , t1.quốc tịch from kiến trúc sư as t1 join nhà máy as t2 on t1.id = t2.id kiến trúc sư group by t1.id order by count ( * ) desc limit 1",
         "['select', 't1.id', ',', 't1.tên', ',', 't1.quốc tịch', 'from', 'kiến trúc sư', 'as', 't1', 'join', 'nhà máy', 'as', 't2', 'on', 't1.id', '=', 't2.id kiến trúc sư', 'group', 'by', 't1.id', 'order', 'by', 'count', '(', '*', ')', 'desc', 'limit', '1']",
         "['select', 't1', '.', 'id', ',', 't1', '.', 'tên', ',', 't1', '.', 'quốc tịch', 'from', 'kiến trúc sư', 'as', 't1', 'join', 'nhà máy', 'as', 't2', 'on', 't1', '.', 'id', '=', 't2', '.', 'id kiến trúc sư', 'group', 'by', 't1', '.', 'id', 'order', 'by', 'count', '(', '*', ')', 'desc', 'limit', 'value']",
         "Cho biết id , tên và quốc tịch của kiến trúc sư đã xây dựng nhiều nhà máy nhất .",
         "['Cho', 'biết', 'id', ',', 'tên', 'và', 'quốc', 'tịch', 'của', 'kiến', 'trúc', 'sư', 'đã', 'xây', 'dựng', 'nhiều', 'nhà', 'máy', 'nhất', '.']",
         "{'except': None, 'from': {'conds': [[False, 2, [0, [0, 1, False], None], [0, 11, False], None]], 'table_units': [['table_unit', 0], ['table_unit', 2]]}, 'groupBy': [[0, 1, False]], 'where': [], 'limit': 1, 'union': None, 'intersect': None, 'having': [], 'select': [False, [[0, [0, [0, 1, False], None]], [0, [0, [0, 2, False], None]], [0, [0, [0, 3, False], None]]]], 'orderBy': ['desc', [[0, [3, 0, False], None]]]}"
        ],
        [
         "10",
         "5",
         "Kiến trúc, Xây dựng, Công trình",
         "select t1.id , t1.tên , t1.giới tính from kiến trúc sư as t1 join cầu as t2 on t1.id = t2.id kiến trúc sư group by t1.id having count ( * ) = 2 union select t1.id , t1.tên , t1.giới tính from kiến trúc sư as t1 join nhà máy as t2 on t1.id = t2.id kiến trúc sư group by t1.id having count ( * ) = 1",
         "['select', 't1.id', ',', 't1.tên', ',', 't1.giới tính', 'from', 'kiến trúc sư', 'as', 't1', 'join', 'cầu', 'as', 't2', 'on', 't1.id', '=', 't2.id kiến trúc sư', 'group', 'by', 't1.id', 'having', 'count', '(', '*', ')', '=', '2', 'union', 'select', 't1.id', ',', 't1.tên', ',', 't1.giới tính', 'from', 'kiến trúc sư', 'as', 't1', 'join', 'nhà máy', 'as', 't2', 'on', 't1.id', '=', 't2.id kiến trúc sư', 'group', 'by', 't1.id', 'having', 'count', '(', '*', ')', '=', '1']",
         "['select', 't1', '.', 'id', ',', 't1', '.', 'tên', ',', 't1', '.', 'giới tính', 'from', 'kiến trúc sư', 'as', 't1', 'join', 'cầu', 'as', 't2', 'on', 't1', '.', 'id', '=', 't2', '.', 'id kiến trúc sư', 'group', 'by', 't1', '.', 'id', 'having', 'count', '(', '*', ')', '=', 'value', 'union', 'select', 't1', '.', 'id', ',', 't1', '.', 'tên', ',', 't1', '.', 'giới tính', 'from', 'kiến trúc sư', 'as', 't1', 'join', 'nhà máy', 'as', 't2', 'on', 't1', '.', 'id', '=', 't2', '.', 'id kiến trúc sư', 'group', 'by', 't1', '.', 'id', 'having', 'count', '(', '*', ')', '=', 'value']",
         "Cho biết id , tên và giới tính của các kiến trúc sư đã xây dựng hai cây cầu hoặc một nhà máy .",
         "['Cho', 'biết', 'id', ',', 'tên', 'và', 'giới', 'tính', 'của', 'các', 'kiến', 'trúc', 'sư', 'đã', 'xây', 'dựng', 'hai', 'cây', 'cầu', 'hoặc', 'một', 'nhà', 'máy', '.']",
         "{'except': None, 'from': {'conds': [[False, 2, [0, [0, 1, False], None], [0, 11, False], None]], 'table_units': [['table_unit', 0], ['table_unit', 1]]}, 'groupBy': [[0, 1, False]], 'where': [], 'limit': None, 'union': {'except': None, 'from': {'conds': [[False, 2, [0, [0, 1, False], None], [0, 11, False], None]], 'table_units': [['table_unit', 0], ['table_unit', 2]]}, 'groupBy': [[0, 1, False]], 'where': [], 'limit': None, 'union': None, 'intersect': None, 'having': [[False, 2, [0, [3, 0, False], None], 1.0, None]], 'select': [False, [[0, [0, [0, 1, False], None]], [0, [0, [0, 2, False], None]], [0, [0, [0, 4, False], None]]]], 'orderBy': []}, 'intersect': None, 'having': [[False, 2, [0, [3, 0, False], None], 2.0, None]], 'select': [False, [[0, [0, [0, 1, False], None]], [0, [0, [0, 2, False], None]], [0, [0, [0, 4, False], None]]]], 'orderBy': []}"
        ],
        [
         "11",
         "5",
         "Kiến trúc, Xây dựng, Công trình",
         "select địa điểm from cầu where tên = \"Kolob Arch\" or tên = \"Rainbow Bridge\"",
         "['select', 'địa điểm', 'from', 'cầu', 'where', 'tên', '=', '\"Kolob Arch\"', 'or', 'tên', '=', '\"Rainbow Bridge\"']",
         "['select', 'địa điểm', 'from', 'cầu', 'where', 'tên', '=', 'value', 'or', 'tên', '=', 'value']",
         "Cho biết địa điểm của cây cầu có tên là ' Cổng vòm Kolob ' hoặc cây cầu có tên là ' Cầu cầu vồng ' .",
         "['Cho', 'biết', 'địa', 'điểm', 'của', 'cây', 'cầu', 'có', 'tên', 'là', \"'\", 'Cổng', 'vòm', 'Kolob', \"'\", 'hoặc', 'cây', 'cầu', 'có', 'tên', 'là', \"'\", 'Cầu', 'cầu', 'vồng', \"'\", '.']",
         "{'except': None, 'from': {'conds': [], 'table_units': [['table_unit', 1]]}, 'groupBy': [], 'where': [[False, 2, [0, [0, 7, False], None], '\"Kolob Arch\"', None], 'or', [False, 2, [0, [0, 7, False], None], '\"Rainbow Bridge\"', None]], 'limit': None, 'union': None, 'intersect': None, 'having': [], 'select': [False, [[0, [0, [0, 8, False], None]]]], 'orderBy': []}"
        ],
        [
         "12",
         "5",
         "Kiến trúc, Xây dựng, Công trình",
         "select tên from nhà máy where tên like \"%Moulin%\"",
         "['select', 'tên', 'from', 'nhà máy', 'where', 'tên', 'like', '\"%Moulin%\"']",
         "['select', 'tên', 'from', 'nhà máy', 'where', 'tên', 'like', 'value']",
         "Cho biết tên của nhà máy có chứa từ tiếng Pháp ' Moulin ' trong tên .",
         "['Cho', 'biết', 'tên', 'của', 'nhà', 'máy', 'có', 'chứa', 'từ', 'tiếng', 'Pháp', \"'\", 'Moulin', \"'\", 'trong', 'tên', '.']",
         "{'except': None, 'from': {'conds': [], 'table_units': [['table_unit', 2]]}, 'groupBy': [], 'where': [[False, 9, [0, [0, 14, False], None], '\"%Moulin%\"', None]], 'limit': None, 'union': None, 'intersect': None, 'having': [], 'select': [False, [[0, [0, [0, 14, False], None]]]], 'orderBy': []}"
        ],
        [
         "13",
         "5",
         "Kiến trúc, Xây dựng, Công trình",
         "select distinct t1.tên from nhà máy as t1 join kiến trúc sư as t2 on t1.id kiến trúc sư = t2.id join cầu as t3 on t3.id kiến trúc sư = t2.id where t3.chiều dài theo mét > 80",
         "['select', 'distinct', 't1.tên', 'from', 'nhà máy', 'as', 't1', 'join', 'kiến trúc sư', 'as', 't2', 'on', 't1.id kiến trúc sư', '=', 't2.id', 'join', 'cầu', 'as', 't3', 'on', 't3.id kiến trúc sư', '=', 't2.id', 'where', 't3.chiều dài theo mét', '>', '80']",
         "['select', 'distinct', 't1', '.', 'tên', 'from', 'nhà máy', 'as', 't1', 'join', 'kiến trúc sư', 'as', 't2', 'on', 't1', '.', 'id kiến trúc sư', '=', 't2', '.', 'id', 'join', 'cầu', 'as', 't3', 'on', 't3', '.', 'id kiến trúc sư', '=', 't2', '.', 'id', 'where', 't3', '.', 'chiều dài theo mét', '>', 'value']",
         "Cho biết tên của các nhà máy khác nhau được xây dựng bởi các kiến trúc sư đã từng xây dựng một cây cầu dài hơn 80 mét .",
         "['Cho', 'biết', 'tên', 'của', 'các', 'nhà', 'máy', 'khác', 'nhau', 'được', 'xây', 'dựng', 'bởi', 'các', 'kiến', 'trúc', 'sư', 'đã', 'từng', 'xây', 'dựng', 'một', 'cây', 'cầu', 'dài', 'hơn', '80', 'mét', '.']",
         "{'except': None, 'from': {'conds': [[False, 2, [0, [0, 11, False], None], [0, 1, False], None]], 'table_units': [['table_unit', 2], ['table_unit', 0]]}, 'groupBy': [], 'where': [[False, 3, [0, [0, 9, False], None], 80.0, None]], 'limit': None, 'union': None, 'intersect': None, 'having': [], 'select': [True, [[0, [0, [0, 14, False], None]]]], 'orderBy': []}"
        ],
        [
         "14",
         "5",
         "Kiến trúc, Xây dựng, Công trình",
         "select loại , count ( * ) from nhà máy group by loại order by count ( * ) desc limit 1",
         "['select', 'loại', ',', 'count', '(', '*', ')', 'from', 'nhà máy', 'group', 'by', 'loại', 'order', 'by', 'count', '(', '*', ')', 'desc', 'limit', '1']",
         "['select', 'loại', ',', 'count', '(', '*', ')', 'from', 'nhà máy', 'group', 'by', 'loại', 'order', 'by', 'count', '(', '*', ')', 'desc', 'limit', 'value']",
         "Cho biết loại nhà máy phổ biết nhất và có bao nhiêu nhà máy thuộc loại này ?",
         "['Cho', 'biết', 'loại', 'nhà', 'máy', 'phổ', 'biết', 'nhất', 'và', 'có', 'bao', 'nhiêu', 'nhà', 'máy', 'thuộc', 'loại', 'này', '?']",
         "{'except': None, 'from': {'conds': [], 'table_units': [['table_unit', 2]]}, 'groupBy': [[0, 15, False]], 'where': [], 'limit': 1, 'union': None, 'intersect': None, 'having': [], 'select': [False, [[0, [0, [0, 15, False], None]], [3, [0, [0, 0, False], None]]]], 'orderBy': ['desc', [[0, [3, 0, False], None]]]}"
        ],
        [
         "15",
         "5",
         "Kiến trúc, Xây dựng, Công trình",
         "select count ( * ) from kiến trúc sư where id not in ( select id kiến trúc sư from nhà máy where năm xây dựng < 1850 )",
         "['select', 'count', '(', '*', ')', 'from', 'kiến trúc sư', 'where', 'id', 'not', 'in', '(', 'select', 'id kiến trúc sư', 'from', 'nhà máy', 'where', 'năm xây dựng', '<', '1850', ')']",
         "['select', 'count', '(', '*', ')', 'from', 'kiến trúc sư', 'where', 'id', 'not', 'in', '(', 'select', 'id kiến trúc sư', 'from', 'nhà máy', 'where', 'năm xây dựng', '<', 'value', ')']",
         "Có bao nhiêu kiến ​​trúc sư chưa từng xây dựng một nhà máy nào trước năm 1850 ?",
         "['Có', 'bao', 'nhiêu', 'kiến', '\\u200b\\u200btrúc', 'sư', 'chưa', 'từng', 'xây', 'dựng', 'một', 'nhà', 'máy', 'nào', 'trước', 'năm', '1850', '?']",
         "{'except': None, 'from': {'conds': [], 'table_units': [['table_unit', 0]]}, 'groupBy': [], 'where': [[True, 8, [0, [0, 1, False], None], {'except': None, 'from': {'conds': [], 'table_units': [['table_unit', 2]]}, 'groupBy': [], 'where': [[False, 4, [0, [0, 16, False], None], 1850.0, None]], 'limit': None, 'union': None, 'intersect': None, 'having': [], 'select': [False, [[0, [0, [0, 11, False], None]]]], 'orderBy': []}, None]], 'limit': None, 'union': None, 'intersect': None, 'having': [], 'select': [False, [[3, [0, [0, 0, False], None]]]], 'orderBy': []}"
        ],
        [
         "16",
         "5",
         "Kiến trúc, Xây dựng, Công trình",
         "select t1.tên from cầu as t1 join kiến trúc sư as t2 on t1.id kiến trúc sư = t2.id where t2.quốc tịch = \"American\" order by t1.chiều dài theo feet",
         "['select', 't1.tên', 'from', 'cầu', 'as', 't1', 'join', 'kiến trúc sư', 'as', 't2', 'on', 't1.id kiến trúc sư', '=', 't2.id', 'where', 't2.quốc tịch', '=', '\"American\"', 'order', 'by', 't1.chiều dài theo feet']",
         "['select', 't1', '.', 'tên', 'from', 'cầu', 'as', 't1', 'join', 'kiến trúc sư', 'as', 't2', 'on', 't1', '.', 'id kiến trúc sư', '=', 't2', '.', 'id', 'where', 't2', '.', 'quốc tịch', '=', 'value', 'order', 'by', 't1', '.', 'chiều dài theo feet']",
         "Hiển thị tên của tất cả những cây cầu được thiết kế bởi các kiến ​​trúc sư người Mỹ và sắp xếp kết quả theo thứ tự chiều dài chân cầu .",
         "['Hiển', 'thị', 'tên', 'của', 'tất', 'cả', 'những', 'cây', 'cầu', 'được', 'thiết', 'kế', 'bởi', 'các', 'kiến', '\\u200b\\u200btrúc', 'sư', 'người', 'Mỹ', 'và', 'sắp', 'xếp', 'kết', 'quả', 'theo', 'thứ', 'tự', 'chiều', 'dài', 'chân', 'cầu', '.']",
         "{'except': None, 'from': {'conds': [[False, 2, [0, [0, 5, False], None], [0, 1, False], None]], 'table_units': [['table_unit', 1], ['table_unit', 0]]}, 'groupBy': [], 'where': [[False, 2, [0, [0, 3, False], None], '\"American\"', None]], 'limit': None, 'union': None, 'intersect': None, 'having': [], 'select': [False, [[0, [0, [0, 7, False], None]]]], 'orderBy': ['asc', [[0, [0, 10, False], None]]]}"
        ],
        [
         "17",
         "17",
         "Rạp chiếu phim, Điện ảnh, Phim trường",
         "select địa điểm from rạp chiếu phim except select địa điểm from rạp chiếu phim where sức chứa > 800",
         "['select', 'địa điểm', 'from', 'rạp chiếu phim', 'except', 'select', 'địa điểm', 'from', 'rạp chiếu phim', 'where', 'sức chứa', '>', '800']",
         "['select', 'địa điểm', 'from', 'rạp chiếu phim', 'except', 'select', 'địa điểm', 'from', 'rạp chiếu phim', 'where', 'sức chứa', '>', 'value']",
         "Hiển thị tất cả các địa điểm không có rạp chiếu phim với sức chứa trên 800 .",
         "['Hiển', 'thị', 'tất', 'cả', 'các', 'địa', 'điểm', 'không', 'có', 'rạp', 'chiếu', 'phim', 'với', 'sức', 'chứa', 'trên', '800', '.']",
         "{'except': {'except': None, 'from': {'conds': [], 'table_units': [['table_unit', 1]]}, 'groupBy': [], 'where': [[False, 3, [0, [0, 11, False], None], 800.0, None]], 'limit': None, 'union': None, 'intersect': None, 'having': [], 'select': [False, [[0, [0, [0, 12, False], None]]]], 'orderBy': []}, 'from': {'conds': [], 'table_units': [['table_unit', 1]]}, 'groupBy': [], 'where': [], 'limit': None, 'union': None, 'intersect': None, 'having': [], 'select': [False, [[0, [0, [0, 12, False], None]]]], 'orderBy': []}"
        ],
        [
         "18",
         "17",
         "Rạp chiếu phim, Điện ảnh, Phim trường",
         "select địa điểm from rạp chiếu phim where năm mở cửa = 2010 intersect select địa điểm from rạp chiếu phim where năm mở cửa = 2011",
         "['select', 'địa điểm', 'from', 'rạp chiếu phim', 'where', 'năm mở cửa', '=', '2010', 'intersect', 'select', 'địa điểm', 'from', 'rạp chiếu phim', 'where', 'năm mở cửa', '=', '2011']",
         "['select', 'địa điểm', 'from', 'rạp chiếu phim', 'where', 'năm mở cửa', '=', 'value', 'intersect', 'select', 'địa điểm', 'from', 'rạp chiếu phim', 'where', 'năm mở cửa', '=', 'value']",
         "Hiển thị tất cả các địa điểm nơi có một số rạp chiếu phim đã được mở vào năm 2010 và năm 2011 .",
         "['Hiển', 'thị', 'tất', 'cả', 'các', 'địa', 'điểm', 'nơi', 'có', 'một', 'số', 'rạp', 'chiếu', 'phim', 'đã', 'được', 'mở', 'vào', 'năm', '2010', 'và', 'năm', '2011', '.']",
         "{'except': None, 'from': {'conds': [], 'table_units': [['table_unit', 1]]}, 'groupBy': [], 'where': [[False, 2, [0, [0, 10, False], None], 2010.0, None]], 'limit': None, 'union': None, 'intersect': {'except': None, 'from': {'conds': [], 'table_units': [['table_unit', 1]]}, 'groupBy': [], 'where': [[False, 2, [0, [0, 10, False], None], 2011.0, None]], 'limit': None, 'union': None, 'intersect': None, 'having': [], 'select': [False, [[0, [0, [0, 12, False], None]]]], 'orderBy': []}, 'having': [], 'select': [False, [[0, [0, [0, 12, False], None]]]], 'orderBy': []}"
        ],
        [
         "19",
         "17",
         "Rạp chiếu phim, Điện ảnh, Phim trường",
         "select count ( * ) from rạp chiếu phim",
         "['select', 'count', '(', '*', ')', 'from', 'rạp chiếu phim']",
         "['select', 'count', '(', '*', ')', 'from', 'rạp chiếu phim']",
         "Có bao nhiêu rạp chiếu phim ?",
         "['Có', 'bao', 'nhiêu', 'rạp', 'chiếu', 'phim', '?']",
         "{'except': None, 'from': {'conds': [], 'table_units': [['table_unit', 1]]}, 'groupBy': [], 'where': [], 'limit': None, 'union': None, 'intersect': None, 'having': [], 'select': [False, [[3, [0, [0, 0, False], None]]]], 'orderBy': []}"
        ],
        [
         "20",
         "17",
         "Rạp chiếu phim, Điện ảnh, Phim trường",
         "select count ( * ) from rạp chiếu phim",
         "['select', 'count', '(', '*', ')', 'from', 'rạp chiếu phim']",
         "['select', 'count', '(', '*', ')', 'from', 'rạp chiếu phim']",
         "Đếm số lượng rạp chiếu phim .",
         "['Đếm', 'số', 'lượng', 'rạp', 'chiếu', 'phim', '.']",
         "{'except': None, 'from': {'conds': [], 'table_units': [['table_unit', 1]]}, 'groupBy': [], 'where': [], 'limit': None, 'union': None, 'intersect': None, 'having': [], 'select': [False, [[3, [0, [0, 0, False], None]]]], 'orderBy': []}"
        ],
        [
         "21",
         "17",
         "Rạp chiếu phim, Điện ảnh, Phim trường",
         "select tên , năm mở cửa , sức chứa from rạp chiếu phim",
         "['select', 'tên', ',', 'năm mở cửa', ',', 'sức chứa', 'from', 'rạp chiếu phim']",
         "['select', 'tên', ',', 'năm mở cửa', ',', 'sức chứa', 'from', 'rạp chiếu phim']",
         "Hiển thị tên , năm mở cửa , và sức chứa của từng rạp chiếu phim .",
         "['Hiển', 'thị', 'tên', ',', 'năm', 'mở', 'cửa', ',', 'và', 'sức', 'chứa', 'của', 'từng', 'rạp', 'chiếu', 'phim', '.']",
         "{'except': None, 'from': {'conds': [], 'table_units': [['table_unit', 1]]}, 'groupBy': [], 'where': [], 'limit': None, 'union': None, 'intersect': None, 'having': [], 'select': [False, [[0, [0, [0, 9, False], None]], [0, [0, [0, 10, False], None]], [0, [0, [0, 11, False], None]]]], 'orderBy': []}"
        ],
        [
         "22",
         "17",
         "Rạp chiếu phim, Điện ảnh, Phim trường",
         "select tên , địa điểm from rạp chiếu phim where sức chứa > ( select avg ( sức chứa ) from rạp chiếu phim )",
         "['select', 'tên', ',', 'địa điểm', 'from', 'rạp chiếu phim', 'where', 'sức chứa', '>', '(', 'select', 'avg', '(', 'sức chứa', ')', 'from', 'rạp chiếu phim', ')']",
         "['select', 'tên', ',', 'địa điểm', 'from', 'rạp chiếu phim', 'where', 'sức chứa', '>', '(', 'select', 'avg', '(', 'sức chứa', ')', 'from', 'rạp chiếu phim', ')']",
         "Hiển thị tên và địa điểm của các rạp chiếu phim có sức chứa trên mức trung bình .",
         "['Hiển', 'thị', 'tên', 'và', 'địa', 'điểm', 'của', 'các', 'rạp', 'chiếu', 'phim', 'có', 'sức', 'chứa', 'trên', 'mức', 'trung', 'bình', '.']",
         "{'except': None, 'from': {'conds': [], 'table_units': [['table_unit', 1]]}, 'groupBy': [], 'where': [[False, 3, [0, [0, 11, False], None], {'except': None, 'from': {'conds': [], 'table_units': [['table_unit', 1]]}, 'groupBy': [], 'where': [], 'limit': None, 'union': None, 'intersect': None, 'having': [], 'select': [False, [[5, [0, [0, 11, False], None]]]], 'orderBy': []}, None]], 'limit': None, 'union': None, 'intersect': None, 'having': [], 'select': [False, [[0, [0, [0, 9, False], None]], [0, [0, [0, 12, False], None]]]], 'orderBy': []}"
        ],
        [
         "23",
         "17",
         "Rạp chiếu phim, Điện ảnh, Phim trường",
         "select distinct địa điểm from rạp chiếu phim",
         "['select', 'distinct', 'địa điểm', 'from', 'rạp chiếu phim']",
         "['select', 'distinct', 'địa điểm', 'from', 'rạp chiếu phim']",
         "Những địa điểm có một vài rạp chiếu phim là những địa điểm nào ?",
         "['Những', 'địa', 'điểm', 'có', 'một', 'vài', 'rạp', 'chiếu', 'phim', 'là', 'những', 'địa', 'điểm', 'nào', '?']",
         "{'except': None, 'from': {'conds': [], 'table_units': [['table_unit', 1]]}, 'groupBy': [], 'where': [], 'limit': None, 'union': None, 'intersect': None, 'having': [], 'select': [True, [[0, [0, [0, 12, False], None]]]], 'orderBy': []}"
        ],
        [
         "24",
         "17",
         "Rạp chiếu phim, Điện ảnh, Phim trường",
         "select distinct địa điểm from rạp chiếu phim",
         "['select', 'distinct', 'địa điểm', 'from', 'rạp chiếu phim']",
         "['select', 'distinct', 'địa điểm', 'from', 'rạp chiếu phim']",
         "Tìm những địa điểm khác nhau nơi có một vài rạp chiếu phim .",
         "['Tìm', 'những', 'địa', 'điểm', 'khác', 'nhau', 'nơi', 'có', 'một', 'vài', 'rạp', 'chiếu', 'phim', '.']",
         "{'except': None, 'from': {'conds': [], 'table_units': [['table_unit', 1]]}, 'groupBy': [], 'where': [], 'limit': None, 'union': None, 'intersect': None, 'having': [], 'select': [True, [[0, [0, [0, 12, False], None]]]], 'orderBy': []}"
        ],
        [
         "25",
         "17",
         "Rạp chiếu phim, Điện ảnh, Phim trường",
         "select tên , năm mở cửa from rạp chiếu phim order by năm mở cửa desc",
         "['select', 'tên', ',', 'năm mở cửa', 'from', 'rạp chiếu phim', 'order', 'by', 'năm mở cửa', 'desc']",
         "['select', 'tên', ',', 'năm mở cửa', 'from', 'rạp chiếu phim', 'order', 'by', 'năm mở cửa', 'desc']",
         "Hiển thị tên của tất cả các rạp chiếu phim và năm mở cửa của từng rạp theo thứ tự giảm dần về năm mở cửa .",
         "['Hiển', 'thị', 'tên', 'của', 'tất', 'cả', 'các', 'rạp', 'chiếu', 'phim', 'và', 'năm', 'mở', 'cửa', 'của', 'từng', 'rạp', 'theo', 'thứ', 'tự', 'giảm', 'dần', 'về', 'năm', 'mở', 'cửa', '.']",
         "{'except': None, 'from': {'conds': [], 'table_units': [['table_unit', 1]]}, 'groupBy': [], 'where': [], 'limit': None, 'union': None, 'intersect': None, 'having': [], 'select': [False, [[0, [0, [0, 9, False], None]], [0, [0, [0, 10, False], None]]]], 'orderBy': ['desc', [[0, [0, 10, False], None]]]}"
        ],
        [
         "26",
         "17",
         "Rạp chiếu phim, Điện ảnh, Phim trường",
         "select tên , địa điểm from rạp chiếu phim order by sức chứa desc limit 1",
         "['select', 'tên', ',', 'địa điểm', 'from', 'rạp chiếu phim', 'order', 'by', 'sức chứa', 'desc', 'limit', '1']",
         "['select', 'tên', ',', 'địa điểm', 'from', 'rạp chiếu phim', 'order', 'by', 'sức chứa', 'desc', 'limit', 'value']",
         "Cho biết tên và địa điểm của rạp chiếu phim có sức chứa lớn nhất .",
         "['Cho', 'biết', 'tên', 'và', 'địa', 'điểm', 'của', 'rạp', 'chiếu', 'phim', 'có', 'sức', 'chứa', 'lớn', 'nhất', '.']",
         "{'except': None, 'from': {'conds': [], 'table_units': [['table_unit', 1]]}, 'groupBy': [], 'where': [], 'limit': 1, 'union': None, 'intersect': None, 'having': [], 'select': [False, [[0, [0, [0, 9, False], None]], [0, [0, [0, 12, False], None]]]], 'orderBy': ['desc', [[0, [0, 11, False], None]]]}"
        ],
        [
         "27",
         "17",
         "Rạp chiếu phim, Điện ảnh, Phim trường",
         "select avg ( sức chứa ) , min ( sức chứa ) , max ( sức chứa ) from rạp chiếu phim where năm mở cửa >= 2011",
         "['select', 'avg', '(', 'sức chứa', ')', ',', 'min', '(', 'sức chứa', ')', ',', 'max', '(', 'sức chứa', ')', 'from', 'rạp chiếu phim', 'where', 'năm mở cửa', '>=', '2011']",
         "['select', 'avg', '(', 'sức chứa', ')', ',', 'min', '(', 'sức chứa', ')', ',', 'max', '(', 'sức chứa', ')', 'from', 'rạp chiếu phim', 'where', 'năm mở cửa', '>', '=', 'value']",
         "Hiển thị sức chứa trung bình , sức chứa tối thiểu và sức chứa tối đa của tất cả các rạp chiếu phim được mở từ sau năm 2011 .",
         "['Hiển', 'thị', 'sức', 'chứa', 'trung', 'bình', ',', 'sức', 'chứa', 'tối', 'thiểu', 'và', 'sức', 'chứa', 'tối', 'đa', 'của', 'tất', 'cả', 'các', 'rạp', 'chiếu', 'phim', 'được', 'mở', 'từ', 'sau', 'năm', '2011', '.']",
         "{'except': None, 'from': {'conds': [], 'table_units': [['table_unit', 1]]}, 'groupBy': [], 'where': [[False, 5, [0, [0, 10, False], None], 2011.0, None]], 'limit': None, 'union': None, 'intersect': None, 'having': [], 'select': [False, [[5, [0, [0, 11, False], None]], [2, [0, [0, 11, False], None]], [1, [0, [0, 11, False], None]]]], 'orderBy': []}"
        ],
        [
         "28",
         "17",
         "Rạp chiếu phim, Điện ảnh, Phim trường",
         "select địa điểm , count ( * ) from rạp chiếu phim group by địa điểm",
         "['select', 'địa điểm', ',', 'count', '(', '*', ')', 'from', 'rạp chiếu phim', 'group', 'by', 'địa điểm']",
         "['select', 'địa điểm', ',', 'count', '(', '*', ')', 'from', 'rạp chiếu phim', 'group', 'by', 'địa điểm']",
         "Hiển thị tất cả các địa điểm và số lượng rạp chiếu phim ở mỗi địa điểm .",
         "['Hiển', 'thị', 'tất', 'cả', 'các', 'địa', 'điểm', 'và', 'số', 'lượng', 'rạp', 'chiếu', 'phim', 'ở', 'mỗi', 'địa', 'điểm', '.']",
         "{'except': None, 'from': {'conds': [], 'table_units': [['table_unit', 1]]}, 'groupBy': [[0, 12, False]], 'where': [], 'limit': None, 'union': None, 'intersect': None, 'having': [], 'select': [False, [[0, [0, [0, 12, False], None]], [3, [0, [0, 0, False], None]]]], 'orderBy': []}"
        ],
        [
         "29",
         "17",
         "Rạp chiếu phim, Điện ảnh, Phim trường",
         "select địa điểm from rạp chiếu phim where năm mở cửa >= 2010 group by địa điểm order by count ( * ) desc limit 1",
         "['select', 'địa điểm', 'from', 'rạp chiếu phim', 'where', 'năm mở cửa', '>=', '2010', 'group', 'by', 'địa điểm', 'order', 'by', 'count', '(', '*', ')', 'desc', 'limit', '1']",
         "['select', 'địa điểm', 'from', 'rạp chiếu phim', 'where', 'năm mở cửa', '>', '=', 'value', 'group', 'by', 'địa điểm', 'order', 'by', 'count', '(', '*', ')', 'desc', 'limit', 'value']",
         "Địa điểm có nhiều rạp chiếu phim nhất được mở trong năm 2010 hoặc sau đó nằm ở đâu ?",
         "['Địa', 'điểm', 'có', 'nhiều', 'rạp', 'chiếu', 'phim', 'nhất', 'được', 'mở', 'trong', 'năm', '2010', 'hoặc', 'sau', 'đó', 'nằm', 'ở', 'đâu', '?']",
         "{'except': None, 'from': {'conds': [], 'table_units': [['table_unit', 1]]}, 'groupBy': [[0, 12, False]], 'where': [[False, 5, [0, [0, 10, False], None], 2010.0, None]], 'limit': 1, 'union': None, 'intersect': None, 'having': [], 'select': [False, [[0, [0, [0, 12, False], None]]]], 'orderBy': ['desc', [[0, [3, 0, False], None]]]}"
        ],
        [
         "30",
         "17",
         "Rạp chiếu phim, Điện ảnh, Phim trường",
         "select địa điểm from rạp chiếu phim where sức chứa > 300 group by địa điểm having count ( * ) >= 2",
         "['select', 'địa điểm', 'from', 'rạp chiếu phim', 'where', 'sức chứa', '>', '300', 'group', 'by', 'địa điểm', 'having', 'count', '(', '*', ')', '>=', '2']",
         "['select', 'địa điểm', 'from', 'rạp chiếu phim', 'where', 'sức chứa', '>', 'value', 'group', 'by', 'địa điểm', 'having', 'count', '(', '*', ')', '>', '=', 'value']",
         "Hiển thị tất cả các địa điểm có ít nhất hai rạp chiếu phim với sức chứa trên 300 .",
         "['Hiển', 'thị', 'tất', 'cả', 'các', 'địa', 'điểm', 'có', 'ít', 'nhất', 'hai', 'rạp', 'chiếu', 'phim', 'với', 'sức', 'chứa', 'trên', '300', '.']",
         "{'except': None, 'from': {'conds': [], 'table_units': [['table_unit', 1]]}, 'groupBy': [[0, 12, False]], 'where': [[False, 3, [0, [0, 11, False], None], 300.0, None]], 'limit': None, 'union': None, 'intersect': None, 'having': [[False, 5, [0, [3, 0, False], None], 2.0, None]], 'select': [False, [[0, [0, [0, 12, False], None]]]], 'orderBy': []}"
        ],
        [
         "31",
         "17",
         "Rạp chiếu phim, Điện ảnh, Phim trường",
         "select địa điểm from rạp chiếu phim where sức chứa > 300 group by địa điểm having count ( * ) >= 2",
         "['select', 'địa điểm', 'from', 'rạp chiếu phim', 'where', 'sức chứa', '>', '300', 'group', 'by', 'địa điểm', 'having', 'count', '(', '*', ')', '>=', '2']",
         "['select', 'địa điểm', 'from', 'rạp chiếu phim', 'where', 'sức chứa', '>', 'value', 'group', 'by', 'địa điểm', 'having', 'count', '(', '*', ')', '>', '=', 'value']",
         "Những địa điểm nào có từ 2 rạp chiếu phim với sức chứa lớn hơn 300 ?",
         "['Những', 'địa', 'điểm', 'nào', 'có', 'từ', '2', 'rạp', 'chiếu', 'phim', 'với', 'sức', 'chứa', 'lớn', 'hơn', '300', '?']",
         "{'except': None, 'from': {'conds': [], 'table_units': [['table_unit', 1]]}, 'groupBy': [[0, 12, False]], 'where': [[False, 3, [0, [0, 11, False], None], 300.0, None]], 'limit': None, 'union': None, 'intersect': None, 'having': [[False, 5, [0, [3, 0, False], None], 2.0, None]], 'select': [False, [[0, [0, [0, 12, False], None]]]], 'orderBy': []}"
        ],
        [
         "32",
         "17",
         "Rạp chiếu phim, Điện ảnh, Phim trường",
         "select tiêu đề , được đạo diễn bởi from phim",
         "['select', 'tiêu đề', ',', 'được đạo diễn bởi', 'from', 'phim']",
         "['select', 'tiêu đề', ',', 'được đạo diễn bởi', 'from', 'phim']",
         "Hiển thị tiêu đề và đạo diễn của tất cả các bộ phim .",
         "['Hiển', 'thị', 'tiêu', 'đề', 'và', 'đạo', 'diễn', 'của', 'tất', 'cả', 'các', 'bộ', 'phim', '.']",
         "{'except': None, 'from': {'conds': [], 'table_units': [['table_unit', 0]]}, 'groupBy': [], 'where': [], 'limit': None, 'union': None, 'intersect': None, 'having': [], 'select': [False, [[0, [0, [0, 4, False], None]], [0, [0, [0, 5, False], None]]]], 'orderBy': []}"
        ],
        [
         "33",
         "17",
         "Rạp chiếu phim, Điện ảnh, Phim trường",
         "select tiêu đề , được đạo diễn bởi from phim",
         "['select', 'tiêu đề', ',', 'được đạo diễn bởi', 'from', 'phim']",
         "['select', 'tiêu đề', ',', 'được đạo diễn bởi', 'from', 'phim']",
         "Tiêu đề và đạo diễn của từng bộ phim ?",
         "['Tiêu', 'đề', 'và', 'đạo', 'diễn', 'của', 'từng', 'bộ', 'phim', '?']",
         "{'except': None, 'from': {'conds': [], 'table_units': [['table_unit', 0]]}, 'groupBy': [], 'where': [], 'limit': None, 'union': None, 'intersect': None, 'having': [], 'select': [False, [[0, [0, [0, 4, False], None]], [0, [0, [0, 5, False], None]]]], 'orderBy': []}"
        ],
        [
         "34",
         "17",
         "Rạp chiếu phim, Điện ảnh, Phim trường",
         "select distinct được đạo diễn bởi from phim",
         "['select', 'distinct', 'được đạo diễn bởi', 'from', 'phim']",
         "['select', 'distinct', 'được đạo diễn bởi', 'from', 'phim']",
         "Hiển thị tất cả các đạo diễn .",
         "['Hiển', 'thị', 'tất', 'cả', 'các', 'đạo', 'diễn', '.']",
         "{'except': None, 'from': {'conds': [], 'table_units': [['table_unit', 0]]}, 'groupBy': [], 'where': [], 'limit': None, 'union': None, 'intersect': None, 'having': [], 'select': [True, [[0, [0, [0, 5, False], None]]]], 'orderBy': []}"
        ],
        [
         "35",
         "17",
         "Rạp chiếu phim, Điện ảnh, Phim trường",
         "select distinct được đạo diễn bởi from phim",
         "['select', 'distinct', 'được đạo diễn bởi', 'from', 'phim']",
         "['select', 'distinct', 'được đạo diễn bởi', 'from', 'phim']",
         "Liệt kê tất cả các đạo diễn .",
         "['Liệt', 'kê', 'tất', 'cả', 'các', 'đạo', 'diễn', '.']",
         "{'except': None, 'from': {'conds': [], 'table_units': [['table_unit', 0]]}, 'groupBy': [], 'where': [], 'limit': None, 'union': None, 'intersect': None, 'having': [], 'select': [True, [[0, [0, [0, 5, False], None]]]], 'orderBy': []}"
        ],
        [
         "36",
         "17",
         "Rạp chiếu phim, Điện ảnh, Phim trường",
         "select được đạo diễn bởi , count ( * ) from phim group by được đạo diễn bởi",
         "['select', 'được đạo diễn bởi', ',', 'count', '(', '*', ')', 'from', 'phim', 'group', 'by', 'được đạo diễn bởi']",
         "['select', 'được đạo diễn bởi', ',', 'count', '(', '*', ')', 'from', 'phim', 'group', 'by', 'được đạo diễn bởi']",
         "Liệt kê tất cả các đạo diễn cùng với số lượng phim của từng người .",
         "['Liệt', 'kê', 'tất', 'cả', 'các', 'đạo', 'diễn', 'cùng', 'với', 'số', 'lượng', 'phim', 'của', 'từng', 'người', '.']",
         "{'except': None, 'from': {'conds': [], 'table_units': [['table_unit', 0]]}, 'groupBy': [[0, 5, False]], 'where': [], 'limit': None, 'union': None, 'intersect': None, 'having': [], 'select': [False, [[0, [0, [0, 5, False], None]], [3, [0, [0, 0, False], None]]]], 'orderBy': []}"
        ],
        [
         "37",
         "17",
         "Rạp chiếu phim, Điện ảnh, Phim trường",
         "select t2.tên , sum ( t1.số lượng suất chiếu mỗi ngày ) from lịch chiếu phim as t1 join rạp chiếu phim as t2 on t1.id rạp chiếu phim = t2.id rạp chiếu phim group by t1.id rạp chiếu phim",
         "['select', 't2.tên', ',', 'sum', '(', 't1.số lượng suất chiếu mỗi ngày', ')', 'from', 'lịch chiếu phim', 'as', 't1', 'join', 'rạp chiếu phim', 'as', 't2', 'on', 't1.id rạp chiếu phim', '=', 't2.id rạp chiếu phim', 'group', 'by', 't1.id rạp chiếu phim']",
         "['select', 't2', '.', 'tên', ',', 'sum', '(', 't1', '.', 'số lượng suất chiếu mỗi ngày', ')', 'from', 'lịch chiếu phim', 'as', 't1', 'join', 'rạp chiếu phim', 'as', 't2', 'on', 't1', '.', 'id rạp chiếu phim', '=', 't2', '.', 'id rạp chiếu phim', 'group', 'by', 't1', '.', 'id rạp chiếu phim']",
         "Cho biết tổng số suất chiếu mỗi ngày của từng rạp chiếu phim .",
         "['Cho', 'biết', 'tổng', 'số', 'suất', 'chiếu', 'mỗi', 'ngày', 'của', 'từng', 'rạp', 'chiếu', 'phim', '.']",
         "{'except': None, 'from': {'conds': [[False, 2, [0, [0, 13, False], None], [0, 8, False], None]], 'table_units': [['table_unit', 2], ['table_unit', 1]]}, 'groupBy': [[0, 13, False]], 'where': [], 'limit': None, 'union': None, 'intersect': None, 'having': [], 'select': [False, [[0, [0, [0, 9, False], None]], [4, [0, [0, 16, False], None]]]], 'orderBy': []}"
        ],
        [
         "38",
         "17",
         "Rạp chiếu phim, Điện ảnh, Phim trường",
         "select t2.tiêu đề , max ( t1.giá ) from lịch chiếu phim as t1 join phim as t2 on t1.id phim = t2.id phim group by t1.id phim",
         "['select', 't2.tiêu đề', ',', 'max', '(', 't1.giá', ')', 'from', 'lịch chiếu phim', 'as', 't1', 'join', 'phim', 'as', 't2', 'on', 't1.id phim', '=', 't2.id phim', 'group', 'by', 't1.id phim']",
         "['select', 't2', '.', 'tiêu đề', ',', 'max', '(', 't1', '.', 'giá', ')', 'from', 'lịch chiếu phim', 'as', 't1', 'join', 'phim', 'as', 't2', 'on', 't1', '.', 'id phim', '=', 't2', '.', 'id phim', 'group', 'by', 't1', '.', 'id phim']",
         "Cho biết tiêu đề và giá cao nhất của mỗi bộ phim .",
         "['Cho', 'biết', 'tiêu', 'đề', 'và', 'giá', 'cao', 'nhất', 'của', 'mỗi', 'bộ', 'phim', '.']",
         "{'except': None, 'from': {'conds': [[False, 2, [0, [0, 14, False], None], [0, 1, False], None]], 'table_units': [['table_unit', 2], ['table_unit', 0]]}, 'groupBy': [[0, 14, False]], 'where': [], 'limit': None, 'union': None, 'intersect': None, 'having': [], 'select': [False, [[0, [0, [0, 4, False], None]], [1, [0, [0, 17, False], None]]]], 'orderBy': []}"
        ],
        [
         "39",
         "17",
         "Rạp chiếu phim, Điện ảnh, Phim trường",
         "select t2.tiêu đề , max ( t1.giá ) from lịch chiếu phim as t1 join phim as t2 on t1.id phim = t2.id phim group by t1.id phim",
         "['select', 't2.tiêu đề', ',', 'max', '(', 't1.giá', ')', 'from', 'lịch chiếu phim', 'as', 't1', 'join', 'phim', 'as', 't2', 'on', 't1.id phim', '=', 't2.id phim', 'group', 'by', 't1.id phim']",
         "['select', 't2', '.', 'tiêu đề', ',', 'max', '(', 't1', '.', 'giá', ')', 'from', 'lịch chiếu phim', 'as', 't1', 'join', 'phim', 'as', 't2', 'on', 't1', '.', 'id phim', '=', 't2', '.', 'id phim', 'group', 'by', 't1', '.', 'id phim']",
         "Tiêu đề và giá cao nhất của từng bộ phim ?",
         "['Tiêu', 'đề', 'và', 'giá', 'cao', 'nhất', 'của', 'từng', 'bộ', 'phim', '?']",
         "{'except': None, 'from': {'conds': [[False, 2, [0, [0, 14, False], None], [0, 1, False], None]], 'table_units': [['table_unit', 2], ['table_unit', 0]]}, 'groupBy': [[0, 14, False]], 'where': [], 'limit': None, 'union': None, 'intersect': None, 'having': [], 'select': [False, [[0, [0, [0, 4, False], None]], [1, [0, [0, 17, False], None]]]], 'orderBy': []}"
        ],
        [
         "40",
         "17",
         "Rạp chiếu phim, Điện ảnh, Phim trường",
         "select t3.tên , t2.tiêu đề , t1.ngày , t1.giá from lịch chiếu phim as t1 join phim as t2 on t1.id phim = t2.id phim join rạp chiếu phim as t3 on t1.id rạp chiếu phim = t3.id rạp chiếu phim",
         "['select', 't3.tên', ',', 't2.tiêu đề', ',', 't1.ngày', ',', 't1.giá', 'from', 'lịch chiếu phim', 'as', 't1', 'join', 'phim', 'as', 't2', 'on', 't1.id phim', '=', 't2.id phim', 'join', 'rạp chiếu phim', 'as', 't3', 'on', 't1.id rạp chiếu phim', '=', 't3.id rạp chiếu phim']",
         "['select', 't3', '.', 'tên', ',', 't2', '.', 'tiêu đề', ',', 't1', '.', 'ngày', ',', 't1', '.', 'giá', 'from', 'lịch chiếu phim', 'as', 't1', 'join', 'phim', 'as', 't2', 'on', 't1', '.', 'id phim', '=', 't2', '.', 'id phim', 'join', 'rạp chiếu phim', 'as', 't3', 'on', 't1', '.', 'id rạp chiếu phim', '=', 't3', '.', 'id rạp chiếu phim']",
         "Hiển thị tên rạp chiếu phim , tiêu đề , ngày chiếu và giá của từng bộ phim có trong lịch chiếu .",
         "['Hiển', 'thị', 'tên', 'rạp', 'chiếu', 'phim', ',', 'tiêu', 'đề', ',', 'ngày', 'chiếu', 'và', 'giá', 'của', 'từng', 'bộ', 'phim', 'có', 'trong', 'lịch', 'chiếu', '.']",
         "{'except': None, 'from': {'conds': [[False, 2, [0, [0, 14, False], None], [0, 1, False], None]], 'table_units': [['table_unit', 2], ['table_unit', 0]]}, 'groupBy': [], 'where': [], 'limit': None, 'union': None, 'intersect': None, 'having': [], 'select': [False, [[0, [0, [0, 9, False], None]], [0, [0, [0, 4, False], None]], [0, [0, [0, 15, False], None]], [0, [0, [0, 17, False], None]]]], 'orderBy': []}"
        ],
        [
         "41",
         "17",
         "Rạp chiếu phim, Điện ảnh, Phim trường",
         "select tiêu đề , được đạo diễn bởi from phim where id phim not in ( select id phim from lịch chiếu phim )",
         "['select', 'tiêu đề', ',', 'được đạo diễn bởi', 'from', 'phim', 'where', 'id phim', 'not', 'in', '(', 'select', 'id phim', 'from', 'lịch chiếu phim', ')']",
         "['select', 'tiêu đề', ',', 'được đạo diễn bởi', 'from', 'phim', 'where', 'id phim', 'not', 'in', '(', 'select', 'id phim', 'from', 'lịch chiếu phim', ')']",
         "Cho biết tiêu đề và đạo diễn của những bộ phim không nằm trong lịch chiếu .",
         "['Cho', 'biết', 'tiêu', 'đề', 'và', 'đạo', 'diễn', 'của', 'những', 'bộ', 'phim', 'không', 'nằm', 'trong', 'lịch', 'chiếu', '.']",
         "{'except': None, 'from': {'conds': [], 'table_units': [['table_unit', 0]]}, 'groupBy': [], 'where': [[True, 8, [0, [0, 1, False], None], {'except': None, 'from': {'conds': [], 'table_units': [['table_unit', 2]]}, 'groupBy': [], 'where': [], 'limit': None, 'union': None, 'intersect': None, 'having': [], 'select': [False, [[0, [0, [0, 14, False], None]]]], 'orderBy': []}, None]], 'limit': None, 'union': None, 'intersect': None, 'having': [], 'select': [False, [[0, [0, [0, 4, False], None]], [0, [0, [0, 5, False], None]]]], 'orderBy': []}"
        ],
        [
         "42",
         "17",
         "Rạp chiếu phim, Điện ảnh, Phim trường",
         "select t2.được đạo diễn bởi from lịch chiếu phim as t1 join phim as t2 on t1.id phim = t2.id phim group by t2.được đạo diễn bởi order by sum ( t1.số lượng suất chiếu mỗi ngày ) desc limit 1",
         "['select', 't2.được đạo diễn bởi', 'from', 'lịch chiếu phim', 'as', 't1', 'join', 'phim', 'as', 't2', 'on', 't1.id phim', '=', 't2.id phim', 'group', 'by', 't2.được đạo diễn bởi', 'order', 'by', 'sum', '(', 't1.số lượng suất chiếu mỗi ngày', ')', 'desc', 'limit', '1']",
         "['select', 't2', '.', 'được đạo diễn bởi', 'from', 'lịch chiếu phim', 'as', 't1', 'join', 'phim', 'as', 't2', 'on', 't1', '.', 'id phim', '=', 't2', '.', 'id phim', 'group', 'by', 't2', '.', 'được đạo diễn bởi', 'order', 'by', 'sum', '(', 't1', '.', 'số lượng suất chiếu mỗi ngày', ')', 'desc', 'limit', 'value']",
         "Cho biết người đạo diễn có nhiều lần công chiếu nhất .",
         "['Cho', 'biết', 'người', 'đạo', 'diễn', 'có', 'nhiều', 'lần', 'công', 'chiếu', 'nhất', '.']",
         "{'except': None, 'from': {'conds': [[False, 2, [0, [0, 14, False], None], [0, 1, False], None]], 'table_units': [['table_unit', 2], ['table_unit', 0]]}, 'groupBy': [[0, 5, False]], 'where': [], 'limit': 1, 'union': None, 'intersect': None, 'having': [], 'select': [False, [[0, [0, [0, 5, False], None]]]], 'orderBy': ['desc', [[0, [4, 16, False], None]]]}"
        ],
        [
         "43",
         "17",
         "Rạp chiếu phim, Điện ảnh, Phim trường",
         "select địa điểm from rạp chiếu phim where sức chứa > 300 group by địa điểm having count ( * ) > 1",
         "['select', 'địa điểm', 'from', 'rạp chiếu phim', 'where', 'sức chứa', '>', '300', 'group', 'by', 'địa điểm', 'having', 'count', '(', '*', ')', '>', '1']",
         "['select', 'địa điểm', 'from', 'rạp chiếu phim', 'where', 'sức chứa', '>', 'value', 'group', 'by', 'địa điểm', 'having', 'count', '(', '*', ')', '>', 'value']",
         "Tìm các địa điểm có nhiều hơn một rạp chiếu phim với sức chứa trên 300 .",
         "['Tìm', 'các', 'địa', 'điểm', 'có', 'nhiều', 'hơn', 'một', 'rạp', 'chiếu', 'phim', 'với', 'sức', 'chứa', 'trên', '300', '.']",
         "{'except': None, 'from': {'conds': [], 'table_units': [['table_unit', 1]]}, 'groupBy': [[0, 12, False]], 'where': [[False, 3, [0, [0, 11, False], None], 300.0, None]], 'limit': None, 'union': None, 'intersect': None, 'having': [[False, 3, [0, [3, 0, False], None], 1.0, None]], 'select': [False, [[0, [0, [0, 12, False], None]]]], 'orderBy': []}"
        ],
        [
         "44",
         "17",
         "Rạp chiếu phim, Điện ảnh, Phim trường",
         "select địa điểm from rạp chiếu phim where sức chứa > 300 group by địa điểm having count ( * ) > 1",
         "['select', 'địa điểm', 'from', 'rạp chiếu phim', 'where', 'sức chứa', '>', '300', 'group', 'by', 'địa điểm', 'having', 'count', '(', '*', ')', '>', '1']",
         "['select', 'địa điểm', 'from', 'rạp chiếu phim', 'where', 'sức chứa', '>', 'value', 'group', 'by', 'địa điểm', 'having', 'count', '(', '*', ')', '>', 'value']",
         "Những địa điểm nào có nhiều hơn một rạp chiếu phim với sức chứa trên 300 ?",
         "['Những', 'địa', 'điểm', 'nào', 'có', 'nhiều', 'hơn', 'một', 'rạp', 'chiếu', 'phim', 'với', 'sức', 'chứa', 'trên', '300', '?']",
         "{'except': None, 'from': {'conds': [], 'table_units': [['table_unit', 1]]}, 'groupBy': [[0, 12, False]], 'where': [[False, 3, [0, [0, 11, False], None], 300.0, None]], 'limit': None, 'union': None, 'intersect': None, 'having': [[False, 3, [0, [3, 0, False], None], 1.0, None]], 'select': [False, [[0, [0, [0, 12, False], None]]]], 'orderBy': []}"
        ],
        [
         "45",
         "17",
         "Rạp chiếu phim, Điện ảnh, Phim trường",
         "select count ( * ) from phim where tiêu đề like \"%Dummy%\"",
         "['select', 'count', '(', '*', ')', 'from', 'phim', 'where', 'tiêu đề', 'like', '\"%Dummy%\"']",
         "['select', 'count', '(', '*', ')', 'from', 'phim', 'where', 'tiêu đề', 'like', 'value']",
         "Có bao nhiêu bộ phim có từ ' Dummy ' trong tựa đề ?",
         "['Có', 'bao', 'nhiêu', 'bộ', 'phim', 'có', 'từ', \"'\", 'Dummy', \"'\", 'trong', 'tựa', 'đề', '?']",
         "{'except': None, 'from': {'conds': [], 'table_units': [['table_unit', 0]]}, 'groupBy': [], 'where': [[False, 9, [0, [0, 4, False], None], '\"%Dummy%\"', None]], 'limit': None, 'union': None, 'intersect': None, 'having': [], 'select': [False, [[3, [0, [0, 0, False], None]]]], 'orderBy': []}"
        ],
        [
         "46",
         "17",
         "Rạp chiếu phim, Điện ảnh, Phim trường",
         "select count ( * ) from phim where tiêu đề like \"%Dummy%\"",
         "['select', 'count', '(', '*', ')', 'from', 'phim', 'where', 'tiêu đề', 'like', '\"%Dummy%\"']",
         "['select', 'count', '(', '*', ')', 'from', 'phim', 'where', 'tiêu đề', 'like', 'value']",
         "Đếm số lượng phim có tựa đề chứa từ ' Dummy ' .",
         "['Đếm', 'số', 'lượng', 'phim', 'có', 'tựa', 'đề', 'chứa', 'từ', \"'\", 'Dummy', \"'\", '.']",
         "{'except': None, 'from': {'conds': [], 'table_units': [['table_unit', 0]]}, 'groupBy': [], 'where': [[False, 9, [0, [0, 4, False], None], '\"%Dummy%\"', None]], 'limit': None, 'union': None, 'intersect': None, 'having': [], 'select': [False, [[3, [0, [0, 0, False], None]]]], 'orderBy': []}"
        ],
        [
         "47",
         "24",
         "Trường cao đẳng, Đại học, Học viện",
         "select count ( * ) from khoá học",
         "['select', 'count', '(', '*', ')', 'from', 'khoá học']",
         "['select', 'count', '(', '*', ')', 'from', 'khoá học']",
         "Tổng cộng có bao nhiêu khoá học ?",
         "['Tổng', 'cộng', 'có', 'bao', 'nhiêu', 'khoá', 'học', '?']",
         "{'except': None, 'from': {'conds': [], 'table_units': [['table_unit', 4]]}, 'groupBy': [], 'where': [], 'limit': None, 'union': None, 'intersect': None, 'having': [], 'select': [False, [[3, [0, [0, 0, False], None]]]], 'orderBy': []}"
        ],
        [
         "48",
         "24",
         "Trường cao đẳng, Đại học, Học viện",
         "select count ( * ) from khoá học",
         "['select', 'count', '(', '*', ')', 'from', 'khoá học']",
         "['select', 'count', '(', '*', ')', 'from', 'khoá học']",
         "Đếm số lượng các khoá học .",
         "['Đếm', 'số', 'lượng', 'các', 'khoá', 'học', '.']",
         "{'except': None, 'from': {'conds': [], 'table_units': [['table_unit', 4]]}, 'groupBy': [], 'where': [], 'limit': None, 'union': None, 'intersect': None, 'having': [], 'select': [False, [[3, [0, [0, 0, False], None]]]], 'orderBy': []}"
        ],
        [
         "49",
         "24",
         "Trường cao đẳng, Đại học, Học viện",
         "select count ( * ) from khoá học where số lượng tín chỉ > 2",
         "['select', 'count', '(', '*', ')', 'from', 'khoá học', 'where', 'số lượng tín chỉ', '>', '2']",
         "['select', 'count', '(', '*', ')', 'from', 'khoá học', 'where', 'số lượng tín chỉ', '>', 'value']",
         "Có bao nhiêu khoá học cung cấp nhiều hơn 2 tín chỉ ?",
         "['Có', 'bao', 'nhiêu', 'khoá', 'học', 'cung', 'cấp', 'nhiều', 'hơn', '2', 'tín', 'chỉ', '?']",
         "{'except': None, 'from': {'conds': [], 'table_units': [['table_unit', 4]]}, 'groupBy': [], 'where': [[False, 3, [0, [0, 28, False], None], 2.0, None]], 'limit': None, 'union': None, 'intersect': None, 'having': [], 'select': [False, [[3, [0, [0, 0, False], None]]]], 'orderBy': []}"
        ]
       ],
       "shape": {
        "columns": 8,
        "rows": 9626
       }
      },
      "text/html": [
       "<div>\n",
       "<style scoped>\n",
       "    .dataframe tbody tr th:only-of-type {\n",
       "        vertical-align: middle;\n",
       "    }\n",
       "\n",
       "    .dataframe tbody tr th {\n",
       "        vertical-align: top;\n",
       "    }\n",
       "\n",
       "    .dataframe thead th {\n",
       "        text-align: right;\n",
       "    }\n",
       "</style>\n",
       "<table border=\"1\" class=\"dataframe\">\n",
       "  <thead>\n",
       "    <tr style=\"text-align: right;\">\n",
       "      <th></th>\n",
       "      <th>db_id</th>\n",
       "      <th>db_id_vn</th>\n",
       "      <th>query</th>\n",
       "      <th>query_toks</th>\n",
       "      <th>query_toks_no_value</th>\n",
       "      <th>question</th>\n",
       "      <th>question_toks</th>\n",
       "      <th>sql</th>\n",
       "    </tr>\n",
       "  </thead>\n",
       "  <tbody>\n",
       "    <tr>\n",
       "      <th>0</th>\n",
       "      <td>5</td>\n",
       "      <td>Kiến trúc, Xây dựng, Công trình</td>\n",
       "      <td>select count ( * ) from kiến trúc sư where giớ...</td>\n",
       "      <td>[select, count, (, *, ), from, kiến trúc sư, w...</td>\n",
       "      <td>[select, count, (, *, ), from, kiến trúc sư, w...</td>\n",
       "      <td>Có tất cả bao nhiêu kiến trúc sư nữ ?</td>\n",
       "      <td>[Có, tất, cả, bao, nhiêu, kiến, trúc, sư, nữ, ?]</td>\n",
       "      <td>{'except': None, 'from': {'conds': [], 'table_...</td>\n",
       "    </tr>\n",
       "    <tr>\n",
       "      <th>1</th>\n",
       "      <td>5</td>\n",
       "      <td>Kiến trúc, Xây dựng, Công trình</td>\n",
       "      <td>select tên , quốc tịch , id from kiến trúc sư ...</td>\n",
       "      <td>[select, tên, ,, quốc tịch, ,, id, from, kiến ...</td>\n",
       "      <td>[select, tên, ,, quốc tịch, ,, id, from, kiến ...</td>\n",
       "      <td>Liệt kê tên , quốc tịch và id của tất cả các k...</td>\n",
       "      <td>[Liệt, kê, tên, ,, quốc, tịch, và, id, của, tấ...</td>\n",
       "      <td>{'except': None, 'from': {'conds': [], 'table_...</td>\n",
       "    </tr>\n",
       "    <tr>\n",
       "      <th>2</th>\n",
       "      <td>5</td>\n",
       "      <td>Kiến trúc, Xây dựng, Công trình</td>\n",
       "      <td>select max ( t1.chiều dài theo mét ) , t2.tên ...</td>\n",
       "      <td>[select, max, (, t1.chiều dài theo mét, ), ,, ...</td>\n",
       "      <td>[select, max, (, t1, ., chiều dài theo mét, ),...</td>\n",
       "      <td>Cho biết tên của người kiến trúc sư đã tạo ra ...</td>\n",
       "      <td>[Cho, biết, tên, của, người, kiến, trúc, sư, đ...</td>\n",
       "      <td>{'except': None, 'from': {'conds': [[False, 2,...</td>\n",
       "    </tr>\n",
       "    <tr>\n",
       "      <th>3</th>\n",
       "      <td>5</td>\n",
       "      <td>Kiến trúc, Xây dựng, Công trình</td>\n",
       "      <td>select avg ( chiều dài theo feet ) from cầu</td>\n",
       "      <td>[select, avg, (, chiều dài theo feet, ), from,...</td>\n",
       "      <td>[select, avg, (, chiều dài theo feet, ), from,...</td>\n",
       "      <td>Cho biết chiều dài trung bình tính theo feet c...</td>\n",
       "      <td>[Cho, biết, chiều, dài, trung, bình, tính, the...</td>\n",
       "      <td>{'except': None, 'from': {'conds': [], 'table_...</td>\n",
       "    </tr>\n",
       "    <tr>\n",
       "      <th>4</th>\n",
       "      <td>5</td>\n",
       "      <td>Kiến trúc, Xây dựng, Công trình</td>\n",
       "      <td>select tên , năm xây dựng from nhà máy where l...</td>\n",
       "      <td>[select, tên, ,, năm xây dựng, from, nhà máy, ...</td>\n",
       "      <td>[select, tên, ,, năm xây dựng, from, nhà máy, ...</td>\n",
       "      <td>Cho biết tên và năm xây dựng của các nhà máy t...</td>\n",
       "      <td>[Cho, biết, tên, và, năm, xây, dựng, của, các,...</td>\n",
       "      <td>{'except': None, 'from': {'conds': [], 'table_...</td>\n",
       "    </tr>\n",
       "    <tr>\n",
       "      <th>...</th>\n",
       "      <td>...</td>\n",
       "      <td>...</td>\n",
       "      <td>...</td>\n",
       "      <td>...</td>\n",
       "      <td>...</td>\n",
       "      <td>...</td>\n",
       "      <td>...</td>\n",
       "      <td>...</td>\n",
       "    </tr>\n",
       "    <tr>\n",
       "      <th>9688</th>\n",
       "      <td>163</td>\n",
       "      <td>Đô vật, Vận động viên đấu vật, Thể thao đối kháng</td>\n",
       "      <td>select đội from lần bị loại where bị loại bởi ...</td>\n",
       "      <td>[select, đội, from, lần bị loại, where, bị loạ...</td>\n",
       "      <td>[select, đội, from, lần bị loại, where, bị loạ...</td>\n",
       "      <td>Những đội có các đô vật bị loại bởi ' Orton ' ...</td>\n",
       "      <td>[Những, đội, có, các, đô, vật, bị, loại, bởi, ...</td>\n",
       "      <td>{'except': None, 'from': {'conds': [], 'table_...</td>\n",
       "    </tr>\n",
       "    <tr>\n",
       "      <th>9689</th>\n",
       "      <td>163</td>\n",
       "      <td>Đô vật, Vận động viên đấu vật, Thể thao đối kháng</td>\n",
       "      <td>select count ( distinct đội ) from lần bị loại</td>\n",
       "      <td>[select, count, (, distinct, đội, ), from, lần...</td>\n",
       "      <td>[select, count, (, distinct, đội, ), from, lần...</td>\n",
       "      <td>Những đô vật đã bị loại đại diện cho tất cả ba...</td>\n",
       "      <td>[Những, đô, vật, đã, bị, loại, đại, diện, cho,...</td>\n",
       "      <td>{'except': None, 'from': {'conds': [], 'table_...</td>\n",
       "    </tr>\n",
       "    <tr>\n",
       "      <th>9690</th>\n",
       "      <td>163</td>\n",
       "      <td>Đô vật, Vận động viên đấu vật, Thể thao đối kháng</td>\n",
       "      <td>select count ( distinct đội ) from lần bị loại</td>\n",
       "      <td>[select, count, (, distinct, đội, ), from, lần...</td>\n",
       "      <td>[select, count, (, distinct, đội, ), from, lần...</td>\n",
       "      <td>Có bao nhiêu đội khác nhau có thành viên là cá...</td>\n",
       "      <td>[Có, bao, nhiêu, đội, khác, nhau, có, thành, v...</td>\n",
       "      <td>{'except': None, 'from': {'conds': [], 'table_...</td>\n",
       "    </tr>\n",
       "    <tr>\n",
       "      <th>9691</th>\n",
       "      <td>163</td>\n",
       "      <td>Đô vật, Vận động viên đấu vật, Thể thao đối kháng</td>\n",
       "      <td>select thời gian from lần bị loại where bị loạ...</td>\n",
       "      <td>[select, thời gian, from, lần bị loại, where, ...</td>\n",
       "      <td>[select, thời gian, from, lần bị loại, where, ...</td>\n",
       "      <td>Những đô vật đã bị loại bởi ' Punk ' hoặc ' Or...</td>\n",
       "      <td>[Những, đô, vật, đã, bị, loại, bởi, ', Punk, '...</td>\n",
       "      <td>{'except': None, 'from': {'conds': [], 'table_...</td>\n",
       "    </tr>\n",
       "    <tr>\n",
       "      <th>9692</th>\n",
       "      <td>163</td>\n",
       "      <td>Đô vật, Vận động viên đấu vật, Thể thao đối kháng</td>\n",
       "      <td>select thời gian from lần bị loại where bị loạ...</td>\n",
       "      <td>[select, thời gian, from, lần bị loại, where, ...</td>\n",
       "      <td>[select, thời gian, from, lần bị loại, where, ...</td>\n",
       "      <td>Cho biết thời gian bị loại của các đô vật bị l...</td>\n",
       "      <td>[Cho, biết, thời, điểm, bị, loại, của, các, đô...</td>\n",
       "      <td>{'except': None, 'from': {'conds': [], 'table_...</td>\n",
       "    </tr>\n",
       "  </tbody>\n",
       "</table>\n",
       "<p>9626 rows × 8 columns</p>\n",
       "</div>"
      ],
      "text/plain": [
       "      db_id                                           db_id_vn  \\\n",
       "0         5                    Kiến trúc, Xây dựng, Công trình   \n",
       "1         5                    Kiến trúc, Xây dựng, Công trình   \n",
       "2         5                    Kiến trúc, Xây dựng, Công trình   \n",
       "3         5                    Kiến trúc, Xây dựng, Công trình   \n",
       "4         5                    Kiến trúc, Xây dựng, Công trình   \n",
       "...     ...                                                ...   \n",
       "9688    163  Đô vật, Vận động viên đấu vật, Thể thao đối kháng   \n",
       "9689    163  Đô vật, Vận động viên đấu vật, Thể thao đối kháng   \n",
       "9690    163  Đô vật, Vận động viên đấu vật, Thể thao đối kháng   \n",
       "9691    163  Đô vật, Vận động viên đấu vật, Thể thao đối kháng   \n",
       "9692    163  Đô vật, Vận động viên đấu vật, Thể thao đối kháng   \n",
       "\n",
       "                                                  query  \\\n",
       "0     select count ( * ) from kiến trúc sư where giớ...   \n",
       "1     select tên , quốc tịch , id from kiến trúc sư ...   \n",
       "2     select max ( t1.chiều dài theo mét ) , t2.tên ...   \n",
       "3           select avg ( chiều dài theo feet ) from cầu   \n",
       "4     select tên , năm xây dựng from nhà máy where l...   \n",
       "...                                                 ...   \n",
       "9688  select đội from lần bị loại where bị loại bởi ...   \n",
       "9689     select count ( distinct đội ) from lần bị loại   \n",
       "9690     select count ( distinct đội ) from lần bị loại   \n",
       "9691  select thời gian from lần bị loại where bị loạ...   \n",
       "9692  select thời gian from lần bị loại where bị loạ...   \n",
       "\n",
       "                                             query_toks  \\\n",
       "0     [select, count, (, *, ), from, kiến trúc sư, w...   \n",
       "1     [select, tên, ,, quốc tịch, ,, id, from, kiến ...   \n",
       "2     [select, max, (, t1.chiều dài theo mét, ), ,, ...   \n",
       "3     [select, avg, (, chiều dài theo feet, ), from,...   \n",
       "4     [select, tên, ,, năm xây dựng, from, nhà máy, ...   \n",
       "...                                                 ...   \n",
       "9688  [select, đội, from, lần bị loại, where, bị loạ...   \n",
       "9689  [select, count, (, distinct, đội, ), from, lần...   \n",
       "9690  [select, count, (, distinct, đội, ), from, lần...   \n",
       "9691  [select, thời gian, from, lần bị loại, where, ...   \n",
       "9692  [select, thời gian, from, lần bị loại, where, ...   \n",
       "\n",
       "                                    query_toks_no_value  \\\n",
       "0     [select, count, (, *, ), from, kiến trúc sư, w...   \n",
       "1     [select, tên, ,, quốc tịch, ,, id, from, kiến ...   \n",
       "2     [select, max, (, t1, ., chiều dài theo mét, ),...   \n",
       "3     [select, avg, (, chiều dài theo feet, ), from,...   \n",
       "4     [select, tên, ,, năm xây dựng, from, nhà máy, ...   \n",
       "...                                                 ...   \n",
       "9688  [select, đội, from, lần bị loại, where, bị loạ...   \n",
       "9689  [select, count, (, distinct, đội, ), from, lần...   \n",
       "9690  [select, count, (, distinct, đội, ), from, lần...   \n",
       "9691  [select, thời gian, from, lần bị loại, where, ...   \n",
       "9692  [select, thời gian, from, lần bị loại, where, ...   \n",
       "\n",
       "                                               question  \\\n",
       "0                 Có tất cả bao nhiêu kiến trúc sư nữ ?   \n",
       "1     Liệt kê tên , quốc tịch và id của tất cả các k...   \n",
       "2     Cho biết tên của người kiến trúc sư đã tạo ra ...   \n",
       "3     Cho biết chiều dài trung bình tính theo feet c...   \n",
       "4     Cho biết tên và năm xây dựng của các nhà máy t...   \n",
       "...                                                 ...   \n",
       "9688  Những đội có các đô vật bị loại bởi ' Orton ' ...   \n",
       "9689  Những đô vật đã bị loại đại diện cho tất cả ba...   \n",
       "9690  Có bao nhiêu đội khác nhau có thành viên là cá...   \n",
       "9691  Những đô vật đã bị loại bởi ' Punk ' hoặc ' Or...   \n",
       "9692  Cho biết thời gian bị loại của các đô vật bị l...   \n",
       "\n",
       "                                          question_toks  \\\n",
       "0      [Có, tất, cả, bao, nhiêu, kiến, trúc, sư, nữ, ?]   \n",
       "1     [Liệt, kê, tên, ,, quốc, tịch, và, id, của, tấ...   \n",
       "2     [Cho, biết, tên, của, người, kiến, trúc, sư, đ...   \n",
       "3     [Cho, biết, chiều, dài, trung, bình, tính, the...   \n",
       "4     [Cho, biết, tên, và, năm, xây, dựng, của, các,...   \n",
       "...                                                 ...   \n",
       "9688  [Những, đội, có, các, đô, vật, bị, loại, bởi, ...   \n",
       "9689  [Những, đô, vật, đã, bị, loại, đại, diện, cho,...   \n",
       "9690  [Có, bao, nhiêu, đội, khác, nhau, có, thành, v...   \n",
       "9691  [Những, đô, vật, đã, bị, loại, bởi, ', Punk, '...   \n",
       "9692  [Cho, biết, thời, điểm, bị, loại, của, các, đô...   \n",
       "\n",
       "                                                    sql  \n",
       "0     {'except': None, 'from': {'conds': [], 'table_...  \n",
       "1     {'except': None, 'from': {'conds': [], 'table_...  \n",
       "2     {'except': None, 'from': {'conds': [[False, 2,...  \n",
       "3     {'except': None, 'from': {'conds': [], 'table_...  \n",
       "4     {'except': None, 'from': {'conds': [], 'table_...  \n",
       "...                                                 ...  \n",
       "9688  {'except': None, 'from': {'conds': [], 'table_...  \n",
       "9689  {'except': None, 'from': {'conds': [], 'table_...  \n",
       "9690  {'except': None, 'from': {'conds': [], 'table_...  \n",
       "9691  {'except': None, 'from': {'conds': [], 'table_...  \n",
       "9692  {'except': None, 'from': {'conds': [], 'table_...  \n",
       "\n",
       "[9626 rows x 8 columns]"
      ]
     },
     "execution_count": 43,
     "metadata": {},
     "output_type": "execute_result"
    }
   ],
   "source": [
    "DF1"
   ]
  },
  {
   "cell_type": "markdown",
   "metadata": {},
   "source": [
    "Cho biết tên và năm xây dựng của các nhà máy thuộc loại ' Grondzeiler ' ?\n",
    "Đếm số lượng các giáo sư đã từng dạy lớp học có mã là ' ACCT-211 ' .\n",
    "Hiển thị những đoạn văn bản được viết trên các đánh giá có điểm xếp hạng là 2.5 ."
   ]
  },
  {
   "cell_type": "code",
   "execution_count": 44,
   "metadata": {},
   "outputs": [
    {
     "data": {
      "application/vnd.microsoft.datawrangler.viewer.v0+json": {
       "columns": [
        {
         "name": "index",
         "rawType": "int64",
         "type": "integer"
        },
        {
         "name": "db_id",
         "rawType": "int64",
         "type": "integer"
        },
        {
         "name": "db_id_vn",
         "rawType": "object",
         "type": "string"
        },
        {
         "name": "query",
         "rawType": "object",
         "type": "string"
        },
        {
         "name": "query_toks",
         "rawType": "object",
         "type": "unknown"
        },
        {
         "name": "query_toks_no_value",
         "rawType": "object",
         "type": "unknown"
        },
        {
         "name": "question",
         "rawType": "object",
         "type": "string"
        },
        {
         "name": "question_E",
         "rawType": "float64",
         "type": "float"
        },
        {
         "name": "question_toks",
         "rawType": "object",
         "type": "unknown"
        },
        {
         "name": "sql",
         "rawType": "object",
         "type": "unknown"
        }
       ],
       "ref": "fe4590d6-13d6-41a6-9f3a-cf53e6124583",
       "rows": [
        [
         "0",
         "5",
         "Kiến trúc, Xây dựng, Công trình",
         "select count ( * ) from kiến trúc sư where giới tính = \"female\"",
         "['select', 'count', '(', '*', ')', 'from', 'kiến trúc sư', 'where', 'giới tính', '=', '\"female\"']",
         "['select', 'count', '(', '*', ')', 'from', 'kiến trúc sư', 'where', 'giới tính', '=', 'value']",
         "Có tất cả bao nhiêu kiến trúc sư nữ ?",
         null,
         "['Có', 'tất', 'cả', 'bao', 'nhiêu', 'kiến', 'trúc', 'sư', 'nữ', '?']",
         "{'except': None, 'from': {'conds': [], 'table_units': [['table_unit', 0]]}, 'groupBy': [], 'where': [[False, 2, [0, [0, 4, False], None], '\"female\"', None]], 'limit': None, 'union': None, 'intersect': None, 'having': [], 'select': [False, [[3, [0, [0, 0, False], None]]]], 'orderBy': []}"
        ],
        [
         "1",
         "5",
         "Kiến trúc, Xây dựng, Công trình",
         "select tên , quốc tịch , id from kiến trúc sư where giới tính = \"male\" order by tên",
         "['select', 'tên', ',', 'quốc tịch', ',', 'id', 'from', 'kiến trúc sư', 'where', 'giới tính', '=', '\"male\"', 'order', 'by', 'tên']",
         "['select', 'tên', ',', 'quốc tịch', ',', 'id', 'from', 'kiến trúc sư', 'where', 'giới tính', '=', 'value', 'order', 'by', 'tên']",
         "Liệt kê tên , quốc tịch và id của tất cả các kiến trúc sư nam theo thứ tự tên .",
         null,
         "['Liệt', 'kê', 'tên', ',', 'quốc', 'tịch', 'và', 'id', 'của', 'tất', 'cả', 'các', 'kiến', 'trúc', 'sư', 'nam', 'theo', 'thứ', 'tự', 'tên', '.']",
         "{'except': None, 'from': {'conds': [], 'table_units': [['table_unit', 0]]}, 'groupBy': [], 'where': [[False, 2, [0, [0, 4, False], None], '\"male\"', None]], 'limit': None, 'union': None, 'intersect': None, 'having': [], 'select': [False, [[0, [0, [0, 2, False], None]], [0, [0, [0, 3, False], None]], [0, [0, [0, 1, False], None]]]], 'orderBy': ['asc', [[0, [0, 2, False], None]]]}"
        ],
        [
         "2",
         "5",
         "Kiến trúc, Xây dựng, Công trình",
         "select max ( t1.chiều dài theo mét ) , t2.tên from cầu as t1 join kiến trúc sư as t2 on t1.id kiến trúc sư = t2.id",
         "['select', 'max', '(', 't1.chiều dài theo mét', ')', ',', 't2.tên', 'from', 'cầu', 'as', 't1', 'join', 'kiến trúc sư', 'as', 't2', 'on', 't1.id kiến trúc sư', '=', 't2.id']",
         "['select', 'max', '(', 't1', '.', 'chiều dài theo mét', ')', ',', 't2', '.', 'tên', 'from', 'cầu', 'as', 't1', 'join', 'kiến trúc sư', 'as', 't2', 'on', 't1', '.', 'id kiến trúc sư', '=', 't2', '.', 'id']",
         "Cho biết tên của người kiến trúc sư đã tạo ra cây cầu dài nhất cũng như là chiều dài tính bằng mét của cây cầu này .",
         null,
         "['Cho', 'biết', 'tên', 'của', 'người', 'kiến', 'trúc', 'sư', 'đã', 'tạo', 'ra', 'cây', 'cầu', 'dài', 'nhất', 'cũng', 'như', 'là', 'chiều', 'dài', 'tính', 'bằng', 'mét', 'của', 'cây', 'cầu', 'này', '.']",
         "{'except': None, 'from': {'conds': [[False, 2, [0, [0, 5, False], None], [0, 1, False], None]], 'table_units': [['table_unit', 1], ['table_unit', 0]]}, 'groupBy': [], 'where': [], 'limit': None, 'union': None, 'intersect': None, 'having': [], 'select': [False, [[1, [0, [0, 9, False], None]], [0, [0, [0, 2, False], None]]]], 'orderBy': []}"
        ],
        [
         "3",
         "5",
         "Kiến trúc, Xây dựng, Công trình",
         "select avg ( chiều dài theo feet ) from cầu",
         "['select', 'avg', '(', 'chiều dài theo feet', ')', 'from', 'cầu']",
         "['select', 'avg', '(', 'chiều dài theo feet', ')', 'from', 'cầu']",
         "Cho biết chiều dài trung bình tính theo feet của tất cả các cây cầu .",
         null,
         "['Cho', 'biết', 'chiều', 'dài', 'trung', 'bình', 'tính', 'theo', 'feet', 'của', 'tất', 'cả', 'các', 'cây', 'cầu', '.']",
         "{'except': None, 'from': {'conds': [], 'table_units': [['table_unit', 1]]}, 'groupBy': [], 'where': [], 'limit': None, 'union': None, 'intersect': None, 'having': [], 'select': [False, [[5, [0, [0, 10, False], None]]]], 'orderBy': []}"
        ],
        [
         "4",
         "5",
         "Kiến trúc, Xây dựng, Công trình",
         "select tên , năm xây dựng from nhà máy where loại = \"Grondzeiler\"",
         "['select', 'tên', ',', 'năm xây dựng', 'from', 'nhà máy', 'where', 'loại', '=', '\"Grondzeiler\"']",
         "['select', 'tên', ',', 'năm xây dựng', 'from', 'nhà máy', 'where', 'loại', '=', 'value']",
         "Cho biết tên và năm xây dựng của các nhà máy thuộc loại ' Grondzeiler ' ?",
         null,
         "['Cho', 'biết', 'tên', 'và', 'năm', 'xây', 'dựng', 'của', 'các', 'nhà', 'máy', 'thuộc', 'loại', \"'\", 'Grondzeiler', \"'\", '?']",
         "{'except': None, 'from': {'conds': [], 'table_units': [['table_unit', 2]]}, 'groupBy': [], 'where': [[False, 2, [0, [0, 15, False], None], '\"Grondzeiler\"', None]], 'limit': None, 'union': None, 'intersect': None, 'having': [], 'select': [False, [[0, [0, [0, 14, False], None]], [0, [0, [0, 16, False], None]]]], 'orderBy': []}"
        ],
        [
         "5",
         "5",
         "Kiến trúc, Xây dựng, Công trình",
         "select distinct t1.tên , t1.quốc tịch from kiến trúc sư as t1 join nhà máy as t2 on t1.id = t2.id kiến trúc sư",
         "['select', 'distinct', 't1.tên', ',', 't1.quốc tịch', 'from', 'kiến trúc sư', 'as', 't1', 'join', 'nhà máy', 'as', 't2', 'on', 't1.id', '=', 't2.id kiến trúc sư']",
         "['select', 'distinct', 't1', '.', 'tên', ',', 't1', '.', 'quốc tịch', 'from', 'kiến trúc sư', 'as', 't1', 'join', 'nhà máy', 'as', 't2', 'on', 't1', '.', 'id', '=', 't2', '.', 'id kiến trúc sư']",
         "Cho biết tên và quốc tịch của những kiến trúc sư khác nhau đã từng xây dựng một nhà máy .",
         null,
         "['Cho', 'biết', 'tên', 'và', 'quốc', 'tịch', 'của', 'những', 'kiến', 'trúc', 'sư', 'khác', 'nhau', 'đã', 'từng', 'xây', 'dựng', 'một', 'nhà', 'máy', '.']",
         "{'except': None, 'from': {'conds': [[False, 2, [0, [0, 1, False], None], [0, 11, False], None]], 'table_units': [['table_unit', 0], ['table_unit', 2]]}, 'groupBy': [], 'where': [], 'limit': None, 'union': None, 'intersect': None, 'having': [], 'select': [True, [[0, [0, [0, 2, False], None]], [0, [0, [0, 3, False], None]]]], 'orderBy': []}"
        ],
        [
         "6",
         "5",
         "Kiến trúc, Xây dựng, Công trình",
         "select tên from nhà máy where địa điểm != \"Donceel\"",
         "['select', 'tên', 'from', 'nhà máy', 'where', 'địa điểm', '!=', '\"Donceel\"']",
         "['select', 'tên', 'from', 'nhà máy', 'where', 'địa điểm', '!', '=', 'value']",
         "Cho biết tên của các nhà máy không được đặt tại ' Donceel ' .",
         null,
         "['Cho', 'biết', 'tên', 'của', 'các', 'nhà', 'máy', 'không', 'được', 'đặt', 'tại', \"'\", 'Donceel', \"'\", '.']",
         "{'except': None, 'from': {'conds': [], 'table_units': [['table_unit', 2]]}, 'groupBy': [], 'where': [[False, 7, [0, [0, 13, False], None], '\"Donceel\"', None]], 'limit': None, 'union': None, 'intersect': None, 'having': [], 'select': [False, [[0, [0, [0, 14, False], None]]]], 'orderBy': []}"
        ],
        [
         "7",
         "5",
         "Kiến trúc, Xây dựng, Công trình",
         "select distinct t1.loại from nhà máy as t1 join kiến trúc sư as t2 on t1.id kiến trúc sư = t2.id where t2.quốc tịch = \"American\" or t2.quốc tịch = \"Canadian\"",
         "['select', 'distinct', 't1.loại', 'from', 'nhà máy', 'as', 't1', 'join', 'kiến trúc sư', 'as', 't2', 'on', 't1.id kiến trúc sư', '=', 't2.id', 'where', 't2.quốc tịch', '=', '\"American\"', 'or', 't2.quốc tịch', '=', '\"Canadian\"']",
         "['select', 'distinct', 't1', '.', 'loại', 'from', 'nhà máy', 'as', 't1', 'join', 'kiến trúc sư', 'as', 't2', 'on', 't1', '.', 'id kiến trúc sư', '=', 't2', '.', 'id', 'where', 't2', '.', 'quốc tịch', '=', 'value', 'or', 't2', '.', 'quốc tịch', '=', 'value']",
         "Cho biết các loại nhà máy khác nhau đã được xây dựng bởi các kiến trúc sư người Mỹ hoặc các kiến trúc sư người Canada .",
         null,
         "['Cho', 'biết', 'các', 'loại', 'nhà', 'máy', 'khác', 'nhau', 'đã', 'được', 'xây', 'dựng', 'bởi', 'các', 'kiến', 'trúc', 'sư', 'người', 'Mỹ', 'hoặc', 'các', 'kiến', 'trúc', 'sư', 'người', 'Canada', '.']",
         "{'except': None, 'from': {'conds': [[False, 2, [0, [0, 11, False], None], [0, 1, False], None]], 'table_units': [['table_unit', 2], ['table_unit', 0]]}, 'groupBy': [], 'where': [[False, 2, [0, [0, 3, False], None], '\"American\"', None], 'or', [False, 2, [0, [0, 3, False], None], '\"Canadian\"', None]], 'limit': None, 'union': None, 'intersect': None, 'having': [], 'select': [True, [[0, [0, [0, 15, False], None]]]], 'orderBy': []}"
        ],
        [
         "8",
         "5",
         "Kiến trúc, Xây dựng, Công trình",
         "select t1.id , t1.tên from kiến trúc sư as t1 join cầu as t2 on t1.id = t2.id kiến trúc sư group by t1.id having count ( * ) >= 3",
         "['select', 't1.id', ',', 't1.tên', 'from', 'kiến trúc sư', 'as', 't1', 'join', 'cầu', 'as', 't2', 'on', 't1.id', '=', 't2.id kiến trúc sư', 'group', 'by', 't1.id', 'having', 'count', '(', '*', ')', '>=', '3']",
         "['select', 't1', '.', 'id', ',', 't1', '.', 'tên', 'from', 'kiến trúc sư', 'as', 't1', 'join', 'cầu', 'as', 't2', 'on', 't1', '.', 'id', '=', 't2', '.', 'id kiến trúc sư', 'group', 'by', 't1', '.', 'id', 'having', 'count', '(', '*', ')', '>', '=', 'value']",
         "Cho biết id và tên của các kiến trúc sư đã xây dựng ít nhất 3 cây cầu .",
         null,
         "['Cho', 'biết', 'id', 'và', 'tên', 'của', 'các', 'kiến', 'trúc', 'sư', 'đã', 'xây', 'dựng', 'ít', 'nhất', '3', 'cây', 'cầu', '.']",
         "{'except': None, 'from': {'conds': [[False, 2, [0, [0, 1, False], None], [0, 5, False], None]], 'table_units': [['table_unit', 0], ['table_unit', 1]]}, 'groupBy': [[0, 1, False]], 'where': [], 'limit': None, 'union': None, 'intersect': None, 'having': [[False, 5, [0, [3, 0, False], None], 3.0, None]], 'select': [False, [[0, [0, [0, 1, False], None]], [0, [0, [0, 2, False], None]]]], 'orderBy': []}"
        ],
        [
         "9",
         "5",
         "Kiến trúc, Xây dựng, Công trình",
         "select t1.id , t1.tên , t1.quốc tịch from kiến trúc sư as t1 join nhà máy as t2 on t1.id = t2.id kiến trúc sư group by t1.id order by count ( * ) desc limit 1",
         "['select', 't1.id', ',', 't1.tên', ',', 't1.quốc tịch', 'from', 'kiến trúc sư', 'as', 't1', 'join', 'nhà máy', 'as', 't2', 'on', 't1.id', '=', 't2.id kiến trúc sư', 'group', 'by', 't1.id', 'order', 'by', 'count', '(', '*', ')', 'desc', 'limit', '1']",
         "['select', 't1', '.', 'id', ',', 't1', '.', 'tên', ',', 't1', '.', 'quốc tịch', 'from', 'kiến trúc sư', 'as', 't1', 'join', 'nhà máy', 'as', 't2', 'on', 't1', '.', 'id', '=', 't2', '.', 'id kiến trúc sư', 'group', 'by', 't1', '.', 'id', 'order', 'by', 'count', '(', '*', ')', 'desc', 'limit', 'value']",
         "Cho biết id , tên và quốc tịch của kiến trúc sư đã xây dựng nhiều nhà máy nhất .",
         null,
         "['Cho', 'biết', 'id', ',', 'tên', 'và', 'quốc', 'tịch', 'của', 'kiến', 'trúc', 'sư', 'đã', 'xây', 'dựng', 'nhiều', 'nhà', 'máy', 'nhất', '.']",
         "{'except': None, 'from': {'conds': [[False, 2, [0, [0, 1, False], None], [0, 11, False], None]], 'table_units': [['table_unit', 0], ['table_unit', 2]]}, 'groupBy': [[0, 1, False]], 'where': [], 'limit': 1, 'union': None, 'intersect': None, 'having': [], 'select': [False, [[0, [0, [0, 1, False], None]], [0, [0, [0, 2, False], None]], [0, [0, [0, 3, False], None]]]], 'orderBy': ['desc', [[0, [3, 0, False], None]]]}"
        ],
        [
         "10",
         "5",
         "Kiến trúc, Xây dựng, Công trình",
         "select t1.id , t1.tên , t1.giới tính from kiến trúc sư as t1 join cầu as t2 on t1.id = t2.id kiến trúc sư group by t1.id having count ( * ) = 2 union select t1.id , t1.tên , t1.giới tính from kiến trúc sư as t1 join nhà máy as t2 on t1.id = t2.id kiến trúc sư group by t1.id having count ( * ) = 1",
         "['select', 't1.id', ',', 't1.tên', ',', 't1.giới tính', 'from', 'kiến trúc sư', 'as', 't1', 'join', 'cầu', 'as', 't2', 'on', 't1.id', '=', 't2.id kiến trúc sư', 'group', 'by', 't1.id', 'having', 'count', '(', '*', ')', '=', '2', 'union', 'select', 't1.id', ',', 't1.tên', ',', 't1.giới tính', 'from', 'kiến trúc sư', 'as', 't1', 'join', 'nhà máy', 'as', 't2', 'on', 't1.id', '=', 't2.id kiến trúc sư', 'group', 'by', 't1.id', 'having', 'count', '(', '*', ')', '=', '1']",
         "['select', 't1', '.', 'id', ',', 't1', '.', 'tên', ',', 't1', '.', 'giới tính', 'from', 'kiến trúc sư', 'as', 't1', 'join', 'cầu', 'as', 't2', 'on', 't1', '.', 'id', '=', 't2', '.', 'id kiến trúc sư', 'group', 'by', 't1', '.', 'id', 'having', 'count', '(', '*', ')', '=', 'value', 'union', 'select', 't1', '.', 'id', ',', 't1', '.', 'tên', ',', 't1', '.', 'giới tính', 'from', 'kiến trúc sư', 'as', 't1', 'join', 'nhà máy', 'as', 't2', 'on', 't1', '.', 'id', '=', 't2', '.', 'id kiến trúc sư', 'group', 'by', 't1', '.', 'id', 'having', 'count', '(', '*', ')', '=', 'value']",
         "Cho biết id , tên và giới tính của các kiến trúc sư đã xây dựng hai cây cầu hoặc một nhà máy .",
         null,
         "['Cho', 'biết', 'id', ',', 'tên', 'và', 'giới', 'tính', 'của', 'các', 'kiến', 'trúc', 'sư', 'đã', 'xây', 'dựng', 'hai', 'cây', 'cầu', 'hoặc', 'một', 'nhà', 'máy', '.']",
         "{'except': None, 'from': {'conds': [[False, 2, [0, [0, 1, False], None], [0, 11, False], None]], 'table_units': [['table_unit', 0], ['table_unit', 1]]}, 'groupBy': [[0, 1, False]], 'where': [], 'limit': None, 'union': {'except': None, 'from': {'conds': [[False, 2, [0, [0, 1, False], None], [0, 11, False], None]], 'table_units': [['table_unit', 0], ['table_unit', 2]]}, 'groupBy': [[0, 1, False]], 'where': [], 'limit': None, 'union': None, 'intersect': None, 'having': [[False, 2, [0, [3, 0, False], None], 1.0, None]], 'select': [False, [[0, [0, [0, 1, False], None]], [0, [0, [0, 2, False], None]], [0, [0, [0, 4, False], None]]]], 'orderBy': []}, 'intersect': None, 'having': [[False, 2, [0, [3, 0, False], None], 2.0, None]], 'select': [False, [[0, [0, [0, 1, False], None]], [0, [0, [0, 2, False], None]], [0, [0, [0, 4, False], None]]]], 'orderBy': []}"
        ],
        [
         "11",
         "5",
         "Kiến trúc, Xây dựng, Công trình",
         "select địa điểm from cầu where tên = \"Kolob Arch\" or tên = \"Rainbow Bridge\"",
         "['select', 'địa điểm', 'from', 'cầu', 'where', 'tên', '=', '\"Kolob Arch\"', 'or', 'tên', '=', '\"Rainbow Bridge\"']",
         "['select', 'địa điểm', 'from', 'cầu', 'where', 'tên', '=', 'value', 'or', 'tên', '=', 'value']",
         "Cho biết địa điểm của cây cầu có tên là ' Cổng vòm Kolob ' hoặc cây cầu có tên là ' Cầu cầu vồng ' .",
         null,
         "['Cho', 'biết', 'địa', 'điểm', 'của', 'cây', 'cầu', 'có', 'tên', 'là', \"'\", 'Cổng', 'vòm', 'Kolob', \"'\", 'hoặc', 'cây', 'cầu', 'có', 'tên', 'là', \"'\", 'Cầu', 'cầu', 'vồng', \"'\", '.']",
         "{'except': None, 'from': {'conds': [], 'table_units': [['table_unit', 1]]}, 'groupBy': [], 'where': [[False, 2, [0, [0, 7, False], None], '\"Kolob Arch\"', None], 'or', [False, 2, [0, [0, 7, False], None], '\"Rainbow Bridge\"', None]], 'limit': None, 'union': None, 'intersect': None, 'having': [], 'select': [False, [[0, [0, [0, 8, False], None]]]], 'orderBy': []}"
        ],
        [
         "12",
         "5",
         "Kiến trúc, Xây dựng, Công trình",
         "select tên from nhà máy where tên like \"%Moulin%\"",
         "['select', 'tên', 'from', 'nhà máy', 'where', 'tên', 'like', '\"%Moulin%\"']",
         "['select', 'tên', 'from', 'nhà máy', 'where', 'tên', 'like', 'value']",
         "Cho biết tên của nhà máy có chứa từ tiếng Pháp ' Moulin ' trong tên .",
         null,
         "['Cho', 'biết', 'tên', 'của', 'nhà', 'máy', 'có', 'chứa', 'từ', 'tiếng', 'Pháp', \"'\", 'Moulin', \"'\", 'trong', 'tên', '.']",
         "{'except': None, 'from': {'conds': [], 'table_units': [['table_unit', 2]]}, 'groupBy': [], 'where': [[False, 9, [0, [0, 14, False], None], '\"%Moulin%\"', None]], 'limit': None, 'union': None, 'intersect': None, 'having': [], 'select': [False, [[0, [0, [0, 14, False], None]]]], 'orderBy': []}"
        ],
        [
         "13",
         "5",
         "Kiến trúc, Xây dựng, Công trình",
         "select distinct t1.tên from nhà máy as t1 join kiến trúc sư as t2 on t1.id kiến trúc sư = t2.id join cầu as t3 on t3.id kiến trúc sư = t2.id where t3.chiều dài theo mét > 80",
         "['select', 'distinct', 't1.tên', 'from', 'nhà máy', 'as', 't1', 'join', 'kiến trúc sư', 'as', 't2', 'on', 't1.id kiến trúc sư', '=', 't2.id', 'join', 'cầu', 'as', 't3', 'on', 't3.id kiến trúc sư', '=', 't2.id', 'where', 't3.chiều dài theo mét', '>', '80']",
         "['select', 'distinct', 't1', '.', 'tên', 'from', 'nhà máy', 'as', 't1', 'join', 'kiến trúc sư', 'as', 't2', 'on', 't1', '.', 'id kiến trúc sư', '=', 't2', '.', 'id', 'join', 'cầu', 'as', 't3', 'on', 't3', '.', 'id kiến trúc sư', '=', 't2', '.', 'id', 'where', 't3', '.', 'chiều dài theo mét', '>', 'value']",
         "Cho biết tên của các nhà máy khác nhau được xây dựng bởi các kiến trúc sư đã từng xây dựng một cây cầu dài hơn 80 mét .",
         null,
         "['Cho', 'biết', 'tên', 'của', 'các', 'nhà', 'máy', 'khác', 'nhau', 'được', 'xây', 'dựng', 'bởi', 'các', 'kiến', 'trúc', 'sư', 'đã', 'từng', 'xây', 'dựng', 'một', 'cây', 'cầu', 'dài', 'hơn', '80', 'mét', '.']",
         "{'except': None, 'from': {'conds': [[False, 2, [0, [0, 11, False], None], [0, 1, False], None]], 'table_units': [['table_unit', 2], ['table_unit', 0]]}, 'groupBy': [], 'where': [[False, 3, [0, [0, 9, False], None], 80.0, None]], 'limit': None, 'union': None, 'intersect': None, 'having': [], 'select': [True, [[0, [0, [0, 14, False], None]]]], 'orderBy': []}"
        ],
        [
         "14",
         "5",
         "Kiến trúc, Xây dựng, Công trình",
         "select loại , count ( * ) from nhà máy group by loại order by count ( * ) desc limit 1",
         "['select', 'loại', ',', 'count', '(', '*', ')', 'from', 'nhà máy', 'group', 'by', 'loại', 'order', 'by', 'count', '(', '*', ')', 'desc', 'limit', '1']",
         "['select', 'loại', ',', 'count', '(', '*', ')', 'from', 'nhà máy', 'group', 'by', 'loại', 'order', 'by', 'count', '(', '*', ')', 'desc', 'limit', 'value']",
         "Cho biết loại nhà máy phổ biết nhất và có bao nhiêu nhà máy thuộc loại này ?",
         null,
         "['Cho', 'biết', 'loại', 'nhà', 'máy', 'phổ', 'biết', 'nhất', 'và', 'có', 'bao', 'nhiêu', 'nhà', 'máy', 'thuộc', 'loại', 'này', '?']",
         "{'except': None, 'from': {'conds': [], 'table_units': [['table_unit', 2]]}, 'groupBy': [[0, 15, False]], 'where': [], 'limit': 1, 'union': None, 'intersect': None, 'having': [], 'select': [False, [[0, [0, [0, 15, False], None]], [3, [0, [0, 0, False], None]]]], 'orderBy': ['desc', [[0, [3, 0, False], None]]]}"
        ],
        [
         "15",
         "5",
         "Kiến trúc, Xây dựng, Công trình",
         "select count ( * ) from kiến trúc sư where id not in ( select id kiến trúc sư from nhà máy where năm xây dựng < 1850 )",
         "['select', 'count', '(', '*', ')', 'from', 'kiến trúc sư', 'where', 'id', 'not', 'in', '(', 'select', 'id kiến trúc sư', 'from', 'nhà máy', 'where', 'năm xây dựng', '<', '1850', ')']",
         "['select', 'count', '(', '*', ')', 'from', 'kiến trúc sư', 'where', 'id', 'not', 'in', '(', 'select', 'id kiến trúc sư', 'from', 'nhà máy', 'where', 'năm xây dựng', '<', 'value', ')']",
         "Có bao nhiêu kiến ​​trúc sư chưa từng xây dựng một nhà máy nào trước năm 1850 ?",
         null,
         "['Có', 'bao', 'nhiêu', 'kiến', '\\u200b\\u200btrúc', 'sư', 'chưa', 'từng', 'xây', 'dựng', 'một', 'nhà', 'máy', 'nào', 'trước', 'năm', '1850', '?']",
         "{'except': None, 'from': {'conds': [], 'table_units': [['table_unit', 0]]}, 'groupBy': [], 'where': [[True, 8, [0, [0, 1, False], None], {'except': None, 'from': {'conds': [], 'table_units': [['table_unit', 2]]}, 'groupBy': [], 'where': [[False, 4, [0, [0, 16, False], None], 1850.0, None]], 'limit': None, 'union': None, 'intersect': None, 'having': [], 'select': [False, [[0, [0, [0, 11, False], None]]]], 'orderBy': []}, None]], 'limit': None, 'union': None, 'intersect': None, 'having': [], 'select': [False, [[3, [0, [0, 0, False], None]]]], 'orderBy': []}"
        ],
        [
         "16",
         "5",
         "Kiến trúc, Xây dựng, Công trình",
         "select t1.tên from cầu as t1 join kiến trúc sư as t2 on t1.id kiến trúc sư = t2.id where t2.quốc tịch = \"American\" order by t1.chiều dài theo feet",
         "['select', 't1.tên', 'from', 'cầu', 'as', 't1', 'join', 'kiến trúc sư', 'as', 't2', 'on', 't1.id kiến trúc sư', '=', 't2.id', 'where', 't2.quốc tịch', '=', '\"American\"', 'order', 'by', 't1.chiều dài theo feet']",
         "['select', 't1', '.', 'tên', 'from', 'cầu', 'as', 't1', 'join', 'kiến trúc sư', 'as', 't2', 'on', 't1', '.', 'id kiến trúc sư', '=', 't2', '.', 'id', 'where', 't2', '.', 'quốc tịch', '=', 'value', 'order', 'by', 't1', '.', 'chiều dài theo feet']",
         "Hiển thị tên của tất cả những cây cầu được thiết kế bởi các kiến ​​trúc sư người Mỹ và sắp xếp kết quả theo thứ tự chiều dài chân cầu .",
         null,
         "['Hiển', 'thị', 'tên', 'của', 'tất', 'cả', 'những', 'cây', 'cầu', 'được', 'thiết', 'kế', 'bởi', 'các', 'kiến', '\\u200b\\u200btrúc', 'sư', 'người', 'Mỹ', 'và', 'sắp', 'xếp', 'kết', 'quả', 'theo', 'thứ', 'tự', 'chiều', 'dài', 'chân', 'cầu', '.']",
         "{'except': None, 'from': {'conds': [[False, 2, [0, [0, 5, False], None], [0, 1, False], None]], 'table_units': [['table_unit', 1], ['table_unit', 0]]}, 'groupBy': [], 'where': [[False, 2, [0, [0, 3, False], None], '\"American\"', None]], 'limit': None, 'union': None, 'intersect': None, 'having': [], 'select': [False, [[0, [0, [0, 7, False], None]]]], 'orderBy': ['asc', [[0, [0, 10, False], None]]]}"
        ],
        [
         "17",
         "17",
         "Rạp chiếu phim, Điện ảnh, Phim trường",
         "select địa điểm from rạp chiếu phim except select địa điểm from rạp chiếu phim where sức chứa > 800",
         "['select', 'địa điểm', 'from', 'rạp chiếu phim', 'except', 'select', 'địa điểm', 'from', 'rạp chiếu phim', 'where', 'sức chứa', '>', '800']",
         "['select', 'địa điểm', 'from', 'rạp chiếu phim', 'except', 'select', 'địa điểm', 'from', 'rạp chiếu phim', 'where', 'sức chứa', '>', 'value']",
         "Hiển thị tất cả các địa điểm không có rạp chiếu phim với sức chứa trên 800 .",
         null,
         "['Hiển', 'thị', 'tất', 'cả', 'các', 'địa', 'điểm', 'không', 'có', 'rạp', 'chiếu', 'phim', 'với', 'sức', 'chứa', 'trên', '800', '.']",
         "{'except': {'except': None, 'from': {'conds': [], 'table_units': [['table_unit', 1]]}, 'groupBy': [], 'where': [[False, 3, [0, [0, 11, False], None], 800.0, None]], 'limit': None, 'union': None, 'intersect': None, 'having': [], 'select': [False, [[0, [0, [0, 12, False], None]]]], 'orderBy': []}, 'from': {'conds': [], 'table_units': [['table_unit', 1]]}, 'groupBy': [], 'where': [], 'limit': None, 'union': None, 'intersect': None, 'having': [], 'select': [False, [[0, [0, [0, 12, False], None]]]], 'orderBy': []}"
        ],
        [
         "18",
         "17",
         "Rạp chiếu phim, Điện ảnh, Phim trường",
         "select địa điểm from rạp chiếu phim where năm mở cửa = 2010 intersect select địa điểm from rạp chiếu phim where năm mở cửa = 2011",
         "['select', 'địa điểm', 'from', 'rạp chiếu phim', 'where', 'năm mở cửa', '=', '2010', 'intersect', 'select', 'địa điểm', 'from', 'rạp chiếu phim', 'where', 'năm mở cửa', '=', '2011']",
         "['select', 'địa điểm', 'from', 'rạp chiếu phim', 'where', 'năm mở cửa', '=', 'value', 'intersect', 'select', 'địa điểm', 'from', 'rạp chiếu phim', 'where', 'năm mở cửa', '=', 'value']",
         "Hiển thị tất cả các địa điểm nơi có một số rạp chiếu phim đã được mở vào năm 2010 và năm 2011 .",
         null,
         "['Hiển', 'thị', 'tất', 'cả', 'các', 'địa', 'điểm', 'nơi', 'có', 'một', 'số', 'rạp', 'chiếu', 'phim', 'đã', 'được', 'mở', 'vào', 'năm', '2010', 'và', 'năm', '2011', '.']",
         "{'except': None, 'from': {'conds': [], 'table_units': [['table_unit', 1]]}, 'groupBy': [], 'where': [[False, 2, [0, [0, 10, False], None], 2010.0, None]], 'limit': None, 'union': None, 'intersect': {'except': None, 'from': {'conds': [], 'table_units': [['table_unit', 1]]}, 'groupBy': [], 'where': [[False, 2, [0, [0, 10, False], None], 2011.0, None]], 'limit': None, 'union': None, 'intersect': None, 'having': [], 'select': [False, [[0, [0, [0, 12, False], None]]]], 'orderBy': []}, 'having': [], 'select': [False, [[0, [0, [0, 12, False], None]]]], 'orderBy': []}"
        ],
        [
         "19",
         "17",
         "Rạp chiếu phim, Điện ảnh, Phim trường",
         "select count ( * ) from rạp chiếu phim",
         "['select', 'count', '(', '*', ')', 'from', 'rạp chiếu phim']",
         "['select', 'count', '(', '*', ')', 'from', 'rạp chiếu phim']",
         "Có bao nhiêu rạp chiếu phim ?",
         null,
         "['Có', 'bao', 'nhiêu', 'rạp', 'chiếu', 'phim', '?']",
         "{'except': None, 'from': {'conds': [], 'table_units': [['table_unit', 1]]}, 'groupBy': [], 'where': [], 'limit': None, 'union': None, 'intersect': None, 'having': [], 'select': [False, [[3, [0, [0, 0, False], None]]]], 'orderBy': []}"
        ],
        [
         "20",
         "17",
         "Rạp chiếu phim, Điện ảnh, Phim trường",
         "select count ( * ) from rạp chiếu phim",
         "['select', 'count', '(', '*', ')', 'from', 'rạp chiếu phim']",
         "['select', 'count', '(', '*', ')', 'from', 'rạp chiếu phim']",
         "Đếm số lượng rạp chiếu phim .",
         null,
         "['Đếm', 'số', 'lượng', 'rạp', 'chiếu', 'phim', '.']",
         "{'except': None, 'from': {'conds': [], 'table_units': [['table_unit', 1]]}, 'groupBy': [], 'where': [], 'limit': None, 'union': None, 'intersect': None, 'having': [], 'select': [False, [[3, [0, [0, 0, False], None]]]], 'orderBy': []}"
        ],
        [
         "21",
         "17",
         "Rạp chiếu phim, Điện ảnh, Phim trường",
         "select tên , năm mở cửa , sức chứa from rạp chiếu phim",
         "['select', 'tên', ',', 'năm mở cửa', ',', 'sức chứa', 'from', 'rạp chiếu phim']",
         "['select', 'tên', ',', 'năm mở cửa', ',', 'sức chứa', 'from', 'rạp chiếu phim']",
         "Hiển thị tên , năm mở cửa , và sức chứa của từng rạp chiếu phim .",
         null,
         "['Hiển', 'thị', 'tên', ',', 'năm', 'mở', 'cửa', ',', 'và', 'sức', 'chứa', 'của', 'từng', 'rạp', 'chiếu', 'phim', '.']",
         "{'except': None, 'from': {'conds': [], 'table_units': [['table_unit', 1]]}, 'groupBy': [], 'where': [], 'limit': None, 'union': None, 'intersect': None, 'having': [], 'select': [False, [[0, [0, [0, 9, False], None]], [0, [0, [0, 10, False], None]], [0, [0, [0, 11, False], None]]]], 'orderBy': []}"
        ],
        [
         "22",
         "17",
         "Rạp chiếu phim, Điện ảnh, Phim trường",
         "select tên , địa điểm from rạp chiếu phim where sức chứa > ( select avg ( sức chứa ) from rạp chiếu phim )",
         "['select', 'tên', ',', 'địa điểm', 'from', 'rạp chiếu phim', 'where', 'sức chứa', '>', '(', 'select', 'avg', '(', 'sức chứa', ')', 'from', 'rạp chiếu phim', ')']",
         "['select', 'tên', ',', 'địa điểm', 'from', 'rạp chiếu phim', 'where', 'sức chứa', '>', '(', 'select', 'avg', '(', 'sức chứa', ')', 'from', 'rạp chiếu phim', ')']",
         "Hiển thị tên và địa điểm của các rạp chiếu phim có sức chứa trên mức trung bình .",
         null,
         "['Hiển', 'thị', 'tên', 'và', 'địa', 'điểm', 'của', 'các', 'rạp', 'chiếu', 'phim', 'có', 'sức', 'chứa', 'trên', 'mức', 'trung', 'bình', '.']",
         "{'except': None, 'from': {'conds': [], 'table_units': [['table_unit', 1]]}, 'groupBy': [], 'where': [[False, 3, [0, [0, 11, False], None], {'except': None, 'from': {'conds': [], 'table_units': [['table_unit', 1]]}, 'groupBy': [], 'where': [], 'limit': None, 'union': None, 'intersect': None, 'having': [], 'select': [False, [[5, [0, [0, 11, False], None]]]], 'orderBy': []}, None]], 'limit': None, 'union': None, 'intersect': None, 'having': [], 'select': [False, [[0, [0, [0, 9, False], None]], [0, [0, [0, 12, False], None]]]], 'orderBy': []}"
        ],
        [
         "23",
         "17",
         "Rạp chiếu phim, Điện ảnh, Phim trường",
         "select distinct địa điểm from rạp chiếu phim",
         "['select', 'distinct', 'địa điểm', 'from', 'rạp chiếu phim']",
         "['select', 'distinct', 'địa điểm', 'from', 'rạp chiếu phim']",
         "Những địa điểm có một vài rạp chiếu phim là những địa điểm nào ?",
         null,
         "['Những', 'địa', 'điểm', 'có', 'một', 'vài', 'rạp', 'chiếu', 'phim', 'là', 'những', 'địa', 'điểm', 'nào', '?']",
         "{'except': None, 'from': {'conds': [], 'table_units': [['table_unit', 1]]}, 'groupBy': [], 'where': [], 'limit': None, 'union': None, 'intersect': None, 'having': [], 'select': [True, [[0, [0, [0, 12, False], None]]]], 'orderBy': []}"
        ],
        [
         "24",
         "17",
         "Rạp chiếu phim, Điện ảnh, Phim trường",
         "select distinct địa điểm from rạp chiếu phim",
         "['select', 'distinct', 'địa điểm', 'from', 'rạp chiếu phim']",
         "['select', 'distinct', 'địa điểm', 'from', 'rạp chiếu phim']",
         "Tìm những địa điểm khác nhau nơi có một vài rạp chiếu phim .",
         null,
         "['Tìm', 'những', 'địa', 'điểm', 'khác', 'nhau', 'nơi', 'có', 'một', 'vài', 'rạp', 'chiếu', 'phim', '.']",
         "{'except': None, 'from': {'conds': [], 'table_units': [['table_unit', 1]]}, 'groupBy': [], 'where': [], 'limit': None, 'union': None, 'intersect': None, 'having': [], 'select': [True, [[0, [0, [0, 12, False], None]]]], 'orderBy': []}"
        ],
        [
         "25",
         "17",
         "Rạp chiếu phim, Điện ảnh, Phim trường",
         "select tên , năm mở cửa from rạp chiếu phim order by năm mở cửa desc",
         "['select', 'tên', ',', 'năm mở cửa', 'from', 'rạp chiếu phim', 'order', 'by', 'năm mở cửa', 'desc']",
         "['select', 'tên', ',', 'năm mở cửa', 'from', 'rạp chiếu phim', 'order', 'by', 'năm mở cửa', 'desc']",
         "Hiển thị tên của tất cả các rạp chiếu phim và năm mở cửa của từng rạp theo thứ tự giảm dần về năm mở cửa .",
         null,
         "['Hiển', 'thị', 'tên', 'của', 'tất', 'cả', 'các', 'rạp', 'chiếu', 'phim', 'và', 'năm', 'mở', 'cửa', 'của', 'từng', 'rạp', 'theo', 'thứ', 'tự', 'giảm', 'dần', 'về', 'năm', 'mở', 'cửa', '.']",
         "{'except': None, 'from': {'conds': [], 'table_units': [['table_unit', 1]]}, 'groupBy': [], 'where': [], 'limit': None, 'union': None, 'intersect': None, 'having': [], 'select': [False, [[0, [0, [0, 9, False], None]], [0, [0, [0, 10, False], None]]]], 'orderBy': ['desc', [[0, [0, 10, False], None]]]}"
        ],
        [
         "26",
         "17",
         "Rạp chiếu phim, Điện ảnh, Phim trường",
         "select tên , địa điểm from rạp chiếu phim order by sức chứa desc limit 1",
         "['select', 'tên', ',', 'địa điểm', 'from', 'rạp chiếu phim', 'order', 'by', 'sức chứa', 'desc', 'limit', '1']",
         "['select', 'tên', ',', 'địa điểm', 'from', 'rạp chiếu phim', 'order', 'by', 'sức chứa', 'desc', 'limit', 'value']",
         "Cho biết tên và địa điểm của rạp chiếu phim có sức chứa lớn nhất .",
         null,
         "['Cho', 'biết', 'tên', 'và', 'địa', 'điểm', 'của', 'rạp', 'chiếu', 'phim', 'có', 'sức', 'chứa', 'lớn', 'nhất', '.']",
         "{'except': None, 'from': {'conds': [], 'table_units': [['table_unit', 1]]}, 'groupBy': [], 'where': [], 'limit': 1, 'union': None, 'intersect': None, 'having': [], 'select': [False, [[0, [0, [0, 9, False], None]], [0, [0, [0, 12, False], None]]]], 'orderBy': ['desc', [[0, [0, 11, False], None]]]}"
        ],
        [
         "27",
         "17",
         "Rạp chiếu phim, Điện ảnh, Phim trường",
         "select avg ( sức chứa ) , min ( sức chứa ) , max ( sức chứa ) from rạp chiếu phim where năm mở cửa >= 2011",
         "['select', 'avg', '(', 'sức chứa', ')', ',', 'min', '(', 'sức chứa', ')', ',', 'max', '(', 'sức chứa', ')', 'from', 'rạp chiếu phim', 'where', 'năm mở cửa', '>=', '2011']",
         "['select', 'avg', '(', 'sức chứa', ')', ',', 'min', '(', 'sức chứa', ')', ',', 'max', '(', 'sức chứa', ')', 'from', 'rạp chiếu phim', 'where', 'năm mở cửa', '>', '=', 'value']",
         "Hiển thị sức chứa trung bình , sức chứa tối thiểu và sức chứa tối đa của tất cả các rạp chiếu phim được mở từ sau năm 2011 .",
         null,
         "['Hiển', 'thị', 'sức', 'chứa', 'trung', 'bình', ',', 'sức', 'chứa', 'tối', 'thiểu', 'và', 'sức', 'chứa', 'tối', 'đa', 'của', 'tất', 'cả', 'các', 'rạp', 'chiếu', 'phim', 'được', 'mở', 'từ', 'sau', 'năm', '2011', '.']",
         "{'except': None, 'from': {'conds': [], 'table_units': [['table_unit', 1]]}, 'groupBy': [], 'where': [[False, 5, [0, [0, 10, False], None], 2011.0, None]], 'limit': None, 'union': None, 'intersect': None, 'having': [], 'select': [False, [[5, [0, [0, 11, False], None]], [2, [0, [0, 11, False], None]], [1, [0, [0, 11, False], None]]]], 'orderBy': []}"
        ],
        [
         "28",
         "17",
         "Rạp chiếu phim, Điện ảnh, Phim trường",
         "select địa điểm , count ( * ) from rạp chiếu phim group by địa điểm",
         "['select', 'địa điểm', ',', 'count', '(', '*', ')', 'from', 'rạp chiếu phim', 'group', 'by', 'địa điểm']",
         "['select', 'địa điểm', ',', 'count', '(', '*', ')', 'from', 'rạp chiếu phim', 'group', 'by', 'địa điểm']",
         "Hiển thị tất cả các địa điểm và số lượng rạp chiếu phim ở mỗi địa điểm .",
         null,
         "['Hiển', 'thị', 'tất', 'cả', 'các', 'địa', 'điểm', 'và', 'số', 'lượng', 'rạp', 'chiếu', 'phim', 'ở', 'mỗi', 'địa', 'điểm', '.']",
         "{'except': None, 'from': {'conds': [], 'table_units': [['table_unit', 1]]}, 'groupBy': [[0, 12, False]], 'where': [], 'limit': None, 'union': None, 'intersect': None, 'having': [], 'select': [False, [[0, [0, [0, 12, False], None]], [3, [0, [0, 0, False], None]]]], 'orderBy': []}"
        ],
        [
         "29",
         "17",
         "Rạp chiếu phim, Điện ảnh, Phim trường",
         "select địa điểm from rạp chiếu phim where năm mở cửa >= 2010 group by địa điểm order by count ( * ) desc limit 1",
         "['select', 'địa điểm', 'from', 'rạp chiếu phim', 'where', 'năm mở cửa', '>=', '2010', 'group', 'by', 'địa điểm', 'order', 'by', 'count', '(', '*', ')', 'desc', 'limit', '1']",
         "['select', 'địa điểm', 'from', 'rạp chiếu phim', 'where', 'năm mở cửa', '>', '=', 'value', 'group', 'by', 'địa điểm', 'order', 'by', 'count', '(', '*', ')', 'desc', 'limit', 'value']",
         "Địa điểm có nhiều rạp chiếu phim nhất được mở trong năm 2010 hoặc sau đó nằm ở đâu ?",
         null,
         "['Địa', 'điểm', 'có', 'nhiều', 'rạp', 'chiếu', 'phim', 'nhất', 'được', 'mở', 'trong', 'năm', '2010', 'hoặc', 'sau', 'đó', 'nằm', 'ở', 'đâu', '?']",
         "{'except': None, 'from': {'conds': [], 'table_units': [['table_unit', 1]]}, 'groupBy': [[0, 12, False]], 'where': [[False, 5, [0, [0, 10, False], None], 2010.0, None]], 'limit': 1, 'union': None, 'intersect': None, 'having': [], 'select': [False, [[0, [0, [0, 12, False], None]]]], 'orderBy': ['desc', [[0, [3, 0, False], None]]]}"
        ],
        [
         "30",
         "17",
         "Rạp chiếu phim, Điện ảnh, Phim trường",
         "select địa điểm from rạp chiếu phim where sức chứa > 300 group by địa điểm having count ( * ) >= 2",
         "['select', 'địa điểm', 'from', 'rạp chiếu phim', 'where', 'sức chứa', '>', '300', 'group', 'by', 'địa điểm', 'having', 'count', '(', '*', ')', '>=', '2']",
         "['select', 'địa điểm', 'from', 'rạp chiếu phim', 'where', 'sức chứa', '>', 'value', 'group', 'by', 'địa điểm', 'having', 'count', '(', '*', ')', '>', '=', 'value']",
         "Hiển thị tất cả các địa điểm có ít nhất hai rạp chiếu phim với sức chứa trên 300 .",
         null,
         "['Hiển', 'thị', 'tất', 'cả', 'các', 'địa', 'điểm', 'có', 'ít', 'nhất', 'hai', 'rạp', 'chiếu', 'phim', 'với', 'sức', 'chứa', 'trên', '300', '.']",
         "{'except': None, 'from': {'conds': [], 'table_units': [['table_unit', 1]]}, 'groupBy': [[0, 12, False]], 'where': [[False, 3, [0, [0, 11, False], None], 300.0, None]], 'limit': None, 'union': None, 'intersect': None, 'having': [[False, 5, [0, [3, 0, False], None], 2.0, None]], 'select': [False, [[0, [0, [0, 12, False], None]]]], 'orderBy': []}"
        ],
        [
         "31",
         "17",
         "Rạp chiếu phim, Điện ảnh, Phim trường",
         "select địa điểm from rạp chiếu phim where sức chứa > 300 group by địa điểm having count ( * ) >= 2",
         "['select', 'địa điểm', 'from', 'rạp chiếu phim', 'where', 'sức chứa', '>', '300', 'group', 'by', 'địa điểm', 'having', 'count', '(', '*', ')', '>=', '2']",
         "['select', 'địa điểm', 'from', 'rạp chiếu phim', 'where', 'sức chứa', '>', 'value', 'group', 'by', 'địa điểm', 'having', 'count', '(', '*', ')', '>', '=', 'value']",
         "Những địa điểm nào có từ 2 rạp chiếu phim với sức chứa lớn hơn 300 ?",
         null,
         "['Những', 'địa', 'điểm', 'nào', 'có', 'từ', '2', 'rạp', 'chiếu', 'phim', 'với', 'sức', 'chứa', 'lớn', 'hơn', '300', '?']",
         "{'except': None, 'from': {'conds': [], 'table_units': [['table_unit', 1]]}, 'groupBy': [[0, 12, False]], 'where': [[False, 3, [0, [0, 11, False], None], 300.0, None]], 'limit': None, 'union': None, 'intersect': None, 'having': [[False, 5, [0, [3, 0, False], None], 2.0, None]], 'select': [False, [[0, [0, [0, 12, False], None]]]], 'orderBy': []}"
        ],
        [
         "32",
         "17",
         "Rạp chiếu phim, Điện ảnh, Phim trường",
         "select tiêu đề , được đạo diễn bởi from phim",
         "['select', 'tiêu đề', ',', 'được đạo diễn bởi', 'from', 'phim']",
         "['select', 'tiêu đề', ',', 'được đạo diễn bởi', 'from', 'phim']",
         "Hiển thị tiêu đề và đạo diễn của tất cả các bộ phim .",
         null,
         "['Hiển', 'thị', 'tiêu', 'đề', 'và', 'đạo', 'diễn', 'của', 'tất', 'cả', 'các', 'bộ', 'phim', '.']",
         "{'except': None, 'from': {'conds': [], 'table_units': [['table_unit', 0]]}, 'groupBy': [], 'where': [], 'limit': None, 'union': None, 'intersect': None, 'having': [], 'select': [False, [[0, [0, [0, 4, False], None]], [0, [0, [0, 5, False], None]]]], 'orderBy': []}"
        ],
        [
         "33",
         "17",
         "Rạp chiếu phim, Điện ảnh, Phim trường",
         "select tiêu đề , được đạo diễn bởi from phim",
         "['select', 'tiêu đề', ',', 'được đạo diễn bởi', 'from', 'phim']",
         "['select', 'tiêu đề', ',', 'được đạo diễn bởi', 'from', 'phim']",
         "Tiêu đề và đạo diễn của từng bộ phim ?",
         null,
         "['Tiêu', 'đề', 'và', 'đạo', 'diễn', 'của', 'từng', 'bộ', 'phim', '?']",
         "{'except': None, 'from': {'conds': [], 'table_units': [['table_unit', 0]]}, 'groupBy': [], 'where': [], 'limit': None, 'union': None, 'intersect': None, 'having': [], 'select': [False, [[0, [0, [0, 4, False], None]], [0, [0, [0, 5, False], None]]]], 'orderBy': []}"
        ],
        [
         "34",
         "17",
         "Rạp chiếu phim, Điện ảnh, Phim trường",
         "select distinct được đạo diễn bởi from phim",
         "['select', 'distinct', 'được đạo diễn bởi', 'from', 'phim']",
         "['select', 'distinct', 'được đạo diễn bởi', 'from', 'phim']",
         "Hiển thị tất cả các đạo diễn .",
         null,
         "['Hiển', 'thị', 'tất', 'cả', 'các', 'đạo', 'diễn', '.']",
         "{'except': None, 'from': {'conds': [], 'table_units': [['table_unit', 0]]}, 'groupBy': [], 'where': [], 'limit': None, 'union': None, 'intersect': None, 'having': [], 'select': [True, [[0, [0, [0, 5, False], None]]]], 'orderBy': []}"
        ],
        [
         "35",
         "17",
         "Rạp chiếu phim, Điện ảnh, Phim trường",
         "select distinct được đạo diễn bởi from phim",
         "['select', 'distinct', 'được đạo diễn bởi', 'from', 'phim']",
         "['select', 'distinct', 'được đạo diễn bởi', 'from', 'phim']",
         "Liệt kê tất cả các đạo diễn .",
         null,
         "['Liệt', 'kê', 'tất', 'cả', 'các', 'đạo', 'diễn', '.']",
         "{'except': None, 'from': {'conds': [], 'table_units': [['table_unit', 0]]}, 'groupBy': [], 'where': [], 'limit': None, 'union': None, 'intersect': None, 'having': [], 'select': [True, [[0, [0, [0, 5, False], None]]]], 'orderBy': []}"
        ],
        [
         "36",
         "17",
         "Rạp chiếu phim, Điện ảnh, Phim trường",
         "select được đạo diễn bởi , count ( * ) from phim group by được đạo diễn bởi",
         "['select', 'được đạo diễn bởi', ',', 'count', '(', '*', ')', 'from', 'phim', 'group', 'by', 'được đạo diễn bởi']",
         "['select', 'được đạo diễn bởi', ',', 'count', '(', '*', ')', 'from', 'phim', 'group', 'by', 'được đạo diễn bởi']",
         "Liệt kê tất cả các đạo diễn cùng với số lượng phim của từng người .",
         null,
         "['Liệt', 'kê', 'tất', 'cả', 'các', 'đạo', 'diễn', 'cùng', 'với', 'số', 'lượng', 'phim', 'của', 'từng', 'người', '.']",
         "{'except': None, 'from': {'conds': [], 'table_units': [['table_unit', 0]]}, 'groupBy': [[0, 5, False]], 'where': [], 'limit': None, 'union': None, 'intersect': None, 'having': [], 'select': [False, [[0, [0, [0, 5, False], None]], [3, [0, [0, 0, False], None]]]], 'orderBy': []}"
        ],
        [
         "37",
         "17",
         "Rạp chiếu phim, Điện ảnh, Phim trường",
         "select t2.tên , sum ( t1.số lượng suất chiếu mỗi ngày ) from lịch chiếu phim as t1 join rạp chiếu phim as t2 on t1.id rạp chiếu phim = t2.id rạp chiếu phim group by t1.id rạp chiếu phim",
         "['select', 't2.tên', ',', 'sum', '(', 't1.số lượng suất chiếu mỗi ngày', ')', 'from', 'lịch chiếu phim', 'as', 't1', 'join', 'rạp chiếu phim', 'as', 't2', 'on', 't1.id rạp chiếu phim', '=', 't2.id rạp chiếu phim', 'group', 'by', 't1.id rạp chiếu phim']",
         "['select', 't2', '.', 'tên', ',', 'sum', '(', 't1', '.', 'số lượng suất chiếu mỗi ngày', ')', 'from', 'lịch chiếu phim', 'as', 't1', 'join', 'rạp chiếu phim', 'as', 't2', 'on', 't1', '.', 'id rạp chiếu phim', '=', 't2', '.', 'id rạp chiếu phim', 'group', 'by', 't1', '.', 'id rạp chiếu phim']",
         "Cho biết tổng số suất chiếu mỗi ngày của từng rạp chiếu phim .",
         null,
         "['Cho', 'biết', 'tổng', 'số', 'suất', 'chiếu', 'mỗi', 'ngày', 'của', 'từng', 'rạp', 'chiếu', 'phim', '.']",
         "{'except': None, 'from': {'conds': [[False, 2, [0, [0, 13, False], None], [0, 8, False], None]], 'table_units': [['table_unit', 2], ['table_unit', 1]]}, 'groupBy': [[0, 13, False]], 'where': [], 'limit': None, 'union': None, 'intersect': None, 'having': [], 'select': [False, [[0, [0, [0, 9, False], None]], [4, [0, [0, 16, False], None]]]], 'orderBy': []}"
        ],
        [
         "38",
         "17",
         "Rạp chiếu phim, Điện ảnh, Phim trường",
         "select t2.tiêu đề , max ( t1.giá ) from lịch chiếu phim as t1 join phim as t2 on t1.id phim = t2.id phim group by t1.id phim",
         "['select', 't2.tiêu đề', ',', 'max', '(', 't1.giá', ')', 'from', 'lịch chiếu phim', 'as', 't1', 'join', 'phim', 'as', 't2', 'on', 't1.id phim', '=', 't2.id phim', 'group', 'by', 't1.id phim']",
         "['select', 't2', '.', 'tiêu đề', ',', 'max', '(', 't1', '.', 'giá', ')', 'from', 'lịch chiếu phim', 'as', 't1', 'join', 'phim', 'as', 't2', 'on', 't1', '.', 'id phim', '=', 't2', '.', 'id phim', 'group', 'by', 't1', '.', 'id phim']",
         "Cho biết tiêu đề và giá cao nhất của mỗi bộ phim .",
         null,
         "['Cho', 'biết', 'tiêu', 'đề', 'và', 'giá', 'cao', 'nhất', 'của', 'mỗi', 'bộ', 'phim', '.']",
         "{'except': None, 'from': {'conds': [[False, 2, [0, [0, 14, False], None], [0, 1, False], None]], 'table_units': [['table_unit', 2], ['table_unit', 0]]}, 'groupBy': [[0, 14, False]], 'where': [], 'limit': None, 'union': None, 'intersect': None, 'having': [], 'select': [False, [[0, [0, [0, 4, False], None]], [1, [0, [0, 17, False], None]]]], 'orderBy': []}"
        ],
        [
         "39",
         "17",
         "Rạp chiếu phim, Điện ảnh, Phim trường",
         "select t2.tiêu đề , max ( t1.giá ) from lịch chiếu phim as t1 join phim as t2 on t1.id phim = t2.id phim group by t1.id phim",
         "['select', 't2.tiêu đề', ',', 'max', '(', 't1.giá', ')', 'from', 'lịch chiếu phim', 'as', 't1', 'join', 'phim', 'as', 't2', 'on', 't1.id phim', '=', 't2.id phim', 'group', 'by', 't1.id phim']",
         "['select', 't2', '.', 'tiêu đề', ',', 'max', '(', 't1', '.', 'giá', ')', 'from', 'lịch chiếu phim', 'as', 't1', 'join', 'phim', 'as', 't2', 'on', 't1', '.', 'id phim', '=', 't2', '.', 'id phim', 'group', 'by', 't1', '.', 'id phim']",
         "Tiêu đề và giá cao nhất của từng bộ phim ?",
         null,
         "['Tiêu', 'đề', 'và', 'giá', 'cao', 'nhất', 'của', 'từng', 'bộ', 'phim', '?']",
         "{'except': None, 'from': {'conds': [[False, 2, [0, [0, 14, False], None], [0, 1, False], None]], 'table_units': [['table_unit', 2], ['table_unit', 0]]}, 'groupBy': [[0, 14, False]], 'where': [], 'limit': None, 'union': None, 'intersect': None, 'having': [], 'select': [False, [[0, [0, [0, 4, False], None]], [1, [0, [0, 17, False], None]]]], 'orderBy': []}"
        ],
        [
         "40",
         "17",
         "Rạp chiếu phim, Điện ảnh, Phim trường",
         "select t3.tên , t2.tiêu đề , t1.ngày , t1.giá from lịch chiếu phim as t1 join phim as t2 on t1.id phim = t2.id phim join rạp chiếu phim as t3 on t1.id rạp chiếu phim = t3.id rạp chiếu phim",
         "['select', 't3.tên', ',', 't2.tiêu đề', ',', 't1.ngày', ',', 't1.giá', 'from', 'lịch chiếu phim', 'as', 't1', 'join', 'phim', 'as', 't2', 'on', 't1.id phim', '=', 't2.id phim', 'join', 'rạp chiếu phim', 'as', 't3', 'on', 't1.id rạp chiếu phim', '=', 't3.id rạp chiếu phim']",
         "['select', 't3', '.', 'tên', ',', 't2', '.', 'tiêu đề', ',', 't1', '.', 'ngày', ',', 't1', '.', 'giá', 'from', 'lịch chiếu phim', 'as', 't1', 'join', 'phim', 'as', 't2', 'on', 't1', '.', 'id phim', '=', 't2', '.', 'id phim', 'join', 'rạp chiếu phim', 'as', 't3', 'on', 't1', '.', 'id rạp chiếu phim', '=', 't3', '.', 'id rạp chiếu phim']",
         "Hiển thị tên rạp chiếu phim , tiêu đề , ngày chiếu và giá của từng bộ phim có trong lịch chiếu .",
         null,
         "['Hiển', 'thị', 'tên', 'rạp', 'chiếu', 'phim', ',', 'tiêu', 'đề', ',', 'ngày', 'chiếu', 'và', 'giá', 'của', 'từng', 'bộ', 'phim', 'có', 'trong', 'lịch', 'chiếu', '.']",
         "{'except': None, 'from': {'conds': [[False, 2, [0, [0, 14, False], None], [0, 1, False], None]], 'table_units': [['table_unit', 2], ['table_unit', 0]]}, 'groupBy': [], 'where': [], 'limit': None, 'union': None, 'intersect': None, 'having': [], 'select': [False, [[0, [0, [0, 9, False], None]], [0, [0, [0, 4, False], None]], [0, [0, [0, 15, False], None]], [0, [0, [0, 17, False], None]]]], 'orderBy': []}"
        ],
        [
         "41",
         "17",
         "Rạp chiếu phim, Điện ảnh, Phim trường",
         "select tiêu đề , được đạo diễn bởi from phim where id phim not in ( select id phim from lịch chiếu phim )",
         "['select', 'tiêu đề', ',', 'được đạo diễn bởi', 'from', 'phim', 'where', 'id phim', 'not', 'in', '(', 'select', 'id phim', 'from', 'lịch chiếu phim', ')']",
         "['select', 'tiêu đề', ',', 'được đạo diễn bởi', 'from', 'phim', 'where', 'id phim', 'not', 'in', '(', 'select', 'id phim', 'from', 'lịch chiếu phim', ')']",
         "Cho biết tiêu đề và đạo diễn của những bộ phim không nằm trong lịch chiếu .",
         null,
         "['Cho', 'biết', 'tiêu', 'đề', 'và', 'đạo', 'diễn', 'của', 'những', 'bộ', 'phim', 'không', 'nằm', 'trong', 'lịch', 'chiếu', '.']",
         "{'except': None, 'from': {'conds': [], 'table_units': [['table_unit', 0]]}, 'groupBy': [], 'where': [[True, 8, [0, [0, 1, False], None], {'except': None, 'from': {'conds': [], 'table_units': [['table_unit', 2]]}, 'groupBy': [], 'where': [], 'limit': None, 'union': None, 'intersect': None, 'having': [], 'select': [False, [[0, [0, [0, 14, False], None]]]], 'orderBy': []}, None]], 'limit': None, 'union': None, 'intersect': None, 'having': [], 'select': [False, [[0, [0, [0, 4, False], None]], [0, [0, [0, 5, False], None]]]], 'orderBy': []}"
        ],
        [
         "42",
         "17",
         "Rạp chiếu phim, Điện ảnh, Phim trường",
         "select t2.được đạo diễn bởi from lịch chiếu phim as t1 join phim as t2 on t1.id phim = t2.id phim group by t2.được đạo diễn bởi order by sum ( t1.số lượng suất chiếu mỗi ngày ) desc limit 1",
         "['select', 't2.được đạo diễn bởi', 'from', 'lịch chiếu phim', 'as', 't1', 'join', 'phim', 'as', 't2', 'on', 't1.id phim', '=', 't2.id phim', 'group', 'by', 't2.được đạo diễn bởi', 'order', 'by', 'sum', '(', 't1.số lượng suất chiếu mỗi ngày', ')', 'desc', 'limit', '1']",
         "['select', 't2', '.', 'được đạo diễn bởi', 'from', 'lịch chiếu phim', 'as', 't1', 'join', 'phim', 'as', 't2', 'on', 't1', '.', 'id phim', '=', 't2', '.', 'id phim', 'group', 'by', 't2', '.', 'được đạo diễn bởi', 'order', 'by', 'sum', '(', 't1', '.', 'số lượng suất chiếu mỗi ngày', ')', 'desc', 'limit', 'value']",
         "Cho biết người đạo diễn có nhiều lần công chiếu nhất .",
         null,
         "['Cho', 'biết', 'người', 'đạo', 'diễn', 'có', 'nhiều', 'lần', 'công', 'chiếu', 'nhất', '.']",
         "{'except': None, 'from': {'conds': [[False, 2, [0, [0, 14, False], None], [0, 1, False], None]], 'table_units': [['table_unit', 2], ['table_unit', 0]]}, 'groupBy': [[0, 5, False]], 'where': [], 'limit': 1, 'union': None, 'intersect': None, 'having': [], 'select': [False, [[0, [0, [0, 5, False], None]]]], 'orderBy': ['desc', [[0, [4, 16, False], None]]]}"
        ],
        [
         "43",
         "17",
         "Rạp chiếu phim, Điện ảnh, Phim trường",
         "select địa điểm from rạp chiếu phim where sức chứa > 300 group by địa điểm having count ( * ) > 1",
         "['select', 'địa điểm', 'from', 'rạp chiếu phim', 'where', 'sức chứa', '>', '300', 'group', 'by', 'địa điểm', 'having', 'count', '(', '*', ')', '>', '1']",
         "['select', 'địa điểm', 'from', 'rạp chiếu phim', 'where', 'sức chứa', '>', 'value', 'group', 'by', 'địa điểm', 'having', 'count', '(', '*', ')', '>', 'value']",
         "Tìm các địa điểm có nhiều hơn một rạp chiếu phim với sức chứa trên 300 .",
         null,
         "['Tìm', 'các', 'địa', 'điểm', 'có', 'nhiều', 'hơn', 'một', 'rạp', 'chiếu', 'phim', 'với', 'sức', 'chứa', 'trên', '300', '.']",
         "{'except': None, 'from': {'conds': [], 'table_units': [['table_unit', 1]]}, 'groupBy': [[0, 12, False]], 'where': [[False, 3, [0, [0, 11, False], None], 300.0, None]], 'limit': None, 'union': None, 'intersect': None, 'having': [[False, 3, [0, [3, 0, False], None], 1.0, None]], 'select': [False, [[0, [0, [0, 12, False], None]]]], 'orderBy': []}"
        ],
        [
         "44",
         "17",
         "Rạp chiếu phim, Điện ảnh, Phim trường",
         "select địa điểm from rạp chiếu phim where sức chứa > 300 group by địa điểm having count ( * ) > 1",
         "['select', 'địa điểm', 'from', 'rạp chiếu phim', 'where', 'sức chứa', '>', '300', 'group', 'by', 'địa điểm', 'having', 'count', '(', '*', ')', '>', '1']",
         "['select', 'địa điểm', 'from', 'rạp chiếu phim', 'where', 'sức chứa', '>', 'value', 'group', 'by', 'địa điểm', 'having', 'count', '(', '*', ')', '>', 'value']",
         "Những địa điểm nào có nhiều hơn một rạp chiếu phim với sức chứa trên 300 ?",
         null,
         "['Những', 'địa', 'điểm', 'nào', 'có', 'nhiều', 'hơn', 'một', 'rạp', 'chiếu', 'phim', 'với', 'sức', 'chứa', 'trên', '300', '?']",
         "{'except': None, 'from': {'conds': [], 'table_units': [['table_unit', 1]]}, 'groupBy': [[0, 12, False]], 'where': [[False, 3, [0, [0, 11, False], None], 300.0, None]], 'limit': None, 'union': None, 'intersect': None, 'having': [[False, 3, [0, [3, 0, False], None], 1.0, None]], 'select': [False, [[0, [0, [0, 12, False], None]]]], 'orderBy': []}"
        ],
        [
         "45",
         "17",
         "Rạp chiếu phim, Điện ảnh, Phim trường",
         "select count ( * ) from phim where tiêu đề like \"%Dummy%\"",
         "['select', 'count', '(', '*', ')', 'from', 'phim', 'where', 'tiêu đề', 'like', '\"%Dummy%\"']",
         "['select', 'count', '(', '*', ')', 'from', 'phim', 'where', 'tiêu đề', 'like', 'value']",
         "Có bao nhiêu bộ phim có từ ' Dummy ' trong tựa đề ?",
         null,
         "['Có', 'bao', 'nhiêu', 'bộ', 'phim', 'có', 'từ', \"'\", 'Dummy', \"'\", 'trong', 'tựa', 'đề', '?']",
         "{'except': None, 'from': {'conds': [], 'table_units': [['table_unit', 0]]}, 'groupBy': [], 'where': [[False, 9, [0, [0, 4, False], None], '\"%Dummy%\"', None]], 'limit': None, 'union': None, 'intersect': None, 'having': [], 'select': [False, [[3, [0, [0, 0, False], None]]]], 'orderBy': []}"
        ],
        [
         "46",
         "17",
         "Rạp chiếu phim, Điện ảnh, Phim trường",
         "select count ( * ) from phim where tiêu đề like \"%Dummy%\"",
         "['select', 'count', '(', '*', ')', 'from', 'phim', 'where', 'tiêu đề', 'like', '\"%Dummy%\"']",
         "['select', 'count', '(', '*', ')', 'from', 'phim', 'where', 'tiêu đề', 'like', 'value']",
         "Đếm số lượng phim có tựa đề chứa từ ' Dummy ' .",
         null,
         "['Đếm', 'số', 'lượng', 'phim', 'có', 'tựa', 'đề', 'chứa', 'từ', \"'\", 'Dummy', \"'\", '.']",
         "{'except': None, 'from': {'conds': [], 'table_units': [['table_unit', 0]]}, 'groupBy': [], 'where': [[False, 9, [0, [0, 4, False], None], '\"%Dummy%\"', None]], 'limit': None, 'union': None, 'intersect': None, 'having': [], 'select': [False, [[3, [0, [0, 0, False], None]]]], 'orderBy': []}"
        ],
        [
         "47",
         "24",
         "Trường cao đẳng, Đại học, Học viện",
         "select count ( * ) from khoá học",
         "['select', 'count', '(', '*', ')', 'from', 'khoá học']",
         "['select', 'count', '(', '*', ')', 'from', 'khoá học']",
         "Tổng cộng có bao nhiêu khoá học ?",
         null,
         "['Tổng', 'cộng', 'có', 'bao', 'nhiêu', 'khoá', 'học', '?']",
         "{'except': None, 'from': {'conds': [], 'table_units': [['table_unit', 4]]}, 'groupBy': [], 'where': [], 'limit': None, 'union': None, 'intersect': None, 'having': [], 'select': [False, [[3, [0, [0, 0, False], None]]]], 'orderBy': []}"
        ],
        [
         "48",
         "24",
         "Trường cao đẳng, Đại học, Học viện",
         "select count ( * ) from khoá học",
         "['select', 'count', '(', '*', ')', 'from', 'khoá học']",
         "['select', 'count', '(', '*', ')', 'from', 'khoá học']",
         "Đếm số lượng các khoá học .",
         null,
         "['Đếm', 'số', 'lượng', 'các', 'khoá', 'học', '.']",
         "{'except': None, 'from': {'conds': [], 'table_units': [['table_unit', 4]]}, 'groupBy': [], 'where': [], 'limit': None, 'union': None, 'intersect': None, 'having': [], 'select': [False, [[3, [0, [0, 0, False], None]]]], 'orderBy': []}"
        ],
        [
         "49",
         "24",
         "Trường cao đẳng, Đại học, Học viện",
         "select count ( * ) from khoá học where số lượng tín chỉ > 2",
         "['select', 'count', '(', '*', ')', 'from', 'khoá học', 'where', 'số lượng tín chỉ', '>', '2']",
         "['select', 'count', '(', '*', ')', 'from', 'khoá học', 'where', 'số lượng tín chỉ', '>', 'value']",
         "Có bao nhiêu khoá học cung cấp nhiều hơn 2 tín chỉ ?",
         null,
         "['Có', 'bao', 'nhiêu', 'khoá', 'học', 'cung', 'cấp', 'nhiều', 'hơn', '2', 'tín', 'chỉ', '?']",
         "{'except': None, 'from': {'conds': [], 'table_units': [['table_unit', 4]]}, 'groupBy': [], 'where': [[False, 3, [0, [0, 28, False], None], 2.0, None]], 'limit': None, 'union': None, 'intersect': None, 'having': [], 'select': [False, [[3, [0, [0, 0, False], None]]]], 'orderBy': []}"
        ]
       ],
       "shape": {
        "columns": 9,
        "rows": 9626
       }
      },
      "text/html": [
       "<div>\n",
       "<style scoped>\n",
       "    .dataframe tbody tr th:only-of-type {\n",
       "        vertical-align: middle;\n",
       "    }\n",
       "\n",
       "    .dataframe tbody tr th {\n",
       "        vertical-align: top;\n",
       "    }\n",
       "\n",
       "    .dataframe thead th {\n",
       "        text-align: right;\n",
       "    }\n",
       "</style>\n",
       "<table border=\"1\" class=\"dataframe\">\n",
       "  <thead>\n",
       "    <tr style=\"text-align: right;\">\n",
       "      <th></th>\n",
       "      <th>db_id</th>\n",
       "      <th>db_id_vn</th>\n",
       "      <th>query</th>\n",
       "      <th>query_toks</th>\n",
       "      <th>query_toks_no_value</th>\n",
       "      <th>question</th>\n",
       "      <th>question_E</th>\n",
       "      <th>question_toks</th>\n",
       "      <th>sql</th>\n",
       "    </tr>\n",
       "  </thead>\n",
       "  <tbody>\n",
       "    <tr>\n",
       "      <th>0</th>\n",
       "      <td>5</td>\n",
       "      <td>Kiến trúc, Xây dựng, Công trình</td>\n",
       "      <td>select count ( * ) from kiến trúc sư where giớ...</td>\n",
       "      <td>[select, count, (, *, ), from, kiến trúc sư, w...</td>\n",
       "      <td>[select, count, (, *, ), from, kiến trúc sư, w...</td>\n",
       "      <td>Có tất cả bao nhiêu kiến trúc sư nữ ?</td>\n",
       "      <td>NaN</td>\n",
       "      <td>[Có, tất, cả, bao, nhiêu, kiến, trúc, sư, nữ, ?]</td>\n",
       "      <td>{'except': None, 'from': {'conds': [], 'table_...</td>\n",
       "    </tr>\n",
       "    <tr>\n",
       "      <th>1</th>\n",
       "      <td>5</td>\n",
       "      <td>Kiến trúc, Xây dựng, Công trình</td>\n",
       "      <td>select tên , quốc tịch , id from kiến trúc sư ...</td>\n",
       "      <td>[select, tên, ,, quốc tịch, ,, id, from, kiến ...</td>\n",
       "      <td>[select, tên, ,, quốc tịch, ,, id, from, kiến ...</td>\n",
       "      <td>Liệt kê tên , quốc tịch và id của tất cả các k...</td>\n",
       "      <td>NaN</td>\n",
       "      <td>[Liệt, kê, tên, ,, quốc, tịch, và, id, của, tấ...</td>\n",
       "      <td>{'except': None, 'from': {'conds': [], 'table_...</td>\n",
       "    </tr>\n",
       "    <tr>\n",
       "      <th>2</th>\n",
       "      <td>5</td>\n",
       "      <td>Kiến trúc, Xây dựng, Công trình</td>\n",
       "      <td>select max ( t1.chiều dài theo mét ) , t2.tên ...</td>\n",
       "      <td>[select, max, (, t1.chiều dài theo mét, ), ,, ...</td>\n",
       "      <td>[select, max, (, t1, ., chiều dài theo mét, ),...</td>\n",
       "      <td>Cho biết tên của người kiến trúc sư đã tạo ra ...</td>\n",
       "      <td>NaN</td>\n",
       "      <td>[Cho, biết, tên, của, người, kiến, trúc, sư, đ...</td>\n",
       "      <td>{'except': None, 'from': {'conds': [[False, 2,...</td>\n",
       "    </tr>\n",
       "    <tr>\n",
       "      <th>3</th>\n",
       "      <td>5</td>\n",
       "      <td>Kiến trúc, Xây dựng, Công trình</td>\n",
       "      <td>select avg ( chiều dài theo feet ) from cầu</td>\n",
       "      <td>[select, avg, (, chiều dài theo feet, ), from,...</td>\n",
       "      <td>[select, avg, (, chiều dài theo feet, ), from,...</td>\n",
       "      <td>Cho biết chiều dài trung bình tính theo feet c...</td>\n",
       "      <td>NaN</td>\n",
       "      <td>[Cho, biết, chiều, dài, trung, bình, tính, the...</td>\n",
       "      <td>{'except': None, 'from': {'conds': [], 'table_...</td>\n",
       "    </tr>\n",
       "    <tr>\n",
       "      <th>4</th>\n",
       "      <td>5</td>\n",
       "      <td>Kiến trúc, Xây dựng, Công trình</td>\n",
       "      <td>select tên , năm xây dựng from nhà máy where l...</td>\n",
       "      <td>[select, tên, ,, năm xây dựng, from, nhà máy, ...</td>\n",
       "      <td>[select, tên, ,, năm xây dựng, from, nhà máy, ...</td>\n",
       "      <td>Cho biết tên và năm xây dựng của các nhà máy t...</td>\n",
       "      <td>NaN</td>\n",
       "      <td>[Cho, biết, tên, và, năm, xây, dựng, của, các,...</td>\n",
       "      <td>{'except': None, 'from': {'conds': [], 'table_...</td>\n",
       "    </tr>\n",
       "    <tr>\n",
       "      <th>...</th>\n",
       "      <td>...</td>\n",
       "      <td>...</td>\n",
       "      <td>...</td>\n",
       "      <td>...</td>\n",
       "      <td>...</td>\n",
       "      <td>...</td>\n",
       "      <td>...</td>\n",
       "      <td>...</td>\n",
       "      <td>...</td>\n",
       "    </tr>\n",
       "    <tr>\n",
       "      <th>9688</th>\n",
       "      <td>163</td>\n",
       "      <td>Đô vật, Vận động viên đấu vật, Thể thao đối kháng</td>\n",
       "      <td>select đội from lần bị loại where bị loại bởi ...</td>\n",
       "      <td>[select, đội, from, lần bị loại, where, bị loạ...</td>\n",
       "      <td>[select, đội, from, lần bị loại, where, bị loạ...</td>\n",
       "      <td>Những đội có các đô vật bị loại bởi ' Orton ' ...</td>\n",
       "      <td>NaN</td>\n",
       "      <td>[Những, đội, có, các, đô, vật, bị, loại, bởi, ...</td>\n",
       "      <td>{'except': None, 'from': {'conds': [], 'table_...</td>\n",
       "    </tr>\n",
       "    <tr>\n",
       "      <th>9689</th>\n",
       "      <td>163</td>\n",
       "      <td>Đô vật, Vận động viên đấu vật, Thể thao đối kháng</td>\n",
       "      <td>select count ( distinct đội ) from lần bị loại</td>\n",
       "      <td>[select, count, (, distinct, đội, ), from, lần...</td>\n",
       "      <td>[select, count, (, distinct, đội, ), from, lần...</td>\n",
       "      <td>Những đô vật đã bị loại đại diện cho tất cả ba...</td>\n",
       "      <td>NaN</td>\n",
       "      <td>[Những, đô, vật, đã, bị, loại, đại, diện, cho,...</td>\n",
       "      <td>{'except': None, 'from': {'conds': [], 'table_...</td>\n",
       "    </tr>\n",
       "    <tr>\n",
       "      <th>9690</th>\n",
       "      <td>163</td>\n",
       "      <td>Đô vật, Vận động viên đấu vật, Thể thao đối kháng</td>\n",
       "      <td>select count ( distinct đội ) from lần bị loại</td>\n",
       "      <td>[select, count, (, distinct, đội, ), from, lần...</td>\n",
       "      <td>[select, count, (, distinct, đội, ), from, lần...</td>\n",
       "      <td>Có bao nhiêu đội khác nhau có thành viên là cá...</td>\n",
       "      <td>NaN</td>\n",
       "      <td>[Có, bao, nhiêu, đội, khác, nhau, có, thành, v...</td>\n",
       "      <td>{'except': None, 'from': {'conds': [], 'table_...</td>\n",
       "    </tr>\n",
       "    <tr>\n",
       "      <th>9691</th>\n",
       "      <td>163</td>\n",
       "      <td>Đô vật, Vận động viên đấu vật, Thể thao đối kháng</td>\n",
       "      <td>select thời gian from lần bị loại where bị loạ...</td>\n",
       "      <td>[select, thời gian, from, lần bị loại, where, ...</td>\n",
       "      <td>[select, thời gian, from, lần bị loại, where, ...</td>\n",
       "      <td>Những đô vật đã bị loại bởi ' Punk ' hoặc ' Or...</td>\n",
       "      <td>NaN</td>\n",
       "      <td>[Những, đô, vật, đã, bị, loại, bởi, ', Punk, '...</td>\n",
       "      <td>{'except': None, 'from': {'conds': [], 'table_...</td>\n",
       "    </tr>\n",
       "    <tr>\n",
       "      <th>9692</th>\n",
       "      <td>163</td>\n",
       "      <td>Đô vật, Vận động viên đấu vật, Thể thao đối kháng</td>\n",
       "      <td>select thời gian from lần bị loại where bị loạ...</td>\n",
       "      <td>[select, thời gian, from, lần bị loại, where, ...</td>\n",
       "      <td>[select, thời gian, from, lần bị loại, where, ...</td>\n",
       "      <td>Cho biết thời gian bị loại của các đô vật bị l...</td>\n",
       "      <td>NaN</td>\n",
       "      <td>[Cho, biết, thời, điểm, bị, loại, của, các, đô...</td>\n",
       "      <td>{'except': None, 'from': {'conds': [], 'table_...</td>\n",
       "    </tr>\n",
       "  </tbody>\n",
       "</table>\n",
       "<p>9626 rows × 9 columns</p>\n",
       "</div>"
      ],
      "text/plain": [
       "      db_id                                           db_id_vn  \\\n",
       "0         5                    Kiến trúc, Xây dựng, Công trình   \n",
       "1         5                    Kiến trúc, Xây dựng, Công trình   \n",
       "2         5                    Kiến trúc, Xây dựng, Công trình   \n",
       "3         5                    Kiến trúc, Xây dựng, Công trình   \n",
       "4         5                    Kiến trúc, Xây dựng, Công trình   \n",
       "...     ...                                                ...   \n",
       "9688    163  Đô vật, Vận động viên đấu vật, Thể thao đối kháng   \n",
       "9689    163  Đô vật, Vận động viên đấu vật, Thể thao đối kháng   \n",
       "9690    163  Đô vật, Vận động viên đấu vật, Thể thao đối kháng   \n",
       "9691    163  Đô vật, Vận động viên đấu vật, Thể thao đối kháng   \n",
       "9692    163  Đô vật, Vận động viên đấu vật, Thể thao đối kháng   \n",
       "\n",
       "                                                  query  \\\n",
       "0     select count ( * ) from kiến trúc sư where giớ...   \n",
       "1     select tên , quốc tịch , id from kiến trúc sư ...   \n",
       "2     select max ( t1.chiều dài theo mét ) , t2.tên ...   \n",
       "3           select avg ( chiều dài theo feet ) from cầu   \n",
       "4     select tên , năm xây dựng from nhà máy where l...   \n",
       "...                                                 ...   \n",
       "9688  select đội from lần bị loại where bị loại bởi ...   \n",
       "9689     select count ( distinct đội ) from lần bị loại   \n",
       "9690     select count ( distinct đội ) from lần bị loại   \n",
       "9691  select thời gian from lần bị loại where bị loạ...   \n",
       "9692  select thời gian from lần bị loại where bị loạ...   \n",
       "\n",
       "                                             query_toks  \\\n",
       "0     [select, count, (, *, ), from, kiến trúc sư, w...   \n",
       "1     [select, tên, ,, quốc tịch, ,, id, from, kiến ...   \n",
       "2     [select, max, (, t1.chiều dài theo mét, ), ,, ...   \n",
       "3     [select, avg, (, chiều dài theo feet, ), from,...   \n",
       "4     [select, tên, ,, năm xây dựng, from, nhà máy, ...   \n",
       "...                                                 ...   \n",
       "9688  [select, đội, from, lần bị loại, where, bị loạ...   \n",
       "9689  [select, count, (, distinct, đội, ), from, lần...   \n",
       "9690  [select, count, (, distinct, đội, ), from, lần...   \n",
       "9691  [select, thời gian, from, lần bị loại, where, ...   \n",
       "9692  [select, thời gian, from, lần bị loại, where, ...   \n",
       "\n",
       "                                    query_toks_no_value  \\\n",
       "0     [select, count, (, *, ), from, kiến trúc sư, w...   \n",
       "1     [select, tên, ,, quốc tịch, ,, id, from, kiến ...   \n",
       "2     [select, max, (, t1, ., chiều dài theo mét, ),...   \n",
       "3     [select, avg, (, chiều dài theo feet, ), from,...   \n",
       "4     [select, tên, ,, năm xây dựng, from, nhà máy, ...   \n",
       "...                                                 ...   \n",
       "9688  [select, đội, from, lần bị loại, where, bị loạ...   \n",
       "9689  [select, count, (, distinct, đội, ), from, lần...   \n",
       "9690  [select, count, (, distinct, đội, ), from, lần...   \n",
       "9691  [select, thời gian, from, lần bị loại, where, ...   \n",
       "9692  [select, thời gian, from, lần bị loại, where, ...   \n",
       "\n",
       "                                               question  question_E  \\\n",
       "0                 Có tất cả bao nhiêu kiến trúc sư nữ ?         NaN   \n",
       "1     Liệt kê tên , quốc tịch và id của tất cả các k...         NaN   \n",
       "2     Cho biết tên của người kiến trúc sư đã tạo ra ...         NaN   \n",
       "3     Cho biết chiều dài trung bình tính theo feet c...         NaN   \n",
       "4     Cho biết tên và năm xây dựng của các nhà máy t...         NaN   \n",
       "...                                                 ...         ...   \n",
       "9688  Những đội có các đô vật bị loại bởi ' Orton ' ...         NaN   \n",
       "9689  Những đô vật đã bị loại đại diện cho tất cả ba...         NaN   \n",
       "9690  Có bao nhiêu đội khác nhau có thành viên là cá...         NaN   \n",
       "9691  Những đô vật đã bị loại bởi ' Punk ' hoặc ' Or...         NaN   \n",
       "9692  Cho biết thời gian bị loại của các đô vật bị l...         NaN   \n",
       "\n",
       "                                          question_toks  \\\n",
       "0      [Có, tất, cả, bao, nhiêu, kiến, trúc, sư, nữ, ?]   \n",
       "1     [Liệt, kê, tên, ,, quốc, tịch, và, id, của, tấ...   \n",
       "2     [Cho, biết, tên, của, người, kiến, trúc, sư, đ...   \n",
       "3     [Cho, biết, chiều, dài, trung, bình, tính, the...   \n",
       "4     [Cho, biết, tên, và, năm, xây, dựng, của, các,...   \n",
       "...                                                 ...   \n",
       "9688  [Những, đội, có, các, đô, vật, bị, loại, bởi, ...   \n",
       "9689  [Những, đô, vật, đã, bị, loại, đại, diện, cho,...   \n",
       "9690  [Có, bao, nhiêu, đội, khác, nhau, có, thành, v...   \n",
       "9691  [Những, đô, vật, đã, bị, loại, bởi, ', Punk, '...   \n",
       "9692  [Cho, biết, thời, điểm, bị, loại, của, các, đô...   \n",
       "\n",
       "                                                    sql  \n",
       "0     {'except': None, 'from': {'conds': [], 'table_...  \n",
       "1     {'except': None, 'from': {'conds': [], 'table_...  \n",
       "2     {'except': None, 'from': {'conds': [[False, 2,...  \n",
       "3     {'except': None, 'from': {'conds': [], 'table_...  \n",
       "4     {'except': None, 'from': {'conds': [], 'table_...  \n",
       "...                                                 ...  \n",
       "9688  {'except': None, 'from': {'conds': [], 'table_...  \n",
       "9689  {'except': None, 'from': {'conds': [], 'table_...  \n",
       "9690  {'except': None, 'from': {'conds': [], 'table_...  \n",
       "9691  {'except': None, 'from': {'conds': [], 'table_...  \n",
       "9692  {'except': None, 'from': {'conds': [], 'table_...  \n",
       "\n",
       "[9626 rows x 9 columns]"
      ]
     },
     "execution_count": 44,
     "metadata": {},
     "output_type": "execute_result"
    }
   ],
   "source": [
    "DF1.insert(column= 'question_E', loc= 6, value=np.nan)\n",
    "DF1"
   ]
  },
  {
   "cell_type": "code",
   "execution_count": 45,
   "metadata": {},
   "outputs": [],
   "source": [
    "import pandas as pd\n",
    "from deep_translator import GoogleTranslator\n",
    "\n",
    "translator = GoogleTranslator(source='vi', target='en')\n",
    "\n",
    "def translate_text(text):\n",
    "    try:\n",
    "        return translator.translate(text)\n",
    "    except Exception as e:\n",
    "        print(f\"Lỗi khi dịch: {text} -> {e}\")\n",
    "        return text  \n",
    "\n",
    "# DF1[\"question_E\"] = DF1[\"question\"].astype(str).apply(translate_text)"
   ]
  },
  {
   "cell_type": "code",
   "execution_count": 46,
   "metadata": {},
   "outputs": [],
   "source": [
    "DFSQL1 = DFSQL1.rename(columns={'question': 'question_E'})\n",
    "DFSQL2 = DFSQL2.rename(columns={'text_query': 'question_E'})\n",
    "DFSQL2 = DFSQL2.rename(columns={'sql_command': 'query'})"
   ]
  },
  {
   "cell_type": "code",
   "execution_count": 47,
   "metadata": {},
   "outputs": [],
   "source": [
    "# DFSQL1.insert(column= 'question_VN', loc= 2, value=np.nan)\n",
    "\n",
    "\n",
    "import pandas as pd\n",
    "from deep_translator import GoogleTranslator\n",
    "\n",
    "translator = GoogleTranslator(source='en', target='vi')\n",
    "\n",
    "def translate_text(text):\n",
    "    try:\n",
    "        return translator.translate(text)\n",
    "    except Exception as e:\n",
    "        print(f\"Lỗi khi dịch: {text} -> {e}\")\n",
    "        return text  \n",
    "\n",
    "# DFSQL1[\"question_VN\"] = DFSQL1[\"question_E\"].astype(str).apply(translate_text)"
   ]
  },
  {
   "cell_type": "code",
   "execution_count": 48,
   "metadata": {},
   "outputs": [],
   "source": [
    "DFSQL2.insert(column= 'question_VN', loc= 2, value=np.nan)\n",
    "\n",
    "\n",
    "import pandas as pd\n",
    "from deep_translator import GoogleTranslator\n",
    "\n",
    "translator = GoogleTranslator(source='en', target='vi')\n",
    "\n",
    "def translate_text(text):\n",
    "    try:\n",
    "        return translator.translate(text)\n",
    "    except Exception as e:\n",
    "        print(f\"Lỗi khi dịch: {text} -> {e}\")\n",
    "        return text  \n",
    "\n",
    "# DFSQL2[\"question_VN\"] = DFSQL2[\"question_E\"].astype(str).apply(translate_text)"
   ]
  },
  {
   "cell_type": "code",
   "execution_count": 49,
   "metadata": {},
   "outputs": [
    {
     "data": {
      "application/vnd.microsoft.datawrangler.viewer.v0+json": {
       "columns": [
        {
         "name": "index",
         "rawType": "int64",
         "type": "integer"
        },
        {
         "name": "question_E",
         "rawType": "object",
         "type": "string"
        },
        {
         "name": "question_VN",
         "rawType": "object",
         "type": "string"
        },
        {
         "name": "query",
         "rawType": "object",
         "type": "string"
        }
       ],
       "ref": "95310768-6b75-40ea-ba59-1887d4fa0f27",
       "rows": [
        [
         "0",
         "How many female architects are there?",
         "Có tất cả bao nhiêu kiến trúc sư nữ ?",
         "select count ( * ) from kiến trúc sư where giới tính = \"female\""
        ],
        [
         "1",
         "List the names, nationality and IDs of all male architects in the order of name.",
         "Liệt kê tên , quốc tịch và id của tất cả các kiến trúc sư nam theo thứ tự tên .",
         "select tên , quốc tịch , id from kiến trúc sư where giới tính = \"male\" order by tên"
        ],
        [
         "2",
         "Indicates the name of the architect has created the longest bridge as well as the length in the meter of this bridge.",
         "Cho biết tên của người kiến trúc sư đã tạo ra cây cầu dài nhất cũng như là chiều dài tính bằng mét của cây cầu này .",
         "select max ( t1.chiều dài theo mét ) , t2.tên from cầu as t1 join kiến trúc sư as t2 on t1.id kiến trúc sư = t2.id"
        ],
        [
         "3",
         "Indicates the average length calculated by feet of all bridges.",
         "Cho biết chiều dài trung bình tính theo feet của tất cả các cây cầu .",
         "select avg ( chiều dài theo feet ) from cầu"
        ],
        [
         "4",
         "What is the name and year of construction of factories of 'grondzeiler'?",
         "Cho biết tên và năm xây dựng của các nhà máy thuộc loại ' Grondzeiler ' ?",
         "select tên , năm xây dựng from nhà máy where loại = \"Grondzeiler\""
        ],
        [
         "5",
         "The name and nationality of different architects have built a factory.",
         "Cho biết tên và quốc tịch của những kiến trúc sư khác nhau đã từng xây dựng một nhà máy .",
         "select distinct t1.tên , t1.quốc tịch from kiến trúc sư as t1 join nhà máy as t2 on t1.id = t2.id kiến trúc sư"
        ],
        [
         "6",
         "Indicates the names of factories not placed at 'Donceel'.",
         "Cho biết tên của các nhà máy không được đặt tại ' Donceel ' .",
         "select tên from nhà máy where địa điểm != \"Donceel\""
        ],
        [
         "7",
         "Indicates different types of factories have been built by American architects or Canadian architects.",
         "Cho biết các loại nhà máy khác nhau đã được xây dựng bởi các kiến trúc sư người Mỹ hoặc các kiến trúc sư người Canada .",
         "select distinct t1.loại from nhà máy as t1 join kiến trúc sư as t2 on t1.id kiến trúc sư = t2.id where t2.quốc tịch = \"American\" or t2.quốc tịch = \"Canadian\""
        ],
        [
         "8",
         "Indicates the ID and names of the architects have built at least 3 bridges.",
         "Cho biết id và tên của các kiến trúc sư đã xây dựng ít nhất 3 cây cầu .",
         "select t1.id , t1.tên from kiến trúc sư as t1 join cầu as t2 on t1.id = t2.id kiến trúc sư group by t1.id having count ( * ) >= 3"
        ],
        [
         "9",
         "Said the ID, name and nationality of the architect have built the most factories.",
         "Cho biết id , tên và quốc tịch của kiến trúc sư đã xây dựng nhiều nhà máy nhất .",
         "select t1.id , t1.tên , t1.quốc tịch from kiến trúc sư as t1 join nhà máy as t2 on t1.id = t2.id kiến trúc sư group by t1.id order by count ( * ) desc limit 1"
        ],
        [
         "10",
         "Indicates the ID, name and gender of the architects have built two bridges or a factory.",
         "Cho biết id , tên và giới tính của các kiến trúc sư đã xây dựng hai cây cầu hoặc một nhà máy .",
         "select t1.id , t1.tên , t1.giới tính from kiến trúc sư as t1 join cầu as t2 on t1.id = t2.id kiến trúc sư group by t1.id having count ( * ) = 2 union select t1.id , t1.tên , t1.giới tính from kiến trúc sư as t1 join nhà máy as t2 on t1.id = t2.id kiến trúc sư group by t1.id having count ( * ) = 1"
        ],
        [
         "11",
         "It is said that the location of the bridge is called 'Kolob's arch gate' or the bridge is called 'Rainbow Bridge'.",
         "Cho biết địa điểm của cây cầu có tên là ' Cổng vòm Kolob ' hoặc cây cầu có tên là ' Cầu cầu vồng ' .",
         "select địa điểm from cầu where tên = \"Kolob Arch\" or tên = \"Rainbow Bridge\""
        ],
        [
         "12",
         "The name of the factory contains the French word 'moulin' in the name.",
         "Cho biết tên của nhà máy có chứa từ tiếng Pháp ' Moulin ' trong tên .",
         "select tên from nhà máy where tên like \"%Moulin%\""
        ],
        [
         "13",
         "It is said that the names of different factories were built by architects who have built a bridge longer than 80 meters.",
         "Cho biết tên của các nhà máy khác nhau được xây dựng bởi các kiến trúc sư đã từng xây dựng một cây cầu dài hơn 80 mét .",
         "select distinct t1.tên from nhà máy as t1 join kiến trúc sư as t2 on t1.id kiến trúc sư = t2.id join cầu as t3 on t3.id kiến trúc sư = t2.id where t3.chiều dài theo mét > 80"
        ],
        [
         "14",
         "What is the most popular factory and how many factories of this type?",
         "Cho biết loại nhà máy phổ biết nhất và có bao nhiêu nhà máy thuộc loại này ?",
         "select loại , count ( * ) from nhà máy group by loại order by count ( * ) desc limit 1"
        ],
        [
         "15",
         "How many architects have never built a factory before 1850?",
         "Có bao nhiêu kiến ​​trúc sư chưa từng xây dựng một nhà máy nào trước năm 1850 ?",
         "select count ( * ) from kiến trúc sư where id not in ( select id kiến trúc sư from nhà máy where năm xây dựng < 1850 )"
        ],
        [
         "16",
         "Display the names of all bridges designed by American architects and arrange results in the order of the foot length.",
         "Hiển thị tên của tất cả những cây cầu được thiết kế bởi các kiến ​​trúc sư người Mỹ và sắp xếp kết quả theo thứ tự chiều dài chân cầu .",
         "select t1.tên from cầu as t1 join kiến trúc sư as t2 on t1.id kiến trúc sư = t2.id where t2.quốc tịch = \"American\" order by t1.chiều dài theo feet"
        ],
        [
         "17",
         "Display all locations without a cinema with a capacity of over 800.",
         "Hiển thị tất cả các địa điểm không có rạp chiếu phim với sức chứa trên 800 .",
         "select địa điểm from rạp chiếu phim except select địa điểm from rạp chiếu phim where sức chứa > 800"
        ],
        [
         "18",
         "Displaying all locations where some cinemas were opened in 2010 and 2011.",
         "Hiển thị tất cả các địa điểm nơi có một số rạp chiếu phim đã được mở vào năm 2010 và năm 2011 .",
         "select địa điểm from rạp chiếu phim where năm mở cửa = 2010 intersect select địa điểm from rạp chiếu phim where năm mở cửa = 2011"
        ],
        [
         "19",
         "How many cinemas are there?",
         "Có bao nhiêu rạp chiếu phim ?",
         "select count ( * ) from rạp chiếu phim"
        ],
        [
         "20",
         "Count the number of cinemas.",
         "Đếm số lượng rạp chiếu phim .",
         "select count ( * ) from rạp chiếu phim"
        ],
        [
         "21",
         "Display name, year open, and capacity of each cinema.",
         "Hiển thị tên , năm mở cửa , và sức chứa của từng rạp chiếu phim .",
         "select tên , năm mở cửa , sức chứa from rạp chiếu phim"
        ],
        [
         "22",
         "Display names and locations of movie theaters with a capacity above average.",
         "Hiển thị tên và địa điểm của các rạp chiếu phim có sức chứa trên mức trung bình .",
         "select tên , địa điểm from rạp chiếu phim where sức chứa > ( select avg ( sức chứa ) from rạp chiếu phim )"
        ],
        [
         "23",
         "What are the places where there are a few cinemas?",
         "Những địa điểm có một vài rạp chiếu phim là những địa điểm nào ?",
         "select distinct địa điểm from rạp chiếu phim"
        ],
        [
         "24",
         "Find different locations where there are a few cinemas.",
         "Tìm những địa điểm khác nhau nơi có một vài rạp chiếu phim .",
         "select distinct địa điểm from rạp chiếu phim"
        ],
        [
         "25",
         "Display the names of all cinemas and the opening year of each theater in the order of the opening year.",
         "Hiển thị tên của tất cả các rạp chiếu phim và năm mở cửa của từng rạp theo thứ tự giảm dần về năm mở cửa .",
         "select tên , năm mở cửa from rạp chiếu phim order by năm mở cửa desc"
        ],
        [
         "26",
         "Indicates the name and location of the cinema with the largest capacity.",
         "Cho biết tên và địa điểm của rạp chiếu phim có sức chứa lớn nhất .",
         "select tên , địa điểm from rạp chiếu phim order by sức chứa desc limit 1"
        ],
        [
         "27",
         "Show average capacity, minimum capacity and maximum capacity of all cinemas opened after 2011.",
         "Hiển thị sức chứa trung bình , sức chứa tối thiểu và sức chứa tối đa của tất cả các rạp chiếu phim được mở từ sau năm 2011 .",
         "select avg ( sức chứa ) , min ( sức chứa ) , max ( sức chứa ) from rạp chiếu phim where năm mở cửa >= 2011"
        ],
        [
         "28",
         "Display all locations and number of cinemas in each location.",
         "Hiển thị tất cả các địa điểm và số lượng rạp chiếu phim ở mỗi địa điểm .",
         "select địa điểm , count ( * ) from rạp chiếu phim group by địa điểm"
        ],
        [
         "29",
         "The location has the most movie theaters opened in 2010 or then lying?",
         "Địa điểm có nhiều rạp chiếu phim nhất được mở trong năm 2010 hoặc sau đó nằm ở đâu ?",
         "select địa điểm from rạp chiếu phim where năm mở cửa >= 2010 group by địa điểm order by count ( * ) desc limit 1"
        ],
        [
         "30",
         "Display all locations with at least two cinemas with a capacity of over 300.",
         "Hiển thị tất cả các địa điểm có ít nhất hai rạp chiếu phim với sức chứa trên 300 .",
         "select địa điểm from rạp chiếu phim where sức chứa > 300 group by địa điểm having count ( * ) >= 2"
        ],
        [
         "31",
         "Which places have 2 cinemas from 2 cinemas with a capacity greater than 300?",
         "Những địa điểm nào có từ 2 rạp chiếu phim với sức chứa lớn hơn 300 ?",
         "select địa điểm from rạp chiếu phim where sức chứa > 300 group by địa điểm having count ( * ) >= 2"
        ],
        [
         "32",
         "Showing the title and director of all films.",
         "Hiển thị tiêu đề và đạo diễn của tất cả các bộ phim .",
         "select tiêu đề , được đạo diễn bởi from phim"
        ],
        [
         "33",
         "Title and director of each movie?",
         "Tiêu đề và đạo diễn của từng bộ phim ?",
         "select tiêu đề , được đạo diễn bởi from phim"
        ],
        [
         "34",
         "Show all directors.",
         "Hiển thị tất cả các đạo diễn .",
         "select distinct được đạo diễn bởi from phim"
        ],
        [
         "35",
         "List all directors.",
         "Liệt kê tất cả các đạo diễn .",
         "select distinct được đạo diễn bởi from phim"
        ],
        [
         "36",
         "List all directors with the number of movies of each person.",
         "Liệt kê tất cả các đạo diễn cùng với số lượng phim của từng người .",
         "select được đạo diễn bởi , count ( * ) from phim group by được đạo diễn bởi"
        ],
        [
         "37",
         "Indicates the total number of every day of each cinema.",
         "Cho biết tổng số suất chiếu mỗi ngày của từng rạp chiếu phim .",
         "select t2.tên , sum ( t1.số lượng suất chiếu mỗi ngày ) from lịch chiếu phim as t1 join rạp chiếu phim as t2 on t1.id rạp chiếu phim = t2.id rạp chiếu phim group by t1.id rạp chiếu phim"
        ],
        [
         "38",
         "Indicate the title and the highest price of each movie.",
         "Cho biết tiêu đề và giá cao nhất của mỗi bộ phim .",
         "select t2.tiêu đề , max ( t1.giá ) from lịch chiếu phim as t1 join phim as t2 on t1.id phim = t2.id phim group by t1.id phim"
        ],
        [
         "39",
         "The title and the highest price of each movie?",
         "Tiêu đề và giá cao nhất của từng bộ phim ?",
         "select t2.tiêu đề , max ( t1.giá ) from lịch chiếu phim as t1 join phim as t2 on t1.id phim = t2.id phim group by t1.id phim"
        ],
        [
         "40",
         "Displaying the name of the cinema, the title, the show date and the price of each movie in the projection schedule.",
         "Hiển thị tên rạp chiếu phim , tiêu đề , ngày chiếu và giá của từng bộ phim có trong lịch chiếu .",
         "select t3.tên , t2.tiêu đề , t1.ngày , t1.giá from lịch chiếu phim as t1 join phim as t2 on t1.id phim = t2.id phim join rạp chiếu phim as t3 on t1.id rạp chiếu phim = t3.id rạp chiếu phim"
        ],
        [
         "41",
         "Indicates the title and director of the films that are not in the schedule.",
         "Cho biết tiêu đề và đạo diễn của những bộ phim không nằm trong lịch chiếu .",
         "select tiêu đề , được đạo diễn bởi from phim where id phim not in ( select id phim from lịch chiếu phim )"
        ],
        [
         "42",
         "Said the director had the most premiere.",
         "Cho biết người đạo diễn có nhiều lần công chiếu nhất .",
         "select t2.được đạo diễn bởi from lịch chiếu phim as t1 join phim as t2 on t1.id phim = t2.id phim group by t2.được đạo diễn bởi order by sum ( t1.số lượng suất chiếu mỗi ngày ) desc limit 1"
        ],
        [
         "43",
         "Find places with more than one cinema with a capacity of over 300.",
         "Tìm các địa điểm có nhiều hơn một rạp chiếu phim với sức chứa trên 300 .",
         "select địa điểm from rạp chiếu phim where sức chứa > 300 group by địa điểm having count ( * ) > 1"
        ],
        [
         "44",
         "Which places have more than a cinema with a capacity of over 300?",
         "Những địa điểm nào có nhiều hơn một rạp chiếu phim với sức chứa trên 300 ?",
         "select địa điểm from rạp chiếu phim where sức chứa > 300 group by địa điểm having count ( * ) > 1"
        ],
        [
         "45",
         "How many films have the word 'dummy' in the title?",
         "Có bao nhiêu bộ phim có từ ' Dummy ' trong tựa đề ?",
         "select count ( * ) from phim where tiêu đề like \"%Dummy%\""
        ],
        [
         "46",
         "Count the number of movies titled 'Dummy'.",
         "Đếm số lượng phim có tựa đề chứa từ ' Dummy ' .",
         "select count ( * ) from phim where tiêu đề like \"%Dummy%\""
        ],
        [
         "47",
         "How many courses are there in total?",
         "Tổng cộng có bao nhiêu khoá học ?",
         "select count ( * ) from khoá học"
        ],
        [
         "48",
         "Count the number of courses.",
         "Đếm số lượng các khoá học .",
         "select count ( * ) from khoá học"
        ],
        [
         "49",
         "How many courses offer more than 2 credits?",
         "Có bao nhiêu khoá học cung cấp nhiều hơn 2 tín chỉ ?",
         "select count ( * ) from khoá học where số lượng tín chỉ > 2"
        ]
       ],
       "shape": {
        "columns": 3,
        "rows": 83014
       }
      },
      "text/html": [
       "<div>\n",
       "<style scoped>\n",
       "    .dataframe tbody tr th:only-of-type {\n",
       "        vertical-align: middle;\n",
       "    }\n",
       "\n",
       "    .dataframe tbody tr th {\n",
       "        vertical-align: top;\n",
       "    }\n",
       "\n",
       "    .dataframe thead th {\n",
       "        text-align: right;\n",
       "    }\n",
       "</style>\n",
       "<table border=\"1\" class=\"dataframe\">\n",
       "  <thead>\n",
       "    <tr style=\"text-align: right;\">\n",
       "      <th></th>\n",
       "      <th>question_E</th>\n",
       "      <th>question_VN</th>\n",
       "      <th>query</th>\n",
       "    </tr>\n",
       "  </thead>\n",
       "  <tbody>\n",
       "    <tr>\n",
       "      <th>0</th>\n",
       "      <td>How many female architects are there?</td>\n",
       "      <td>Có tất cả bao nhiêu kiến trúc sư nữ ?</td>\n",
       "      <td>select count ( * ) from kiến trúc sư where giớ...</td>\n",
       "    </tr>\n",
       "    <tr>\n",
       "      <th>1</th>\n",
       "      <td>List the names, nationality and IDs of all mal...</td>\n",
       "      <td>Liệt kê tên , quốc tịch và id của tất cả các k...</td>\n",
       "      <td>select tên , quốc tịch , id from kiến trúc sư ...</td>\n",
       "    </tr>\n",
       "    <tr>\n",
       "      <th>2</th>\n",
       "      <td>Indicates the name of the architect has create...</td>\n",
       "      <td>Cho biết tên của người kiến trúc sư đã tạo ra ...</td>\n",
       "      <td>select max ( t1.chiều dài theo mét ) , t2.tên ...</td>\n",
       "    </tr>\n",
       "    <tr>\n",
       "      <th>3</th>\n",
       "      <td>Indicates the average length calculated by fee...</td>\n",
       "      <td>Cho biết chiều dài trung bình tính theo feet c...</td>\n",
       "      <td>select avg ( chiều dài theo feet ) from cầu</td>\n",
       "    </tr>\n",
       "    <tr>\n",
       "      <th>4</th>\n",
       "      <td>What is the name and year of construction of f...</td>\n",
       "      <td>Cho biết tên và năm xây dựng của các nhà máy t...</td>\n",
       "      <td>select tên , năm xây dựng from nhà máy where l...</td>\n",
       "    </tr>\n",
       "    <tr>\n",
       "      <th>...</th>\n",
       "      <td>...</td>\n",
       "      <td>...</td>\n",
       "      <td>...</td>\n",
       "    </tr>\n",
       "    <tr>\n",
       "      <th>8029</th>\n",
       "      <td>What are the citizenships that are shared by s...</td>\n",
       "      <td>Các công dân được chia sẻ bởi các ca sĩ với mộ...</td>\n",
       "      <td>SELECT Citizenship FROM singer WHERE Birth_Yea...</td>\n",
       "    </tr>\n",
       "    <tr>\n",
       "      <th>8030</th>\n",
       "      <td>How many available features are there in total?</td>\n",
       "      <td>Tổng cộng có bao nhiêu tính năng có sẵn?</td>\n",
       "      <td>SELECT count(*) FROM Other_Available_Features</td>\n",
       "    </tr>\n",
       "    <tr>\n",
       "      <th>8031</th>\n",
       "      <td>What is the feature type name of feature AirCon?</td>\n",
       "      <td>Tên loại tính năng của tính năng AirCon là gì?</td>\n",
       "      <td>SELECT T2.feature_type_name FROM Other_Availab...</td>\n",
       "    </tr>\n",
       "    <tr>\n",
       "      <th>8032</th>\n",
       "      <td>Show the property type descriptions of propert...</td>\n",
       "      <td>Hiển thị các mô tả loại thuộc tính của các thu...</td>\n",
       "      <td>SELECT T2.property_type_description FROM Prope...</td>\n",
       "    </tr>\n",
       "    <tr>\n",
       "      <th>8033</th>\n",
       "      <td>What are the names of properties that are eith...</td>\n",
       "      <td>Tên của các tài sản là nhà ở hoặc căn hộ có hơ...</td>\n",
       "      <td>SELECT property_name FROM Properties WHERE pro...</td>\n",
       "    </tr>\n",
       "  </tbody>\n",
       "</table>\n",
       "<p>83014 rows × 3 columns</p>\n",
       "</div>"
      ],
      "text/plain": [
       "                                             question_E  \\\n",
       "0                 How many female architects are there?   \n",
       "1     List the names, nationality and IDs of all mal...   \n",
       "2     Indicates the name of the architect has create...   \n",
       "3     Indicates the average length calculated by fee...   \n",
       "4     What is the name and year of construction of f...   \n",
       "...                                                 ...   \n",
       "8029  What are the citizenships that are shared by s...   \n",
       "8030    How many available features are there in total?   \n",
       "8031   What is the feature type name of feature AirCon?   \n",
       "8032  Show the property type descriptions of propert...   \n",
       "8033  What are the names of properties that are eith...   \n",
       "\n",
       "                                            question_VN  \\\n",
       "0                 Có tất cả bao nhiêu kiến trúc sư nữ ?   \n",
       "1     Liệt kê tên , quốc tịch và id của tất cả các k...   \n",
       "2     Cho biết tên của người kiến trúc sư đã tạo ra ...   \n",
       "3     Cho biết chiều dài trung bình tính theo feet c...   \n",
       "4     Cho biết tên và năm xây dựng của các nhà máy t...   \n",
       "...                                                 ...   \n",
       "8029  Các công dân được chia sẻ bởi các ca sĩ với mộ...   \n",
       "8030           Tổng cộng có bao nhiêu tính năng có sẵn?   \n",
       "8031     Tên loại tính năng của tính năng AirCon là gì?   \n",
       "8032  Hiển thị các mô tả loại thuộc tính của các thu...   \n",
       "8033  Tên của các tài sản là nhà ở hoặc căn hộ có hơ...   \n",
       "\n",
       "                                                  query  \n",
       "0     select count ( * ) from kiến trúc sư where giớ...  \n",
       "1     select tên , quốc tịch , id from kiến trúc sư ...  \n",
       "2     select max ( t1.chiều dài theo mét ) , t2.tên ...  \n",
       "3           select avg ( chiều dài theo feet ) from cầu  \n",
       "4     select tên , năm xây dựng from nhà máy where l...  \n",
       "...                                                 ...  \n",
       "8029  SELECT Citizenship FROM singer WHERE Birth_Yea...  \n",
       "8030      SELECT count(*) FROM Other_Available_Features  \n",
       "8031  SELECT T2.feature_type_name FROM Other_Availab...  \n",
       "8032  SELECT T2.property_type_description FROM Prope...  \n",
       "8033  SELECT property_name FROM Properties WHERE pro...  \n",
       "\n",
       "[83014 rows x 3 columns]"
      ]
     },
     "execution_count": 49,
     "metadata": {},
     "output_type": "execute_result"
    }
   ],
   "source": [
    "DFT1 = pd.read_csv(r\"E:\\Project_MachineLearning_NguyenMinhVu\\Source\\Basic-text-to-SQL-conversion\\Datasets Train\\DF1.csv\")\n",
    "DFT2 = pd.read_csv(r\"E:\\Project_MachineLearning_NguyenMinhVu\\Source\\Basic-text-to-SQL-conversion\\Datasets Train\\DFSQL1.csv\")\n",
    "DFT3 = pd.read_csv(r\"E:\\Project_MachineLearning_NguyenMinhVu\\Source\\Basic-text-to-SQL-conversion\\Datasets Train\\DFSQL2.csv\")\n",
    "\n",
    "DFT1 = DFT1.rename(columns={'question': 'question_VN'})\n",
    "\n",
    "DFT1 = DFT1[['question_E', 'question_VN', 'query']]\n",
    "DFT2 = DFT2[['question_E', 'question_VN', 'query']]\n",
    "DFT3 = DFT3[['question_E', 'question_VN', 'query']]\n",
    "\n",
    "DF_train = pd.concat([DFT1, DFT2, DFT3], axis=0)\n",
    "DF_train"
   ]
  },
  {
   "cell_type": "code",
   "execution_count": 50,
   "metadata": {},
   "outputs": [
    {
     "name": "stderr",
     "output_type": "stream",
     "text": [
      "You are using the default legacy behaviour of the <class 'transformers.models.t5.tokenization_t5.T5Tokenizer'>. This is expected, and simply means that the `legacy` (previous) behavior will be used so nothing changes for you. If you want to use the new behaviour, set `legacy=False`. This should only be set if you understand what it means, and thoroughly read the reason why this was added as explained in https://github.com/huggingface/transformers/pull/24565\n"
     ]
    },
    {
     "data": {
      "application/vnd.jupyter.widget-view+json": {
       "model_id": "a4d1298a94f14e25af139cbf256fb760",
       "version_major": 2,
       "version_minor": 0
      },
      "text/plain": [
       "Map:   0%|          | 0/83014 [00:00<?, ? examples/s]"
      ]
     },
     "metadata": {},
     "output_type": "display_data"
    },
    {
     "name": "stderr",
     "output_type": "stream",
     "text": [
      "c:\\Users\\minhv\\anaconda3\\envs\\pytorch-env\\lib\\site-packages\\transformers\\training_args.py:1594: FutureWarning: `evaluation_strategy` is deprecated and will be removed in version 4.46 of 🤗 Transformers. Use `eval_strategy` instead\n",
      "  warnings.warn(\n",
      "C:\\Users\\minhv\\AppData\\Local\\Temp\\ipykernel_24060\\630767392.py:32: FutureWarning: `tokenizer` is deprecated and will be removed in version 5.0.0 for `Trainer.__init__`. Use `processing_class` instead.\n",
      "  trainer = Trainer(\n"
     ]
    }
   ],
   "source": [
    "data = [\n",
    "    {\"input\": f\"{q}\", \"output\": sql} \n",
    "    for q, sql in zip(DF_train[\"question_E\"], DF_train[\"query\"])\n",
    "]\n",
    "dataset = Dataset.from_pandas(pd.DataFrame(data))\n",
    "model_name = \"t5-small\"\n",
    "tokenizer = T5Tokenizer.from_pretrained(model_name)\n",
    "model = T5ForConditionalGeneration.from_pretrained(model_name)\n",
    "def preprocess_function(examples):\n",
    "    inputs = tokenizer(examples[\"input\"], padding=\"max_length\", truncation=True, max_length=512)\n",
    "    outputs = tokenizer(examples[\"output\"], padding=\"max_length\", truncation=True, max_length=512)\n",
    "    inputs[\"labels\"] = outputs[\"input_ids\"]\n",
    "    return inputs\n",
    "\n",
    "tokenized_dataset = dataset.map(preprocess_function, batched=True)\n",
    "train_test_split = tokenized_dataset.train_test_split(test_size=0.1)\n",
    "train_dataset = train_test_split[\"train\"]\n",
    "test_dataset = train_test_split[\"test\"]\n",
    "training_args = TrainingArguments(\n",
    "    output_dir=\"./t5_sql_model\",\n",
    "    evaluation_strategy=\"epoch\",\n",
    "    save_strategy=\"epoch\",\n",
    "    per_device_train_batch_size=8,\n",
    "    per_device_eval_batch_size=8,\n",
    "    learning_rate=5e-5,                 \n",
    "    num_train_epochs=10,  \n",
    "    weight_decay=0.01,\n",
    "    logging_dir=\"./logs\",\n",
    "    logging_steps=10,\n",
    "    save_total_limit=2,\n",
    ")\n",
    "trainer = Trainer(\n",
    "    model=model,\n",
    "    args=training_args,\n",
    "    train_dataset=train_dataset,\n",
    "    eval_dataset=test_dataset,\n",
    "    tokenizer=tokenizer,\n",
    ")\n",
    "# trainer.train()\n"
   ]
  },
  {
   "cell_type": "code",
   "execution_count": 51,
   "metadata": {},
   "outputs": [],
   "source": [
    "# def generate_sql_debug(question):\n",
    "#     input_text = f\"{question}\"\n",
    "#     inputs = tokenizer(input_text, return_tensors=\"pt\", truncation=True, max_length=512)\n",
    "#     inputs = {key: val.to(device) for key, val in inputs.items()}\n",
    "#     print(\"Input tokens:\", inputs[\"input_ids\"])\n",
    "#     outputs = model.generate(**inputs)\n",
    "#     print(\"Output tokens:\", outputs)\n",
    "#     return tokenizer.decode(outputs[0], skip_special_tokens=True)\n",
    "\n",
    "# device = torch.device(\"cuda\" if torch.cuda.is_available() else \"cpu\")\n",
    "# model.to(device)\n",
    "\n",
    "# test_question =\"Cho biết tên của các khoa hiện đang làm việc ở tòa nhà 'Mergenthaler'?\"\n",
    "# print(generate_sql_debug(test_question))"
   ]
  },
  {
   "cell_type": "code",
   "execution_count": 52,
   "metadata": {},
   "outputs": [
    {
     "name": "stdout",
     "output_type": "stream",
     "text": [
      "Có bao nhiêu công ty tất cả ?\n",
      "select count ( * ) from công ty\n"
     ]
    }
   ],
   "source": [
    "import re\n",
    "\n",
    "question = \"Có bao nhiêu công ty tất cả ?\"\n",
    "\n",
    "question = re.sub(r\"'\", r\" ' \", question) \n",
    "question = re.sub(r\"\\(\", r\"( \", question)  \n",
    "question = re.sub(r\"\\)\", r\" )\", question) \n",
    "question = re.sub(r\"([?!])\", r\" \\1\", question)  \n",
    "question = re.sub(r\"(?<=[A-Za-z])\\s*,\\s*\", \" , \", question) \n",
    "question = re.sub(r\"(?<=[^0-9])\\s*,\\s*\", \" , \", question) \n",
    "question = re.sub(r\"(?<=[A-Za-z])\\s*\\.\\s*\", \" . \", question) \n",
    "question = re.sub(r\"(?<=[^0-9])\\s*\\.\\s*\", \" . \", question)  \n",
    "question = re.sub(r\"(?<=\\d),(?=\\d)\", \",\", question)  \n",
    "question = re.sub(r\"(?<=\\d)\\.(?=\\d)\", \".\", question)  \n",
    "question = re.sub(r\"\\s+\", \" \", question).strip()\n",
    "\n",
    "print(question)\n",
    "if question in DF_train['question_E'].values:  \n",
    "    query_result = DF_train.loc[DF_train['question_E'] == question, 'query'].values[0]\n",
    "    print(query_result)\n",
    "elif question in DF_train['question_VN'].values:\n",
    "    query_result = DF_train.loc[DF_train['question_VN'] == question, 'query'].values[0]\n",
    "    print(query_result)"
   ]
  },
  {
   "cell_type": "code",
   "execution_count": 53,
   "metadata": {},
   "outputs": [],
   "source": [
    "# from transformers import AutoTokenizer, AutoModel\n",
    "\n",
    "# model_name = \"t5-small\"\n",
    "# tokenizer = AutoTokenizer.from_pretrained(model_name)\n",
    "# model = AutoModel.from_pretrained(model_name)\n",
    "\n",
    "# # Lưu mô hình vào thư mục local\n",
    "# model.save_pretrained(\"./t5-small\")\n",
    "# tokenizer.save_pretrained(\"./t5-small\")\n"
   ]
  },
  {
   "cell_type": "code",
   "execution_count": 54,
   "metadata": {},
   "outputs": [],
   "source": [
    "# import torch\n",
    "# from transformers import T5Tokenizer, T5ForConditionalGeneration\n",
    "\n",
    "# # Load model & tokenizer\n",
    "# MODEL_PATH = \"./t5_sql_model\"  # Chỉnh sửa để trỏ đến checkpoint tốt nhất\n",
    "# tokenizer = T5Tokenizer.from_pretrained(MODEL_PATH)\n",
    "# model = T5ForConditionalGeneration.from_pretrained(MODEL_PATH)\n",
    "\n",
    "# # Chuyển model sang GPU (nếu có)\n",
    "# device = torch.device(\"cuda\" if torch.cuda.is_available() else \"cpu\")\n",
    "# model.to(device)\n",
    "# model.eval()  # Đưa về chế độ inference, giúp tăng tốc độ\n",
    "\n",
    "# def generate_sql_debug(question):\n",
    "#     \"\"\"Chuyển đổi câu hỏi ngôn ngữ tự nhiên sang SQL.\"\"\"\n",
    "#     inputs = tokenizer(question, return_tensors=\"pt\", truncation=True, max_length=256).to(device)\n",
    "\n",
    "#     with torch.no_grad():  # Tắt gradient để tiết kiệm RAM\n",
    "#         with torch.cuda.amp.autocast():  # Dùng float16 trên GPU nếu có\n",
    "#             outputs = model.generate(**inputs, max_length=256)  # Giới hạn output tránh sinh quá dài\n",
    "\n",
    "#     return tokenizer.decode(outputs[0], skip_special_tokens=True)\n",
    "\n",
    "\n",
    "# def generate_sql_debug(question):\n",
    "#     input_text = f\"{question}\"\n",
    "#     inputs = tokenizer(input_text, return_tensors=\"pt\", truncation=True, max_length=512)\n",
    "#     inputs = {key: val.to(device) for key, val in inputs.items()}\n",
    "#     print(\"Input tokens:\", inputs[\"input_ids\"])\n",
    "#     outputs = model.generate(**inputs)\n",
    "#     print(\"Output tokens:\", outputs)\n",
    "#     return tokenizer.decode(outputs[0], skip_special_tokens=True)\n",
    "\n",
    "\n",
    "# # Test\n",
    "# test_question = \"Cho biết tên của các khoa hiện đang làm việc ở tòa nhà 'Mergenthaler'?\"\n",
    "# print(generate_sql_debug(test_question))\n"
   ]
  },
  {
   "cell_type": "code",
   "execution_count": 57,
   "metadata": {},
   "outputs": [
    {
     "name": "stdout",
     "output_type": "stream",
     "text": [
      "SQL Query: select a im from quán ăn where năm  2000 and năm  2010\n"
     ]
    }
   ],
   "source": [
    "from transformers import T5Tokenizer, T5ForConditionalGeneration\n",
    "\n",
    "def nl2sql(question, model_path=r\"E:\\Project_MachineLearning_NguyenMinhVu\\Source\\Basic-text-to-SQL-conversion\\Python\\t5_sql_model\\checkpoint-28017\"):\n",
    "    \"\"\"\n",
    "    Chuyển đổi câu hỏi tự nhiên thành câu lệnh SQL bằng mô hình đã huấn luyện.\n",
    "\n",
    "    Args:\n",
    "        question (str): Câu hỏi tự nhiên.\n",
    "        model_path (str): Đường dẫn đến mô hình đã train.\n",
    "\n",
    "    Returns:\n",
    "        str: Câu lệnh SQL tương ứng.\n",
    "    \"\"\"\n",
    "    # Load tokenizer và mô hình\n",
    "    tokenizer = T5Tokenizer.from_pretrained(model_path)\n",
    "    model = T5ForConditionalGeneration.from_pretrained(model_path)\n",
    "\n",
    "    # Tokenize câu hỏi đầu vào\n",
    "    inputs = tokenizer(question, return_tensors=\"pt\", padding=True, truncation=True, max_length=512)\n",
    "\n",
    "    # Tạo câu lệnh SQL dự đoán\n",
    "    outputs = model.generate(**inputs, max_length=512)\n",
    "    sql_query = tokenizer.decode(outputs[0], skip_special_tokens=True)\n",
    "\n",
    "    return sql_query\n",
    "\n",
    "# Ví dụ sử dụng\n",
    "question = \"Hiển thị tất cả các địa điểm nơi có một quán ăn đã được mở vào năm 2000 và năm 2010 .\"\n",
    "sql_result = nl2sql(question)\n",
    "print(\"SQL Query:\", sql_result)\n"
   ]
  }
 ],
 "metadata": {
  "kernelspec": {
   "display_name": "pytorch-env",
   "language": "python",
   "name": "python3"
  },
  "language_info": {
   "codemirror_mode": {
    "name": "ipython",
    "version": 3
   },
   "file_extension": ".py",
   "mimetype": "text/x-python",
   "name": "python",
   "nbconvert_exporter": "python",
   "pygments_lexer": "ipython3",
   "version": "3.10.16"
  }
 },
 "nbformat": 4,
 "nbformat_minor": 2
}
